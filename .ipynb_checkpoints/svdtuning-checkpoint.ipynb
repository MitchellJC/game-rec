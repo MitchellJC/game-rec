{
 "cells": [
  {
   "cell_type": "code",
   "execution_count": 15,
   "id": "cfd28a59-588e-47cc-ab61-bb9e8674854a",
   "metadata": {},
   "outputs": [
    {
     "name": "stdin",
     "output_type": "stream",
     "text": [
      "Once deleted, variables cannot be recovered. Proceed (y/[n])?  y\n"
     ]
    }
   ],
   "source": [
    "%reset"
   ]
  },
  {
   "cell_type": "code",
   "execution_count": 16,
   "id": "2b35e932-407e-4160-878a-1547e900cce9",
   "metadata": {},
   "outputs": [],
   "source": [
    "import numpy as np\n",
    "from scipy.sparse import csr_array, lil_array\n",
    "import matplotlib.pyplot as plt\n",
    "import pandas as pd\n",
    "import math\n",
    "import pickle\n",
    "import time\n",
    "import datetime\n",
    "import random\n",
    "from pprint import pprint\n",
    "\n",
    "from SVD import Metrics, SVDPredictor, LogisticSVD, FastLogisticSVD\n",
    "from RecData import RecData"
   ]
  },
  {
   "cell_type": "code",
   "execution_count": 17,
   "id": "86929969-e5de-468e-b024-80cf550c6e8f",
   "metadata": {},
   "outputs": [
    {
     "name": "stdout",
     "output_type": "stream",
     "text": [
      "Shape: (4375587, 3)\n"
     ]
    },
    {
     "data": {
      "text/html": [
       "<div>\n",
       "<style scoped>\n",
       "    .dataframe tbody tr th:only-of-type {\n",
       "        vertical-align: middle;\n",
       "    }\n",
       "\n",
       "    .dataframe tbody tr th {\n",
       "        vertical-align: top;\n",
       "    }\n",
       "\n",
       "    .dataframe thead th {\n",
       "        text-align: right;\n",
       "    }\n",
       "</style>\n",
       "<table border=\"1\" class=\"dataframe\">\n",
       "  <thead>\n",
       "    <tr style=\"text-align: right;\">\n",
       "      <th></th>\n",
       "      <th>app_id</th>\n",
       "      <th>is_recommended</th>\n",
       "      <th>user_id</th>\n",
       "    </tr>\n",
       "  </thead>\n",
       "  <tbody>\n",
       "    <tr>\n",
       "      <th>1854279</th>\n",
       "      <td>1229490</td>\n",
       "      <td>True</td>\n",
       "      <td>5328855</td>\n",
       "    </tr>\n",
       "    <tr>\n",
       "      <th>2779930</th>\n",
       "      <td>227300</td>\n",
       "      <td>True</td>\n",
       "      <td>4434483</td>\n",
       "    </tr>\n",
       "    <tr>\n",
       "      <th>1909195</th>\n",
       "      <td>32470</td>\n",
       "      <td>True</td>\n",
       "      <td>6370638</td>\n",
       "    </tr>\n",
       "    <tr>\n",
       "      <th>3514406</th>\n",
       "      <td>1419170</td>\n",
       "      <td>True</td>\n",
       "      <td>1729338</td>\n",
       "    </tr>\n",
       "    <tr>\n",
       "      <th>1016269</th>\n",
       "      <td>1085660</td>\n",
       "      <td>False</td>\n",
       "      <td>4769736</td>\n",
       "    </tr>\n",
       "  </tbody>\n",
       "</table>\n",
       "</div>"
      ],
      "text/plain": [
       "          app_id  is_recommended  user_id\n",
       "1854279  1229490            True  5328855\n",
       "2779930   227300            True  4434483\n",
       "1909195    32470            True  6370638\n",
       "3514406  1419170            True  1729338\n",
       "1016269  1085660           False  4769736"
      ]
     },
     "execution_count": 17,
     "metadata": {},
     "output_type": "execute_result"
    }
   ],
   "source": [
    "# recs = pd.read_csv('data/recommendations.csv')\n",
    "# recs = pd.read_csv('data/pruned.csv')\n",
    "recs = pd.read_csv('data/sample.csv')\n",
    "\n",
    "# Remove old ratings\n",
    "recs = recs.sort_values(by=['date'], ascending=False)\n",
    "recs.drop_duplicates(subset= ['app_id', 'user_id'], inplace=True) \n",
    "\n",
    "USED_COLS = ['app_id', 'is_recommended', 'user_id']\n",
    "recs = recs[USED_COLS]\n",
    "\n",
    "item_data = pd.read_csv('data/games.csv')\n",
    "titles = item_data[['app_id', 'title']]\n",
    "\n",
    "print(\"Shape:\", recs.shape)\n",
    "recs.head()"
   ]
  },
  {
   "cell_type": "code",
   "execution_count": 18,
   "id": "78f0adeb-df3b-4750-b1f5-91c115d6238e",
   "metadata": {},
   "outputs": [
    {
     "name": "stdout",
     "output_type": "stream",
     "text": [
      "Creating utility matrix...\n",
      "Done utility matrix.\n",
      "Creating splits...\n",
      "First split done.\n",
      "Done creating splits in 31.511493921279907 seconds\n"
     ]
    }
   ],
   "source": [
    "random.seed(42)\n",
    "np.random.seed(42)\n",
    "\n",
    "rec_data = RecData()\n",
    "rec_data.create_from_dataframe(recs)\n",
    "rec_data.set_titles(titles)\n",
    "\n",
    "del recs\n",
    "\n",
    "start_time = time.time()\n",
    "print(\"Creating splits...\")\n",
    "train_data, test = rec_data.train_test_split(test_size=0.2)\n",
    "print(\"First split done.\")\n",
    "train_data, val = train_data.train_test_split(test_size=0.2)\n",
    "print(\"Done creating splits in\", time.time() - start_time, \"seconds\")"
   ]
  },
  {
   "cell_type": "code",
   "execution_count": 5,
   "id": "d633ed7d-64ec-4423-94e4-f8f31cf4f832",
   "metadata": {},
   "outputs": [],
   "source": [
    "# random.seed(42)\n",
    "# np.random.seed(42)\n",
    "\n",
    "# rec_data = RecData()\n",
    "# rec_data.create_from_dataframe(recs)\n",
    "# rec_data.set_titles(titles)\n",
    "\n",
    "# del recs\n",
    "\n",
    "# print(\"Creating splits...\")\n",
    "# train_data, val, test = rec_data.leave_k_out_split(k=1)\n",
    "# print(\"Done creating splits.\")"
   ]
  },
  {
   "cell_type": "code",
   "execution_count": 19,
   "id": "55f5d9d9-039c-485f-abf7-e8cc5448cedb",
   "metadata": {},
   "outputs": [],
   "source": [
    "del rec_data\n",
    "del item_data\n",
    "del titles"
   ]
  },
  {
   "cell_type": "code",
   "execution_count": 20,
   "id": "5cb4b4a6-76ca-4200-8e02-53c6bf30ab6e",
   "metadata": {},
   "outputs": [
    {
     "name": "stdout",
     "output_type": "stream",
     "text": [
      "Epoch 0/Training error: 0.6931467798172164/Validation error: 0.6931469871063106/Time: 11.68 seconds\n",
      "Epoch 1/Training error: 0.6931466053053833/Validation error: 0.6931470506225954/Time: 11.79 seconds\n",
      "Epoch 2/Training error: 0.6931464526107423/Validation error: 0.6931470938240989/Time: 11.75 seconds\n",
      "Epoch 3/Training error: 0.6931463154941053/Validation error: 0.6931471228112254/Time: 11.71 seconds\n",
      "Epoch 4/Training error: 0.6931461853905346/Validation error: 0.6931471474584482/Time: 11.78 seconds\n",
      "Epoch 5/Training error: 0.693146066427856/Validation error: 0.6931471622468784/Time: 12.51 seconds\n",
      "Epoch 6/Training error: 0.693145949792352/Validation error: 0.6931471772257165/Time: 11.82 seconds\n",
      "Epoch 7/Training error: 0.693145839141926/Validation error: 0.6931471859682317/Time: 11.61 seconds\n",
      "Epoch 8/Training error: 0.693145734543431/Validation error: 0.6931471939119229/Time: 11.68 seconds\n",
      "Epoch 9/Training error: 0.6931456336827115/Validation error: 0.6931471986643242/Time: 11.64 seconds\n",
      "Epoch 10/Training error: 0.6931455339442885/Validation error: 0.6931471988128165/Time: 11.65 seconds\n",
      "Epoch 11/Training error: 0.6931454387838365/Validation error: 0.6931472026505321/Time: 11.74 seconds\n",
      "Epoch 12/Training error: 0.6931453434249233/Validation error: 0.6931472080362174/Time: 11.65 seconds\n",
      "Epoch 13/Training error: 0.6931452514595041/Validation error: 0.6931472063459125/Time: 11.68 seconds\n",
      "Epoch 14/Training error: 0.6931451618236859/Validation error: 0.6931472031837991/Time: 11.78 seconds\n",
      "Epoch 15/Training error: 0.6931450744801159/Validation error: 0.6931472043631094/Time: 11.65 seconds\n",
      "Epoch 16/Training error: 0.6931449854901808/Validation error: 0.6931472048697742/Time: 11.56 seconds\n",
      "Epoch 17/Training error: 0.6931448992084424/Validation error: 0.6931472027704625/Time: 11.65 seconds\n",
      "Epoch 18/Training error: 0.6931448145084138/Validation error: 0.6931472006057439/Time: 11.68 seconds\n",
      "Epoch 19/Training error: 0.6931447305416185/Validation error: 0.693147199988106/Time: 11.72 seconds\n"
     ]
    },
    {
     "data": {
      "image/png": "[encoded data removed]",
      "text/plain": [
       "<Figure size 640x480 with 1 Axes>"
      ]
     },
     "metadata": {},
     "output_type": "display_data"
    },
    {
     "name": "stdout",
     "output_type": "stream",
     "text": [
      "Test rmse 0.5000000097140636\n"
     ]
    }
   ],
   "source": [
    "EPOCHS = 20 #240\n",
    "\n",
    "random.seed(42)\n",
    "np.random.seed(42)\n",
    "\n",
    "# Fit and predict with svd\n",
    "svd_predictor = FastLogisticSVD(\n",
    "    train_data.get_num_users(), train_data.get_num_items(), 2, k=50, \n",
    "    learning_rate=0.01, C=0)\n",
    "svd_predictor.fit(train_data.get_matrix(), EPOCHS, validation_set=val, early_stop=False)\n",
    "\n",
    "# Plot error\n",
    "errors = svd_predictor.get_train_errors()\n",
    "val_errors = svd_predictor.get_val_errors()\n",
    "plt.plot(range(len(errors)), errors, label='Training error')\n",
    "plt.plot(range(len(val_errors)), val_errors, label='Test error')\n",
    "plt.xlabel('Epoch')\n",
    "plt.ylabel('Error')\n",
    "plt.title('Error vs Epoch')\n",
    "plt.legend()\n",
    "plt.show()\n",
    "\n",
    "# Compute rmse\n",
    "predictions = svd_predictor.predict_pairs([(user, item) for user, item, _ in val])\n",
    "predictions = [prediction + (val[i][2],) for i, prediction in enumerate(predictions)]\n",
    "metrics = Metrics()\n",
    "rmse = metrics.rmse(predictions)\n",
    "print(\"Test rmse\", rmse)"
   ]
  },
  {
   "cell_type": "code",
   "execution_count": 26,
   "id": "943c101b-d3af-4b57-93b9-869686587c0b",
   "metadata": {},
   "outputs": [
    {
     "name": "stdout",
     "output_type": "stream",
     "text": [
      "Epoch 0/Training error: 0.6931429165027828/Validation error: 0.6931471436069341/Time: 11.85 seconds\n",
      "Epoch 1/Training error: 0.6931428224080698/Validation error: 0.6931471381803659/Time: 11.83 seconds\n",
      "Epoch 2/Training error: 0.6931427268349302/Validation error: 0.6931471359232653/Time: 11.87 seconds\n",
      "Epoch 3/Training error: 0.6931426318759222/Validation error: 0.6931471298915244/Time: 11.79 seconds\n",
      "Epoch 4/Training error: 0.6931425375907199/Validation error: 0.6931471288367251/Time: 11.86 seconds\n",
      "Epoch 5/Training error: 0.6931424379562168/Validation error: 0.6931471261497593/Time: 11.72 seconds\n",
      "Epoch 6/Training error: 0.6931423374270393/Validation error: 0.69314712562912/Time: 11.74 seconds\n",
      "Epoch 7/Training error: 0.693142235626168/Validation error: 0.6931471226965633/Time: 11.7 seconds\n",
      "Epoch 8/Training error: 0.6931421342103835/Validation error: 0.6931471166885846/Time: 11.79 seconds\n",
      "Epoch 9/Training error: 0.69314203008875/Validation error: 0.6931471132184843/Time: 11.67 seconds\n",
      "Epoch 10/Training error: 0.6931419235525589/Validation error: 0.6931471066055829/Time: 11.91 seconds\n",
      "Epoch 11/Training error: 0.6931418164538308/Validation error: 0.6931471066293927/Time: 12.49 seconds\n",
      "Epoch 12/Training error: 0.6931417073355377/Validation error: 0.6931471052081634/Time: 12.05 seconds\n",
      "Epoch 13/Training error: 0.6931415958799797/Validation error: 0.693147101469976/Time: 11.83 seconds\n",
      "Epoch 14/Training error: 0.6931414848751377/Validation error: 0.693147099752843/Time: 11.71 seconds\n",
      "Epoch 15/Training error: 0.693141370837431/Validation error: 0.6931470937259641/Time: 11.69 seconds\n",
      "Epoch 16/Training error: 0.693141258284763/Validation error: 0.6931470923421729/Time: 11.61 seconds\n",
      "Epoch 17/Training error: 0.6931411406716026/Validation error: 0.6931470871259603/Time: 11.69 seconds\n",
      "Epoch 18/Training error: 0.6931410201355033/Validation error: 0.6931470828273238/Time: 11.67 seconds\n",
      "Epoch 19/Training error: 0.6931408993208273/Validation error: 0.6931470794175678/Time: 11.76 seconds\n"
     ]
    }
   ],
   "source": [
    "svd_predictor.continue_fit(20, early_stop=False)"
   ]
  },
  {
   "cell_type": "code",
   "execution_count": 27,
   "id": "01ba5dcd-24cd-4b78-b882-62414ddc9266",
   "metadata": {},
   "outputs": [
    {
     "data": {
      "image/png": "[encoded data removed]",
      "text/plain": [
       "<Figure size 640x480 with 1 Axes>"
      ]
     },
     "metadata": {},
     "output_type": "display_data"
    },
    {
     "name": "stdout",
     "output_type": "stream",
     "text": [
      "Test rmse 0.4999999494288001\n"
     ]
    }
   ],
   "source": [
    "# Plot error\n",
    "errors = svd_predictor.get_train_errors()\n",
    "val_errors = svd_predictor.get_val_errors()\n",
    "plt.plot(range(len(errors)), errors, label='Training error')\n",
    "plt.plot(range(len(val_errors)), val_errors, label='Test error')\n",
    "plt.xlabel('Epoch')\n",
    "plt.ylabel('Error')\n",
    "plt.title('Error vs Epoch')\n",
    "plt.legend()\n",
    "plt.show()\n",
    "\n",
    "# Compute rmse\n",
    "predictions = svd_predictor.predict_pairs([(user, item) for user, item, _ in val])\n",
    "predictions = [prediction + (val[i][2],) for i, prediction in enumerate(predictions)]\n",
    "metrics = Metrics()\n",
    "rmse = metrics.rmse(predictions)\n",
    "print(\"Test rmse\", rmse)"
   ]
  },
  {
   "cell_type": "code",
   "execution_count": 299,
   "id": "b664f8ce-2bcf-4bc2-8e25-51fee4d447fc",
   "metadata": {},
   "outputs": [
    {
     "name": "stdout",
     "output_type": "stream",
     "text": [
      "Saving model...\n",
      "Done saving model.\n"
     ]
    }
   ],
   "source": [
    "# Ensure file exists\n",
    "model_dir = model_dir = \"saved_models/{}-{}-{}-{}-{}-{}_{}\".format(\n",
    "    *(time.localtime()[:6] + (round(rmse, 4), ))).replace(\".\", \"-\") + \".pkl\" \n",
    "file = open(model_dir, 'a')\n",
    "file.close()\n",
    "\n",
    "# Save model\n",
    "print(\"Saving model...\")\n",
    "with open(model_dir, 'wb') as file:\n",
    "    pickle.dump([train_data, svd_predictor], file)\n",
    "print(\"Done saving model.\")"
   ]
  },
  {
   "cell_type": "code",
   "execution_count": 25,
   "id": "6ab5770d-962b-47b1-9b82-74feac83f214",
   "metadata": {},
   "outputs": [
    {
     "name": "stdout",
     "output_type": "stream",
     "text": [
      "Predicted top n:\n",
      "[(0.5005036672148728, 'Ben and Ed'),\n",
      " (0.5004795881667656, 'The Letter - Horror Visual Novel'),\n",
      " (0.5004554986431153, 'Cardinal Cross'),\n",
      " (0.5004410023326933, 'Frozen Flame'),\n",
      " (0.5004350738615919, 'openCanvas 6'),\n",
      " (0.5004329886026933, 'Angvik'),\n",
      " (0.5004228944982378, 'The Enchanted Cave 2'),\n",
      " (0.5004190331583028, 'Movavi Video Editor Plus 2022 - Video Editing Software'),\n",
      " (0.5004145318949005, 'Ricochet'),\n",
      " (0.5004128401738932, 'FINAL FANTASY X/X-2 HD Remaster'),\n",
      " (0.5004091210247307, 'FlatOut'),\n",
      " (0.5004078688210604, 'MultiVersus'),\n",
      " (0.5004030550280653, 'My Little Farmies'),\n",
      " (0.5003960692192798, 'FINAL FANTASY V'),\n",
      " (0.5003954030691575, 'Crying Suns'),\n",
      " (0.5003893723789877, 'Crysis Remastered'),\n",
      " (0.5003872595923636, 'A Plague Tale: Requiem'),\n",
      " (0.5003841516332719, 'Rez Infinite'),\n",
      " (0.5003838476482917, 'Wrestling Empire'),\n",
      " (0.5003833858980273, 'Rebel Galaxy Outlaw')]\n",
      "True top n:\n"
     ]
    },
    {
     "ename": "NameError",
     "evalue": "name 'rec_data' is not defined",
     "output_type": "error",
     "traceback": [
      "\u001b[1;31m---------------------------------------------------------------------------\u001b[0m",
      "\u001b[1;31mNameError\u001b[0m                                 Traceback (most recent call last)",
      "Cell \u001b[1;32mIn[25], line 9\u001b[0m\n\u001b[0;32m      7\u001b[0m \u001b[38;5;66;03m# User j true top n list\u001b[39;00m\n\u001b[0;32m      8\u001b[0m \u001b[38;5;28mprint\u001b[39m(\u001b[38;5;124m\"\u001b[39m\u001b[38;5;124mTrue top n:\u001b[39m\u001b[38;5;124m\"\u001b[39m)\n\u001b[1;32m----> 9\u001b[0m true_top \u001b[38;5;241m=\u001b[39m \u001b[43mrec_data\u001b[49m\u001b[38;5;241m.\u001b[39mtop_n(j, \u001b[38;5;241m5000\u001b[39m)\n\u001b[0;32m     10\u001b[0m pprint([rec_data\u001b[38;5;241m.\u001b[39mindex_to_title(index) \u001b[38;5;28;01mfor\u001b[39;00m _, index \u001b[38;5;129;01min\u001b[39;00m true_top])\n",
      "\u001b[1;31mNameError\u001b[0m: name 'rec_data' is not defined"
     ]
    }
   ],
   "source": [
    "j = 0\n",
    "# Test top-n list for user j\n",
    "top_n = svd_predictor.top_n(j, 20)\n",
    "print(\"Predicted top n:\")\n",
    "pprint([(r, train_data.index_to_title(index)) for r, index in top_n])\n",
    "\n",
    "# User j true top n list\n",
    "print(\"True top n:\")\n",
    "true_top = rec_data.top_n(j, 5000)\n",
    "pprint([rec_data.index_to_title(index) for _, index in true_top])"
   ]
  },
  {
   "cell_type": "code",
   "execution_count": 298,
   "id": "8f39bc02-a788-46a0-8f11-156cade2be99",
   "metadata": {},
   "outputs": [
    {
     "data": {
      "image/png": "[encoded data removed]",
      "text/plain": [
       "<Figure size 640x480 with 1 Axes>"
      ]
     },
     "metadata": {},
     "output_type": "display_data"
    }
   ],
   "source": [
    "values, bins = np.histogram(svd_predictor._user_features[0, :])\n",
    "plt.stairs(values, bins)\n",
    "plt.show()"
   ]
  },
  {
   "cell_type": "code",
   "execution_count": 303,
   "id": "4a9be427-4b26-4189-9eed-02e98e23056c",
   "metadata": {},
   "outputs": [
    {
     "data": {
      "text/plain": [
       "[('The Sims™ 4', 59), ('The Sims™ 3', 342)]"
      ]
     },
     "execution_count": 303,
     "metadata": {},
     "output_type": "execute_result"
    }
   ],
   "source": [
    "rec_data.search_title('sims')"
   ]
  },
  {
   "cell_type": "code",
   "execution_count": 304,
   "id": "af7c7b3d-f089-454c-8892-52d633e70b9b",
   "metadata": {},
   "outputs": [
    {
     "name": "stdout",
     "output_type": "stream",
     "text": [
      "[(1045, 'Mortal Kombat X', 0), (59, 'The Sims™ 4', 1), (342, 'The Sims™ 3', 1)]\n"
     ]
    }
   ],
   "source": [
    "prefs = [(1045, 0), (59, 1), (342, 1)]\n",
    "# prefs = [(5, 1), (229, 1), (966, 0)]\n",
    "pprint([(index, rec_data.index_to_title(index), pref) for index, pref in prefs])\n",
    "prefs = rec_data.create_prefs(prefs)    "
   ]
  },
  {
   "cell_type": "code",
   "execution_count": 305,
   "id": "2b516899-5ff8-4cbc-abc0-fd9d7a78cb5d",
   "metadata": {},
   "outputs": [
    {
     "name": "stdout",
     "output_type": "stream",
     "text": [
      "Epoch 0/Time: 2.78 seconds\n",
      "Epoch 1/Time: 2.78 seconds\n",
      "Epoch 2/Time: 2.78 seconds\n",
      "Epoch 3/Time: 2.79 seconds\n",
      "Epoch 4/Time: 2.79 seconds\n",
      "Epoch 5/Time: 2.83 seconds\n",
      "Epoch 6/Time: 2.82 seconds\n",
      "Epoch 7/Time: 2.79 seconds\n",
      "Epoch 8/Time: 2.79 seconds\n",
      "Epoch 9/Time: 3.25 seconds\n",
      "Epoch 10/Time: 3.02 seconds\n",
      "Epoch 11/Time: 2.94 seconds\n",
      "Epoch 12/Time: 2.84 seconds\n",
      "Epoch 13/Time: 2.83 seconds\n",
      "Epoch 14/Time: 2.83 seconds\n",
      "Epoch 15/Time: 2.83 seconds\n",
      "Epoch 16/Time: 2.85 seconds\n",
      "Epoch 17/Time: 2.84 seconds\n",
      "Epoch 18/Time: 2.86 seconds\n",
      "Epoch 19/Time: 2.81 seconds\n",
      "Completed partial fit in 58.161810636520386 seconds\n"
     ]
    }
   ],
   "source": [
    "start_time = time.time()\n",
    "svd_predictor.partial_fit(prefs, epochs=EPOCHS)\n",
    "print(\"Completed partial fit in\", time.time() - start_time, \"seconds\")"
   ]
  },
  {
   "cell_type": "code",
   "execution_count": 306,
   "id": "4e10eed0-deb4-440a-92e8-eb12c7a96b97",
   "metadata": {},
   "outputs": [
    {
     "name": "stdout",
     "output_type": "stream",
     "text": [
      "Predicted top n\n",
      "[(0.6255425448245089, 'Fallout 4'),\n",
      " (0.5949545797820359, \"No Man's Sky\"),\n",
      " (0.5762997469003915, 'Just Cause™ 3'),\n",
      " (0.5732127184248318, 'Wallpaper Engine'),\n",
      " (0.5721954095739206, 'Killing Floor 2'),\n",
      " (0.5683118255318348, 'Borderlands 3'),\n",
      " (0.5660601587888737, 'Rust'),\n",
      " (0.5589130697537803, 'Left 4 Dead 2'),\n",
      " (0.5576191196346886, 'Far Cry® 5'),\n",
      " (0.5553638694761791, 'Factorio'),\n",
      " (0.5549266431104046, \"Garry's Mod\"),\n",
      " (0.5538170737907843, 'Fallout 76'),\n",
      " (0.5536022498084484, 'Resident Evil 2'),\n",
      " (0.5526554432332553, 'Portal 2'),\n",
      " (0.5512152299977823, 'Portal'),\n",
      " (0.5508887634117217, 'Resident Evil Village'),\n",
      " (0.550689430205356, 'Risk of Rain 2'),\n",
      " (0.5504087964946794, 'Remnant: From the Ashes'),\n",
      " (0.5498160712366424, 'The Elder Scrolls® Online'),\n",
      " (0.5483481067192361, 'METAL GEAR RISING: REVENGEANCE')]\n"
     ]
    }
   ],
   "source": [
    "top_n = svd_predictor.top_n(svd_predictor._num_users - 1, 20)\n",
    "print(\"Predicted top n\")\n",
    "pprint([(r, train_data.index_to_title(index)) for r, index in top_n])"
   ]
  },
  {
   "cell_type": "code",
   "execution_count": null,
   "id": "3ed80d3c-1901-4404-a237-edea0ddc01a1",
   "metadata": {},
   "outputs": [],
   "source": []
  }
 ],
 "metadata": {
  "kernelspec": {
   "display_name": "Python 3 (ipykernel)",
   "language": "python",
   "name": "python3"
  },
  "language_info": {
   "codemirror_mode": {
    "name": "ipython",
    "version": 3
   },
   "file_extension": ".py",
   "mimetype": "text/x-python",
   "name": "python",
   "nbconvert_exporter": "python",
   "pygments_lexer": "ipython3",
   "version": "3.9.16"
  }
 },
 "nbformat": 4,
 "nbformat_minor": 5
}
