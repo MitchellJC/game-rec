{
 "cells": [
  {
   "cell_type": "code",
   "execution_count": 1,
   "id": "2b35e932-407e-4160-878a-1547e900cce9",
   "metadata": {},
   "outputs": [],
   "source": [
    "import numpy as np\n",
    "from scipy.sparse import csr_matrix\n",
    "from scipy.sparse import lil_matrix\n",
    "import matplotlib.pyplot as plt\n",
    "import pandas as pd\n",
    "import math\n",
    "import pickle\n",
    "import time\n",
    "import datetime\n",
    "import random\n",
    "from pprint import pprint\n",
    "\n",
    "from SVD import Metrics, SVDPredictor, LogisticSVD\n",
    "from RecData import RecData"
   ]
  },
  {
   "cell_type": "code",
   "execution_count": 2,
   "id": "86929969-e5de-468e-b024-80cf550c6e8f",
   "metadata": {},
   "outputs": [
    {
     "data": {
      "text/html": [
       "<div>\n",
       "<style scoped>\n",
       "    .dataframe tbody tr th:only-of-type {\n",
       "        vertical-align: middle;\n",
       "    }\n",
       "\n",
       "    .dataframe tbody tr th {\n",
       "        vertical-align: top;\n",
       "    }\n",
       "\n",
       "    .dataframe thead th {\n",
       "        text-align: right;\n",
       "    }\n",
       "</style>\n",
       "<table border=\"1\" class=\"dataframe\">\n",
       "  <thead>\n",
       "    <tr style=\"text-align: right;\">\n",
       "      <th></th>\n",
       "      <th>app_id</th>\n",
       "      <th>is_recommended</th>\n",
       "      <th>user_id</th>\n",
       "    </tr>\n",
       "  </thead>\n",
       "  <tbody>\n",
       "    <tr>\n",
       "      <th>0</th>\n",
       "      <td>534380</td>\n",
       "      <td>True</td>\n",
       "      <td>10531</td>\n",
       "    </tr>\n",
       "    <tr>\n",
       "      <th>1</th>\n",
       "      <td>42700</td>\n",
       "      <td>False</td>\n",
       "      <td>185293</td>\n",
       "    </tr>\n",
       "    <tr>\n",
       "      <th>2</th>\n",
       "      <td>602960</td>\n",
       "      <td>True</td>\n",
       "      <td>319249</td>\n",
       "    </tr>\n",
       "    <tr>\n",
       "      <th>3</th>\n",
       "      <td>976730</td>\n",
       "      <td>False</td>\n",
       "      <td>747545</td>\n",
       "    </tr>\n",
       "    <tr>\n",
       "      <th>4</th>\n",
       "      <td>1091500</td>\n",
       "      <td>True</td>\n",
       "      <td>2113544</td>\n",
       "    </tr>\n",
       "  </tbody>\n",
       "</table>\n",
       "</div>"
      ],
      "text/plain": [
       "    app_id  is_recommended  user_id\n",
       "0   534380            True    10531\n",
       "1    42700           False   185293\n",
       "2   602960            True   319249\n",
       "3   976730           False   747545\n",
       "4  1091500            True  2113544"
      ]
     },
     "execution_count": 2,
     "metadata": {},
     "output_type": "execute_result"
    }
   ],
   "source": [
    "recs = pd.read_csv('data/pruned.csv')\n",
    "USED_COLS = ['app_id', 'is_recommended', 'user_id']\n",
    "recs = recs[USED_COLS]\n",
    "\n",
    "item_data = pd.read_csv('data/games.csv')\n",
    "titles = item_data[['app_id', 'title']]\n",
    "\n",
    "recs.head()"
   ]
  },
  {
   "cell_type": "code",
   "execution_count": 3,
   "id": "d633ed7d-64ec-4423-94e4-f8f31cf4f832",
   "metadata": {},
   "outputs": [],
   "source": [
    "random.seed(42)\n",
    "np.random.seed(42)\n",
    "\n",
    "rec_data = RecData()\n",
    "rec_data.create_from_dataframe(recs)\n",
    "rec_data.set_titles(titles)\n",
    "\n",
    "train_data, test = rec_data.leave_k_out_split()\n",
    "train_data, val = train_data.leave_k_out_split()"
   ]
  },
  {
   "cell_type": "code",
   "execution_count": 4,
   "id": "5cb4b4a6-76ca-4200-8e02-53c6bf30ab6e",
   "metadata": {},
   "outputs": [
    {
     "name": "stdout",
     "output_type": "stream",
     "text": [
      "Epoch 0/Training error: 0.5690090493901085/Validation error: -35198.200068597995/Time: 72.46 seconds\n",
      "Epoch 1/Training error: 0.705382383712537/Validation error: -43866.052770049275/Time: 73.1 seconds\n",
      "Epoch 2/Training error: 0.9619379622270415/Validation error: -60417.06457615354/Time: 74.08 seconds\n",
      "Epoch 3/Training error: 1.3642777889108948/Validation error: -86496.62419483984/Time: 72.78 seconds\n"
     ]
    },
    {
     "ename": "KeyboardInterrupt",
     "evalue": "",
     "output_type": "error",
     "traceback": [
      "\u001b[1;31m---------------------------------------------------------------------------\u001b[0m",
      "\u001b[1;31mKeyboardInterrupt\u001b[0m                         Traceback (most recent call last)",
      "Cell \u001b[1;32mIn[4], line 10\u001b[0m\n\u001b[0;32m      6\u001b[0m \u001b[38;5;66;03m# Fit and predict with svd\u001b[39;00m\n\u001b[0;32m      7\u001b[0m svd_predictor \u001b[38;5;241m=\u001b[39m LogisticSVD(\n\u001b[0;32m      8\u001b[0m     train_data\u001b[38;5;241m.\u001b[39mget_num_users(), train_data\u001b[38;5;241m.\u001b[39mget_num_items(), \u001b[38;5;241m2\u001b[39m, k\u001b[38;5;241m=\u001b[39m\u001b[38;5;241m10\u001b[39m, epochs\u001b[38;5;241m=\u001b[39mEPOCHS, \n\u001b[0;32m      9\u001b[0m     learning_rate\u001b[38;5;241m=\u001b[39m\u001b[38;5;241m0.001\u001b[39m, C\u001b[38;5;241m=\u001b[39m\u001b[38;5;241m0.02\u001b[39m)\n\u001b[1;32m---> 10\u001b[0m \u001b[43msvd_predictor\u001b[49m\u001b[38;5;241;43m.\u001b[39;49m\u001b[43mfit\u001b[49m\u001b[43m(\u001b[49m\u001b[43mtrain_data\u001b[49m\u001b[38;5;241;43m.\u001b[39;49m\u001b[43mget_matrix\u001b[49m\u001b[43m(\u001b[49m\u001b[43m)\u001b[49m\u001b[43m,\u001b[49m\u001b[43m \u001b[49m\u001b[43mvalidation_set\u001b[49m\u001b[38;5;241;43m=\u001b[39;49m\u001b[43mval\u001b[49m\u001b[43m)\u001b[49m\n\u001b[0;32m     12\u001b[0m \u001b[38;5;66;03m# Plot error\u001b[39;00m\n\u001b[0;32m     13\u001b[0m errors \u001b[38;5;241m=\u001b[39m svd_predictor\u001b[38;5;241m.\u001b[39mget_train_errors()\n",
      "File \u001b[1;32m~\\Files\\GitHub\\game-rec\\SVD.py:65\u001b[0m, in \u001b[0;36mSVDPredictor.fit\u001b[1;34m(self, M, validation_set)\u001b[0m\n\u001b[0;32m     63\u001b[0m \u001b[38;5;66;03m# For all samples in random order update each parameter\u001b[39;00m\n\u001b[0;32m     64\u001b[0m \u001b[38;5;28;01mfor\u001b[39;00m i \u001b[38;5;129;01min\u001b[39;00m random\u001b[38;5;241m.\u001b[39msample(\u001b[38;5;28mrange\u001b[39m(\u001b[38;5;28mself\u001b[39m\u001b[38;5;241m.\u001b[39m_num_samples), k\u001b[38;5;241m=\u001b[39m\u001b[38;5;28mself\u001b[39m\u001b[38;5;241m.\u001b[39m_num_samples):\n\u001b[1;32m---> 65\u001b[0m     \u001b[38;5;28;43mself\u001b[39;49m\u001b[38;5;241;43m.\u001b[39;49m\u001b[43m_update_features\u001b[49m\u001b[43m(\u001b[49m\u001b[43mi\u001b[49m\u001b[43m,\u001b[49m\u001b[43m \u001b[49m\u001b[43musers\u001b[49m\u001b[43m,\u001b[49m\u001b[43m \u001b[49m\u001b[43mitems\u001b[49m\u001b[43m)\u001b[49m     \n\u001b[0;32m     67\u001b[0m     percent \u001b[38;5;241m=\u001b[39m (i \u001b[38;5;241m/\u001b[39m\u001b[38;5;28mself\u001b[39m\u001b[38;5;241m.\u001b[39m_num_samples)\u001b[38;5;241m*\u001b[39m\u001b[38;5;241m100\u001b[39m    \n\u001b[0;32m     68\u001b[0m     \u001b[38;5;28mself\u001b[39m\u001b[38;5;241m.\u001b[39m_loading_bar(percent)  \n",
      "File \u001b[1;32m~\\Files\\GitHub\\game-rec\\SVD.py:318\u001b[0m, in \u001b[0;36mLogisticSVD._update_features\u001b[1;34m(self, i, users, items, do_items)\u001b[0m\n\u001b[0;32m    316\u001b[0m user \u001b[38;5;241m=\u001b[39m users[i]\n\u001b[0;32m    317\u001b[0m item \u001b[38;5;241m=\u001b[39m items[i]\n\u001b[1;32m--> 318\u001b[0m true \u001b[38;5;241m=\u001b[39m \u001b[38;5;28mself\u001b[39m\u001b[38;5;241m.\u001b[39m_M[user, item] \u001b[38;5;241m-\u001b[39m \u001b[38;5;241m1\u001b[39m\n\u001b[0;32m    319\u001b[0m pred \u001b[38;5;241m=\u001b[39m \u001b[38;5;28mself\u001b[39m\u001b[38;5;241m.\u001b[39mpredict(user, item)\n\u001b[0;32m    320\u001b[0m a \u001b[38;5;241m=\u001b[39m np\u001b[38;5;241m.\u001b[39mexp(\u001b[38;5;241m-\u001b[39m(\u001b[38;5;28mself\u001b[39m\u001b[38;5;241m.\u001b[39m_mu \n\u001b[0;32m    321\u001b[0m              \u001b[38;5;241m+\u001b[39m \u001b[38;5;28mself\u001b[39m\u001b[38;5;241m.\u001b[39m_user_biases[user, \u001b[38;5;241m0\u001b[39m] \n\u001b[0;32m    322\u001b[0m              \u001b[38;5;241m+\u001b[39m \u001b[38;5;28mself\u001b[39m\u001b[38;5;241m.\u001b[39m_item_biases[item, \u001b[38;5;241m0\u001b[39m] \n\u001b[0;32m    323\u001b[0m              \u001b[38;5;241m+\u001b[39m \u001b[38;5;28mself\u001b[39m\u001b[38;5;241m.\u001b[39m_user_features[user, :]   \n\u001b[0;32m    324\u001b[0m              \u001b[38;5;241m@\u001b[39m np\u001b[38;5;241m.\u001b[39mtranspose(\u001b[38;5;28mself\u001b[39m\u001b[38;5;241m.\u001b[39m_item_features[item, :])))\n",
      "File \u001b[1;32m~\\anaconda3\\lib\\site-packages\\scipy\\sparse\\_index.py:52\u001b[0m, in \u001b[0;36mIndexMixin.__getitem__\u001b[1;34m(self, key)\u001b[0m\n\u001b[0;32m     50\u001b[0m \u001b[38;5;28;01mif\u001b[39;00m \u001b[38;5;28misinstance\u001b[39m(row, INT_TYPES):\n\u001b[0;32m     51\u001b[0m     \u001b[38;5;28;01mif\u001b[39;00m \u001b[38;5;28misinstance\u001b[39m(col, INT_TYPES):\n\u001b[1;32m---> 52\u001b[0m         \u001b[38;5;28;01mreturn\u001b[39;00m \u001b[38;5;28;43mself\u001b[39;49m\u001b[38;5;241;43m.\u001b[39;49m\u001b[43m_get_intXint\u001b[49m\u001b[43m(\u001b[49m\u001b[43mrow\u001b[49m\u001b[43m,\u001b[49m\u001b[43m \u001b[49m\u001b[43mcol\u001b[49m\u001b[43m)\u001b[49m\n\u001b[0;32m     53\u001b[0m     \u001b[38;5;28;01melif\u001b[39;00m \u001b[38;5;28misinstance\u001b[39m(col, \u001b[38;5;28mslice\u001b[39m):\n\u001b[0;32m     54\u001b[0m         \u001b[38;5;28mself\u001b[39m\u001b[38;5;241m.\u001b[39m_raise_on_1d_array_slice()\n",
      "File \u001b[1;32m~\\anaconda3\\lib\\site-packages\\scipy\\sparse\\_compressed.py:657\u001b[0m, in \u001b[0;36m_cs_matrix._get_intXint\u001b[1;34m(self, row, col)\u001b[0m\n\u001b[0;32m    655\u001b[0m M, N \u001b[38;5;241m=\u001b[39m \u001b[38;5;28mself\u001b[39m\u001b[38;5;241m.\u001b[39m_swap(\u001b[38;5;28mself\u001b[39m\u001b[38;5;241m.\u001b[39mshape)\n\u001b[0;32m    656\u001b[0m major, minor \u001b[38;5;241m=\u001b[39m \u001b[38;5;28mself\u001b[39m\u001b[38;5;241m.\u001b[39m_swap((row, col))\n\u001b[1;32m--> 657\u001b[0m indptr, indices, data \u001b[38;5;241m=\u001b[39m \u001b[43mget_csr_submatrix\u001b[49m\u001b[43m(\u001b[49m\n\u001b[0;32m    658\u001b[0m \u001b[43m    \u001b[49m\u001b[43mM\u001b[49m\u001b[43m,\u001b[49m\u001b[43m \u001b[49m\u001b[43mN\u001b[49m\u001b[43m,\u001b[49m\u001b[43m \u001b[49m\u001b[38;5;28;43mself\u001b[39;49m\u001b[38;5;241;43m.\u001b[39;49m\u001b[43mindptr\u001b[49m\u001b[43m,\u001b[49m\u001b[43m \u001b[49m\u001b[38;5;28;43mself\u001b[39;49m\u001b[38;5;241;43m.\u001b[39;49m\u001b[43mindices\u001b[49m\u001b[43m,\u001b[49m\u001b[43m \u001b[49m\u001b[38;5;28;43mself\u001b[39;49m\u001b[38;5;241;43m.\u001b[39;49m\u001b[43mdata\u001b[49m\u001b[43m,\u001b[49m\n\u001b[0;32m    659\u001b[0m \u001b[43m    \u001b[49m\u001b[43mmajor\u001b[49m\u001b[43m,\u001b[49m\u001b[43m \u001b[49m\u001b[43mmajor\u001b[49m\u001b[43m \u001b[49m\u001b[38;5;241;43m+\u001b[39;49m\u001b[43m \u001b[49m\u001b[38;5;241;43m1\u001b[39;49m\u001b[43m,\u001b[49m\u001b[43m \u001b[49m\u001b[43mminor\u001b[49m\u001b[43m,\u001b[49m\u001b[43m \u001b[49m\u001b[43mminor\u001b[49m\u001b[43m \u001b[49m\u001b[38;5;241;43m+\u001b[39;49m\u001b[43m \u001b[49m\u001b[38;5;241;43m1\u001b[39;49m\u001b[43m)\u001b[49m\n\u001b[0;32m    660\u001b[0m \u001b[38;5;28;01mreturn\u001b[39;00m data\u001b[38;5;241m.\u001b[39msum(dtype\u001b[38;5;241m=\u001b[39m\u001b[38;5;28mself\u001b[39m\u001b[38;5;241m.\u001b[39mdtype)\n",
      "\u001b[1;31mKeyboardInterrupt\u001b[0m: "
     ]
    }
   ],
   "source": [
    "EPOCHS = 5\n",
    "\n",
    "random.seed(42)\n",
    "np.random.seed(42)\n",
    "\n",
    "# Fit and predict with svd\n",
    "svd_predictor = LogisticSVD(\n",
    "    train_data.get_num_users(), train_data.get_num_items(), 2, k=10, epochs=EPOCHS, \n",
    "    learning_rate=0.001, C=0.02)\n",
    "svd_predictor.fit(train_data.get_matrix(), validation_set=val)\n",
    "\n",
    "# Plot error\n",
    "errors = svd_predictor.get_train_errors()\n",
    "val_errors = svd_predictor.get_val_errors()\n",
    "plt.plot(range(len(errors)), errors, label='Training error')\n",
    "plt.plot(range(len(val_errors)), val_errors, label='Test error')\n",
    "plt.xlabel('Epoch')\n",
    "plt.ylabel('Error')\n",
    "plt.title('Error vs Epoch')\n",
    "plt.legend()\n",
    "plt.show()\n",
    "\n",
    "# Compute rmse\n",
    "predictions = svd_predictor.predict_pairs([(user, item) for user, item, _ in val])\n",
    "predictions = [prediction + (val[i][2],) for i, prediction in enumerate(predictions)]\n",
    "metrics = Metrics()\n",
    "rmse = metrics.rmse(predictions)\n",
    "print(\"Test rmse\", rmse)\n",
    "\n",
    "# Ensure file exists\n",
    "model_dir = model_dir = \"saved_models/{}-{}-{}-{}-{}-{}_{}\".format(\n",
    "    *(time.localtime()[:6] + (round(rmse, 4), ))).replace(\".\", \"-\") + \".pkl\" \n",
    "file = open(model_dir, 'a')\n",
    "file.close()\n",
    "\n",
    "# Save model\n",
    "print(\"Saving model...\")\n",
    "with open(model_dir, 'wb') as file:\n",
    "    pickle.dump([svd_predictor, rec_data, train_data, val, test], file)\n",
    "print(\"Done saving model.\")"
   ]
  },
  {
   "cell_type": "code",
   "execution_count": 14,
   "id": "6ab5770d-962b-47b1-9b82-74feac83f214",
   "metadata": {},
   "outputs": [
    {
     "name": "stdout",
     "output_type": "stream",
     "text": [
      "Predicted top n:\n",
      "[(0.9999988913554977, 'Grand Theft Auto V'),\n",
      " (0.9999944342329976, 'PUBG: BATTLEGROUNDS'),\n",
      " (0.9999927336789374, 'Fallout 4'),\n",
      " (0.9999874676800875, 'Cyberpunk 2077'),\n",
      " (0.9999863848142782, 'Call of Duty®: Modern Warfare® II'),\n",
      " (0.9999651751084194, 'Lost Ark'),\n",
      " (0.9999601770313143, 'VRChat'),\n",
      " (0.9999495766996487, 'Rust'),\n",
      " (0.9999190359556032, 'DayZ'),\n",
      " (0.9999081871880108, 'Battlefield™ 2042'),\n",
      " (0.9998694613836995, 'Fallout 76'),\n",
      " (0.9997414667543475, 'Warhammer 40000: Darktide'),\n",
      " (0.9997333484835278, \"No Man's Sky\"),\n",
      " (0.9996180300540938, '7 Days to Die'),\n",
      " (0.9994540410315329, 'Elite Dangerous'),\n",
      " (0.9991928773514102, 'Black Desert'),\n",
      " (0.9991264233509297, 'The Elder Scrolls® Online'),\n",
      " (0.999118493371122, 'Dying Light 2 Stay Human'),\n",
      " (0.9989049192619524, 'Sid Meier’s Civilization® VI'),\n",
      " (0.9987923457058052, 'Halo Infinite')]\n",
      "True top n:\n",
      "['Half-Life 2',\n",
      " 'Neverwinter',\n",
      " 'Grim Dawn',\n",
      " 'Age of Mythology: Extended Edition',\n",
      " 'Divinity: Original Sin - Enhanced Edition',\n",
      " 'SMITE®',\n",
      " 'Divinity: Original Sin 2 - Definitive Edition',\n",
      " 'Minion Masters',\n",
      " \"Baldur's Gate 3\",\n",
      " 'Dragon Age™ Inquisition',\n",
      " 'Epic Fantasy Battle Simulator',\n",
      " 'FOR HONOR™',\n",
      " 'Frostpunk',\n",
      " 'Pillars of Eternity II: Deadfire',\n",
      " 'DYSMANTLE',\n",
      " 'Back To Ashes',\n",
      " 'Wild Terra 2: New Lands',\n",
      " 'Gloomwood',\n",
      " 'King of Crabs',\n",
      " 'GRAVEN']\n"
     ]
    }
   ],
   "source": [
    "j = 50000\n",
    "# Test top-n list for user j\n",
    "top_n = svd_predictor.top_n(j, 20)\n",
    "print(\"Predicted top n:\")\n",
    "pprint([(r, train_data.index_to_title(index)) for r, index in top_n])\n",
    "\n",
    "# User j true top n list\n",
    "print(\"True top n:\")\n",
    "true_top = rec_data.top_n(j, 5000)\n",
    "pprint([rec_data.index_to_title(index) for _, index in true_top])"
   ]
  },
  {
   "cell_type": "code",
   "execution_count": null,
   "id": "4a9be427-4b26-4189-9eed-02e98e23056c",
   "metadata": {},
   "outputs": [],
   "source": [
    "rec_data.search_title('1330')"
   ]
  },
  {
   "cell_type": "code",
   "execution_count": 14,
   "id": "af7c7b3d-f089-454c-8892-52d633e70b9b",
   "metadata": {},
   "outputs": [
    {
     "name": "stdout",
     "output_type": "stream",
     "text": [
      "[(606, 'Stardew Valley', 1),\n",
      " (1628, 'The Sims™ 4', 1),\n",
      " (391, 'Mortal Kombat X', 0),\n",
      " (1330, 'Mortal Kombat\\xa011', 0),\n",
      " (500, 'Total War: WARHAMMER', 0),\n",
      " (709, 'UNO', 1),\n",
      " (840, 'MONOPOLY® PLUS', 0),\n",
      " (58, 'SPORE™', 1),\n",
      " (456, 'Choice of Robots', 1),\n",
      " (153, 'Infested Planet', 0),\n",
      " (158, 'Gunpoint', 0),\n",
      " (1160, 'Cosmoteer: Starship Architect & Commander', 0),\n",
      " (761, 'Glass Masquerade', 0),\n",
      " (1771, 'Against the Storm', 0),\n",
      " (544, 'Aviary Attorney', 0),\n",
      " (312, 'Grand Theft Auto V', 0),\n",
      " (277, 'Rust', 0)]\n"
     ]
    }
   ],
   "source": [
    "prefs = [(606, 1), (1628, 1), (391, 0), (1330, 0), (500, 0), (709, 1), (840, 0), \n",
    "         (58, 1), (456, 1), (153, 0), (158, 0), (1160, 0), (761, 0),\n",
    "                              (1771, 0), (544, 0), (312, 0), (277, 0)]\n",
    "pprint([(index, rec_data.index_to_title(index), pref) for index, pref in prefs])\n",
    "prefs = rec_data.create_prefs(prefs)    "
   ]
  },
  {
   "cell_type": "code",
   "execution_count": 15,
   "id": "2b516899-5ff8-4cbc-abc0-fd9d7a78cb5d",
   "metadata": {},
   "outputs": [
    {
     "name": "stdout",
     "output_type": "stream",
     "text": [
      "Epoch 0/Training error: 0.3562938940048277/Time: 3.43 seconds\n",
      "Epoch 1/Training error: 0.35629373258536406/Time: 3.36 seconds\n",
      "Epoch 2/Training error: 0.35629357671127204/Time: 3.16 seconds\n",
      "Epoch 3/Training error: 0.35629342625545307/Time: 3.24 seconds\n",
      "Epoch 4/Training error: 0.35629328085706385/Time: 3.34 seconds\n",
      "Epoch 5/Training error: 0.3562931404345393/Time: 3.42 seconds\n",
      "Epoch 6/Training error: 0.3562930045862026/Time: 3.27 seconds\n",
      "Epoch 7/Training error: 0.3562928733132726/Time: 3.2 seconds\n",
      "Epoch 8/Training error: 0.3562927465025948/Time: 3.3 seconds\n",
      "Epoch 9/Training error: 0.356292623864274/Time: 3.21 seconds\n",
      "Completed partial fit in 32.98696041107178 seconds\n"
     ]
    }
   ],
   "source": [
    "svd_predictor._partial_batch_size = int(0)\n",
    "start_time = time.time()\n",
    "svd_predictor.partial_fit(prefs)\n",
    "print(\"Completed partial fit in\", time.time() - start_time, \"seconds\")"
   ]
  },
  {
   "cell_type": "code",
   "execution_count": 17,
   "id": "4e10eed0-deb4-440a-92e8-eb12c7a96b97",
   "metadata": {},
   "outputs": [
    {
     "name": "stdout",
     "output_type": "stream",
     "text": [
      "Predicted top n\n",
      "[(1.9076218733543104, 'A Hat in Time'),\n",
      " (1.9034784988287023, 'Portal 2'),\n",
      " (1.8988644943106179, 'POSTAL 2'),\n",
      " (1.8966593347906735, 'Terraria'),\n",
      " (1.8933959419222457, 'DOOM (1993)'),\n",
      " (1.8922562088992145, 'Neon White'),\n",
      " (1.8911714849204737, 'Bastion'),\n",
      " (1.8898940932712782, 'OMORI'),\n",
      " (1.8894667741788373, 'Keep Talking and Nobody Explodes'),\n",
      " (1.8866023255393254, 'Portal'),\n",
      " (1.8852818615996563, 'Half-Life 2'),\n",
      " (1.8836152254646399, 'ULTRAKILL'),\n",
      " (1.8829275706298338, 'Cookie Clicker'),\n",
      " (1.882713601038485, 'Ultimate Chicken Horse'),\n",
      " (1.8826768031745644, 'DUSK'),\n",
      " (1.8817620328368292, 'Persona 5 Royal'),\n",
      " (1.8815784777870808, 'POSTAL: Brain Damaged'),\n",
      " (1.8803338519033272, 'Outer Wilds'),\n",
      " (1.880106383818281, 'Monolith'),\n",
      " (1.878504350991103, \"Sid Meier's Civilization® V\")]\n"
     ]
    }
   ],
   "source": [
    "top_n = svd_predictor.top_n(train_data.get_matrix().shape[0], 20)\n",
    "print(\"Predicted top n\")\n",
    "pprint([(r, train_data.index_to_title(index)) for r, index in top_n])"
   ]
  },
  {
   "cell_type": "code",
   "execution_count": null,
   "id": "3ed80d3c-1901-4404-a237-edea0ddc01a1",
   "metadata": {},
   "outputs": [],
   "source": []
  }
 ],
 "metadata": {
  "kernelspec": {
   "display_name": "Python 3 (ipykernel)",
   "language": "python",
   "name": "python3"
  },
  "language_info": {
   "codemirror_mode": {
    "name": "ipython",
    "version": 3
   },
   "file_extension": ".py",
   "mimetype": "text/x-python",
   "name": "python",
   "nbconvert_exporter": "python",
   "pygments_lexer": "ipython3",
   "version": "3.9.16"
  }
 },
 "nbformat": 4,
 "nbformat_minor": 5
}
