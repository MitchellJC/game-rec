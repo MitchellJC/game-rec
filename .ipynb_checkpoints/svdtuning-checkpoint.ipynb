{
 "cells": [
  {
   "cell_type": "code",
   "execution_count": 44,
   "id": "cfd28a59-588e-47cc-ab61-bb9e8674854a",
   "metadata": {},
   "outputs": [
    {
     "name": "stdout",
     "output_type": "stream",
     "text": [
      "Once deleted, variables cannot be recovered. Proceed (y/[n])?  y\n"
     ]
    }
   ],
   "source": [
    "%reset"
   ]
  },
  {
   "cell_type": "code",
   "execution_count": 1,
   "id": "2b35e932-407e-4160-878a-1547e900cce9",
   "metadata": {},
   "outputs": [],
   "source": [
    "import numpy as np\n",
    "from scipy.sparse import csr_array, lil_array\n",
    "import matplotlib.pyplot as plt\n",
    "import pandas as pd\n",
    "import math\n",
    "import pickle\n",
    "import time\n",
    "import datetime\n",
    "import random\n",
    "from pprint import pprint\n",
    "\n",
    "from SVD import Metrics, SVDPredictor, LogisticSVD, FastLogisticSVD\n",
    "from RecData import RecData"
   ]
  },
  {
   "cell_type": "code",
   "execution_count": 2,
   "id": "86929969-e5de-468e-b024-80cf550c6e8f",
   "metadata": {},
   "outputs": [
    {
     "name": "stdout",
     "output_type": "stream",
     "text": [
      "Shape: (1482532, 3)\n"
     ]
    },
    {
     "data": {
      "text/html": [
       "<div>\n",
       "<style scoped>\n",
       "    .dataframe tbody tr th:only-of-type {\n",
       "        vertical-align: middle;\n",
       "    }\n",
       "\n",
       "    .dataframe tbody tr th {\n",
       "        vertical-align: top;\n",
       "    }\n",
       "\n",
       "    .dataframe thead th {\n",
       "        text-align: right;\n",
       "    }\n",
       "</style>\n",
       "<table border=\"1\" class=\"dataframe\">\n",
       "  <thead>\n",
       "    <tr style=\"text-align: right;\">\n",
       "      <th></th>\n",
       "      <th>app_id</th>\n",
       "      <th>is_recommended</th>\n",
       "      <th>user_id</th>\n",
       "    </tr>\n",
       "  </thead>\n",
       "  <tbody>\n",
       "    <tr>\n",
       "      <th>279261</th>\n",
       "      <td>271590</td>\n",
       "      <td>True</td>\n",
       "      <td>2706940</td>\n",
       "    </tr>\n",
       "    <tr>\n",
       "      <th>968812</th>\n",
       "      <td>698540</td>\n",
       "      <td>True</td>\n",
       "      <td>3892918</td>\n",
       "    </tr>\n",
       "    <tr>\n",
       "      <th>965466</th>\n",
       "      <td>1085510</td>\n",
       "      <td>True</td>\n",
       "      <td>4590796</td>\n",
       "    </tr>\n",
       "    <tr>\n",
       "      <th>965540</th>\n",
       "      <td>1949960</td>\n",
       "      <td>False</td>\n",
       "      <td>3058171</td>\n",
       "    </tr>\n",
       "    <tr>\n",
       "      <th>1373726</th>\n",
       "      <td>1088850</td>\n",
       "      <td>True</td>\n",
       "      <td>2018014</td>\n",
       "    </tr>\n",
       "  </tbody>\n",
       "</table>\n",
       "</div>"
      ],
      "text/plain": [
       "          app_id  is_recommended  user_id\n",
       "279261    271590            True  2706940\n",
       "968812    698540            True  3892918\n",
       "965466   1085510            True  4590796\n",
       "965540   1949960           False  3058171\n",
       "1373726  1088850            True  2018014"
      ]
     },
     "execution_count": 2,
     "metadata": {},
     "output_type": "execute_result"
    }
   ],
   "source": [
    "# recs = pd.read_csv('data/recommendations.csv')\n",
    "# recs = pd.read_csv('data/pruned.csv')\n",
    "recs = pd.read_csv('data/2plus.csv')\n",
    "\n",
    "# Remove old ratings\n",
    "recs = recs.sort_values(by=['date'], ascending=False)\n",
    "recs.drop_duplicates(subset= ['app_id', 'user_id'], inplace=True) \n",
    "\n",
    "USED_COLS = ['app_id', 'is_recommended', 'user_id']\n",
    "recs = recs[USED_COLS]\n",
    "\n",
    "item_data = pd.read_csv('data/games.csv')\n",
    "titles = item_data[['app_id', 'title']]\n",
    "\n",
    "print(\"Shape:\", recs.shape)\n",
    "recs.head()"
   ]
  },
  {
   "cell_type": "code",
   "execution_count": 3,
   "id": "78f0adeb-df3b-4750-b1f5-91c115d6238e",
   "metadata": {},
   "outputs": [
    {
     "name": "stdout",
     "output_type": "stream",
     "text": [
      "Creating utility matrix...\n",
      "Done utility matrix.\n",
      "Creating splits...\n",
      "First split done.\n",
      "Done creating splits in 4.294098138809204 seconds\n"
     ]
    }
   ],
   "source": [
    "random.seed(42)\n",
    "np.random.seed(42)\n",
    "\n",
    "rec_data = RecData()\n",
    "rec_data.create_from_dataframe(recs)\n",
    "rec_data.set_titles(titles)\n",
    "\n",
    "del recs\n",
    "\n",
    "start_time = time.time()\n",
    "print(\"Creating splits...\")\n",
    "train_data, test = rec_data.train_test_split(test_size=0.2)\n",
    "print(\"First split done.\")\n",
    "train_data, val = train_data.train_test_split(test_size=0.2)\n",
    "print(\"Done creating splits in\", time.time() - start_time, \"seconds\")"
   ]
  },
  {
   "cell_type": "code",
   "execution_count": 4,
   "id": "d633ed7d-64ec-4423-94e4-f8f31cf4f832",
   "metadata": {},
   "outputs": [],
   "source": [
    "# random.seed(42)\n",
    "# np.random.seed(42)\n",
    "\n",
    "# rec_data = RecData()\n",
    "# rec_data.create_from_dataframe(recs)\n",
    "# rec_data.set_titles(titles)\n",
    "\n",
    "# del recs\n",
    "\n",
    "# print(\"Creating splits...\")\n",
    "# train_data, val, test = rec_data.leave_k_out_split(k=1)\n",
    "# print(\"Done creating splits.\")"
   ]
  },
  {
   "cell_type": "code",
   "execution_count": 5,
   "id": "55f5d9d9-039c-485f-abf7-e8cc5448cedb",
   "metadata": {},
   "outputs": [],
   "source": [
    "del rec_data\n",
    "del item_data\n",
    "del titles"
   ]
  },
  {
   "cell_type": "code",
   "execution_count": 6,
   "id": "5cb4b4a6-76ca-4200-8e02-53c6bf30ab6e",
   "metadata": {},
   "outputs": [
    {
     "name": "stdout",
     "output_type": "stream",
     "text": [
      "Epoch 0/Training error: 0.6931285422628719/Validation error: 0.6931471311072868/Time: 5.5 seconds\n",
      "Epoch 1/Training error: 0.69311534280527/Validation error: 0.6931466312604546/Time: 3.52 seconds\n",
      "Epoch 2/Training error: 0.6931022713238413/Validation error: 0.693144775127245/Time: 3.47 seconds\n",
      "Epoch 3/Training error: 0.6930859231425883/Validation error: 0.6931399353297277/Time: 3.47 seconds\n",
      "Epoch 4/Training error: 0.6930601264320715/Validation error: 0.6931273011669671/Time: 3.48 seconds\n",
      "Epoch 5/Training error: 0.6930102452598897/Validation error: 0.6930945318184782/Time: 3.56 seconds\n",
      "Epoch 6/Training error: 0.692898616996707/Validation error: 0.6930088621371068/Time: 3.5 seconds\n",
      "Epoch 7/Training error: 0.6926267810549781/Validation error: 0.6927837752867191/Time: 3.48 seconds\n",
      "Epoch 8/Training error: 0.6919370967258679/Validation error: 0.6921928575752796/Time: 3.49 seconds\n",
      "Epoch 9/Training error: 0.6901699212404643/Validation error: 0.6906548063883613/Time: 3.5 seconds\n",
      "Epoch 10/Training error: 0.6857001572950331/Validation error: 0.6867359882218793/Time: 3.51 seconds\n",
      "Epoch 11/Training error: 0.6750113576636373/Validation error: 0.6773226757709148/Time: 3.51 seconds\n",
      "Epoch 12/Training error: 0.6525125358901246/Validation error: 0.6574356553905889/Time: 3.51 seconds\n",
      "Epoch 13/Training error: 0.6149693400532812/Validation error: 0.6240607312677785/Time: 3.52 seconds\n",
      "Epoch 14/Training error: 0.5686501155222404/Validation error: 0.5825511378874069/Time: 3.48 seconds\n",
      "Epoch 15/Training error: 0.5248166817435572/Validation error: 0.5429408229778216/Time: 3.52 seconds\n",
      "Epoch 16/Training error: 0.48951133430929605/Validation error: 0.5108266523616665/Time: 3.49 seconds\n",
      "Epoch 17/Training error: 0.4629707280184732/Validation error: 0.48656586660713064/Time: 3.46 seconds\n",
      "Epoch 18/Training error: 0.4432684686252782/Validation error: 0.46853025586135527/Time: 3.53 seconds\n",
      "Epoch 19/Training error: 0.42848469100344005/Validation error: 0.4550178639416691/Time: 3.5 seconds\n",
      "Epoch 20/Training error: 0.41717574420621445/Validation error: 0.444726205468275/Time: 3.49 seconds\n",
      "Epoch 21/Training error: 0.40823518131865505/Validation error: 0.4366457197560789/Time: 3.5 seconds\n",
      "Epoch 22/Training error: 0.4009956982689005/Validation error: 0.4301611774832739/Time: 3.51 seconds\n",
      "Epoch 23/Training error: 0.39528953494121727/Validation error: 0.4250682012369849/Time: 3.48 seconds\n",
      "Epoch 24/Training error: 0.390386327581216/Validation error: 0.4208145205044914/Time: 3.5 seconds\n",
      "Epoch 25/Training error: 0.38643368067202044/Validation error: 0.4173509480812542/Time: 3.49 seconds\n",
      "Epoch 26/Training error: 0.3830381340115804/Validation error: 0.41441577331480445/Time: 3.49 seconds\n",
      "Epoch 27/Training error: 0.38005764612445103/Validation error: 0.4119190364478156/Time: 3.54 seconds\n",
      "Epoch 28/Training error: 0.3773600922443388/Validation error: 0.4097160684723806/Time: 3.52 seconds\n",
      "Epoch 29/Training error: 0.3750980312934433/Validation error: 0.4078779794974269/Time: 3.48 seconds\n"
     ]
    },
    {
     "data": {
      "image/png": "[encoded data removed]",
      "text/plain": [
       "<Figure size 640x480 with 1 Axes>"
      ]
     },
     "metadata": {},
     "output_type": "display_data"
    },
    {
     "name": "stdout",
     "output_type": "stream",
     "text": [
      "Test rmse 0.35724107963257\n"
     ]
    }
   ],
   "source": [
    "# for pruned, epoch: 30, lr:0.01, reg:0.02\n",
    "\n",
    "EPOCHS = 30 #240 \n",
    "\n",
    "random.seed(42)\n",
    "np.random.seed(42)\n",
    "\n",
    "# Fit and predict with svd\n",
    "svd_predictor = FastLogisticSVD(\n",
    "    train_data.get_num_users(), train_data.get_num_items(), 2, k=50, \n",
    "    learning_rate=0.01, C=0.02)\n",
    "svd_predictor.fit(train_data.get_matrix(), EPOCHS, validation_set=val, early_stop=False)\n",
    "\n",
    "# Plot error\n",
    "errors = svd_predictor.get_train_errors()\n",
    "val_errors = svd_predictor.get_val_errors()\n",
    "plt.plot(range(len(errors)), errors, label='Training error')\n",
    "plt.plot(range(len(val_errors)), val_errors, label='Test error')\n",
    "plt.xlabel('Epoch')\n",
    "plt.ylabel('Error')\n",
    "plt.title('Error vs Epoch')\n",
    "plt.legend()\n",
    "plt.show()\n",
    "\n",
    "# Compute rmse\n",
    "predictions = svd_predictor.predict_pairs([(user, item) for user, item, _ in val])\n",
    "predictions = [prediction + (val[i][2],) for i, prediction in enumerate(predictions)]\n",
    "metrics = Metrics()\n",
    "rmse = metrics.rmse(predictions)\n",
    "print(\"Test rmse\", rmse)"
   ]
  },
  {
   "cell_type": "code",
   "execution_count": 10,
   "id": "943c101b-d3af-4b57-93b9-869686587c0b",
   "metadata": {},
   "outputs": [
    {
     "name": "stdout",
     "output_type": "stream",
     "text": [
      "Epoch 0/Training error: 0.40823518131865505/Validation error: 0.4366457197560789/Time: 3.48 seconds\n",
      "Epoch 1/Training error: 0.4009956982689005/Validation error: 0.4301611774832739/Time: 3.56 seconds\n",
      "Epoch 2/Training error: 0.39528953494121727/Validation error: 0.4250682012369849/Time: 3.5 seconds\n",
      "Epoch 3/Training error: 0.390386327581216/Validation error: 0.4208145205044914/Time: 3.55 seconds\n",
      "Epoch 4/Training error: 0.38643368067202044/Validation error: 0.4173509480812542/Time: 3.53 seconds\n",
      "Epoch 5/Training error: 0.3830381340115804/Validation error: 0.41441577331480445/Time: 3.5 seconds\n",
      "Epoch 6/Training error: 0.38005764612445103/Validation error: 0.4119190364478156/Time: 3.57 seconds\n",
      "Epoch 7/Training error: 0.3773600922443388/Validation error: 0.4097160684723806/Time: 3.5 seconds\n",
      "Epoch 8/Training error: 0.3750980312934433/Validation error: 0.4078779794974269/Time: 3.52 seconds\n",
      "Epoch 9/Training error: 0.3730133302207881/Validation error: 0.40625738517476906/Time: 3.53 seconds\n"
     ]
    }
   ],
   "source": [
    "svd_predictor.continue_fit(10, early_stop=False)"
   ]
  },
  {
   "cell_type": "code",
   "execution_count": 11,
   "id": "01ba5dcd-24cd-4b78-b882-62414ddc9266",
   "metadata": {},
   "outputs": [
    {
     "data": {
      "image/png": "[encoded data removed]",
      "text/plain": [
       "<Figure size 640x480 with 1 Axes>"
      ]
     },
     "metadata": {},
     "output_type": "display_data"
    },
    {
     "name": "stdout",
     "output_type": "stream",
     "text": [
      "Test rmse 0.35659764574260394\n"
     ]
    }
   ],
   "source": [
    "# Plot error\n",
    "errors = svd_predictor.get_train_errors()\n",
    "val_errors = svd_predictor.get_val_errors()\n",
    "plt.plot(range(len(errors)), errors, label='Training error')\n",
    "plt.plot(range(len(val_errors)), val_errors, label='Test error')\n",
    "plt.xlabel('Epoch')\n",
    "plt.ylabel('Error')\n",
    "plt.title('Error vs Epoch')\n",
    "plt.legend()\n",
    "plt.show()\n",
    "\n",
    "# Compute rmse\n",
    "predictions = svd_predictor.predict_pairs([(user, item) for user, item, _ in val])\n",
    "predictions = [prediction + (val[i][2],) for i, prediction in enumerate(predictions)]\n",
    "metrics = Metrics()\n",
    "rmse = metrics.rmse(predictions)\n",
    "print(\"Test rmse\", rmse)"
   ]
  },
  {
   "cell_type": "code",
   "execution_count": 7,
   "id": "357a8cf6-fd71-4ea3-b90a-f6dd3ff944a8",
   "metadata": {},
   "outputs": [
    {
     "name": "stdout",
     "output_type": "stream",
     "text": [
      "Computing similarities...\n",
      "Upto row 0\n",
      "Upto row 200\n",
      "Upto row 400\n",
      "Upto row 600\n",
      "Upto row 800\n",
      "Upto row 1000\n",
      "Upto row 1200\n",
      "Upto row 1400\n",
      "Upto row 1600\n",
      "Upto row 1800\n",
      "Upto row 2000\n",
      "Upto row 2200\n",
      "Done computing similarities in 402.303026676178 seconds\n"
     ]
    }
   ],
   "source": [
    "svd_predictor.compute_sims()"
   ]
  },
  {
   "cell_type": "code",
   "execution_count": 16,
   "id": "a225937b-fc43-418b-bd28-efa4cf56b1b4",
   "metadata": {},
   "outputs": [
    {
     "name": "stdout",
     "output_type": "stream",
     "text": [
      "[(0.9905410611160306, 'Kingdom Come: Deliverance'),\n",
      " (0.9903958766826273, 'Total War: MEDIEVAL II – Definitive Edition'),\n",
      " (0.9901983715016155, 'Dagon: by H. P. Lovecraft'),\n",
      " (0.9901261637122482, 'Borderlands 2'),\n",
      " (0.9901094653000798, 'Valheim'),\n",
      " (0.9900139335809301, 'Fishing: Barents Sea'),\n",
      " (0.9899964133391225, \"Sid Meier's Civilization® IV\"),\n",
      " (0.9899919691869747, 'Rise of Nations: Extended Edition'),\n",
      " (0.9899831788872643, 'Counter-Strike: Source'),\n",
      " (0.989954209849756, 'Unturned')]\n"
     ]
    }
   ],
   "source": [
    "top = svd_predictor.items_knn([(147, 1)])\n",
    "pprint([(sim, train_data.index_to_title(index)) for sim, index in top])"
   ]
  },
  {
   "cell_type": "code",
   "execution_count": 17,
   "id": "b664f8ce-2bcf-4bc2-8e25-51fee4d447fc",
   "metadata": {},
   "outputs": [
    {
     "name": "stdout",
     "output_type": "stream",
     "text": [
      "Saving model...\n",
      "Done saving model.\n"
     ]
    }
   ],
   "source": [
    "# Ensure file exists\n",
    "model_dir = model_dir = \"saved_models/{}-{}-{}-{}-{}-{}_{}\".format(\n",
    "    *(time.localtime()[:6] + (round(rmse, 4), ))).replace(\".\", \"-\") + \".pkl\" \n",
    "file = open(model_dir, 'a')\n",
    "file.close()\n",
    "\n",
    "# Save model\n",
    "print(\"Saving model...\")\n",
    "with open(model_dir, 'wb') as file:\n",
    "    pickle.dump([train_data, svd_predictor], file)\n",
    "print(\"Done saving model.\")"
   ]
  },
  {
   "cell_type": "code",
   "execution_count": null,
   "id": "6ab5770d-962b-47b1-9b82-74feac83f214",
   "metadata": {},
   "outputs": [],
   "source": [
    "j = 23\n",
    "# Test top-n list for user j\n",
    "top_n = svd_predictor.top_n(j, 20)\n",
    "print(\"Predicted top n:\")\n",
    "pprint([(r, train_data.index_to_title(index)) for r, index in top_n])\n",
    "\n",
    "# User j true top n list\n",
    "print(\"True top n:\")\n",
    "true_top = train_data.top_n(j, 5000)\n",
    "pprint([train_data.index_to_title(index) for _, index in true_top])"
   ]
  },
  {
   "cell_type": "code",
   "execution_count": null,
   "id": "8f39bc02-a788-46a0-8f11-156cade2be99",
   "metadata": {},
   "outputs": [],
   "source": [
    "# values, bins = np.histogram(svd_predictor._user_features[0, :])\n",
    "# plt.stairs(values, bins)\n",
    "# plt.show()"
   ]
  },
  {
   "cell_type": "code",
   "execution_count": 14,
   "id": "4a9be427-4b26-4189-9eed-02e98e23056c",
   "metadata": {},
   "outputs": [
    {
     "data": {
      "text/plain": [
       "[('The Elder Scrolls V: Skyrim VR', 661),\n",
       " ('The Elder Scrolls V: Skyrim Special Edition', 147)]"
      ]
     },
     "execution_count": 14,
     "metadata": {},
     "output_type": "execute_result"
    }
   ],
   "source": [
    "train_data.search_title('skyrim')"
   ]
  },
  {
   "cell_type": "code",
   "execution_count": 87,
   "id": "af7c7b3d-f089-454c-8892-52d633e70b9b",
   "metadata": {},
   "outputs": [
    {
     "name": "stdout",
     "output_type": "stream",
     "text": [
      "[(196, 'Mortal Kombat X', 0),\n",
      " (740, 'The Sims™ 3', 1),\n",
      " (174, 'The Sims™ 4', 1),\n",
      " (819, 'A Hat in Time', 1)]\n"
     ]
    }
   ],
   "source": [
    "prefs = [(196, 0), (740, 1), (174, 1), (819, 1)]\n",
    "# prefs = [(5, 1), (229, 1), (966, 0)]\n",
    "pprint([(index, train_data.index_to_title(index), pref) for index, pref in prefs])\n",
    "prefs = train_data.create_prefs(prefs)    "
   ]
  },
  {
   "cell_type": "code",
   "execution_count": null,
   "id": "2b516899-5ff8-4cbc-abc0-fd9d7a78cb5d",
   "metadata": {},
   "outputs": [],
   "source": [
    "start_time = time.time()\n",
    "svd_predictor.partial_fit(prefs, epochs=EPOCHS)\n",
    "print(\"Completed partial fit in\", time.time() - start_time, \"seconds\")"
   ]
  },
  {
   "cell_type": "code",
   "execution_count": null,
   "id": "4e10eed0-deb4-440a-92e8-eb12c7a96b97",
   "metadata": {},
   "outputs": [],
   "source": [
    "top_n = svd_predictor.top_n(svd_predictor._num_users - 1, 20)\n",
    "print(\"Predicted top n\")\n",
    "pprint([(r, train_data.index_to_title(index)) for r, index in top_n])"
   ]
  },
  {
   "cell_type": "code",
   "execution_count": null,
   "id": "3ed80d3c-1901-4404-a237-edea0ddc01a1",
   "metadata": {},
   "outputs": [],
   "source": []
  }
 ],
 "metadata": {
  "kernelspec": {
   "display_name": "Python 3 (ipykernel)",
   "language": "python",
   "name": "python3"
  },
  "language_info": {
   "codemirror_mode": {
    "name": "ipython",
    "version": 3
   },
   "file_extension": ".py",
   "mimetype": "text/x-python",
   "name": "python",
   "nbconvert_exporter": "python",
   "pygments_lexer": "ipython3",
   "version": "3.9.16"
  }
 },
 "nbformat": 4,
 "nbformat_minor": 5
}
