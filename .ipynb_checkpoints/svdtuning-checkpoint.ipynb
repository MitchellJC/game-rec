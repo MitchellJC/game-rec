{
 "cells": [
  {
   "cell_type": "code",
   "execution_count": 1,
   "id": "2b35e932-407e-4160-878a-1547e900cce9",
   "metadata": {},
   "outputs": [],
   "source": [
    "import numpy as np\n",
    "from scipy.sparse import csr_matrix\n",
    "from scipy.sparse import lil_matrix\n",
    "import matplotlib.pyplot as plt\n",
    "import pandas as pd\n",
    "import math\n",
    "import pickle\n",
    "import time\n",
    "import datetime\n",
    "import random\n",
    "from pprint import pprint\n",
    "\n",
    "from SVD import Metrics, SVDPredictor\n",
    "from RecData import RecData"
   ]
  },
  {
   "cell_type": "code",
   "execution_count": 2,
   "id": "86929969-e5de-468e-b024-80cf550c6e8f",
   "metadata": {},
   "outputs": [
    {
     "data": {
      "text/html": [
       "<div>\n",
       "<style scoped>\n",
       "    .dataframe tbody tr th:only-of-type {\n",
       "        vertical-align: middle;\n",
       "    }\n",
       "\n",
       "    .dataframe tbody tr th {\n",
       "        vertical-align: top;\n",
       "    }\n",
       "\n",
       "    .dataframe thead th {\n",
       "        text-align: right;\n",
       "    }\n",
       "</style>\n",
       "<table border=\"1\" class=\"dataframe\">\n",
       "  <thead>\n",
       "    <tr style=\"text-align: right;\">\n",
       "      <th></th>\n",
       "      <th>app_id</th>\n",
       "      <th>is_recommended</th>\n",
       "      <th>user_id</th>\n",
       "    </tr>\n",
       "  </thead>\n",
       "  <tbody>\n",
       "    <tr>\n",
       "      <th>0</th>\n",
       "      <td>534380</td>\n",
       "      <td>True</td>\n",
       "      <td>10531</td>\n",
       "    </tr>\n",
       "    <tr>\n",
       "      <th>1</th>\n",
       "      <td>42700</td>\n",
       "      <td>False</td>\n",
       "      <td>185293</td>\n",
       "    </tr>\n",
       "    <tr>\n",
       "      <th>2</th>\n",
       "      <td>602960</td>\n",
       "      <td>True</td>\n",
       "      <td>319249</td>\n",
       "    </tr>\n",
       "    <tr>\n",
       "      <th>3</th>\n",
       "      <td>976730</td>\n",
       "      <td>False</td>\n",
       "      <td>747545</td>\n",
       "    </tr>\n",
       "    <tr>\n",
       "      <th>4</th>\n",
       "      <td>1091500</td>\n",
       "      <td>True</td>\n",
       "      <td>2113544</td>\n",
       "    </tr>\n",
       "  </tbody>\n",
       "</table>\n",
       "</div>"
      ],
      "text/plain": [
       "    app_id  is_recommended  user_id\n",
       "0   534380            True    10531\n",
       "1    42700           False   185293\n",
       "2   602960            True   319249\n",
       "3   976730           False   747545\n",
       "4  1091500            True  2113544"
      ]
     },
     "execution_count": 2,
     "metadata": {},
     "output_type": "execute_result"
    }
   ],
   "source": [
    "recs = pd.read_csv('data/pruned.csv')\n",
    "USED_COLS = ['app_id', 'is_recommended', 'user_id']\n",
    "recs = recs[USED_COLS]\n",
    "\n",
    "item_data = pd.read_csv('data/games.csv')\n",
    "titles = item_data[['app_id', 'title']]\n",
    "\n",
    "recs.head()"
   ]
  },
  {
   "cell_type": "code",
   "execution_count": 3,
   "id": "d633ed7d-64ec-4423-94e4-f8f31cf4f832",
   "metadata": {},
   "outputs": [],
   "source": [
    "random.seed(42)\n",
    "np.random.seed(42)\n",
    "\n",
    "rec_data = RecData()\n",
    "rec_data.create_from_dataframe(recs)\n",
    "rec_data.set_titles(titles)\n",
    "\n",
    "train_data, test = rec_data.leave_k_out_split()\n",
    "train_data, val = train_data.leave_k_out_split()"
   ]
  },
  {
   "cell_type": "code",
   "execution_count": null,
   "id": "5cb4b4a6-76ca-4200-8e02-53c6bf30ab6e",
   "metadata": {},
   "outputs": [
    {
     "name": "stdout",
     "output_type": "stream",
     "text": [
      "Epoch 0/"
     ]
    }
   ],
   "source": [
    "EPOCHS = 10\n",
    "\n",
    "random.seed(42)\n",
    "np.random.seed(42)\n",
    "\n",
    "# Fit and predict with svd\n",
    "svd_predictor = SVDPredictor(\n",
    "    train_data.get_num_users(), train_data.get_num_items(), k=20, epochs=EPOCHS, \n",
    "    learning_rate=0.001, C=0.02)\n",
    "svd_predictor.fit(train_data.get_matrix(), validation_set=val)\n",
    "\n",
    "# Plot error\n",
    "errors = svd_predictor.get_train_errors()\n",
    "val_errors = svd_predictor.get_val_errors()\n",
    "plt.plot(range(len(errors)), errors, label='Training error')\n",
    "plt.plot(range(len(val_errors)), val_errors, label='Test error')\n",
    "plt.xlabel('Epoch')\n",
    "plt.ylabel('Error')\n",
    "plt.title('Error vs Epoch')\n",
    "plt.legend()\n",
    "plt.show()\n",
    "\n",
    "# Compute rmse\n",
    "predictions = svd_predictor.predict([(user, item) for user, item, _ in val])\n",
    "predictions = [prediction + (val[i][2],) for i, prediction in enumerate(predictions)]\n",
    "metrics = Metrics()\n",
    "rmse = metrics.rmse(predictions)\n",
    "print(\"Test rmse\", rmse)\n",
    "\n",
    "# Ensure file exists\n",
    "model_dir = model_dir = \"saved_models/{}-{}-{}-{}-{}-{}_{}\".format(\n",
    "    *(time.localtime()[:6] + (round(rmse, 4), ))).replace(\".\", \"-\") + \".pkl\" \n",
    "file = open(model_dir, 'a')\n",
    "file.close()\n",
    "\n",
    "# Save model\n",
    "print(\"Saving model...\")\n",
    "with open(model_dir, 'wb') as file:\n",
    "    pickle.dump([svd_predictor, rec_data, train_data, val, test], file)\n",
    "print(\"Done saving model.\")"
   ]
  },
  {
   "cell_type": "code",
   "execution_count": 6,
   "id": "b132f861-14c4-4d86-82cf-7b37b5e31c92",
   "metadata": {},
   "outputs": [
    {
     "name": "stdout",
     "output_type": "stream",
     "text": [
      "Predicted top n:\n",
      "[(2.001566670562742, 'Portal 2'),\n",
      " (2.00145254629391, 'A Hat in Time'),\n",
      " (1.996648314017093, 'Terraria'),\n",
      " (1.9845047661881696, 'Neon White'),\n",
      " (1.983331117250067, 'Half-Life 2'),\n",
      " (1.9832748169752858, 'POSTAL 2'),\n",
      " (1.9816570495312607, 'Gunpoint'),\n",
      " (1.9815029513788571, 'Portal'),\n",
      " (1.981276442191341, 'Keep Talking and Nobody Explodes'),\n",
      " (1.9809600122880713, 'ULTRAKILL')]\n",
      "True top n:\n",
      "['Grand Theft Auto IV: The Complete Edition',\n",
      " 'Fallout: New Vegas',\n",
      " 'Dying Light',\n",
      " '7 Days to Die',\n",
      " 'American Truck Simulator',\n",
      " 'RimWorld',\n",
      " 'DARK SOULS™ II: Scholar of the First Sin',\n",
      " 'Dead Island Definitive Edition',\n",
      " 'DRAGON BALL XENOVERSE 2',\n",
      " 'Satisfactory',\n",
      " 'Dying Light 2 Stay Human',\n",
      " \"Assassin's Creed® Origins\",\n",
      " 'Phasmophobia',\n",
      " 'Halo: The Master Chief Collection',\n",
      " 'Timberborn',\n",
      " 'Orcs Must Die! 3']\n"
     ]
    }
   ],
   "source": [
    "# Test top-n list for user 0\n",
    "top_n = svd_predictor.top_n(0)\n",
    "print(\"Predicted top n:\")\n",
    "pprint([(r, train_data.index_to_title(index)) for r, index in top_n])\n",
    "\n",
    "# User 0 true top n list\n",
    "print(\"True top n:\")\n",
    "true_top = rec_data.top_n(0, 100)\n",
    "pprint([rec_data.index_to_title(index) for _, index in true_top])"
   ]
  },
  {
   "cell_type": "code",
   "execution_count": 7,
   "id": "4a9be427-4b26-4189-9eed-02e98e23056c",
   "metadata": {},
   "outputs": [
    {
     "data": {
      "text/plain": [
       "[]"
      ]
     },
     "execution_count": 7,
     "metadata": {},
     "output_type": "execute_result"
    }
   ],
   "source": [
    "rec_data.search_title('1330')"
   ]
  },
  {
   "cell_type": "code",
   "execution_count": 8,
   "id": "af7c7b3d-f089-454c-8892-52d633e70b9b",
   "metadata": {},
   "outputs": [
    {
     "name": "stdout",
     "output_type": "stream",
     "text": [
      "[(606, 'Stardew Valley', 1),\n",
      " (1628, 'The Sims™ 4', 1),\n",
      " (391, 'Mortal Kombat X', 0),\n",
      " (1330, 'Mortal Kombat\\xa011', 0),\n",
      " (500, 'Total War: WARHAMMER', 0),\n",
      " (709, 'UNO', 1),\n",
      " (840, 'MONOPOLY® PLUS', 0),\n",
      " (58, 'SPORE™', 1),\n",
      " (456, 'Choice of Robots', 1),\n",
      " (153, 'Infested Planet', 0),\n",
      " (158, 'Gunpoint', 0),\n",
      " (1160, 'Cosmoteer: Starship Architect & Commander', 0),\n",
      " (761, 'Glass Masquerade', 0),\n",
      " (1771, 'Against the Storm', 0),\n",
      " (544, 'Aviary Attorney', 0),\n",
      " (312, 'Grand Theft Auto V', 0),\n",
      " (277, 'Rust', 0)]\n"
     ]
    }
   ],
   "source": [
    "prefs = [(606, 1), (1628, 1), (391, 0), (1330, 0), (500, 0), (709, 1), (840, 0), \n",
    "         (58, 1), (456, 1), (153, 0), (158, 0), (1160, 0), (761, 0),\n",
    "                              (1771, 0), (544, 0), (312, 0), (277, 0)]\n",
    "pprint([(index, rec_data.index_to_title(index), pref) for index, pref in prefs])\n",
    "prefs = rec_data.create_prefs(prefs)    "
   ]
  },
  {
   "cell_type": "code",
   "execution_count": 9,
   "id": "2b516899-5ff8-4cbc-abc0-fd9d7a78cb5d",
   "metadata": {},
   "outputs": [
    {
     "name": "stdout",
     "output_type": "stream",
     "text": [
      "Epoch 0/Training error: 0.36391026602823234/Time: 3.21 seconds\n",
      "Epoch 1/Training error: 0.363910111848824/Time: 3.24 seconds\n",
      "Epoch 2/Training error: 0.36390996313659824/Time: 3.33 seconds\n",
      "Epoch 3/Training error: 0.3639098193184871/Time: 3.36 seconds\n",
      "Epoch 4/Training error: 0.36390968052567924/Time: 3.26 seconds\n",
      "Completed partial fit in 16.44036841392517 seconds\n"
     ]
    }
   ],
   "source": [
    "svd_predictor._partial_batch_size = int(0)\n",
    "start_time = time.time()\n",
    "svd_predictor.partial_fit(prefs)\n",
    "print(\"Completed partial fit in\", time.time() - start_time, \"seconds\")"
   ]
  },
  {
   "cell_type": "code",
   "execution_count": 10,
   "id": "4e10eed0-deb4-440a-92e8-eb12c7a96b97",
   "metadata": {},
   "outputs": [
    {
     "name": "stdout",
     "output_type": "stream",
     "text": [
      "Predicted top n\n",
      "[(1.9479009545701367, 'Portal 2'),\n",
      " (1.9478894061668424, 'A Hat in Time'),\n",
      " (1.9418145810792964, 'Terraria'),\n",
      " (1.9300189139775792, 'Neon White'),\n",
      " (1.929320359805762, 'Half-Life 2'),\n",
      " (1.9289749482459826, 'POSTAL 2'),\n",
      " (1.9275691143206883, 'Portal'),\n",
      " (1.9275621692949834, 'Keep Talking and Nobody Explodes'),\n",
      " (1.926088808030073, 'ULTRAKILL'),\n",
      " (1.924710446097859, 'Persona 5 Royal'),\n",
      " (1.9220783618372463, 'Cookie Clicker'),\n",
      " (1.921394214738596, \"Sid Meier's Civilization® V\"),\n",
      " (1.9212353388379064, 'Wallpaper Engine'),\n",
      " (1.9210893603053756, 'Left 4 Dead 2'),\n",
      " (1.9201290459732787, 'Bloons TD 6'),\n",
      " (1.9195272928437248, 'Bastion'),\n",
      " (1.9191232066737676, 'Half-Life: Alyx'),\n",
      " (1.919064622710589, 'The Wolf Among Us'),\n",
      " (1.9178461115899188, 'DUSK'),\n",
      " (1.9166612434649712, 'Psychonauts 2')]\n"
     ]
    }
   ],
   "source": [
    "top_n = svd_predictor.top_n(train_data.get_matrix().shape[0], 20)\n",
    "print(\"Predicted top n\")\n",
    "pprint([(r, train_data.index_to_title(index)) for r, index in top_n])"
   ]
  },
  {
   "cell_type": "code",
   "execution_count": null,
   "id": "3ed80d3c-1901-4404-a237-edea0ddc01a1",
   "metadata": {},
   "outputs": [],
   "source": []
  }
 ],
 "metadata": {
  "kernelspec": {
   "display_name": "Python 3 (ipykernel)",
   "language": "python",
   "name": "python3"
  },
  "language_info": {
   "codemirror_mode": {
    "name": "ipython",
    "version": 3
   },
   "file_extension": ".py",
   "mimetype": "text/x-python",
   "name": "python",
   "nbconvert_exporter": "python",
   "pygments_lexer": "ipython3",
   "version": "3.9.16"
  }
 },
 "nbformat": 4,
 "nbformat_minor": 5
}
