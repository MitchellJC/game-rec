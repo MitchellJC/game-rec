{
 "cells": [
  {
   "cell_type": "code",
   "execution_count": 1,
   "id": "2b35e932-407e-4160-878a-1547e900cce9",
   "metadata": {},
   "outputs": [],
   "source": [
    "import numpy as np\n",
    "from scipy.sparse import csr_matrix\n",
    "from scipy.sparse import lil_matrix\n",
    "import matplotlib.pyplot as plt\n",
    "import pandas as pd\n",
    "import math\n",
    "import pickle\n",
    "import time\n",
    "import datetime\n",
    "import random\n",
    "from pprint import pprint\n",
    "\n",
    "from SVD import Metrics, SVDPredictor\n",
    "from RecData import RecData"
   ]
  },
  {
   "cell_type": "code",
   "execution_count": 2,
   "id": "86929969-e5de-468e-b024-80cf550c6e8f",
   "metadata": {},
   "outputs": [
    {
     "data": {
      "text/html": [
       "<div>\n",
       "<style scoped>\n",
       "    .dataframe tbody tr th:only-of-type {\n",
       "        vertical-align: middle;\n",
       "    }\n",
       "\n",
       "    .dataframe tbody tr th {\n",
       "        vertical-align: top;\n",
       "    }\n",
       "\n",
       "    .dataframe thead th {\n",
       "        text-align: right;\n",
       "    }\n",
       "</style>\n",
       "<table border=\"1\" class=\"dataframe\">\n",
       "  <thead>\n",
       "    <tr style=\"text-align: right;\">\n",
       "      <th></th>\n",
       "      <th>app_id</th>\n",
       "      <th>is_recommended</th>\n",
       "      <th>user_id</th>\n",
       "    </tr>\n",
       "  </thead>\n",
       "  <tbody>\n",
       "    <tr>\n",
       "      <th>0</th>\n",
       "      <td>534380</td>\n",
       "      <td>True</td>\n",
       "      <td>10531</td>\n",
       "    </tr>\n",
       "    <tr>\n",
       "      <th>1</th>\n",
       "      <td>42700</td>\n",
       "      <td>False</td>\n",
       "      <td>185293</td>\n",
       "    </tr>\n",
       "    <tr>\n",
       "      <th>2</th>\n",
       "      <td>602960</td>\n",
       "      <td>True</td>\n",
       "      <td>319249</td>\n",
       "    </tr>\n",
       "    <tr>\n",
       "      <th>3</th>\n",
       "      <td>976730</td>\n",
       "      <td>False</td>\n",
       "      <td>747545</td>\n",
       "    </tr>\n",
       "    <tr>\n",
       "      <th>4</th>\n",
       "      <td>1091500</td>\n",
       "      <td>True</td>\n",
       "      <td>2113544</td>\n",
       "    </tr>\n",
       "  </tbody>\n",
       "</table>\n",
       "</div>"
      ],
      "text/plain": [
       "    app_id  is_recommended  user_id\n",
       "0   534380            True    10531\n",
       "1    42700           False   185293\n",
       "2   602960            True   319249\n",
       "3   976730           False   747545\n",
       "4  1091500            True  2113544"
      ]
     },
     "execution_count": 2,
     "metadata": {},
     "output_type": "execute_result"
    }
   ],
   "source": [
    "recs = pd.read_csv('data/pruned.csv')\n",
    "USED_COLS = ['app_id', 'is_recommended', 'user_id']\n",
    "recs = recs[USED_COLS]\n",
    "\n",
    "item_data = pd.read_csv('data/games.csv')\n",
    "titles = item_data[['app_id', 'title']]\n",
    "\n",
    "recs.head()"
   ]
  },
  {
   "cell_type": "code",
   "execution_count": 3,
   "id": "d633ed7d-64ec-4423-94e4-f8f31cf4f832",
   "metadata": {},
   "outputs": [
    {
     "ename": "KeyboardInterrupt",
     "evalue": "",
     "output_type": "error",
     "traceback": [
      "\u001b[1;31m---------------------------------------------------------------------------\u001b[0m",
      "\u001b[1;31mKeyboardInterrupt\u001b[0m                         Traceback (most recent call last)",
      "Cell \u001b[1;32mIn[3], line 8\u001b[0m\n\u001b[0;32m      5\u001b[0m rec_data\u001b[38;5;241m.\u001b[39mcreate_from_dataframe(recs)\n\u001b[0;32m      6\u001b[0m rec_data\u001b[38;5;241m.\u001b[39mset_titles(titles)\n\u001b[1;32m----> 8\u001b[0m train_data, test \u001b[38;5;241m=\u001b[39m \u001b[43mrec_data\u001b[49m\u001b[38;5;241;43m.\u001b[39;49m\u001b[43mleave_k_out_split\u001b[49m\u001b[43m(\u001b[49m\u001b[43m)\u001b[49m\n\u001b[0;32m      9\u001b[0m train_data, val \u001b[38;5;241m=\u001b[39m train_data\u001b[38;5;241m.\u001b[39mleave_k_out_split()\n",
      "File \u001b[1;32m~\\Files\\GitHub\\game-rec\\RecData.py:33\u001b[0m, in \u001b[0;36mRecData.leave_k_out_split\u001b[1;34m(self, k)\u001b[0m\n\u001b[0;32m     31\u001b[0m \u001b[38;5;28;01mfor\u001b[39;00m user \u001b[38;5;129;01min\u001b[39;00m \u001b[38;5;28mrange\u001b[39m(\u001b[38;5;28mself\u001b[39m\u001b[38;5;241m.\u001b[39m_M\u001b[38;5;241m.\u001b[39mshape[\u001b[38;5;241m0\u001b[39m]):\n\u001b[0;32m     32\u001b[0m     possible_indices \u001b[38;5;241m=\u001b[39m np\u001b[38;5;241m.\u001b[39mnonzero(\u001b[38;5;28mself\u001b[39m\u001b[38;5;241m.\u001b[39m_M[[user], :])[\u001b[38;5;241m1\u001b[39m]\n\u001b[1;32m---> 33\u001b[0m     left_out \u001b[38;5;241m=\u001b[39m \u001b[43mnp\u001b[49m\u001b[38;5;241;43m.\u001b[39;49m\u001b[43mrandom\u001b[49m\u001b[38;5;241;43m.\u001b[39;49m\u001b[43mchoice\u001b[49m\u001b[43m(\u001b[49m\u001b[43mpossible_indices\u001b[49m\u001b[43m,\u001b[49m\u001b[43m \u001b[49m\u001b[43mk\u001b[49m\u001b[43m,\u001b[49m\u001b[43m \u001b[49m\u001b[43mreplace\u001b[49m\u001b[38;5;241;43m=\u001b[39;49m\u001b[38;5;28;43;01mFalse\u001b[39;49;00m\u001b[43m)\u001b[49m\n\u001b[0;32m     34\u001b[0m     \u001b[38;5;28;01mfor\u001b[39;00m item \u001b[38;5;129;01min\u001b[39;00m left_out:\n\u001b[0;32m     35\u001b[0m         M_prime[user, item] \u001b[38;5;241m=\u001b[39m \u001b[38;5;241m0\u001b[39m\n",
      "\u001b[1;31mKeyboardInterrupt\u001b[0m: "
     ]
    }
   ],
   "source": [
    "random.seed(42)\n",
    "np.random.seed(42)\n",
    "\n",
    "rec_data = RecData()\n",
    "rec_data.create_from_dataframe(recs)\n",
    "rec_data.set_titles(titles)\n",
    "\n",
    "train_data, test = rec_data.leave_k_out_split()\n",
    "train_data, val = train_data.leave_k_out_split()"
   ]
  },
  {
   "cell_type": "code",
   "execution_count": null,
   "id": "5cb4b4a6-76ca-4200-8e02-53c6bf30ab6e",
   "metadata": {},
   "outputs": [],
   "source": [
    "EPOCHS = 5\n",
    "\n",
    "random.seed(42)\n",
    "np.random.seed(42)\n",
    "\n",
    "# Fit and predict with svd\n",
    "svd_predictor = SVDPredictor(\n",
    "    train_data.get_num_users(), train_data.get_num_items(), 2, k=10, epochs=EPOCHS, \n",
    "    learning_rate=0.001, C=0.02)\n",
    "svd_predictor.fit(train_data.get_matrix(), validation_set=val)\n",
    "\n",
    "# Plot error\n",
    "errors = svd_predictor.get_train_errors()\n",
    "val_errors = svd_predictor.get_val_errors()\n",
    "plt.plot(range(len(errors)), errors, label='Training error')\n",
    "plt.plot(range(len(val_errors)), val_errors, label='Test error')\n",
    "plt.xlabel('Epoch')\n",
    "plt.ylabel('Error')\n",
    "plt.title('Error vs Epoch')\n",
    "plt.legend()\n",
    "plt.show()\n",
    "\n",
    "# Compute rmse\n",
    "predictions = svd_predictor.predict_pairs([(user, item) for user, item, _ in val])\n",
    "predictions = [prediction + (val[i][2],) for i, prediction in enumerate(predictions)]\n",
    "metrics = Metrics()\n",
    "rmse = metrics.rmse(predictions)\n",
    "print(\"Test rmse\", rmse)\n",
    "\n",
    "# Ensure file exists\n",
    "model_dir = model_dir = \"saved_models/{}-{}-{}-{}-{}-{}_{}\".format(\n",
    "    *(time.localtime()[:6] + (round(rmse, 4), ))).replace(\".\", \"-\") + \".pkl\" \n",
    "file = open(model_dir, 'a')\n",
    "file.close()\n",
    "\n",
    "# Save model\n",
    "print(\"Saving model...\")\n",
    "with open(model_dir, 'wb') as file:\n",
    "    pickle.dump([svd_predictor, rec_data, train_data, val, test], file)\n",
    "print(\"Done saving model.\")"
   ]
  },
  {
   "cell_type": "code",
   "execution_count": 5,
   "id": "6ab5770d-962b-47b1-9b82-74feac83f214",
   "metadata": {},
   "outputs": [
    {
     "name": "stdout",
     "output_type": "stream",
     "text": [
      "Predicted top n:\n",
      "[(2.0018853585024634, 'Portal 2'),\n",
      " (2.0016907558141726, 'A Hat in Time'),\n",
      " (1.9966100820677786, 'Terraria'),\n",
      " (1.984401638522746, 'Neon White'),\n",
      " (1.982933098117684, 'POSTAL 2'),\n",
      " (1.9829035767576024, 'Half-Life 2'),\n",
      " (1.981467793894236, 'Keep Talking and Nobody Explodes'),\n",
      " (1.9812414232997384, 'Gunpoint'),\n",
      " (1.9812295958487618, 'Portal'),\n",
      " (1.9807538900007169, 'ULTRAKILL'),\n",
      " (1.978997705427292, 'Persona 5 Royal'),\n",
      " (1.9759924927333774, 'Left 4 Dead 2'),\n",
      " (1.975959184041426, 'Cookie Clicker'),\n",
      " (1.9755949750039012, 'Wallpaper Engine'),\n",
      " (1.9755424790990932, \"Sid Meier's Civilization® V\"),\n",
      " (1.9742167097137138, 'Bloons TD 6'),\n",
      " (1.9732514967740888, 'The Wolf Among Us'),\n",
      " (1.9732152265341725, 'Half-Life: Alyx'),\n",
      " (1.9728427290189066, 'Bastion'),\n",
      " (1.9719946424201977, 'DUSK')]\n",
      "True top n:\n",
      "['Grand Theft Auto IV: The Complete Edition',\n",
      " 'Fallout: New Vegas',\n",
      " 'Dying Light',\n",
      " '7 Days to Die',\n",
      " 'American Truck Simulator',\n",
      " 'RimWorld',\n",
      " 'DARK SOULS™ II: Scholar of the First Sin',\n",
      " 'Dead Island Definitive Edition',\n",
      " 'DRAGON BALL XENOVERSE 2',\n",
      " 'Satisfactory',\n",
      " 'Dying Light 2 Stay Human',\n",
      " \"Assassin's Creed® Origins\",\n",
      " 'Phasmophobia',\n",
      " 'Halo: The Master Chief Collection',\n",
      " 'Timberborn',\n",
      " 'Orcs Must Die! 3']\n"
     ]
    }
   ],
   "source": [
    "j = 0\n",
    "# Test top-n list for user j\n",
    "top_n = svd_predictor.top_n(j, 20)\n",
    "print(\"Predicted top n:\")\n",
    "pprint([(r, train_data.index_to_title(index)) for r, index in top_n])\n",
    "\n",
    "# User j true top n list\n",
    "print(\"True top n:\")\n",
    "true_top = rec_data.top_n(j, 1000)\n",
    "pprint([rec_data.index_to_title(index) for _, index in true_top])"
   ]
  },
  {
   "cell_type": "code",
   "execution_count": null,
   "id": "4a9be427-4b26-4189-9eed-02e98e23056c",
   "metadata": {},
   "outputs": [],
   "source": [
    "rec_data.search_title('1330')"
   ]
  },
  {
   "cell_type": "code",
   "execution_count": 14,
   "id": "af7c7b3d-f089-454c-8892-52d633e70b9b",
   "metadata": {},
   "outputs": [
    {
     "name": "stdout",
     "output_type": "stream",
     "text": [
      "[(606, 'Stardew Valley', 1),\n",
      " (1628, 'The Sims™ 4', 1),\n",
      " (391, 'Mortal Kombat X', 0),\n",
      " (1330, 'Mortal Kombat\\xa011', 0),\n",
      " (500, 'Total War: WARHAMMER', 0),\n",
      " (709, 'UNO', 1),\n",
      " (840, 'MONOPOLY® PLUS', 0),\n",
      " (58, 'SPORE™', 1),\n",
      " (456, 'Choice of Robots', 1),\n",
      " (153, 'Infested Planet', 0),\n",
      " (158, 'Gunpoint', 0),\n",
      " (1160, 'Cosmoteer: Starship Architect & Commander', 0),\n",
      " (761, 'Glass Masquerade', 0),\n",
      " (1771, 'Against the Storm', 0),\n",
      " (544, 'Aviary Attorney', 0),\n",
      " (312, 'Grand Theft Auto V', 0),\n",
      " (277, 'Rust', 0)]\n"
     ]
    }
   ],
   "source": [
    "prefs = [(606, 1), (1628, 1), (391, 0), (1330, 0), (500, 0), (709, 1), (840, 0), \n",
    "         (58, 1), (456, 1), (153, 0), (158, 0), (1160, 0), (761, 0),\n",
    "                              (1771, 0), (544, 0), (312, 0), (277, 0)]\n",
    "pprint([(index, rec_data.index_to_title(index), pref) for index, pref in prefs])\n",
    "prefs = rec_data.create_prefs(prefs)    "
   ]
  },
  {
   "cell_type": "code",
   "execution_count": 15,
   "id": "2b516899-5ff8-4cbc-abc0-fd9d7a78cb5d",
   "metadata": {},
   "outputs": [
    {
     "name": "stdout",
     "output_type": "stream",
     "text": [
      "Epoch 0/Training error: 0.3562938940048277/Time: 3.43 seconds\n",
      "Epoch 1/Training error: 0.35629373258536406/Time: 3.36 seconds\n",
      "Epoch 2/Training error: 0.35629357671127204/Time: 3.16 seconds\n",
      "Epoch 3/Training error: 0.35629342625545307/Time: 3.24 seconds\n",
      "Epoch 4/Training error: 0.35629328085706385/Time: 3.34 seconds\n",
      "Epoch 5/Training error: 0.3562931404345393/Time: 3.42 seconds\n",
      "Epoch 6/Training error: 0.3562930045862026/Time: 3.27 seconds\n",
      "Epoch 7/Training error: 0.3562928733132726/Time: 3.2 seconds\n",
      "Epoch 8/Training error: 0.3562927465025948/Time: 3.3 seconds\n",
      "Epoch 9/Training error: 0.356292623864274/Time: 3.21 seconds\n",
      "Completed partial fit in 32.98696041107178 seconds\n"
     ]
    }
   ],
   "source": [
    "svd_predictor._partial_batch_size = int(0)\n",
    "start_time = time.time()\n",
    "svd_predictor.partial_fit(prefs)\n",
    "print(\"Completed partial fit in\", time.time() - start_time, \"seconds\")"
   ]
  },
  {
   "cell_type": "code",
   "execution_count": 17,
   "id": "4e10eed0-deb4-440a-92e8-eb12c7a96b97",
   "metadata": {},
   "outputs": [
    {
     "name": "stdout",
     "output_type": "stream",
     "text": [
      "Predicted top n\n",
      "[(1.9076218733543104, 'A Hat in Time'),\n",
      " (1.9034784988287023, 'Portal 2'),\n",
      " (1.8988644943106179, 'POSTAL 2'),\n",
      " (1.8966593347906735, 'Terraria'),\n",
      " (1.8933959419222457, 'DOOM (1993)'),\n",
      " (1.8922562088992145, 'Neon White'),\n",
      " (1.8911714849204737, 'Bastion'),\n",
      " (1.8898940932712782, 'OMORI'),\n",
      " (1.8894667741788373, 'Keep Talking and Nobody Explodes'),\n",
      " (1.8866023255393254, 'Portal'),\n",
      " (1.8852818615996563, 'Half-Life 2'),\n",
      " (1.8836152254646399, 'ULTRAKILL'),\n",
      " (1.8829275706298338, 'Cookie Clicker'),\n",
      " (1.882713601038485, 'Ultimate Chicken Horse'),\n",
      " (1.8826768031745644, 'DUSK'),\n",
      " (1.8817620328368292, 'Persona 5 Royal'),\n",
      " (1.8815784777870808, 'POSTAL: Brain Damaged'),\n",
      " (1.8803338519033272, 'Outer Wilds'),\n",
      " (1.880106383818281, 'Monolith'),\n",
      " (1.878504350991103, \"Sid Meier's Civilization® V\")]\n"
     ]
    }
   ],
   "source": [
    "top_n = svd_predictor.top_n(train_data.get_matrix().shape[0], 20)\n",
    "print(\"Predicted top n\")\n",
    "pprint([(r, train_data.index_to_title(index)) for r, index in top_n])"
   ]
  },
  {
   "cell_type": "code",
   "execution_count": null,
   "id": "3ed80d3c-1901-4404-a237-edea0ddc01a1",
   "metadata": {},
   "outputs": [],
   "source": []
  }
 ],
 "metadata": {
  "kernelspec": {
   "display_name": "Python 3 (ipykernel)",
   "language": "python",
   "name": "python3"
  },
  "language_info": {
   "codemirror_mode": {
    "name": "ipython",
    "version": 3
   },
   "file_extension": ".py",
   "mimetype": "text/x-python",
   "name": "python",
   "nbconvert_exporter": "python",
   "pygments_lexer": "ipython3",
   "version": "3.9.16"
  }
 },
 "nbformat": 4,
 "nbformat_minor": 5
}
