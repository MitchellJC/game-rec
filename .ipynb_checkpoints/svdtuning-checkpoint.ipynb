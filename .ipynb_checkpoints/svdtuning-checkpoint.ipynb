{
 "cells": [
  {
   "cell_type": "code",
   "execution_count": 1,
   "id": "2b35e932-407e-4160-878a-1547e900cce9",
   "metadata": {},
   "outputs": [],
   "source": [
    "import numpy as np\n",
    "from scipy.sparse import csr_matrix\n",
    "from scipy.sparse import lil_matrix\n",
    "import matplotlib.pyplot as plt\n",
    "import pandas as pd\n",
    "import math\n",
    "import pickle\n",
    "import time\n",
    "import datetime\n",
    "import random\n",
    "from pprint import pprint\n",
    "\n",
    "from SVD import Metrics, SVDPredictor, LogisticSVD\n",
    "from RecData import RecData"
   ]
  },
  {
   "cell_type": "code",
   "execution_count": 2,
   "id": "86929969-e5de-468e-b024-80cf550c6e8f",
   "metadata": {},
   "outputs": [
    {
     "name": "stdout",
     "output_type": "stream",
     "text": [
      "Shape: (14585287, 3)\n"
     ]
    },
    {
     "data": {
      "text/html": [
       "<div>\n",
       "<style scoped>\n",
       "    .dataframe tbody tr th:only-of-type {\n",
       "        vertical-align: middle;\n",
       "    }\n",
       "\n",
       "    .dataframe tbody tr th {\n",
       "        vertical-align: top;\n",
       "    }\n",
       "\n",
       "    .dataframe thead th {\n",
       "        text-align: right;\n",
       "    }\n",
       "</style>\n",
       "<table border=\"1\" class=\"dataframe\">\n",
       "  <thead>\n",
       "    <tr style=\"text-align: right;\">\n",
       "      <th></th>\n",
       "      <th>app_id</th>\n",
       "      <th>is_recommended</th>\n",
       "      <th>user_id</th>\n",
       "    </tr>\n",
       "  </thead>\n",
       "  <tbody>\n",
       "    <tr>\n",
       "      <th>2307118</th>\n",
       "      <td>1145360</td>\n",
       "      <td>True</td>\n",
       "      <td>2597309</td>\n",
       "    </tr>\n",
       "    <tr>\n",
       "      <th>1889941</th>\n",
       "      <td>1846380</td>\n",
       "      <td>True</td>\n",
       "      <td>4457610</td>\n",
       "    </tr>\n",
       "    <tr>\n",
       "      <th>7378728</th>\n",
       "      <td>1000360</td>\n",
       "      <td>True</td>\n",
       "      <td>1152924</td>\n",
       "    </tr>\n",
       "    <tr>\n",
       "      <th>7939199</th>\n",
       "      <td>262060</td>\n",
       "      <td>False</td>\n",
       "      <td>6207094</td>\n",
       "    </tr>\n",
       "    <tr>\n",
       "      <th>11381505</th>\n",
       "      <td>1657630</td>\n",
       "      <td>False</td>\n",
       "      <td>6372672</td>\n",
       "    </tr>\n",
       "  </tbody>\n",
       "</table>\n",
       "</div>"
      ],
      "text/plain": [
       "           app_id  is_recommended  user_id\n",
       "2307118   1145360            True  2597309\n",
       "1889941   1846380            True  4457610\n",
       "7378728   1000360            True  1152924\n",
       "7939199    262060           False  6207094\n",
       "11381505  1657630           False  6372672"
      ]
     },
     "execution_count": 2,
     "metadata": {},
     "output_type": "execute_result"
    }
   ],
   "source": [
    "recs = pd.read_csv('data/recommendations.csv')\n",
    "\n",
    "# Remove old ratings\n",
    "recs = recs.sort_values(by=['date'], ascending=False)\n",
    "recs.drop_duplicates(subset= ['app_id', 'user_id'], inplace=True) \n",
    "\n",
    "USED_COLS = ['app_id', 'is_recommended', 'user_id']\n",
    "recs = recs[USED_COLS]\n",
    "\n",
    "item_data = pd.read_csv('data/games.csv')\n",
    "titles = item_data[['app_id', 'title']]\n",
    "\n",
    "print(\"Shape:\", recs.shape)\n",
    "recs.head()"
   ]
  },
  {
   "cell_type": "code",
   "execution_count": 3,
   "id": "78f0adeb-df3b-4750-b1f5-91c115d6238e",
   "metadata": {},
   "outputs": [
    {
     "name": "stdout",
     "output_type": "stream",
     "text": [
      "Creating utility matrix...\n",
      "Done utility matrix.\n",
      "Creating splits...\n",
      "First split done.\n",
      "Done creating splits.\n"
     ]
    }
   ],
   "source": [
    "random.seed(42)\n",
    "np.random.seed(42)\n",
    "\n",
    "rec_data = RecData()\n",
    "rec_data.create_from_dataframe(recs)\n",
    "rec_data.set_titles(titles)\n",
    "\n",
    "del recs\n",
    "\n",
    "print(\"Creating splits...\")\n",
    "train_data, test = rec_data.train_test_split(test_size=0.2)\n",
    "print(\"First split done.\")\n",
    "train_data, val = train_data.train_test_split(test_size=0.2)\n",
    "print(\"Done creating splits.\")"
   ]
  },
  {
   "cell_type": "code",
   "execution_count": 4,
   "id": "b1086898-b5b8-4dac-93b5-4371c39333c6",
   "metadata": {},
   "outputs": [
    {
     "data": {
      "text/plain": [
       "6903784"
      ]
     },
     "execution_count": 4,
     "metadata": {},
     "output_type": "execute_result"
    }
   ],
   "source": [
    "rec_data._num_users"
   ]
  },
  {
   "cell_type": "code",
   "execution_count": null,
   "id": "d633ed7d-64ec-4423-94e4-f8f31cf4f832",
   "metadata": {},
   "outputs": [],
   "source": [
    "# random.seed(42)\n",
    "# np.random.seed(42)\n",
    "\n",
    "# rec_data = RecData()\n",
    "# rec_data.create_from_dataframe(recs)\n",
    "# rec_data.set_titles(titles)\n",
    "\n",
    "# del recs\n",
    "\n",
    "# print(\"Creating splits...\")\n",
    "# train_data, val, test = rec_data.leave_k_out_split(k=1)\n",
    "# print(\"Done creating splits.\")"
   ]
  },
  {
   "cell_type": "code",
   "execution_count": 5,
   "id": "55f5d9d9-039c-485f-abf7-e8cc5448cedb",
   "metadata": {},
   "outputs": [],
   "source": [
    "del item_data\n",
    "del titles"
   ]
  },
  {
   "cell_type": "code",
   "execution_count": 6,
   "id": "5cb4b4a6-76ca-4200-8e02-53c6bf30ab6e",
   "metadata": {},
   "outputs": [
    {
     "name": "stdout",
     "output_type": "stream",
     "text": [
      "Epoch 0/Training error: 0.6931461361233392/Validation error: 0.6931471221402001/Time: 285.46 seconds\n",
      "Epoch 1/Training error: 0.6931455109130416/Validation error: 0.6931471632676477/Time: 289.78 seconds\n",
      "Epoch 2/Training error: 0.6931447600548356/Validation error: 0.6931471636024203/Time: 292.45 seconds\n",
      "Epoch 3/Training error: 0.6931434732155395/Validation error: 0.6931470348147258/Time: 294.04 seconds\n",
      "Epoch 4/Training error: 0.6931415308236384/Validation error: 0.6931467117698616/Time: 297.38 seconds\n"
     ]
    },
    {
     "data": {
      "image/png": "[encoded data removed]",
      "text/plain": [
       "<Figure size 640x480 with 1 Axes>"
      ]
     },
     "metadata": {},
     "output_type": "display_data"
    },
    {
     "name": "stdout",
     "output_type": "stream",
     "text": [
      "Test rmse 0.4999997656049034\n"
     ]
    }
   ],
   "source": [
    "EPOCHS = 20\n",
    "\n",
    "random.seed(42)\n",
    "np.random.seed(42)\n",
    "\n",
    "# Fit and predict with svd\n",
    "svd_predictor = LogisticSVD(\n",
    "    train_data.get_num_users(), train_data.get_num_items(), 2, k=20, epochs=EPOCHS, \n",
    "    learning_rate=0.01, C=0.02)\n",
    "svd_predictor.fit(train_data.get_matrix(), validation_set=val, early_stop=False)\n",
    "\n",
    "# Plot error\n",
    "errors = svd_predictor.get_train_errors()\n",
    "val_errors = svd_predictor.get_val_errors()\n",
    "plt.plot(range(len(errors)), errors, label='Training error')\n",
    "plt.plot(range(len(val_errors)), val_errors, label='Test error')\n",
    "plt.xlabel('Epoch')\n",
    "plt.ylabel('Error')\n",
    "plt.title('Error vs Epoch')\n",
    "plt.legend()\n",
    "plt.show()\n",
    "\n",
    "# Compute rmse\n",
    "predictions = svd_predictor.predict_pairs([(user, item) for user, item, _ in val])\n",
    "predictions = [prediction + (val[i][2],) for i, prediction in enumerate(predictions)]\n",
    "metrics = Metrics()\n",
    "rmse = metrics.rmse(predictions)\n",
    "print(\"Test rmse\", rmse)"
   ]
  },
  {
   "cell_type": "code",
   "execution_count": null,
   "id": "b664f8ce-2bcf-4bc2-8e25-51fee4d447fc",
   "metadata": {},
   "outputs": [
    {
     "name": "stdout",
     "output_type": "stream",
     "text": [
      "Saving model...\n"
     ]
    }
   ],
   "source": [
    "# Ensure file exists\n",
    "model_dir = model_dir = \"saved_models/{}-{}-{}-{}-{}-{}_{}\".format(\n",
    "    *(time.localtime()[:6] + (round(rmse, 4), ))).replace(\".\", \"-\") + \".pkl\" \n",
    "file = open(model_dir, 'a')\n",
    "file.close()\n",
    "\n",
    "# Save model\n",
    "print(\"Saving model...\")\n",
    "with open(model_dir, 'wb') as file:\n",
    "    pickle.dump([svd_predictor, rec_data, train_data, val, test], file)\n",
    "print(\"Done saving model.\")"
   ]
  },
  {
   "cell_type": "code",
   "execution_count": 17,
   "id": "943c101b-d3af-4b57-93b9-869686587c0b",
   "metadata": {},
   "outputs": [
    {
     "name": "stdout",
     "output_type": "stream",
     "text": [
      "Epoch 0/Training error: 0.6931375828328464/Validation error: 0.6931456186546311/Time: 505.04 seconds\n",
      "Epoch 1/Training error: 0.693128181070156/Validation error: 0.6931412964137632/Time: 491.57 seconds\n",
      "Epoch 2/Training error: 0.6931034098491056/Validation error: 0.6931278175145595/Time: 494.81 seconds\n",
      "Epoch 3/Training error: 0.6930283357977562/Validation error: 0.6930812157562914/Time: 490.12 seconds\n",
      "Epoch 4/"
     ]
    },
    {
     "ename": "KeyboardInterrupt",
     "evalue": "",
     "output_type": "error",
     "traceback": [
      "\u001b[1;31m---------------------------------------------------------------------------\u001b[0m",
      "\u001b[1;31mKeyboardInterrupt\u001b[0m                         Traceback (most recent call last)",
      "Cell \u001b[1;32mIn[17], line 1\u001b[0m\n\u001b[1;32m----> 1\u001b[0m \u001b[43msvd_predictor\u001b[49m\u001b[38;5;241;43m.\u001b[39;49m\u001b[43mcontinue_fit\u001b[49m\u001b[43m(\u001b[49m\u001b[38;5;241;43m10\u001b[39;49m\u001b[43m,\u001b[49m\u001b[43m \u001b[49m\u001b[43mearly_stop\u001b[49m\u001b[38;5;241;43m=\u001b[39;49m\u001b[38;5;28;43;01mFalse\u001b[39;49;00m\u001b[43m)\u001b[49m\n",
      "File \u001b[1;32m~\\Files\\GitHub\\game-rec\\SVD.py:103\u001b[0m, in \u001b[0;36mSVDPredictor.continue_fit\u001b[1;34m(self, epochs, early_stop)\u001b[0m\n\u001b[0;32m    101\u001b[0m \u001b[38;5;66;03m# Display training information\u001b[39;00m\n\u001b[0;32m    102\u001b[0m \u001b[38;5;28mprint\u001b[39m(\u001b[38;5;124m\"\u001b[39m\u001b[38;5;124mEpoch\u001b[39m\u001b[38;5;124m\"\u001b[39m, epoch, end\u001b[38;5;241m=\u001b[39m\u001b[38;5;124m\"\u001b[39m\u001b[38;5;124m/\u001b[39m\u001b[38;5;124m\"\u001b[39m)\n\u001b[1;32m--> 103\u001b[0m \u001b[38;5;28;43mself\u001b[39;49m\u001b[38;5;241;43m.\u001b[39;49m\u001b[43m_compute_error\u001b[49m\u001b[43m(\u001b[49m\u001b[43m)\u001b[49m\n\u001b[0;32m    105\u001b[0m \u001b[38;5;28;01mif\u001b[39;00m \u001b[38;5;28mself\u001b[39m\u001b[38;5;241m.\u001b[39m_validation_set:\n\u001b[0;32m    106\u001b[0m     \u001b[38;5;28mself\u001b[39m\u001b[38;5;241m.\u001b[39m_compute_val_error()\n",
      "File \u001b[1;32m~\\Files\\GitHub\\game-rec\\SVD.py:381\u001b[0m, in \u001b[0;36mLogisticSVD._compute_error\u001b[1;34m(self)\u001b[0m\n\u001b[0;32m    379\u001b[0m items \u001b[38;5;241m=\u001b[39m \u001b[38;5;28mself\u001b[39m\u001b[38;5;241m.\u001b[39m_users_rated[user]\n\u001b[0;32m    380\u001b[0m \u001b[38;5;28;01mfor\u001b[39;00m item \u001b[38;5;129;01min\u001b[39;00m items:\n\u001b[1;32m--> 381\u001b[0m     true \u001b[38;5;241m=\u001b[39m \u001b[38;5;28;43mself\u001b[39;49m\u001b[38;5;241;43m.\u001b[39;49m\u001b[43m_M\u001b[49m\u001b[43m[\u001b[49m\u001b[43muser\u001b[49m\u001b[43m,\u001b[49m\u001b[43m \u001b[49m\u001b[43mitem\u001b[49m\u001b[43m]\u001b[49m \u001b[38;5;241m-\u001b[39m \u001b[38;5;241m1\u001b[39m\n\u001b[0;32m    382\u001b[0m     pred \u001b[38;5;241m=\u001b[39m \u001b[38;5;28mself\u001b[39m\u001b[38;5;241m.\u001b[39mpredict(user, item)\n\u001b[0;32m    384\u001b[0m     loss \u001b[38;5;241m+\u001b[39m\u001b[38;5;241m=\u001b[39m true\u001b[38;5;241m*\u001b[39mnp\u001b[38;5;241m.\u001b[39mlog(pred) \u001b[38;5;241m+\u001b[39m (\u001b[38;5;241m1\u001b[39m \u001b[38;5;241m-\u001b[39m true)\u001b[38;5;241m*\u001b[39mnp\u001b[38;5;241m.\u001b[39mlog(\u001b[38;5;241m1\u001b[39m \u001b[38;5;241m-\u001b[39m pred)\n",
      "File \u001b[1;32m~\\anaconda3\\lib\\site-packages\\scipy\\sparse\\_index.py:52\u001b[0m, in \u001b[0;36mIndexMixin.__getitem__\u001b[1;34m(self, key)\u001b[0m\n\u001b[0;32m     50\u001b[0m \u001b[38;5;28;01mif\u001b[39;00m \u001b[38;5;28misinstance\u001b[39m(row, INT_TYPES):\n\u001b[0;32m     51\u001b[0m     \u001b[38;5;28;01mif\u001b[39;00m \u001b[38;5;28misinstance\u001b[39m(col, INT_TYPES):\n\u001b[1;32m---> 52\u001b[0m         \u001b[38;5;28;01mreturn\u001b[39;00m \u001b[38;5;28;43mself\u001b[39;49m\u001b[38;5;241;43m.\u001b[39;49m\u001b[43m_get_intXint\u001b[49m\u001b[43m(\u001b[49m\u001b[43mrow\u001b[49m\u001b[43m,\u001b[49m\u001b[43m \u001b[49m\u001b[43mcol\u001b[49m\u001b[43m)\u001b[49m\n\u001b[0;32m     53\u001b[0m     \u001b[38;5;28;01melif\u001b[39;00m \u001b[38;5;28misinstance\u001b[39m(col, \u001b[38;5;28mslice\u001b[39m):\n\u001b[0;32m     54\u001b[0m         \u001b[38;5;28mself\u001b[39m\u001b[38;5;241m.\u001b[39m_raise_on_1d_array_slice()\n",
      "File \u001b[1;32m~\\anaconda3\\lib\\site-packages\\scipy\\sparse\\_compressed.py:657\u001b[0m, in \u001b[0;36m_cs_matrix._get_intXint\u001b[1;34m(self, row, col)\u001b[0m\n\u001b[0;32m    655\u001b[0m M, N \u001b[38;5;241m=\u001b[39m \u001b[38;5;28mself\u001b[39m\u001b[38;5;241m.\u001b[39m_swap(\u001b[38;5;28mself\u001b[39m\u001b[38;5;241m.\u001b[39mshape)\n\u001b[0;32m    656\u001b[0m major, minor \u001b[38;5;241m=\u001b[39m \u001b[38;5;28mself\u001b[39m\u001b[38;5;241m.\u001b[39m_swap((row, col))\n\u001b[1;32m--> 657\u001b[0m indptr, indices, data \u001b[38;5;241m=\u001b[39m \u001b[43mget_csr_submatrix\u001b[49m\u001b[43m(\u001b[49m\n\u001b[0;32m    658\u001b[0m \u001b[43m    \u001b[49m\u001b[43mM\u001b[49m\u001b[43m,\u001b[49m\u001b[43m \u001b[49m\u001b[43mN\u001b[49m\u001b[43m,\u001b[49m\u001b[43m \u001b[49m\u001b[38;5;28;43mself\u001b[39;49m\u001b[38;5;241;43m.\u001b[39;49m\u001b[43mindptr\u001b[49m\u001b[43m,\u001b[49m\u001b[43m \u001b[49m\u001b[38;5;28;43mself\u001b[39;49m\u001b[38;5;241;43m.\u001b[39;49m\u001b[43mindices\u001b[49m\u001b[43m,\u001b[49m\u001b[43m \u001b[49m\u001b[38;5;28;43mself\u001b[39;49m\u001b[38;5;241;43m.\u001b[39;49m\u001b[43mdata\u001b[49m\u001b[43m,\u001b[49m\n\u001b[0;32m    659\u001b[0m \u001b[43m    \u001b[49m\u001b[43mmajor\u001b[49m\u001b[43m,\u001b[49m\u001b[43m \u001b[49m\u001b[43mmajor\u001b[49m\u001b[43m \u001b[49m\u001b[38;5;241;43m+\u001b[39;49m\u001b[43m \u001b[49m\u001b[38;5;241;43m1\u001b[39;49m\u001b[43m,\u001b[49m\u001b[43m \u001b[49m\u001b[43mminor\u001b[49m\u001b[43m,\u001b[49m\u001b[43m \u001b[49m\u001b[43mminor\u001b[49m\u001b[43m \u001b[49m\u001b[38;5;241;43m+\u001b[39;49m\u001b[43m \u001b[49m\u001b[38;5;241;43m1\u001b[39;49m\u001b[43m)\u001b[49m\n\u001b[0;32m    660\u001b[0m \u001b[38;5;28;01mreturn\u001b[39;00m data\u001b[38;5;241m.\u001b[39msum(dtype\u001b[38;5;241m=\u001b[39m\u001b[38;5;28mself\u001b[39m\u001b[38;5;241m.\u001b[39mdtype)\n",
      "\u001b[1;31mKeyboardInterrupt\u001b[0m: "
     ]
    }
   ],
   "source": [
    "svd_predictor.continue_fit(1, early_stop=False)"
   ]
  },
  {
   "cell_type": "code",
   "execution_count": 19,
   "id": "01ba5dcd-24cd-4b78-b882-62414ddc9266",
   "metadata": {},
   "outputs": [
    {
     "data": {
      "image/png": "[encoded data removed]",
      "text/plain": [
       "<Figure size 640x480 with 1 Axes>"
      ]
     },
     "metadata": {},
     "output_type": "display_data"
    }
   ],
   "source": [
    "# Plot error\n",
    "errors = svd_predictor.get_train_errors()\n",
    "val_errors = svd_predictor.get_val_errors()\n",
    "plt.plot(range(len(errors)), errors, label='Training error')\n",
    "plt.plot(range(len(val_errors)), val_errors, label='Test error')\n",
    "plt.xlabel('Epoch')\n",
    "plt.ylabel('Error')\n",
    "plt.title('Error vs Epoch')\n",
    "plt.legend()\n",
    "plt.show()"
   ]
  },
  {
   "cell_type": "code",
   "execution_count": 18,
   "id": "6ab5770d-962b-47b1-9b82-74feac83f214",
   "metadata": {},
   "outputs": [
    {
     "name": "stdout",
     "output_type": "stream",
     "text": [
      "Predicted top n:\n",
      "[(0.5005029483151469, 'The WILDS'),\n",
      " (0.500502755671712, \"Tony Stewart's All-American Racing\"),\n",
      " (0.5004942558904721, 'Indiana Jones® and the Infernal Machine™'),\n",
      " (0.5004729374789738, 'Romans: Age of Caesar'),\n",
      " (0.5004542329999244, 'Grey Heritage: Faded Vision'),\n",
      " (0.5004066535448477, 'Pajama Sam 4: Life Is Rough When You Lose Your Stuff!'),\n",
      " (0.500367432085293, 'Nancy Drew®: The Haunting of Castle Malloy'),\n",
      " (0.5003442601204929, 'TramSim Vienna - The Tram Simulator'),\n",
      " (0.5003329502832796, 'Pure Rock Crawling'),\n",
      " (0.5003262577158485, 'Concordia: Digital Edition'),\n",
      " (0.5003255640691661, 'The Settlers® : Rise of an Empire - History Edition'),\n",
      " (0.5003098298133027, 'My Little Farmies'),\n",
      " (0.5003062666736864, '风信楼'),\n",
      " (0.5003016493177126, 'TRYP FPV : The Drone Racer Simulator'),\n",
      " (0.5002896553516163, 'Z1 Battle Royale'),\n",
      " (0.5002880153350073, 'The Settlers® : Heritage of Kings - History Edition'),\n",
      " (0.5002434109612911, 'CINERIS SOMNIA'),\n",
      " (0.5002425189488505,\n",
      "  'Nelke & the Legendary Alchemists ~Ateliers of the New World~'),\n",
      " (0.5002390166996545, 'Arcadia Fallen'),\n",
      " (0.5002345437376748, 'This Means Warp')]\n",
      "True top n:\n",
      "['Darkest Dungeon®', 'Hero Siege']\n"
     ]
    }
   ],
   "source": [
    "j = 3\n",
    "# Test top-n list for user j\n",
    "top_n = svd_predictor.top_n(j, 20)\n",
    "print(\"Predicted top n:\")\n",
    "pprint([(r, train_data.index_to_title(index)) for r, index in top_n])\n",
    "\n",
    "# User j true top n list\n",
    "print(\"True top n:\")\n",
    "true_top = rec_data.top_n(j, 5000)\n",
    "pprint([rec_data.index_to_title(index) for _, index in true_top])"
   ]
  },
  {
   "cell_type": "code",
   "execution_count": 98,
   "id": "8f39bc02-a788-46a0-8f11-156cade2be99",
   "metadata": {},
   "outputs": [
    {
     "data": {
      "image/png": "[encoded data removed]",
      "text/plain": [
       "<Figure size 640x480 with 1 Axes>"
      ]
     },
     "metadata": {},
     "output_type": "display_data"
    }
   ],
   "source": [
    "values, bins = np.histogram(svd_predictor._user_features[0, :])\n",
    "plt.stairs(values, bins)\n",
    "plt.show()"
   ]
  },
  {
   "cell_type": "code",
   "execution_count": 13,
   "id": "4a9be427-4b26-4189-9eed-02e98e23056c",
   "metadata": {},
   "outputs": [
    {
     "data": {
      "text/plain": [
       "[('noel the mortal fate s1-7', 2161),\n",
       " ('mortal kombat x', 966),\n",
       " ('immortality', 856),\n",
       " ('mortal shell', 880),\n",
       " ('鬼谷八荒 tale of immortal', 1271),\n",
       " ('dark deception: monsters & mortals', 438),\n",
       " ('mortal online 2', 35),\n",
       " ('mortal kombat\\xa011', 288)]"
      ]
     },
     "execution_count": 13,
     "metadata": {},
     "output_type": "execute_result"
    }
   ],
   "source": [
    "rec_data.search_title('mortal')"
   ]
  },
  {
   "cell_type": "code",
   "execution_count": 14,
   "id": "af7c7b3d-f089-454c-8892-52d633e70b9b",
   "metadata": {},
   "outputs": [
    {
     "name": "stdout",
     "output_type": "stream",
     "text": [
      "[(5, 'The Sims™ 4', 1), (229, 'The Sims™ 3', 1), (966, 'Mortal Kombat X', 0)]\n"
     ]
    }
   ],
   "source": [
    "# prefs = [(606, 1), (1628, 1), (391, 0), (1330, 0), (500, 0), (709, 1), (840, 0), \n",
    "#          (58, 1), (456, 1), (153, 0), (158, 0), (1160, 0), (761, 0),\n",
    "#                               (1771, 0), (544, 0), (312, 0), (277, 0)]\n",
    "prefs = [(5, 1), (229, 1), (966, 0)]\n",
    "pprint([(index, rec_data.index_to_title(index), pref) for index, pref in prefs])\n",
    "prefs = rec_data.create_prefs(prefs)    "
   ]
  },
  {
   "cell_type": "code",
   "execution_count": 15,
   "id": "2b516899-5ff8-4cbc-abc0-fd9d7a78cb5d",
   "metadata": {},
   "outputs": [
    {
     "name": "stdout",
     "output_type": "stream",
     "text": [
      "Epoch 0/Time: 0.0 seconds\n",
      "Epoch 1/Time: 0.0 seconds\n",
      "Epoch 2/Time: 0.0 seconds\n",
      "Epoch 3/Time: 0.0 seconds\n",
      "Epoch 4/Time: 0.0 seconds\n",
      "Completed partial fit in 3.463383436203003 seconds\n"
     ]
    }
   ],
   "source": [
    "svd_predictor._partial_batch_size = int(0)\n",
    "start_time = time.time()\n",
    "svd_predictor.partial_fit(prefs)\n",
    "print(\"Completed partial fit in\", time.time() - start_time, \"seconds\")"
   ]
  },
  {
   "cell_type": "code",
   "execution_count": 16,
   "id": "4e10eed0-deb4-440a-92e8-eb12c7a96b97",
   "metadata": {},
   "outputs": [
    {
     "name": "stdout",
     "output_type": "stream",
     "text": [
      "Predicted top n\n",
      "[(0.5003629629885272,\n",
      "  '[TDA03] Muv-Luv Unlimited: THE DAY AFTER - Episode 03 REMASTERED'),\n",
      " (0.500264133223684, 'Lost: Find'),\n",
      " (0.5002472613964357, 'TRYP FPV : The Drone Racer Simulator'),\n",
      " (0.500229825730019, 'The Boogie Man'),\n",
      " (0.5002093067503, 'Zork Anthology'),\n",
      " (0.500197852557983, 'Forest Camp Story'),\n",
      " (0.5001908287954505, 'Hero Siege - Avenger Paladin (Class + Skin)'),\n",
      " (0.5001902237633918, 'Maitetsu:Pure Station'),\n",
      " (0.5001901804248992, 'Castle Must Be Mine'),\n",
      " (0.5001891418573673, 'Skábma™ - Snowfall'),\n",
      " (0.5001863647657788, 'FGTeeV Goozy'),\n",
      " (0.5001780504278848, 'Touken Ranbu Warriors'),\n",
      " (0.5001775329052259, 'Arcade Spirits: The New Challengers'),\n",
      " (0.5001771489591094, 'EarthRoyale'),\n",
      " (0.5001713518204167, 'Bartender Hustle'),\n",
      " (0.5001703816917291, 'One Hand Clapping'),\n",
      " (0.5001702652010811, 'moon: Remix RPG Adventure'),\n",
      " (0.5001669142349399, 'Source of Madness'),\n",
      " (0.5001667034637228, 'Floor Plan 2'),\n",
      " (0.5001665866164292, 'The Hanged Man')]\n"
     ]
    }
   ],
   "source": [
    "top_n = svd_predictor.top_n(train_data.get_matrix().shape[0], 20)\n",
    "print(\"Predicted top n\")\n",
    "pprint([(r, train_data.index_to_title(index)) for r, index in top_n])"
   ]
  },
  {
   "cell_type": "code",
   "execution_count": null,
   "id": "3ed80d3c-1901-4404-a237-edea0ddc01a1",
   "metadata": {},
   "outputs": [],
   "source": []
  }
 ],
 "metadata": {
  "kernelspec": {
   "display_name": "Python 3 (ipykernel)",
   "language": "python",
   "name": "python3"
  },
  "language_info": {
   "codemirror_mode": {
    "name": "ipython",
    "version": 3
   },
   "file_extension": ".py",
   "mimetype": "text/x-python",
   "name": "python",
   "nbconvert_exporter": "python",
   "pygments_lexer": "ipython3",
   "version": "3.9.16"
  }
 },
 "nbformat": 4,
 "nbformat_minor": 5
}
