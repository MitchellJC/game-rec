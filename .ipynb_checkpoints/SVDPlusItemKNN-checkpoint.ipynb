{
 "cells": [
  {
   "cell_type": "code",
   "execution_count": 86,
   "id": "625dca9d-b4d9-422f-b8f0-780b9d856a8e",
   "metadata": {},
   "outputs": [],
   "source": [
    "import pickle\n",
    "from pprint import pprint\n",
    "from RecData import RecData\n",
    "from SVD import FastLogisticSVD\n",
    "from scipy.sparse import lil_array\n",
    "from sklearn.metrics.pairwise import cosine_similarity\n",
    "import time"
   ]
  },
  {
   "cell_type": "code",
   "execution_count": 2,
   "id": "20a245c3-ca95-452e-aed5-f15c58b86ad7",
   "metadata": {},
   "outputs": [],
   "source": [
    "with open('saved_models/2023-6-29-11-36-31_0-3559.pkl', 'rb') as file:\n",
    "    train_data, svd = pickle.load(file)"
   ]
  },
  {
   "cell_type": "code",
   "execution_count": 12,
   "id": "a179d03d-d71a-428a-83d4-19ae0eea2c74",
   "metadata": {},
   "outputs": [
    {
     "name": "stdout",
     "output_type": "stream",
     "text": [
      "Predicted top n:\n",
      "[(0.9998819707294742, 'Wallpaper Engine'),\n",
      " (0.9995590787694483, 'Left 4 Dead 2'),\n",
      " (0.9994935727705616, 'Divinity: Original Sin 2 - Definitive Edition'),\n",
      " (0.9994683354223289, 'Portal'),\n",
      " (0.9992953110985962, 'Half-Life: Alyx'),\n",
      " (0.9992238676640842, \"Garry's Mod\"),\n",
      " (0.9992214162308917, 'Resident Evil 2'),\n",
      " (0.9991994841586249, 'Slay the Spire'),\n",
      " (0.9990981897369617, 'Dishonored'),\n",
      " (0.9990803125428781, 'The Binding of Isaac: Rebirth'),\n",
      " (0.9990272249115129, 'Satisfactory'),\n",
      " (0.9989514454571355, 'Vampire Survivors'),\n",
      " (0.9989267441437243, 'Portal 2'),\n",
      " (0.998826499219789, 'RimWorld'),\n",
      " (0.9987650489868525, 'ULTRAKILL'),\n",
      " (0.9987639876448442, 'Resident Evil Village'),\n",
      " (0.9986522758458294, 'Factorio'),\n",
      " (0.9986490380341819, 'The Witcher® 3: Wild Hunt'),\n",
      " (0.998614903242855, 'Papers Please'),\n",
      " (0.9985244968637511, 'Terraria')]\n",
      "True top n:\n",
      "['Grand Theft Auto V',\n",
      " 'Wallpaper Engine',\n",
      " 'Counter-Strike: Global Offensive',\n",
      " 'Undertale',\n",
      " 'Sid Meier’s Civilization® VI',\n",
      " 'Golf With Your Friends',\n",
      " 'Hearts of Iron IV',\n",
      " 'Fallout: New Vegas',\n",
      " 'Death Road to Canada',\n",
      " 'Stardew Valley',\n",
      " \"Garry's Mod\",\n",
      " 'Half-Life 2',\n",
      " 'Just Cause™ 3',\n",
      " 'Among Us',\n",
      " 'Garfield Kart',\n",
      " 'Holdfast: Nations At War',\n",
      " 'Phoenix Wright: Ace Attorney Trilogy',\n",
      " 'Call of Duty®: Black Ops II',\n",
      " 'OMORI',\n",
      " 'The Jackbox Party Pack 5']\n"
     ]
    }
   ],
   "source": [
    "j = 0\n",
    "# Test top-n list for user j\n",
    "top_n = svd.top_n(j, 20)\n",
    "print(\"Predicted top n:\")\n",
    "pprint([(r, train_data.index_to_title(index)) for r, index in top_n])\n",
    "\n",
    "# User j true top n list\n",
    "print(\"True top n:\")\n",
    "true_top = train_data.top_n(j, 5000)\n",
    "pprint([train_data.index_to_title(index) for _, index in true_top])"
   ]
  },
  {
   "cell_type": "code",
   "execution_count": 24,
   "id": "184bdb1a-44c1-4dad-aa73-6a17bda48df8",
   "metadata": {},
   "outputs": [],
   "source": [
    "q = svd._item_features"
   ]
  },
  {
   "cell_type": "code",
   "execution_count": 25,
   "id": "298521df-1830-478f-b6c7-60eb8ed27d55",
   "metadata": {},
   "outputs": [],
   "source": [
    "distances = lil_array((q.shape[0], q.shape[0]))"
   ]
  },
  {
   "cell_type": "code",
   "execution_count": 37,
   "id": "395b6ca4-3535-443f-a45d-4d7112e363d9",
   "metadata": {},
   "outputs": [
    {
     "name": "stdout",
     "output_type": "stream",
     "text": [
      "Computing similarities...\n",
      "Upto row 0\n",
      "Upto row 200\n",
      "Upto row 400\n",
      "Upto row 600\n",
      "Upto row 800\n",
      "Upto row 1000\n",
      "Upto row 1200\n",
      "Upto row 1400\n",
      "Upto row 1600\n",
      "Upto row 1800\n",
      "Upto row 2000\n",
      "Upto row 2200\n",
      "Done computing similarities in 397.02253437042236 seconds\n"
     ]
    }
   ],
   "source": [
    "start_t = time.time()\n",
    "print(\"Computing similarities...\")\n",
    "for i in range(q.shape[0]):\n",
    "    if i % 200 == 0:\n",
    "        print(\"Upto row\", i)\n",
    "    for j in range(i, q.shape[0]):\n",
    "        distances[i, j] = cosine_similarity(q[[i], :], q[[j], :])\n",
    "print(\"Done computing similarities in\", time.time() - start_t, \"seconds\")"
   ]
  },
  {
   "cell_type": "code",
   "execution_count": 40,
   "id": "2fd47728-299c-468d-ae1c-f0c8fe52e28c",
   "metadata": {},
   "outputs": [],
   "source": [
    "def knn(sims, i, n=10):\n",
    "    top = []\n",
    "    for j in range(sims.shape[0]):\n",
    "        if j == i:\n",
    "            continue     \n",
    "        elif j < i:\n",
    "            sim = sims[j, i]\n",
    "        elif j > i:\n",
    "            sim = sims[i, j]\n",
    "        \n",
    "        top.append((sim, j))\n",
    "        top.sort(reverse=True)\n",
    "        top = top[:n]\n",
    "    return top\n",
    "\n",
    "def many_knn(sims, subjects, n=10):\n",
    "    top = []\n",
    "    for j in range(sims.shape[0]):\n",
    "        total = 0\n",
    "        for i, pref in subjects:\n",
    "            if j == i:\n",
    "                continue     \n",
    "            elif j < i:\n",
    "                sim = sims[j, i]\n",
    "            elif j > i:\n",
    "                sim = sims[i, j]\n",
    "                \n",
    "            if pref == 0:\n",
    "                sim = 1 - sim\n",
    "            \n",
    "            total += sim\n",
    "        \n",
    "        avg = total/len(subjects)\n",
    "        top.append((avg, j))\n",
    "        top.sort(reverse=True)\n",
    "        top = top[:n]\n",
    "    return top\n",
    "    "
   ]
  },
  {
   "cell_type": "code",
   "execution_count": 79,
   "id": "3a5cf7bb-2216-4e74-9e97-415b22352a90",
   "metadata": {},
   "outputs": [
    {
     "data": {
      "text/plain": [
       "[('Forza Horizon 4', 341), ('Forza Horizon 5', 286)]"
      ]
     },
     "execution_count": 79,
     "metadata": {},
     "output_type": "execute_result"
    }
   ],
   "source": [
    "train_data.search_title('forza')"
   ]
  },
  {
   "cell_type": "code",
   "execution_count": 82,
   "id": "b9f8761a-3c52-4528-bc70-6cd3af6b30fc",
   "metadata": {},
   "outputs": [
    {
     "name": "stdout",
     "output_type": "stream",
     "text": [
      "Forza Horizon 5\n"
     ]
    }
   ],
   "source": [
    "subject = 286\n",
    "print(train_data.index_to_title(subject))\n",
    "top = knn(distances, subject)"
   ]
  },
  {
   "cell_type": "code",
   "execution_count": 83,
   "id": "006b81ac-604a-4911-bfa8-886ae776c045",
   "metadata": {},
   "outputs": [
    {
     "name": "stdout",
     "output_type": "stream",
     "text": [
      "[(0.9394804654801193, 'First Class Trouble'),\n",
      " (0.9390738257725284, 'Construction Simulator'),\n",
      " (0.9388757138886102, 'ONE PIECE World Seeker'),\n",
      " (0.9387790677492647, 'Injustice™ 2'),\n",
      " (0.9381126565121917, 'CarX Drift Racing Online'),\n",
      " (0.9379971983512589, 'Sniper Elite 5'),\n",
      " (0.9376536716630474, 'Dreamfall Chapters'),\n",
      " (0.937325927337768, 'GROUND BRANCH'),\n",
      " (0.937098638443306, 'We Were Here Forever'),\n",
      " (0.9369496971470657, 'WorldBox - God Simulator')]\n"
     ]
    }
   ],
   "source": [
    "pprint([(sim, train_data.index_to_title(index)) for sim, index in top])"
   ]
  },
  {
   "cell_type": "code",
   "execution_count": null,
   "id": "76c7a6e2-589d-4d56-af50-bd37a06fdc70",
   "metadata": {},
   "outputs": [],
   "source": []
  }
 ],
 "metadata": {
  "kernelspec": {
   "display_name": "Python 3 (ipykernel)",
   "language": "python",
   "name": "python3"
  },
  "language_info": {
   "codemirror_mode": {
    "name": "ipython",
    "version": 3
   },
   "file_extension": ".py",
   "mimetype": "text/x-python",
   "name": "python",
   "nbconvert_exporter": "python",
   "pygments_lexer": "ipython3",
   "version": "3.9.16"
  }
 },
 "nbformat": 4,
 "nbformat_minor": 5
}
