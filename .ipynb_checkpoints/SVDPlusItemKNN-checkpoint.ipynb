{
 "cells": [
  {
   "cell_type": "code",
   "execution_count": 86,
   "id": "625dca9d-b4d9-422f-b8f0-780b9d856a8e",
   "metadata": {},
   "outputs": [],
   "source": [
    "import pickle\n",
    "from pprint import pprint\n",
    "from RecData import RecData\n",
    "from SVD import FastLogisticSVD\n",
    "from scipy.sparse import lil_array\n",
    "from sklearn.metrics.pairwise import cosine_similarity\n",
    "import time"
   ]
  },
  {
   "cell_type": "code",
   "execution_count": 2,
   "id": "20a245c3-ca95-452e-aed5-f15c58b86ad7",
   "metadata": {},
   "outputs": [],
   "source": [
    "with open('saved_models/2023-6-29-11-36-31_0-3559.pkl', 'rb') as file:\n",
    "    train_data, svd = pickle.load(file)"
   ]
  },
  {
   "cell_type": "code",
   "execution_count": 117,
   "id": "c223276a-83bb-4ed4-a916-c2d2f73d3314",
   "metadata": {},
   "outputs": [
    {
     "name": "stdout",
     "output_type": "stream",
     "text": [
      "63175 2246\n"
     ]
    }
   ],
   "source": [
    "print(svd._num_users, svd._num_items)"
   ]
  },
  {
   "cell_type": "code",
   "execution_count": 116,
   "id": "a179d03d-d71a-428a-83d4-19ae0eea2c74",
   "metadata": {},
   "outputs": [
    {
     "name": "stdout",
     "output_type": "stream",
     "text": [
      "Predicted top n:\n",
      "[(0.9069880449874694, 'The Witcher® 3: Wild Hunt'),\n",
      " (0.8939795411855245, 'Path of Exile'),\n",
      " (0.867295450603389, 'Fallout 4'),\n",
      " (0.855157506388392, 'Cyberpunk 2077'),\n",
      " (0.8512561913593424, 'Killing Floor 2'),\n",
      " (0.8365674930782347, 'Prey'),\n",
      " (0.8344490572968388, 'Borderlands: The Pre-Sequel'),\n",
      " (0.7966992019094581, 'Slay the Spire'),\n",
      " (0.7952120497359407, 'Resident Evil Village'),\n",
      " (0.7922865220718424, 'XCOM: Enemy Unknown'),\n",
      " (0.7875585363754196, 'FINAL FANTASY XIV Online'),\n",
      " (0.782125593147665, 'Arma 3'),\n",
      " (0.7693143398353229, 'Left 4 Dead 2'),\n",
      " (0.7690979015776559, 'Factorio'),\n",
      " (0.7630188607960727, 'The Binding of Isaac: Rebirth'),\n",
      " (0.762914668297774, 'Portal'),\n",
      " (0.7604389774192053, \"No Man's Sky\"),\n",
      " (0.7569451917260805, 'Deep Rock Galactic'),\n",
      " (0.7552009451182733, \"Garry's Mod\"),\n",
      " (0.7549218146292822, 'Star Wars: Battlefront 2 (Classic 2005)')]\n",
      "True top n:\n",
      "['Vampire Survivors',\n",
      " 'Risk of Rain 2',\n",
      " 'The Witcher® 3: Wild Hunt',\n",
      " \"Assassin's Creed® Origins\",\n",
      " 'Warhammer: Vermintide 2',\n",
      " 'DUSK',\n",
      " 'Dishonored 2',\n",
      " 'Nioh: Complete Edition',\n",
      " 'Borderlands 3',\n",
      " 'ABZU',\n",
      " 'Divinity: Original Sin 2 - Definitive Edition',\n",
      " 'Slime Rancher',\n",
      " 'Subnautica',\n",
      " 'Ori and the Will of the Wisps',\n",
      " 'Resident Evil 2',\n",
      " 'Undertale',\n",
      " 'Halo: The Master Chief Collection',\n",
      " 'Dead Cells',\n",
      " 'Borderlands 2',\n",
      " 'Journey',\n",
      " 'Graveyard Keeper',\n",
      " 'Prey',\n",
      " 'Wizard of Legend',\n",
      " 'Rising Storm 2: Vietnam',\n",
      " 'Mass Effect™: Andromeda Deluxe Edition',\n",
      " 'Killing Floor 2',\n",
      " 'The Elder Scrolls IV: Oblivion® Game of the Year Edition',\n",
      " 'Battlefield™ 2042',\n",
      " 'DOOM Eternal',\n",
      " 'Shadow of the Tomb Raider: Definitive Edition',\n",
      " 'Deep Rock Galactic',\n",
      " 'PowerWash Simulator',\n",
      " 'Apex Legends™',\n",
      " 'Persona 5 Royal',\n",
      " 'Blasphemous',\n",
      " 'Dragon Age: Origins - Ultimate Edition',\n",
      " 'NieR:Automata™',\n",
      " 'Hollow Knight',\n",
      " 'Ancestors: The Humankind Odyssey',\n",
      " 'Journey To The Savage Planet',\n",
      " 'Divinity: Original Sin - Enhanced Edition',\n",
      " 'Maneater',\n",
      " 'EARTH DEFENSE FORCE 4.1 The Shadow of New Despair',\n",
      " 'DRAGON BALL Z: KAKAROT',\n",
      " 'EARTH DEFENSE FORCE 5',\n",
      " 'Beat Hazard 2',\n",
      " 'STAR WARS™: The Force Unleashed™ II',\n",
      " 'NieR Replicant™ ver.1.22474487139...',\n",
      " 'Clone Drone in the Danger Zone',\n",
      " \"Shantae and the Pirate's Curse\",\n",
      " 'Castlevania: Lords of Shadow 2',\n",
      " 'DRAGON BALL: THE BREAKERS',\n",
      " 'Macbat 64',\n",
      " 'Crysis® 3',\n",
      " \"DEMON'S TILT\",\n",
      " 'Inquisitor',\n",
      " 'Super Kiwi 64',\n",
      " 'BeamNG.drive',\n",
      " 'Rust',\n",
      " 'Fallout 76',\n",
      " 'Sekiro™: Shadows Die Twice - GOTY Edition',\n",
      " 'Alien: Isolation',\n",
      " 'Subnautica: Below Zero',\n",
      " 'Control Ultimate Edition',\n",
      " 'Mount & Blade II: Bannerlord',\n",
      " 'ASTRONEER',\n",
      " \"Hellblade: Senua's Sacrifice\",\n",
      " 'Little Nightmares',\n",
      " 'World War Z: Aftermath',\n",
      " 'Far Cry® 5',\n",
      " 'Mafia: Definitive Edition',\n",
      " 'DRAGON BALL XENOVERSE 2',\n",
      " 'Prince of Persia: Warrior Within™',\n",
      " 'DRAGON QUEST HEROES™ Slime Edition',\n",
      " 'Momodora: Reverie Under The Moonlight',\n",
      " 'The Stanley Parable',\n",
      " 'MONOPOLY® PLUS',\n",
      " 'The Beast Inside',\n",
      " 'Titan Quest Anniversary Edition',\n",
      " 'ArcaniA',\n",
      " 'Stubbs the Zombie in Rebel Without a Pulse',\n",
      " 'Poppy Playtime',\n",
      " 'Sacred 2 Gold']\n"
     ]
    }
   ],
   "source": [
    "j = 3\n",
    "# Test top-n list for user j\n",
    "top_n = svd.top_n(j, 20)\n",
    "print(\"Predicted top n:\")\n",
    "pprint([(r, train_data.index_to_title(index)) for r, index in top_n])\n",
    "\n",
    "# User j true top n list\n",
    "print(\"True top n:\")\n",
    "true_top = train_data.top_n(j, 5000)\n",
    "pprint([train_data.index_to_title(index) for _, index in true_top])"
   ]
  },
  {
   "cell_type": "code",
   "execution_count": 24,
   "id": "184bdb1a-44c1-4dad-aa73-6a17bda48df8",
   "metadata": {},
   "outputs": [],
   "source": [
    "q = svd._item_features"
   ]
  },
  {
   "cell_type": "code",
   "execution_count": 25,
   "id": "298521df-1830-478f-b6c7-60eb8ed27d55",
   "metadata": {},
   "outputs": [],
   "source": [
    "distances = lil_array((q.shape[0], q.shape[0]))"
   ]
  },
  {
   "cell_type": "code",
   "execution_count": 37,
   "id": "395b6ca4-3535-443f-a45d-4d7112e363d9",
   "metadata": {},
   "outputs": [
    {
     "name": "stdout",
     "output_type": "stream",
     "text": [
      "Computing similarities...\n",
      "Upto row 0\n",
      "Upto row 200\n",
      "Upto row 400\n",
      "Upto row 600\n",
      "Upto row 800\n",
      "Upto row 1000\n",
      "Upto row 1200\n",
      "Upto row 1400\n",
      "Upto row 1600\n",
      "Upto row 1800\n",
      "Upto row 2000\n",
      "Upto row 2200\n",
      "Done computing similarities in 397.02253437042236 seconds\n"
     ]
    }
   ],
   "source": [
    "start_t = time.time()\n",
    "print(\"Computing similarities...\")\n",
    "for i in range(q.shape[0]):\n",
    "    if i % 200 == 0:\n",
    "        print(\"Upto row\", i)\n",
    "    for j in range(i, q.shape[0]):\n",
    "        distances[i, j] = cosine_similarity(q[[i], :], q[[j], :])\n",
    "print(\"Done computing similarities in\", time.time() - start_t, \"seconds\")"
   ]
  },
  {
   "cell_type": "code",
   "execution_count": 87,
   "id": "2fd47728-299c-468d-ae1c-f0c8fe52e28c",
   "metadata": {},
   "outputs": [],
   "source": [
    "def knn(sims, i, n=10):\n",
    "    top = []\n",
    "    for j in range(sims.shape[0]):\n",
    "        if j == i:\n",
    "            continue     \n",
    "        elif j < i:\n",
    "            sim = sims[j, i]\n",
    "        elif j > i:\n",
    "            sim = sims[i, j]\n",
    "        \n",
    "        top.append((sim, j))\n",
    "        top.sort(reverse=True)\n",
    "        top = top[:n]\n",
    "    return top\n",
    "\n",
    "def many_knn(sims, subjects, n=10):\n",
    "    top = []\n",
    "    for j in range(sims.shape[0]):\n",
    "        total = 0\n",
    "        for i, pref in subjects:\n",
    "            if j == i:\n",
    "                continue     \n",
    "            elif j < i:\n",
    "                sim = sims[j, i]\n",
    "            elif j > i:\n",
    "                sim = sims[i, j]\n",
    "                \n",
    "            if pref == 0:\n",
    "                sim = 1 - sim\n",
    "            \n",
    "            total += sim\n",
    "        \n",
    "        avg = total/len(subjects)\n",
    "        top.append((avg, j))\n",
    "        top.sort(reverse=True)\n",
    "        top = top[:n]\n",
    "    return top\n",
    "    "
   ]
  },
  {
   "cell_type": "code",
   "execution_count": 118,
   "id": "3a5cf7bb-2216-4e74-9e97-415b22352a90",
   "metadata": {},
   "outputs": [
    {
     "data": {
      "text/plain": [
       "[('NEO AQUARIUM - The King of Crustaceans -', 2099),\n",
       " ('Rust', 27),\n",
       " ('Rustangelo', 1731)]"
      ]
     },
     "execution_count": 118,
     "metadata": {},
     "output_type": "execute_result"
    }
   ],
   "source": [
    "train_data.search_title('rust')"
   ]
  },
  {
   "cell_type": "code",
   "execution_count": 82,
   "id": "b9f8761a-3c52-4528-bc70-6cd3af6b30fc",
   "metadata": {},
   "outputs": [
    {
     "name": "stdout",
     "output_type": "stream",
     "text": [
      "Forza Horizon 5\n"
     ]
    }
   ],
   "source": [
    "subject = 286\n",
    "print(train_data.index_to_title(subject))\n",
    "top = knn(distances, subject)"
   ]
  },
  {
   "cell_type": "code",
   "execution_count": 83,
   "id": "006b81ac-604a-4911-bfa8-886ae776c045",
   "metadata": {},
   "outputs": [
    {
     "name": "stdout",
     "output_type": "stream",
     "text": [
      "[(0.9394804654801193, 'First Class Trouble'),\n",
      " (0.9390738257725284, 'Construction Simulator'),\n",
      " (0.9388757138886102, 'ONE PIECE World Seeker'),\n",
      " (0.9387790677492647, 'Injustice™ 2'),\n",
      " (0.9381126565121917, 'CarX Drift Racing Online'),\n",
      " (0.9379971983512589, 'Sniper Elite 5'),\n",
      " (0.9376536716630474, 'Dreamfall Chapters'),\n",
      " (0.937325927337768, 'GROUND BRANCH'),\n",
      " (0.937098638443306, 'We Were Here Forever'),\n",
      " (0.9369496971470657, 'WorldBox - God Simulator')]\n"
     ]
    }
   ],
   "source": [
    "pprint([(sim, train_data.index_to_title(index)) for sim, index in top])"
   ]
  },
  {
   "cell_type": "code",
   "execution_count": 96,
   "id": "76c7a6e2-589d-4d56-af50-bd37a06fdc70",
   "metadata": {},
   "outputs": [
    {
     "name": "stdout",
     "output_type": "stream",
     "text": [
      "[(0.7588686574088879, 'Into the Radius VR'),\n",
      " (0.7586831056619872, 'Incredibox'),\n",
      " (0.7574628412318944, 'Raw Data'),\n",
      " (0.7566262426901261, 'Unrailed!'),\n",
      " (0.7563903594939038, 'Ancient Dungeon'),\n",
      " (0.7557003869512007, 'VTOL VR'),\n",
      " (0.7556890685926823, 'Stellaris'),\n",
      " (0.755667119731426, 'SpaceEngine'),\n",
      " (0.7556102022104467, 'ShellShock Live'),\n",
      " (0.7554897018783995, 'Ultimate Chicken Horse')]\n"
     ]
    }
   ],
   "source": [
    "top = many_knn(distances, [(59, 1), (342, 1), (500, 1), (1045, 0), (369, 1)])\n",
    "pprint([(sim, train_data.index_to_title(index)) for sim, index in top])"
   ]
  },
  {
   "cell_type": "code",
   "execution_count": 113,
   "id": "bd5402c2-dff0-40e2-ae06-db268d9f5de9",
   "metadata": {},
   "outputs": [
    {
     "name": "stdout",
     "output_type": "stream",
     "text": [
      "[(0.6612753301472383, 'Lords of Magic: Special Edition'),\n",
      " (0.6573626046627363, 'Bully: Scholarship Edition'),\n",
      " (0.6558094231153108, 'Yaga'),\n",
      " (0.6557380651020966, 'Angvik'),\n",
      " (0.6554157806145976, 'Darksiders™'),\n",
      " (0.6524602083792771, 'Outlast'),\n",
      " (0.6512993122804328, 'The Elder Scrolls V: Skyrim VR'),\n",
      " (0.6509878932417403, 'Sam & Max: Beyond Time and Space'),\n",
      " (0.6505461651891856, 'Guns Gore and Cannoli 2'),\n",
      " (0.6500542464662235, 'Prototype 2')]\n"
     ]
    }
   ],
   "source": [
    "top = many_knn(distances, [(27, 1)])\n",
    "pprint([(sim, train_data.index_to_title(index)) for sim, index in top])"
   ]
  },
  {
   "cell_type": "code",
   "execution_count": null,
   "id": "ea78ca6c-2c2c-409e-bcb9-7aadb0a5ea75",
   "metadata": {},
   "outputs": [],
   "source": []
  }
 ],
 "metadata": {
  "kernelspec": {
   "display_name": "Python 3 (ipykernel)",
   "language": "python",
   "name": "python3"
  },
  "language_info": {
   "codemirror_mode": {
    "name": "ipython",
    "version": 3
   },
   "file_extension": ".py",
   "mimetype": "text/x-python",
   "name": "python",
   "nbconvert_exporter": "python",
   "pygments_lexer": "ipython3",
   "version": "3.9.16"
  }
 },
 "nbformat": 4,
 "nbformat_minor": 5
}
