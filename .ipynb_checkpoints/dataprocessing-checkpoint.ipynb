{
 "cells": [
  {
   "cell_type": "code",
   "execution_count": 17,
   "id": "6107ff17-1604-49fb-95b8-a41bc58e18d8",
   "metadata": {},
   "outputs": [
    {
     "name": "stdin",
     "output_type": "stream",
     "text": [
      "Once deleted, variables cannot be recovered. Proceed (y/[n])?  y\n"
     ]
    }
   ],
   "source": [
    "%reset"
   ]
  },
  {
   "cell_type": "code",
   "execution_count": 22,
   "id": "b53d633c-f5e5-46ec-9fd1-078d89dfeeff",
   "metadata": {},
   "outputs": [],
   "source": [
    "import pandas as pd\n",
    "import time"
   ]
  },
  {
   "cell_type": "code",
   "execution_count": 23,
   "id": "ee144627-3279-43e5-9d99-c34e5b03e44c",
   "metadata": {},
   "outputs": [],
   "source": [
    "SEED = 42"
   ]
  },
  {
   "cell_type": "code",
   "execution_count": 26,
   "id": "88b89c29-4b9c-4436-997c-6a0007ed8b90",
   "metadata": {},
   "outputs": [
    {
     "name": "stdout",
     "output_type": "stream",
     "text": [
      "Shape (14585291, 8)\n"
     ]
    },
    {
     "data": {
      "text/html": [
       "<div>\n",
       "<style scoped>\n",
       "    .dataframe tbody tr th:only-of-type {\n",
       "        vertical-align: middle;\n",
       "    }\n",
       "\n",
       "    .dataframe tbody tr th {\n",
       "        vertical-align: top;\n",
       "    }\n",
       "\n",
       "    .dataframe thead th {\n",
       "        text-align: right;\n",
       "    }\n",
       "</style>\n",
       "<table border=\"1\" class=\"dataframe\">\n",
       "  <thead>\n",
       "    <tr style=\"text-align: right;\">\n",
       "      <th></th>\n",
       "      <th>app_id</th>\n",
       "      <th>helpful</th>\n",
       "      <th>funny</th>\n",
       "      <th>date</th>\n",
       "      <th>is_recommended</th>\n",
       "      <th>hours</th>\n",
       "      <th>user_id</th>\n",
       "      <th>review_id</th>\n",
       "    </tr>\n",
       "  </thead>\n",
       "  <tbody>\n",
       "    <tr>\n",
       "      <th>0</th>\n",
       "      <td>975370</td>\n",
       "      <td>0</td>\n",
       "      <td>0</td>\n",
       "      <td>2022-12-12</td>\n",
       "      <td>True</td>\n",
       "      <td>36.3</td>\n",
       "      <td>24170</td>\n",
       "      <td>0</td>\n",
       "    </tr>\n",
       "    <tr>\n",
       "      <th>1</th>\n",
       "      <td>304390</td>\n",
       "      <td>4</td>\n",
       "      <td>0</td>\n",
       "      <td>2017-02-17</td>\n",
       "      <td>False</td>\n",
       "      <td>11.5</td>\n",
       "      <td>1339</td>\n",
       "      <td>1</td>\n",
       "    </tr>\n",
       "    <tr>\n",
       "      <th>2</th>\n",
       "      <td>1085660</td>\n",
       "      <td>2</td>\n",
       "      <td>0</td>\n",
       "      <td>2019-11-17</td>\n",
       "      <td>True</td>\n",
       "      <td>336.5</td>\n",
       "      <td>110271</td>\n",
       "      <td>2</td>\n",
       "    </tr>\n",
       "    <tr>\n",
       "      <th>3</th>\n",
       "      <td>703080</td>\n",
       "      <td>0</td>\n",
       "      <td>0</td>\n",
       "      <td>2022-09-23</td>\n",
       "      <td>True</td>\n",
       "      <td>27.4</td>\n",
       "      <td>112510</td>\n",
       "      <td>3</td>\n",
       "    </tr>\n",
       "    <tr>\n",
       "      <th>4</th>\n",
       "      <td>526870</td>\n",
       "      <td>0</td>\n",
       "      <td>0</td>\n",
       "      <td>2021-01-10</td>\n",
       "      <td>True</td>\n",
       "      <td>7.9</td>\n",
       "      <td>11046</td>\n",
       "      <td>4</td>\n",
       "    </tr>\n",
       "  </tbody>\n",
       "</table>\n",
       "</div>"
      ],
      "text/plain": [
       "    app_id  helpful  funny        date  is_recommended  hours  user_id  \\\n",
       "0   975370        0      0  2022-12-12            True   36.3    24170   \n",
       "1   304390        4      0  2017-02-17           False   11.5     1339   \n",
       "2  1085660        2      0  2019-11-17            True  336.5   110271   \n",
       "3   703080        0      0  2022-09-23            True   27.4   112510   \n",
       "4   526870        0      0  2021-01-10            True    7.9    11046   \n",
       "\n",
       "   review_id  \n",
       "0          0  \n",
       "1          1  \n",
       "2          2  \n",
       "3          3  \n",
       "4          4  "
      ]
     },
     "execution_count": 26,
     "metadata": {},
     "output_type": "execute_result"
    }
   ],
   "source": [
    "users = pd.read_csv('data/users.csv')\n",
    "recs = pd.read_csv('data/recommendations.csv')\n",
    "print(\"Shape\", recs.shape)\n",
    "recs.head()"
   ]
  },
  {
   "cell_type": "code",
   "execution_count": 27,
   "id": "b4f71c09-a857-4666-bf07-6db02b540cc4",
   "metadata": {},
   "outputs": [
    {
     "name": "stdout",
     "output_type": "stream",
     "text": [
      "Filtering left 74671 reviews in chunk 0\n",
      "Filtering left 74740 reviews in chunk 1\n",
      "Filtering left 74672 reviews in chunk 2\n",
      "Filtering left 74549 reviews in chunk 3\n",
      "Filtering left 74700 reviews in chunk 4\n",
      "Filtering left 74282 reviews in chunk 5\n",
      "Filtering left 106160 reviews in chunk 6\n",
      "Filtering left 108921 reviews in chunk 7\n",
      "Filtering left 100868 reviews in chunk 8\n",
      "Filtering left 118301 reviews in chunk 9\n",
      "Filtering left 153160 reviews in chunk 10\n",
      "Filtering left 111772 reviews in chunk 11\n",
      "Filtering left 89388 reviews in chunk 12\n",
      "Filtering left 157999 reviews in chunk 13\n",
      "Filtering left 88351 reviews in chunk 14\n",
      "Total reviews after filter: 1482534\n",
      "Finished in 10.197040557861328 seconds\n"
     ]
    }
   ],
   "source": [
    "REVIEW_THRESH = 2\n",
    "CHUNK_SIZE = 1e6\n",
    "\n",
    "start_time = time.time()\n",
    "\n",
    "# Lazily iterate chunks and filter users\n",
    "with pd.read_csv('data/recommendations.csv', iterator=True, chunksize=CHUNK_SIZE) as reader:\n",
    "    dfs = []\n",
    "    total_reviews = 0\n",
    "    for i, chunk in enumerate(reader):\n",
    "        # Filter users with low number of reviews\n",
    "        filtered_chunk = chunk[chunk['user_id'].isin(users[users['reviews'] >= REVIEW_THRESH]['user_id'])]\n",
    "        dfs.append(filtered_chunk)\n",
    "        \n",
    "        total_reviews += filtered_chunk.shape[0]\n",
    "        print(\"Filtering left\", filtered_chunk.shape[0], \"reviews in chunk\", i)\n",
    "        \n",
    "    print(\"Total reviews after filter:\", total_reviews)    \n",
    "    pruned = pd.concat(dfs)\n",
    "    pruned.to_csv('data/2plus.csv', index=False)\n",
    "\n",
    "print(\"Finished in\", time.time() - start_time, \"seconds\")"
   ]
  },
  {
   "cell_type": "code",
   "execution_count": 13,
   "id": "237a6336-e05b-45db-8833-776a05386f0d",
   "metadata": {},
   "outputs": [
    {
     "name": "stdout",
     "output_type": "stream",
     "text": [
      "Shape (4375587, 8)\n"
     ]
    },
    {
     "data": {
      "text/html": [
       "<div>\n",
       "<style scoped>\n",
       "    .dataframe tbody tr th:only-of-type {\n",
       "        vertical-align: middle;\n",
       "    }\n",
       "\n",
       "    .dataframe tbody tr th {\n",
       "        vertical-align: top;\n",
       "    }\n",
       "\n",
       "    .dataframe thead th {\n",
       "        text-align: right;\n",
       "    }\n",
       "</style>\n",
       "<table border=\"1\" class=\"dataframe\">\n",
       "  <thead>\n",
       "    <tr style=\"text-align: right;\">\n",
       "      <th></th>\n",
       "      <th>app_id</th>\n",
       "      <th>helpful</th>\n",
       "      <th>funny</th>\n",
       "      <th>date</th>\n",
       "      <th>is_recommended</th>\n",
       "      <th>hours</th>\n",
       "      <th>user_id</th>\n",
       "      <th>review_id</th>\n",
       "    </tr>\n",
       "  </thead>\n",
       "  <tbody>\n",
       "    <tr>\n",
       "      <th>12493077</th>\n",
       "      <td>292030</td>\n",
       "      <td>0</td>\n",
       "      <td>0</td>\n",
       "      <td>2022-01-04</td>\n",
       "      <td>True</td>\n",
       "      <td>98.8</td>\n",
       "      <td>7023042</td>\n",
       "      <td>12493077</td>\n",
       "    </tr>\n",
       "    <tr>\n",
       "      <th>12035277</th>\n",
       "      <td>635260</td>\n",
       "      <td>0</td>\n",
       "      <td>0</td>\n",
       "      <td>2021-04-23</td>\n",
       "      <td>True</td>\n",
       "      <td>6.8</td>\n",
       "      <td>1327642</td>\n",
       "      <td>12035277</td>\n",
       "    </tr>\n",
       "    <tr>\n",
       "      <th>13131298</th>\n",
       "      <td>678950</td>\n",
       "      <td>0</td>\n",
       "      <td>0</td>\n",
       "      <td>2019-12-27</td>\n",
       "      <td>True</td>\n",
       "      <td>79.5</td>\n",
       "      <td>6576635</td>\n",
       "      <td>13131298</td>\n",
       "    </tr>\n",
       "    <tr>\n",
       "      <th>2660716</th>\n",
       "      <td>1196590</td>\n",
       "      <td>2</td>\n",
       "      <td>2</td>\n",
       "      <td>2022-08-10</td>\n",
       "      <td>True</td>\n",
       "      <td>41.4</td>\n",
       "      <td>4213711</td>\n",
       "      <td>2660716</td>\n",
       "    </tr>\n",
       "    <tr>\n",
       "      <th>1177856</th>\n",
       "      <td>250900</td>\n",
       "      <td>0</td>\n",
       "      <td>0</td>\n",
       "      <td>2017-10-07</td>\n",
       "      <td>True</td>\n",
       "      <td>320.4</td>\n",
       "      <td>958290</td>\n",
       "      <td>1177856</td>\n",
       "    </tr>\n",
       "  </tbody>\n",
       "</table>\n",
       "</div>"
      ],
      "text/plain": [
       "           app_id  helpful  funny        date  is_recommended  hours  user_id  \\\n",
       "12493077   292030        0      0  2022-01-04            True   98.8  7023042   \n",
       "12035277   635260        0      0  2021-04-23            True    6.8  1327642   \n",
       "13131298   678950        0      0  2019-12-27            True   79.5  6576635   \n",
       "2660716   1196590        2      2  2022-08-10            True   41.4  4213711   \n",
       "1177856    250900        0      0  2017-10-07            True  320.4   958290   \n",
       "\n",
       "          review_id  \n",
       "12493077   12493077  \n",
       "12035277   12035277  \n",
       "13131298   13131298  \n",
       "2660716     2660716  \n",
       "1177856     1177856  "
      ]
     },
     "execution_count": 13,
     "metadata": {},
     "output_type": "execute_result"
    }
   ],
   "source": [
    "recs_sample = recs.sample(frac=0.3, axis=0, random_state=SEED)\n",
    "print(\"Shape\", recs_sample.shape)\n",
    "recs_sample.head()"
   ]
  },
  {
   "cell_type": "code",
   "execution_count": 14,
   "id": "d75ff66a-819d-48c3-94d9-13d8b300037b",
   "metadata": {},
   "outputs": [],
   "source": [
    "recs_sample.to_csv('data/sample.csv', index=False)"
   ]
  },
  {
   "cell_type": "code",
   "execution_count": null,
   "id": "f48189a1-801d-483e-b3d0-a78f1935f4c3",
   "metadata": {},
   "outputs": [],
   "source": []
  }
 ],
 "metadata": {
  "kernelspec": {
   "display_name": "Python 3 (ipykernel)",
   "language": "python",
   "name": "python3"
  },
  "language_info": {
   "codemirror_mode": {
    "name": "ipython",
    "version": 3
   },
   "file_extension": ".py",
   "mimetype": "text/x-python",
   "name": "python",
   "nbconvert_exporter": "python",
   "pygments_lexer": "ipython3",
   "version": "3.9.16"
  }
 },
 "nbformat": 4,
 "nbformat_minor": 5
}
