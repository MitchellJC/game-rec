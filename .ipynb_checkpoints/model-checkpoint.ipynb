{
 "cells": [
  {
   "cell_type": "markdown",
   "id": "a8554b74-824d-4dd9-9159-38c6fc305828",
   "metadata": {},
   "source": [
    "# Modelling"
   ]
  },
  {
   "cell_type": "code",
   "execution_count": 2,
   "id": "cfd28a59-588e-47cc-ab61-bb9e8674854a",
   "metadata": {},
   "outputs": [
    {
     "name": "stdin",
     "output_type": "stream",
     "text": [
      "Once deleted, variables cannot be recovered. Proceed (y/[n])?  y\n"
     ]
    }
   ],
   "source": [
    "%reset"
   ]
  },
  {
   "cell_type": "code",
   "execution_count": 1,
   "id": "2b35e932-407e-4160-878a-1547e900cce9",
   "metadata": {},
   "outputs": [],
   "source": [
    "import numpy as np\n",
    "from scipy.sparse import csr_array, lil_array\n",
    "import matplotlib.pyplot as plt\n",
    "import pandas as pd\n",
    "import math\n",
    "import pickle\n",
    "import time\n",
    "import datetime\n",
    "import random\n",
    "from pprint import pprint\n",
    "from lightgbm import LGBMRanker\n",
    "from sklearn.model_selection import train_test_split\n",
    "\n",
    "from SVD import Metrics, RatingSVD, LogisticSVD\n",
    "from RecData import RecData"
   ]
  },
  {
   "cell_type": "markdown",
   "id": "5e68c45e-13f9-4979-b916-34cec1db601d",
   "metadata": {},
   "source": [
    "## Data Preprocessing"
   ]
  },
  {
   "cell_type": "code",
   "execution_count": 2,
   "id": "86929969-e5de-468e-b024-80cf550c6e8f",
   "metadata": {},
   "outputs": [
    {
     "name": "stdout",
     "output_type": "stream",
     "text": [
      "Shape: (1482532, 3)\n"
     ]
    },
    {
     "data": {
      "text/html": [
       "<div>\n",
       "<style scoped>\n",
       "    .dataframe tbody tr th:only-of-type {\n",
       "        vertical-align: middle;\n",
       "    }\n",
       "\n",
       "    .dataframe tbody tr th {\n",
       "        vertical-align: top;\n",
       "    }\n",
       "\n",
       "    .dataframe thead th {\n",
       "        text-align: right;\n",
       "    }\n",
       "</style>\n",
       "<table border=\"1\" class=\"dataframe\">\n",
       "  <thead>\n",
       "    <tr style=\"text-align: right;\">\n",
       "      <th></th>\n",
       "      <th>app_id</th>\n",
       "      <th>is_recommended</th>\n",
       "      <th>user_id</th>\n",
       "    </tr>\n",
       "  </thead>\n",
       "  <tbody>\n",
       "    <tr>\n",
       "      <th>629351</th>\n",
       "      <td>12210</td>\n",
       "      <td>True</td>\n",
       "      <td>240</td>\n",
       "    </tr>\n",
       "    <tr>\n",
       "      <th>116928</th>\n",
       "      <td>22380</td>\n",
       "      <td>True</td>\n",
       "      <td>240</td>\n",
       "    </tr>\n",
       "    <tr>\n",
       "      <th>1418125</th>\n",
       "      <td>239140</td>\n",
       "      <td>True</td>\n",
       "      <td>240</td>\n",
       "    </tr>\n",
       "    <tr>\n",
       "      <th>236273</th>\n",
       "      <td>251570</td>\n",
       "      <td>True</td>\n",
       "      <td>240</td>\n",
       "    </tr>\n",
       "    <tr>\n",
       "      <th>87206</th>\n",
       "      <td>270880</td>\n",
       "      <td>True</td>\n",
       "      <td>240</td>\n",
       "    </tr>\n",
       "  </tbody>\n",
       "</table>\n",
       "</div>"
      ],
      "text/plain": [
       "         app_id  is_recommended  user_id\n",
       "629351    12210            True      240\n",
       "116928    22380            True      240\n",
       "1418125  239140            True      240\n",
       "236273   251570            True      240\n",
       "87206    270880            True      240"
      ]
     },
     "execution_count": 2,
     "metadata": {},
     "output_type": "execute_result"
    }
   ],
   "source": [
    "# recs = pd.read_csv('data/recommendations.csv')\n",
    "recs = pd.read_csv('data/pruned.csv')\n",
    "# recs = pd.read_csv('data/2plus.csv')\n",
    "\n",
    "# Remove old ratings\n",
    "recs = recs.sort_values(by=['date'], ascending=False)\n",
    "recs.drop_duplicates(subset= ['app_id', 'user_id'], inplace=True) \n",
    "\n",
    "USED_COLS = ['app_id', 'is_recommended', 'user_id']\n",
    "recs = recs[USED_COLS]\n",
    "\n",
    "item_data = pd.read_csv('data/games.csv')\n",
    "titles = item_data[['app_id', 'title']]\n",
    "\n",
    "print(\"Shape:\", recs.shape)\n",
    "recs.sort_values(by=['user_id', 'app_id']).head()"
   ]
  },
  {
   "cell_type": "code",
   "execution_count": 3,
   "id": "78f0adeb-df3b-4750-b1f5-91c115d6238e",
   "metadata": {},
   "outputs": [],
   "source": [
    "# random.seed(42)\n",
    "# np.random.seed(42)\n",
    "\n",
    "# rec_data = RecData()\n",
    "# rec_data.create_from_dataframe(recs)\n",
    "# rec_data.set_titles(titles)\n",
    "\n",
    "# # del recs\n",
    "\n",
    "# start_time = time.time()\n",
    "# print(\"Creating splits...\")\n",
    "# train_data, test = rec_data.train_test_split(test_size=0.2)\n",
    "# print(\"First split done.\")\n",
    "# train_data, val = train_data.train_test_split(test_size=0.2)\n",
    "# print(\"Done creating splits in\", time.time() - start_time, \"seconds\")"
   ]
  },
  {
   "cell_type": "code",
   "execution_count": 4,
   "id": "41d0fdf6-2dff-4196-b2ad-a7f4c4de981c",
   "metadata": {
    "tags": []
   },
   "outputs": [
    {
     "name": "stdout",
     "output_type": "stream",
     "text": [
      "Creating utility matrix...\n",
      "Done utility matrix.\n",
      "Creating splits...\n",
      "Done user 1 / 63175\n",
      "Done user 10001 / 63175\n",
      "Done user 20001 / 63175\n",
      "Done user 30001 / 63175\n",
      "Done user 40001 / 63175\n",
      "Done user 50001 / 63175\n",
      "Done user 60001 / 63175\n",
      "Done creating splits.\n"
     ]
    }
   ],
   "source": [
    "random.seed(42)\n",
    "np.random.seed(42)\n",
    "rec_data = RecData()\n",
    "rec_data.create_from_dataframe(recs)\n",
    "rec_data.set_titles(titles)\n",
    "\n",
    "# del recs\n",
    "\n",
    "print(\"Creating splits...\")\n",
    "train_data, val = rec_data.leave_k_out_split(k=1, create_val=False)\n",
    "print(\"Done creating splits.\")"
   ]
  },
  {
   "cell_type": "code",
   "execution_count": 5,
   "id": "55f5d9d9-039c-485f-abf7-e8cc5448cedb",
   "metadata": {},
   "outputs": [],
   "source": [
    "del rec_data\n",
    "del item_data\n",
    "del titles"
   ]
  },
  {
   "cell_type": "markdown",
   "id": "6210ec68-3810-4694-9a42-956ba7be0b73",
   "metadata": {},
   "source": [
    "## Ranker"
   ]
  },
  {
   "cell_type": "markdown",
   "id": "ac596ab5-0048-4b3f-8d50-e3405644f8f8",
   "metadata": {},
   "source": [
    "This was used as a postprocessing step after using item-knn for candidate generation. Was not able to get good results."
   ]
  },
  {
   "cell_type": "code",
   "execution_count": 6,
   "id": "272d92ab-e737-4b6b-b27c-65ec71047b29",
   "metadata": {},
   "outputs": [],
   "source": [
    "# train = train_data.generate_dataframe()\n",
    "# X_train = train[['app_id', 'user_id']]\n",
    "# y_train = train['is_recommended'].to_numpy()\n",
    "\n",
    "# X_train = X_train.sort_values(by='user_id')\n",
    "# counts = X_train['user_id'].value_counts(sort=False)\n",
    "# X_train = X_train[['app_id']]"
   ]
  },
  {
   "cell_type": "code",
   "execution_count": 7,
   "id": "f460d47b-e26d-4fe3-80e3-38af037c4c1d",
   "metadata": {},
   "outputs": [],
   "source": [
    "# ranker = LGBMRanker(n_estimators=300, random_state=42, objective='lambdarank')\n",
    "# ranker = ranker.fit(X_train, y_train, group = counts.values, categorical_feature=['app_id'],\n",
    "#                     eval_set=[(X_train, y_train)], eval_group=[counts.values], \n",
    "#                     eval_at=20)"
   ]
  },
  {
   "cell_type": "markdown",
   "id": "19eabdaf-e7ae-406f-adfa-73217bd74e25",
   "metadata": {},
   "source": [
    "## Training SVD"
   ]
  },
  {
   "cell_type": "code",
   "execution_count": 26,
   "id": "5cb4b4a6-76ca-4200-8e02-53c6bf30ab6e",
   "metadata": {},
   "outputs": [
    {
     "name": "stdout",
     "output_type": "stream",
     "text": [
      "Epoch 0/Training loss: 0.4487701137813207/Validation loss: 0.4500862580047882/Time: 6.15 seconds\n",
      "Epoch 1/Training loss: 0.4318310769502244/Validation loss: 0.4357208662019144/Time: 6.12 seconds\n",
      "Epoch 2/Training loss: 0.42198594279233/Validation loss: 0.4279168750011666/Time: 6.13 seconds\n",
      "Epoch 3/Training loss: 0.41441976405935343/Validation loss: 0.42219441788614875/Time: 6.1 seconds\n",
      "Epoch 4/Training loss: 0.40811771148699494/Validation loss: 0.41733960026897365/Time: 6.48 seconds\n",
      "Epoch 5/Training loss: 0.4026476625127548/Validation loss: 0.4131168400756519/Time: 7.67 seconds\n",
      "Epoch 6/Training loss: 0.3978483672442578/Validation loss: 0.40947051585074473/Time: 6.05 seconds\n",
      "Epoch 7/Training loss: 0.3935190437722071/Validation loss: 0.40627678688295343/Time: 6.02 seconds\n",
      "Epoch 8/Training loss: 0.3895593729319669/Validation loss: 0.4031576529278211/Time: 6.02 seconds\n",
      "Epoch 9/Training loss: 0.38600027975862194/Validation loss: 0.4004673076187667/Time: 5.98 seconds\n",
      "Epoch 10/Training loss: 0.3827302954129355/Validation loss: 0.3979363836649627/Time: 5.86 seconds\n",
      "Epoch 11/Training loss: 0.37972955792053414/Validation loss: 0.39566125036490485/Time: 5.83 seconds\n",
      "Epoch 12/Training loss: 0.37697955051919335/Validation loss: 0.3935849388260924/Time: 5.89 seconds\n",
      "Epoch 13/Training loss: 0.37439257686914046/Validation loss: 0.3916077250232331/Time: 5.84 seconds\n",
      "Epoch 14/Training loss: 0.37204787497694586/Validation loss: 0.38986225793866436/Time: 6.35 seconds\n",
      "Epoch 15/Training loss: 0.3698205894673861/Validation loss: 0.3881233973756327/Time: 6.09 seconds\n",
      "Epoch 16/Training loss: 0.3677698677007339/Validation loss: 0.3866767719796399/Time: 6.06 seconds\n",
      "Epoch 17/Training loss: 0.36586718193670714/Validation loss: 0.38527855000980815/Time: 6.16 seconds\n",
      "Epoch 18/Training loss: 0.3640843458669908/Validation loss: 0.38388344686851394/Time: 5.99 seconds\n",
      "Epoch 19/Training loss: 0.3623875001129179/Validation loss: 0.38261404396764165/Time: 6.11 seconds\n",
      "Epoch 20/Training loss: 0.3608362093845471/Validation loss: 0.3816562012041685/Time: 5.95 seconds\n",
      "Epoch 21/Training loss: 0.35935516311032834/Validation loss: 0.3805658976645588/Time: 5.86 seconds\n",
      "Epoch 22/Training loss: 0.35796927266044404/Validation loss: 0.37953275989314406/Time: 6.3 seconds\n",
      "Epoch 23/Training loss: 0.3566747595254581/Validation loss: 0.378637422337586/Time: 6.09 seconds\n",
      "Epoch 24/Training loss: 0.3554154660548691/Validation loss: 0.37775178470531257/Time: 6.02 seconds\n",
      "Epoch 25/Training loss: 0.3542456931048677/Validation loss: 0.3769339162016076/Time: 6.21 seconds\n",
      "Epoch 26/Training loss: 0.35316543310007636/Validation loss: 0.3763167535711831/Time: 6.52 seconds\n",
      "Epoch 27/Training loss: 0.3521165940277649/Validation loss: 0.37554279641874677/Time: 6.07 seconds\n",
      "Epoch 28/Training loss: 0.35111011064576375/Validation loss: 0.37492503124298443/Time: 6.0 seconds\n",
      "Epoch 29/Training loss: 0.35018620233084646/Validation loss: 0.374363225623154/Time: 5.92 seconds\n",
      "Epoch 30/Training loss: 0.34930410119827043/Validation loss: 0.37389651428522863/Time: 5.94 seconds\n",
      "Epoch 31/Training loss: 0.34843045178120813/Validation loss: 0.37322256183286256/Time: 5.85 seconds\n",
      "Epoch 32/Training loss: 0.3476307007030189/Validation loss: 0.37276913886544905/Time: 5.98 seconds\n",
      "Epoch 33/Training loss: 0.3468624450870419/Validation loss: 0.3723360571961806/Time: 5.84 seconds\n",
      "Epoch 34/Training loss: 0.3461224331893703/Validation loss: 0.3718259458704683/Time: 5.86 seconds\n",
      "Epoch 35/Training loss: 0.3454293792310987/Validation loss: 0.3715181285584962/Time: 5.78 seconds\n",
      "Epoch 36/Training loss: 0.3447220210243562/Validation loss: 0.3712031312573725/Time: 5.81 seconds\n",
      "Epoch 37/Training loss: 0.3440984800526256/Validation loss: 0.37092474617721216/Time: 5.88 seconds\n",
      "Epoch 38/Training loss: 0.34347434691923623/Validation loss: 0.3704596768841827/Time: 6.18 seconds\n",
      "Epoch 39/Training loss: 0.3428697180899366/Validation loss: 0.37024613668597384/Time: 5.83 seconds\n",
      "Epoch 40/Training loss: 0.34225957891166303/Validation loss: 0.36989770444386594/Time: 5.83 seconds\n",
      "Epoch 41/Training loss: 0.3417034764862603/Validation loss: 0.36960478215703135/Time: 5.94 seconds\n",
      "Epoch 42/Training loss: 0.3411846334693524/Validation loss: 0.3694987590744231/Time: 5.88 seconds\n",
      "Epoch 43/Training loss: 0.3406258003860912/Validation loss: 0.3691598738179425/Time: 5.86 seconds\n",
      "Epoch 44/Training loss: 0.3401047265433901/Validation loss: 0.36894841114917504/Time: 5.82 seconds\n",
      "Epoch 45/Training loss: 0.3395861925837194/Validation loss: 0.36882294974977475/Time: 5.94 seconds\n",
      "Epoch 46/Training loss: 0.3391062113635251/Validation loss: 0.3686382195814673/Time: 5.89 seconds\n",
      "Epoch 47/Training loss: 0.3386131765754325/Validation loss: 0.3683916090843216/Time: 6.0 seconds\n",
      "Epoch 48/Training loss: 0.3380907877715902/Validation loss: 0.36824749629360637/Time: 5.91 seconds\n",
      "Epoch 49/Training loss: 0.33760729354939223/Validation loss: 0.36820079800595945/Time: 5.83 seconds\n",
      "Epoch 50/Training loss: 0.33710314016198145/Validation loss: 0.36788086289498645/Time: 6.0 seconds\n",
      "Epoch 51/Training loss: 0.33660565674939374/Validation loss: 0.3678638394652/Time: 5.9 seconds\n",
      "Epoch 52/Training loss: 0.3361184758396365/Validation loss: 0.36759634676122177/Time: 5.89 seconds\n",
      "Epoch 53/Training loss: 0.33557320404405877/Validation loss: 0.3676179737077755/Time: 5.94 seconds\n",
      "Epoch 54/Training loss: 0.335059499688703/Validation loss: 0.36743303987691045/Time: 5.95 seconds\n",
      "Epoch 55/Training loss: 0.3345181584534091/Validation loss: 0.36759761681618797/Time: 5.87 seconds\n",
      "Epoch 56/Training loss: 0.33392938857407034/Validation loss: 0.3672217406624806/Time: 5.86 seconds\n",
      "Epoch 57/Training loss: 0.33333001294455106/Validation loss: 0.36718279878747684/Time: 5.88 seconds\n",
      "Epoch 58/Training loss: 0.3327197057417262/Validation loss: 0.3671675518982613/Time: 5.93 seconds\n",
      "Epoch 59/Training loss: 0.33205903397506104/Validation loss: 0.3670407817056568/Time: 6.44 seconds\n",
      "Epoch 60/Training loss: 0.3313675245234559/Validation loss: 0.3668829074105897/Time: 5.93 seconds\n",
      "Epoch 61/Training loss: 0.3306484928773426/Validation loss: 0.36689434874970284/Time: 5.96 seconds\n",
      "Epoch 62/Training loss: 0.32988623065731576/Validation loss: 0.3667643589909603/Time: 6.81 seconds\n",
      "Epoch 63/Training loss: 0.32907099569069787/Validation loss: 0.3667788912605184/Time: 6.3 seconds\n",
      "Epoch 64/Training loss: 0.3282241786096436/Validation loss: 0.3667226518263179/Time: 5.88 seconds\n",
      "Epoch 65/Training loss: 0.32728940649349064/Validation loss: 0.3666099403427114/Time: 5.92 seconds\n",
      "Epoch 66/Training loss: 0.3263652442886641/Validation loss: 0.366593969263842/Time: 5.87 seconds\n",
      "Epoch 67/Training loss: 0.32534988302932205/Validation loss: 0.3666158315131366/Time: 5.82 seconds\n",
      "Epoch 68/Training loss: 0.32429354157655554/Validation loss: 0.36663013232867303/Time: 5.98 seconds\n",
      "Epoch 69/Training loss: 0.32316658963507794/Validation loss: 0.36646943131390786/Time: 5.87 seconds\n",
      "Epoch 70/Training loss: 0.3219970074555302/Validation loss: 0.3664539735245184/Time: 5.87 seconds\n",
      "Epoch 71/Training loss: 0.32076902126297097/Validation loss: 0.3664379477317499/Time: 5.83 seconds\n",
      "Epoch 72/Training loss: 0.3194866864443088/Validation loss: 0.3665837191015911/Time: 5.77 seconds\n",
      "Epoch 73/Training loss: 0.3181630990337816/Validation loss: 0.3665112264421239/Time: 6.24 seconds\n",
      "Epoch 74/Training loss: 0.3167864664834229/Validation loss: 0.36656514560119263/Time: 6.15 seconds\n",
      "Epoch 75/Training loss: 0.3153674875126119/Validation loss: 0.3666624797181211/Time: 6.16 seconds\n",
      "Epoch 76/Training loss: 0.3138663211676329/Validation loss: 0.3666957227478339/Time: 6.05 seconds\n",
      "Epoch 77/Training loss: 0.31239243907149894/Validation loss: 0.36664345970871975/Time: 6.07 seconds\n",
      "Epoch 78/Training loss: 0.3108245308356022/Validation loss: 0.36687500471445555/Time: 6.17 seconds\n",
      "Epoch 79/Training loss: 0.30919755192095144/Validation loss: 0.36681911940110534/Time: 6.22 seconds\n",
      "Epoch 80/Training loss: 0.3076027624736339/Validation loss: 0.36687926783627767/Time: 6.02 seconds\n",
      "Epoch 81/Training loss: 0.3059805642920641/Validation loss: 0.36704792293540534/Time: 6.07 seconds\n",
      "Epoch 82/Training loss: 0.30431363865526206/Validation loss: 0.3670412557615257/Time: 6.3 seconds\n",
      "Epoch 83/Training loss: 0.3026284902613114/Validation loss: 0.36733240543198925/Time: 6.15 seconds\n",
      "Epoch 84/Training loss: 0.30094114277823275/Validation loss: 0.36735434823731755/Time: 6.22 seconds\n",
      "Epoch 85/Training loss: 0.29925860247224845/Validation loss: 0.3676576253448368/Time: 6.0 seconds\n",
      "Epoch 86/Training loss: 0.29751014209296345/Validation loss: 0.3676910523615839/Time: 6.05 seconds\n",
      "Epoch 87/Training loss: 0.2958294870564785/Validation loss: 0.36798460279213185/Time: 6.05 seconds\n",
      "Epoch 88/Training loss: 0.29408366616393694/Validation loss: 0.368164493587123/Time: 5.99 seconds\n",
      "Epoch 89/Training loss: 0.29238809918086406/Validation loss: 0.36842732795168553/Time: 5.95 seconds\n",
      "Epoch 90/Training loss: 0.2906842570175178/Validation loss: 0.3686504305433291/Time: 6.1 seconds\n",
      "Epoch 91/Training loss: 0.28891100434888967/Validation loss: 0.3689666132049707/Time: 5.97 seconds\n",
      "Epoch 92/Training loss: 0.2872257064669243/Validation loss: 0.3691257909982901/Time: 6.1 seconds\n",
      "Epoch 93/Training loss: 0.28554412159927983/Validation loss: 0.36941227881148164/Time: 6.12 seconds\n",
      "Epoch 94/Training loss: 0.28386079417696664/Validation loss: 0.3696709031607388/Time: 6.28 seconds\n",
      "Epoch 95/Training loss: 0.2821756872047616/Validation loss: 0.3700293441987948/Time: 6.2 seconds\n",
      "Epoch 96/Training loss: 0.2805322645641459/Validation loss: 0.3703330991005415/Time: 6.19 seconds\n",
      "Epoch 97/Training loss: 0.2788579467219866/Validation loss: 0.3707286750760549/Time: 6.02 seconds\n",
      "Epoch 98/Training loss: 0.2772845673000638/Validation loss: 0.3709993190055135/Time: 5.99 seconds\n",
      "Epoch 99/Training loss: 0.2757033903227172/Validation loss: 0.3713878811160213/Time: 5.93 seconds\n",
      "Epoch 100/Training loss: 0.27409016896588423/Validation loss: 0.37171149963314276/Time: 6.04 seconds\n",
      "Epoch 101/Training loss: 0.27250828434496527/Validation loss: 0.37213238647803754/Time: 5.98 seconds\n",
      "Epoch 102/Training loss: 0.2709956416774472/Validation loss: 0.37245763165302687/Time: 6.08 seconds\n",
      "Epoch 103/Training loss: 0.2694568273317318/Validation loss: 0.37282486192767594/Time: 5.95 seconds\n",
      "Epoch 104/Training loss: 0.2679916893500833/Validation loss: 0.37318773459675525/Time: 6.22 seconds\n",
      "Epoch 105/Training loss: 0.2664688821335971/Validation loss: 0.3736408010720972/Time: 5.97 seconds\n",
      "Epoch 106/Training loss: 0.26504932338274234/Validation loss: 0.37411499006012056/Time: 6.12 seconds\n",
      "Epoch 107/Training loss: 0.2635527257376781/Validation loss: 0.37434700144509697/Time: 6.04 seconds\n",
      "Epoch 108/Training loss: 0.26216562916843955/Validation loss: 0.3748899711222157/Time: 6.22 seconds\n",
      "Epoch 109/Training loss: 0.260731131927024/Validation loss: 0.37533442578628606/Time: 6.05 seconds\n",
      "Epoch 110/Training loss: 0.2593247605508355/Validation loss: 0.37572530419861383/Time: 6.44 seconds\n",
      "Epoch 111/Training loss: 0.2580125468546749/Validation loss: 0.37617397612224246/Time: 5.97 seconds\n",
      "Epoch 112/Training loss: 0.2565982696919577/Validation loss: 0.37670692531235295/Time: 5.93 seconds\n",
      "Epoch 113/Training loss: 0.2553370604243692/Validation loss: 0.377133988579753/Time: 5.98 seconds\n",
      "Epoch 114/Training loss: 0.2539934500973074/Validation loss: 0.377637305830827/Time: 5.96 seconds\n",
      "Epoch 115/Training loss: 0.25272987398542385/Validation loss: 0.3781006399784208/Time: 6.3 seconds\n",
      "Epoch 116/Training loss: 0.251480858972404/Validation loss: 0.37850857354918815/Time: 6.0 seconds\n",
      "Epoch 117/Training loss: 0.25023853353699693/Validation loss: 0.3789367800537935/Time: 6.06 seconds\n",
      "Epoch 118/Training loss: 0.24903480246033904/Validation loss: 0.37958973282374564/Time: 6.02 seconds\n",
      "Epoch 119/Training loss: 0.24783008649979038/Validation loss: 0.3800594997074915/Time: 7.11 seconds\n",
      "Epoch 120/Training loss: 0.24659982525423174/Validation loss: 0.38039268034153567/Time: 6.31 seconds\n",
      "Epoch 121/Training loss: 0.24543520488643283/Validation loss: 0.3809876348530244/Time: 6.21 seconds\n",
      "Epoch 122/Training loss: 0.24427969894129276/Validation loss: 0.38140993199136686/Time: 6.0 seconds\n",
      "Epoch 123/Training loss: 0.24307893913435147/Validation loss: 0.38195386777791684/Time: 6.12 seconds\n",
      "Epoch 124/Training loss: 0.24207303304913114/Validation loss: 0.3824393060874163/Time: 6.03 seconds\n",
      "Epoch 125/Training loss: 0.2409213952295047/Validation loss: 0.3829502337836318/Time: 6.06 seconds\n",
      "Epoch 126/Training loss: 0.23981155156849365/Validation loss: 0.38344296362602337/Time: 6.32 seconds\n",
      "Epoch 127/Training loss: 0.23876284828324304/Validation loss: 0.3839036076755981/Time: 6.13 seconds\n",
      "Epoch 128/Training loss: 0.23772142284705183/Validation loss: 0.3844665484072973/Time: 6.19 seconds\n",
      "Epoch 129/Training loss: 0.23669184547066585/Validation loss: 0.3850044135853819/Time: 6.06 seconds\n",
      "Epoch 130/Training loss: 0.2355964201765096/Validation loss: 0.3855983037183516/Time: 6.22 seconds\n",
      "Epoch 131/Training loss: 0.2346951751216707/Validation loss: 0.38596945030509056/Time: 6.35 seconds\n",
      "Epoch 132/Training loss: 0.23363180065874042/Validation loss: 0.386670087209401/Time: 6.11 seconds\n",
      "Epoch 133/Training loss: 0.2327110009658748/Validation loss: 0.3870052531382652/Time: 6.34 seconds\n",
      "Epoch 134/Training loss: 0.23170432294375767/Validation loss: 0.38756497330878287/Time: 6.76 seconds\n",
      "Epoch 135/Training loss: 0.23075949863247983/Validation loss: 0.3881355294819469/Time: 10.45 seconds\n",
      "Epoch 136/Training loss: 0.22980274090610422/Validation loss: 0.3887083601660552/Time: 11.4 seconds\n",
      "Epoch 137/Training loss: 0.22898453081317813/Validation loss: 0.38921026419317406/Time: 8.82 seconds\n",
      "Epoch 138/Training loss: 0.22803364106952162/Validation loss: 0.3896571396601206/Time: 8.98 seconds\n",
      "Epoch 139/Training loss: 0.22710536486818447/Validation loss: 0.39025449598201595/Time: 8.35 seconds\n",
      "Epoch 140/Training loss: 0.22625040180972253/Validation loss: 0.3907576304797777/Time: 7.37 seconds\n",
      "Epoch 141/Training loss: 0.22541665797107843/Validation loss: 0.39123771829648774/Time: 7.33 seconds\n",
      "Epoch 142/Training loss: 0.22459626126572654/Validation loss: 0.39175945666183754/Time: 7.76 seconds\n",
      "Epoch 143/Training loss: 0.22371425767719272/Validation loss: 0.3922369677906162/Time: 6.7 seconds\n",
      "Epoch 144/Training loss: 0.22289231687245492/Validation loss: 0.3928793873055192/Time: 7.24 seconds\n",
      "Epoch 145/Training loss: 0.2221033988254282/Validation loss: 0.39341385963302544/Time: 6.45 seconds\n",
      "Epoch 146/Training loss: 0.22129400023003665/Validation loss: 0.39385522016898245/Time: 6.66 seconds\n",
      "Epoch 147/Training loss: 0.22046115865839958/Validation loss: 0.3943447104172479/Time: 6.43 seconds\n",
      "Epoch 148/Training loss: 0.2197636236801711/Validation loss: 0.39487910955188704/Time: 6.37 seconds\n",
      "Epoch 149/Training loss: 0.2189675600353378/Validation loss: 0.39549734845483575/Time: 6.37 seconds\n",
      "Epoch 150/Training loss: 0.2182802971642031/Validation loss: 0.39601991628707456/Time: 6.48 seconds\n",
      "Epoch 151/Training loss: 0.21747955090031892/Validation loss: 0.3964459939713039/Time: 6.07 seconds\n",
      "Epoch 152/Training loss: 0.21672013358290595/Validation loss: 0.3969823942646006/Time: 6.08 seconds\n",
      "Epoch 153/Training loss: 0.21601081482679466/Validation loss: 0.39746381172778417/Time: 5.99 seconds\n",
      "Epoch 154/Training loss: 0.2152580720543439/Validation loss: 0.3979838963753298/Time: 6.12 seconds\n",
      "Epoch 155/Training loss: 0.21463062849691023/Validation loss: 0.3985030325166153/Time: 6.05 seconds\n",
      "Epoch 156/Training loss: 0.21390191205241588/Validation loss: 0.3990831381491511/Time: 7.44 seconds\n",
      "Epoch 157/Training loss: 0.21320963686303274/Validation loss: 0.3995969935909671/Time: 9.36 seconds\n",
      "Epoch 158/Training loss: 0.2124998270039916/Validation loss: 0.4001713634355104/Time: 7.49 seconds\n",
      "Epoch 159/Training loss: 0.21183401264731785/Validation loss: 0.40063335263738337/Time: 6.13 seconds\n",
      "Epoch 160/Training loss: 0.21121251380714376/Validation loss: 0.4010849084366015/Time: 6.19 seconds\n",
      "Epoch 161/Training loss: 0.21055054052330174/Validation loss: 0.4015543027574562/Time: 6.38 seconds\n",
      "Epoch 162/Training loss: 0.2099369608544121/Validation loss: 0.40211138896387616/Time: 6.35 seconds\n",
      "Epoch 163/Training loss: 0.20928418368880986/Validation loss: 0.4027042459295654/Time: 6.41 seconds\n",
      "Epoch 164/Training loss: 0.20867502966008128/Validation loss: 0.4031918645587031/Time: 6.2 seconds\n",
      "Epoch 165/Training loss: 0.20806524032646148/Validation loss: 0.40366029325758945/Time: 6.12 seconds\n",
      "Epoch 166/Training loss: 0.20737524130549/Validation loss: 0.40420387478463093/Time: 6.25 seconds\n",
      "Epoch 167/Training loss: 0.20675858162724398/Validation loss: 0.40480653978268266/Time: 6.06 seconds\n",
      "Epoch 168/Training loss: 0.20624372178357067/Validation loss: 0.4051428773132364/Time: 5.95 seconds\n",
      "Epoch 169/Training loss: 0.205709282240153/Validation loss: 0.40559404039809843/Time: 6.05 seconds\n",
      "Epoch 170/Training loss: 0.20511045927899613/Validation loss: 0.40614405679266957/Time: 6.15 seconds\n",
      "Epoch 171/Training loss: 0.20449276329667457/Validation loss: 0.4066125146964962/Time: 6.07 seconds\n",
      "Epoch 172/Training loss: 0.20404398709402793/Validation loss: 0.4071138958361263/Time: 5.99 seconds\n",
      "Epoch 173/Training loss: 0.20340651607284507/Validation loss: 0.40760641910054096/Time: 6.1 seconds\n",
      "Epoch 174/Training loss: 0.2028561937502824/Validation loss: 0.4081335172094563/Time: 6.08 seconds\n",
      "Epoch 175/Training loss: 0.20241343005181892/Validation loss: 0.40844915632305534/Time: 6.24 seconds\n",
      "Epoch 176/Training loss: 0.2019148904361101/Validation loss: 0.40898203383115517/Time: 5.99 seconds\n",
      "Epoch 177/Training loss: 0.2013541605692174/Validation loss: 0.40953662432087284/Time: 6.07 seconds\n",
      "Epoch 178/Training loss: 0.20082169157687188/Validation loss: 0.41006936730728455/Time: 6.0 seconds\n",
      "Epoch 179/Training loss: 0.20034689845540668/Validation loss: 0.41058274193475613/Time: 6.02 seconds\n",
      "Epoch 180/Training loss: 0.1998186897804376/Validation loss: 0.41098869620774375/Time: 6.11 seconds\n",
      "Epoch 181/Training loss: 0.19932769184848026/Validation loss: 0.41150656340298425/Time: 6.13 seconds\n",
      "Epoch 182/Training loss: 0.19883353741181875/Validation loss: 0.41191427560512606/Time: 6.14 seconds\n",
      "Epoch 183/Training loss: 0.19838494839989637/Validation loss: 0.41234614774730755/Time: 6.3 seconds\n",
      "Epoch 184/Training loss: 0.1978822998916139/Validation loss: 0.4128258599083376/Time: 7.13 seconds\n",
      "Epoch 185/Training loss: 0.19744436955070144/Validation loss: 0.4132515454069221/Time: 9.2 seconds\n",
      "Epoch 186/Training loss: 0.19698434559773195/Validation loss: 0.41373529876577475/Time: 6.17 seconds\n",
      "Epoch 187/Training loss: 0.1964711972640057/Validation loss: 0.414322762677252/Time: 6.07 seconds\n",
      "Epoch 188/Training loss: 0.19608006050152202/Validation loss: 0.41455688718726574/Time: 6.54 seconds\n",
      "Epoch 189/Training loss: 0.19563574086351368/Validation loss: 0.41503565499361045/Time: 6.08 seconds\n",
      "Epoch 190/Training loss: 0.19517194674546037/Validation loss: 0.4155795420639257/Time: 6.03 seconds\n",
      "Epoch 191/Training loss: 0.19474392057824516/Validation loss: 0.4160034112409083/Time: 7.26 seconds\n",
      "Epoch 192/Training loss: 0.19430930344306915/Validation loss: 0.41663104979994015/Time: 9.76 seconds\n",
      "Epoch 193/Training loss: 0.19393188851668214/Validation loss: 0.416869583986261/Time: 7.68 seconds\n",
      "Epoch 194/Training loss: 0.19347049217707574/Validation loss: 0.4173878886851917/Time: 6.18 seconds\n",
      "Epoch 195/Training loss: 0.19306503629856162/Validation loss: 0.41782490624486657/Time: 6.18 seconds\n",
      "Epoch 196/Training loss: 0.19265744987296046/Validation loss: 0.41823958971804126/Time: 6.14 seconds\n",
      "Epoch 197/Training loss: 0.19226149407147475/Validation loss: 0.4186397306965765/Time: 7.76 seconds\n",
      "Epoch 198/Training loss: 0.19184360097474615/Validation loss: 0.4191259720860895/Time: 8.39 seconds\n",
      "Epoch 199/Training loss: 0.19148342612167088/Validation loss: 0.4195056275039467/Time: 6.1 seconds\n"
     ]
    },
    {
     "data": {
      "image/png": "[encoded data removed]",
      "text/plain": [
       "<Figure size 640x480 with 1 Axes>"
      ]
     },
     "metadata": {},
     "output_type": "display_data"
    },
    {
     "name": "stdout",
     "output_type": "stream",
     "text": [
      "Validation rmse 0.3596098894711974\n"
     ]
    }
   ],
   "source": [
    "# for pruned, epoch: 80, lr:0.01, reg:0.02, k=100\n",
    "# for 2plus, epoch: 80, lr:0.01, reg:0.02, k=100\n",
    "\n",
    "EPOCHS = 100\n",
    "\n",
    "random.seed(42)\n",
    "np.random.seed(42)\n",
    "\n",
    "# # Fit and predict with svd\n",
    "# svd_predictor = RatingSVD(\n",
    "#     train_data.get_num_users(), train_data.get_num_items(), 2, k=20, \n",
    "#     learning_rate=0.001, C=0.02)\n",
    "# svd_predictor.fit(train_data.get_matrix(), 100, validation_set=val, early_stop=False)\n",
    "svd_predictor = LogisticSVD(\n",
    "    train_data.get_num_users(), train_data.get_num_items(), 2, k=10, \n",
    "    learning_rate=0.01, C=0.02)\n",
    "svd_predictor.fit(train_data.get_matrix(), 200, validation_set=val, early_stop=False)\n",
    "\n",
    "# Plot error\n",
    "errors = svd_predictor.get_train_errors()\n",
    "val_errors = svd_predictor.get_val_errors()\n",
    "plt.plot(range(len(errors)), errors, label='Training loss')\n",
    "plt.plot(range(len(val_errors)), val_errors, label='Test loss')\n",
    "plt.xlabel('Epoch')\n",
    "plt.ylabel('Error')\n",
    "plt.title('Error vs Epoch')\n",
    "plt.legend()\n",
    "plt.show()\n",
    "\n",
    "# Compute rmse\n",
    "predictions = svd_predictor.predict_pairs([(user, item) for user, item, _ in val])\n",
    "predictions = [prediction + (val[i][2],) for i, prediction in enumerate(predictions)]\n",
    "metrics = Metrics()\n",
    "rmse = metrics.rmse(predictions)\n",
    "print(\"Validation rmse\", rmse)"
   ]
  },
  {
   "cell_type": "markdown",
   "id": "e93bee4f-c214-4263-a466-4947ed23a770",
   "metadata": {},
   "source": [
    "We can now continue to train if we believe the model is still underfitting."
   ]
  },
  {
   "cell_type": "code",
   "execution_count": null,
   "id": "943c101b-d3af-4b57-93b9-869686587c0b",
   "metadata": {
    "tags": []
   },
   "outputs": [
    {
     "name": "stdout",
     "output_type": "stream",
     "text": [
      "Epoch 0/Training loss: 0.1910383790306662/Validation loss: 0.4201488128057769/Time: 6.14 seconds\n",
      "Epoch 1/Training loss: 0.1905875489156269/Validation loss: 0.42065830384960906/Time: 6.34 seconds\n",
      "Epoch 2/Training loss: 0.19035185626718928/Validation loss: 0.42090035570675965/Time: 6.82 seconds\n",
      "Epoch 3/Training loss: 0.18997983793679224/Validation loss: 0.4213084179688596/Time: 6.16 seconds\n",
      "Epoch 4/Training loss: 0.18961909302737362/Validation loss: 0.4216994228651679/Time: 6.44 seconds\n",
      "Epoch 5/Training loss: 0.18923018843952516/Validation loss: 0.42203823294641085/Time: 6.86 seconds\n",
      "Epoch 6/Training loss: 0.18890834831007713/Validation loss: 0.4225225831441045/Time: 7.59 seconds\n",
      "Epoch 7/Training loss: 0.18841535248320596/Validation loss: 0.4229599137275147/Time: 6.5 seconds\n",
      "Epoch 8/Training loss: 0.1881327184760708/Validation loss: 0.4232803052376821/Time: 6.08 seconds\n",
      "Epoch 9/Training loss: 0.18780892961197937/Validation loss: 0.42368761982283865/Time: 5.88 seconds\n",
      "Epoch 10/Training loss: 0.18750566714137765/Validation loss: 0.42414420212984977/Time: 5.84 seconds\n",
      "Epoch 11/Training loss: 0.18715447352965575/Validation loss: 0.4246045934214272/Time: 6.09 seconds\n",
      "Epoch 12/Training loss: 0.18677311372812744/Validation loss: 0.4250063069896299/Time: 6.05 seconds\n",
      "Epoch 13/Training loss: 0.18642681468609384/Validation loss: 0.4254704098031031/Time: 7.29 seconds\n",
      "Epoch 14/Training loss: 0.1862028594919036/Validation loss: 0.4257399454470392/Time: 8.39 seconds\n",
      "Epoch 15/Training loss: 0.18581544437083927/Validation loss: 0.4261922321822433/Time: 7.34 seconds\n",
      "Epoch 16/Training loss: 0.18540586088829586/Validation loss: 0.42662859898460415/Time: 6.02 seconds\n",
      "Epoch 17/Training loss: 0.18509228253796242/Validation loss: 0.4271446258948363/Time: 6.15 seconds\n",
      "Epoch 18/Training loss: 0.1848421031340413/Validation loss: 0.4273932921939742/Time: 6.1 seconds\n",
      "Epoch 19/Training loss: 0.1844789969379042/Validation loss: 0.42775497607373825/Time: 5.89 seconds\n",
      "Epoch 20/Training loss: 0.18419776193074267/Validation loss: 0.4281638807127838/Time: 5.94 seconds\n",
      "Epoch 21/Training loss: 0.1839471922662743/Validation loss: 0.4284505435584732/Time: 6.09 seconds\n",
      "Epoch 22/Training loss: 0.18355422554775025/Validation loss: 0.4288941916915871/Time: 6.22 seconds\n",
      "Epoch 23/Training loss: 0.1833292009451325/Validation loss: 0.4292351442557743/Time: 5.91 seconds\n"
     ]
    }
   ],
   "source": [
    "svd_predictor.continue_fit(100, early_stop=False)"
   ]
  },
  {
   "cell_type": "code",
   "execution_count": 181,
   "id": "23bce580-3de3-4e83-94f3-a413f88b28d2",
   "metadata": {},
   "outputs": [
    {
     "name": "stdout",
     "output_type": "stream",
     "text": [
      "Total epochs 116\n"
     ]
    }
   ],
   "source": [
    "print(\"Total epochs\", svd_predictor._epoch)"
   ]
  },
  {
   "cell_type": "code",
   "execution_count": 156,
   "id": "01ba5dcd-24cd-4b78-b882-62414ddc9266",
   "metadata": {},
   "outputs": [
    {
     "data": {
      "image/png": "[encoded data removed]",
      "text/plain": [
       "<Figure size 640x480 with 1 Axes>"
      ]
     },
     "metadata": {},
     "output_type": "display_data"
    },
    {
     "name": "stdout",
     "output_type": "stream",
     "text": [
      "Test rmse 0.342823768401012\n"
     ]
    }
   ],
   "source": [
    "# Plot error\n",
    "errors = svd_predictor.get_train_errors()\n",
    "val_errors = svd_predictor.get_val_errors()\n",
    "plt.plot(range(len(errors)), errors, label='Training error')\n",
    "plt.plot(range(len(val_errors)), val_errors, label='Test error')\n",
    "plt.xlabel('Epoch')\n",
    "plt.ylabel('Error')\n",
    "plt.title('Error vs Epoch')\n",
    "plt.legend()\n",
    "plt.show()\n",
    "\n",
    "# Compute rmse\n",
    "predictions = svd_predictor.predict_pairs([(user, item) for user, item, _ in val])\n",
    "predictions = [prediction + (val[i][2],) for i, prediction in enumerate(predictions)]\n",
    "metrics = Metrics()\n",
    "rmse = metrics.rmse(predictions)\n",
    "print(\"Test rmse\", rmse)"
   ]
  },
  {
   "cell_type": "markdown",
   "id": "eab76d16-333f-47d2-9fe9-7c6ee891533f",
   "metadata": {},
   "source": [
    "We compute similarities for item-knn."
   ]
  },
  {
   "cell_type": "code",
   "execution_count": 51,
   "id": "357a8cf6-fd71-4ea3-b90a-f6dd3ff944a8",
   "metadata": {},
   "outputs": [
    {
     "name": "stdout",
     "output_type": "stream",
     "text": [
      "Computing similarities...\n",
      "Upto row 1 / 2246\n",
      "Upto row 201 / 2246\n",
      "Upto row 401 / 2246\n",
      "Upto row 601 / 2246\n",
      "Upto row 801 / 2246\n",
      "Upto row 1001 / 2246\n",
      "Upto row 1201 / 2246\n",
      "Upto row 1401 / 2246\n",
      "Upto row 1601 / 2246\n",
      "Upto row 1801 / 2246\n",
      "Upto row 2001 / 2246\n",
      "Upto row 2201 / 2246\n",
      "Done computing similarities in 488.09896063804626 seconds\n"
     ]
    }
   ],
   "source": [
    "svd_predictor.compute_sims()"
   ]
  },
  {
   "cell_type": "markdown",
   "id": "f7734567-9d7a-48be-96a6-90b0d0ab5ed2",
   "metadata": {},
   "source": [
    "## Preparing for Production"
   ]
  },
  {
   "cell_type": "code",
   "execution_count": 41,
   "id": "d04afbad-e0a1-4581-9b07-fede8f20af03",
   "metadata": {},
   "outputs": [],
   "source": [
    "svd_predictor.prep_for_item_knn()\n",
    "train_data.prep_for_item_knn()"
   ]
  },
  {
   "cell_type": "markdown",
   "id": "82e3cd3f-7857-4dfa-ab53-998eb6383fe4",
   "metadata": {},
   "source": [
    "## Saving the model"
   ]
  },
  {
   "cell_type": "code",
   "execution_count": 42,
   "id": "b664f8ce-2bcf-4bc2-8e25-51fee4d447fc",
   "metadata": {},
   "outputs": [
    {
     "name": "stdout",
     "output_type": "stream",
     "text": [
      "Saving model...\n",
      "Done saving model.\n"
     ]
    }
   ],
   "source": [
    "# Ensure file exists\n",
    "model_dir = model_dir = \"saved_models/{}-{}-{}-{}-{}-{}_{}\".format(\n",
    "    *(time.localtime()[:6] + (round(rmse, 4), ))).replace(\".\", \"-\") + \".pkl\" \n",
    "file = open(model_dir, 'a')\n",
    "file.close()\n",
    "\n",
    "# Save model\n",
    "print(\"Saving model...\")\n",
    "with open(model_dir, 'wb') as file:\n",
    "    pickle.dump([train_data, svd_predictor], file)\n",
    "print(\"Done saving model.\")"
   ]
  },
  {
   "cell_type": "markdown",
   "id": "c87713d2-dde8-4914-bbfa-4ecc35026e7d",
   "metadata": {},
   "source": [
    "## Tests"
   ]
  },
  {
   "cell_type": "code",
   "execution_count": 2,
   "id": "4a7b2b6c-8ffd-4ec7-8f4e-34e2b0b4b75d",
   "metadata": {},
   "outputs": [],
   "source": [
    "with open('saved_models/2023-7-8-12-15-13_0-37.pkl', 'rb') as file:\n",
    "    train_data, svd_predictor = pickle.load(file)"
   ]
  },
  {
   "cell_type": "markdown",
   "id": "0e48ab10-867a-46a3-9747-6ed959f69227",
   "metadata": {},
   "source": [
    "### Testing Rerank"
   ]
  },
  {
   "cell_type": "code",
   "execution_count": 10,
   "id": "2b4a3c0b-13ab-4d1c-86c8-31201d89f254",
   "metadata": {},
   "outputs": [],
   "source": [
    "# data.search_title('forza')"
   ]
  },
  {
   "cell_type": "code",
   "execution_count": 11,
   "id": "95e7e697-071d-4912-aa5a-11e180fe76dd",
   "metadata": {},
   "outputs": [],
   "source": [
    "# filtered = svd_predictor.items_top_n([(286, 1)])\n",
    "# app_ids = []\n",
    "# for item_index in filtered:\n",
    "#     app_ids.append(data.index_to_item_id(item_index))\n",
    "# df = pd.DataFrame({'app_id': app_ids})\n",
    "# predictions = ranker.predict(df)\n",
    "# df['relevance'] = predictions\n",
    "# df.head()\n",
    "# df = df.sort_values(by='relevance', ascending=False)\n",
    "# df.head()"
   ]
  },
  {
   "cell_type": "code",
   "execution_count": 12,
   "id": "d950c6e3-540c-466a-b484-6014326a2ad9",
   "metadata": {},
   "outputs": [],
   "source": [
    "# pprint([[data.index_to_title(data.item_id_to_index(i)) for _, i, _ in df.itertuples()]][0][:20])"
   ]
  },
  {
   "cell_type": "markdown",
   "id": "016d8055-1b91-413a-a7d4-bd887a37dfd1",
   "metadata": {},
   "source": [
    "### Testing Performance"
   ]
  },
  {
   "cell_type": "code",
   "execution_count": null,
   "id": "ee197e75-6462-463c-84fa-2293e9e865f3",
   "metadata": {},
   "outputs": [],
   "source": [
    "start_time = time.time()\n",
    "print(\"Computing recall...\")\n",
    "svd_predictor.compute_recall(val)\n",
    "print(\"Done computing recall in\", time.time() - start_time, \"seconds\")"
   ]
  },
  {
   "cell_type": "code",
   "execution_count": 56,
   "id": "e7d2169e-1031-4913-8aad-125cb1ebbe00",
   "metadata": {},
   "outputs": [
    {
     "data": {
      "text/plain": [
       "[('The Sims™ 4', 59), ('The Sims™ 3', 342)]"
      ]
     },
     "execution_count": 56,
     "metadata": {},
     "output_type": "execute_result"
    }
   ],
   "source": [
    "train_data.search_title('sims')"
   ]
  },
  {
   "cell_type": "code",
   "execution_count": 66,
   "id": "a225937b-fc43-418b-bd28-efa4cf56b1b4",
   "metadata": {},
   "outputs": [
    {
     "name": "stdout",
     "output_type": "stream",
     "text": [
      "[(0.8196778771060277, 'The Jackbox Party Pack 7'),\n",
      " (0.7826072037146538, 'Frogun'),\n",
      " (0.7812091627472968, 'Splitgate'),\n",
      " (0.7655809980579231, 'SIMULACRA 3'),\n",
      " (0.762635035411984, 'False Myth'),\n",
      " (0.7482158859274901, 'Aselia the Eternal -The Spirit of Eternity Sword-'),\n",
      " (0.7442228441980312, 'FlatOut'),\n",
      " (0.7420911089198435, '鬼谷八荒 Tale of Immortal'),\n",
      " (0.7342533744836676, 'Brigandine The Legend of Runersia'),\n",
      " (0.7180584894039866, 'Anno 1800')]\n"
     ]
    }
   ],
   "source": [
    "top = svd_predictor.items_knn([(59, 1)], n=10)\n",
    "pprint([(sim, train_data.index_to_title(index)) for sim, index in top])"
   ]
  },
  {
   "cell_type": "code",
   "execution_count": 64,
   "id": "6ab5770d-962b-47b1-9b82-74feac83f214",
   "metadata": {},
   "outputs": [
    {
     "name": "stdout",
     "output_type": "stream",
     "text": [
      "Predicted top n:\n",
      "757\n",
      "[(0.998980935346034, 'Portal 2'),\n",
      " (0.9985956055151063, 'A Hat in Time'),\n",
      " (0.9978110093563304, 'Lil Gator Game'),\n",
      " (0.9976022654252013, 'Mafia II (Classic)'),\n",
      " (0.9975640624700255, 'DAVE THE DIVER'),\n",
      " (0.997489874664385, 'Thief™ II: The Metal Age'),\n",
      " (0.9973684898685912, 'Turing Complete'),\n",
      " (0.9972078275810554, 'POSTAL 2'),\n",
      " (0.9971189679253456, 'Growing Up'),\n",
      " (0.9969907124021354, 'Terraria')]\n",
      "True top n:\n",
      "[\"Marvel's Guardians of the Galaxy\",\n",
      " 'Cyberpunk 2077',\n",
      " 'Vampire Survivors',\n",
      " 'The Sims™ 4',\n",
      " 'Satisfactory',\n",
      " 'Wallpaper Engine',\n",
      " 'Ori and the Will of the Wisps',\n",
      " 'Kingsway',\n",
      " 'Call of Duty®: Black Ops III',\n",
      " 'The Past Within',\n",
      " 'Deep Rock Galactic',\n",
      " 'PowerWash Simulator',\n",
      " 'Apex Legends™',\n",
      " 'FINAL FANTASY XIV Online',\n",
      " \"Assassin's Creed® Odyssey\",\n",
      " 'STAR WARS™: The Old Republic™',\n",
      " 'Call of Duty®: WWII',\n",
      " 'Albion Online',\n",
      " 'Call of Duty®: Modern Warfare® II',\n",
      " 'Forager',\n",
      " 'Destiny 2',\n",
      " 'Battlefield™ 2042']\n"
     ]
    }
   ],
   "source": [
    "j = 4\n",
    "\n",
    "# Test top-n list for user j\n",
    "top_n = svd_predictor.top_n(j, 1000)\n",
    "print(\"Predicted top n:\")\n",
    "pprint([index for r, index in top_n][0])\n",
    "pprint([(r, train_data.index_to_title(index)) for r, index in top_n][0:10])\n",
    "\n",
    "# User j true top n list\n",
    "print(\"True top n:\")\n",
    "true_top = train_data.top_n(j, 5000)\n",
    "pprint([train_data.index_to_title(index) for _, index in true_top])"
   ]
  },
  {
   "cell_type": "code",
   "execution_count": null,
   "id": "8f39bc02-a788-46a0-8f11-156cade2be99",
   "metadata": {},
   "outputs": [],
   "source": [
    "# values, bins = np.histogram(svd_predictor._user_features[0, :])\n",
    "# plt.stairs(values, bins)\n",
    "# plt.show()"
   ]
  },
  {
   "cell_type": "code",
   "execution_count": 46,
   "id": "4a9be427-4b26-4189-9eed-02e98e23056c",
   "metadata": {},
   "outputs": [
    {
     "data": {
      "text/plain": [
       "[('Gunpoint', 1066)]"
      ]
     },
     "execution_count": 46,
     "metadata": {},
     "output_type": "execute_result"
    }
   ],
   "source": [
    "train_data.search_title('GunPoint')"
   ]
  },
  {
   "cell_type": "code",
   "execution_count": 21,
   "id": "af7c7b3d-f089-454c-8892-52d633e70b9b",
   "metadata": {},
   "outputs": [
    {
     "name": "stdout",
     "output_type": "stream",
     "text": [
      "[(147, 'The Elder Scrolls V: Skyrim Special Edition', 1),\n",
      " (325, 'Slay the Spire', 1)]\n"
     ]
    }
   ],
   "source": [
    "prefs = [(147, 1), (325, 1)]\n",
    "# prefs = [(5, 1), (229, 1), (966, 0)]\n",
    "pprint([(index, train_data.index_to_title(index), pref) for index, pref in prefs])\n",
    "prefs = train_data.create_prefs(prefs)    "
   ]
  },
  {
   "cell_type": "code",
   "execution_count": 22,
   "id": "2b516899-5ff8-4cbc-abc0-fd9d7a78cb5d",
   "metadata": {},
   "outputs": [
    {
     "name": "stdout",
     "output_type": "stream",
     "text": [
      "Epoch 0/Time: 6.88 seconds\n",
      "Completed partial fit in 7.875029563903809 seconds\n"
     ]
    }
   ],
   "source": [
    "epochs = 1\n",
    "\n",
    "start_time = time.time()\n",
    "svd_predictor.partial_fit(prefs, epochs=epochs)\n",
    "print(\"Completed partial fit in\", time.time() - start_time, \"seconds\")"
   ]
  },
  {
   "cell_type": "code",
   "execution_count": 28,
   "id": "4e10eed0-deb4-440a-92e8-eb12c7a96b97",
   "metadata": {},
   "outputs": [
    {
     "name": "stdout",
     "output_type": "stream",
     "text": [
      "Predicted top n\n",
      "[(0.9987608146858127, 'Portal 2'),\n",
      " (0.9969967969293526, 'A Hat in Time'),\n",
      " (0.9952055750129399, 'Terraria'),\n",
      " (0.9939231456186107, 'Thief™ II: The Metal Age'),\n",
      " (0.9938464256065681, 'Lil Gator Game'),\n",
      " (0.9936272229187082, 'Mafia II (Classic)'),\n",
      " (0.9934598331074666, 'POSTAL 2'),\n",
      " (0.9909451404418662, 'Monolith'),\n",
      " (0.9907963903985133, 'Choice of Robots'),\n",
      " (0.9907266718244505, 'Bastion')]\n"
     ]
    }
   ],
   "source": [
    "top_n = svd_predictor.top_n(svd_predictor._num_users - 1, 10)\n",
    "print(\"Predicted top n\")\n",
    "pprint([(r, train_data.index_to_title(index)) for r, index in top_n])"
   ]
  },
  {
   "cell_type": "code",
   "execution_count": null,
   "id": "3ed80d3c-1901-4404-a237-edea0ddc01a1",
   "metadata": {},
   "outputs": [],
   "source": []
  },
  {
   "cell_type": "code",
   "execution_count": null,
   "id": "41364ee8-1570-49b6-8810-ca327149bf40",
   "metadata": {},
   "outputs": [],
   "source": []
  }
 ],
 "metadata": {
  "kernelspec": {
   "display_name": "Python 3 (ipykernel)",
   "language": "python",
   "name": "python3"
  },
  "language_info": {
   "codemirror_mode": {
    "name": "ipython",
    "version": 3
   },
   "file_extension": ".py",
   "mimetype": "text/x-python",
   "name": "python",
   "nbconvert_exporter": "python",
   "pygments_lexer": "ipython3",
   "version": "3.11.4"
  }
 },
 "nbformat": 4,
 "nbformat_minor": 5
}
