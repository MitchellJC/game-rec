{
 "cells": [
  {
   "cell_type": "markdown",
   "id": "a8554b74-824d-4dd9-9159-38c6fc305828",
   "metadata": {},
   "source": [
    "# Modelling"
   ]
  },
  {
   "cell_type": "code",
   "execution_count": 19,
   "id": "cfd28a59-588e-47cc-ab61-bb9e8674854a",
   "metadata": {},
   "outputs": [
    {
     "name": "stdin",
     "output_type": "stream",
     "text": [
      "Once deleted, variables cannot be recovered. Proceed (y/[n])?  y\n"
     ]
    }
   ],
   "source": [
    "%reset"
   ]
  },
  {
   "cell_type": "code",
   "execution_count": 1,
   "id": "2b35e932-407e-4160-878a-1547e900cce9",
   "metadata": {},
   "outputs": [],
   "source": [
    "import numpy as np\n",
    "from scipy.sparse import csr_array, lil_array\n",
    "import matplotlib.pyplot as plt\n",
    "import pandas as pd\n",
    "import math\n",
    "import pickle\n",
    "import time\n",
    "import datetime\n",
    "import random\n",
    "from pprint import pprint\n",
    "from lightgbm import LGBMRanker\n",
    "from sklearn.model_selection import train_test_split\n",
    "\n",
    "from SVD import Metrics, SVDPredictor, FastLogisticSVD\n",
    "from RecData import RecData"
   ]
  },
  {
   "cell_type": "markdown",
   "id": "5e68c45e-13f9-4979-b916-34cec1db601d",
   "metadata": {},
   "source": [
    "## Data Preprocessing"
   ]
  },
  {
   "cell_type": "code",
   "execution_count": 2,
   "id": "86929969-e5de-468e-b024-80cf550c6e8f",
   "metadata": {},
   "outputs": [
    {
     "name": "stdout",
     "output_type": "stream",
     "text": [
      "Shape: (1482532, 3)\n"
     ]
    },
    {
     "data": {
      "text/html": [
       "<div>\n",
       "<style scoped>\n",
       "    .dataframe tbody tr th:only-of-type {\n",
       "        vertical-align: middle;\n",
       "    }\n",
       "\n",
       "    .dataframe tbody tr th {\n",
       "        vertical-align: top;\n",
       "    }\n",
       "\n",
       "    .dataframe thead th {\n",
       "        text-align: right;\n",
       "    }\n",
       "</style>\n",
       "<table border=\"1\" class=\"dataframe\">\n",
       "  <thead>\n",
       "    <tr style=\"text-align: right;\">\n",
       "      <th></th>\n",
       "      <th>app_id</th>\n",
       "      <th>is_recommended</th>\n",
       "      <th>user_id</th>\n",
       "    </tr>\n",
       "  </thead>\n",
       "  <tbody>\n",
       "    <tr>\n",
       "      <th>629351</th>\n",
       "      <td>12210</td>\n",
       "      <td>True</td>\n",
       "      <td>240</td>\n",
       "    </tr>\n",
       "    <tr>\n",
       "      <th>116928</th>\n",
       "      <td>22380</td>\n",
       "      <td>True</td>\n",
       "      <td>240</td>\n",
       "    </tr>\n",
       "    <tr>\n",
       "      <th>1418125</th>\n",
       "      <td>239140</td>\n",
       "      <td>True</td>\n",
       "      <td>240</td>\n",
       "    </tr>\n",
       "    <tr>\n",
       "      <th>236273</th>\n",
       "      <td>251570</td>\n",
       "      <td>True</td>\n",
       "      <td>240</td>\n",
       "    </tr>\n",
       "    <tr>\n",
       "      <th>87206</th>\n",
       "      <td>270880</td>\n",
       "      <td>True</td>\n",
       "      <td>240</td>\n",
       "    </tr>\n",
       "  </tbody>\n",
       "</table>\n",
       "</div>"
      ],
      "text/plain": [
       "         app_id  is_recommended  user_id\n",
       "629351    12210            True      240\n",
       "116928    22380            True      240\n",
       "1418125  239140            True      240\n",
       "236273   251570            True      240\n",
       "87206    270880            True      240"
      ]
     },
     "execution_count": 2,
     "metadata": {},
     "output_type": "execute_result"
    }
   ],
   "source": [
    "# recs = pd.read_csv('data/recommendations.csv')\n",
    "recs = pd.read_csv('data/pruned.csv')\n",
    "# recs = pd.read_csv('data/2plus.csv')\n",
    "\n",
    "# Remove old ratings\n",
    "recs = recs.sort_values(by=['date'], ascending=False)\n",
    "recs.drop_duplicates(subset= ['app_id', 'user_id'], inplace=True) \n",
    "\n",
    "USED_COLS = ['app_id', 'is_recommended', 'user_id']\n",
    "recs = recs[USED_COLS]\n",
    "\n",
    "item_data = pd.read_csv('data/games.csv')\n",
    "titles = item_data[['app_id', 'title']]\n",
    "\n",
    "print(\"Shape:\", recs.shape)\n",
    "recs.sort_values(by=['user_id', 'app_id']).head()"
   ]
  },
  {
   "cell_type": "code",
   "execution_count": 3,
   "id": "78f0adeb-df3b-4750-b1f5-91c115d6238e",
   "metadata": {},
   "outputs": [],
   "source": [
    "# random.seed(42)\n",
    "# np.random.seed(42)\n",
    "\n",
    "# rec_data = RecData()\n",
    "# rec_data.create_from_dataframe(recs)\n",
    "# rec_data.set_titles(titles)\n",
    "\n",
    "# # del recs\n",
    "\n",
    "# start_time = time.time()\n",
    "# print(\"Creating splits...\")\n",
    "# train_data, test = rec_data.train_test_split(test_size=0.2)\n",
    "# print(\"First split done.\")\n",
    "# train_data, val = train_data.train_test_split(test_size=0.2)\n",
    "# print(\"Done creating splits in\", time.time() - start_time, \"seconds\")"
   ]
  },
  {
   "cell_type": "code",
   "execution_count": 4,
   "id": "41d0fdf6-2dff-4196-b2ad-a7f4c4de981c",
   "metadata": {},
   "outputs": [
    {
     "name": "stdout",
     "output_type": "stream",
     "text": [
      "Creating utility matrix...\n",
      "Done utility matrix.\n",
      "Creating splits...\n",
      "Done user 0\n",
      "Done creating splits.\n"
     ]
    }
   ],
   "source": [
    "random.seed(42)\n",
    "np.random.seed(42)\n",
    "rec_data = RecData()\n",
    "rec_data.create_from_dataframe(recs)\n",
    "rec_data.set_titles(titles)\n",
    "\n",
    "# del recs\n",
    "    \n",
    "print(\"Creating splits...\")\n",
    "train_data, val, test = rec_data.leave_k_out_split(k=1)\n",
    "print(\"Done creating splits.\")"
   ]
  },
  {
   "cell_type": "code",
   "execution_count": 5,
   "id": "55f5d9d9-039c-485f-abf7-e8cc5448cedb",
   "metadata": {},
   "outputs": [],
   "source": [
    "del rec_data\n",
    "del item_data\n",
    "del titles"
   ]
  },
  {
   "cell_type": "markdown",
   "id": "6210ec68-3810-4694-9a42-956ba7be0b73",
   "metadata": {},
   "source": [
    "## Ranker"
   ]
  },
  {
   "cell_type": "markdown",
   "id": "ac596ab5-0048-4b3f-8d50-e3405644f8f8",
   "metadata": {},
   "source": [
    "This was used as a postprocessing step after using item-knn for candidate generation. Was not able to get good results."
   ]
  },
  {
   "cell_type": "code",
   "execution_count": 6,
   "id": "272d92ab-e737-4b6b-b27c-65ec71047b29",
   "metadata": {},
   "outputs": [],
   "source": [
    "# train = train_data.generate_dataframe()\n",
    "# X_train = train[['app_id', 'user_id']]\n",
    "# y_train = train['is_recommended'].to_numpy()\n",
    "\n",
    "# X_train = X_train.sort_values(by='user_id')\n",
    "# counts = X_train['user_id'].value_counts(sort=False)\n",
    "# X_train = X_train[['app_id']]"
   ]
  },
  {
   "cell_type": "code",
   "execution_count": 7,
   "id": "f460d47b-e26d-4fe3-80e3-38af037c4c1d",
   "metadata": {},
   "outputs": [],
   "source": [
    "# ranker = LGBMRanker(n_estimators=300, random_state=42, objective='lambdarank')\n",
    "# ranker = ranker.fit(X_train, y_train, group = counts.values, categorical_feature=['app_id'],\n",
    "#                     eval_set=[(X_train, y_train)], eval_group=[counts.values], \n",
    "#                     eval_at=20)"
   ]
  },
  {
   "cell_type": "markdown",
   "id": "19eabdaf-e7ae-406f-adfa-73217bd74e25",
   "metadata": {},
   "source": [
    "## Training SVD"
   ]
  },
  {
   "cell_type": "code",
   "execution_count": 8,
   "id": "5cb4b4a6-76ca-4200-8e02-53c6bf30ab6e",
   "metadata": {},
   "outputs": [
    {
     "name": "stdout",
     "output_type": "stream",
     "text": [
      "Epoch 0/Training error: 0.6933375427742149/Validation error: 0.6933654807341031/Time: 9.43 seconds\n",
      "Epoch 1/Training error: 0.6933360010596387/Validation error: 0.6933646633383593/Time: 7.42 seconds\n",
      "Epoch 2/Training error: 0.6933344333778068/Validation error: 0.6933639004459696/Time: 7.76 seconds\n",
      "Epoch 3/Training error: 0.6933328593780649/Validation error: 0.693363132326198/Time: 8.35 seconds\n",
      "Epoch 4/Training error: 0.6933312850044013/Validation error: 0.6933623517067792/Time: 7.09 seconds\n",
      "Epoch 5/Training error: 0.6933297125888027/Validation error: 0.693361560791642/Time: 7.58 seconds\n",
      "Epoch 6/Training error: 0.6933281430956165/Validation error: 0.6933607629538528/Time: 8.26 seconds\n",
      "Epoch 7/Training error: 0.6933265769873292/Validation error: 0.6933599610439433/Time: 7.7 seconds\n",
      "Epoch 8/Training error: 0.6933250144624085/Validation error: 0.6933591571774027/Time: 7.64 seconds\n",
      "Epoch 9/Training error: 0.693323455526572/Validation error: 0.6933583528596129/Time: 7.4 seconds\n",
      "Epoch 10/Training error: 0.6933219001082145/Validation error: 0.6933575490470111/Time: 7.49 seconds\n",
      "Epoch 11/Training error: 0.6933203482167708/Validation error: 0.6933567464343583/Time: 7.16 seconds\n",
      "Epoch 12/Training error: 0.6933187997948912/Validation error: 0.6933559454564828/Time: 7.08 seconds\n",
      "Epoch 13/Training error: 0.6933172548089896/Validation error: 0.6933551463798754/Time: 7.3 seconds\n",
      "Epoch 14/Training error: 0.693315713211204/Validation error: 0.6933543493847677/Time: 7.5 seconds\n"
     ]
    },
    {
     "ename": "SystemError",
     "evalue": "CPUDispatcher(<function update_fast at 0x000002083651D040>) returned a result with an error set",
     "output_type": "error",
     "traceback": [
      "\u001b[1;31m---------------------------------------------------------------------------\u001b[0m",
      "\u001b[1;31mKeyboardInterrupt\u001b[0m                         Traceback (most recent call last)",
      "File \u001b[1;32m~\\anaconda3\\lib\\site-packages\\numba\\core\\serialize.py:43\u001b[0m, in \u001b[0;36m_numba_unpickle\u001b[1;34m(address, bytedata, hashed)\u001b[0m\n\u001b[0;32m     30\u001b[0m \u001b[38;5;124;03m\"\"\"Used by `numba_unpickle` from _helperlib.c\u001b[39;00m\n\u001b[0;32m     31\u001b[0m \n\u001b[0;32m     32\u001b[0m \u001b[38;5;124;03mParameters\u001b[39;00m\n\u001b[1;32m   (...)\u001b[0m\n\u001b[0;32m     41\u001b[0m \u001b[38;5;124;03m    unpickled object\u001b[39;00m\n\u001b[0;32m     42\u001b[0m \u001b[38;5;124;03m\"\"\"\u001b[39;00m\n\u001b[1;32m---> 43\u001b[0m key \u001b[38;5;241m=\u001b[39m (address, hashed)\n\u001b[0;32m     44\u001b[0m \u001b[38;5;28;01mtry\u001b[39;00m:\n",
      "\u001b[1;31mKeyboardInterrupt\u001b[0m: ",
      "\nThe above exception was the direct cause of the following exception:\n",
      "\u001b[1;31mSystemError\u001b[0m                               Traceback (most recent call last)",
      "\u001b[1;31mSystemError\u001b[0m: _PyEval_EvalFrameDefault returned a result with an error set",
      "\nThe above exception was the direct cause of the following exception:\n",
      "\u001b[1;31mSystemError\u001b[0m                               Traceback (most recent call last)",
      "\u001b[1;31mSystemError\u001b[0m: _PyEval_EvalFrameDefault returned a result with an error set",
      "\nThe above exception was the direct cause of the following exception:\n",
      "\u001b[1;31mSystemError\u001b[0m                               Traceback (most recent call last)",
      "\u001b[1;31mSystemError\u001b[0m: _PyEval_EvalFrameDefault returned a result with an error set",
      "\nThe above exception was the direct cause of the following exception:\n",
      "\u001b[1;31mSystemError\u001b[0m                               Traceback (most recent call last)",
      "Cell \u001b[1;32mIn[8], line 13\u001b[0m\n\u001b[0;32m      9\u001b[0m \u001b[38;5;66;03m# Fit and predict with svd\u001b[39;00m\n\u001b[0;32m     10\u001b[0m svd_predictor \u001b[38;5;241m=\u001b[39m FastLogisticSVD(\n\u001b[0;32m     11\u001b[0m     train_data\u001b[38;5;241m.\u001b[39mget_num_users(), train_data\u001b[38;5;241m.\u001b[39mget_num_items(), \u001b[38;5;241m2\u001b[39m, k\u001b[38;5;241m=\u001b[39m\u001b[38;5;241m80\u001b[39m, \n\u001b[0;32m     12\u001b[0m     learning_rate\u001b[38;5;241m=\u001b[39m\u001b[38;5;241m0.01\u001b[39m, C\u001b[38;5;241m=\u001b[39m\u001b[38;5;241m0.02\u001b[39m)\n\u001b[1;32m---> 13\u001b[0m \u001b[43msvd_predictor\u001b[49m\u001b[38;5;241;43m.\u001b[39;49m\u001b[43mfit\u001b[49m\u001b[43m(\u001b[49m\u001b[43mtrain_data\u001b[49m\u001b[38;5;241;43m.\u001b[39;49m\u001b[43mget_matrix\u001b[49m\u001b[43m(\u001b[49m\u001b[43m)\u001b[49m\u001b[43m,\u001b[49m\u001b[43m \u001b[49m\u001b[43mEPOCHS\u001b[49m\u001b[43m,\u001b[49m\u001b[43m \u001b[49m\u001b[43mvalidation_set\u001b[49m\u001b[38;5;241;43m=\u001b[39;49m\u001b[43mval\u001b[49m\u001b[43m,\u001b[49m\u001b[43m \u001b[49m\u001b[43mearly_stop\u001b[49m\u001b[38;5;241;43m=\u001b[39;49m\u001b[38;5;28;43;01mFalse\u001b[39;49;00m\u001b[43m)\u001b[49m\n\u001b[0;32m     15\u001b[0m \u001b[38;5;66;03m# Plot error\u001b[39;00m\n\u001b[0;32m     16\u001b[0m errors \u001b[38;5;241m=\u001b[39m svd_predictor\u001b[38;5;241m.\u001b[39mget_train_errors()\n",
      "File \u001b[1;32m~\\Files\\GitHub\\game-rec\\SVD.py:363\u001b[0m, in \u001b[0;36mFastLogisticSVD.fit\u001b[1;34m(self, M, epochs, validation_set, tol, early_stop)\u001b[0m\n\u001b[0;32m    360\u001b[0m \u001b[38;5;28mself\u001b[39m\u001b[38;5;241m.\u001b[39m_cache_users_rated()\n\u001b[0;32m    361\u001b[0m \u001b[38;5;28mself\u001b[39m\u001b[38;5;241m.\u001b[39m_cache_user_item_weights()\n\u001b[1;32m--> 363\u001b[0m \u001b[38;5;28;43mself\u001b[39;49m\u001b[38;5;241;43m.\u001b[39;49m\u001b[43m_run_epochs\u001b[49m\u001b[43m(\u001b[49m\u001b[38;5;28;43mself\u001b[39;49m\u001b[38;5;241;43m.\u001b[39;49m\u001b[43m_users\u001b[49m\u001b[43m,\u001b[49m\u001b[43m \u001b[49m\u001b[38;5;28;43mself\u001b[39;49m\u001b[38;5;241;43m.\u001b[39;49m\u001b[43m_items\u001b[49m\u001b[43m,\u001b[49m\u001b[43m \u001b[49m\u001b[43mepochs\u001b[49m\u001b[43m,\u001b[49m\u001b[43m \u001b[49m\u001b[43mearly_stop\u001b[49m\u001b[38;5;241;43m=\u001b[39;49m\u001b[43mearly_stop\u001b[49m\u001b[43m)\u001b[49m\n",
      "File \u001b[1;32m~\\Files\\GitHub\\game-rec\\SVD.py:548\u001b[0m, in \u001b[0;36mFastLogisticSVD._run_epochs\u001b[1;34m(self, users, items, epochs, early_stop)\u001b[0m\n\u001b[0;32m    544\u001b[0m \u001b[38;5;66;03m# For all samples in random order update each parameter\u001b[39;00m\n\u001b[0;32m    545\u001b[0m \u001b[38;5;28;01mfor\u001b[39;00m i \u001b[38;5;129;01min\u001b[39;00m random\u001b[38;5;241m.\u001b[39msample(\u001b[38;5;28mrange\u001b[39m(\u001b[38;5;28mself\u001b[39m\u001b[38;5;241m.\u001b[39m_num_samples), k\u001b[38;5;241m=\u001b[39m\u001b[38;5;28mself\u001b[39m\u001b[38;5;241m.\u001b[39m_num_samples):\n\u001b[0;32m    546\u001b[0m     (\u001b[38;5;28mself\u001b[39m\u001b[38;5;241m.\u001b[39m_user_features, \u001b[38;5;28mself\u001b[39m\u001b[38;5;241m.\u001b[39m_item_features, \n\u001b[0;32m    547\u001b[0m     \u001b[38;5;28mself\u001b[39m\u001b[38;5;241m.\u001b[39m_user_biases, \u001b[38;5;28mself\u001b[39m\u001b[38;5;241m.\u001b[39m_item_biases) \u001b[38;5;241m=\u001b[39m (\n\u001b[1;32m--> 548\u001b[0m         \u001b[43mupdate_fast\u001b[49m\u001b[43m(\u001b[49m\u001b[43mi\u001b[49m\u001b[43m,\u001b[49m\u001b[43m \u001b[49m\u001b[43musers\u001b[49m\u001b[43m[\u001b[49m\u001b[43mi\u001b[49m\u001b[43m]\u001b[49m\u001b[43m,\u001b[49m\u001b[43m \u001b[49m\u001b[43mitems\u001b[49m\u001b[43m[\u001b[49m\u001b[43mi\u001b[49m\u001b[43m]\u001b[49m\u001b[43m,\u001b[49m\u001b[43m \u001b[49m\u001b[38;5;28;43mself\u001b[39;49m\u001b[38;5;241;43m.\u001b[39;49m\u001b[43m_M\u001b[49m\u001b[38;5;241;43m.\u001b[39;49m\u001b[43mdata\u001b[49m\u001b[43m,\u001b[49m\u001b[43m \u001b[49m\n\u001b[0;32m    549\u001b[0m \u001b[43m                    \u001b[49m\u001b[38;5;28;43mself\u001b[39;49m\u001b[38;5;241;43m.\u001b[39;49m\u001b[43m_user_features\u001b[49m\u001b[43m,\u001b[49m\n\u001b[0;32m    550\u001b[0m \u001b[43m                    \u001b[49m\u001b[38;5;28;43mself\u001b[39;49m\u001b[38;5;241;43m.\u001b[39;49m\u001b[43m_item_features\u001b[49m\u001b[43m,\u001b[49m\n\u001b[0;32m    551\u001b[0m \u001b[43m                    \u001b[49m\u001b[38;5;28;43mself\u001b[39;49m\u001b[38;5;241;43m.\u001b[39;49m\u001b[43m_user_biases\u001b[49m\u001b[43m,\u001b[49m\n\u001b[0;32m    552\u001b[0m \u001b[43m                    \u001b[49m\u001b[38;5;28;43mself\u001b[39;49m\u001b[38;5;241;43m.\u001b[39;49m\u001b[43m_item_biases\u001b[49m\u001b[43m,\u001b[49m\n\u001b[0;32m    553\u001b[0m \u001b[43m                    \u001b[49m\u001b[38;5;28;43mself\u001b[39;49m\u001b[38;5;241;43m.\u001b[39;49m\u001b[43m_user_props\u001b[49m\u001b[43m,\u001b[49m\n\u001b[0;32m    554\u001b[0m \u001b[43m                    \u001b[49m\u001b[38;5;28;43mself\u001b[39;49m\u001b[38;5;241;43m.\u001b[39;49m\u001b[43m_item_props\u001b[49m\u001b[43m,\u001b[49m\n\u001b[0;32m    555\u001b[0m \u001b[43m                    \u001b[49m\u001b[38;5;28;43mself\u001b[39;49m\u001b[38;5;241;43m.\u001b[39;49m\u001b[43m_learning_rate\u001b[49m\u001b[43m,\u001b[49m\n\u001b[0;32m    556\u001b[0m \u001b[43m                    \u001b[49m\u001b[38;5;28;43mself\u001b[39;49m\u001b[38;5;241;43m.\u001b[39;49m\u001b[43m_lrate_C\u001b[49m\u001b[43m)\u001b[49m\n\u001b[0;32m    557\u001b[0m     ) \n\u001b[0;32m    559\u001b[0m \u001b[38;5;66;03m# Display training information\u001b[39;00m\n\u001b[0;32m    560\u001b[0m \u001b[38;5;28mprint\u001b[39m(\u001b[38;5;124m\"\u001b[39m\u001b[38;5;124mEpoch\u001b[39m\u001b[38;5;124m\"\u001b[39m, epoch, end\u001b[38;5;241m=\u001b[39m\u001b[38;5;124m\"\u001b[39m\u001b[38;5;124m/\u001b[39m\u001b[38;5;124m\"\u001b[39m)\n",
      "\u001b[1;31mSystemError\u001b[0m: CPUDispatcher(<function update_fast at 0x000002083651D040>) returned a result with an error set"
     ]
    }
   ],
   "source": [
    "# for pruned, epoch: 30, lr:0.01, reg:0.02, k=50\n",
    "# for pruned, epoch: 60, lr:0.01, reg:0.02, k=80\n",
    "\n",
    "EPOCHS = 30\n",
    "\n",
    "random.seed(42)\n",
    "np.random.seed(42)\n",
    "\n",
    "# Fit and predict with svd\n",
    "svd_predictor = FastLogisticSVD(\n",
    "    train_data.get_num_users(), train_data.get_num_items(), 2, k=80, \n",
    "    learning_rate=1, C=0.02)\n",
    "svd_predictor.fit(train_data.get_matrix(), EPOCHS, validation_set=val, early_stop=False)\n",
    "\n",
    "# Plot error\n",
    "errors = svd_predictor.get_train_errors()\n",
    "val_errors = svd_predictor.get_val_errors()\n",
    "plt.plot(range(len(errors)), errors, label='Training error')\n",
    "plt.plot(range(len(val_errors)), val_errors, label='Test error')\n",
    "plt.xlabel('Epoch')\n",
    "plt.ylabel('Error')\n",
    "plt.title('Error vs Epoch')\n",
    "plt.legend()\n",
    "plt.show()\n",
    "\n",
    "# Compute rmse\n",
    "predictions = svd_predictor.predict_pairs([(user, item) for user, item, _ in val])\n",
    "predictions = [prediction + (val[i][2],) for i, prediction in enumerate(predictions)]\n",
    "metrics = Metrics()\n",
    "rmse = metrics.rmse(predictions)\n",
    "print(\"Test rmse\", rmse)"
   ]
  },
  {
   "cell_type": "code",
   "execution_count": 13,
   "id": "080f76b5-b581-467a-80ba-a7364a80236f",
   "metadata": {},
   "outputs": [
    {
     "data": {
      "text/plain": [
       "1964"
      ]
     },
     "execution_count": 13,
     "metadata": {},
     "output_type": "execute_result"
    }
   ],
   "source": [
    "np.argmin(svd_predictor._item_props)"
   ]
  },
  {
   "cell_type": "code",
   "execution_count": 14,
   "id": "f78e7f1e-e29e-4921-a1e3-3d9f382f3363",
   "metadata": {},
   "outputs": [
    {
     "data": {
      "text/plain": [
       "0.3707249531349002"
      ]
     },
     "execution_count": 14,
     "metadata": {},
     "output_type": "execute_result"
    }
   ],
   "source": [
    "svd_predictor._item_props[1964, 0]"
   ]
  },
  {
   "cell_type": "code",
   "execution_count": 40,
   "id": "a65c1aac-6ccf-40fb-9f23-cabee630769b",
   "metadata": {},
   "outputs": [
    {
     "data": {
      "text/plain": [
       "'Fallout 4'"
      ]
     },
     "execution_count": 40,
     "metadata": {},
     "output_type": "execute_result"
    }
   ],
   "source": [
    "train_data.index_to_title(626)"
   ]
  },
  {
   "cell_type": "markdown",
   "id": "e93bee4f-c214-4263-a466-4947ed23a770",
   "metadata": {},
   "source": [
    "We can now continue to train if we believe the model is still underfitting."
   ]
  },
  {
   "cell_type": "code",
   "execution_count": 39,
   "id": "943c101b-d3af-4b57-93b9-869686587c0b",
   "metadata": {},
   "outputs": [
    {
     "name": "stdout",
     "output_type": "stream",
     "text": [
      "Epoch 0/Training error: 0.19053590656505803/Validation error: 0.37349245980175527/Time: 5.04 seconds\n",
      "Epoch 1/Training error: 0.18825316930678915/Validation error: 0.3736884722884243/Time: 5.21 seconds\n",
      "Epoch 2/Training error: 0.18598803402106873/Validation error: 0.37389827069872345/Time: 6.0 seconds\n",
      "Epoch 3/Training error: 0.1838064664534095/Validation error: 0.3741446984797393/Time: 5.4 seconds\n",
      "Epoch 4/Training error: 0.18163851772263095/Validation error: 0.37435329022300556/Time: 5.28 seconds\n",
      "Epoch 5/Training error: 0.179443643887193/Validation error: 0.37458203290752035/Time: 4.98 seconds\n",
      "Epoch 6/Training error: 0.1773410008503614/Validation error: 0.3747880386474543/Time: 5.47 seconds\n",
      "Epoch 7/Training error: 0.17528116614041456/Validation error: 0.3749259008829289/Time: 5.31 seconds\n",
      "Epoch 8/Training error: 0.17323795068445305/Validation error: 0.3752120742708525/Time: 5.36 seconds\n",
      "Epoch 9/Training error: 0.1712096419295989/Validation error: 0.3754584724717603/Time: 5.23 seconds\n",
      "Epoch 10/Training error: 0.16922720613749145/Validation error: 0.3756520635024102/Time: 5.47 seconds\n",
      "Epoch 11/Training error: 0.16731313830023248/Validation error: 0.37587810899504714/Time: 5.06 seconds\n",
      "Epoch 12/Training error: 0.16538227171853195/Validation error: 0.3761405561905295/Time: 5.13 seconds\n",
      "Epoch 13/Training error: 0.16356972892672092/Validation error: 0.37640157611200575/Time: 5.26 seconds\n",
      "Epoch 14/Training error: 0.16172061169866553/Validation error: 0.3765777881258153/Time: 5.21 seconds\n",
      "Epoch 15/Training error: 0.15991726665097952/Validation error: 0.3768541271870015/Time: 5.2 seconds\n",
      "Epoch 16/Training error: 0.1581721278772229/Validation error: 0.37713301500886814/Time: 5.2 seconds\n",
      "Epoch 17/Training error: 0.15639626878178894/Validation error: 0.377246995502448/Time: 5.14 seconds\n",
      "Epoch 18/Training error: 0.1546773122381475/Validation error: 0.37751399668471153/Time: 5.31 seconds\n",
      "Epoch 19/Training error: 0.15305161643869397/Validation error: 0.3777779571862653/Time: 5.14 seconds\n"
     ]
    }
   ],
   "source": [
    "svd_predictor.continue_fit(20, early_stop=False)"
   ]
  },
  {
   "cell_type": "code",
   "execution_count": 40,
   "id": "01ba5dcd-24cd-4b78-b882-62414ddc9266",
   "metadata": {},
   "outputs": [
    {
     "data": {
      "image/png": "[encoded data removed]",
      "text/plain": [
       "<Figure size 640x480 with 1 Axes>"
      ]
     },
     "metadata": {},
     "output_type": "display_data"
    },
    {
     "name": "stdout",
     "output_type": "stream",
     "text": [
      "Test rmse 0.3437800582826854\n"
     ]
    }
   ],
   "source": [
    "# Plot error\n",
    "errors = svd_predictor.get_train_errors()\n",
    "val_errors = svd_predictor.get_val_errors()\n",
    "plt.plot(range(len(errors)), errors, label='Training error')\n",
    "plt.plot(range(len(val_errors)), val_errors, label='Test error')\n",
    "plt.xlabel('Epoch')\n",
    "plt.ylabel('Error')\n",
    "plt.title('Error vs Epoch')\n",
    "plt.legend()\n",
    "plt.show()\n",
    "\n",
    "# Compute rmse\n",
    "predictions = svd_predictor.predict_pairs([(user, item) for user, item, _ in val])\n",
    "predictions = [prediction + (val[i][2],) for i, prediction in enumerate(predictions)]\n",
    "metrics = Metrics()\n",
    "rmse = metrics.rmse(predictions)\n",
    "print(\"Test rmse\", rmse)"
   ]
  },
  {
   "cell_type": "markdown",
   "id": "eab76d16-333f-47d2-9fe9-7c6ee891533f",
   "metadata": {},
   "source": [
    "We compute similarities for item-knn."
   ]
  },
  {
   "cell_type": "code",
   "execution_count": 9,
   "id": "357a8cf6-fd71-4ea3-b90a-f6dd3ff944a8",
   "metadata": {},
   "outputs": [
    {
     "name": "stdout",
     "output_type": "stream",
     "text": [
      "Computing similarities...\n",
      "Upto row 0\n",
      "Upto row 200\n",
      "Upto row 400\n",
      "Upto row 600\n",
      "Upto row 800\n",
      "Upto row 1000\n",
      "Upto row 1200\n",
      "Upto row 1400\n",
      "Upto row 1600\n",
      "Upto row 1800\n",
      "Upto row 2000\n",
      "Upto row 2200\n",
      "Done computing similarities in 440.3786623477936 seconds\n"
     ]
    }
   ],
   "source": [
    "svd_predictor.compute_sims()"
   ]
  },
  {
   "cell_type": "markdown",
   "id": "82e3cd3f-7857-4dfa-ab53-998eb6383fe4",
   "metadata": {},
   "source": [
    "## Saving the model"
   ]
  },
  {
   "cell_type": "code",
   "execution_count": 10,
   "id": "b664f8ce-2bcf-4bc2-8e25-51fee4d447fc",
   "metadata": {},
   "outputs": [
    {
     "name": "stdout",
     "output_type": "stream",
     "text": [
      "Saving model...\n",
      "Done saving model.\n"
     ]
    }
   ],
   "source": [
    "# Ensure file exists\n",
    "model_dir = model_dir = \"saved_models/{}-{}-{}-{}-{}-{}_{}\".format(\n",
    "    *(time.localtime()[:6] + (round(rmse, 4), ))).replace(\".\", \"-\") + \".pkl\" \n",
    "file = open(model_dir, 'a')\n",
    "file.close()\n",
    "\n",
    "# Save model\n",
    "print(\"Saving model...\")\n",
    "with open(model_dir, 'wb') as file:\n",
    "    pickle.dump([train_data, svd_predictor], file)\n",
    "print(\"Done saving model.\")"
   ]
  },
  {
   "cell_type": "markdown",
   "id": "c87713d2-dde8-4914-bbfa-4ecc35026e7d",
   "metadata": {},
   "source": [
    "## Tests"
   ]
  },
  {
   "cell_type": "code",
   "execution_count": 16,
   "id": "4a7b2b6c-8ffd-4ec7-8f4e-34e2b0b4b75d",
   "metadata": {},
   "outputs": [],
   "source": [
    "with open('saved_models/2023-7-7-15-8-9_0-3407.pkl', 'rb') as file:\n",
    "    train_data, svd_predictor = pickle.load(file)"
   ]
  },
  {
   "cell_type": "markdown",
   "id": "0e48ab10-867a-46a3-9747-6ed959f69227",
   "metadata": {},
   "source": [
    "### Testing Rerank"
   ]
  },
  {
   "cell_type": "code",
   "execution_count": 10,
   "id": "2b4a3c0b-13ab-4d1c-86c8-31201d89f254",
   "metadata": {},
   "outputs": [],
   "source": [
    "# data.search_title('forza')"
   ]
  },
  {
   "cell_type": "code",
   "execution_count": 11,
   "id": "95e7e697-071d-4912-aa5a-11e180fe76dd",
   "metadata": {},
   "outputs": [],
   "source": [
    "# filtered = svd_predictor.items_top_n([(286, 1)])\n",
    "# app_ids = []\n",
    "# for item_index in filtered:\n",
    "#     app_ids.append(data.index_to_item_id(item_index))\n",
    "# df = pd.DataFrame({'app_id': app_ids})\n",
    "# predictions = ranker.predict(df)\n",
    "# df['relevance'] = predictions\n",
    "# df.head()\n",
    "# df = df.sort_values(by='relevance', ascending=False)\n",
    "# df.head()"
   ]
  },
  {
   "cell_type": "code",
   "execution_count": 12,
   "id": "d950c6e3-540c-466a-b484-6014326a2ad9",
   "metadata": {},
   "outputs": [],
   "source": [
    "# pprint([[data.index_to_title(data.item_id_to_index(i)) for _, i, _ in df.itertuples()]][0][:20])"
   ]
  },
  {
   "cell_type": "markdown",
   "id": "016d8055-1b91-413a-a7d4-bd887a37dfd1",
   "metadata": {},
   "source": [
    "### Testing Performance"
   ]
  },
  {
   "cell_type": "code",
   "execution_count": null,
   "id": "ee197e75-6462-463c-84fa-2293e9e865f3",
   "metadata": {},
   "outputs": [],
   "source": [
    "start_time = time.time()\n",
    "print(\"Computing recall...\")\n",
    "svd_predictor.compute_recall(val)\n",
    "print(\"Done computing recall in\", time.time() - start_time, \"seconds\")"
   ]
  },
  {
   "cell_type": "code",
   "execution_count": 29,
   "id": "e7d2169e-1031-4913-8aad-125cb1ebbe00",
   "metadata": {},
   "outputs": [
    {
     "data": {
      "text/plain": [
       "[(\"Monaco: What's Yours Is Mine\", 1242),\n",
       " ('Time Gentlemen Please! and Ben There Dan That! Special Edition  Double Pack',\n",
       "  1983),\n",
       " ('What Remains of Edith Finch', 415),\n",
       " ('Nancy Drew®: The Shattered Medallion', 2180),\n",
       " ('Thea 2: The Shattering', 1953),\n",
       " ('VRChat', 277),\n",
       " ('Hatsune Miku VR', 873),\n",
       " ('What The Dub?!', 1987),\n",
       " ('A Hat in Time', 972),\n",
       " ('Hatsune Miku: Project DIVA Mega Mix+', 311)]"
      ]
     },
     "execution_count": 29,
     "metadata": {},
     "output_type": "execute_result"
    }
   ],
   "source": [
    "train_data.search_title('hat')"
   ]
  },
  {
   "cell_type": "code",
   "execution_count": 20,
   "id": "a225937b-fc43-418b-bd28-efa4cf56b1b4",
   "metadata": {},
   "outputs": [
    {
     "name": "stdout",
     "output_type": "stream",
     "text": [
      "[(0.5324245057124044, 'Arcanum: Of Steamworks and Magick Obscura'),\n",
      " (0.5225535508934316, 'Touhou Kikeijuu ~ Wily Beast and Weakest Creature.'),\n",
      " (0.5220047634637819, 'Heavenly Bodies'),\n",
      " (0.5130406512769492, 'Battle Chef Brigade Deluxe'),\n",
      " (0.4984954658015166,\n",
      "  'Warhammer® 40000: Dawn of War® - Game of the Year Edition'),\n",
      " (0.4955127274505614, 'Grim Dawn'),\n",
      " (0.4616421396845921, 'Outer Wilds'),\n",
      " (0.4418063087928962, 'Noita'),\n",
      " (0.4400092455558826, 'Crypt of the NecroDancer'),\n",
      " (0.43789965452607804, \"Shantae and the Pirate's Curse\")]\n"
     ]
    }
   ],
   "source": [
    "top = svd_predictor.items_knn([(500, 1)])\n",
    "pprint([(sim, train_data.index_to_title(index)) for sim, index in top])"
   ]
  },
  {
   "cell_type": "code",
   "execution_count": 15,
   "id": "6ab5770d-962b-47b1-9b82-74feac83f214",
   "metadata": {},
   "outputs": [
    {
     "name": "stdout",
     "output_type": "stream",
     "text": [
      "Predicted top n:\n",
      "[(0.9990867088460789, 'Portal 2'),\n",
      " (0.9977785501867572, 'A Hat in Time'),\n",
      " (0.9974306263570875, 'Terraria'),\n",
      " (0.995107378874292, 'POSTAL 2'),\n",
      " (0.993142048075614, 'DOOM (1993)'),\n",
      " (0.9930706605073788, 'OMORI'),\n",
      " (0.9928492647998773, 'Bastion'),\n",
      " (0.9925243331327297, 'Neon White'),\n",
      " (0.9920780240901876, 'Half-Life 2'),\n",
      " (0.991939705283503, 'Counter-Strike: Source')]\n",
      "True top n:\n",
      "['NARAKA: BLADEPOINT',\n",
      " 'Call of Duty®: Modern Warfare® II',\n",
      " 'Paragon: The Overprime',\n",
      " 'Divinity: Original Sin 2 - Definitive Edition',\n",
      " 'V Rising',\n",
      " 'FOR HONOR™',\n",
      " 'Battlefield™ V',\n",
      " 'SCUM',\n",
      " 'Mass Effect™ Legendary Edition',\n",
      " 'Lost Ark',\n",
      " 'UNO',\n",
      " 'The Forest',\n",
      " 'Tribes of Midgard',\n",
      " 'Drug Dealer Simulator',\n",
      " 'Going Medieval']\n"
     ]
    }
   ],
   "source": [
    "j = 5\n",
    "\n",
    "# Test top-n list for user j\n",
    "top_n = svd_predictor.top_n(j, 10)\n",
    "print(\"Predicted top n:\")\n",
    "pprint([(r, train_data.index_to_title(index)) for r, index in top_n])\n",
    "\n",
    "# User j true top n list\n",
    "print(\"True top n:\")\n",
    "true_top = train_data.top_n(j, 5000)\n",
    "pprint([train_data.index_to_title(index) for _, index in true_top])"
   ]
  },
  {
   "cell_type": "code",
   "execution_count": null,
   "id": "8f39bc02-a788-46a0-8f11-156cade2be99",
   "metadata": {},
   "outputs": [],
   "source": [
    "# values, bins = np.histogram(svd_predictor._user_features[0, :])\n",
    "# plt.stairs(values, bins)\n",
    "# plt.show()"
   ]
  },
  {
   "cell_type": "code",
   "execution_count": 32,
   "id": "4a9be427-4b26-4189-9eed-02e98e23056c",
   "metadata": {},
   "outputs": [
    {
     "data": {
      "text/plain": [
       "[('Portal 2', 757), ('Desktop Portal', 2145), ('Portal', 11)]"
      ]
     },
     "execution_count": 32,
     "metadata": {},
     "output_type": "execute_result"
    }
   ],
   "source": [
    "train_data.search_title('portal')"
   ]
  },
  {
   "cell_type": "code",
   "execution_count": 21,
   "id": "af7c7b3d-f089-454c-8892-52d633e70b9b",
   "metadata": {},
   "outputs": [
    {
     "name": "stdout",
     "output_type": "stream",
     "text": [
      "[(147, 'The Elder Scrolls V: Skyrim Special Edition', 1),\n",
      " (325, 'Slay the Spire', 1)]\n"
     ]
    }
   ],
   "source": [
    "prefs = [(147, 1), (325, 1)]\n",
    "# prefs = [(5, 1), (229, 1), (966, 0)]\n",
    "pprint([(index, train_data.index_to_title(index), pref) for index, pref in prefs])\n",
    "prefs = train_data.create_prefs(prefs)    "
   ]
  },
  {
   "cell_type": "code",
   "execution_count": 22,
   "id": "2b516899-5ff8-4cbc-abc0-fd9d7a78cb5d",
   "metadata": {},
   "outputs": [
    {
     "name": "stdout",
     "output_type": "stream",
     "text": [
      "Epoch 0/Time: 6.88 seconds\n",
      "Completed partial fit in 7.875029563903809 seconds\n"
     ]
    }
   ],
   "source": [
    "epochs = 1\n",
    "\n",
    "start_time = time.time()\n",
    "svd_predictor.partial_fit(prefs, epochs=epochs)\n",
    "print(\"Completed partial fit in\", time.time() - start_time, \"seconds\")"
   ]
  },
  {
   "cell_type": "code",
   "execution_count": 28,
   "id": "4e10eed0-deb4-440a-92e8-eb12c7a96b97",
   "metadata": {},
   "outputs": [
    {
     "name": "stdout",
     "output_type": "stream",
     "text": [
      "Predicted top n\n",
      "[(0.9987608146858127, 'Portal 2'),\n",
      " (0.9969967969293526, 'A Hat in Time'),\n",
      " (0.9952055750129399, 'Terraria'),\n",
      " (0.9939231456186107, 'Thief™ II: The Metal Age'),\n",
      " (0.9938464256065681, 'Lil Gator Game'),\n",
      " (0.9936272229187082, 'Mafia II (Classic)'),\n",
      " (0.9934598331074666, 'POSTAL 2'),\n",
      " (0.9909451404418662, 'Monolith'),\n",
      " (0.9907963903985133, 'Choice of Robots'),\n",
      " (0.9907266718244505, 'Bastion')]\n"
     ]
    }
   ],
   "source": [
    "top_n = svd_predictor.top_n(svd_predictor._num_users - 1, 10)\n",
    "print(\"Predicted top n\")\n",
    "pprint([(r, train_data.index_to_title(index)) for r, index in top_n])"
   ]
  },
  {
   "cell_type": "code",
   "execution_count": null,
   "id": "3ed80d3c-1901-4404-a237-edea0ddc01a1",
   "metadata": {},
   "outputs": [],
   "source": []
  },
  {
   "cell_type": "code",
   "execution_count": null,
   "id": "41364ee8-1570-49b6-8810-ca327149bf40",
   "metadata": {},
   "outputs": [],
   "source": []
  }
 ],
 "metadata": {
  "kernelspec": {
   "display_name": "Python 3 (ipykernel)",
   "language": "python",
   "name": "python3"
  },
  "language_info": {
   "codemirror_mode": {
    "name": "ipython",
    "version": 3
   },
   "file_extension": ".py",
   "mimetype": "text/x-python",
   "name": "python",
   "nbconvert_exporter": "python",
   "pygments_lexer": "ipython3",
   "version": "3.9.16"
  }
 },
 "nbformat": 4,
 "nbformat_minor": 5
}
