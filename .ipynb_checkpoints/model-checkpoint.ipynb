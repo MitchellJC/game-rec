{
 "cells": [
  {
   "cell_type": "markdown",
   "id": "a8554b74-824d-4dd9-9159-38c6fc305828",
   "metadata": {},
   "source": [
    "# Modelling"
   ]
  },
  {
   "cell_type": "code",
   "execution_count": 130,
   "id": "cfd28a59-588e-47cc-ab61-bb9e8674854a",
   "metadata": {},
   "outputs": [
    {
     "name": "stdin",
     "output_type": "stream",
     "text": [
      "Once deleted, variables cannot be recovered. Proceed (y/[n])?  y\n"
     ]
    }
   ],
   "source": [
    "%reset"
   ]
  },
  {
   "cell_type": "code",
   "execution_count": 1,
   "id": "2b35e932-407e-4160-878a-1547e900cce9",
   "metadata": {},
   "outputs": [],
   "source": [
    "import numpy as np\n",
    "from scipy.sparse import csr_array, lil_array\n",
    "import matplotlib.pyplot as plt\n",
    "import pandas as pd\n",
    "import math\n",
    "import pickle\n",
    "import time\n",
    "import datetime\n",
    "import random\n",
    "from pprint import pprint\n",
    "from lightgbm import LGBMRanker\n",
    "from sklearn.model_selection import train_test_split\n",
    "\n",
    "from SVD import Metrics, RatingSVD, LogisticSVD\n",
    "from RecData import RecData"
   ]
  },
  {
   "cell_type": "markdown",
   "id": "5e68c45e-13f9-4979-b916-34cec1db601d",
   "metadata": {},
   "source": [
    "## Data Preprocessing"
   ]
  },
  {
   "cell_type": "code",
   "execution_count": 2,
   "id": "86929969-e5de-468e-b024-80cf550c6e8f",
   "metadata": {},
   "outputs": [
    {
     "name": "stdout",
     "output_type": "stream",
     "text": [
      "Shape: (1482464, 3)\n"
     ]
    },
    {
     "data": {
      "text/html": [
       "<div>\n",
       "<style scoped>\n",
       "    .dataframe tbody tr th:only-of-type {\n",
       "        vertical-align: middle;\n",
       "    }\n",
       "\n",
       "    .dataframe tbody tr th {\n",
       "        vertical-align: top;\n",
       "    }\n",
       "\n",
       "    .dataframe thead th {\n",
       "        text-align: right;\n",
       "    }\n",
       "</style>\n",
       "<table border=\"1\" class=\"dataframe\">\n",
       "  <thead>\n",
       "    <tr style=\"text-align: right;\">\n",
       "      <th></th>\n",
       "      <th>app_id</th>\n",
       "      <th>is_recommended</th>\n",
       "      <th>user_id</th>\n",
       "    </tr>\n",
       "  </thead>\n",
       "  <tbody>\n",
       "    <tr>\n",
       "      <th>420790</th>\n",
       "      <td>12210</td>\n",
       "      <td>True</td>\n",
       "      <td>240</td>\n",
       "    </tr>\n",
       "    <tr>\n",
       "      <th>675882</th>\n",
       "      <td>22380</td>\n",
       "      <td>True</td>\n",
       "      <td>240</td>\n",
       "    </tr>\n",
       "    <tr>\n",
       "      <th>246231</th>\n",
       "      <td>239140</td>\n",
       "      <td>True</td>\n",
       "      <td>240</td>\n",
       "    </tr>\n",
       "    <tr>\n",
       "      <th>539676</th>\n",
       "      <td>251570</td>\n",
       "      <td>True</td>\n",
       "      <td>240</td>\n",
       "    </tr>\n",
       "    <tr>\n",
       "      <th>521289</th>\n",
       "      <td>270880</td>\n",
       "      <td>True</td>\n",
       "      <td>240</td>\n",
       "    </tr>\n",
       "  </tbody>\n",
       "</table>\n",
       "</div>"
      ],
      "text/plain": [
       "        app_id  is_recommended  user_id\n",
       "420790   12210            True      240\n",
       "675882   22380            True      240\n",
       "246231  239140            True      240\n",
       "539676  251570            True      240\n",
       "521289  270880            True      240"
      ]
     },
     "execution_count": 2,
     "metadata": {},
     "output_type": "execute_result"
    }
   ],
   "source": [
    "# recs = pd.read_csv('data/recommendations.csv')\n",
    "# recs = pd.read_csv('data/pruned.csv')\n",
    "# recs = pd.read_csv('data/2plus.csv')\n",
    "recs = pd.read_csv('data/full_pruned.csv')\n",
    "\n",
    "# recs = recs[:5]\n",
    "\n",
    "USED_COLS = ['app_id', 'is_recommended', 'user_id']\n",
    "recs = recs[USED_COLS]\n",
    "\n",
    "item_data = pd.read_csv('data/games.csv')\n",
    "titles = item_data[['app_id', 'title']]\n",
    "\n",
    "print(\"Shape:\", recs.shape)\n",
    "recs.sort_values(by=['user_id', 'app_id']).head()"
   ]
  },
  {
   "cell_type": "code",
   "execution_count": 3,
   "id": "78f0adeb-df3b-4750-b1f5-91c115d6238e",
   "metadata": {},
   "outputs": [],
   "source": [
    "# random.seed(42)\n",
    "# np.random.seed(42)\n",
    "\n",
    "# rec_data = RecData()\n",
    "# rec_data.create_from_dataframe(recs)\n",
    "# rec_data.set_titles(titles)\n",
    "\n",
    "# # del recs\n",
    "\n",
    "# start_time = time.time()\n",
    "# print(\"Creating splits...\")\n",
    "# train_data, test = rec_data.train_test_split(test_size=0.2)\n",
    "# print(\"First split done.\")\n",
    "# train_data, val = train_data.train_test_split(test_size=0.2)\n",
    "# print(\"Done creating splits in\", time.time() - start_time, \"seconds\")"
   ]
  },
  {
   "cell_type": "code",
   "execution_count": 4,
   "id": "41d0fdf6-2dff-4196-b2ad-a7f4c4de981c",
   "metadata": {
    "tags": []
   },
   "outputs": [
    {
     "name": "stdout",
     "output_type": "stream",
     "text": [
      "Creating utility matrix...\n",
      "Done utility matrix.\n",
      "Creating splits...\n",
      "Done user 1 / 63175\n",
      "Done user 10001 / 63175\n",
      "Done user 20001 / 63175\n",
      "Done user 30001 / 63175\n",
      "Done user 40001 / 63175\n",
      "Done user 50001 / 63175\n",
      "Done user 60001 / 63175\n",
      "Done creating splits.\n"
     ]
    }
   ],
   "source": [
    "random.seed(42)\n",
    "np.random.seed(42)\n",
    "rec_data = RecData()\n",
    "rec_data.create_from_dataframe(recs)\n",
    "rec_data.set_titles(titles)\n",
    "\n",
    "# del recs\n",
    "\n",
    "print(\"Creating splits...\")\n",
    "train_data, val = rec_data.leave_k_out_split(k=1, create_val=False)\n",
    "print(\"Done creating splits.\")"
   ]
  },
  {
   "cell_type": "code",
   "execution_count": 5,
   "id": "55f5d9d9-039c-485f-abf7-e8cc5448cedb",
   "metadata": {},
   "outputs": [],
   "source": [
    "del rec_data\n",
    "del item_data\n",
    "del titles"
   ]
  },
  {
   "cell_type": "markdown",
   "id": "6210ec68-3810-4694-9a42-956ba7be0b73",
   "metadata": {},
   "source": [
    "## Ranker"
   ]
  },
  {
   "cell_type": "markdown",
   "id": "ac596ab5-0048-4b3f-8d50-e3405644f8f8",
   "metadata": {},
   "source": [
    "This was used as a postprocessing step after using item-knn for candidate generation. Was not able to get good results."
   ]
  },
  {
   "cell_type": "code",
   "execution_count": 6,
   "id": "272d92ab-e737-4b6b-b27c-65ec71047b29",
   "metadata": {},
   "outputs": [],
   "source": [
    "# train = train_data.generate_dataframe()\n",
    "# X_train = train[['app_id', 'user_id']]\n",
    "# y_train = train['is_recommended'].to_numpy()\n",
    "\n",
    "# X_train = X_train.sort_values(by='user_id')\n",
    "# counts = X_train['user_id'].value_counts(sort=False)\n",
    "# X_train = X_train[['app_id']]"
   ]
  },
  {
   "cell_type": "code",
   "execution_count": 7,
   "id": "f460d47b-e26d-4fe3-80e3-38af037c4c1d",
   "metadata": {},
   "outputs": [],
   "source": [
    "# ranker = LGBMRanker(n_estimators=300, random_state=42, objective='lambdarank')\n",
    "# ranker = ranker.fit(X_train, y_train, group = counts.values, categorical_feature=['app_id'],\n",
    "#                     eval_set=[(X_train, y_train)], eval_group=[counts.values], \n",
    "#                     eval_at=20)"
   ]
  },
  {
   "cell_type": "markdown",
   "id": "19eabdaf-e7ae-406f-adfa-73217bd74e25",
   "metadata": {},
   "source": [
    "## Training SVD"
   ]
  },
  {
   "cell_type": "code",
   "execution_count": 18,
   "id": "5cb4b4a6-76ca-4200-8e02-53c6bf30ab6e",
   "metadata": {},
   "outputs": [
    {
     "name": "stdout",
     "output_type": "stream",
     "text": [
      "Epoch 0/Training loss: 0.3897175405943037/Validation loss: 0.3884843901717251/Time: 6.98 seconds\n",
      "Epoch 1/Training loss: 0.3879141871137176/Validation loss: 0.38725388299980107/Time: 6.97 seconds\n",
      "Epoch 2/Training loss: 0.3862614852781348/Validation loss: 0.38612671332120496/Time: 7.03 seconds\n",
      "Epoch 3/Training loss: 0.3846316925266532/Validation loss: 0.3849857915513244/Time: 6.99 seconds\n",
      "Epoch 4/Training loss: 0.38314468931183127/Validation loss: 0.38395017565353734/Time: 6.94 seconds\n",
      "Epoch 5/Training loss: 0.38168602438761273/Validation loss: 0.3829039574657287/Time: 7.04 seconds\n",
      "Epoch 6/Training loss: 0.3803614176529933/Validation loss: 0.38198013069517844/Time: 6.91 seconds\n",
      "Epoch 7/Training loss: 0.37905406854894985/Validation loss: 0.38103758748193833/Time: 7.03 seconds\n",
      "Epoch 8/Training loss: 0.3777885075493877/Validation loss: 0.3801175765567215/Time: 6.84 seconds\n",
      "Epoch 9/Training loss: 0.3765908535608278/Validation loss: 0.37923747864885576/Time: 6.93 seconds\n",
      "Epoch 10/Training loss: 0.3754592493606449/Validation loss: 0.37840988800365327/Time: 6.97 seconds\n",
      "Epoch 11/Training loss: 0.3743604181317569/Validation loss: 0.37759787207226553/Time: 6.89 seconds\n",
      "Epoch 12/Training loss: 0.3733496883215125/Validation loss: 0.37685907912823197/Time: 6.99 seconds\n",
      "Epoch 13/Training loss: 0.37234660513884665/Validation loss: 0.37610048427089626/Time: 7.25 seconds\n",
      "Epoch 14/Training loss: 0.37141641725271446/Validation loss: 0.3754151375157857/Time: 7.08 seconds\n",
      "Epoch 15/Training loss: 0.3704875539578981/Validation loss: 0.37471318293943784/Time: 7.1 seconds\n",
      "Epoch 16/Training loss: 0.36959759978463386/Validation loss: 0.3740427298413961/Time: 6.98 seconds\n",
      "Epoch 17/Training loss: 0.36879258283912336/Validation loss: 0.37345057584499924/Time: 6.85 seconds\n",
      "Epoch 18/Training loss: 0.3679642535406466/Validation loss: 0.372804383838197/Time: 6.95 seconds\n",
      "Epoch 19/Training loss: 0.3671972239840759/Validation loss: 0.37221844286372324/Time: 7.0 seconds\n",
      "Epoch 20/Training loss: 0.3664425958164153/Validation loss: 0.3716476905190914/Time: 6.88 seconds\n",
      "Epoch 21/Training loss: 0.3657430527655224/Validation loss: 0.3711181690857408/Time: 8.47 seconds\n",
      "Epoch 22/Training loss: 0.365042672337313/Validation loss: 0.37058112320916015/Time: 9.85 seconds\n",
      "Epoch 23/Training loss: 0.36435391764228103/Validation loss: 0.3700574554281556/Time: 11.05 seconds\n",
      "Epoch 24/Training loss: 0.36374179225380354/Validation loss: 0.3695933332648974/Time: 9.54 seconds\n",
      "Epoch 25/Training loss: 0.3631270213191881/Validation loss: 0.36911976307475913/Time: 10.65 seconds\n",
      "Epoch 26/Training loss: 0.3625658062860592/Validation loss: 0.36871984858500745/Time: 9.86 seconds\n",
      "Epoch 27/Training loss: 0.36194191585429036/Validation loss: 0.3682161765601599/Time: 10.67 seconds\n",
      "Epoch 28/Training loss: 0.3614213300051801/Validation loss: 0.3678403308741662/Time: 10.59 seconds\n",
      "Epoch 29/Training loss: 0.3608993488540086/Validation loss: 0.36744700748159353/Time: 10.62 seconds\n",
      "Epoch 30/Training loss: 0.36038490340654084/Validation loss: 0.3670462923724245/Time: 10.42 seconds\n",
      "Epoch 31/Training loss: 0.3598831526554607/Validation loss: 0.36666194070273744/Time: 8.89 seconds\n",
      "Epoch 32/Training loss: 0.3594075256328933/Validation loss: 0.36630362355125246/Time: 7.27 seconds\n",
      "Epoch 33/Training loss: 0.35892023505546494/Validation loss: 0.36593638034157205/Time: 7.07 seconds\n",
      "Epoch 34/Training loss: 0.35851270899448906/Validation loss: 0.3656332515297251/Time: 6.89 seconds\n",
      "Epoch 35/Training loss: 0.3580781885020111/Validation loss: 0.3653041131320483/Time: 6.97 seconds\n",
      "Epoch 36/Training loss: 0.3577057524207513/Validation loss: 0.36503501531172483/Time: 6.9 seconds\n",
      "Epoch 37/Training loss: 0.35725818555720923/Validation loss: 0.3646836538073069/Time: 7.05 seconds\n",
      "Epoch 38/Training loss: 0.35688450621077433/Validation loss: 0.36441503933100927/Time: 7.08 seconds\n",
      "Epoch 39/Training loss: 0.3564817620323487/Validation loss: 0.3641078064581458/Time: 7.05 seconds\n",
      "Epoch 40/Training loss: 0.35616334806602723/Validation loss: 0.36388922270724816/Time: 6.95 seconds\n",
      "Epoch 41/Training loss: 0.3557830887608803/Validation loss: 0.36359253257405083/Time: 6.97 seconds\n",
      "Epoch 42/Training loss: 0.3554710312586713/Validation loss: 0.3633755956161317/Time: 7.0 seconds\n",
      "Epoch 43/Training loss: 0.3551433395621079/Validation loss: 0.3631227849823359/Time: 7.03 seconds\n",
      "Epoch 44/Training loss: 0.3548129449507459/Validation loss: 0.36288328313677626/Time: 7.02 seconds\n",
      "Epoch 45/Training loss: 0.35450384741724106/Validation loss: 0.3626535395466887/Time: 6.96 seconds\n",
      "Epoch 46/Training loss: 0.35423862969446596/Validation loss: 0.36247996660200177/Time: 6.91 seconds\n",
      "Epoch 47/Training loss: 0.3539191809826943/Validation loss: 0.3622388084254268/Time: 6.92 seconds\n",
      "Epoch 48/Training loss: 0.3536588427200013/Validation loss: 0.3620662148180059/Time: 6.84 seconds\n",
      "Epoch 49/Training loss: 0.3533425040186859/Validation loss: 0.36182076295215493/Time: 6.99 seconds\n"
     ]
    },
    {
     "data": {
      "image/png": "[encoded data removed]",
      "text/plain": [
       "<Figure size 640x480 with 1 Axes>"
      ]
     },
     "metadata": {},
     "output_type": "display_data"
    },
    {
     "name": "stdout",
     "output_type": "stream",
     "text": [
      "Validation rmse 0.36182076295215493\n"
     ]
    }
   ],
   "source": [
    "# for pruned, epoch: 80, lr:0.01, reg:0.02, k=100\n",
    "# for 2plus, epoch: 80, lr:0.01, reg:0.02, k=100\n",
    "\n",
    "random.seed(42)\n",
    "np.random.seed(42)\n",
    "\n",
    "# Fit and predict with svd\n",
    "svd_predictor = RatingSVD(\n",
    "    train_data.get_num_users(), train_data.get_num_items(), 2, k=100, \n",
    "    learning_rate=0.001, C=0.02)\n",
    "svd_predictor.fit(train_data.get_matrix(), 50, validation_set=val, early_stop=False)\n",
    "# svd_predictor = LogisticSVD(\n",
    "#     train_data.get_num_users(), train_data.get_num_items(), 2, k=100, \n",
    "#     learning_rate=0.01, C=0.04)\n",
    "# svd_predictor.fit(train_data.get_matrix(), 40, validation_set=val, early_stop=False)\n",
    "\n",
    "# Plot error\n",
    "errors = svd_predictor.get_train_errors()\n",
    "val_errors = svd_predictor.get_val_errors()\n",
    "plt.plot(range(len(errors)), errors, label='Training loss')\n",
    "plt.plot(range(len(val_errors)), val_errors, label='Test loss')\n",
    "plt.xlabel('Epoch')\n",
    "plt.ylabel('Error')\n",
    "plt.title('Error vs Epoch')\n",
    "plt.legend()\n",
    "plt.show()\n",
    "\n",
    "# Compute rmse\n",
    "predictions = svd_predictor.predict_pairs([(user, item) for user, item, _ in val])\n",
    "predictions = [prediction + (val[i][2],) for i, prediction in enumerate(predictions)]\n",
    "metrics = Metrics()\n",
    "rmse = metrics.rmse(predictions)\n",
    "print(\"Validation rmse\", rmse)"
   ]
  },
  {
   "cell_type": "markdown",
   "id": "e93bee4f-c214-4263-a466-4947ed23a770",
   "metadata": {},
   "source": [
    "We can now continue to train if we believe the model is still underfitting."
   ]
  },
  {
   "cell_type": "code",
   "execution_count": 60,
   "id": "943c101b-d3af-4b57-93b9-869686587c0b",
   "metadata": {
    "tags": []
   },
   "outputs": [
    {
     "name": "stdout",
     "output_type": "stream",
     "text": [
      "Epoch 0/Training loss: 0.32828594311114895/Validation loss: 0.3396715959337265/Time: 6.66 seconds\n",
      "Epoch 1/Training loss: 0.328244723120694/Validation loss: 0.33969223099285445/Time: 6.66 seconds\n",
      "Epoch 2/Training loss: 0.328211382592636/Validation loss: 0.3396554953091627/Time: 6.68 seconds\n",
      "Epoch 3/Training loss: 0.32817317781434/Validation loss: 0.33967215435384385/Time: 6.61 seconds\n",
      "Epoch 4/Training loss: 0.32813444207788917/Validation loss: 0.33967858608151985/Time: 6.6 seconds\n"
     ]
    }
   ],
   "source": [
    "svd_predictor.continue_fit(5, early_stop=False)"
   ]
  },
  {
   "cell_type": "code",
   "execution_count": 62,
   "id": "01ba5dcd-24cd-4b78-b882-62414ddc9266",
   "metadata": {},
   "outputs": [
    {
     "data": {
      "image/png": "[encoded data removed]",
      "text/plain": [
       "<Figure size 640x480 with 1 Axes>"
      ]
     },
     "metadata": {},
     "output_type": "display_data"
    },
    {
     "name": "stdout",
     "output_type": "stream",
     "text": [
      "Test rmse 0.33967858608151985\n"
     ]
    }
   ],
   "source": [
    "# Plot error\n",
    "errors = svd_predictor.get_train_errors()\n",
    "val_errors = svd_predictor.get_val_errors()\n",
    "plt.plot(range(len(errors)), errors, label='Training error')\n",
    "plt.plot(range(len(val_errors)), val_errors, label='Test error')\n",
    "plt.xlabel('Epoch')\n",
    "plt.ylabel('Error')\n",
    "plt.title('Error vs Epoch')\n",
    "plt.legend()\n",
    "plt.show()\n",
    "\n",
    "# Compute rmse\n",
    "predictions = svd_predictor.predict_pairs([(user, item) for user, item, _ in val])\n",
    "predictions = [prediction + (val[i][2],) for i, prediction in enumerate(predictions)]\n",
    "metrics = Metrics()\n",
    "rmse = metrics.rmse(predictions)\n",
    "print(\"Test rmse\", rmse)"
   ]
  },
  {
   "cell_type": "code",
   "execution_count": 9,
   "id": "c8ec1dce-b07d-4ec0-bbdb-545031391362",
   "metadata": {},
   "outputs": [
    {
     "data": {
      "image/png": "[encoded data removed]",
      "text/plain": [
       "<Figure size 640x480 with 1 Axes>"
      ]
     },
     "metadata": {},
     "output_type": "display_data"
    },
    {
     "data": {
      "image/png": "[encoded data removed]",
      "text/plain": [
       "<Figure size 640x480 with 1 Axes>"
      ]
     },
     "metadata": {},
     "output_type": "display_data"
    },
    {
     "data": {
      "image/png": "[encoded data removed]",
      "text/plain": [
       "<Figure size 640x480 with 1 Axes>"
      ]
     },
     "metadata": {},
     "output_type": "display_data"
    },
    {
     "data": {
      "image/png": "[encoded data removed]",
      "text/plain": [
       "<Figure size 640x480 with 1 Axes>"
      ]
     },
     "metadata": {},
     "output_type": "display_data"
    }
   ],
   "source": [
    "values, edges = np.histogram(svd_predictor._user_features)\n",
    "plt.stairs(values, edges)\n",
    "plt.show()\n",
    "\n",
    "values, edges = np.histogram(svd_predictor._item_features)\n",
    "plt.stairs(values, edges)\n",
    "plt.show()\n",
    "\n",
    "values, edges = np.histogram(svd_predictor._user_biases)\n",
    "plt.stairs(values, edges)\n",
    "plt.show()\n",
    "\n",
    "values, edges = np.histogram(svd_predictor._item_biases)\n",
    "plt.stairs(values, edges)\n",
    "plt.show()"
   ]
  },
  {
   "cell_type": "code",
   "execution_count": 87,
   "id": "293c4601-37de-4c7a-953d-5edb71ea3bdb",
   "metadata": {},
   "outputs": [
    {
     "data": {
      "text/plain": [
       "array([0.18477355])"
      ]
     },
     "execution_count": 87,
     "metadata": {},
     "output_type": "execute_result"
    }
   ],
   "source": [
    "svd_predictor._item_biases[1539]"
   ]
  },
  {
   "cell_type": "code",
   "execution_count": 86,
   "id": "ac8709f0-870e-414d-a58c-2bf1f7ca679a",
   "metadata": {},
   "outputs": [
    {
     "data": {
      "text/plain": [
       "array([ 0.00217506, -0.00255472, -0.00441005,  0.00408613,  0.00697858,\n",
       "        0.00642635, -0.00563664, -0.0019556 ,  0.00215926,  0.00655896])"
      ]
     },
     "execution_count": 86,
     "metadata": {},
     "output_type": "execute_result"
    }
   ],
   "source": [
    "svd_predictor._user_features[5]"
   ]
  },
  {
   "cell_type": "markdown",
   "id": "eab76d16-333f-47d2-9fe9-7c6ee891533f",
   "metadata": {},
   "source": [
    "We compute similarities for item-knn."
   ]
  },
  {
   "cell_type": "code",
   "execution_count": 71,
   "id": "357a8cf6-fd71-4ea3-b90a-f6dd3ff944a8",
   "metadata": {},
   "outputs": [
    {
     "name": "stdout",
     "output_type": "stream",
     "text": [
      "Computing similarities...\n",
      "Upto row 1 / 2215\n",
      "Upto row 201 / 2215\n",
      "Upto row 401 / 2215\n",
      "Upto row 601 / 2215\n",
      "Upto row 801 / 2215\n",
      "Upto row 1001 / 2215\n",
      "Upto row 1201 / 2215\n",
      "Upto row 1401 / 2215\n",
      "Upto row 1601 / 2215\n",
      "Upto row 1801 / 2215\n",
      "Upto row 2001 / 2215\n",
      "Upto row 2201 / 2215\n",
      "Done computing similarities in 433.3377513885498 seconds\n"
     ]
    }
   ],
   "source": [
    "svd_predictor.compute_sims()"
   ]
  },
  {
   "cell_type": "markdown",
   "id": "f7734567-9d7a-48be-96a6-90b0d0ab5ed2",
   "metadata": {},
   "source": [
    "## Preparing for Production"
   ]
  },
  {
   "cell_type": "code",
   "execution_count": 81,
   "id": "d04afbad-e0a1-4581-9b07-fede8f20af03",
   "metadata": {},
   "outputs": [],
   "source": [
    "svd_predictor.prep_for_item_knn()\n",
    "train_data.prep_for_item_knn()"
   ]
  },
  {
   "cell_type": "markdown",
   "id": "82e3cd3f-7857-4dfa-ab53-998eb6383fe4",
   "metadata": {},
   "source": [
    "## Saving the model"
   ]
  },
  {
   "cell_type": "code",
   "execution_count": 82,
   "id": "b664f8ce-2bcf-4bc2-8e25-51fee4d447fc",
   "metadata": {},
   "outputs": [
    {
     "name": "stdout",
     "output_type": "stream",
     "text": [
      "Saving model...\n",
      "Done saving model.\n"
     ]
    }
   ],
   "source": [
    "# Ensure file exists\n",
    "model_dir = model_dir = \"saved_models/{}-{}-{}-{}-{}-{}_{}\".format(\n",
    "    *(time.localtime()[:6] + (round(rmse, 4), ))).replace(\".\", \"-\") + \".pkl\" \n",
    "file = open(model_dir, 'a')\n",
    "file.close()\n",
    "\n",
    "# Save model\n",
    "print(\"Saving model...\")\n",
    "with open(model_dir, 'wb') as file:\n",
    "    pickle.dump([train_data, svd_predictor], file)\n",
    "print(\"Done saving model.\")"
   ]
  },
  {
   "cell_type": "markdown",
   "id": "c87713d2-dde8-4914-bbfa-4ecc35026e7d",
   "metadata": {},
   "source": [
    "## Tests"
   ]
  },
  {
   "cell_type": "code",
   "execution_count": 2,
   "id": "4a7b2b6c-8ffd-4ec7-8f4e-34e2b0b4b75d",
   "metadata": {},
   "outputs": [],
   "source": [
    "with open('saved_models/2023-7-8-12-15-13_0-37.pkl', 'rb') as file:\n",
    "    train_data, svd_predictor = pickle.load(file)"
   ]
  },
  {
   "cell_type": "markdown",
   "id": "0e48ab10-867a-46a3-9747-6ed959f69227",
   "metadata": {},
   "source": [
    "### Testing Rerank"
   ]
  },
  {
   "cell_type": "code",
   "execution_count": 10,
   "id": "2b4a3c0b-13ab-4d1c-86c8-31201d89f254",
   "metadata": {},
   "outputs": [],
   "source": [
    "# data.search_title('forza')"
   ]
  },
  {
   "cell_type": "code",
   "execution_count": 11,
   "id": "95e7e697-071d-4912-aa5a-11e180fe76dd",
   "metadata": {},
   "outputs": [],
   "source": [
    "# filtered = svd_predictor.items_top_n([(286, 1)])\n",
    "# app_ids = []\n",
    "# for item_index in filtered:\n",
    "#     app_ids.append(data.index_to_item_id(item_index))\n",
    "# df = pd.DataFrame({'app_id': app_ids})\n",
    "# predictions = ranker.predict(df)\n",
    "# df['relevance'] = predictions\n",
    "# df.head()\n",
    "# df = df.sort_values(by='relevance', ascending=False)\n",
    "# df.head()"
   ]
  },
  {
   "cell_type": "code",
   "execution_count": 12,
   "id": "d950c6e3-540c-466a-b484-6014326a2ad9",
   "metadata": {},
   "outputs": [],
   "source": [
    "# pprint([[data.index_to_title(data.item_id_to_index(i)) for _, i, _ in df.itertuples()]][0][:20])"
   ]
  },
  {
   "cell_type": "markdown",
   "id": "016d8055-1b91-413a-a7d4-bd887a37dfd1",
   "metadata": {},
   "source": [
    "### Testing Performance"
   ]
  },
  {
   "cell_type": "markdown",
   "id": "88dfe817-1562-40fd-937e-9af562edb283",
   "metadata": {},
   "source": [
    "Checking recall."
   ]
  },
  {
   "cell_type": "code",
   "execution_count": null,
   "id": "ee197e75-6462-463c-84fa-2293e9e865f3",
   "metadata": {},
   "outputs": [],
   "source": [
    "start_time = time.time()\n",
    "print(\"Computing recall...\")\n",
    "svd_predictor.compute_recall(val)\n",
    "print(\"Done computing recall in\", time.time() - start_time, \"seconds\")"
   ]
  },
  {
   "cell_type": "markdown",
   "id": "05865fa9-d901-49f5-87e0-537095f21d06",
   "metadata": {},
   "source": [
    "Checking item-based knn."
   ]
  },
  {
   "cell_type": "code",
   "execution_count": 15,
   "id": "e7d2169e-1031-4913-8aad-125cb1ebbe00",
   "metadata": {},
   "outputs": [
    {
     "data": {
      "text/plain": [
       "[('The Golf Club™ 2019 featuring PGA TOUR', 1833), ('Turing Complete', 1539)]"
      ]
     },
     "execution_count": 15,
     "metadata": {},
     "output_type": "execute_result"
    }
   ],
   "source": [
    "train_data.search_title('turing')"
   ]
  },
  {
   "cell_type": "code",
   "execution_count": null,
   "id": "a225937b-fc43-418b-bd28-efa4cf56b1b4",
   "metadata": {},
   "outputs": [],
   "source": [
    "top = svd_predictor.items_knn([(0, 1)], n=10)\n",
    "pprint([(sim, train_data.index_to_title(index)) for sim, index in top])"
   ]
  },
  {
   "cell_type": "markdown",
   "id": "bb3e6fc7-58bb-4b49-b242-83d19b8af856",
   "metadata": {},
   "source": [
    "Checking collaborative filtering."
   ]
  },
  {
   "cell_type": "code",
   "execution_count": 12,
   "id": "94608c30-3d42-4734-86a0-556d074549c7",
   "metadata": {},
   "outputs": [
    {
     "data": {
      "text/plain": [
       "0.8093770895145387"
      ]
     },
     "execution_count": 12,
     "metadata": {},
     "output_type": "execute_result"
    }
   ],
   "source": [
    "svd_predictor._mu"
   ]
  },
  {
   "cell_type": "code",
   "execution_count": 44,
   "id": "6ab5770d-962b-47b1-9b82-74feac83f214",
   "metadata": {},
   "outputs": [
    {
     "name": "stdout",
     "output_type": "stream",
     "text": [
      "Predicted top n:\n",
      "[(0.904884517964774, 2093), (0.903662693635346, 2195), (0.9030143759992687, 1539), (0.9026541253581425, 2194), (0.9021748295758186, 2162), (0.9019686175356602, 2196), (0.9017895097561923, 1697), (0.9017518795501569, 891), (0.9015567267342672, 1092), (0.9013840877905619, 2213)]\n",
      "2093\n",
      "[(0.904884517964774, 'The Legend of Dark Witch 2 （魔神少女エピソード２）'),\n",
      " (0.903662693635346, 'Close Combat: Last Stand Arnhem'),\n",
      " (0.9030143759992687, 'Turing Complete'),\n",
      " (0.9026541253581425, 'VideoPad Video Editor'),\n",
      " (0.9021748295758186,\n",
      "  '[TDA03] Muv-Luv Unlimited: THE DAY AFTER - Episode 03 REMASTERED'),\n",
      " (0.9019686175356602, 'Kanji Training Game'),\n",
      " (0.9017895097561923, 'Fate Seeker II'),\n",
      " (0.9017518795501569, 'MicroWorks'),\n",
      " (0.9015567267342672, 'Deadeye Deepfake Simulacrum'),\n",
      " (0.9013840877905619, 'Chocolatier®: Decadence by Design™')]\n",
      "True top n:\n",
      "['Red Dead Redemption 2',\n",
      " 'GTFO',\n",
      " 'Wallpaper Engine',\n",
      " 'Dying Light 2 Stay Human',\n",
      " 'Call of Duty®: Modern Warfare® II',\n",
      " 'Unravel',\n",
      " 'Sniper Ghost Warrior Contracts 2',\n",
      " 'Sid Meier’s Civilization® VI',\n",
      " \"Tom Clancy's Ghost Recon® Wildlands\",\n",
      " 'Metro Exodus',\n",
      " 'GROUND BRANCH',\n",
      " 'S.T.A.L.K.E.R.: Shadow of Chernobyl',\n",
      " 'PAYDAY 2',\n",
      " \"Five Nights at Freddy's: Security Breach\",\n",
      " 'FINAL FANTASY']\n"
     ]
    }
   ],
   "source": [
    "j = 400\n",
    "\n",
    "# Test top-n list for user j\n",
    "top_n = svd_predictor.top_n(j, 1000, remove_bias=False)\n",
    "print(\"Predicted top n:\")\n",
    "print(top_n[:10])\n",
    "pprint([index for r, index in top_n][0])\n",
    "pprint([(r, train_data.index_to_title(index)) for r, index in top_n][:10])\n",
    "\n",
    "# User j true top n list\n",
    "print(\"True top n:\")\n",
    "true_top = train_data.top_n(j, 5000)\n",
    "pprint([train_data.index_to_title(index) for _, index in true_top])"
   ]
  },
  {
   "cell_type": "markdown",
   "id": "88625dc2-2bda-4eff-872a-63523bcba4d0",
   "metadata": {},
   "source": [
    "## Item KNN"
   ]
  },
  {
   "cell_type": "code",
   "execution_count": 6,
   "id": "a2ebf0ff-fb25-4e8a-9441-d75c2aefa1f1",
   "metadata": {},
   "outputs": [],
   "source": [
    "from KNN import ItemKNN"
   ]
  },
  {
   "cell_type": "code",
   "execution_count": null,
   "id": "2fd61a1a-8b16-4060-91fd-9bcbbf9dcbee",
   "metadata": {},
   "outputs": [
    {
     "name": "stdout",
     "output_type": "stream",
     "text": [
      "Upto row 0\n"
     ]
    },
    {
     "name": "stderr",
     "output_type": "stream",
     "text": [
      "C:\\Users\\mitch\\Files\\GitHub\\game-rec\\KNN.py:15: RuntimeWarning: invalid value encountered in scalar divide\n",
      "  sim = item_1.multiply(item_2).sum()/( np.sqrt(item_1.power(2).sum())*np.sqrt(item_2.power(2).sum()) )\n"
     ]
    }
   ],
   "source": [
    "knn = ItemKNN(k=5)\n",
    "knn.fit(train_data.get_matrix())\n",
    "knn.top_n(0, 10)"
   ]
  },
  {
   "cell_type": "code",
   "execution_count": null,
   "id": "6e482b1c-e5ac-4f10-b1d1-7c1508c82829",
   "metadata": {},
   "outputs": [],
   "source": []
  }
 ],
 "metadata": {
  "kernelspec": {
   "display_name": "Python 3 (ipykernel)",
   "language": "python",
   "name": "python3"
  },
  "language_info": {
   "codemirror_mode": {
    "name": "ipython",
    "version": 3
   },
   "file_extension": ".py",
   "mimetype": "text/x-python",
   "name": "python",
   "nbconvert_exporter": "python",
   "pygments_lexer": "ipython3",
   "version": "3.11.4"
  }
 },
 "nbformat": 4,
 "nbformat_minor": 5
}
