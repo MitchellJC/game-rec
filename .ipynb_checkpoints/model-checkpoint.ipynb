{
 "cells": [
  {
   "cell_type": "markdown",
   "id": "e583c5e1-2e3b-4558-b34e-7f5b2b467724",
   "metadata": {},
   "source": [
    "# Model"
   ]
  },
  {
   "cell_type": "code",
   "execution_count": 33,
   "id": "97439d14-bd86-4505-8968-fe7d286f2f03",
   "metadata": {},
   "outputs": [
    {
     "name": "stdin",
     "output_type": "stream",
     "text": [
      "Once deleted, variables cannot be recovered. Proceed (y/[n])?  y\n"
     ]
    }
   ],
   "source": [
    "%reset"
   ]
  },
  {
   "cell_type": "code",
   "execution_count": 84,
   "id": "ed3e0a64-0c57-41f9-8141-2624c74aaf0e",
   "metadata": {},
   "outputs": [],
   "source": [
    "import numpy as np\n",
    "from scipy.sparse import csr_matrix\n",
    "from scipy.sparse import lil_matrix\n",
    "import matplotlib.pyplot as plt\n",
    "import pandas as pd\n",
    "import math\n",
    "import pickle\n",
    "import time\n",
    "import datetime\n",
    "import random"
   ]
  },
  {
   "cell_type": "code",
   "execution_count": 85,
   "id": "a32949cc-05ec-434c-942b-4bc370f9faf2",
   "metadata": {},
   "outputs": [],
   "source": [
    "random.seed(42)"
   ]
  },
  {
   "cell_type": "markdown",
   "id": "dd546f85-23a8-41c1-a0f4-5b3718d42dde",
   "metadata": {},
   "source": [
    "## Data Preprocessing"
   ]
  },
  {
   "cell_type": "code",
   "execution_count": 2,
   "id": "34f58a11-b2f4-4520-b664-0a2bc14ec749",
   "metadata": {},
   "outputs": [],
   "source": [
    "recs = pd.read_csv('data/pruned.csv')"
   ]
  },
  {
   "cell_type": "code",
   "execution_count": 3,
   "id": "b690ac29-ad5d-4465-9384-875d91432446",
   "metadata": {},
   "outputs": [
    {
     "data": {
      "text/html": [
       "<div>\n",
       "<style scoped>\n",
       "    .dataframe tbody tr th:only-of-type {\n",
       "        vertical-align: middle;\n",
       "    }\n",
       "\n",
       "    .dataframe tbody tr th {\n",
       "        vertical-align: top;\n",
       "    }\n",
       "\n",
       "    .dataframe thead th {\n",
       "        text-align: right;\n",
       "    }\n",
       "</style>\n",
       "<table border=\"1\" class=\"dataframe\">\n",
       "  <thead>\n",
       "    <tr style=\"text-align: right;\">\n",
       "      <th></th>\n",
       "      <th>app_id</th>\n",
       "      <th>helpful</th>\n",
       "      <th>funny</th>\n",
       "      <th>date</th>\n",
       "      <th>is_recommended</th>\n",
       "      <th>hours</th>\n",
       "      <th>user_id</th>\n",
       "      <th>review_id</th>\n",
       "    </tr>\n",
       "  </thead>\n",
       "  <tbody>\n",
       "    <tr>\n",
       "      <th>0</th>\n",
       "      <td>534380</td>\n",
       "      <td>0</td>\n",
       "      <td>0</td>\n",
       "      <td>2022-10-08</td>\n",
       "      <td>True</td>\n",
       "      <td>40.6</td>\n",
       "      <td>10531</td>\n",
       "      <td>22</td>\n",
       "    </tr>\n",
       "    <tr>\n",
       "      <th>1</th>\n",
       "      <td>42700</td>\n",
       "      <td>6</td>\n",
       "      <td>2</td>\n",
       "      <td>2019-10-19</td>\n",
       "      <td>False</td>\n",
       "      <td>5.9</td>\n",
       "      <td>185293</td>\n",
       "      <td>27</td>\n",
       "    </tr>\n",
       "    <tr>\n",
       "      <th>2</th>\n",
       "      <td>602960</td>\n",
       "      <td>0</td>\n",
       "      <td>0</td>\n",
       "      <td>2022-01-05</td>\n",
       "      <td>True</td>\n",
       "      <td>41.9</td>\n",
       "      <td>319249</td>\n",
       "      <td>58</td>\n",
       "    </tr>\n",
       "    <tr>\n",
       "      <th>3</th>\n",
       "      <td>976730</td>\n",
       "      <td>0</td>\n",
       "      <td>0</td>\n",
       "      <td>2021-11-25</td>\n",
       "      <td>False</td>\n",
       "      <td>21.1</td>\n",
       "      <td>747545</td>\n",
       "      <td>67</td>\n",
       "    </tr>\n",
       "    <tr>\n",
       "      <th>4</th>\n",
       "      <td>1091500</td>\n",
       "      <td>2</td>\n",
       "      <td>0</td>\n",
       "      <td>2022-10-30</td>\n",
       "      <td>True</td>\n",
       "      <td>18.1</td>\n",
       "      <td>2113544</td>\n",
       "      <td>127</td>\n",
       "    </tr>\n",
       "  </tbody>\n",
       "</table>\n",
       "</div>"
      ],
      "text/plain": [
       "    app_id  helpful  funny        date  is_recommended  hours  user_id  \\\n",
       "0   534380        0      0  2022-10-08            True   40.6    10531   \n",
       "1    42700        6      2  2019-10-19           False    5.9   185293   \n",
       "2   602960        0      0  2022-01-05            True   41.9   319249   \n",
       "3   976730        0      0  2021-11-25           False   21.1   747545   \n",
       "4  1091500        2      0  2022-10-30            True   18.1  2113544   \n",
       "\n",
       "   review_id  \n",
       "0         22  \n",
       "1         27  \n",
       "2         58  \n",
       "3         67  \n",
       "4        127  "
      ]
     },
     "execution_count": 3,
     "metadata": {},
     "output_type": "execute_result"
    }
   ],
   "source": [
    "recs.head()"
   ]
  },
  {
   "cell_type": "code",
   "execution_count": 4,
   "id": "5f8d14a4-3d9f-4fed-aa85-924fe34449f0",
   "metadata": {},
   "outputs": [
    {
     "data": {
      "text/html": [
       "<div>\n",
       "<style scoped>\n",
       "    .dataframe tbody tr th:only-of-type {\n",
       "        vertical-align: middle;\n",
       "    }\n",
       "\n",
       "    .dataframe tbody tr th {\n",
       "        vertical-align: top;\n",
       "    }\n",
       "\n",
       "    .dataframe thead th {\n",
       "        text-align: right;\n",
       "    }\n",
       "</style>\n",
       "<table border=\"1\" class=\"dataframe\">\n",
       "  <thead>\n",
       "    <tr style=\"text-align: right;\">\n",
       "      <th></th>\n",
       "      <th>app_id</th>\n",
       "      <th>is_recommended</th>\n",
       "      <th>user_id</th>\n",
       "    </tr>\n",
       "  </thead>\n",
       "  <tbody>\n",
       "    <tr>\n",
       "      <th>0</th>\n",
       "      <td>534380</td>\n",
       "      <td>True</td>\n",
       "      <td>10531</td>\n",
       "    </tr>\n",
       "    <tr>\n",
       "      <th>1</th>\n",
       "      <td>42700</td>\n",
       "      <td>False</td>\n",
       "      <td>185293</td>\n",
       "    </tr>\n",
       "    <tr>\n",
       "      <th>2</th>\n",
       "      <td>602960</td>\n",
       "      <td>True</td>\n",
       "      <td>319249</td>\n",
       "    </tr>\n",
       "    <tr>\n",
       "      <th>3</th>\n",
       "      <td>976730</td>\n",
       "      <td>False</td>\n",
       "      <td>747545</td>\n",
       "    </tr>\n",
       "    <tr>\n",
       "      <th>4</th>\n",
       "      <td>1091500</td>\n",
       "      <td>True</td>\n",
       "      <td>2113544</td>\n",
       "    </tr>\n",
       "  </tbody>\n",
       "</table>\n",
       "</div>"
      ],
      "text/plain": [
       "    app_id  is_recommended  user_id\n",
       "0   534380            True    10531\n",
       "1    42700           False   185293\n",
       "2   602960            True   319249\n",
       "3   976730           False   747545\n",
       "4  1091500            True  2113544"
      ]
     },
     "execution_count": 4,
     "metadata": {},
     "output_type": "execute_result"
    }
   ],
   "source": [
    "USED_COLS = ['app_id', 'is_recommended', 'user_id']\n",
    "\n",
    "recs = recs[USED_COLS]\n",
    "recs.head()"
   ]
  },
  {
   "cell_type": "code",
   "execution_count": 5,
   "id": "3f171f80-7c03-4116-8eee-964b788576d4",
   "metadata": {},
   "outputs": [
    {
     "data": {
      "text/html": [
       "<div>\n",
       "<style scoped>\n",
       "    .dataframe tbody tr th:only-of-type {\n",
       "        vertical-align: middle;\n",
       "    }\n",
       "\n",
       "    .dataframe tbody tr th {\n",
       "        vertical-align: top;\n",
       "    }\n",
       "\n",
       "    .dataframe thead th {\n",
       "        text-align: right;\n",
       "    }\n",
       "</style>\n",
       "<table border=\"1\" class=\"dataframe\">\n",
       "  <thead>\n",
       "    <tr style=\"text-align: right;\">\n",
       "      <th></th>\n",
       "      <th>app_id</th>\n",
       "      <th>title</th>\n",
       "      <th>date_release</th>\n",
       "      <th>win</th>\n",
       "      <th>mac</th>\n",
       "      <th>linux</th>\n",
       "      <th>rating</th>\n",
       "      <th>positive_ratio</th>\n",
       "      <th>user_reviews</th>\n",
       "      <th>price_final</th>\n",
       "      <th>price_original</th>\n",
       "      <th>discount</th>\n",
       "      <th>steam_deck</th>\n",
       "    </tr>\n",
       "  </thead>\n",
       "  <tbody>\n",
       "    <tr>\n",
       "      <th>0</th>\n",
       "      <td>10090</td>\n",
       "      <td>Call of Duty: World at War</td>\n",
       "      <td>2008-11-18</td>\n",
       "      <td>True</td>\n",
       "      <td>False</td>\n",
       "      <td>False</td>\n",
       "      <td>Very Positive</td>\n",
       "      <td>92</td>\n",
       "      <td>37039</td>\n",
       "      <td>19.99</td>\n",
       "      <td>19.99</td>\n",
       "      <td>0.0</td>\n",
       "      <td>True</td>\n",
       "    </tr>\n",
       "    <tr>\n",
       "      <th>1</th>\n",
       "      <td>13500</td>\n",
       "      <td>Prince of Persia: Warrior Within™</td>\n",
       "      <td>2008-11-21</td>\n",
       "      <td>True</td>\n",
       "      <td>False</td>\n",
       "      <td>False</td>\n",
       "      <td>Very Positive</td>\n",
       "      <td>84</td>\n",
       "      <td>2199</td>\n",
       "      <td>9.99</td>\n",
       "      <td>9.99</td>\n",
       "      <td>0.0</td>\n",
       "      <td>True</td>\n",
       "    </tr>\n",
       "    <tr>\n",
       "      <th>2</th>\n",
       "      <td>22364</td>\n",
       "      <td>BRINK: Agents of Change</td>\n",
       "      <td>2011-08-03</td>\n",
       "      <td>True</td>\n",
       "      <td>False</td>\n",
       "      <td>False</td>\n",
       "      <td>Positive</td>\n",
       "      <td>85</td>\n",
       "      <td>21</td>\n",
       "      <td>2.99</td>\n",
       "      <td>2.99</td>\n",
       "      <td>0.0</td>\n",
       "      <td>True</td>\n",
       "    </tr>\n",
       "    <tr>\n",
       "      <th>3</th>\n",
       "      <td>113020</td>\n",
       "      <td>Monaco: What's Yours Is Mine</td>\n",
       "      <td>2013-04-24</td>\n",
       "      <td>True</td>\n",
       "      <td>True</td>\n",
       "      <td>True</td>\n",
       "      <td>Very Positive</td>\n",
       "      <td>92</td>\n",
       "      <td>3722</td>\n",
       "      <td>14.99</td>\n",
       "      <td>14.99</td>\n",
       "      <td>0.0</td>\n",
       "      <td>True</td>\n",
       "    </tr>\n",
       "    <tr>\n",
       "      <th>4</th>\n",
       "      <td>226560</td>\n",
       "      <td>Escape Dead Island</td>\n",
       "      <td>2014-11-18</td>\n",
       "      <td>True</td>\n",
       "      <td>False</td>\n",
       "      <td>False</td>\n",
       "      <td>Mixed</td>\n",
       "      <td>61</td>\n",
       "      <td>873</td>\n",
       "      <td>14.99</td>\n",
       "      <td>14.99</td>\n",
       "      <td>0.0</td>\n",
       "      <td>True</td>\n",
       "    </tr>\n",
       "  </tbody>\n",
       "</table>\n",
       "</div>"
      ],
      "text/plain": [
       "   app_id                              title date_release   win    mac  linux  \\\n",
       "0   10090         Call of Duty: World at War   2008-11-18  True  False  False   \n",
       "1   13500  Prince of Persia: Warrior Within™   2008-11-21  True  False  False   \n",
       "2   22364            BRINK: Agents of Change   2011-08-03  True  False  False   \n",
       "3  113020       Monaco: What's Yours Is Mine   2013-04-24  True   True   True   \n",
       "4  226560                 Escape Dead Island   2014-11-18  True  False  False   \n",
       "\n",
       "          rating  positive_ratio  user_reviews  price_final  price_original  \\\n",
       "0  Very Positive              92         37039        19.99           19.99   \n",
       "1  Very Positive              84          2199         9.99            9.99   \n",
       "2       Positive              85            21         2.99            2.99   \n",
       "3  Very Positive              92          3722        14.99           14.99   \n",
       "4          Mixed              61           873        14.99           14.99   \n",
       "\n",
       "   discount  steam_deck  \n",
       "0       0.0        True  \n",
       "1       0.0        True  \n",
       "2       0.0        True  \n",
       "3       0.0        True  \n",
       "4       0.0        True  "
      ]
     },
     "execution_count": 5,
     "metadata": {},
     "output_type": "execute_result"
    }
   ],
   "source": [
    "item_data = pd.read_csv('data/games.csv')\n",
    "item_data.head()"
   ]
  },
  {
   "cell_type": "code",
   "execution_count": 6,
   "id": "67a849a5-d101-4f01-b4bd-aaa79a228cfb",
   "metadata": {},
   "outputs": [],
   "source": [
    "titles = item_data[['app_id', 'title']]"
   ]
  },
  {
   "cell_type": "markdown",
   "id": "400e18cd-593a-4448-b49d-dddaebf35f4f",
   "metadata": {},
   "source": [
    "## Data Class"
   ]
  },
  {
   "cell_type": "code",
   "execution_count": 7,
   "id": "9395652a-3772-4ddb-a11e-6856cf2ced9a",
   "metadata": {},
   "outputs": [],
   "source": [
    "from RecData import RecData"
   ]
  },
  {
   "cell_type": "code",
   "execution_count": 8,
   "id": "ed0cacde-6c23-476d-ab34-2b1d9af564ce",
   "metadata": {},
   "outputs": [],
   "source": [
    "class Metrics:\n",
    "    def rmse(self, predictions):\n",
    "        return math.sqrt(sum((prediction - true_rating)**2 for _, _, prediction, true_rating in predictions)/len(predictions))"
   ]
  },
  {
   "cell_type": "code",
   "execution_count": 9,
   "id": "6d9e4fc3-22f1-43cc-b190-0ff57ff1d53b",
   "metadata": {},
   "outputs": [],
   "source": [
    "rec_data = RecData()\n",
    "rec_data.create_from_dataframe(recs)\n",
    "rec_data.set_titles(titles)"
   ]
  },
  {
   "cell_type": "code",
   "execution_count": 10,
   "id": "ce114c94-de54-4f3f-81f4-4d03a001050e",
   "metadata": {},
   "outputs": [],
   "source": [
    "train_data, test = rec_data.leave_k_out_split()"
   ]
  },
  {
   "cell_type": "markdown",
   "id": "a2bd22fc-0d88-4b72-a081-b07d4093c234",
   "metadata": {},
   "source": [
    "## Simple Model"
   ]
  },
  {
   "cell_type": "code",
   "execution_count": 11,
   "id": "97b19e96-db33-471f-8368-78842723265b",
   "metadata": {},
   "outputs": [],
   "source": [
    "def item_averages(M):\n",
    "    # Division by 0 -> no data for item -> predict average of all items\n",
    "    with np.errstate(invalid='ignore'):\n",
    "        # Take item averages\n",
    "        averages = (np.sum(M.toarray(), axis=0)/np.count_nonzero(M.toarray(), axis=0))\n",
    "\n",
    "        # Fill na with averages over all items\n",
    "        averages = np.nan_to_num(averages, nan=np.nanmean(averages))\n",
    "    return averages"
   ]
  },
  {
   "cell_type": "code",
   "execution_count": 12,
   "id": "52fb74f5-c587-4f7c-8f47-923ae154cb12",
   "metadata": {},
   "outputs": [],
   "source": [
    "class AveragePredictor:\n",
    "    \"\"\"Simple model which always predicts the average value of an item.\"\"\"\n",
    "    def fit(self, M):\n",
    "        self._averages = item_averages(M)\n",
    "        \n",
    "    def predict(self, pairs):\n",
    "        \"\"\"Parameters:\n",
    "        pairs - user-item pairs to predict\"\"\"\n",
    "        predictions = []\n",
    "        for user, item in pairs:\n",
    "            predictions.append((user, item, self._averages[item]))\n",
    "\n",
    "        return predictions"
   ]
  },
  {
   "cell_type": "code",
   "execution_count": 13,
   "id": "2fb10fdc-6a82-4973-9881-cee456e5fa73",
   "metadata": {},
   "outputs": [],
   "source": [
    "predictor = AveragePredictor()\n",
    "predictor.fit(train_data.get_matrix())"
   ]
  },
  {
   "cell_type": "code",
   "execution_count": 14,
   "id": "5e4f3c4f-05d4-44b2-83d2-ca797eaa01f4",
   "metadata": {},
   "outputs": [
    {
     "data": {
      "text/plain": [
       "0.36908501031169777"
      ]
     },
     "execution_count": 14,
     "metadata": {},
     "output_type": "execute_result"
    }
   ],
   "source": [
    "predictions = predictor.predict([(user, item) for user, item, _ in test])\n",
    "predictions = [prediction + (test[i][2],) for i, prediction in enumerate(predictions)]\n",
    "metrics = Metrics()\n",
    "metrics.rmse(predictions)"
   ]
  },
  {
   "cell_type": "markdown",
   "id": "1a97d60d-a9b9-4e98-b5c9-bddcb631d7de",
   "metadata": {},
   "source": [
    "## SVD"
   ]
  },
  {
   "cell_type": "code",
   "execution_count": 116,
   "id": "b30c730b-3673-4dc4-8853-e7dfe01caf42",
   "metadata": {},
   "outputs": [
    {
     "ename": "SyntaxError",
     "evalue": "invalid syntax (325847643.py, line 138)",
     "output_type": "error",
     "traceback": [
      "\u001b[1;36m  Cell \u001b[1;32mIn[116], line 138\u001b[1;36m\u001b[0m\n\u001b[1;33m    prediction = prediction*2\u001b[0m\n\u001b[1;37m    ^\u001b[0m\n\u001b[1;31mSyntaxError\u001b[0m\u001b[1;31m:\u001b[0m invalid syntax\n"
     ]
    }
   ],
   "source": [
    "from scipy.sparse.linalg import norm as sparse_norm\n",
    "from scipy.sparse import vstack, lil_array\n",
    "from collections import defaultdict\n",
    "from sklearn.preprocessing import MaxAbsScaler\n",
    "import time\n",
    "import random\n",
    "\n",
    "class SVDPredictor:\n",
    "    \"\"\"SVD for collaborative filtering\"\"\"\n",
    "    def __init__(self, num_users, num_items, k=100, learning_rate=0.01, epochs=5, C=0.02, partial_batch_size=int(1e5), inv_transform=None):\n",
    "        self._num_users = num_users\n",
    "        self._num_items = num_items\n",
    "        self._scaler = MaxAbsScaler()\n",
    "        self._inv_transform = inv_transform if inv_transform != None else self._default_inv_transform\n",
    "        \n",
    "        self._k = k\n",
    "        self._learning_rate = learning_rate\n",
    "        self._epochs = epochs\n",
    "        self._C = C\n",
    "        self._partial_batch_size = partial_batch_size\n",
    "        \n",
    "        self._user_features = np.random.normal(size=(self._num_users, self._k), scale=0.01)\n",
    "        self._item_features = np.random.normal(size=(self._num_items, self._k), scale=0.01)\n",
    "        \n",
    "        self._M = None\n",
    "        self._num_samples = None\n",
    "        self._train_errors = None\n",
    "        self._val_errors = None\n",
    "    \n",
    "    def fit(self, M, validation_set=None):\n",
    "        self._M = M / 2\n",
    "        self._train_errors = []\n",
    "        if validation_set:\n",
    "            self._val_errors = []\n",
    "        \n",
    "        users, items = M.nonzero()\n",
    "        self._num_samples = len(users)\n",
    "        self._mask = (M != 0)\n",
    "        \n",
    "        for epoch in range(self._epochs):\n",
    "            start_time = time.time()\n",
    "            \n",
    "            for i in random.sample(range(self._num_samples), k=self._num_samples):\n",
    "                self._update_features(i, users, items)                \n",
    "            \n",
    "            print(\"Epoch\", epoch, end=\"/\")\n",
    "\n",
    "            self._show_error()\n",
    "            \n",
    "            if validation_set:\n",
    "                predictions = self.predict([(user, item) for user, item, _ in validation_set])\n",
    "                predictions = [prediction + (validation_set[i][2],) for i, prediction in enumerate(predictions)]\n",
    "                metrics = Metrics()\n",
    "                val_error = metrics.rmse(predictions)\n",
    "                self._val_errors.append(val_error)\n",
    "                print(\"Validation error:\", val_error, end=\"/\")\n",
    "                \n",
    "            print(\"Time:\", round(time.time() - start_time, 2), \"seconds\")\n",
    "            \n",
    "    def partial_fit(self, new_sample):\n",
    "        \"\"\"\"Faciliates online training. Add new user vector new_sample into the model and fit with warm start.\"\"\"\n",
    "        new_sample = new_sample / 2\n",
    "        \n",
    "        users, items = self._M.nonzero()\n",
    "        self._M = vstack([self._M, new_sample])\n",
    "        total_users, total_items = self._M.nonzero()\n",
    "        \n",
    "        self._mask = (self._M != 0)\n",
    "        \n",
    "        num_samples = len(users)\n",
    "        new_sample_index = self._num_users\n",
    "        self._num_users += 1\n",
    "        \n",
    "        self._user_features = np.concatenate([self._user_features, np.random.normal(size=(1, self._k), scale=0.01)], axis=0)\n",
    "                                                                               \n",
    "        indices_of_new = [new_i for new_i in range(len(users), len(total_users))]\n",
    "                                              \n",
    "        for epoch in range(self._epochs):\n",
    "            start_time = time.time()\n",
    "            # Choose a smaller subset of total samples already fitted\n",
    "            fitted_subset = random.sample(range(num_samples), k=self._partial_batch_size)    \n",
    "            \n",
    "            # Ensure that new indices are always used\n",
    "            possible_indices = fitted_subset + indices_of_new\n",
    "            \n",
    "            # Perform update for each sample\n",
    "            for i in random.sample(possible_indices , k=len(possible_indices)):\n",
    "                self._update_features(i, total_users, total_items, do_items=False)\n",
    "            \n",
    "            \n",
    "            print(\"Epoch\", epoch, end=\"/\")\n",
    "            self._show_error()\n",
    "            print(\"Time:\", round(time.time() - start_time, 2), \"seconds\")\n",
    "            \n",
    "        \n",
    "    def top_n(self, user, n=10):\n",
    "        \"\"\"Return the top n recommendations for given user.\n",
    "        \n",
    "        Parameters:\n",
    "            user (int) - The index of the user\n",
    "            n (int) - The number of recommendations to give\n",
    "            \n",
    "        Preconditions:\n",
    "            n > 0\"\"\"\n",
    "        if self._M is None:\n",
    "            raise RuntimeError(\"Please ensure to call fit before generating top n\")\n",
    "        users, items = self._M[[user], :].nonzero()\n",
    "        \n",
    "        users_rated = []\n",
    "        for i in range(len(users)):\n",
    "            users_rated.append(items[i])\n",
    "        \n",
    "        top = []\n",
    "        for item in range(self._num_items):\n",
    "            # Do not add items for which rating already exists\n",
    "            if item in users_rated:\n",
    "                continue\n",
    "                \n",
    "            predicted_rating = self._user_features[user, :] @ np.transpose(self._item_features)[:, item]\n",
    "            \n",
    "            top.append((predicted_rating, item))\n",
    "            top.sort(key=lambda x: x[0], reverse=True)\n",
    "            top = top[:min(n, len(top))]\n",
    "        \n",
    "        return top\n",
    "        \n",
    "    def predict(self, pairs):\n",
    "        \"\"\"Returns a list of predictions of the form (user, item, prediction) for each (user, item) pair in pairs.\n",
    "        \n",
    "        Parameters:\n",
    "            pairs (list) - List of (user, item) tuples.\n",
    "            \n",
    "        Returns:\n",
    "            List of (user, item, prediction) tuples.\"\"\"\n",
    "        predictions = []\n",
    "        for user, item in pairs:\n",
    "            prediction = self._user_features[user, :] @ np.transpose(self._item_features)[:, item]\n",
    "            prediction = 2*prediction\n",
    "            predictions.append((user, item, prediction))\n",
    "        \n",
    "        return predictions\n",
    "    \n",
    "    def get_train_errors(self):\n",
    "        \"\"\"Return the training errors stored while training. Returns none if model has not been fit.\"\"\"\n",
    "        return self._train_errors\n",
    "    \n",
    "    def get_val_errors(self):\n",
    "        \"\"\"Return the validation errors stored while training. Returns none if model has not been fit.\"\"\"\n",
    "        return self._val_errors\n",
    "    \n",
    "    def _update_features(self, i, users, items, do_items=True):\n",
    "        user = users[i]\n",
    "        item = items[i]                  \n",
    "\n",
    "        diff = self._learning_rate*(self._M[user, item] - self._user_features[user, :] @ np.transpose(self._item_features[item, :]))\n",
    "\n",
    "        # Compute user features update\n",
    "        new_user_features = self._user_features[user, :] + diff*self._item_features[item, :] - self._learning_rate*self._C*self._item_features[item, :]\n",
    "        \n",
    "        # Compute item features update\n",
    "        if do_items:\n",
    "            self._item_features[item, :] += diff*self._user_features[user, :] - self._learning_rate*self._C*self._user_features[user, :]\n",
    "\n",
    "        self._user_features[user, :] = new_user_features\n",
    "        \n",
    "    def _show_error(self):\n",
    "        big_diff = 2*self._M - 2*self._user_features @ np.transpose(self._item_features)\n",
    "        \n",
    "        # Mask to ignore error from missing reviews\n",
    "        big_diff = self._mask.multiply(big_diff)\n",
    "        error = sparse_norm(big_diff) / np.sqrt(self._num_samples)\n",
    "        self._train_errors.append(error)\n",
    "        print(\"Training error:\", error, end=\"/\")\n",
    "        \n",
    "    def _default_inv_transform(self, x):\n",
    "        return x\n"
   ]
  },
  {
   "cell_type": "markdown",
   "id": "a0b8dbb5-03a1-4a7d-8252-3f26e7c99daf",
   "metadata": {},
   "source": [
    "Below is testing partial fit."
   ]
  },
  {
   "cell_type": "code",
   "execution_count": null,
   "id": "38dcda71-2be3-408e-8beb-d3cb2ba17088",
   "metadata": {
    "tags": []
   },
   "outputs": [],
   "source": [
    "EPOCHS = 5\n",
    "\n",
    "# Fit and predict with svd\n",
    "svd_predictor = SVDPredictor(train_data.get_num_users() - 1, train_data.get_num_items(), k=10, epochs=EPOCHS, learning_rate=0.01, partial_batch_size=int(0))\n",
    "svd_predictor.fit(train_data.get_matrix()[:-1, :])\n",
    "\n",
    "svd_predictor.partial_fit(train_data.get_matrix()[[-1], :])"
   ]
  },
  {
   "cell_type": "markdown",
   "id": "e1a819af-042e-41a2-b115-6f566ae59524",
   "metadata": {},
   "source": [
    "Below is predicting the top n and comparing with the true top n"
   ]
  },
  {
   "cell_type": "code",
   "execution_count": 26,
   "id": "c76af4a8-1b97-403a-83f0-7e1e593bf2cd",
   "metadata": {},
   "outputs": [
    {
     "name": "stdout",
     "output_type": "stream",
     "text": [
      "[(0.9458516997051617, 629), (0.9407295487903767, 1638), (0.9388828183440496, 134), (0.9348996575298925, 227), (0.9326027319914163, 358), (0.9314203058130033, 11), (0.931231228636118, 814), (0.927975039815232, 2117), (0.926124038327349, 1621), (0.9256785429420407, 1471)]\n",
      "['Factorio', 'ULTRAKILL', 'Terraria', 'Kenshi', 'RimWorld', 'Portal 2', 'Half-Life: Alyx', 'Vampire Survivors', 'Gunfire Reborn', 'Inscryption']\n"
     ]
    }
   ],
   "source": [
    "top_n = svd_predictor.top_n(train_data.get_matrix().shape[0] - 1)\n",
    "print(top_n)\n",
    "print([train_data.index_to_title(index) for _, index in top_n])"
   ]
  },
  {
   "cell_type": "code",
   "execution_count": 16,
   "id": "561a3894-0da3-46a4-a72a-48233e0c6c53",
   "metadata": {},
   "outputs": [
    {
     "name": "stdout",
     "output_type": "stream",
     "text": [
      "[0 0 0 0 0 0 0 0 0 0 0 0 0 0 0 0 0 0 0]\n",
      "[11, 147, 182, 272, 332, 353, 510, 629, 822, 911, 1111, 1154, 1555, 1569, 1677, 1717, 1998, 2095, 2149]\n",
      "['Portal 2', 'Crusader Kings II', 'The Binding of Isaac: Rebirth', 'The Witcher® 3: Wild Hunt', 'Hollow Knight']\n"
     ]
    }
   ],
   "source": [
    "true_top = rec_data.top_n(train_data.get_matrix().shape[0] - 1, 5)\n",
    "print([rec_data.index_to_title(index) for _, index in true_top])"
   ]
  },
  {
   "cell_type": "markdown",
   "id": "ad8d78d9-68cb-4ff9-b974-b794ce8580f3",
   "metadata": {},
   "source": [
    "Below is testings a fit on all data"
   ]
  },
  {
   "cell_type": "code",
   "execution_count": 115,
   "id": "9dfac856-435d-443b-807b-daadf187e9b9",
   "metadata": {},
   "outputs": [
    {
     "name": "stdout",
     "output_type": "stream",
     "text": [
      "Epoch 0/Training error: 1.8483371462911995/Validation error: 1.8548295865777336/Time: 59.25 seconds\n",
      "Epoch 1/Training error: 1.720276795774037/Validation error: 1.7485988080471644/Time: 57.69 seconds\n",
      "Epoch 2/Training error: 1.0059667958810394/Validation error: 1.0410044092051391/Time: 58.12 seconds\n",
      "Epoch 3/Training error: 0.6878870641760308/Validation error: 0.7052335034101632/Time: 59.54 seconds\n",
      "Epoch 4/Training error: 0.5565960719922283/Validation error: 0.5717830142934589/Time: 58.55 seconds\n",
      "Epoch 5/Training error: 0.48880845640296006/Validation error: 0.5055613873545514/Time: 58.09 seconds\n",
      "Epoch 6/Training error: 0.4484576730220735/Validation error: 0.4673356302926231/Time: 57.69 seconds\n"
     ]
    },
    {
     "data": {
      "image/png": "[encoded data removed]",
      "text/plain": [
       "<Figure size 640x480 with 1 Axes>"
      ]
     },
     "metadata": {},
     "output_type": "display_data"
    },
    {
     "name": "stdout",
     "output_type": "stream",
     "text": [
      "Test rmse 0.4673356302926231\n",
      "Saving model...\n",
      "Done saving model.\n",
      "[(0.9909717264501501, 158), (0.9885315632606797, 280), (0.9849395558042864, 107), (0.984273226759615, 34), (0.9842315437177456, 1328), (0.983099700767205, 595), (0.9806120455759344, 1364), (0.9802956086319436, 629), (0.9795540308382826, 2065), (0.9766200073400412, 1828)]\n",
      "['Gunpoint', 'A Hat in Time', 'S.T.A.L.K.E.R.: Call of Pripyat', \"Sid Meier's Civilization® V\", 'Dwarf Fortress', 'EARTH DEFENSE FORCE 4.1 The Shadow of New Despair', 'EARTH DEFENSE FORCE 5', 'Factorio', 'Persona 5 Royal', 'Cruelty Squad']\n"
     ]
    }
   ],
   "source": [
    "EPOCHS = 7\n",
    "\n",
    "# Fit and predict with svd\n",
    "svd_predictor = SVDPredictor(train_data.get_num_users(), train_data.get_num_items(), k=500, epochs=EPOCHS, learning_rate=0.01, C=0.05)\n",
    "svd_predictor.fit(train_data.get_matrix(), validation_set=test)\n",
    "\n",
    "# Ensure file exists\n",
    "file = open(MODEL_DIR, 'a')\n",
    "file.close()\n",
    "\n",
    "# Plot error\n",
    "errors = svd_predictor.get_train_errors()\n",
    "val_errors = svd_predictor.get_val_errors()\n",
    "plt.plot(range(EPOCHS), errors, label='Training error')\n",
    "plt.plot(range(EPOCHS), val_errors, label='Test error')\n",
    "plt.xlabel('Epoch')\n",
    "plt.ylabel('Error')\n",
    "plt.title('Error vs Epoch')\n",
    "plt.legend()\n",
    "plt.show()\n",
    "\n",
    "# Compute rmse\n",
    "predictions = svd_predictor.predict([(user, item) for user, item, _ in test])\n",
    "predictions = [prediction + (test[i][2],) for i, prediction in enumerate(predictions)]\n",
    "metrics = Metrics()\n",
    "rmse = metrics.rmse(predictions)\n",
    "print(\"Test rmse\", rmse)\n",
    "\n",
    "model_dir = model_dir = \"saved_models/{}-{}-{}-{}-{}-{}_{}\".format(*(time.localtime()[:6] + (round(rmse, 4), ))).replace(\".\", \"-\") + \".pkl\" \n",
    "print(\"Saving model...\")\n",
    "with open(model_dir, 'wb') as file:\n",
    "    pickle.dump([svd_predictor, rec_data, train_data, test], file)\n",
    "print(\"Done saving model.\")\n",
    "\n",
    "# Test top-n list\n",
    "top_n = svd_predictor.top_n(0)\n",
    "print(top_n)\n",
    "print([train_data.index_to_title(index) for _, index in top_n])"
   ]
  },
  {
   "cell_type": "code",
   "execution_count": null,
   "id": "40d09e89-0a94-4b83-b02d-e4aebe66a2d0",
   "metadata": {},
   "outputs": [],
   "source": [
    "true_top = rec_data.top_n(0, 100)\n",
    "print([rec_data.index_to_title(index) for _, index in true_top])"
   ]
  },
  {
   "cell_type": "markdown",
   "id": "aee49f9e-5804-48db-ae38-565f71386a34",
   "metadata": {},
   "source": [
    "Testing loading the model below"
   ]
  },
  {
   "cell_type": "code",
   "execution_count": 95,
   "id": "76ca0a40-fa44-4d40-96c0-bdd39fb0bf7f",
   "metadata": {},
   "outputs": [
    {
     "data": {
      "text/plain": [
       "[('neo aquarium - the king of crustaceans -', 477),\n",
       " ('rust', 277),\n",
       " ('rustangelo', 792)]"
      ]
     },
     "execution_count": 95,
     "metadata": {},
     "output_type": "execute_result"
    }
   ],
   "source": [
    "rec_data.search_title('rust')"
   ]
  },
  {
   "cell_type": "code",
   "execution_count": 105,
   "id": "b7255659-9117-4b1b-9ca1-fe581e33405c",
   "metadata": {},
   "outputs": [],
   "source": [
    "prefs = rec_data.create_prefs([(606, 1), (1628, 1), (391, 0), (1330, 0), (500, 0), (709, 1), (840, 0), (58, 1), (456, 1), (153, 0), (158, 0), (1160, 0), (761, 0),\n",
    "                              (1771, 0), (384, 0), (544, 0), (312, 0), (277, 0)])    "
   ]
  },
  {
   "cell_type": "code",
   "execution_count": 106,
   "id": "4ee1d017-4df8-4fd4-a0e3-cdd8aa2fdc1e",
   "metadata": {},
   "outputs": [
    {
     "name": "stdout",
     "output_type": "stream",
     "text": [
      "Epoch 0/Training error: 0.4636373846447715/Time: 1.91 seconds\n",
      "Epoch 1/Training error: 0.46363486912845175/Time: 1.98 seconds\n",
      "Epoch 2/Training error: 0.46363443541664673/Time: 1.89 seconds\n",
      "Epoch 3/Training error: 0.4636343622245946/Time: 1.81 seconds\n",
      "Epoch 4/Training error: 0.4636343270056404/Time: 1.94 seconds\n",
      "Epoch 5/Training error: 0.46363435444574447/Time: 1.81 seconds\n",
      "Epoch 6/Training error: 0.46363439870019857/Time: 1.84 seconds\n",
      "Completed partial fit in 13.234585523605347 seconds\n",
      "[(0.6923873775340177, 'A Hat in Time'), (0.6920504107334995, \"Sid Meier's Civilization® V\"), (0.6870910144601811, 'S.T.A.L.K.E.R.: Call of Pripyat'), (0.6862840463864919, 'EARTH DEFENSE FORCE 4.1 The Shadow of New Despair'), (0.6855200094916148, 'Mount & Blade: Warband'), (0.6853938640186404, 'Cruelty Squad'), (0.685349787525084, 'Factorio'), (0.6851284084998828, 'Dyson Sphere Program'), (0.6844741540537115, 'Half-Life: Alyx'), (0.6839114544425615, 'DUSK')]\n"
     ]
    }
   ],
   "source": [
    "svd_predictor._partial_batch_size = 0\n",
    "start_time = time.time()\n",
    "svd_predictor.partial_fit(prefs)\n",
    "print(\"Completed partial fit in\", time.time() - start_time, \"seconds\")\n",
    "\n",
    "top_n = svd_predictor.top_n(train_data.get_matrix().shape[0])\n",
    "print([(r, train_data.index_to_title(index)) for r, index in top_n])"
   ]
  },
  {
   "cell_type": "code",
   "execution_count": 28,
   "id": "d2700474-b1f3-4172-a0a5-6a1ccd1a69a2",
   "metadata": {},
   "outputs": [],
   "source": [
    "MODEL_DIR = 'saved_models/save1.pkl'\n",
    "\n",
    "saved = None\n",
    "with open(MODEL_DIR, 'rb') as file:\n",
    "    saved = pickle.load(file)\n",
    "    \n",
    "svd, rec_data, train_data, test = saved"
   ]
  },
  {
   "cell_type": "code",
   "execution_count": null,
   "id": "c1953a0a-6d03-45ad-8fe4-6674e01ba78e",
   "metadata": {},
   "outputs": [],
   "source": []
  }
 ],
 "metadata": {
  "kernelspec": {
   "display_name": "Python 3 (ipykernel)",
   "language": "python",
   "name": "python3"
  },
  "language_info": {
   "codemirror_mode": {
    "name": "ipython",
    "version": 3
   },
   "file_extension": ".py",
   "mimetype": "text/x-python",
   "name": "python",
   "nbconvert_exporter": "python",
   "pygments_lexer": "ipython3",
   "version": "3.9.16"
  }
 },
 "nbformat": 4,
 "nbformat_minor": 5
}
