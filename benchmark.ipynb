{
 "cells": [
  {
   "cell_type": "markdown",
   "id": "4502579c-1b4d-4d8d-a681-18f24ae1237e",
   "metadata": {},
   "source": [
    "# Benchmarks"
   ]
  },
  {
   "cell_type": "markdown",
   "id": "6171fc05-e456-44e5-ab1d-308b021bea9f",
   "metadata": {},
   "source": [
    "## Surprise on Data"
   ]
  },
  {
   "cell_type": "code",
   "execution_count": 7,
   "id": "fe7eae55-4008-4c3f-ba2d-37b23d7c815c",
   "metadata": {},
   "outputs": [],
   "source": [
    "from surprise import Dataset, Reader, SVD\n",
    "from surprise.model_selection import cross_validate"
   ]
  },
  {
   "cell_type": "code",
   "execution_count": 5,
   "id": "089379c4-d0d8-470a-a48d-5f106b57aea5",
   "metadata": {},
   "outputs": [],
   "source": [
    "reader = Reader(line_format='item rating user', sep=',', skip_lines=1)\n",
    "data = Dataset.load_from_file('data/cleaned.csv', reader=reader)"
   ]
  },
  {
   "cell_type": "code",
   "execution_count": 10,
   "id": "5a51bc52-f71d-4a64-809a-11c984a6fc38",
   "metadata": {},
   "outputs": [
    {
     "name": "stdout",
     "output_type": "stream",
     "text": [
      "Evaluating RMSE of algorithm SVD on 5 split(s).\n",
      "\n",
      "                  Fold 1  Fold 2  Fold 3  Fold 4  Fold 5  Mean    Std     \n",
      "RMSE (testset)    0.4379  0.4370  0.4369  0.4381  0.4373  0.4374  0.0005  \n",
      "Fit time          13.10   13.32   13.87   12.92   12.85   13.21   0.37    \n",
      "Test time         3.04    2.94    2.45    2.74    2.40    2.71    0.25    \n"
     ]
    }
   ],
   "source": [
    "svd = SVD()\n",
    "results = cross_validate(svd, data, measures=['RMSE'], cv=5, verbose=True)"
   ]
  },
  {
   "cell_type": "markdown",
   "id": "11d9e941-7aad-4366-bbf1-f00cf23bf906",
   "metadata": {},
   "source": [
    "## Custom Algorithm on MovieLens"
   ]
  },
  {
   "cell_type": "code",
   "execution_count": null,
   "id": "850984ec-6fc1-4faf-93c3-a4d028aae9f4",
   "metadata": {},
   "outputs": [],
   "source": []
  }
 ],
 "metadata": {
  "kernelspec": {
   "display_name": "Python 3 (ipykernel)",
   "language": "python",
   "name": "python3"
  },
  "language_info": {
   "codemirror_mode": {
    "name": "ipython",
    "version": 3
   },
   "file_extension": ".py",
   "mimetype": "text/x-python",
   "name": "python",
   "nbconvert_exporter": "python",
   "pygments_lexer": "ipython3",
   "version": "3.11.4"
  }
 },
 "nbformat": 4,
 "nbformat_minor": 5
}
