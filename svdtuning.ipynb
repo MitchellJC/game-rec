{
 "cells": [
  {
   "cell_type": "code",
   "execution_count": 19,
   "id": "cfd28a59-588e-47cc-ab61-bb9e8674854a",
   "metadata": {},
   "outputs": [
    {
     "name": "stdin",
     "output_type": "stream",
     "text": [
      "Once deleted, variables cannot be recovered. Proceed (y/[n])?  y\n"
     ]
    }
   ],
   "source": [
    "%reset"
   ]
  },
  {
   "cell_type": "code",
   "execution_count": 20,
   "id": "2b35e932-407e-4160-878a-1547e900cce9",
   "metadata": {},
   "outputs": [],
   "source": [
    "import numpy as np\n",
    "from scipy.sparse import csr_array, lil_array\n",
    "import matplotlib.pyplot as plt\n",
    "import pandas as pd\n",
    "import math\n",
    "import pickle\n",
    "import time\n",
    "import datetime\n",
    "import random\n",
    "from pprint import pprint\n",
    "\n",
    "from SVD import Metrics, SVDPredictor, LogisticSVD, FastLogisticSVD\n",
    "from RecData import RecData"
   ]
  },
  {
   "cell_type": "code",
   "execution_count": 21,
   "id": "86929969-e5de-468e-b024-80cf550c6e8f",
   "metadata": {},
   "outputs": [
    {
     "name": "stdout",
     "output_type": "stream",
     "text": [
      "Shape: (10267907, 3)\n"
     ]
    },
    {
     "data": {
      "text/html": [
       "<div>\n",
       "<style scoped>\n",
       "    .dataframe tbody tr th:only-of-type {\n",
       "        vertical-align: middle;\n",
       "    }\n",
       "\n",
       "    .dataframe tbody tr th {\n",
       "        vertical-align: top;\n",
       "    }\n",
       "\n",
       "    .dataframe thead th {\n",
       "        text-align: right;\n",
       "    }\n",
       "</style>\n",
       "<table border=\"1\" class=\"dataframe\">\n",
       "  <thead>\n",
       "    <tr style=\"text-align: right;\">\n",
       "      <th></th>\n",
       "      <th>app_id</th>\n",
       "      <th>is_recommended</th>\n",
       "      <th>user_id</th>\n",
       "    </tr>\n",
       "  </thead>\n",
       "  <tbody>\n",
       "    <tr>\n",
       "      <th>7613972</th>\n",
       "      <td>459080</td>\n",
       "      <td>True</td>\n",
       "      <td>615114</td>\n",
       "    </tr>\n",
       "    <tr>\n",
       "      <th>1976676</th>\n",
       "      <td>1222140</td>\n",
       "      <td>True</td>\n",
       "      <td>6729601</td>\n",
       "    </tr>\n",
       "    <tr>\n",
       "      <th>4078085</th>\n",
       "      <td>860510</td>\n",
       "      <td>True</td>\n",
       "      <td>1646741</td>\n",
       "    </tr>\n",
       "    <tr>\n",
       "      <th>4077313</th>\n",
       "      <td>641320</td>\n",
       "      <td>False</td>\n",
       "      <td>2433891</td>\n",
       "    </tr>\n",
       "    <tr>\n",
       "      <th>4077199</th>\n",
       "      <td>728880</td>\n",
       "      <td>True</td>\n",
       "      <td>1803907</td>\n",
       "    </tr>\n",
       "  </tbody>\n",
       "</table>\n",
       "</div>"
      ],
      "text/plain": [
       "          app_id  is_recommended  user_id\n",
       "7613972   459080            True   615114\n",
       "1976676  1222140            True  6729601\n",
       "4078085   860510            True  1646741\n",
       "4077313   641320           False  2433891\n",
       "4077199   728880            True  1803907"
      ]
     },
     "execution_count": 21,
     "metadata": {},
     "output_type": "execute_result"
    }
   ],
   "source": [
    "# recs = pd.read_csv('data/recommendations.csv')\n",
    "# recs = pd.read_csv('data/pruned.csv')\n",
    "recs = pd.read_csv('data/2plus.csv')\n",
    "\n",
    "# Remove old ratings\n",
    "recs = recs.sort_values(by=['date'], ascending=False)\n",
    "recs.drop_duplicates(subset= ['app_id', 'user_id'], inplace=True) \n",
    "\n",
    "USED_COLS = ['app_id', 'is_recommended', 'user_id']\n",
    "recs = recs[USED_COLS]\n",
    "\n",
    "item_data = pd.read_csv('data/games.csv')\n",
    "titles = item_data[['app_id', 'title']]\n",
    "\n",
    "print(\"Shape:\", recs.shape)\n",
    "recs.head()"
   ]
  },
  {
   "cell_type": "code",
   "execution_count": 22,
   "id": "78f0adeb-df3b-4750-b1f5-91c115d6238e",
   "metadata": {},
   "outputs": [
    {
     "name": "stdout",
     "output_type": "stream",
     "text": [
      "Creating utility matrix...\n",
      "Done utility matrix.\n",
      "Creating splits...\n",
      "First split done.\n",
      "Done creating splits in 43.30399465560913 seconds\n"
     ]
    }
   ],
   "source": [
    "random.seed(42)\n",
    "np.random.seed(42)\n",
    "\n",
    "rec_data = RecData()\n",
    "rec_data.create_from_dataframe(recs)\n",
    "rec_data.set_titles(titles)\n",
    "\n",
    "del recs\n",
    "\n",
    "start_time = time.time()\n",
    "print(\"Creating splits...\")\n",
    "train_data, test = rec_data.train_test_split(test_size=0.2)\n",
    "print(\"First split done.\")\n",
    "train_data, val = train_data.train_test_split(test_size=0.2)\n",
    "print(\"Done creating splits in\", time.time() - start_time, \"seconds\")"
   ]
  },
  {
   "cell_type": "code",
   "execution_count": 23,
   "id": "d633ed7d-64ec-4423-94e4-f8f31cf4f832",
   "metadata": {},
   "outputs": [],
   "source": [
    "# random.seed(42)\n",
    "# np.random.seed(42)\n",
    "\n",
    "# rec_data = RecData()\n",
    "# rec_data.create_from_dataframe(recs)\n",
    "# rec_data.set_titles(titles)\n",
    "\n",
    "# del recs\n",
    "\n",
    "# print(\"Creating splits...\")\n",
    "# train_data, val, test = rec_data.leave_k_out_split(k=1)\n",
    "# print(\"Done creating splits.\")"
   ]
  },
  {
   "cell_type": "code",
   "execution_count": 24,
   "id": "55f5d9d9-039c-485f-abf7-e8cc5448cedb",
   "metadata": {},
   "outputs": [],
   "source": [
    "del rec_data\n",
    "del item_data\n",
    "del titles"
   ]
  },
  {
   "cell_type": "code",
   "execution_count": 25,
   "id": "5cb4b4a6-76ca-4200-8e02-53c6bf30ab6e",
   "metadata": {},
   "outputs": [
    {
     "name": "stdout",
     "output_type": "stream",
     "text": [
      "Epoch 0/Training error: 0.6931399664971147/Validation error: 0.6931471927563734/Time: 26.6 seconds\n",
      "Epoch 1/Training error: 0.6931364796377494/Validation error: 0.6931470737959571/Time: 27.19 seconds\n",
      "Epoch 2/Training error: 0.6931331517525904/Validation error: 0.693146974387466/Time: 26.8 seconds\n",
      "Epoch 3/Training error: 0.6931294925205798/Validation error: 0.6931468231292943/Time: 26.88 seconds\n",
      "Epoch 4/Training error: 0.693125139774812/Validation error: 0.6931465607919921/Time: 26.74 seconds\n",
      "Epoch 5/Training error: 0.6931196781955109/Validation error: 0.6931460383639164/Time: 26.75 seconds\n",
      "Epoch 6/Training error: 0.693112676978837/Validation error: 0.6931450617079137/Time: 26.62 seconds\n",
      "Epoch 7/Training error: 0.6931031504447442/Validation error: 0.693143014068591/Time: 26.72 seconds\n",
      "Epoch 8/Training error: 0.6930894955719149/Validation error: 0.6931390650936129/Time: 27.03 seconds\n",
      "Epoch 9/Training error: 0.693068451608103/Validation error: 0.6931310380745365/Time: 26.89 seconds\n",
      "Epoch 10/Training error: 0.6930343560545723/Validation error: 0.6931148986665963/Time: 26.75 seconds\n",
      "Epoch 11/Training error: 0.6929751435339575/Validation error: 0.6930821001230139/Time: 27.3 seconds\n",
      "Epoch 12/Training error: 0.6928667718471019/Validation error: 0.6930155731464029/Time: 27.74 seconds\n",
      "Epoch 13/Training error: 0.6926633491200366/Validation error: 0.6928815465138081/Time: 28.76 seconds\n",
      "Epoch 14/Training error: 0.6922676345590087/Validation error: 0.6926085971113345/Time: 27.4 seconds\n",
      "Epoch 15/Training error: 0.6914937928926164/Validation error: 0.6920606140671018/Time: 27.04 seconds\n",
      "Epoch 16/Training error: 0.6899911868494072/Validation error: 0.6909784489650959/Time: 26.93 seconds\n",
      "Epoch 17/Training error: 0.6871165776478075/Validation error: 0.6888914448817252/Time: 26.94 seconds\n",
      "Epoch 18/Training error: 0.6818617037997325/Validation error: 0.6850678688253846/Time: 27.02 seconds\n",
      "Epoch 19/Training error: 0.6729755158800624/Validation error: 0.678620561996265/Time: 26.98 seconds\n",
      "Epoch 20/Training error: 0.659339192053845/Validation error: 0.668799003036394/Time: 26.61 seconds\n",
      "Epoch 21/Training error: 0.6408736366976816/Validation error: 0.6556508671267571/Time: 26.78 seconds\n",
      "Epoch 22/Training error: 0.6185245505403765/Validation error: 0.6399586141976776/Time: 27.2 seconds\n",
      "Epoch 23/Training error: 0.5941798408770893/Validation error: 0.6231370312590717/Time: 27.54 seconds\n",
      "Epoch 24/Training error: 0.5692765365399417/Validation error: 0.6062068728693608/Time: 27.01 seconds\n",
      "Epoch 25/Training error: 0.5453985669359471/Validation error: 0.5902382821994983/Time: 26.76 seconds\n",
      "Epoch 26/Training error: 0.5231080299659407/Validation error: 0.5755548321988511/Time: 26.67 seconds\n",
      "Epoch 27/Training error: 0.5026698937727325/Validation error: 0.562304498477399/Time: 26.7 seconds\n",
      "Epoch 28/Training error: 0.48442868301482694/Validation error: 0.5506385024808391/Time: 26.79 seconds\n",
      "Epoch 29/Training error: 0.46794068589275806/Validation error: 0.5402663833554969/Time: 26.68 seconds\n"
     ]
    },
    {
     "data": {
      "image/png": "[encoded data removed]",
      "text/plain": [
       "<Figure size 640x480 with 1 Axes>"
      ]
     },
     "metadata": {},
     "output_type": "display_data"
    },
    {
     "name": "stdout",
     "output_type": "stream",
     "text": [
      "Test rmse 0.4231155401305565\n"
     ]
    }
   ],
   "source": [
    "# for pruned, epoch: 30, lr:0.01, reg:0.02\n",
    "\n",
    "EPOCHS = 30 #240 \n",
    "\n",
    "random.seed(42)\n",
    "np.random.seed(42)\n",
    "\n",
    "# Fit and predict with svd\n",
    "svd_predictor = FastLogisticSVD(\n",
    "    train_data.get_num_users(), train_data.get_num_items(), 2, k=50, \n",
    "    learning_rate=0.01, C=0.02)\n",
    "svd_predictor.fit(train_data.get_matrix(), EPOCHS, validation_set=val, early_stop=False)\n",
    "\n",
    "# Plot error\n",
    "errors = svd_predictor.get_train_errors()\n",
    "val_errors = svd_predictor.get_val_errors()\n",
    "plt.plot(range(len(errors)), errors, label='Training error')\n",
    "plt.plot(range(len(val_errors)), val_errors, label='Test error')\n",
    "plt.xlabel('Epoch')\n",
    "plt.ylabel('Error')\n",
    "plt.title('Error vs Epoch')\n",
    "plt.legend()\n",
    "plt.show()\n",
    "\n",
    "# Compute rmse\n",
    "predictions = svd_predictor.predict_pairs([(user, item) for user, item, _ in val])\n",
    "predictions = [prediction + (val[i][2],) for i, prediction in enumerate(predictions)]\n",
    "metrics = Metrics()\n",
    "rmse = metrics.rmse(predictions)\n",
    "print(\"Test rmse\", rmse)"
   ]
  },
  {
   "cell_type": "code",
   "execution_count": 30,
   "id": "943c101b-d3af-4b57-93b9-869686587c0b",
   "metadata": {},
   "outputs": [
    {
     "name": "stdout",
     "output_type": "stream",
     "text": [
      "Epoch 0/Training error: 0.3649113275987332/Validation error: 0.48049979437117424/Time: 25.99 seconds\n",
      "Epoch 1/Training error: 0.35930834401695533/Validation error: 0.47776283145943016/Time: 26.34 seconds\n",
      "Epoch 2/Training error: 0.35418723614712394/Validation error: 0.4753436418017298/Time: 26.17 seconds\n",
      "Epoch 3/Training error: 0.34933950703437183/Validation error: 0.4730380656928443/Time: 26.24 seconds\n",
      "Epoch 4/Training error: 0.3446066484524097/Validation error: 0.4709855276799591/Time: 26.14 seconds\n",
      "Epoch 5/Training error: 0.34039625957499503/Validation error: 0.4691506163302096/Time: 26.15 seconds\n",
      "Epoch 6/Training error: 0.3358584877630693/Validation error: 0.46731418809258607/Time: 26.21 seconds\n",
      "Epoch 7/Training error: 0.33165269794376157/Validation error: 0.46574584519353374/Time: 26.08 seconds\n",
      "Epoch 8/Training error: 0.3277492026143433/Validation error: 0.4642444601854805/Time: 26.16 seconds\n",
      "Epoch 9/Training error: 0.3238179689212575/Validation error: 0.4628893504387243/Time: 37.79 seconds\n"
     ]
    }
   ],
   "source": [
    "svd_predictor.continue_fit(10, early_stop=False)"
   ]
  },
  {
   "cell_type": "code",
   "execution_count": 32,
   "id": "01ba5dcd-24cd-4b78-b882-62414ddc9266",
   "metadata": {},
   "outputs": [
    {
     "data": {
      "image/png": "[encoded data removed]",
      "text/plain": [
       "<Figure size 640x480 with 1 Axes>"
      ]
     },
     "metadata": {},
     "output_type": "display_data"
    },
    {
     "name": "stdout",
     "output_type": "stream",
     "text": [
      "Test rmse 0.3849944608953721\n"
     ]
    }
   ],
   "source": [
    "# Plot error\n",
    "errors = svd_predictor.get_train_errors()\n",
    "val_errors = svd_predictor.get_val_errors()\n",
    "plt.plot(range(len(errors)), errors, label='Training error')\n",
    "plt.plot(range(len(val_errors)), val_errors, label='Test error')\n",
    "plt.xlabel('Epoch')\n",
    "plt.ylabel('Error')\n",
    "plt.title('Error vs Epoch')\n",
    "plt.legend()\n",
    "plt.show()\n",
    "\n",
    "# Compute rmse\n",
    "predictions = svd_predictor.predict_pairs([(user, item) for user, item, _ in val])\n",
    "predictions = [prediction + (val[i][2],) for i, prediction in enumerate(predictions)]\n",
    "metrics = Metrics()\n",
    "rmse = metrics.rmse(predictions)\n",
    "print(\"Test rmse\", rmse)"
   ]
  },
  {
   "cell_type": "code",
   "execution_count": 36,
   "id": "357a8cf6-fd71-4ea3-b90a-f6dd3ff944a8",
   "metadata": {},
   "outputs": [
    {
     "name": "stdout",
     "output_type": "stream",
     "text": [
      "Computing similarities...\n",
      "Upto row 0\n",
      "Upto row 200\n",
      "Upto row 400\n",
      "Upto row 600\n",
      "Upto row 800\n",
      "Upto row 1000\n",
      "Upto row 1200\n",
      "Upto row 1400\n",
      "Upto row 1600\n",
      "Upto row 1800\n",
      "Upto row 2000\n",
      "Upto row 2200\n",
      "Done computing similarities in 405.8188042640686 seconds\n"
     ]
    }
   ],
   "source": [
    "svd_predictor.compute_sims()"
   ]
  },
  {
   "cell_type": "code",
   "execution_count": 44,
   "id": "a225937b-fc43-418b-bd28-efa4cf56b1b4",
   "metadata": {},
   "outputs": [
    {
     "name": "stdout",
     "output_type": "stream",
     "text": [
      "[(0.9934836598178022, 'Left 4 Dead 2'),\n",
      " (0.9932750433266724, 'Papers Please'),\n",
      " (0.9930878320501089, 'Counter-Strike: Source'),\n",
      " (0.9930248652087343, 'Call of Duty®: Modern Warfare® 2 (2009)'),\n",
      " (0.992819952562889, 'Wallpaper Engine'),\n",
      " (0.992537910651242, 'Terraria'),\n",
      " (0.9925366695440154, 'Portal 2'),\n",
      " (0.9925135890009634, 'Portal'),\n",
      " (0.9923979768022965, 'Euro Truck Simulator 2'),\n",
      " (0.9922682975023462, \"Garry's Mod\")]\n"
     ]
    }
   ],
   "source": [
    "top = svd_predictor.items_knn([(293, 1)])\n",
    "pprint([(sim, train_data.index_to_title(index)) for sim, index in top])"
   ]
  },
  {
   "cell_type": "code",
   "execution_count": 17,
   "id": "b664f8ce-2bcf-4bc2-8e25-51fee4d447fc",
   "metadata": {},
   "outputs": [
    {
     "name": "stdout",
     "output_type": "stream",
     "text": [
      "Saving model...\n",
      "Done saving model.\n"
     ]
    }
   ],
   "source": [
    "# Ensure file exists\n",
    "model_dir = model_dir = \"saved_models/{}-{}-{}-{}-{}-{}_{}\".format(\n",
    "    *(time.localtime()[:6] + (round(rmse, 4), ))).replace(\".\", \"-\") + \".pkl\" \n",
    "file = open(model_dir, 'a')\n",
    "file.close()\n",
    "\n",
    "# Save model\n",
    "print(\"Saving model...\")\n",
    "with open(model_dir, 'wb') as file:\n",
    "    pickle.dump([train_data, svd_predictor], file)\n",
    "print(\"Done saving model.\")"
   ]
  },
  {
   "cell_type": "code",
   "execution_count": 35,
   "id": "6ab5770d-962b-47b1-9b82-74feac83f214",
   "metadata": {},
   "outputs": [
    {
     "name": "stdout",
     "output_type": "stream",
     "text": [
      "Predicted top n:\n",
      "[(0.9206996135928255, 'Terraria'),\n",
      " (0.9184847026535525, 'Wallpaper Engine'),\n",
      " (0.9184279431494676, 'Wobbly Life'),\n",
      " (0.9181253755759784, 'BeamNG.drive'),\n",
      " (0.917575966622757, 'PowerWash Simulator'),\n",
      " (0.9174844142901013, 'CarX Drift Racing Online'),\n",
      " (0.9173332188422043, \"Garry's Mod\"),\n",
      " (0.9172366163661728, 'American Truck Simulator'),\n",
      " (0.9171008246042601, 'MX Bikes'),\n",
      " (0.9169435575423818, 'OMORI'),\n",
      " (0.9167840714944547, 'Clone Drone in the Danger Zone'),\n",
      " (0.916729938216813, 'ULTRAKILL'),\n",
      " (0.91655451691545, 'Bloons TD 6'),\n",
      " (0.9163327476250769, 'The Test'),\n",
      " (0.9161519525318034, 'Stray'),\n",
      " (0.9159680183399378, 'The Binding of Isaac: Rebirth'),\n",
      " (0.9159476161516685, 'PlateUp!'),\n",
      " (0.9159294076641218, 'Slay the Spire'),\n",
      " (0.9158426163539647, 'Walkabout Mini Golf VR'),\n",
      " (0.9157920999863275, 'Portal 2')]\n",
      "True top n:\n",
      "['Detroit: Become Human', 'Vampire Survivors', 'Borderlands 3', 'Left 4 Dead 2']\n"
     ]
    }
   ],
   "source": [
    "j = 1\n",
    "\n",
    "# Test top-n list for user j\n",
    "top_n = svd_predictor.top_n(j, 20)\n",
    "print(\"Predicted top n:\")\n",
    "pprint([(r, train_data.index_to_title(index)) for r, index in top_n])\n",
    "\n",
    "# User j true top n list\n",
    "print(\"True top n:\")\n",
    "true_top = train_data.top_n(j, 5000)\n",
    "pprint([train_data.index_to_title(index) for _, index in true_top])"
   ]
  },
  {
   "cell_type": "code",
   "execution_count": null,
   "id": "8f39bc02-a788-46a0-8f11-156cade2be99",
   "metadata": {},
   "outputs": [],
   "source": [
    "# values, bins = np.histogram(svd_predictor._user_features[0, :])\n",
    "# plt.stairs(values, bins)\n",
    "# plt.show()"
   ]
  },
  {
   "cell_type": "code",
   "execution_count": 43,
   "id": "4a9be427-4b26-4189-9eed-02e98e23056c",
   "metadata": {},
   "outputs": [
    {
     "data": {
      "text/plain": [
       "[('Call of Duty: World at War', 387),\n",
       " (\"Forest Legends: The Call of Love Collector's Edition\", 1905),\n",
       " ('Call of Duty® 4: Modern Warfare®', 293),\n",
       " ('Call of Duty®: Modern Warfare® 2 (2009)', 666),\n",
       " ('Call of Duty®: WWII', 541),\n",
       " ('theHunter: Call of the Wild™', 299),\n",
       " ('Call of Duty®: Black Ops III', 478),\n",
       " ('Call of Duty®: Black Ops', 230),\n",
       " ('S.T.A.L.K.E.R.: Call of Pripyat', 1192),\n",
       " ('The Callisto Protocol™', 27),\n",
       " ('Call of Duty®: Infinite Warfare', 465),\n",
       " ('Call of Duty®: Black Ops II', 235),\n",
       " ('Call to Arms - Gates of Hell: Ostfront', 182),\n",
       " ('Call to Arms', 494),\n",
       " ('Call of Juarez: Gunslinger', 303),\n",
       " ('Call of Duty®: Modern Warfare® II', 64),\n",
       " ('Call of the Wild: The Angler™', 1001),\n",
       " ('Call of Duty®: Modern Warfare® 3', 924),\n",
       " ('Call of Duty®: Advanced Warfare - Gold Edition', 630)]"
      ]
     },
     "execution_count": 43,
     "metadata": {},
     "output_type": "execute_result"
    }
   ],
   "source": [
    "train_data.search_title('call')"
   ]
  },
  {
   "cell_type": "code",
   "execution_count": 87,
   "id": "af7c7b3d-f089-454c-8892-52d633e70b9b",
   "metadata": {},
   "outputs": [
    {
     "name": "stdout",
     "output_type": "stream",
     "text": [
      "[(196, 'Mortal Kombat X', 0),\n",
      " (740, 'The Sims™ 3', 1),\n",
      " (174, 'The Sims™ 4', 1),\n",
      " (819, 'A Hat in Time', 1)]\n"
     ]
    }
   ],
   "source": [
    "prefs = [(196, 0), (740, 1), (174, 1), (819, 1)]\n",
    "# prefs = [(5, 1), (229, 1), (966, 0)]\n",
    "pprint([(index, train_data.index_to_title(index), pref) for index, pref in prefs])\n",
    "prefs = train_data.create_prefs(prefs)    "
   ]
  },
  {
   "cell_type": "code",
   "execution_count": null,
   "id": "2b516899-5ff8-4cbc-abc0-fd9d7a78cb5d",
   "metadata": {},
   "outputs": [],
   "source": [
    "start_time = time.time()\n",
    "svd_predictor.partial_fit(prefs, epochs=EPOCHS)\n",
    "print(\"Completed partial fit in\", time.time() - start_time, \"seconds\")"
   ]
  },
  {
   "cell_type": "code",
   "execution_count": null,
   "id": "4e10eed0-deb4-440a-92e8-eb12c7a96b97",
   "metadata": {},
   "outputs": [],
   "source": [
    "top_n = svd_predictor.top_n(svd_predictor._num_users - 1, 20)\n",
    "print(\"Predicted top n\")\n",
    "pprint([(r, train_data.index_to_title(index)) for r, index in top_n])"
   ]
  },
  {
   "cell_type": "code",
   "execution_count": null,
   "id": "3ed80d3c-1901-4404-a237-edea0ddc01a1",
   "metadata": {},
   "outputs": [],
   "source": []
  }
 ],
 "metadata": {
  "kernelspec": {
   "display_name": "Python 3 (ipykernel)",
   "language": "python",
   "name": "python3"
  },
  "language_info": {
   "codemirror_mode": {
    "name": "ipython",
    "version": 3
   },
   "file_extension": ".py",
   "mimetype": "text/x-python",
   "name": "python",
   "nbconvert_exporter": "python",
   "pygments_lexer": "ipython3",
   "version": "3.9.16"
  }
 },
 "nbformat": 4,
 "nbformat_minor": 5
}
