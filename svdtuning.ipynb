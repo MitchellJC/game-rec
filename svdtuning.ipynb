{
 "cells": [
  {
   "cell_type": "code",
   "execution_count": 1,
   "id": "2b35e932-407e-4160-878a-1547e900cce9",
   "metadata": {},
   "outputs": [],
   "source": [
    "import numpy as np\n",
    "from scipy.sparse import csr_matrix\n",
    "from scipy.sparse import lil_matrix\n",
    "import matplotlib.pyplot as plt\n",
    "import pandas as pd\n",
    "import math\n",
    "import pickle\n",
    "import time\n",
    "import datetime\n",
    "import random\n",
    "from pprint import pprint\n",
    "\n",
    "from SVD import Metrics, SVDPredictor\n",
    "from RecData import RecData"
   ]
  },
  {
   "cell_type": "code",
   "execution_count": 2,
   "id": "86929969-e5de-468e-b024-80cf550c6e8f",
   "metadata": {},
   "outputs": [
    {
     "data": {
      "text/html": [
       "<div>\n",
       "<style scoped>\n",
       "    .dataframe tbody tr th:only-of-type {\n",
       "        vertical-align: middle;\n",
       "    }\n",
       "\n",
       "    .dataframe tbody tr th {\n",
       "        vertical-align: top;\n",
       "    }\n",
       "\n",
       "    .dataframe thead th {\n",
       "        text-align: right;\n",
       "    }\n",
       "</style>\n",
       "<table border=\"1\" class=\"dataframe\">\n",
       "  <thead>\n",
       "    <tr style=\"text-align: right;\">\n",
       "      <th></th>\n",
       "      <th>app_id</th>\n",
       "      <th>is_recommended</th>\n",
       "      <th>user_id</th>\n",
       "    </tr>\n",
       "  </thead>\n",
       "  <tbody>\n",
       "    <tr>\n",
       "      <th>0</th>\n",
       "      <td>534380</td>\n",
       "      <td>True</td>\n",
       "      <td>10531</td>\n",
       "    </tr>\n",
       "    <tr>\n",
       "      <th>1</th>\n",
       "      <td>42700</td>\n",
       "      <td>False</td>\n",
       "      <td>185293</td>\n",
       "    </tr>\n",
       "    <tr>\n",
       "      <th>2</th>\n",
       "      <td>602960</td>\n",
       "      <td>True</td>\n",
       "      <td>319249</td>\n",
       "    </tr>\n",
       "    <tr>\n",
       "      <th>3</th>\n",
       "      <td>976730</td>\n",
       "      <td>False</td>\n",
       "      <td>747545</td>\n",
       "    </tr>\n",
       "    <tr>\n",
       "      <th>4</th>\n",
       "      <td>1091500</td>\n",
       "      <td>True</td>\n",
       "      <td>2113544</td>\n",
       "    </tr>\n",
       "  </tbody>\n",
       "</table>\n",
       "</div>"
      ],
      "text/plain": [
       "    app_id  is_recommended  user_id\n",
       "0   534380            True    10531\n",
       "1    42700           False   185293\n",
       "2   602960            True   319249\n",
       "3   976730           False   747545\n",
       "4  1091500            True  2113544"
      ]
     },
     "execution_count": 2,
     "metadata": {},
     "output_type": "execute_result"
    }
   ],
   "source": [
    "recs = pd.read_csv('data/pruned.csv')\n",
    "USED_COLS = ['app_id', 'is_recommended', 'user_id']\n",
    "recs = recs[USED_COLS]\n",
    "\n",
    "item_data = pd.read_csv('data/games.csv')\n",
    "titles = item_data[['app_id', 'title']]\n",
    "\n",
    "recs.head()"
   ]
  },
  {
   "cell_type": "code",
   "execution_count": 3,
   "id": "d633ed7d-64ec-4423-94e4-f8f31cf4f832",
   "metadata": {},
   "outputs": [],
   "source": [
    "random.seed(42)\n",
    "np.random.seed(42)\n",
    "\n",
    "rec_data = RecData()\n",
    "rec_data.create_from_dataframe(recs)\n",
    "rec_data.set_titles(titles)\n",
    "\n",
    "train_data, test = rec_data.leave_k_out_split()\n",
    "train_data, val = train_data.leave_k_out_split()"
   ]
  },
  {
   "cell_type": "code",
   "execution_count": null,
   "id": "5cb4b4a6-76ca-4200-8e02-53c6bf30ab6e",
   "metadata": {},
   "outputs": [],
   "source": [
    "EPOCHS = 20\n",
    "\n",
    "random.seed(42)\n",
    "np.random.seed(42)\n",
    "\n",
    "# Fit and predict with svd\n",
    "svd_predictor = SVDPredictor(\n",
    "    train_data.get_num_users(), train_data.get_num_items(), k=100, epochs=EPOCHS, \n",
    "    learning_rate=0.005, C=0.02)\n",
    "svd_predictor.fit(train_data.get_matrix(), validation_set=val)\n",
    "\n",
    "# Plot error\n",
    "errors = svd_predictor.get_train_errors()\n",
    "val_errors = svd_predictor.get_val_errors()\n",
    "plt.plot(range(len(errors)), errors, label='Training error')\n",
    "plt.plot(range(len(val_errors)), val_errors, label='Test error')\n",
    "plt.xlabel('Epoch')\n",
    "plt.ylabel('Error')\n",
    "plt.title('Error vs Epoch')\n",
    "plt.legend()\n",
    "plt.show()\n",
    "\n",
    "# Compute rmse\n",
    "predictions = svd_predictor.predict([(user, item) for user, item, _ in val])\n",
    "predictions = [prediction + (val[i][2],) for i, prediction in enumerate(predictions)]\n",
    "metrics = Metrics()\n",
    "rmse = metrics.rmse(predictions)\n",
    "print(\"Test rmse\", rmse)\n",
    "\n",
    "# Ensure file exists\n",
    "model_dir = model_dir = \"saved_models/{}-{}-{}-{}-{}-{}_{}\".format(\n",
    "    *(time.localtime()[:6] + (round(rmse, 4), ))).replace(\".\", \"-\") + \".pkl\" \n",
    "file = open(model_dir, 'a')\n",
    "file.close()\n",
    "\n",
    "# Save model\n",
    "print(\"Saving model...\")\n",
    "with open(model_dir, 'wb') as file:\n",
    "    pickle.dump([svd_predictor, rec_data, train_data, val, test], file)\n",
    "print(\"Done saving model.\")"
   ]
  },
  {
   "cell_type": "code",
   "execution_count": null,
   "id": "b132f861-14c4-4d86-82cf-7b37b5e31c92",
   "metadata": {},
   "outputs": [],
   "source": [
    "# Test top-n list for user 0\n",
    "top_n = svd_predictor.top_n(0)\n",
    "print(\"Predicted top n:\")\n",
    "pprint([(r, train_data.index_to_title(index)) for r, index in top_n])\n",
    "\n",
    "# User 0 true top n list\n",
    "print(\"True top n:\")\n",
    "true_top = rec_data.top_n(0, 100)\n",
    "pprint([rec_data.index_to_title(index) for _, index in true_top])"
   ]
  },
  {
   "cell_type": "code",
   "execution_count": null,
   "id": "4a9be427-4b26-4189-9eed-02e98e23056c",
   "metadata": {},
   "outputs": [],
   "source": [
    "rec_data.search_title('1330')"
   ]
  },
  {
   "cell_type": "code",
   "execution_count": null,
   "id": "af7c7b3d-f089-454c-8892-52d633e70b9b",
   "metadata": {},
   "outputs": [],
   "source": [
    "prefs = [(606, 1), (1628, 1), (391, 0), (1330, 0), (500, 0), (709, 1), (840, 0), \n",
    "         (58, 1), (456, 1), (153, 0), (158, 0), (1160, 0), (761, 0),\n",
    "                              (1771, 0), (544, 0), (312, 0), (277, 0)]\n",
    "pprint([(index, rec_data.index_to_title(index), pref) for index, pref in prefs])\n",
    "prefs = rec_data.create_prefs(prefs)    "
   ]
  },
  {
   "cell_type": "code",
   "execution_count": 20,
   "id": "2b516899-5ff8-4cbc-abc0-fd9d7a78cb5d",
   "metadata": {},
   "outputs": [
    {
     "name": "stdout",
     "output_type": "stream",
     "text": [
      "Epoch 0/Training error: 0.3335227855732511/Time: 3.32 seconds\n",
      "Epoch 1/Training error: 0.3335216319019268/Time: 3.33 seconds\n",
      "Epoch 2/Training error: 0.33352083110605046/Time: 3.27 seconds\n",
      "Epoch 3/Training error: 0.3335202533750534/Time: 3.26 seconds\n",
      "Epoch 4/Training error: 0.33351985188113237/Time: 3.24 seconds\n",
      "Completed partial fit in 16.47112774848938 seconds\n",
      "Predicted top n\n",
      "[(1.7077738155050715, 'Hexcells Infinite'),\n",
      " (1.6895720591944543, 'Lil Gator Game'),\n",
      " (1.688066401769133, 'The Case of the Golden Idol'),\n",
      " (1.687407148980516, 'Turing Complete'),\n",
      " (1.6819600088797104, 'Dungeon Warfare 2'),\n",
      " (1.6792200525321865, 'Thief™ II: The Metal Age'),\n",
      " (1.6781844619468393, 'Baba Is You'),\n",
      " (1.6767923925314212, 'A Hat in Time'),\n",
      " (1.6742712744118848, 'Later Alligator'),\n",
      " (1.6722390027958658, 'Incredibox')]\n"
     ]
    }
   ],
   "source": [
    "svd_predictor._partial_batch_size = int(0)\n",
    "start_time = time.time()\n",
    "svd_predictor.partial_fit(prefs)\n",
    "print(\"Completed partial fit in\", time.time() - start_time, \"seconds\")"
   ]
  },
  {
   "cell_type": "code",
   "execution_count": 21,
   "id": "4e10eed0-deb4-440a-92e8-eb12c7a96b97",
   "metadata": {},
   "outputs": [
    {
     "name": "stdout",
     "output_type": "stream",
     "text": [
      "Predicted top n\n",
      "[(1.7077738155050715, 'Hexcells Infinite'),\n",
      " (1.6895720591944543, 'Lil Gator Game'),\n",
      " (1.688066401769133, 'The Case of the Golden Idol'),\n",
      " (1.687407148980516, 'Turing Complete'),\n",
      " (1.6819600088797104, 'Dungeon Warfare 2'),\n",
      " (1.6792200525321865, 'Thief™ II: The Metal Age'),\n",
      " (1.6781844619468393, 'Baba Is You'),\n",
      " (1.6767923925314212, 'A Hat in Time'),\n",
      " (1.6742712744118848, 'Later Alligator'),\n",
      " (1.6722390027958658, 'Incredibox'),\n",
      " (1.6716464168677994, 'Monolith'),\n",
      " (1.6707495581588674, 'Touhou Tenkuushou ~ Hidden Star in Four Seasons.'),\n",
      " (1.6706483404688854, 'West of Loathing'),\n",
      " (1.6686661356641215, 'Epistory - Typing Chronicles'),\n",
      " (1.6662410650293438, 'Cruelty Squad'),\n",
      " (1.6661304650749214, 'Vampire: The Masquerade - Bloodlines'),\n",
      " (1.6654861746299652, 'POSTAL 2'),\n",
      " (1.6653458008541528, 'Enigmatis 2: The Mists of Ravenwood'),\n",
      " (1.6647655953700902, 'Bastion'),\n",
      " (1.6641237197117376, 'Walkabout Mini Golf VR')]\n"
     ]
    }
   ],
   "source": [
    "top_n = svd_predictor.top_n(train_data.get_matrix().shape[0], 20)\n",
    "print(\"Predicted top n\")\n",
    "pprint([(r, train_data.index_to_title(index)) for r, index in top_n])"
   ]
  },
  {
   "cell_type": "code",
   "execution_count": null,
   "id": "3ed80d3c-1901-4404-a237-edea0ddc01a1",
   "metadata": {},
   "outputs": [],
   "source": []
  }
 ],
 "metadata": {
  "kernelspec": {
   "display_name": "Python 3 (ipykernel)",
   "language": "python",
   "name": "python3"
  },
  "language_info": {
   "codemirror_mode": {
    "name": "ipython",
    "version": 3
   },
   "file_extension": ".py",
   "mimetype": "text/x-python",
   "name": "python",
   "nbconvert_exporter": "python",
   "pygments_lexer": "ipython3",
   "version": "3.10.9"
  }
 },
 "nbformat": 4,
 "nbformat_minor": 5
}
