{
 "cells": [
  {
   "cell_type": "code",
   "execution_count": 44,
   "id": "cfd28a59-588e-47cc-ab61-bb9e8674854a",
   "metadata": {},
   "outputs": [
    {
     "name": "stdout",
     "output_type": "stream",
     "text": [
      "Once deleted, variables cannot be recovered. Proceed (y/[n])?  y\n"
     ]
    }
   ],
   "source": [
    "%reset"
   ]
  },
  {
   "cell_type": "code",
   "execution_count": 45,
   "id": "2b35e932-407e-4160-878a-1547e900cce9",
   "metadata": {},
   "outputs": [],
   "source": [
    "import numpy as np\n",
    "from scipy.sparse import csr_array, lil_array\n",
    "import matplotlib.pyplot as plt\n",
    "import pandas as pd\n",
    "import math\n",
    "import pickle\n",
    "import time\n",
    "import datetime\n",
    "import random\n",
    "from pprint import pprint\n",
    "\n",
    "from SVD import Metrics, SVDPredictor, LogisticSVD, FastLogisticSVD\n",
    "from RecData import RecData"
   ]
  },
  {
   "cell_type": "code",
   "execution_count": 46,
   "id": "86929969-e5de-468e-b024-80cf550c6e8f",
   "metadata": {},
   "outputs": [
    {
     "name": "stdout",
     "output_type": "stream",
     "text": [
      "Shape: (10267907, 3)\n"
     ]
    },
    {
     "data": {
      "text/html": [
       "<div>\n",
       "<style scoped>\n",
       "    .dataframe tbody tr th:only-of-type {\n",
       "        vertical-align: middle;\n",
       "    }\n",
       "\n",
       "    .dataframe tbody tr th {\n",
       "        vertical-align: top;\n",
       "    }\n",
       "\n",
       "    .dataframe thead th {\n",
       "        text-align: right;\n",
       "    }\n",
       "</style>\n",
       "<table border=\"1\" class=\"dataframe\">\n",
       "  <thead>\n",
       "    <tr style=\"text-align: right;\">\n",
       "      <th></th>\n",
       "      <th>app_id</th>\n",
       "      <th>is_recommended</th>\n",
       "      <th>user_id</th>\n",
       "    </tr>\n",
       "  </thead>\n",
       "  <tbody>\n",
       "    <tr>\n",
       "      <th>7613972</th>\n",
       "      <td>459080</td>\n",
       "      <td>True</td>\n",
       "      <td>615114</td>\n",
       "    </tr>\n",
       "    <tr>\n",
       "      <th>1976676</th>\n",
       "      <td>1222140</td>\n",
       "      <td>True</td>\n",
       "      <td>6729601</td>\n",
       "    </tr>\n",
       "    <tr>\n",
       "      <th>4078085</th>\n",
       "      <td>860510</td>\n",
       "      <td>True</td>\n",
       "      <td>1646741</td>\n",
       "    </tr>\n",
       "    <tr>\n",
       "      <th>4077313</th>\n",
       "      <td>641320</td>\n",
       "      <td>False</td>\n",
       "      <td>2433891</td>\n",
       "    </tr>\n",
       "    <tr>\n",
       "      <th>4077199</th>\n",
       "      <td>728880</td>\n",
       "      <td>True</td>\n",
       "      <td>1803907</td>\n",
       "    </tr>\n",
       "  </tbody>\n",
       "</table>\n",
       "</div>"
      ],
      "text/plain": [
       "          app_id  is_recommended  user_id\n",
       "7613972   459080            True   615114\n",
       "1976676  1222140            True  6729601\n",
       "4078085   860510            True  1646741\n",
       "4077313   641320           False  2433891\n",
       "4077199   728880            True  1803907"
      ]
     },
     "execution_count": 46,
     "metadata": {},
     "output_type": "execute_result"
    }
   ],
   "source": [
    "# recs = pd.read_csv('data/recommendations.csv')\n",
    "# recs = pd.read_csv('data/pruned.csv')\n",
    "recs = pd.read_csv('data/2plus.csv')\n",
    "\n",
    "# Remove old ratings\n",
    "recs = recs.sort_values(by=['date'], ascending=False)\n",
    "recs.drop_duplicates(subset= ['app_id', 'user_id'], inplace=True) \n",
    "\n",
    "USED_COLS = ['app_id', 'is_recommended', 'user_id']\n",
    "recs = recs[USED_COLS]\n",
    "\n",
    "item_data = pd.read_csv('data/games.csv')\n",
    "titles = item_data[['app_id', 'title']]\n",
    "\n",
    "print(\"Shape:\", recs.shape)\n",
    "recs.head()"
   ]
  },
  {
   "cell_type": "code",
   "execution_count": 47,
   "id": "78f0adeb-df3b-4750-b1f5-91c115d6238e",
   "metadata": {},
   "outputs": [
    {
     "name": "stdout",
     "output_type": "stream",
     "text": [
      "Creating utility matrix...\n",
      "Done utility matrix.\n",
      "Creating splits...\n",
      "First split done.\n",
      "Done creating splits in 45.21025037765503 seconds\n"
     ]
    }
   ],
   "source": [
    "random.seed(42)\n",
    "np.random.seed(42)\n",
    "\n",
    "rec_data = RecData()\n",
    "rec_data.create_from_dataframe(recs)\n",
    "rec_data.set_titles(titles)\n",
    "\n",
    "del recs\n",
    "\n",
    "start_time = time.time()\n",
    "print(\"Creating splits...\")\n",
    "train_data, test = rec_data.train_test_split(test_size=0.2)\n",
    "print(\"First split done.\")\n",
    "train_data, val = train_data.train_test_split(test_size=0.2)\n",
    "print(\"Done creating splits in\", time.time() - start_time, \"seconds\")"
   ]
  },
  {
   "cell_type": "code",
   "execution_count": 48,
   "id": "d633ed7d-64ec-4423-94e4-f8f31cf4f832",
   "metadata": {},
   "outputs": [],
   "source": [
    "# random.seed(42)\n",
    "# np.random.seed(42)\n",
    "\n",
    "# rec_data = RecData()\n",
    "# rec_data.create_from_dataframe(recs)\n",
    "# rec_data.set_titles(titles)\n",
    "\n",
    "# del recs\n",
    "\n",
    "# print(\"Creating splits...\")\n",
    "# train_data, val, test = rec_data.leave_k_out_split(k=1)\n",
    "# print(\"Done creating splits.\")"
   ]
  },
  {
   "cell_type": "code",
   "execution_count": 49,
   "id": "55f5d9d9-039c-485f-abf7-e8cc5448cedb",
   "metadata": {},
   "outputs": [],
   "source": [
    "del rec_data\n",
    "del item_data\n",
    "del titles"
   ]
  },
  {
   "cell_type": "code",
   "execution_count": 51,
   "id": "5cb4b4a6-76ca-4200-8e02-53c6bf30ab6e",
   "metadata": {},
   "outputs": [
    {
     "name": "stdout",
     "output_type": "stream",
     "text": [
      "Epoch 0/Training error: 0.6931206857802799/Validation error: 0.6931472700409621/Time: 26.17 seconds\n",
      "Epoch 1/Training error: 0.6930475548278096/Validation error: 0.6931441932521449/Time: 26.42 seconds\n",
      "Epoch 2/Training error: 0.6926856926212883/Validation error: 0.6931037194840526/Time: 26.41 seconds\n",
      "Epoch 3/Training error: 0.6902260230446142/Validation error: 0.6926044668361779/Time: 26.45 seconds\n",
      "Epoch 4/Training error: 0.6722790633528771/Validation error: 0.6872496497635393/Time: 26.31 seconds\n",
      "Epoch 5/Training error: 0.601825263943075/Validation error: 0.6577494173080554/Time: 26.42 seconds\n",
      "Epoch 6/Training error: 0.4919112615498562/Validation error: 0.6017312356582095/Time: 26.48 seconds\n",
      "Epoch 7/Training error: 0.3938776178509988/Validation error: 0.5515429036935225/Time: 27.33 seconds\n",
      "Epoch 8/Training error: 0.3236872709483169/Validation error: 0.5199657574657676/Time: 26.58 seconds\n",
      "Epoch 9/Training error: 0.27339400009664/Validation error: 0.5024541366248223/Time: 26.52 seconds\n",
      "Epoch 10/Training error: 0.23626091012028977/Validation error: 0.4939335554813877/Time: 26.56 seconds\n"
     ]
    },
    {
     "data": {
      "image/png": "[encoded data removed]",
      "text/plain": [
       "<Figure size 640x480 with 1 Axes>"
      ]
     },
     "metadata": {},
     "output_type": "display_data"
    },
    {
     "name": "stdout",
     "output_type": "stream",
     "text": [
      "Test rmse 0.3973372791053389\n"
     ]
    }
   ],
   "source": [
    "EPOCHS = 11 #240\n",
    "\n",
    "random.seed(42)\n",
    "np.random.seed(42)\n",
    "\n",
    "# Fit and predict with svd\n",
    "svd_predictor = FastLogisticSVD(\n",
    "    train_data.get_num_users(), train_data.get_num_items(), 2, k=50, \n",
    "    learning_rate=0.01, C=0)\n",
    "svd_predictor.fit(train_data.get_matrix(), EPOCHS, validation_set=val, early_stop=False)\n",
    "\n",
    "# Plot error\n",
    "errors = svd_predictor.get_train_errors()\n",
    "val_errors = svd_predictor.get_val_errors()\n",
    "plt.plot(range(len(errors)), errors, label='Training error')\n",
    "plt.plot(range(len(val_errors)), val_errors, label='Test error')\n",
    "plt.xlabel('Epoch')\n",
    "plt.ylabel('Error')\n",
    "plt.title('Error vs Epoch')\n",
    "plt.legend()\n",
    "plt.show()\n",
    "\n",
    "# Compute rmse\n",
    "predictions = svd_predictor.predict_pairs([(user, item) for user, item, _ in val])\n",
    "predictions = [prediction + (val[i][2],) for i, prediction in enumerate(predictions)]\n",
    "metrics = Metrics()\n",
    "rmse = metrics.rmse(predictions)\n",
    "print(\"Test rmse\", rmse)"
   ]
  },
  {
   "cell_type": "code",
   "execution_count": null,
   "id": "943c101b-d3af-4b57-93b9-869686587c0b",
   "metadata": {},
   "outputs": [],
   "source": [
    "svd_predictor.continue_fit(20, early_stop=False)"
   ]
  },
  {
   "cell_type": "code",
   "execution_count": 52,
   "id": "01ba5dcd-24cd-4b78-b882-62414ddc9266",
   "metadata": {},
   "outputs": [
    {
     "data": {
      "image/png": "[encoded data removed]",
      "text/plain": [
       "<Figure size 640x480 with 1 Axes>"
      ]
     },
     "metadata": {},
     "output_type": "display_data"
    },
    {
     "name": "stdout",
     "output_type": "stream",
     "text": [
      "Test rmse 0.3973372791053389\n"
     ]
    }
   ],
   "source": [
    "# Plot error\n",
    "errors = svd_predictor.get_train_errors()\n",
    "val_errors = svd_predictor.get_val_errors()\n",
    "plt.plot(range(len(errors)), errors, label='Training error')\n",
    "plt.plot(range(len(val_errors)), val_errors, label='Test error')\n",
    "plt.xlabel('Epoch')\n",
    "plt.ylabel('Error')\n",
    "plt.title('Error vs Epoch')\n",
    "plt.legend()\n",
    "plt.show()\n",
    "\n",
    "# Compute rmse\n",
    "predictions = svd_predictor.predict_pairs([(user, item) for user, item, _ in val])\n",
    "predictions = [prediction + (val[i][2],) for i, prediction in enumerate(predictions)]\n",
    "metrics = Metrics()\n",
    "rmse = metrics.rmse(predictions)\n",
    "print(\"Test rmse\", rmse)"
   ]
  },
  {
   "cell_type": "code",
   "execution_count": 299,
   "id": "b664f8ce-2bcf-4bc2-8e25-51fee4d447fc",
   "metadata": {},
   "outputs": [
    {
     "name": "stdout",
     "output_type": "stream",
     "text": [
      "Saving model...\n",
      "Done saving model.\n"
     ]
    }
   ],
   "source": [
    "# Ensure file exists\n",
    "model_dir = model_dir = \"saved_models/{}-{}-{}-{}-{}-{}_{}\".format(\n",
    "    *(time.localtime()[:6] + (round(rmse, 4), ))).replace(\".\", \"-\") + \".pkl\" \n",
    "file = open(model_dir, 'a')\n",
    "file.close()\n",
    "\n",
    "# Save model\n",
    "print(\"Saving model...\")\n",
    "with open(model_dir, 'wb') as file:\n",
    "    pickle.dump([train_data, svd_predictor], file)\n",
    "print(\"Done saving model.\")"
   ]
  },
  {
   "cell_type": "code",
   "execution_count": 77,
   "id": "6ab5770d-962b-47b1-9b82-74feac83f214",
   "metadata": {},
   "outputs": [
    {
     "name": "stdout",
     "output_type": "stream",
     "text": [
      "Predicted top n:\n",
      "[(0.9822075877476546, 'Wallpaper Engine'),\n",
      " (0.9762333262250193, 'Hearts of Iron IV'),\n",
      " (0.974505421024758, 'Rust'),\n",
      " (0.9686574724980908, \"Garry's Mod\"),\n",
      " (0.967167341139786, 'Halo: The Master Chief Collection'),\n",
      " (0.9667279671617098, 'American Truck Simulator'),\n",
      " (0.9662704014093119, 'Sea of Thieves'),\n",
      " (0.9648488070966827, 'Borderlands 2'),\n",
      " (0.9647090501570866, 'Arma 3'),\n",
      " (0.9618066631143212, 'Red Dead Redemption 2'),\n",
      " (0.9589776580896062, 'The Witcher® 3: Wild Hunt'),\n",
      " (0.9586085735904172, 'Kerbal Space Program'),\n",
      " (0.9575136508575244, 'Left 4 Dead 2'),\n",
      " (0.9570631061219081, 'Terraria'),\n",
      " (0.9556164417069387, 'STAR WARS Jedi: Fallen Order Deluxe Edition'),\n",
      " (0.9553190217726297, 'ELDEN RING'),\n",
      " (0.9535906191960719, 'Inscryption'),\n",
      " (0.9527489814147007, 'The Binding of Isaac: Rebirth'),\n",
      " (0.9521903196550989, 'Euro Truck Simulator 2'),\n",
      " (0.9521589086597719, 'Factorio')]\n",
      "True top n:\n",
      "['BeamNG.drive', 'Grand Theft Auto IV: The Complete Edition']\n"
     ]
    }
   ],
   "source": [
    "j = 23\n",
    "# Test top-n list for user j\n",
    "top_n = svd_predictor.top_n(j, 20)\n",
    "print(\"Predicted top n:\")\n",
    "pprint([(r, train_data.index_to_title(index)) for r, index in top_n])\n",
    "\n",
    "# User j true top n list\n",
    "print(\"True top n:\")\n",
    "true_top = train_data.top_n(j, 5000)\n",
    "pprint([train_data.index_to_title(index) for _, index in true_top])"
   ]
  },
  {
   "cell_type": "code",
   "execution_count": 78,
   "id": "8f39bc02-a788-46a0-8f11-156cade2be99",
   "metadata": {},
   "outputs": [
    {
     "data": {
      "image/png": "[encoded data removed]",
      "text/plain": [
       "<Figure size 640x480 with 1 Axes>"
      ]
     },
     "metadata": {},
     "output_type": "display_data"
    }
   ],
   "source": [
    "values, bins = np.histogram(svd_predictor._user_features[0, :])\n",
    "plt.stairs(values, bins)\n",
    "plt.show()"
   ]
  },
  {
   "cell_type": "code",
   "execution_count": 86,
   "id": "4a9be427-4b26-4189-9eed-02e98e23056c",
   "metadata": {},
   "outputs": [
    {
     "data": {
      "text/plain": [
       "[('A Hat in Time', 819)]"
      ]
     },
     "execution_count": 86,
     "metadata": {},
     "output_type": "execute_result"
    }
   ],
   "source": [
    "train_data.search_title('a hat')"
   ]
  },
  {
   "cell_type": "code",
   "execution_count": 87,
   "id": "af7c7b3d-f089-454c-8892-52d633e70b9b",
   "metadata": {},
   "outputs": [
    {
     "name": "stdout",
     "output_type": "stream",
     "text": [
      "[(196, 'Mortal Kombat X', 0),\n",
      " (740, 'The Sims™ 3', 1),\n",
      " (174, 'The Sims™ 4', 1),\n",
      " (819, 'A Hat in Time', 1)]\n"
     ]
    }
   ],
   "source": [
    "prefs = [(196, 0), (740, 1), (174, 1), (819, 1)]\n",
    "# prefs = [(5, 1), (229, 1), (966, 0)]\n",
    "pprint([(index, train_data.index_to_title(index), pref) for index, pref in prefs])\n",
    "prefs = train_data.create_prefs(prefs)    "
   ]
  },
  {
   "cell_type": "code",
   "execution_count": null,
   "id": "2b516899-5ff8-4cbc-abc0-fd9d7a78cb5d",
   "metadata": {},
   "outputs": [],
   "source": [
    "start_time = time.time()\n",
    "svd_predictor.partial_fit(prefs, epochs=EPOCHS)\n",
    "print(\"Completed partial fit in\", time.time() - start_time, \"seconds\")"
   ]
  },
  {
   "cell_type": "code",
   "execution_count": null,
   "id": "4e10eed0-deb4-440a-92e8-eb12c7a96b97",
   "metadata": {},
   "outputs": [],
   "source": [
    "top_n = svd_predictor.top_n(svd_predictor._num_users - 1, 20)\n",
    "print(\"Predicted top n\")\n",
    "pprint([(r, train_data.index_to_title(index)) for r, index in top_n])"
   ]
  },
  {
   "cell_type": "code",
   "execution_count": null,
   "id": "3ed80d3c-1901-4404-a237-edea0ddc01a1",
   "metadata": {},
   "outputs": [],
   "source": []
  }
 ],
 "metadata": {
  "kernelspec": {
   "display_name": "Python 3 (ipykernel)",
   "language": "python",
   "name": "python3"
  },
  "language_info": {
   "codemirror_mode": {
    "name": "ipython",
    "version": 3
   },
   "file_extension": ".py",
   "mimetype": "text/x-python",
   "name": "python",
   "nbconvert_exporter": "python",
   "pygments_lexer": "ipython3",
   "version": "3.9.16"
  }
 },
 "nbformat": 4,
 "nbformat_minor": 5
}
