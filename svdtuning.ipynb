{
 "cells": [
  {
   "cell_type": "code",
   "execution_count": 8,
   "id": "cfd28a59-588e-47cc-ab61-bb9e8674854a",
   "metadata": {},
   "outputs": [
    {
     "name": "stdin",
     "output_type": "stream",
     "text": [
      "Once deleted, variables cannot be recovered. Proceed (y/[n])?  y\n"
     ]
    }
   ],
   "source": [
    "%reset"
   ]
  },
  {
   "cell_type": "code",
   "execution_count": 1,
   "id": "2b35e932-407e-4160-878a-1547e900cce9",
   "metadata": {},
   "outputs": [],
   "source": [
    "import numpy as np\n",
    "from scipy.sparse import csr_array, lil_array\n",
    "import matplotlib.pyplot as plt\n",
    "import pandas as pd\n",
    "import math\n",
    "import pickle\n",
    "import time\n",
    "import datetime\n",
    "import random\n",
    "from pprint import pprint\n",
    "\n",
    "from SVD import Metrics, SVDPredictor, LogisticSVD, FastLogisticSVD\n",
    "from RecData import RecData"
   ]
  },
  {
   "cell_type": "code",
   "execution_count": 2,
   "id": "86929969-e5de-468e-b024-80cf550c6e8f",
   "metadata": {},
   "outputs": [
    {
     "name": "stdout",
     "output_type": "stream",
     "text": [
      "Shape: (1482532, 3)\n"
     ]
    },
    {
     "data": {
      "text/html": [
       "<div>\n",
       "<style scoped>\n",
       "    .dataframe tbody tr th:only-of-type {\n",
       "        vertical-align: middle;\n",
       "    }\n",
       "\n",
       "    .dataframe tbody tr th {\n",
       "        vertical-align: top;\n",
       "    }\n",
       "\n",
       "    .dataframe thead th {\n",
       "        text-align: right;\n",
       "    }\n",
       "</style>\n",
       "<table border=\"1\" class=\"dataframe\">\n",
       "  <thead>\n",
       "    <tr style=\"text-align: right;\">\n",
       "      <th></th>\n",
       "      <th>app_id</th>\n",
       "      <th>is_recommended</th>\n",
       "      <th>user_id</th>\n",
       "    </tr>\n",
       "  </thead>\n",
       "  <tbody>\n",
       "    <tr>\n",
       "      <th>279261</th>\n",
       "      <td>271590</td>\n",
       "      <td>True</td>\n",
       "      <td>2706940</td>\n",
       "    </tr>\n",
       "    <tr>\n",
       "      <th>968812</th>\n",
       "      <td>698540</td>\n",
       "      <td>True</td>\n",
       "      <td>3892918</td>\n",
       "    </tr>\n",
       "    <tr>\n",
       "      <th>965466</th>\n",
       "      <td>1085510</td>\n",
       "      <td>True</td>\n",
       "      <td>4590796</td>\n",
       "    </tr>\n",
       "    <tr>\n",
       "      <th>965540</th>\n",
       "      <td>1949960</td>\n",
       "      <td>False</td>\n",
       "      <td>3058171</td>\n",
       "    </tr>\n",
       "    <tr>\n",
       "      <th>1373726</th>\n",
       "      <td>1088850</td>\n",
       "      <td>True</td>\n",
       "      <td>2018014</td>\n",
       "    </tr>\n",
       "  </tbody>\n",
       "</table>\n",
       "</div>"
      ],
      "text/plain": [
       "          app_id  is_recommended  user_id\n",
       "279261    271590            True  2706940\n",
       "968812    698540            True  3892918\n",
       "965466   1085510            True  4590796\n",
       "965540   1949960           False  3058171\n",
       "1373726  1088850            True  2018014"
      ]
     },
     "execution_count": 2,
     "metadata": {},
     "output_type": "execute_result"
    }
   ],
   "source": [
    "# recs = pd.read_csv('data/recommendations.csv')\n",
    "recs = pd.read_csv('data/pruned.csv')\n",
    "\n",
    "# Remove old ratings\n",
    "recs = recs.sort_values(by=['date'], ascending=False)\n",
    "recs.drop_duplicates(subset= ['app_id', 'user_id'], inplace=True) \n",
    "\n",
    "USED_COLS = ['app_id', 'is_recommended', 'user_id']\n",
    "recs = recs[USED_COLS]\n",
    "\n",
    "item_data = pd.read_csv('data/games.csv')\n",
    "titles = item_data[['app_id', 'title']]\n",
    "\n",
    "print(\"Shape:\", recs.shape)\n",
    "recs.head()"
   ]
  },
  {
   "cell_type": "code",
   "execution_count": 3,
   "id": "78f0adeb-df3b-4750-b1f5-91c115d6238e",
   "metadata": {},
   "outputs": [
    {
     "name": "stdout",
     "output_type": "stream",
     "text": [
      "Creating utility matrix...\n",
      "Done utility matrix.\n",
      "Creating splits...\n",
      "First split done.\n",
      "Done creating splits in 4.927765369415283 seconds\n"
     ]
    }
   ],
   "source": [
    "random.seed(42)\n",
    "np.random.seed(42)\n",
    "\n",
    "rec_data = RecData()\n",
    "rec_data.create_from_dataframe(recs)\n",
    "rec_data.set_titles(titles)\n",
    "\n",
    "del recs\n",
    "\n",
    "start_time = time.time()\n",
    "print(\"Creating splits...\")\n",
    "train_data, test = rec_data.train_test_split(test_size=0.2)\n",
    "print(\"First split done.\")\n",
    "train_data, val = train_data.train_test_split(test_size=0.2)\n",
    "print(\"Done creating splits in\", time.time() - start_time, \"seconds\")"
   ]
  },
  {
   "cell_type": "code",
   "execution_count": 4,
   "id": "b1086898-b5b8-4dac-93b5-4371c39333c6",
   "metadata": {},
   "outputs": [
    {
     "data": {
      "text/plain": [
       "63175"
      ]
     },
     "execution_count": 4,
     "metadata": {},
     "output_type": "execute_result"
    }
   ],
   "source": [
    "rec_data._num_users"
   ]
  },
  {
   "cell_type": "code",
   "execution_count": 5,
   "id": "d633ed7d-64ec-4423-94e4-f8f31cf4f832",
   "metadata": {},
   "outputs": [],
   "source": [
    "# random.seed(42)\n",
    "# np.random.seed(42)\n",
    "\n",
    "# rec_data = RecData()\n",
    "# rec_data.create_from_dataframe(recs)\n",
    "# rec_data.set_titles(titles)\n",
    "\n",
    "# del recs\n",
    "\n",
    "# print(\"Creating splits...\")\n",
    "# train_data, val, test = rec_data.leave_k_out_split(k=1)\n",
    "# print(\"Done creating splits.\")"
   ]
  },
  {
   "cell_type": "code",
   "execution_count": 6,
   "id": "55f5d9d9-039c-485f-abf7-e8cc5448cedb",
   "metadata": {},
   "outputs": [],
   "source": [
    "del item_data\n",
    "del titles"
   ]
  },
  {
   "cell_type": "code",
   "execution_count": 7,
   "id": "5cb4b4a6-76ca-4200-8e02-53c6bf30ab6e",
   "metadata": {},
   "outputs": [
    {
     "name": "stdout",
     "output_type": "stream",
     "text": [
      "Epoch 0\n",
      "\tTraining error: 0.6931456694495435\n",
      "\tValidation error: 0.6931470958548351\n",
      "\tTime: 6.87 seconds\n",
      "Epoch 1\n",
      "\tTraining error: 0.6931462872492526\n",
      "\tValidation error: 0.6931470924194302\n",
      "\tTime: 4.17 seconds\n",
      "Epoch 2\n",
      "\tTraining error: 0.6931466031718552\n",
      "\tValidation error: 0.693147091966763\n",
      "\tTime: 3.96 seconds\n",
      "Epoch 3\n",
      "\tTraining error: 0.6931467268830952\n",
      "\tValidation error: 0.6931470293087589\n",
      "\tTime: 3.59 seconds\n",
      "Epoch 4\n",
      "\tTraining error: 0.6931467390375814\n",
      "\tValidation error: 0.6931469366514273\n",
      "\tTime: 3.68 seconds\n",
      "Epoch 5\n",
      "\tTraining error: 0.6931466297669098\n",
      "\tValidation error: 0.6931467807732049\n",
      "\tTime: 3.74 seconds\n",
      "Epoch 6\n",
      "\tTraining error: 0.6931463859454307\n",
      "\tValidation error: 0.6931465155122294\n",
      "\tTime: 3.98 seconds\n",
      "Epoch 7\n",
      "\tTraining error: 0.6931459419305951\n",
      "\tValidation error: 0.6931460830528118\n",
      "\tTime: 3.81 seconds\n",
      "Epoch 8\n",
      "\tTraining error: 0.6931451478612024\n",
      "\tValidation error: 0.6931453323046821\n",
      "\tTime: 3.92 seconds\n",
      "Epoch 9\n",
      "\tTraining error: 0.6931438695811701\n",
      "\tValidation error: 0.6931441379892199\n",
      "\tTime: 3.85 seconds\n",
      "Epoch 10\n",
      "\tTraining error: 0.693141690184929\n",
      "\tValidation error: 0.693142108097172\n",
      "\tTime: 3.79 seconds\n",
      "Epoch 11\n",
      "\tTraining error: 0.6931380746371748\n",
      "\tValidation error: 0.6931387537620181\n",
      "\tTime: 3.42 seconds\n",
      "Epoch 12\n",
      "\tTraining error: 0.6931319536797794\n",
      "\tValidation error: 0.6931330805495045\n",
      "\tTime: 3.51 seconds\n",
      "Epoch 13\n",
      "\tTraining error: 0.6931215527488571\n",
      "\tValidation error: 0.6931234430917791\n",
      "\tTime: 3.7 seconds\n",
      "Epoch 14\n",
      "\tTraining error: 0.6931046842386898\n",
      "\tValidation error: 0.6931078086901019\n",
      "\tTime: 3.79 seconds\n",
      "Epoch 15\n",
      "\tTraining error: 0.6930767241656265\n",
      "\tValidation error: 0.6930818680577583\n",
      "\tTime: 3.87 seconds\n",
      "Epoch 16\n",
      "\tTraining error: 0.6930294049098485\n",
      "\tValidation error: 0.6930380201341155\n",
      "\tTime: 3.82 seconds\n",
      "Epoch 17\n",
      "\tTraining error: 0.6929513704317279\n",
      "\tValidation error: 0.692965697193057\n",
      "\tTime: 3.6 seconds\n",
      "Epoch 18\n",
      "\tTraining error: 0.6928219303747383\n",
      "\tValidation error: 0.6928455242228638\n",
      "\tTime: 4.08 seconds\n",
      "Epoch 19\n",
      "\tTraining error: 0.6926024157066111\n",
      "\tValidation error: 0.6926422142544273\n",
      "\tTime: 4.06 seconds\n",
      "Epoch 20\n",
      "\tTraining error: 0.692249316401997\n",
      "\tValidation error: 0.6923152666282621\n",
      "\tTime: 4.78 seconds\n",
      "Epoch 21\n",
      "\tTraining error: 0.6916775253830865\n",
      "\tValidation error: 0.691783963755892\n",
      "\tTime: 4.15 seconds\n",
      "Epoch 22\n",
      "\tTraining error: 0.6906917603848417\n",
      "\tValidation error: 0.690870122306359\n",
      "\tTime: 3.62 seconds\n",
      "Epoch 23\n",
      "\tTraining error: 0.6891709194968854\n",
      "\tValidation error: 0.6894575161057707\n",
      "\tTime: 3.65 seconds\n",
      "Epoch 24\n",
      "\tTraining error: 0.6867518347031567\n",
      "\tValidation error: 0.6872182878134768\n",
      "\tTime: 3.72 seconds\n",
      "Epoch 25\n",
      "\tTraining error: 0.6830234908703068\n",
      "\tValidation error: 0.6837510962424821\n",
      "\tTime: 3.57 seconds\n",
      "Epoch 26\n",
      "\tTraining error: 0.6778798915715665\n",
      "\tValidation error: 0.6789737018117472\n",
      "\tTime: 3.49 seconds\n",
      "Epoch 27\n",
      "\tTraining error: 0.6706301602760492\n",
      "\tValidation error: 0.6722118656728723\n",
      "\tTime: 3.7 seconds\n",
      "Epoch 28\n",
      "\tTraining error: 0.6615810196392428\n",
      "\tValidation error: 0.6637838695667598\n",
      "\tTime: 3.51 seconds\n",
      "Epoch 29\n",
      "\tTraining error: 0.6518424533041429\n",
      "\tValidation error: 0.654681698465645\n",
      "\tTime: 3.93 seconds\n"
     ]
    },
    {
     "data": {
      "image/png": "[encoded data removed]",
      "text/plain": [
       "<Figure size 640x480 with 1 Axes>"
      ]
     },
     "metadata": {},
     "output_type": "display_data"
    },
    {
     "name": "stdout",
     "output_type": "stream",
     "text": [
      "Test rmse 0.48041955172691475\n"
     ]
    }
   ],
   "source": [
    "EPOCHS = 30\n",
    "\n",
    "random.seed(42)\n",
    "np.random.seed(42)\n",
    "\n",
    "# Fit and predict with svd\n",
    "svd_predictor = FastLogisticSVD(\n",
    "    train_data.get_num_users(), train_data.get_num_items(), 2, k=20, \n",
    "    learning_rate=0.1, C=0.3)\n",
    "svd_predictor.fit(train_data.get_matrix(), EPOCHS, validation_set=val, early_stop=False)\n",
    "\n",
    "# Plot error\n",
    "errors = svd_predictor.get_train_errors()\n",
    "val_errors = svd_predictor.get_val_errors()\n",
    "plt.plot(range(len(errors)), errors, label='Training error')\n",
    "plt.plot(range(len(val_errors)), val_errors, label='Test error')\n",
    "plt.xlabel('Epoch')\n",
    "plt.ylabel('Error')\n",
    "plt.title('Error vs Epoch')\n",
    "plt.legend()\n",
    "plt.show()\n",
    "\n",
    "# Compute rmse\n",
    "predictions = svd_predictor.predict_pairs([(user, item) for user, item, _ in val])\n",
    "predictions = [prediction + (val[i][2],) for i, prediction in enumerate(predictions)]\n",
    "metrics = Metrics()\n",
    "rmse = metrics.rmse(predictions)\n",
    "print(\"Test rmse\", rmse)"
   ]
  },
  {
   "cell_type": "code",
   "execution_count": 8,
   "id": "b664f8ce-2bcf-4bc2-8e25-51fee4d447fc",
   "metadata": {},
   "outputs": [
    {
     "name": "stdout",
     "output_type": "stream",
     "text": [
      "Saving model...\n",
      "Done saving model.\n"
     ]
    }
   ],
   "source": [
    "# Ensure file exists\n",
    "model_dir = model_dir = \"saved_models/{}-{}-{}-{}-{}-{}_{}\".format(\n",
    "    *(time.localtime()[:6] + (round(rmse, 4), ))).replace(\".\", \"-\") + \".pkl\" \n",
    "file = open(model_dir, 'a')\n",
    "file.close()\n",
    "\n",
    "# Save model\n",
    "print(\"Saving model...\")\n",
    "with open(model_dir, 'wb') as file:\n",
    "    pickle.dump([svd_predictor, rec_data, train_data, val, test], file)\n",
    "print(\"Done saving model.\")"
   ]
  },
  {
   "cell_type": "code",
   "execution_count": 10,
   "id": "943c101b-d3af-4b57-93b9-869686587c0b",
   "metadata": {},
   "outputs": [
    {
     "name": "stdout",
     "output_type": "stream",
     "text": [
      "Epoch 0\n",
      "Training error: 0.693128905622481\n",
      "Validation error: 0.6931453979236265\n",
      "Time: 4.2 seconds\n",
      "Epoch 1\n",
      "Training error: 0.6931215425681037\n",
      "Validation error: 0.6931426737233639\n",
      "Time: 3.77 seconds\n",
      "Epoch 2\n",
      "Training error: 0.6931090862088692\n",
      "Validation error: 0.6931356447591928\n",
      "Time: 3.85 seconds\n",
      "Epoch 3\n",
      "Training error: 0.6930834610492901\n",
      "Validation error: 0.6931173446550369\n",
      "Time: 3.7 seconds\n",
      "Epoch 4\n",
      "Training error: 0.6930235853044583\n",
      "Validation error: 0.6930693499219578\n",
      "Time: 3.46 seconds\n"
     ]
    }
   ],
   "source": [
    "svd_predictor.continue_fit(5, early_stop=False)"
   ]
  },
  {
   "cell_type": "code",
   "execution_count": 8,
   "id": "01ba5dcd-24cd-4b78-b882-62414ddc9266",
   "metadata": {},
   "outputs": [
    {
     "data": {
      "image/png": "[encoded data removed]",
      "text/plain": [
       "<Figure size 640x480 with 1 Axes>"
      ]
     },
     "metadata": {},
     "output_type": "display_data"
    }
   ],
   "source": [
    "# Plot error\n",
    "errors = svd_predictor.get_train_errors()\n",
    "val_errors = svd_predictor.get_val_errors()\n",
    "plt.plot(range(len(errors)), errors, label='Training error')\n",
    "plt.plot(range(len(val_errors)), val_errors, label='Test error')\n",
    "plt.xlabel('Epoch')\n",
    "plt.ylabel('Error')\n",
    "plt.title('Error vs Epoch')\n",
    "plt.legend()\n",
    "plt.show()"
   ]
  },
  {
   "cell_type": "code",
   "execution_count": 13,
   "id": "6ab5770d-962b-47b1-9b82-74feac83f214",
   "metadata": {},
   "outputs": [
    {
     "name": "stdout",
     "output_type": "stream",
     "text": [
      "Predicted top n:\n",
      "[(0.5486002451303982, 'The Jackbox Party Pack 7'),\n",
      " (0.5483978439087406, 'Dead Estate'),\n",
      " (0.5483670005356428, 'OMORI'),\n",
      " (0.5477344809894068, 'Mafia II (Classic)'),\n",
      " (0.5474268605987495, 'Just Shapes & Beats'),\n",
      " (0.5470115825907833, 'The Henry Stickmin Collection'),\n",
      " (0.5469229251994421, 'A Hat in Time'),\n",
      " (0.5467416254885974, 'BattleBlock Theater®'),\n",
      " (0.5465626173670105, 'FINAL FANTASY IV'),\n",
      " (0.5465396307472211, 'Bloons TD 6'),\n",
      " (0.5464177329442367, 'Judgment'),\n",
      " (0.5463133315092835, 'Life is Strange - Episode 1'),\n",
      " (0.5462092118939971, 'POSTAL 2'),\n",
      " (0.5462039641087688, 'The Jackbox Party Pack 5'),\n",
      " (0.5462003717446829, 'Milk outside a bag of milk outside a bag of milk'),\n",
      " (0.5461622473434542, 'Portal 2'),\n",
      " (0.5461542160735829, 'Ninja Kiwi Archive'),\n",
      " (0.5459762968011213, 'Batman™: Arkham Origins'),\n",
      " (0.5459244654011838, 'Persona 5 Royal'),\n",
      " (0.5459068819317633, 'Zero Escape: The Nonary Games')]\n",
      "True top n:\n",
      "[\"Marvel's Guardians of the Galaxy\",\n",
      " 'Cyberpunk 2077',\n",
      " 'Vampire Survivors',\n",
      " 'The Sims™ 4',\n",
      " 'Satisfactory',\n",
      " 'Wallpaper Engine',\n",
      " 'Ori and the Will of the Wisps',\n",
      " 'Kingsway',\n",
      " 'Call of Duty®: Black Ops III',\n",
      " 'The Past Within',\n",
      " 'Terraria',\n",
      " 'Deep Rock Galactic',\n",
      " 'PowerWash Simulator',\n",
      " 'Apex Legends™',\n",
      " 'FINAL FANTASY XIV Online',\n",
      " \"Assassin's Creed® Odyssey\",\n",
      " 'STAR WARS™: The Old Republic™',\n",
      " 'Call of Duty®: WWII',\n",
      " 'Albion Online',\n",
      " 'Call of Duty®: Modern Warfare® II',\n",
      " 'Forager',\n",
      " 'Destiny 2',\n",
      " 'Battlefield™ 2042']\n"
     ]
    }
   ],
   "source": [
    "j = 4\n",
    "# Test top-n list for user j\n",
    "top_n = svd_predictor.top_n(j, 20)\n",
    "print(\"Predicted top n:\")\n",
    "pprint([(r, train_data.index_to_title(index)) for r, index in top_n])\n",
    "\n",
    "# User j true top n list\n",
    "print(\"True top n:\")\n",
    "true_top = rec_data.top_n(j, 5000)\n",
    "pprint([rec_data.index_to_title(index) for _, index in true_top])"
   ]
  },
  {
   "cell_type": "code",
   "execution_count": 22,
   "id": "8f39bc02-a788-46a0-8f11-156cade2be99",
   "metadata": {},
   "outputs": [
    {
     "ename": "ValueError",
     "evalue": "autodetected range of [nan, nan] is not finite",
     "output_type": "error",
     "traceback": [
      "\u001b[1;31m---------------------------------------------------------------------------\u001b[0m",
      "\u001b[1;31mValueError\u001b[0m                                Traceback (most recent call last)",
      "Cell \u001b[1;32mIn[22], line 1\u001b[0m\n\u001b[1;32m----> 1\u001b[0m values, bins \u001b[38;5;241m=\u001b[39m \u001b[43mnp\u001b[49m\u001b[38;5;241;43m.\u001b[39;49m\u001b[43mhistogram\u001b[49m\u001b[43m(\u001b[49m\u001b[43msvd_predictor\u001b[49m\u001b[38;5;241;43m.\u001b[39;49m\u001b[43m_user_features\u001b[49m\u001b[43m[\u001b[49m\u001b[38;5;241;43m0\u001b[39;49m\u001b[43m,\u001b[49m\u001b[43m \u001b[49m\u001b[43m:\u001b[49m\u001b[43m]\u001b[49m\u001b[43m)\u001b[49m\n\u001b[0;32m      2\u001b[0m plt\u001b[38;5;241m.\u001b[39mstairs(values, bins)\n\u001b[0;32m      3\u001b[0m plt\u001b[38;5;241m.\u001b[39mshow()\n",
      "File \u001b[1;32m<__array_function__ internals>:180\u001b[0m, in \u001b[0;36mhistogram\u001b[1;34m(*args, **kwargs)\u001b[0m\n",
      "File \u001b[1;32m~\\anaconda3\\lib\\site-packages\\numpy\\lib\\histograms.py:793\u001b[0m, in \u001b[0;36mhistogram\u001b[1;34m(a, bins, range, normed, weights, density)\u001b[0m\n\u001b[0;32m    681\u001b[0m \u001b[38;5;124mr\u001b[39m\u001b[38;5;124;03m\"\"\"\u001b[39;00m\n\u001b[0;32m    682\u001b[0m \u001b[38;5;124;03mCompute the histogram of a dataset.\u001b[39;00m\n\u001b[0;32m    683\u001b[0m \n\u001b[1;32m   (...)\u001b[0m\n\u001b[0;32m    789\u001b[0m \n\u001b[0;32m    790\u001b[0m \u001b[38;5;124;03m\"\"\"\u001b[39;00m\n\u001b[0;32m    791\u001b[0m a, weights \u001b[38;5;241m=\u001b[39m _ravel_and_check_weights(a, weights)\n\u001b[1;32m--> 793\u001b[0m bin_edges, uniform_bins \u001b[38;5;241m=\u001b[39m \u001b[43m_get_bin_edges\u001b[49m\u001b[43m(\u001b[49m\u001b[43ma\u001b[49m\u001b[43m,\u001b[49m\u001b[43m \u001b[49m\u001b[43mbins\u001b[49m\u001b[43m,\u001b[49m\u001b[43m \u001b[49m\u001b[38;5;28;43mrange\u001b[39;49m\u001b[43m,\u001b[49m\u001b[43m \u001b[49m\u001b[43mweights\u001b[49m\u001b[43m)\u001b[49m\n\u001b[0;32m    795\u001b[0m \u001b[38;5;66;03m# Histogram is an integer or a float array depending on the weights.\u001b[39;00m\n\u001b[0;32m    796\u001b[0m \u001b[38;5;28;01mif\u001b[39;00m weights \u001b[38;5;129;01mis\u001b[39;00m \u001b[38;5;28;01mNone\u001b[39;00m:\n",
      "File \u001b[1;32m~\\anaconda3\\lib\\site-packages\\numpy\\lib\\histograms.py:426\u001b[0m, in \u001b[0;36m_get_bin_edges\u001b[1;34m(a, bins, range, weights)\u001b[0m\n\u001b[0;32m    423\u001b[0m     \u001b[38;5;28;01mif\u001b[39;00m n_equal_bins \u001b[38;5;241m<\u001b[39m \u001b[38;5;241m1\u001b[39m:\n\u001b[0;32m    424\u001b[0m         \u001b[38;5;28;01mraise\u001b[39;00m \u001b[38;5;167;01mValueError\u001b[39;00m(\u001b[38;5;124m'\u001b[39m\u001b[38;5;124m`bins` must be positive, when an integer\u001b[39m\u001b[38;5;124m'\u001b[39m)\n\u001b[1;32m--> 426\u001b[0m     first_edge, last_edge \u001b[38;5;241m=\u001b[39m \u001b[43m_get_outer_edges\u001b[49m\u001b[43m(\u001b[49m\u001b[43ma\u001b[49m\u001b[43m,\u001b[49m\u001b[43m \u001b[49m\u001b[38;5;28;43mrange\u001b[39;49m\u001b[43m)\u001b[49m\n\u001b[0;32m    428\u001b[0m \u001b[38;5;28;01melif\u001b[39;00m np\u001b[38;5;241m.\u001b[39mndim(bins) \u001b[38;5;241m==\u001b[39m \u001b[38;5;241m1\u001b[39m:\n\u001b[0;32m    429\u001b[0m     bin_edges \u001b[38;5;241m=\u001b[39m np\u001b[38;5;241m.\u001b[39masarray(bins)\n",
      "File \u001b[1;32m~\\anaconda3\\lib\\site-packages\\numpy\\lib\\histograms.py:323\u001b[0m, in \u001b[0;36m_get_outer_edges\u001b[1;34m(a, range)\u001b[0m\n\u001b[0;32m    321\u001b[0m     first_edge, last_edge \u001b[38;5;241m=\u001b[39m a\u001b[38;5;241m.\u001b[39mmin(), a\u001b[38;5;241m.\u001b[39mmax()\n\u001b[0;32m    322\u001b[0m     \u001b[38;5;28;01mif\u001b[39;00m \u001b[38;5;129;01mnot\u001b[39;00m (np\u001b[38;5;241m.\u001b[39misfinite(first_edge) \u001b[38;5;129;01mand\u001b[39;00m np\u001b[38;5;241m.\u001b[39misfinite(last_edge)):\n\u001b[1;32m--> 323\u001b[0m         \u001b[38;5;28;01mraise\u001b[39;00m \u001b[38;5;167;01mValueError\u001b[39;00m(\n\u001b[0;32m    324\u001b[0m             \u001b[38;5;124m\"\u001b[39m\u001b[38;5;124mautodetected range of [\u001b[39m\u001b[38;5;132;01m{}\u001b[39;00m\u001b[38;5;124m, \u001b[39m\u001b[38;5;132;01m{}\u001b[39;00m\u001b[38;5;124m] is not finite\u001b[39m\u001b[38;5;124m\"\u001b[39m\u001b[38;5;241m.\u001b[39mformat(first_edge, last_edge))\n\u001b[0;32m    326\u001b[0m \u001b[38;5;66;03m# expand empty range to avoid divide by zero\u001b[39;00m\n\u001b[0;32m    327\u001b[0m \u001b[38;5;28;01mif\u001b[39;00m first_edge \u001b[38;5;241m==\u001b[39m last_edge:\n",
      "\u001b[1;31mValueError\u001b[0m: autodetected range of [nan, nan] is not finite"
     ]
    }
   ],
   "source": [
    "values, bins = np.histogram(svd_predictor._user_features[0, :])\n",
    "plt.stairs(values, bins)\n",
    "plt.show()"
   ]
  },
  {
   "cell_type": "code",
   "execution_count": 15,
   "id": "4a9be427-4b26-4189-9eed-02e98e23056c",
   "metadata": {},
   "outputs": [
    {
     "data": {
      "text/plain": [
       "[('Noel the Mortal Fate S1-7', 2177),\n",
       " ('Mortal Kombat X', 1045),\n",
       " ('IMMORTALITY', 803),\n",
       " ('Mortal Shell', 775),\n",
       " ('鬼谷八荒 Tale of Immortal', 1936),\n",
       " ('Dark Deception: Monsters & Mortals', 856),\n",
       " ('Mortal Online 2', 1241),\n",
       " ('Mortal Kombat\\xa011', 773)]"
      ]
     },
     "execution_count": 15,
     "metadata": {},
     "output_type": "execute_result"
    }
   ],
   "source": [
    "rec_data.search_title('mortal')"
   ]
  },
  {
   "cell_type": "code",
   "execution_count": 16,
   "id": "af7c7b3d-f089-454c-8892-52d633e70b9b",
   "metadata": {},
   "outputs": [
    {
     "name": "stdout",
     "output_type": "stream",
     "text": [
      "[(5, 'NARAKA: BLADEPOINT', 1),\n",
      " (229, 'Highrise City', 1),\n",
      " (966, 'Steel Division 2', 0)]\n"
     ]
    }
   ],
   "source": [
    "# prefs = [(606, 1), (1628, 1), (391, 0), (1330, 0), (500, 0), (709, 1), (840, 0), \n",
    "#          (58, 1), (456, 1), (153, 0), (158, 0), (1160, 0), (761, 0),\n",
    "#                               (1771, 0), (544, 0), (312, 0), (277, 0)]\n",
    "prefs = [(5, 1), (229, 1), (966, 0)]\n",
    "pprint([(index, rec_data.index_to_title(index), pref) for index, pref in prefs])\n",
    "prefs = rec_data.create_prefs(prefs)    "
   ]
  },
  {
   "cell_type": "code",
   "execution_count": 17,
   "id": "2b516899-5ff8-4cbc-abc0-fd9d7a78cb5d",
   "metadata": {},
   "outputs": [
    {
     "ename": "ZeroDivisionError",
     "evalue": "division by zero",
     "output_type": "error",
     "traceback": [
      "\u001b[1;31m---------------------------------------------------------------------------\u001b[0m",
      "\u001b[1;31mZeroDivisionError\u001b[0m                         Traceback (most recent call last)",
      "Cell \u001b[1;32mIn[17], line 2\u001b[0m\n\u001b[0;32m      1\u001b[0m start_time \u001b[38;5;241m=\u001b[39m time\u001b[38;5;241m.\u001b[39mtime()\n\u001b[1;32m----> 2\u001b[0m \u001b[43msvd_predictor\u001b[49m\u001b[38;5;241;43m.\u001b[39;49m\u001b[43mpartial_fit\u001b[49m\u001b[43m(\u001b[49m\u001b[43mprefs\u001b[49m\u001b[43m,\u001b[49m\u001b[43m \u001b[49m\u001b[43mepochs\u001b[49m\u001b[38;5;241;43m=\u001b[39;49m\u001b[43mEPOCHS\u001b[49m\u001b[43m)\u001b[49m\n\u001b[0;32m      3\u001b[0m \u001b[38;5;28mprint\u001b[39m(\u001b[38;5;124m\"\u001b[39m\u001b[38;5;124mCompleted partial fit in\u001b[39m\u001b[38;5;124m\"\u001b[39m, time\u001b[38;5;241m.\u001b[39mtime() \u001b[38;5;241m-\u001b[39m start_time, \u001b[38;5;124m\"\u001b[39m\u001b[38;5;124mseconds\u001b[39m\u001b[38;5;124m\"\u001b[39m)\n",
      "File \u001b[1;32m~\\Files\\GitHub\\game-rec\\SVD.py:119\u001b[0m, in \u001b[0;36mSVDBase.partial_fit\u001b[1;34m(self, new_sample, epochs, batch_size, compute_err)\u001b[0m\n\u001b[0;32m    116\u001b[0m \u001b[38;5;66;03m# Perform update for each sample\u001b[39;00m\n\u001b[0;32m    117\u001b[0m \u001b[38;5;28;01mfor\u001b[39;00m i \u001b[38;5;129;01min\u001b[39;00m random\u001b[38;5;241m.\u001b[39msample(possible_indices , k\u001b[38;5;241m=\u001b[39m\u001b[38;5;28mlen\u001b[39m(possible_indices)):\n\u001b[0;32m    118\u001b[0m     \u001b[38;5;28mself\u001b[39m\u001b[38;5;241m.\u001b[39m_user_features, \u001b[38;5;28mself\u001b[39m\u001b[38;5;241m.\u001b[39m_item_features \u001b[38;5;241m=\u001b[39m (\n\u001b[1;32m--> 119\u001b[0m         \u001b[43mupdate_fast\u001b[49m\u001b[43m(\u001b[49m\u001b[43mi\u001b[49m\u001b[43m,\u001b[49m\u001b[43m \u001b[49m\u001b[43mtotal_users\u001b[49m\u001b[43m[\u001b[49m\u001b[43mi\u001b[49m\u001b[43m]\u001b[49m\u001b[43m,\u001b[49m\u001b[43m \u001b[49m\u001b[43mtotal_items\u001b[49m\u001b[43m[\u001b[49m\u001b[43mi\u001b[49m\u001b[43m]\u001b[49m\u001b[43m,\u001b[49m\u001b[43m \u001b[49m\u001b[38;5;28;43mself\u001b[39;49m\u001b[38;5;241;43m.\u001b[39;49m\u001b[43m_M\u001b[49m\u001b[38;5;241;43m.\u001b[39;49m\u001b[43mdata\u001b[49m\u001b[43m,\u001b[49m\u001b[43m \u001b[49m\n\u001b[0;32m    120\u001b[0m \u001b[43m                    \u001b[49m\u001b[38;5;28;43mself\u001b[39;49m\u001b[38;5;241;43m.\u001b[39;49m\u001b[43m_user_features\u001b[49m\u001b[43m,\u001b[49m\n\u001b[0;32m    121\u001b[0m \u001b[43m                    \u001b[49m\u001b[38;5;28;43mself\u001b[39;49m\u001b[38;5;241;43m.\u001b[39;49m\u001b[43m_item_features\u001b[49m\u001b[43m,\u001b[49m\n\u001b[0;32m    122\u001b[0m \u001b[43m                    \u001b[49m\u001b[38;5;28;43mself\u001b[39;49m\u001b[38;5;241;43m.\u001b[39;49m\u001b[43m_learning_rate\u001b[49m\u001b[43m,\u001b[49m\n\u001b[0;32m    123\u001b[0m \u001b[43m                    \u001b[49m\u001b[38;5;28;43mself\u001b[39;49m\u001b[38;5;241;43m.\u001b[39;49m\u001b[43m_lrate_C\u001b[49m\u001b[43m)\u001b[49m\n\u001b[0;32m    124\u001b[0m     ) \n\u001b[0;32m    126\u001b[0m \u001b[38;5;28mprint\u001b[39m(\u001b[38;5;124m\"\u001b[39m\u001b[38;5;124mEpoch\u001b[39m\u001b[38;5;124m\"\u001b[39m, epoch, end\u001b[38;5;241m=\u001b[39m\u001b[38;5;124m\"\u001b[39m\u001b[38;5;124m/\u001b[39m\u001b[38;5;124m\"\u001b[39m)\n\u001b[0;32m    127\u001b[0m \u001b[38;5;28;01mif\u001b[39;00m compute_err:\n",
      "\u001b[1;31mZeroDivisionError\u001b[0m: division by zero"
     ]
    }
   ],
   "source": [
    "start_time = time.time()\n",
    "svd_predictor.partial_fit(prefs, epochs=EPOCHS)\n",
    "print(\"Completed partial fit in\", time.time() - start_time, \"seconds\")"
   ]
  },
  {
   "cell_type": "code",
   "execution_count": null,
   "id": "4e10eed0-deb4-440a-92e8-eb12c7a96b97",
   "metadata": {},
   "outputs": [],
   "source": [
    "top_n = svd_predictor.top_n(svd_predictor._num_users - 1, 20)\n",
    "print(\"Predicted top n\")\n",
    "pprint([(r, train_data.index_to_title(index)) for r, index in top_n])"
   ]
  },
  {
   "cell_type": "code",
   "execution_count": null,
   "id": "3ed80d3c-1901-4404-a237-edea0ddc01a1",
   "metadata": {},
   "outputs": [],
   "source": []
  }
 ],
 "metadata": {
  "kernelspec": {
   "display_name": "Python 3 (ipykernel)",
   "language": "python",
   "name": "python3"
  },
  "language_info": {
   "codemirror_mode": {
    "name": "ipython",
    "version": 3
   },
   "file_extension": ".py",
   "mimetype": "text/x-python",
   "name": "python",
   "nbconvert_exporter": "python",
   "pygments_lexer": "ipython3",
   "version": "3.9.16"
  }
 },
 "nbformat": 4,
 "nbformat_minor": 5
}
