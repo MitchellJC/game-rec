{
 "cells": [
  {
   "cell_type": "code",
   "execution_count": 112,
   "id": "cfd28a59-588e-47cc-ab61-bb9e8674854a",
   "metadata": {},
   "outputs": [
    {
     "name": "stdin",
     "output_type": "stream",
     "text": [
      "Once deleted, variables cannot be recovered. Proceed (y/[n])?  y\n"
     ]
    }
   ],
   "source": [
    "%reset"
   ]
  },
  {
   "cell_type": "code",
   "execution_count": 113,
   "id": "2b35e932-407e-4160-878a-1547e900cce9",
   "metadata": {},
   "outputs": [],
   "source": [
    "import numpy as np\n",
    "from scipy.sparse import csr_array, lil_array\n",
    "import matplotlib.pyplot as plt\n",
    "import pandas as pd\n",
    "import math\n",
    "import pickle\n",
    "import time\n",
    "import datetime\n",
    "import random\n",
    "from pprint import pprint\n",
    "\n",
    "from SVD import Metrics, SVDPredictor, LogisticSVD, FastLogisticSVD\n",
    "from RecData import RecData"
   ]
  },
  {
   "cell_type": "code",
   "execution_count": 114,
   "id": "86929969-e5de-468e-b024-80cf550c6e8f",
   "metadata": {},
   "outputs": [
    {
     "name": "stdout",
     "output_type": "stream",
     "text": [
      "Shape: (1482532, 3)\n"
     ]
    },
    {
     "data": {
      "text/html": [
       "<div>\n",
       "<style scoped>\n",
       "    .dataframe tbody tr th:only-of-type {\n",
       "        vertical-align: middle;\n",
       "    }\n",
       "\n",
       "    .dataframe tbody tr th {\n",
       "        vertical-align: top;\n",
       "    }\n",
       "\n",
       "    .dataframe thead th {\n",
       "        text-align: right;\n",
       "    }\n",
       "</style>\n",
       "<table border=\"1\" class=\"dataframe\">\n",
       "  <thead>\n",
       "    <tr style=\"text-align: right;\">\n",
       "      <th></th>\n",
       "      <th>app_id</th>\n",
       "      <th>is_recommended</th>\n",
       "      <th>user_id</th>\n",
       "    </tr>\n",
       "  </thead>\n",
       "  <tbody>\n",
       "    <tr>\n",
       "      <th>279261</th>\n",
       "      <td>271590</td>\n",
       "      <td>True</td>\n",
       "      <td>2706940</td>\n",
       "    </tr>\n",
       "    <tr>\n",
       "      <th>968812</th>\n",
       "      <td>698540</td>\n",
       "      <td>True</td>\n",
       "      <td>3892918</td>\n",
       "    </tr>\n",
       "    <tr>\n",
       "      <th>965466</th>\n",
       "      <td>1085510</td>\n",
       "      <td>True</td>\n",
       "      <td>4590796</td>\n",
       "    </tr>\n",
       "    <tr>\n",
       "      <th>965540</th>\n",
       "      <td>1949960</td>\n",
       "      <td>False</td>\n",
       "      <td>3058171</td>\n",
       "    </tr>\n",
       "    <tr>\n",
       "      <th>1373726</th>\n",
       "      <td>1088850</td>\n",
       "      <td>True</td>\n",
       "      <td>2018014</td>\n",
       "    </tr>\n",
       "  </tbody>\n",
       "</table>\n",
       "</div>"
      ],
      "text/plain": [
       "          app_id  is_recommended  user_id\n",
       "279261    271590            True  2706940\n",
       "968812    698540            True  3892918\n",
       "965466   1085510            True  4590796\n",
       "965540   1949960           False  3058171\n",
       "1373726  1088850            True  2018014"
      ]
     },
     "execution_count": 114,
     "metadata": {},
     "output_type": "execute_result"
    }
   ],
   "source": [
    "# recs = pd.read_csv('data/recommendations.csv')\n",
    "recs = pd.read_csv('data/pruned.csv')\n",
    "\n",
    "# Remove old ratings\n",
    "recs = recs.sort_values(by=['date'], ascending=False)\n",
    "recs.drop_duplicates(subset= ['app_id', 'user_id'], inplace=True) \n",
    "\n",
    "USED_COLS = ['app_id', 'is_recommended', 'user_id']\n",
    "recs = recs[USED_COLS]\n",
    "\n",
    "item_data = pd.read_csv('data/games.csv')\n",
    "titles = item_data[['app_id', 'title']]\n",
    "\n",
    "print(\"Shape:\", recs.shape)\n",
    "recs.head()"
   ]
  },
  {
   "cell_type": "code",
   "execution_count": 115,
   "id": "78f0adeb-df3b-4750-b1f5-91c115d6238e",
   "metadata": {},
   "outputs": [
    {
     "name": "stdout",
     "output_type": "stream",
     "text": [
      "Creating utility matrix...\n",
      "Done utility matrix.\n",
      "Creating splits...\n",
      "First split done.\n",
      "Done creating splits in 4.539058446884155 seconds\n"
     ]
    }
   ],
   "source": [
    "random.seed(42)\n",
    "np.random.seed(42)\n",
    "\n",
    "rec_data = RecData()\n",
    "rec_data.create_from_dataframe(recs)\n",
    "rec_data.set_titles(titles)\n",
    "\n",
    "del recs\n",
    "\n",
    "start_time = time.time()\n",
    "print(\"Creating splits...\")\n",
    "train_data, test = rec_data.train_test_split(test_size=0.2)\n",
    "print(\"First split done.\")\n",
    "train_data, val = train_data.train_test_split(test_size=0.2)\n",
    "print(\"Done creating splits in\", time.time() - start_time, \"seconds\")"
   ]
  },
  {
   "cell_type": "code",
   "execution_count": 116,
   "id": "d633ed7d-64ec-4423-94e4-f8f31cf4f832",
   "metadata": {},
   "outputs": [],
   "source": [
    "# random.seed(42)\n",
    "# np.random.seed(42)\n",
    "\n",
    "# rec_data = RecData()\n",
    "# rec_data.create_from_dataframe(recs)\n",
    "# rec_data.set_titles(titles)\n",
    "\n",
    "# del recs\n",
    "\n",
    "# print(\"Creating splits...\")\n",
    "# train_data, val, test = rec_data.leave_k_out_split(k=1)\n",
    "# print(\"Done creating splits.\")"
   ]
  },
  {
   "cell_type": "code",
   "execution_count": 117,
   "id": "55f5d9d9-039c-485f-abf7-e8cc5448cedb",
   "metadata": {},
   "outputs": [],
   "source": [
    "del item_data\n",
    "del titles"
   ]
  },
  {
   "cell_type": "code",
   "execution_count": 118,
   "id": "5cb4b4a6-76ca-4200-8e02-53c6bf30ab6e",
   "metadata": {},
   "outputs": [
    {
     "name": "stdout",
     "output_type": "stream",
     "text": [
      "Epoch 0/Training error: 0.6931417827830794/Validation error: 0.6931459793074225/Time: 3.49 seconds\n",
      "Epoch 1/Training error: 0.6931367446132077/Validation error: 0.6931459769787571/Time: 3.58 seconds\n",
      "Epoch 2/Training error: 0.6931316827643351/Validation error: 0.6931459672798528/Time: 3.63 seconds\n",
      "Epoch 3/Training error: 0.693126584191733/Validation error: 0.6931459475790287/Time: 3.52 seconds\n",
      "Epoch 4/Training error: 0.6931214367708757/Validation error: 0.6931459154946147/Time: 3.5 seconds\n",
      "Epoch 5/Training error: 0.6931162270032972/Validation error: 0.6931458679019982/Time: 3.51 seconds\n",
      "Epoch 6/Training error: 0.6931109418088192/Validation error: 0.693145801801855/Time: 3.48 seconds\n",
      "Epoch 7/Training error: 0.693105566344764/Validation error: 0.6931457136529464/Time: 3.48 seconds\n",
      "Epoch 8/Training error: 0.6931000858769943/Validation error: 0.6931455994265816/Time: 3.49 seconds\n",
      "Epoch 9/Training error: 0.6930944846485969/Validation error: 0.6931454548999597/Time: 3.51 seconds\n",
      "Epoch 10/Training error: 0.6930887457989349/Validation error: 0.6931452748995176/Time: 3.49 seconds\n",
      "Epoch 11/Training error: 0.6930828513090791/Validation error: 0.6931450534943444/Time: 3.52 seconds\n",
      "Epoch 12/Training error: 0.6930767823049595/Validation error: 0.6931447846019636/Time: 3.49 seconds\n",
      "Epoch 13/Training error: 0.6930705171056569/Validation error: 0.693144460204582/Time: 3.54 seconds\n",
      "Epoch 14/Training error: 0.6930640334008888/Validation error: 0.6931440715086727/Time: 3.51 seconds\n",
      "Epoch 15/Training error: 0.6930573067320781/Validation error: 0.6931436089147046/Time: 3.5 seconds\n",
      "Epoch 16/Training error: 0.693050309669855/Validation error: 0.6931430605881485/Time: 3.49 seconds\n",
      "Epoch 17/Training error: 0.6930430128098249/Validation error: 0.6931424136691351/Time: 3.5 seconds\n",
      "Epoch 18/Training error: 0.6930353831559857/Validation error: 0.6931416525426749/Time: 3.47 seconds\n",
      "Epoch 19/Training error: 0.6930273839328167/Validation error: 0.6931407595906071/Time: 3.53 seconds\n"
     ]
    },
    {
     "data": {
      "image/png": "[encoded data removed]",
      "text/plain": [
       "<Figure size 640x480 with 1 Axes>"
      ]
     },
     "metadata": {},
     "output_type": "display_data"
    },
    {
     "name": "stdout",
     "output_type": "stream",
     "text": [
      "Test rmse 0.49999678950638005\n"
     ]
    }
   ],
   "source": [
    "EPOCHS = 20 #240\n",
    "\n",
    "random.seed(42)\n",
    "np.random.seed(42)\n",
    "\n",
    "# Fit and predict with svd\n",
    "svd_predictor = FastLogisticSVD(\n",
    "    train_data.get_num_users(), train_data.get_num_items(), 2, k=100, \n",
    "    learning_rate=0.001, C=0)\n",
    "svd_predictor.fit(train_data.get_matrix(), EPOCHS, validation_set=val, early_stop=False)\n",
    "\n",
    "# Plot error\n",
    "errors = svd_predictor.get_train_errors()\n",
    "val_errors = svd_predictor.get_val_errors()\n",
    "plt.plot(range(len(errors)), errors, label='Training error')\n",
    "plt.plot(range(len(val_errors)), val_errors, label='Test error')\n",
    "plt.xlabel('Epoch')\n",
    "plt.ylabel('Error')\n",
    "plt.title('Error vs Epoch')\n",
    "plt.legend()\n",
    "plt.show()\n",
    "\n",
    "# Compute rmse\n",
    "predictions = svd_predictor.predict_pairs([(user, item) for user, item, _ in val])\n",
    "predictions = [prediction + (val[i][2],) for i, prediction in enumerate(predictions)]\n",
    "metrics = Metrics()\n",
    "rmse = metrics.rmse(predictions)\n",
    "print(\"Test rmse\", rmse)"
   ]
  },
  {
   "cell_type": "code",
   "execution_count": 294,
   "id": "943c101b-d3af-4b57-93b9-869686587c0b",
   "metadata": {},
   "outputs": [
    {
     "name": "stdout",
     "output_type": "stream",
     "text": [
      "Epoch 0/Training error: 0.2535816581955625/Validation error: 0.4076673854244329/Time: 3.55 seconds\n",
      "Epoch 1/Training error: 0.25240810644000056/Validation error: 0.4076605676177521/Time: 3.56 seconds\n",
      "Epoch 2/Training error: 0.25123972191014476/Validation error: 0.40765923585690955/Time: 3.53 seconds\n",
      "Epoch 3/Training error: 0.25007639532235615/Validation error: 0.40766175882561945/Time: 3.58 seconds\n",
      "Epoch 4/Training error: 0.2489181371600925/Validation error: 0.40766877522805134/Time: 3.53 seconds\n",
      "Epoch 5/Training error: 0.24776489126494133/Validation error: 0.40767860168427605/Time: 3.54 seconds\n",
      "Epoch 6/Training error: 0.24661667828423686/Validation error: 0.4076935576449632/Time: 3.55 seconds\n",
      "Epoch 7/Training error: 0.24547344429952564/Validation error: 0.40771325534896885/Time: 3.53 seconds\n",
      "Epoch 8/Training error: 0.24433518057128495/Validation error: 0.40773669443911414/Time: 3.54 seconds\n",
      "Epoch 9/Training error: 0.24320182170687676/Validation error: 0.4077640966347777/Time: 3.54 seconds\n"
     ]
    }
   ],
   "source": [
    "svd_predictor.continue_fit(10, early_stop=False)"
   ]
  },
  {
   "cell_type": "code",
   "execution_count": 295,
   "id": "01ba5dcd-24cd-4b78-b882-62414ddc9266",
   "metadata": {},
   "outputs": [
    {
     "data": {
      "image/png": "[encoded data removed]",
      "text/plain": [
       "<Figure size 640x480 with 1 Axes>"
      ]
     },
     "metadata": {},
     "output_type": "display_data"
    },
    {
     "name": "stdout",
     "output_type": "stream",
     "text": [
      "Test rmse 0.35594073495938466\n"
     ]
    }
   ],
   "source": [
    "# Plot error\n",
    "errors = svd_predictor.get_train_errors()\n",
    "val_errors = svd_predictor.get_val_errors()\n",
    "plt.plot(range(len(errors)), errors, label='Training error')\n",
    "plt.plot(range(len(val_errors)), val_errors, label='Test error')\n",
    "plt.xlabel('Epoch')\n",
    "plt.ylabel('Error')\n",
    "plt.title('Error vs Epoch')\n",
    "plt.legend()\n",
    "plt.show()\n",
    "\n",
    "# Compute rmse\n",
    "predictions = svd_predictor.predict_pairs([(user, item) for user, item, _ in val])\n",
    "predictions = [prediction + (val[i][2],) for i, prediction in enumerate(predictions)]\n",
    "metrics = Metrics()\n",
    "rmse = metrics.rmse(predictions)\n",
    "print(\"Test rmse\", rmse)"
   ]
  },
  {
   "cell_type": "code",
   "execution_count": 299,
   "id": "b664f8ce-2bcf-4bc2-8e25-51fee4d447fc",
   "metadata": {},
   "outputs": [
    {
     "name": "stdout",
     "output_type": "stream",
     "text": [
      "Saving model...\n",
      "Done saving model.\n"
     ]
    }
   ],
   "source": [
    "# Ensure file exists\n",
    "model_dir = model_dir = \"saved_models/{}-{}-{}-{}-{}-{}_{}\".format(\n",
    "    *(time.localtime()[:6] + (round(rmse, 4), ))).replace(\".\", \"-\") + \".pkl\" \n",
    "file = open(model_dir, 'a')\n",
    "file.close()\n",
    "\n",
    "# Save model\n",
    "print(\"Saving model...\")\n",
    "with open(model_dir, 'wb') as file:\n",
    "    pickle.dump([rec_data, svd_predictor], file)\n",
    "print(\"Done saving model.\")"
   ]
  },
  {
   "cell_type": "code",
   "execution_count": 297,
   "id": "6ab5770d-962b-47b1-9b82-74feac83f214",
   "metadata": {},
   "outputs": [
    {
     "name": "stdout",
     "output_type": "stream",
     "text": [
      "Predicted top n:\n",
      "[(0.9998819707294742, 'Wallpaper Engine'),\n",
      " (0.9995590787694483, 'Left 4 Dead 2'),\n",
      " (0.9994935727705616, 'Divinity: Original Sin 2 - Definitive Edition'),\n",
      " (0.9994683354223289, 'Portal'),\n",
      " (0.9992953110985962, 'Half-Life: Alyx'),\n",
      " (0.9992238676640842, \"Garry's Mod\"),\n",
      " (0.9992214162308917, 'Resident Evil 2'),\n",
      " (0.9991994841586249, 'Slay the Spire'),\n",
      " (0.9990981897369617, 'Dishonored'),\n",
      " (0.9990803125428781, 'The Binding of Isaac: Rebirth'),\n",
      " (0.9990272249115129, 'Satisfactory'),\n",
      " (0.9989514454571355, 'Vampire Survivors'),\n",
      " (0.9989267441437243, 'Portal 2'),\n",
      " (0.998826499219789, 'RimWorld'),\n",
      " (0.9987650489868525, 'ULTRAKILL'),\n",
      " (0.9987639876448442, 'Resident Evil Village'),\n",
      " (0.9986522758458294, 'Factorio'),\n",
      " (0.9986490380341819, 'The Witcher® 3: Wild Hunt'),\n",
      " (0.998614903242855, 'Papers Please'),\n",
      " (0.9985244968637511, 'Terraria')]\n",
      "True top n:\n",
      "['Grand Theft Auto V',\n",
      " 'Wallpaper Engine',\n",
      " 'Counter-Strike: Global Offensive',\n",
      " 'Undertale',\n",
      " 'Sid Meier’s Civilization® VI',\n",
      " 'Golf With Your Friends',\n",
      " 'Hearts of Iron IV',\n",
      " 'Fallout: New Vegas',\n",
      " 'Death Road to Canada',\n",
      " 'Stardew Valley',\n",
      " \"Garry's Mod\",\n",
      " 'Half-Life 2',\n",
      " 'Just Cause™ 3',\n",
      " 'Among Us',\n",
      " 'Garfield Kart',\n",
      " 'Holdfast: Nations At War',\n",
      " 'Phoenix Wright: Ace Attorney Trilogy',\n",
      " 'Call of Duty®: Black Ops II',\n",
      " 'OMORI',\n",
      " 'The Jackbox Party Pack 5']\n"
     ]
    }
   ],
   "source": [
    "j = 0\n",
    "# Test top-n list for user j\n",
    "top_n = svd_predictor.top_n(j, 20)\n",
    "print(\"Predicted top n:\")\n",
    "pprint([(r, train_data.index_to_title(index)) for r, index in top_n])\n",
    "\n",
    "# User j true top n list\n",
    "print(\"True top n:\")\n",
    "true_top = rec_data.top_n(j, 5000)\n",
    "pprint([rec_data.index_to_title(index) for _, index in true_top])"
   ]
  },
  {
   "cell_type": "code",
   "execution_count": 298,
   "id": "8f39bc02-a788-46a0-8f11-156cade2be99",
   "metadata": {},
   "outputs": [
    {
     "data": {
      "image/png": "[encoded data removed]",
      "text/plain": [
       "<Figure size 640x480 with 1 Axes>"
      ]
     },
     "metadata": {},
     "output_type": "display_data"
    }
   ],
   "source": [
    "values, bins = np.histogram(svd_predictor._user_features[0, :])\n",
    "plt.stairs(values, bins)\n",
    "plt.show()"
   ]
  },
  {
   "cell_type": "code",
   "execution_count": 303,
   "id": "4a9be427-4b26-4189-9eed-02e98e23056c",
   "metadata": {},
   "outputs": [
    {
     "data": {
      "text/plain": [
       "[('The Sims™ 4', 59), ('The Sims™ 3', 342)]"
      ]
     },
     "execution_count": 303,
     "metadata": {},
     "output_type": "execute_result"
    }
   ],
   "source": [
    "rec_data.search_title('sims')"
   ]
  },
  {
   "cell_type": "code",
   "execution_count": 304,
   "id": "af7c7b3d-f089-454c-8892-52d633e70b9b",
   "metadata": {},
   "outputs": [
    {
     "name": "stdout",
     "output_type": "stream",
     "text": [
      "[(1045, 'Mortal Kombat X', 0), (59, 'The Sims™ 4', 1), (342, 'The Sims™ 3', 1)]\n"
     ]
    }
   ],
   "source": [
    "prefs = [(1045, 0), (59, 1), (342, 1)]\n",
    "# prefs = [(5, 1), (229, 1), (966, 0)]\n",
    "pprint([(index, rec_data.index_to_title(index), pref) for index, pref in prefs])\n",
    "prefs = rec_data.create_prefs(prefs)    "
   ]
  },
  {
   "cell_type": "code",
   "execution_count": 305,
   "id": "2b516899-5ff8-4cbc-abc0-fd9d7a78cb5d",
   "metadata": {},
   "outputs": [
    {
     "name": "stdout",
     "output_type": "stream",
     "text": [
      "Epoch 0/Time: 2.78 seconds\n",
      "Epoch 1/Time: 2.78 seconds\n",
      "Epoch 2/Time: 2.78 seconds\n",
      "Epoch 3/Time: 2.79 seconds\n",
      "Epoch 4/Time: 2.79 seconds\n",
      "Epoch 5/Time: 2.83 seconds\n",
      "Epoch 6/Time: 2.82 seconds\n",
      "Epoch 7/Time: 2.79 seconds\n",
      "Epoch 8/Time: 2.79 seconds\n",
      "Epoch 9/Time: 3.25 seconds\n",
      "Epoch 10/Time: 3.02 seconds\n",
      "Epoch 11/Time: 2.94 seconds\n",
      "Epoch 12/Time: 2.84 seconds\n",
      "Epoch 13/Time: 2.83 seconds\n",
      "Epoch 14/Time: 2.83 seconds\n",
      "Epoch 15/Time: 2.83 seconds\n",
      "Epoch 16/Time: 2.85 seconds\n",
      "Epoch 17/Time: 2.84 seconds\n",
      "Epoch 18/Time: 2.86 seconds\n",
      "Epoch 19/Time: 2.81 seconds\n",
      "Completed partial fit in 58.161810636520386 seconds\n"
     ]
    }
   ],
   "source": [
    "start_time = time.time()\n",
    "svd_predictor.partial_fit(prefs, epochs=EPOCHS)\n",
    "print(\"Completed partial fit in\", time.time() - start_time, \"seconds\")"
   ]
  },
  {
   "cell_type": "code",
   "execution_count": 306,
   "id": "4e10eed0-deb4-440a-92e8-eb12c7a96b97",
   "metadata": {},
   "outputs": [
    {
     "name": "stdout",
     "output_type": "stream",
     "text": [
      "Predicted top n\n",
      "[(0.6255425448245089, 'Fallout 4'),\n",
      " (0.5949545797820359, \"No Man's Sky\"),\n",
      " (0.5762997469003915, 'Just Cause™ 3'),\n",
      " (0.5732127184248318, 'Wallpaper Engine'),\n",
      " (0.5721954095739206, 'Killing Floor 2'),\n",
      " (0.5683118255318348, 'Borderlands 3'),\n",
      " (0.5660601587888737, 'Rust'),\n",
      " (0.5589130697537803, 'Left 4 Dead 2'),\n",
      " (0.5576191196346886, 'Far Cry® 5'),\n",
      " (0.5553638694761791, 'Factorio'),\n",
      " (0.5549266431104046, \"Garry's Mod\"),\n",
      " (0.5538170737907843, 'Fallout 76'),\n",
      " (0.5536022498084484, 'Resident Evil 2'),\n",
      " (0.5526554432332553, 'Portal 2'),\n",
      " (0.5512152299977823, 'Portal'),\n",
      " (0.5508887634117217, 'Resident Evil Village'),\n",
      " (0.550689430205356, 'Risk of Rain 2'),\n",
      " (0.5504087964946794, 'Remnant: From the Ashes'),\n",
      " (0.5498160712366424, 'The Elder Scrolls® Online'),\n",
      " (0.5483481067192361, 'METAL GEAR RISING: REVENGEANCE')]\n"
     ]
    }
   ],
   "source": [
    "top_n = svd_predictor.top_n(svd_predictor._num_users - 1, 20)\n",
    "print(\"Predicted top n\")\n",
    "pprint([(r, train_data.index_to_title(index)) for r, index in top_n])"
   ]
  },
  {
   "cell_type": "code",
   "execution_count": null,
   "id": "3ed80d3c-1901-4404-a237-edea0ddc01a1",
   "metadata": {},
   "outputs": [],
   "source": []
  }
 ],
 "metadata": {
  "kernelspec": {
   "display_name": "Python 3 (ipykernel)",
   "language": "python",
   "name": "python3"
  },
  "language_info": {
   "codemirror_mode": {
    "name": "ipython",
    "version": 3
   },
   "file_extension": ".py",
   "mimetype": "text/x-python",
   "name": "python",
   "nbconvert_exporter": "python",
   "pygments_lexer": "ipython3",
   "version": "3.9.16"
  }
 },
 "nbformat": 4,
 "nbformat_minor": 5
}
