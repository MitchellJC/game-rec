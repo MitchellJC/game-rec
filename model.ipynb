{
 "cells": [
  {
   "cell_type": "markdown",
   "id": "a8554b74-824d-4dd9-9159-38c6fc305828",
   "metadata": {},
   "source": [
    "# Modelling"
   ]
  },
  {
   "cell_type": "code",
   "execution_count": 19,
   "id": "cfd28a59-588e-47cc-ab61-bb9e8674854a",
   "metadata": {},
   "outputs": [
    {
     "name": "stdin",
     "output_type": "stream",
     "text": [
      "Once deleted, variables cannot be recovered. Proceed (y/[n])?  y\n"
     ]
    }
   ],
   "source": [
    "%reset"
   ]
  },
  {
   "cell_type": "code",
   "execution_count": 44,
   "id": "2b35e932-407e-4160-878a-1547e900cce9",
   "metadata": {},
   "outputs": [],
   "source": [
    "import numpy as np\n",
    "from scipy.sparse import csr_array, lil_array\n",
    "import matplotlib.pyplot as plt\n",
    "import pandas as pd\n",
    "import math\n",
    "import pickle\n",
    "import time\n",
    "import datetime\n",
    "import random\n",
    "from pprint import pprint\n",
    "from lightgbm import LGBMRanker\n",
    "from sklearn.model_selection import train_test_split\n",
    "\n",
    "from SVD import Metrics, RatingSVD, LogisticSVD\n",
    "from RecData import RecData"
   ]
  },
  {
   "cell_type": "markdown",
   "id": "5e68c45e-13f9-4979-b916-34cec1db601d",
   "metadata": {},
   "source": [
    "## Data Preprocessing"
   ]
  },
  {
   "cell_type": "code",
   "execution_count": 45,
   "id": "86929969-e5de-468e-b024-80cf550c6e8f",
   "metadata": {},
   "outputs": [
    {
     "name": "stdout",
     "output_type": "stream",
     "text": [
      "Shape: (1482532, 3)\n"
     ]
    },
    {
     "data": {
      "text/html": [
       "<div>\n",
       "<style scoped>\n",
       "    .dataframe tbody tr th:only-of-type {\n",
       "        vertical-align: middle;\n",
       "    }\n",
       "\n",
       "    .dataframe tbody tr th {\n",
       "        vertical-align: top;\n",
       "    }\n",
       "\n",
       "    .dataframe thead th {\n",
       "        text-align: right;\n",
       "    }\n",
       "</style>\n",
       "<table border=\"1\" class=\"dataframe\">\n",
       "  <thead>\n",
       "    <tr style=\"text-align: right;\">\n",
       "      <th></th>\n",
       "      <th>app_id</th>\n",
       "      <th>is_recommended</th>\n",
       "      <th>user_id</th>\n",
       "    </tr>\n",
       "  </thead>\n",
       "  <tbody>\n",
       "    <tr>\n",
       "      <th>629351</th>\n",
       "      <td>12210</td>\n",
       "      <td>True</td>\n",
       "      <td>240</td>\n",
       "    </tr>\n",
       "    <tr>\n",
       "      <th>116928</th>\n",
       "      <td>22380</td>\n",
       "      <td>True</td>\n",
       "      <td>240</td>\n",
       "    </tr>\n",
       "    <tr>\n",
       "      <th>1418125</th>\n",
       "      <td>239140</td>\n",
       "      <td>True</td>\n",
       "      <td>240</td>\n",
       "    </tr>\n",
       "    <tr>\n",
       "      <th>236273</th>\n",
       "      <td>251570</td>\n",
       "      <td>True</td>\n",
       "      <td>240</td>\n",
       "    </tr>\n",
       "    <tr>\n",
       "      <th>87206</th>\n",
       "      <td>270880</td>\n",
       "      <td>True</td>\n",
       "      <td>240</td>\n",
       "    </tr>\n",
       "  </tbody>\n",
       "</table>\n",
       "</div>"
      ],
      "text/plain": [
       "         app_id  is_recommended  user_id\n",
       "629351    12210            True      240\n",
       "116928    22380            True      240\n",
       "1418125  239140            True      240\n",
       "236273   251570            True      240\n",
       "87206    270880            True      240"
      ]
     },
     "execution_count": 45,
     "metadata": {},
     "output_type": "execute_result"
    }
   ],
   "source": [
    "# recs = pd.read_csv('data/recommendations.csv')\n",
    "recs = pd.read_csv('data/pruned.csv')\n",
    "# recs = pd.read_csv('data/2plus.csv')\n",
    "\n",
    "# Remove old ratings\n",
    "recs = recs.sort_values(by=['date'], ascending=False)\n",
    "recs.drop_duplicates(subset= ['app_id', 'user_id'], inplace=True) \n",
    "\n",
    "USED_COLS = ['app_id', 'is_recommended', 'user_id']\n",
    "recs = recs[USED_COLS]\n",
    "\n",
    "item_data = pd.read_csv('data/games.csv')\n",
    "titles = item_data[['app_id', 'title']]\n",
    "\n",
    "print(\"Shape:\", recs.shape)\n",
    "recs.sort_values(by=['user_id', 'app_id']).head()"
   ]
  },
  {
   "cell_type": "code",
   "execution_count": 46,
   "id": "78f0adeb-df3b-4750-b1f5-91c115d6238e",
   "metadata": {},
   "outputs": [],
   "source": [
    "# random.seed(42)\n",
    "# np.random.seed(42)\n",
    "\n",
    "# rec_data = RecData()\n",
    "# rec_data.create_from_dataframe(recs)\n",
    "# rec_data.set_titles(titles)\n",
    "\n",
    "# # del recs\n",
    "\n",
    "# start_time = time.time()\n",
    "# print(\"Creating splits...\")\n",
    "# train_data, test = rec_data.train_test_split(test_size=0.2)\n",
    "# print(\"First split done.\")\n",
    "# train_data, val = train_data.train_test_split(test_size=0.2)\n",
    "# print(\"Done creating splits in\", time.time() - start_time, \"seconds\")"
   ]
  },
  {
   "cell_type": "code",
   "execution_count": 47,
   "id": "41d0fdf6-2dff-4196-b2ad-a7f4c4de981c",
   "metadata": {
    "tags": []
   },
   "outputs": [
    {
     "name": "stdout",
     "output_type": "stream",
     "text": [
      "Creating utility matrix...\n",
      "Done utility matrix.\n",
      "Creating splits...\n",
      "Done user 1 / 63175\n",
      "Done user 10001 / 63175\n",
      "Done user 20001 / 63175\n",
      "Done user 30001 / 63175\n",
      "Done user 40001 / 63175\n",
      "Done user 50001 / 63175\n",
      "Done user 60001 / 63175\n",
      "Done creating splits.\n"
     ]
    }
   ],
   "source": [
    "random.seed(42)\n",
    "np.random.seed(42)\n",
    "rec_data = RecData()\n",
    "rec_data.create_from_dataframe(recs)\n",
    "rec_data.set_titles(titles)\n",
    "\n",
    "# del recs\n",
    "\n",
    "print(\"Creating splits...\")\n",
    "train_data, val = rec_data.leave_k_out_split(k=1, create_val=False)\n",
    "print(\"Done creating splits.\")"
   ]
  },
  {
   "cell_type": "code",
   "execution_count": 48,
   "id": "55f5d9d9-039c-485f-abf7-e8cc5448cedb",
   "metadata": {},
   "outputs": [],
   "source": [
    "del rec_data\n",
    "del item_data\n",
    "del titles"
   ]
  },
  {
   "cell_type": "markdown",
   "id": "6210ec68-3810-4694-9a42-956ba7be0b73",
   "metadata": {},
   "source": [
    "## Ranker"
   ]
  },
  {
   "cell_type": "markdown",
   "id": "ac596ab5-0048-4b3f-8d50-e3405644f8f8",
   "metadata": {},
   "source": [
    "This was used as a postprocessing step after using item-knn for candidate generation. Was not able to get good results."
   ]
  },
  {
   "cell_type": "code",
   "execution_count": 49,
   "id": "272d92ab-e737-4b6b-b27c-65ec71047b29",
   "metadata": {},
   "outputs": [],
   "source": [
    "# train = train_data.generate_dataframe()\n",
    "# X_train = train[['app_id', 'user_id']]\n",
    "# y_train = train['is_recommended'].to_numpy()\n",
    "\n",
    "# X_train = X_train.sort_values(by='user_id')\n",
    "# counts = X_train['user_id'].value_counts(sort=False)\n",
    "# X_train = X_train[['app_id']]"
   ]
  },
  {
   "cell_type": "code",
   "execution_count": 50,
   "id": "f460d47b-e26d-4fe3-80e3-38af037c4c1d",
   "metadata": {},
   "outputs": [],
   "source": [
    "# ranker = LGBMRanker(n_estimators=300, random_state=42, objective='lambdarank')\n",
    "# ranker = ranker.fit(X_train, y_train, group = counts.values, categorical_feature=['app_id'],\n",
    "#                     eval_set=[(X_train, y_train)], eval_group=[counts.values], \n",
    "#                     eval_at=20)"
   ]
  },
  {
   "cell_type": "markdown",
   "id": "19eabdaf-e7ae-406f-adfa-73217bd74e25",
   "metadata": {},
   "source": [
    "## Training SVD"
   ]
  },
  {
   "cell_type": "code",
   "execution_count": 51,
   "id": "5cb4b4a6-76ca-4200-8e02-53c6bf30ab6e",
   "metadata": {},
   "outputs": [
    {
     "name": "stdout",
     "output_type": "stream",
     "text": [
      "Epoch 0/Training loss: 0.4487495294647828/Validation loss: 0.4500651174940296/Time: 6.47 seconds\n",
      "Epoch 1/Training loss: 0.43180330958383484/Validation loss: 0.4357015936842853/Time: 6.73 seconds\n",
      "Epoch 2/Training loss: 0.42195182539089593/Validation loss: 0.4279007370303981/Time: 6.72 seconds\n",
      "Epoch 3/Training loss: 0.4143795406999648/Validation loss: 0.42217743465772584/Time: 6.57 seconds\n",
      "Epoch 4/Training loss: 0.40807110752655584/Validation loss: 0.4173242630149245/Time: 6.74 seconds\n",
      "Epoch 5/Training loss: 0.40259475754258256/Validation loss: 0.41310224055989736/Time: 6.6 seconds\n",
      "Epoch 6/Training loss: 0.3977890788168256/Validation loss: 0.40945792013031096/Time: 6.66 seconds\n",
      "Epoch 7/Training loss: 0.393452379749008/Validation loss: 0.4062639892188958/Time: 6.76 seconds\n",
      "Epoch 8/Training loss: 0.3894850072070223/Validation loss: 0.4031450036223637/Time: 6.69 seconds\n",
      "Epoch 9/Training loss: 0.38591737410425414/Validation loss: 0.4004552161681068/Time: 6.67 seconds\n",
      "Epoch 10/Training loss: 0.3826381595402984/Validation loss: 0.3979247019253356/Time: 6.73 seconds\n",
      "Epoch 11/Training loss: 0.37962744391121583/Validation loss: 0.3956490050626961/Time: 6.64 seconds\n",
      "Epoch 12/Training loss: 0.3768660486328556/Validation loss: 0.39357294268806575/Time: 6.66 seconds\n",
      "Epoch 13/Training loss: 0.37426652395967996/Validation loss: 0.39159613827825523/Time: 6.79 seconds\n",
      "Epoch 14/Training loss: 0.37190784223037265/Validation loss: 0.38985082782438485/Time: 6.72 seconds\n",
      "Epoch 15/Training loss: 0.3696650526815195/Validation loss: 0.38811078394167037/Time: 6.65 seconds\n",
      "Epoch 16/Training loss: 0.36759692996267446/Validation loss: 0.3866635248004493/Time: 6.7 seconds\n",
      "Epoch 17/Training loss: 0.3656747728226734/Validation loss: 0.3852651024867483/Time: 6.68 seconds\n",
      "Epoch 18/Training loss: 0.3638699332257323/Validation loss: 0.3838685822525138/Time: 6.73 seconds\n",
      "Epoch 19/Training loss: 0.36214893077145316/Validation loss: 0.3825989091514159/Time: 6.83 seconds\n",
      "Epoch 20/Training loss: 0.36057063082969637/Validation loss: 0.381640780838915/Time: 6.57 seconds\n",
      "Epoch 21/Training loss: 0.35905905845804154/Validation loss: 0.3805492002424595/Time: 6.67 seconds\n",
      "Epoch 22/Training loss: 0.35763907692593466/Validation loss: 0.3795144028624829/Time: 6.7 seconds\n",
      "Epoch 23/Training loss: 0.35630648866012904/Validation loss: 0.37861794864016185/Time: 6.69 seconds\n",
      "Epoch 24/Training loss: 0.355004135526988/Validation loss: 0.37773073192398704/Time: 6.62 seconds\n",
      "Epoch 25/Training loss: 0.35378607214769353/Validation loss: 0.37691110487896656/Time: 6.76 seconds\n",
      "Epoch 26/Training loss: 0.3526518007873239/Validation loss: 0.3762917740388015/Time: 6.58 seconds\n",
      "Epoch 27/Training loss: 0.35154181160693104/Validation loss: 0.3755158612817738/Time: 6.57 seconds\n",
      "Epoch 28/Training loss: 0.3504672982297693/Validation loss: 0.3748960218572986/Time: 6.73 seconds\n",
      "Epoch 29/Training loss: 0.3494661833435456/Validation loss: 0.3743315145625308/Time: 6.87 seconds\n",
      "Epoch 30/Training loss: 0.3484974390525388/Validation loss: 0.3738622364162677/Time: 6.47 seconds\n",
      "Epoch 31/Training loss: 0.34752585958135274/Validation loss: 0.37318453833422366/Time: 6.56 seconds\n",
      "Epoch 32/Training loss: 0.3466164308180401/Validation loss: 0.3727282618594134/Time: 6.66 seconds\n",
      "Epoch 33/Training loss: 0.3457241074675307/Validation loss: 0.37229131007546973/Time: 6.7 seconds\n",
      "Epoch 34/Training loss: 0.3448446130192261/Validation loss: 0.37177707530679094/Time: 6.5 seconds\n",
      "Epoch 35/Training loss: 0.3439940763499286/Validation loss: 0.37146514032635136/Time: 6.57 seconds\n",
      "Epoch 36/Training loss: 0.3431091593776062/Validation loss: 0.37114439713843356/Time: 6.55 seconds\n",
      "Epoch 37/Training loss: 0.34228587101134844/Validation loss: 0.370860297834535/Time: 6.86 seconds\n",
      "Epoch 38/Training loss: 0.34143623324671285/Validation loss: 0.37038897803598414/Time: 6.7 seconds\n",
      "Epoch 39/Training loss: 0.340579052024505/Validation loss: 0.3701682347220625/Time: 6.52 seconds\n",
      "Epoch 40/Training loss: 0.3396852200295271/Validation loss: 0.3698126334348427/Time: 6.66 seconds\n",
      "Epoch 41/Training loss: 0.33880926919828425/Validation loss: 0.36950957793985884/Time: 6.72 seconds\n",
      "Epoch 42/Training loss: 0.337934582615047/Validation loss: 0.36939599648930144/Time: 6.54 seconds\n",
      "Epoch 43/Training loss: 0.33697221824798773/Validation loss: 0.36904555637555375/Time: 6.73 seconds\n",
      "Epoch 44/Training loss: 0.3360032251827952/Validation loss: 0.3688209955251917/Time: 6.58 seconds\n",
      "Epoch 45/Training loss: 0.33498875814121853/Validation loss: 0.3686867873294251/Time: 6.54 seconds\n",
      "Epoch 46/Training loss: 0.3339538725780602/Validation loss: 0.36848932257682965/Time: 6.77 seconds\n",
      "Epoch 47/Training loss: 0.33284718520921575/Validation loss: 0.3682264181581208/Time: 6.78 seconds\n",
      "Epoch 48/Training loss: 0.3316407281248637/Validation loss: 0.36806676181460396/Time: 6.63 seconds\n",
      "Epoch 49/Training loss: 0.3304107076192559/Validation loss: 0.3679993636617977/Time: 6.69 seconds\n",
      "Epoch 50/Training loss: 0.3290881100878599/Validation loss: 0.36766923082694736/Time: 6.65 seconds\n",
      "Epoch 51/Training loss: 0.32769007675975836/Validation loss: 0.36762484595062556/Time: 6.72 seconds\n",
      "Epoch 52/Training loss: 0.32623430314853885/Validation loss: 0.3673472809390946/Time: 6.54 seconds\n",
      "Epoch 53/Training loss: 0.3246386941747243/Validation loss: 0.36734344542692465/Time: 6.5 seconds\n",
      "Epoch 54/Training loss: 0.3229935854391863/Validation loss: 0.36714168539583103/Time: 6.57 seconds\n",
      "Epoch 55/Training loss: 0.32124148571578043/Validation loss: 0.3672803745375143/Time: 6.52 seconds\n",
      "Epoch 56/Training loss: 0.31935905794179303/Validation loss: 0.366883452467294/Time: 6.56 seconds\n",
      "Epoch 57/Training loss: 0.3173891997156042/Validation loss: 0.36683153104039523/Time: 6.61 seconds\n",
      "Epoch 58/Training loss: 0.31534922644238217/Validation loss: 0.3668007761363609/Time: 6.43 seconds\n",
      "Epoch 59/Training loss: 0.31318910866242294/Validation loss: 0.3666562104046563/Time: 6.63 seconds\n",
      "Epoch 60/Training loss: 0.310934491038243/Validation loss: 0.36649183715226796/Time: 6.39 seconds\n",
      "Epoch 61/Training loss: 0.3086027430040344/Validation loss: 0.3664934431632811/Time: 6.61 seconds\n",
      "Epoch 62/Training loss: 0.3061823251443001/Validation loss: 0.3663501823379409/Time: 6.46 seconds\n",
      "Epoch 63/Training loss: 0.30365539689560095/Validation loss: 0.36634431471336487/Time: 6.55 seconds\n",
      "Epoch 64/Training loss: 0.3010878441745154/Validation loss: 0.36628890463447633/Time: 6.72 seconds\n",
      "Epoch 65/Training loss: 0.29839863091954105/Validation loss: 0.36618079187170915/Time: 6.71 seconds\n",
      "Epoch 66/Training loss: 0.2957198747979209/Validation loss: 0.3661558761884343/Time: 6.92 seconds\n",
      "Epoch 67/Training loss: 0.29294039595095783/Validation loss: 0.3661706054324076/Time: 6.78 seconds\n",
      "Epoch 68/Training loss: 0.2901170697092323/Validation loss: 0.3662000892237118/Time: 6.65 seconds\n",
      "Epoch 69/Training loss: 0.2872334364626158/Validation loss: 0.3660336821496122/Time: 6.59 seconds\n",
      "Epoch 70/Training loss: 0.28433201799265634/Validation loss: 0.3660426553970474/Time: 6.54 seconds\n",
      "Epoch 71/Training loss: 0.2813900702397608/Validation loss: 0.3660159817899922/Time: 6.78 seconds\n",
      "Epoch 72/Training loss: 0.27841887087646944/Validation loss: 0.366154755309313/Time: 6.66 seconds\n",
      "Epoch 73/Training loss: 0.27546529827889404/Validation loss: 0.3661130871057611/Time: 6.77 seconds\n",
      "Epoch 74/Training loss: 0.27246802250726404/Validation loss: 0.3661658192868336/Time: 6.62 seconds\n",
      "Epoch 75/Training loss: 0.26947857736529646/Validation loss: 0.3662584488413705/Time: 6.82 seconds\n",
      "Epoch 76/Training loss: 0.26642102411849317/Validation loss: 0.36628604714799073/Time: 6.53 seconds\n",
      "Epoch 77/Training loss: 0.26348309480610854/Validation loss: 0.36624538276032953/Time: 6.61 seconds\n",
      "Epoch 78/Training loss: 0.26046679401960343/Validation loss: 0.3664161141917173/Time: 6.59 seconds\n",
      "Epoch 79/Training loss: 0.25742840210736684/Validation loss: 0.366396740347177/Time: 6.55 seconds\n",
      "Epoch 80/Training loss: 0.25446671567560203/Validation loss: 0.36643493691271145/Time: 6.5 seconds\n",
      "Epoch 81/Training loss: 0.25153806762015557/Validation loss: 0.3666103123320762/Time: 6.56 seconds\n",
      "Epoch 82/Training loss: 0.2485936491676969/Validation loss: 0.36658061517203927/Time: 6.63 seconds\n",
      "Epoch 83/Training loss: 0.24566377368242345/Validation loss: 0.3667686387983304/Time: 6.84 seconds\n",
      "Epoch 84/Training loss: 0.24278049634832505/Validation loss: 0.36679043098826486/Time: 6.45 seconds\n",
      "Epoch 85/Training loss: 0.23990164724178384/Validation loss: 0.367054642427017/Time: 6.56 seconds\n",
      "Epoch 86/Training loss: 0.23702594629089774/Validation loss: 0.36705909975385903/Time: 6.43 seconds\n",
      "Epoch 87/Training loss: 0.2342417725725952/Validation loss: 0.3672646582072705/Time: 6.8 seconds\n",
      "Epoch 88/Training loss: 0.23141639131912498/Validation loss: 0.36737911061027545/Time: 6.58 seconds\n",
      "Epoch 89/Training loss: 0.22870907035868687/Validation loss: 0.36754428386485366/Time: 6.45 seconds\n",
      "Epoch 90/Training loss: 0.2259681094259024/Validation loss: 0.36771502606028517/Time: 6.6 seconds\n",
      "Epoch 91/Training loss: 0.2231892998516915/Validation loss: 0.36789826147963095/Time: 6.52 seconds\n",
      "Epoch 92/Training loss: 0.22053494699088208/Validation loss: 0.3679966377091352/Time: 6.56 seconds\n",
      "Epoch 93/Training loss: 0.21791476581518285/Validation loss: 0.3682075054457463/Time: 6.65 seconds\n",
      "Epoch 94/Training loss: 0.21528314673209475/Validation loss: 0.3683248984175414/Time: 6.54 seconds\n",
      "Epoch 95/Training loss: 0.21273002057704726/Validation loss: 0.36852819204878984/Time: 6.62 seconds\n",
      "Epoch 96/Training loss: 0.21019339402574672/Validation loss: 0.36870604474453944/Time: 6.77 seconds\n",
      "Epoch 97/Training loss: 0.20768419242198036/Validation loss: 0.36897488382264343/Time: 6.62 seconds\n",
      "Epoch 98/Training loss: 0.20526783436981633/Validation loss: 0.3691089538085296/Time: 6.55 seconds\n",
      "Epoch 99/Training loss: 0.20289879041955491/Validation loss: 0.3693483787414557/Time: 6.61 seconds\n",
      "Epoch 100/Training loss: 0.20041752902768487/Validation loss: 0.3695013388911513/Time: 6.87 seconds\n",
      "Epoch 101/Training loss: 0.19808445029121072/Validation loss: 0.36973892612037923/Time: 6.6 seconds\n",
      "Epoch 102/Training loss: 0.19585624545254754/Validation loss: 0.3699127372193657/Time: 6.62 seconds\n",
      "Epoch 103/Training loss: 0.1936407708859947/Validation loss: 0.37012591166695585/Time: 6.57 seconds\n",
      "Epoch 104/Training loss: 0.1913863647556645/Validation loss: 0.37028649844599076/Time: 6.65 seconds\n",
      "Epoch 105/Training loss: 0.1891855549406864/Validation loss: 0.37060419299739544/Time: 6.82 seconds\n",
      "Epoch 106/Training loss: 0.18708558576912815/Validation loss: 0.3708742131579243/Time: 6.56 seconds\n",
      "Epoch 107/Training loss: 0.18490355556550267/Validation loss: 0.37089868065756304/Time: 6.61 seconds\n",
      "Epoch 108/Training loss: 0.18291816623704024/Validation loss: 0.37121148129940296/Time: 6.81 seconds\n",
      "Epoch 109/Training loss: 0.1808712021426222/Validation loss: 0.3714326251678138/Time: 6.72 seconds\n",
      "Epoch 110/Training loss: 0.17885079781226013/Validation loss: 0.3715999859434392/Time: 6.59 seconds\n",
      "Epoch 111/Training loss: 0.17694574148815662/Validation loss: 0.37184454270854006/Time: 6.64 seconds\n",
      "Epoch 112/Training loss: 0.17499667634915053/Validation loss: 0.372109612326453/Time: 6.61 seconds\n",
      "Epoch 113/Training loss: 0.17318956816593023/Validation loss: 0.3723856357137303/Time: 6.65 seconds\n",
      "Epoch 114/Training loss: 0.1712951659647162/Validation loss: 0.3726047510104433/Time: 6.77 seconds\n",
      "Epoch 115/Training loss: 0.16950842065988972/Validation loss: 0.37285607866420034/Time: 6.58 seconds\n",
      "Epoch 116/Training loss: 0.16773649715496178/Validation loss: 0.3730258457321809/Time: 6.47 seconds\n",
      "Epoch 117/Training loss: 0.16598059911480806/Validation loss: 0.3732098898042986/Time: 6.9 seconds\n",
      "Epoch 118/Training loss: 0.16431185577841037/Validation loss: 0.37355852793453503/Time: 6.43 seconds\n",
      "Epoch 119/Training loss: 0.16266836813433355/Validation loss: 0.37381281241300035/Time: 6.43 seconds\n",
      "Epoch 120/Training loss: 0.1610352557135308/Validation loss: 0.37395149166105585/Time: 6.52 seconds\n",
      "Epoch 121/Training loss: 0.15942994108820527/Validation loss: 0.37420395536196666/Time: 6.5 seconds\n",
      "Epoch 122/Training loss: 0.15786552132601664/Validation loss: 0.37437252194930615/Time: 6.28 seconds\n",
      "Epoch 123/Training loss: 0.15625277587943356/Validation loss: 0.3746426939066182/Time: 6.45 seconds\n",
      "Epoch 124/Training loss: 0.1548708825915927/Validation loss: 0.37490471559151617/Time: 6.4 seconds\n",
      "Epoch 125/Training loss: 0.15334392481350845/Validation loss: 0.3751059844879057/Time: 6.27 seconds\n",
      "Epoch 126/Training loss: 0.1518878941578105/Validation loss: 0.375325037891559/Time: 6.37 seconds\n",
      "Epoch 127/Training loss: 0.1504552152739108/Validation loss: 0.37553439485155204/Time: 6.47 seconds\n",
      "Epoch 128/Training loss: 0.1491155130047687/Validation loss: 0.3757810229467831/Time: 7.34 seconds\n",
      "Epoch 129/Training loss: 0.14776059657164084/Validation loss: 0.3760769770966811/Time: 7.06 seconds\n",
      "Epoch 130/Training loss: 0.14639651232088138/Validation loss: 0.37626750686129085/Time: 6.58 seconds\n",
      "Epoch 131/Training loss: 0.14511616020307622/Validation loss: 0.3764668205821945/Time: 6.32 seconds\n",
      "Epoch 132/Training loss: 0.14379724973189234/Validation loss: 0.37677813938954924/Time: 6.51 seconds\n",
      "Epoch 133/Training loss: 0.14264007732313477/Validation loss: 0.3769156037201924/Time: 6.51 seconds\n",
      "Epoch 134/Training loss: 0.1414022798416637/Validation loss: 0.3771787017829211/Time: 6.72 seconds\n",
      "Epoch 135/Training loss: 0.14015281565060567/Validation loss: 0.37742106337612574/Time: 6.63 seconds\n",
      "Epoch 136/Training loss: 0.13894573617673503/Validation loss: 0.37765276330037345/Time: 6.49 seconds\n",
      "Epoch 137/Training loss: 0.13792194599129914/Validation loss: 0.3779897410295698/Time: 6.5 seconds\n",
      "Epoch 138/Training loss: 0.13674048700643268/Validation loss: 0.3780901407776775/Time: 6.37 seconds\n",
      "Epoch 139/Training loss: 0.13555782945881073/Validation loss: 0.37826470612451063/Time: 6.39 seconds\n",
      "Epoch 140/Training loss: 0.13454302782649413/Validation loss: 0.37853023934445273/Time: 6.5 seconds\n",
      "Epoch 141/Training loss: 0.13351226106743974/Validation loss: 0.37870530898685756/Time: 6.26 seconds\n",
      "Epoch 142/Training loss: 0.1325219668468661/Validation loss: 0.37899447705816575/Time: 6.42 seconds\n",
      "Epoch 143/Training loss: 0.13141995732341688/Validation loss: 0.37911346648392025/Time: 6.48 seconds\n",
      "Epoch 144/Training loss: 0.13044391214352796/Validation loss: 0.37939742871842197/Time: 6.33 seconds\n",
      "Epoch 145/Training loss: 0.12951828583400202/Validation loss: 0.3796478927859838/Time: 6.5 seconds\n",
      "Epoch 146/Training loss: 0.1285125235493378/Validation loss: 0.3798149523731197/Time: 6.5 seconds\n",
      "Epoch 147/Training loss: 0.12758064123654475/Validation loss: 0.37994975096645267/Time: 6.53 seconds\n",
      "Epoch 148/Training loss: 0.12665912826458683/Validation loss: 0.3802918140876614/Time: 7.15 seconds\n",
      "Epoch 149/Training loss: 0.12578801002794202/Validation loss: 0.3805340742933317/Time: 6.39 seconds\n",
      "Epoch 150/Training loss: 0.12497654848615/Validation loss: 0.380712767224687/Time: 6.8 seconds\n",
      "Epoch 151/Training loss: 0.12406823331654811/Validation loss: 0.3808853044817863/Time: 6.49 seconds\n",
      "Epoch 152/Training loss: 0.12313965342120349/Validation loss: 0.38104821094930963/Time: 6.51 seconds\n",
      "Epoch 153/Training loss: 0.12236585393028866/Validation loss: 0.38130250395840265/Time: 6.99 seconds\n",
      "Epoch 154/Training loss: 0.12152115369957041/Validation loss: 0.38142019721395504/Time: 6.56 seconds\n",
      "Epoch 155/Training loss: 0.12080719088002445/Validation loss: 0.3816798431715123/Time: 6.54 seconds\n",
      "Epoch 156/Training loss: 0.1199279816094822/Validation loss: 0.3818507374782611/Time: 6.43 seconds\n",
      "Epoch 157/Training loss: 0.11919856539115359/Validation loss: 0.38208487129487684/Time: 6.76 seconds\n",
      "Epoch 158/Training loss: 0.11847189866535393/Validation loss: 0.38231565541427914/Time: 6.39 seconds\n",
      "Epoch 159/Training loss: 0.11765887907827463/Validation loss: 0.3824724944548171/Time: 6.7 seconds\n",
      "Epoch 160/Training loss: 0.1169510896192069/Validation loss: 0.38264506827132283/Time: 6.56 seconds\n",
      "Epoch 161/Training loss: 0.11624191874191292/Validation loss: 0.3827586921213451/Time: 6.55 seconds\n",
      "Epoch 162/Training loss: 0.11556922048619188/Validation loss: 0.3830185134495034/Time: 6.42 seconds\n",
      "Epoch 163/Training loss: 0.11487422724787537/Validation loss: 0.3832338726385458/Time: 6.48 seconds\n",
      "Epoch 164/Training loss: 0.1141738227094863/Validation loss: 0.38344627501885004/Time: 6.66 seconds\n",
      "Epoch 165/Training loss: 0.11354045202204963/Validation loss: 0.38366926921035127/Time: 6.56 seconds\n",
      "Epoch 166/Training loss: 0.11282333618997394/Validation loss: 0.3837721753102718/Time: 6.51 seconds\n",
      "Epoch 167/Training loss: 0.11218286741035303/Validation loss: 0.38397518186164753/Time: 6.73 seconds\n",
      "Epoch 168/Training loss: 0.1116039722890681/Validation loss: 0.384129428054289/Time: 6.55 seconds\n",
      "Epoch 169/Training loss: 0.11100390779486918/Validation loss: 0.3843630215662577/Time: 6.57 seconds\n",
      "Epoch 170/Training loss: 0.11041614763981918/Validation loss: 0.38449284967206904/Time: 6.58 seconds\n",
      "Epoch 171/Training loss: 0.10976110226244958/Validation loss: 0.3846226152974175/Time: 6.69 seconds\n",
      "Epoch 172/Training loss: 0.10929608819524723/Validation loss: 0.3848680375818781/Time: 6.36 seconds\n",
      "Epoch 173/Training loss: 0.10865087875458282/Validation loss: 0.3849836619509735/Time: 6.44 seconds\n",
      "Epoch 174/Training loss: 0.10812150497698078/Validation loss: 0.38517977319263635/Time: 6.68 seconds\n",
      "Epoch 175/Training loss: 0.10760011616031737/Validation loss: 0.3853220986799362/Time: 6.58 seconds\n",
      "Epoch 176/Training loss: 0.10711386446880888/Validation loss: 0.38558598456917276/Time: 6.51 seconds\n",
      "Epoch 177/Training loss: 0.10653488741257791/Validation loss: 0.38567710803668187/Time: 6.54 seconds\n",
      "Epoch 178/Training loss: 0.10598929403721433/Validation loss: 0.3859050148600245/Time: 6.54 seconds\n",
      "Epoch 179/Training loss: 0.1055349312223127/Validation loss: 0.38611878151221/Time: 6.52 seconds\n",
      "Epoch 180/Training loss: 0.10496291891810228/Validation loss: 0.3862151385634869/Time: 6.29 seconds\n",
      "Epoch 181/Training loss: 0.1045592522384471/Validation loss: 0.38640544653711145/Time: 6.53 seconds\n",
      "Epoch 182/Training loss: 0.10403124339661937/Validation loss: 0.3865618834923609/Time: 6.38 seconds\n",
      "Epoch 183/Training loss: 0.10358620077191033/Validation loss: 0.3866878212637166/Time: 6.54 seconds\n",
      "Epoch 184/Training loss: 0.10307298813736798/Validation loss: 0.3868239221107153/Time: 6.56 seconds\n",
      "Epoch 185/Training loss: 0.10270296711203254/Validation loss: 0.3869207437980636/Time: 6.43 seconds\n",
      "Epoch 186/Training loss: 0.10221926682486665/Validation loss: 0.38718405106199866/Time: 6.48 seconds\n",
      "Epoch 187/Training loss: 0.10169494095613776/Validation loss: 0.3872990095039756/Time: 6.68 seconds\n",
      "Epoch 188/Training loss: 0.10132256924526059/Validation loss: 0.387409803732226/Time: 6.5 seconds\n",
      "Epoch 189/Training loss: 0.10090127203722797/Validation loss: 0.3876109636400487/Time: 6.48 seconds\n",
      "Epoch 190/Training loss: 0.10052187355619556/Validation loss: 0.38782487311458647/Time: 6.29 seconds\n",
      "Epoch 191/Training loss: 0.10006039092930684/Validation loss: 0.3878918591445631/Time: 6.49 seconds\n",
      "Epoch 192/Training loss: 0.09963623313054212/Validation loss: 0.388138154407775/Time: 6.45 seconds\n",
      "Epoch 193/Training loss: 0.0992879414479089/Validation loss: 0.38817230033931494/Time: 6.44 seconds\n",
      "Epoch 194/Training loss: 0.09887534963162439/Validation loss: 0.3883584270980749/Time: 6.37 seconds\n",
      "Epoch 195/Training loss: 0.0984950966129292/Validation loss: 0.3885257675473466/Time: 6.41 seconds\n",
      "Epoch 196/Training loss: 0.09810923207952287/Validation loss: 0.3886931779674778/Time: 6.54 seconds\n",
      "Epoch 197/Training loss: 0.09781661813360526/Validation loss: 0.388815526038181/Time: 6.68 seconds\n",
      "Epoch 198/Training loss: 0.09736515567026266/Validation loss: 0.3889411881167783/Time: 6.49 seconds\n",
      "Epoch 199/Training loss: 0.09699500291437699/Validation loss: 0.3890463905304194/Time: 6.84 seconds\n"
     ]
    },
    {
     "data": {
      "image/png": "[encoded data removed]",
      "text/plain": [
       "<Figure size 640x480 with 1 Axes>"
      ]
     },
     "metadata": {},
     "output_type": "display_data"
    },
    {
     "name": "stdout",
     "output_type": "stream",
     "text": [
      "Validation rmse 0.3466832982054145\n"
     ]
    }
   ],
   "source": [
    "# for pruned, epoch: 60, lr:0.01, reg:0.02, k=80\n",
    "# for 2plus, epoch: 80, lr:0.01, reg:0.02, k=100\n",
    "\n",
    "EPOCHS = 200\n",
    "\n",
    "random.seed(42)\n",
    "np.random.seed(42)\n",
    "\n",
    "# # Fit and predict with svd\n",
    "# svd_predictor = RatingSVD(\n",
    "#     train_data.get_num_users(), train_data.get_num_items(), 2, k=10, \n",
    "#     learning_rate=0.001, C=0.02)\n",
    "# svd_predictor.fit(train_data.get_matrix(), EPOCHS, validation_set=val, early_stop=False)\n",
    "svd_predictor = LogisticSVD(\n",
    "    train_data.get_num_users(), train_data.get_num_items(), 2, k=100, \n",
    "    learning_rate=0.01, C=0.02)\n",
    "svd_predictor.fit(train_data.get_matrix(), EPOCHS, validation_set=val, early_stop=False)\n",
    "\n",
    "# Plot error\n",
    "errors = svd_predictor.get_train_errors()\n",
    "val_errors = svd_predictor.get_val_errors()\n",
    "plt.plot(range(len(errors)), errors, label='Training loss')\n",
    "plt.plot(range(len(val_errors)), val_errors, label='Test loss')\n",
    "plt.xlabel('Epoch')\n",
    "plt.ylabel('Error')\n",
    "plt.title('Error vs Epoch')\n",
    "plt.legend()\n",
    "plt.show()\n",
    "\n",
    "# Compute rmse\n",
    "predictions = svd_predictor.predict_pairs([(user, item) for user, item, _ in val])\n",
    "predictions = [prediction + (val[i][2],) for i, prediction in enumerate(predictions)]\n",
    "metrics = Metrics()\n",
    "rmse = metrics.rmse(predictions)\n",
    "print(\"Validation rmse\", rmse)"
   ]
  },
  {
   "cell_type": "markdown",
   "id": "e93bee4f-c214-4263-a466-4947ed23a770",
   "metadata": {},
   "source": [
    "We can now continue to train if we believe the model is still underfitting."
   ]
  },
  {
   "cell_type": "code",
   "execution_count": 14,
   "id": "943c101b-d3af-4b57-93b9-869686587c0b",
   "metadata": {
    "tags": []
   },
   "outputs": [
    {
     "name": "stdout",
     "output_type": "stream",
     "text": [
      "Epoch 0/Training loss: 0.28433201799265634/Validation loss: 0.3660426553970474/Time: 6.78 seconds\n",
      "Epoch 1/Training loss: 0.2813900702397608/Validation loss: 0.3660159817899922/Time: 6.62 seconds\n",
      "Epoch 2/Training loss: 0.27841887087646944/Validation loss: 0.366154755309313/Time: 6.49 seconds\n",
      "Epoch 3/Training loss: 0.27546529827889404/Validation loss: 0.3661130871057611/Time: 6.5 seconds\n",
      "Epoch 4/Training loss: 0.27246802250726404/Validation loss: 0.3661658192868336/Time: 6.55 seconds\n"
     ]
    }
   ],
   "source": [
    "svd_predictor.continue_fit(5, early_stop=False)"
   ]
  },
  {
   "cell_type": "code",
   "execution_count": 16,
   "id": "01ba5dcd-24cd-4b78-b882-62414ddc9266",
   "metadata": {},
   "outputs": [
    {
     "data": {
      "image/png": "[encoded data removed]",
      "text/plain": [
       "<Figure size 640x480 with 1 Axes>"
      ]
     },
     "metadata": {},
     "output_type": "display_data"
    },
    {
     "name": "stdout",
     "output_type": "stream",
     "text": [
      "Test rmse 0.3385298250412219\n"
     ]
    }
   ],
   "source": [
    "# Plot error\n",
    "errors = svd_predictor.get_train_errors()\n",
    "val_errors = svd_predictor.get_val_errors()\n",
    "plt.plot(range(len(errors)), errors, label='Training error')\n",
    "plt.plot(range(len(val_errors)), val_errors, label='Test error')\n",
    "plt.xlabel('Epoch')\n",
    "plt.ylabel('Error')\n",
    "plt.title('Error vs Epoch')\n",
    "plt.legend()\n",
    "plt.show()\n",
    "\n",
    "# Compute rmse\n",
    "predictions = svd_predictor.predict_pairs([(user, item) for user, item, _ in val])\n",
    "predictions = [prediction + (val[i][2],) for i, prediction in enumerate(predictions)]\n",
    "metrics = Metrics()\n",
    "rmse = metrics.rmse(predictions)\n",
    "print(\"Test rmse\", rmse)"
   ]
  },
  {
   "cell_type": "markdown",
   "id": "eab76d16-333f-47d2-9fe9-7c6ee891533f",
   "metadata": {},
   "source": [
    "We compute similarities for item-knn."
   ]
  },
  {
   "cell_type": "code",
   "execution_count": 52,
   "id": "357a8cf6-fd71-4ea3-b90a-f6dd3ff944a8",
   "metadata": {},
   "outputs": [
    {
     "name": "stdout",
     "output_type": "stream",
     "text": [
      "Computing similarities...\n",
      "Upto row 1 / 2246\n",
      "Upto row 201 / 2246\n",
      "Upto row 401 / 2246\n",
      "Upto row 601 / 2246\n",
      "Upto row 801 / 2246\n",
      "Upto row 1001 / 2246\n",
      "Upto row 1201 / 2246\n",
      "Upto row 1401 / 2246\n",
      "Upto row 1601 / 2246\n",
      "Upto row 1801 / 2246\n",
      "Upto row 2001 / 2246\n",
      "Upto row 2201 / 2246\n",
      "Done computing similarities in 408.8218936920166 seconds\n"
     ]
    }
   ],
   "source": [
    "svd_predictor.compute_sims()"
   ]
  },
  {
   "cell_type": "markdown",
   "id": "f7734567-9d7a-48be-96a6-90b0d0ab5ed2",
   "metadata": {},
   "source": [
    "## Preparing for Production"
   ]
  },
  {
   "cell_type": "code",
   "execution_count": 41,
   "id": "d04afbad-e0a1-4581-9b07-fede8f20af03",
   "metadata": {},
   "outputs": [],
   "source": [
    "svd_predictor.prep_for_item_knn()\n",
    "train_data.prep_for_item_knn()"
   ]
  },
  {
   "cell_type": "markdown",
   "id": "82e3cd3f-7857-4dfa-ab53-998eb6383fe4",
   "metadata": {},
   "source": [
    "## Saving the model"
   ]
  },
  {
   "cell_type": "code",
   "execution_count": 42,
   "id": "b664f8ce-2bcf-4bc2-8e25-51fee4d447fc",
   "metadata": {},
   "outputs": [
    {
     "name": "stdout",
     "output_type": "stream",
     "text": [
      "Saving model...\n",
      "Done saving model.\n"
     ]
    }
   ],
   "source": [
    "# Ensure file exists\n",
    "model_dir = model_dir = \"saved_models/{}-{}-{}-{}-{}-{}_{}\".format(\n",
    "    *(time.localtime()[:6] + (round(rmse, 4), ))).replace(\".\", \"-\") + \".pkl\" \n",
    "file = open(model_dir, 'a')\n",
    "file.close()\n",
    "\n",
    "# Save model\n",
    "print(\"Saving model...\")\n",
    "with open(model_dir, 'wb') as file:\n",
    "    pickle.dump([train_data, svd_predictor], file)\n",
    "print(\"Done saving model.\")"
   ]
  },
  {
   "cell_type": "markdown",
   "id": "c87713d2-dde8-4914-bbfa-4ecc35026e7d",
   "metadata": {},
   "source": [
    "## Tests"
   ]
  },
  {
   "cell_type": "code",
   "execution_count": 2,
   "id": "4a7b2b6c-8ffd-4ec7-8f4e-34e2b0b4b75d",
   "metadata": {},
   "outputs": [],
   "source": [
    "with open('saved_models/2023-7-8-12-15-13_0-37.pkl', 'rb') as file:\n",
    "    train_data, svd_predictor = pickle.load(file)"
   ]
  },
  {
   "cell_type": "markdown",
   "id": "0e48ab10-867a-46a3-9747-6ed959f69227",
   "metadata": {},
   "source": [
    "### Testing Rerank"
   ]
  },
  {
   "cell_type": "code",
   "execution_count": 10,
   "id": "2b4a3c0b-13ab-4d1c-86c8-31201d89f254",
   "metadata": {},
   "outputs": [],
   "source": [
    "# data.search_title('forza')"
   ]
  },
  {
   "cell_type": "code",
   "execution_count": 11,
   "id": "95e7e697-071d-4912-aa5a-11e180fe76dd",
   "metadata": {},
   "outputs": [],
   "source": [
    "# filtered = svd_predictor.items_top_n([(286, 1)])\n",
    "# app_ids = []\n",
    "# for item_index in filtered:\n",
    "#     app_ids.append(data.index_to_item_id(item_index))\n",
    "# df = pd.DataFrame({'app_id': app_ids})\n",
    "# predictions = ranker.predict(df)\n",
    "# df['relevance'] = predictions\n",
    "# df.head()\n",
    "# df = df.sort_values(by='relevance', ascending=False)\n",
    "# df.head()"
   ]
  },
  {
   "cell_type": "code",
   "execution_count": 12,
   "id": "d950c6e3-540c-466a-b484-6014326a2ad9",
   "metadata": {},
   "outputs": [],
   "source": [
    "# pprint([[data.index_to_title(data.item_id_to_index(i)) for _, i, _ in df.itertuples()]][0][:20])"
   ]
  },
  {
   "cell_type": "markdown",
   "id": "016d8055-1b91-413a-a7d4-bd887a37dfd1",
   "metadata": {},
   "source": [
    "### Testing Performance"
   ]
  },
  {
   "cell_type": "code",
   "execution_count": null,
   "id": "ee197e75-6462-463c-84fa-2293e9e865f3",
   "metadata": {},
   "outputs": [],
   "source": [
    "start_time = time.time()\n",
    "print(\"Computing recall...\")\n",
    "svd_predictor.compute_recall(val)\n",
    "print(\"Done computing recall in\", time.time() - start_time, \"seconds\")"
   ]
  },
  {
   "cell_type": "code",
   "execution_count": 54,
   "id": "e7d2169e-1031-4913-8aad-125cb1ebbe00",
   "metadata": {},
   "outputs": [
    {
     "data": {
      "text/plain": [
       "[('The Elder Scrolls V: Skyrim VR', 661),\n",
       " ('The Elder Scrolls V: Skyrim Special Edition', 147)]"
      ]
     },
     "execution_count": 54,
     "metadata": {},
     "output_type": "execute_result"
    }
   ],
   "source": [
    "train_data.search_title('skyrim')"
   ]
  },
  {
   "cell_type": "code",
   "execution_count": 55,
   "id": "a225937b-fc43-418b-bd28-efa4cf56b1b4",
   "metadata": {},
   "outputs": [
    {
     "name": "stdout",
     "output_type": "stream",
     "text": [
      "[(0.4535417303563537, 'Onmyoji'),\n",
      " (0.4483154553489226, 'Sport Mode'),\n",
      " (0.43492520791998135, 'Fallout 4'),\n",
      " (0.3593990558289475, 'The Jackbox Party Pack 6'),\n",
      " (0.3499126705597935, 'Samurai Jack: Battle Through Time'),\n",
      " (0.3472801644521669, 'Virtual Circuit Board'),\n",
      " (0.307158560986123, 'Disciples Sacred Lands Gold'),\n",
      " (0.3051483247176039, 'Turing Complete'),\n",
      " (0.3050459811590404, 'Crisis Brigade 2 reloaded'),\n",
      " (0.30477866235108986, 'Devil May Cry 5')]\n"
     ]
    }
   ],
   "source": [
    "top = svd_predictor.items_knn([(147, 1)], n=1)\n",
    "pprint([(sim, train_data.index_to_title(index)) for sim, index in top])"
   ]
  },
  {
   "cell_type": "code",
   "execution_count": 13,
   "id": "177ca5e8-65a4-4e7f-a014-47762b969736",
   "metadata": {},
   "outputs": [
    {
     "data": {
      "text/plain": [
       "0.9472438167803995"
      ]
     },
     "execution_count": 13,
     "metadata": {},
     "output_type": "execute_result"
    }
   ],
   "source": [
    "svd_predictor._user_features[0, :]\n",
    "svd_predictor._item_features[1066, :]\n",
    "np.max(svd_predictor._user_biases)\n",
    "np.max(svd_predictor._item_biases)\n",
    "# np.max(svd_predictor._item_features)"
   ]
  },
  {
   "cell_type": "code",
   "execution_count": 40,
   "id": "6ab5770d-962b-47b1-9b82-74feac83f214",
   "metadata": {},
   "outputs": [
    {
     "name": "stdout",
     "output_type": "stream",
     "text": [
      "Predicted top n:\n",
      "[757, 972, 461, 666, 1701, 1652, 270, 1237, 123, 33]\n",
      "[(0.9946229413952719, 'Portal 2'),\n",
      " (0.9908505947890028, 'A Hat in Time'),\n",
      " (0.984483899531803, 'Terraria'),\n",
      " (0.9839634762553195, 'POSTAL 2'),\n",
      " (0.9744107363645287, 'Thief™ II: The Metal Age'),\n",
      " (0.9734108580607946, 'Mafia II (Classic)'),\n",
      " (0.9707337720158055, 'Lil Gator Game'),\n",
      " (0.9689356149386221, 'DOOM (1993)'),\n",
      " (0.9680847946927481, 'Glass Masquerade'),\n",
      " (0.9668629025098278, 'Monolith')]\n",
      "True top n:\n",
      "['Dungeon Warfare 2',\n",
      " 'Chivalry 2',\n",
      " 'Warhammer: Vermintide 2',\n",
      " 'Streets of Rogue',\n",
      " 'Orcs Must Die! 3',\n",
      " 'Cosmoteer: Starship Architect & Commander',\n",
      " 'Deep Rock Galactic',\n",
      " 'Gunfire Reborn',\n",
      " 'Men of War: Assault Squad 2',\n",
      " 'Ruinarch',\n",
      " 'Going Medieval',\n",
      " 'Battle Cry of Freedom',\n",
      " 'Warhammer 40000: Darktide',\n",
      " 'Cyberpunk 2077',\n",
      " 'Crusader Kings III',\n",
      " 'Squad',\n",
      " 'Holdfast: Nations At War',\n",
      " 'Ultimate Admiral: Dreadnoughts']\n"
     ]
    }
   ],
   "source": [
    "j = 1\n",
    "\n",
    "# Test top-n list for user j\n",
    "top_n = svd_predictor.top_n(j, 10)\n",
    "print(\"Predicted top n:\")\n",
    "pprint([index for r, index in top_n])\n",
    "pprint([(r, train_data.index_to_title(index)) for r, index in top_n])\n",
    "\n",
    "# User j true top n list\n",
    "print(\"True top n:\")\n",
    "true_top = train_data.top_n(j, 5000)\n",
    "pprint([train_data.index_to_title(index) for _, index in true_top])"
   ]
  },
  {
   "cell_type": "code",
   "execution_count": null,
   "id": "8f39bc02-a788-46a0-8f11-156cade2be99",
   "metadata": {},
   "outputs": [],
   "source": [
    "# values, bins = np.histogram(svd_predictor._user_features[0, :])\n",
    "# plt.stairs(values, bins)\n",
    "# plt.show()"
   ]
  },
  {
   "cell_type": "code",
   "execution_count": 46,
   "id": "4a9be427-4b26-4189-9eed-02e98e23056c",
   "metadata": {},
   "outputs": [
    {
     "data": {
      "text/plain": [
       "[('Gunpoint', 1066)]"
      ]
     },
     "execution_count": 46,
     "metadata": {},
     "output_type": "execute_result"
    }
   ],
   "source": [
    "train_data.search_title('GunPoint')"
   ]
  },
  {
   "cell_type": "code",
   "execution_count": 21,
   "id": "af7c7b3d-f089-454c-8892-52d633e70b9b",
   "metadata": {},
   "outputs": [
    {
     "name": "stdout",
     "output_type": "stream",
     "text": [
      "[(147, 'The Elder Scrolls V: Skyrim Special Edition', 1),\n",
      " (325, 'Slay the Spire', 1)]\n"
     ]
    }
   ],
   "source": [
    "prefs = [(147, 1), (325, 1)]\n",
    "# prefs = [(5, 1), (229, 1), (966, 0)]\n",
    "pprint([(index, train_data.index_to_title(index), pref) for index, pref in prefs])\n",
    "prefs = train_data.create_prefs(prefs)    "
   ]
  },
  {
   "cell_type": "code",
   "execution_count": 22,
   "id": "2b516899-5ff8-4cbc-abc0-fd9d7a78cb5d",
   "metadata": {},
   "outputs": [
    {
     "name": "stdout",
     "output_type": "stream",
     "text": [
      "Epoch 0/Time: 6.88 seconds\n",
      "Completed partial fit in 7.875029563903809 seconds\n"
     ]
    }
   ],
   "source": [
    "epochs = 1\n",
    "\n",
    "start_time = time.time()\n",
    "svd_predictor.partial_fit(prefs, epochs=epochs)\n",
    "print(\"Completed partial fit in\", time.time() - start_time, \"seconds\")"
   ]
  },
  {
   "cell_type": "code",
   "execution_count": 28,
   "id": "4e10eed0-deb4-440a-92e8-eb12c7a96b97",
   "metadata": {},
   "outputs": [
    {
     "name": "stdout",
     "output_type": "stream",
     "text": [
      "Predicted top n\n",
      "[(0.9987608146858127, 'Portal 2'),\n",
      " (0.9969967969293526, 'A Hat in Time'),\n",
      " (0.9952055750129399, 'Terraria'),\n",
      " (0.9939231456186107, 'Thief™ II: The Metal Age'),\n",
      " (0.9938464256065681, 'Lil Gator Game'),\n",
      " (0.9936272229187082, 'Mafia II (Classic)'),\n",
      " (0.9934598331074666, 'POSTAL 2'),\n",
      " (0.9909451404418662, 'Monolith'),\n",
      " (0.9907963903985133, 'Choice of Robots'),\n",
      " (0.9907266718244505, 'Bastion')]\n"
     ]
    }
   ],
   "source": [
    "top_n = svd_predictor.top_n(svd_predictor._num_users - 1, 10)\n",
    "print(\"Predicted top n\")\n",
    "pprint([(r, train_data.index_to_title(index)) for r, index in top_n])"
   ]
  },
  {
   "cell_type": "code",
   "execution_count": null,
   "id": "3ed80d3c-1901-4404-a237-edea0ddc01a1",
   "metadata": {},
   "outputs": [],
   "source": []
  },
  {
   "cell_type": "code",
   "execution_count": null,
   "id": "41364ee8-1570-49b6-8810-ca327149bf40",
   "metadata": {},
   "outputs": [],
   "source": []
  }
 ],
 "metadata": {
  "kernelspec": {
   "display_name": "Python 3 (ipykernel)",
   "language": "python",
   "name": "python3"
  },
  "language_info": {
   "codemirror_mode": {
    "name": "ipython",
    "version": 3
   },
   "file_extension": ".py",
   "mimetype": "text/x-python",
   "name": "python",
   "nbconvert_exporter": "python",
   "pygments_lexer": "ipython3",
   "version": "3.9.16"
  }
 },
 "nbformat": 4,
 "nbformat_minor": 5
}
