{
 "cells": [
  {
   "cell_type": "markdown",
   "id": "a8554b74-824d-4dd9-9159-38c6fc305828",
   "metadata": {},
   "source": [
    "# Modelling"
   ]
  },
  {
   "cell_type": "code",
   "execution_count": 130,
   "id": "cfd28a59-588e-47cc-ab61-bb9e8674854a",
   "metadata": {},
   "outputs": [
    {
     "name": "stdin",
     "output_type": "stream",
     "text": [
      "Once deleted, variables cannot be recovered. Proceed (y/[n])?  y\n"
     ]
    }
   ],
   "source": [
    "%reset"
   ]
  },
  {
   "cell_type": "code",
   "execution_count": 131,
   "id": "2b35e932-407e-4160-878a-1547e900cce9",
   "metadata": {},
   "outputs": [],
   "source": [
    "import numpy as np\n",
    "from scipy.sparse import csr_array, lil_array\n",
    "import matplotlib.pyplot as plt\n",
    "import pandas as pd\n",
    "import math\n",
    "import pickle\n",
    "import time\n",
    "import datetime\n",
    "import random\n",
    "from pprint import pprint\n",
    "from lightgbm import LGBMRanker\n",
    "from sklearn.model_selection import train_test_split\n",
    "\n",
    "from SVD import Metrics, RatingSVD, LogisticSVD\n",
    "from RecData import RecData"
   ]
  },
  {
   "cell_type": "markdown",
   "id": "5e68c45e-13f9-4979-b916-34cec1db601d",
   "metadata": {},
   "source": [
    "## Data Preprocessing"
   ]
  },
  {
   "cell_type": "code",
   "execution_count": 135,
   "id": "86929969-e5de-468e-b024-80cf550c6e8f",
   "metadata": {},
   "outputs": [
    {
     "name": "stdout",
     "output_type": "stream",
     "text": [
      "Shape: (1482464, 3)\n"
     ]
    },
    {
     "data": {
      "text/html": [
       "<div>\n",
       "<style scoped>\n",
       "    .dataframe tbody tr th:only-of-type {\n",
       "        vertical-align: middle;\n",
       "    }\n",
       "\n",
       "    .dataframe tbody tr th {\n",
       "        vertical-align: top;\n",
       "    }\n",
       "\n",
       "    .dataframe thead th {\n",
       "        text-align: right;\n",
       "    }\n",
       "</style>\n",
       "<table border=\"1\" class=\"dataframe\">\n",
       "  <thead>\n",
       "    <tr style=\"text-align: right;\">\n",
       "      <th></th>\n",
       "      <th>app_id</th>\n",
       "      <th>is_recommended</th>\n",
       "      <th>user_id</th>\n",
       "    </tr>\n",
       "  </thead>\n",
       "  <tbody>\n",
       "    <tr>\n",
       "      <th>420790</th>\n",
       "      <td>12210</td>\n",
       "      <td>True</td>\n",
       "      <td>240</td>\n",
       "    </tr>\n",
       "    <tr>\n",
       "      <th>675882</th>\n",
       "      <td>22380</td>\n",
       "      <td>True</td>\n",
       "      <td>240</td>\n",
       "    </tr>\n",
       "    <tr>\n",
       "      <th>246231</th>\n",
       "      <td>239140</td>\n",
       "      <td>True</td>\n",
       "      <td>240</td>\n",
       "    </tr>\n",
       "    <tr>\n",
       "      <th>539676</th>\n",
       "      <td>251570</td>\n",
       "      <td>True</td>\n",
       "      <td>240</td>\n",
       "    </tr>\n",
       "    <tr>\n",
       "      <th>521289</th>\n",
       "      <td>270880</td>\n",
       "      <td>True</td>\n",
       "      <td>240</td>\n",
       "    </tr>\n",
       "  </tbody>\n",
       "</table>\n",
       "</div>"
      ],
      "text/plain": [
       "        app_id  is_recommended  user_id\n",
       "420790   12210            True      240\n",
       "675882   22380            True      240\n",
       "246231  239140            True      240\n",
       "539676  251570            True      240\n",
       "521289  270880            True      240"
      ]
     },
     "execution_count": 135,
     "metadata": {},
     "output_type": "execute_result"
    }
   ],
   "source": [
    "# recs = pd.read_csv('data/recommendations.csv')\n",
    "# recs = pd.read_csv('data/pruned.csv')\n",
    "# recs = pd.read_csv('data/2plus.csv')\n",
    "recs = pd.read_csv('data/full_pruned.csv')\n",
    "\n",
    "USED_COLS = ['app_id', 'is_recommended', 'user_id']\n",
    "recs = recs[USED_COLS]\n",
    "\n",
    "item_data = pd.read_csv('data/games.csv')\n",
    "titles = item_data[['app_id', 'title']]\n",
    "\n",
    "print(\"Shape:\", recs.shape)\n",
    "recs.sort_values(by=['user_id', 'app_id']).head()"
   ]
  },
  {
   "cell_type": "code",
   "execution_count": 136,
   "id": "78f0adeb-df3b-4750-b1f5-91c115d6238e",
   "metadata": {},
   "outputs": [],
   "source": [
    "# random.seed(42)\n",
    "# np.random.seed(42)\n",
    "\n",
    "# rec_data = RecData()\n",
    "# rec_data.create_from_dataframe(recs)\n",
    "# rec_data.set_titles(titles)\n",
    "\n",
    "# # del recs\n",
    "\n",
    "# start_time = time.time()\n",
    "# print(\"Creating splits...\")\n",
    "# train_data, test = rec_data.train_test_split(test_size=0.2)\n",
    "# print(\"First split done.\")\n",
    "# train_data, val = train_data.train_test_split(test_size=0.2)\n",
    "# print(\"Done creating splits in\", time.time() - start_time, \"seconds\")"
   ]
  },
  {
   "cell_type": "code",
   "execution_count": 137,
   "id": "41d0fdf6-2dff-4196-b2ad-a7f4c4de981c",
   "metadata": {
    "tags": []
   },
   "outputs": [
    {
     "name": "stdout",
     "output_type": "stream",
     "text": [
      "Creating utility matrix...\n",
      "Done utility matrix.\n",
      "Creating splits...\n",
      "Done user 1 / 63175\n",
      "Done user 10001 / 63175\n",
      "Done user 20001 / 63175\n",
      "Done user 30001 / 63175\n",
      "Done user 40001 / 63175\n",
      "Done user 50001 / 63175\n",
      "Done user 60001 / 63175\n",
      "Done creating splits.\n"
     ]
    }
   ],
   "source": [
    "random.seed(42)\n",
    "np.random.seed(42)\n",
    "rec_data = RecData()\n",
    "rec_data.create_from_dataframe(recs)\n",
    "rec_data.set_titles(titles)\n",
    "\n",
    "# del recs\n",
    "\n",
    "print(\"Creating splits...\")\n",
    "train_data, val = rec_data.leave_k_out_split(k=1, create_val=False)\n",
    "print(\"Done creating splits.\")"
   ]
  },
  {
   "cell_type": "code",
   "execution_count": 138,
   "id": "55f5d9d9-039c-485f-abf7-e8cc5448cedb",
   "metadata": {},
   "outputs": [],
   "source": [
    "del rec_data\n",
    "del item_data\n",
    "del titles"
   ]
  },
  {
   "cell_type": "markdown",
   "id": "6210ec68-3810-4694-9a42-956ba7be0b73",
   "metadata": {},
   "source": [
    "## Ranker"
   ]
  },
  {
   "cell_type": "markdown",
   "id": "ac596ab5-0048-4b3f-8d50-e3405644f8f8",
   "metadata": {},
   "source": [
    "This was used as a postprocessing step after using item-knn for candidate generation. Was not able to get good results."
   ]
  },
  {
   "cell_type": "code",
   "execution_count": 139,
   "id": "272d92ab-e737-4b6b-b27c-65ec71047b29",
   "metadata": {},
   "outputs": [],
   "source": [
    "# train = train_data.generate_dataframe()\n",
    "# X_train = train[['app_id', 'user_id']]\n",
    "# y_train = train['is_recommended'].to_numpy()\n",
    "\n",
    "# X_train = X_train.sort_values(by='user_id')\n",
    "# counts = X_train['user_id'].value_counts(sort=False)\n",
    "# X_train = X_train[['app_id']]"
   ]
  },
  {
   "cell_type": "code",
   "execution_count": 140,
   "id": "f460d47b-e26d-4fe3-80e3-38af037c4c1d",
   "metadata": {},
   "outputs": [],
   "source": [
    "# ranker = LGBMRanker(n_estimators=300, random_state=42, objective='lambdarank')\n",
    "# ranker = ranker.fit(X_train, y_train, group = counts.values, categorical_feature=['app_id'],\n",
    "#                     eval_set=[(X_train, y_train)], eval_group=[counts.values], \n",
    "#                     eval_at=20)"
   ]
  },
  {
   "cell_type": "markdown",
   "id": "19eabdaf-e7ae-406f-adfa-73217bd74e25",
   "metadata": {},
   "source": [
    "## Training SVD"
   ]
  },
  {
   "cell_type": "code",
   "execution_count": 141,
   "id": "5cb4b4a6-76ca-4200-8e02-53c6bf30ab6e",
   "metadata": {},
   "outputs": [
    {
     "name": "stdout",
     "output_type": "stream",
     "text": [
      "Epoch 0/Training loss: 0.44893240148727287/Validation loss: 0.446880214669421/Time: 7.03 seconds\n",
      "Epoch 1/Training loss: 0.4319514626413884/Validation loss: 0.4324822038536999/Time: 7.04 seconds\n",
      "Epoch 2/Training loss: 0.42207961796575905/Validation loss: 0.42468981613958834/Time: 6.74 seconds\n",
      "Epoch 3/Training loss: 0.4145296696329102/Validation loss: 0.4189054175124522/Time: 6.8 seconds\n",
      "Epoch 4/Training loss: 0.40825745555678/Validation loss: 0.41403574218962674/Time: 6.68 seconds\n",
      "Epoch 5/Training loss: 0.40278987299052094/Validation loss: 0.40986453899120523/Time: 7.44 seconds\n",
      "Epoch 6/Training loss: 0.3979827032052192/Validation loss: 0.4061776632195162/Time: 6.77 seconds\n",
      "Epoch 7/Training loss: 0.39363085659445163/Validation loss: 0.4028261481115581/Time: 6.89 seconds\n",
      "Epoch 8/Training loss: 0.3897106044044752/Validation loss: 0.39991363900664956/Time: 7.04 seconds\n",
      "Epoch 9/Training loss: 0.386125550291084/Validation loss: 0.3970452487800476/Time: 6.77 seconds\n",
      "Epoch 10/Training loss: 0.38286388078851774/Validation loss: 0.39449687912365045/Time: 6.95 seconds\n",
      "Epoch 11/Training loss: 0.3798781715076886/Validation loss: 0.3922184954194292/Time: 6.72 seconds\n",
      "Epoch 12/Training loss: 0.37710516745285916/Validation loss: 0.3900334355115342/Time: 6.75 seconds\n",
      "Epoch 13/Training loss: 0.3745405894815009/Validation loss: 0.38802790625934924/Time: 6.81 seconds\n",
      "Epoch 14/Training loss: 0.37215526168221047/Validation loss: 0.38628406729313813/Time: 6.68 seconds\n",
      "Epoch 15/Training loss: 0.36998738691328187/Validation loss: 0.3845810596858404/Time: 6.68 seconds\n",
      "Epoch 16/Training loss: 0.36791584889545764/Validation loss: 0.383010873320785/Time: 6.74 seconds\n",
      "Epoch 17/Training loss: 0.3660377652942172/Validation loss: 0.38156491214218263/Time: 6.93 seconds\n",
      "Epoch 18/Training loss: 0.3642271737883762/Validation loss: 0.3800724996689626/Time: 6.66 seconds\n",
      "Epoch 19/Training loss: 0.3625367477052751/Validation loss: 0.3788391235508603/Time: 6.61 seconds\n",
      "Epoch 20/Training loss: 0.36098737985941415/Validation loss: 0.3775294005861458/Time: 6.7 seconds\n",
      "Epoch 21/Training loss: 0.35954633540321157/Validation loss: 0.37673605102959734/Time: 8.22 seconds\n",
      "Epoch 22/Training loss: 0.3581236734502983/Validation loss: 0.3756092335310585/Time: 9.5 seconds\n",
      "Epoch 23/Training loss: 0.3568697065119153/Validation loss: 0.37477415777535217/Time: 6.92 seconds\n",
      "Epoch 24/Training loss: 0.3556053428171226/Validation loss: 0.3738004062220521/Time: 6.79 seconds\n",
      "Epoch 25/Training loss: 0.35444618521596905/Validation loss: 0.37295165999146146/Time: 9.72 seconds\n",
      "Epoch 26/Training loss: 0.3533426925620965/Validation loss: 0.3722928460887303/Time: 6.76 seconds\n",
      "Epoch 27/Training loss: 0.3523078946365246/Validation loss: 0.3714166953971941/Time: 6.66 seconds\n",
      "Epoch 28/Training loss: 0.3513207144141562/Validation loss: 0.370799660610003/Time: 7.35 seconds\n",
      "Epoch 29/Training loss: 0.35039297134234065/Validation loss: 0.37032893987453197/Time: 6.98 seconds\n",
      "Epoch 30/Training loss: 0.3495195233563342/Validation loss: 0.369695321031812/Time: 6.63 seconds\n",
      "Epoch 31/Training loss: 0.3486805743897559/Validation loss: 0.3689781560303145/Time: 6.87 seconds\n",
      "Epoch 32/Training loss: 0.3478696158867127/Validation loss: 0.36853697571726596/Time: 6.83 seconds\n",
      "Epoch 33/Training loss: 0.34711176634322444/Validation loss: 0.36811342686145765/Time: 6.69 seconds\n",
      "Epoch 34/Training loss: 0.34638124605447407/Validation loss: 0.3675408822425766/Time: 6.85 seconds\n",
      "Epoch 35/Training loss: 0.3456841980788603/Validation loss: 0.36722693868018474/Time: 6.69 seconds\n",
      "Epoch 36/Training loss: 0.3450403394118405/Validation loss: 0.3667862794232344/Time: 6.74 seconds\n",
      "Epoch 37/Training loss: 0.34437601236054893/Validation loss: 0.3662987850887143/Time: 6.97 seconds\n",
      "Epoch 38/Training loss: 0.34381771049419535/Validation loss: 0.36599699217264686/Time: 6.75 seconds\n",
      "Epoch 39/Training loss: 0.343231672193047/Validation loss: 0.3656280468957915/Time: 7.9 seconds\n",
      "Epoch 40/Training loss: 0.342692733670246/Validation loss: 0.3654085794388089/Time: 9.97 seconds\n",
      "Epoch 41/Training loss: 0.34217393394280254/Validation loss: 0.36506994350053623/Time: 6.64 seconds\n",
      "Epoch 42/Training loss: 0.34165257839713165/Validation loss: 0.364908496244209/Time: 6.91 seconds\n",
      "Epoch 43/Training loss: 0.34114143525726837/Validation loss: 0.3646276719263636/Time: 7.0 seconds\n",
      "Epoch 44/Training loss: 0.34068499594153473/Validation loss: 0.36426544759305285/Time: 7.05 seconds\n",
      "Epoch 45/Training loss: 0.34022597908428/Validation loss: 0.3641909584294045/Time: 6.92 seconds\n",
      "Epoch 46/Training loss: 0.3398276830149669/Validation loss: 0.3639549528827725/Time: 6.68 seconds\n",
      "Epoch 47/Training loss: 0.33941402927407/Validation loss: 0.36369359032952875/Time: 6.73 seconds\n",
      "Epoch 48/Training loss: 0.3390004379533027/Validation loss: 0.3637187549377033/Time: 7.0 seconds\n",
      "Epoch 49/Training loss: 0.33862271214954365/Validation loss: 0.3634141911750886/Time: 6.78 seconds\n",
      "Epoch 50/Training loss: 0.33827766400901815/Validation loss: 0.3631462326562753/Time: 7.41 seconds\n",
      "Epoch 51/Training loss: 0.33789348535607716/Validation loss: 0.3629933032511971/Time: 9.1 seconds\n",
      "Epoch 52/Training loss: 0.33755049247136104/Validation loss: 0.3629906263759512/Time: 9.13 seconds\n",
      "Epoch 53/Training loss: 0.33721316130489426/Validation loss: 0.36286128159883835/Time: 6.89 seconds\n",
      "Epoch 54/Training loss: 0.33689094154370186/Validation loss: 0.3625692277458503/Time: 9.91 seconds\n",
      "Epoch 55/Training loss: 0.33658674314669823/Validation loss: 0.36258570179750943/Time: 7.03 seconds\n",
      "Epoch 56/Training loss: 0.33628750417388176/Validation loss: 0.3624025671862961/Time: 8.14 seconds\n",
      "Epoch 57/Training loss: 0.33597038666301293/Validation loss: 0.3622286613838611/Time: 10.17 seconds\n",
      "Epoch 58/Training loss: 0.3356975275662946/Validation loss: 0.36222693221848257/Time: 8.46 seconds\n",
      "Epoch 59/Training loss: 0.33540606614896235/Validation loss: 0.3621847667167419/Time: 7.39 seconds\n",
      "Epoch 60/Training loss: 0.33513724276299606/Validation loss: 0.3622239400922181/Time: 10.46 seconds\n",
      "Epoch 61/Training loss: 0.3348890805791917/Validation loss: 0.36201016426409083/Time: 9.95 seconds\n",
      "Epoch 62/Training loss: 0.33460871854278335/Validation loss: 0.36194836062725855/Time: 9.46 seconds\n",
      "Epoch 63/Training loss: 0.33442004332241887/Validation loss: 0.3618648990013597/Time: 10.21 seconds\n",
      "Epoch 64/Training loss: 0.33413093291267865/Validation loss: 0.3618467378352167/Time: 9.61 seconds\n",
      "Epoch 65/Training loss: 0.3338961991675068/Validation loss: 0.3618216584977588/Time: 9.23 seconds\n",
      "Epoch 66/Training loss: 0.333643611654689/Validation loss: 0.36163264560522385/Time: 9.7 seconds\n",
      "Epoch 67/Training loss: 0.33343294287682784/Validation loss: 0.36170899913792653/Time: 9.84 seconds\n",
      "Epoch 68/Training loss: 0.33320021269776146/Validation loss: 0.36162786670114844/Time: 10.02 seconds\n",
      "Epoch 69/Training loss: 0.33298647830482464/Validation loss: 0.3615004591372358/Time: 10.31 seconds\n",
      "Epoch 70/Training loss: 0.3327779294978301/Validation loss: 0.3616202826111428/Time: 10.05 seconds\n",
      "Epoch 71/Training loss: 0.33257648328585515/Validation loss: 0.36156897977935887/Time: 10.31 seconds\n",
      "Epoch 72/Training loss: 0.33235360384137946/Validation loss: 0.36150647921724466/Time: 9.07 seconds\n",
      "Epoch 73/Training loss: 0.3321407723932044/Validation loss: 0.3615057015705502/Time: 9.78 seconds\n",
      "Epoch 74/Training loss: 0.3319342077165158/Validation loss: 0.3614001127463238/Time: 8.14 seconds\n",
      "Epoch 75/Training loss: 0.33173620725015623/Validation loss: 0.3616025431247552/Time: 6.76 seconds\n",
      "Epoch 76/Training loss: 0.3315357726877432/Validation loss: 0.3614447670472493/Time: 6.69 seconds\n",
      "Epoch 77/Training loss: 0.3313644712587736/Validation loss: 0.36137774036839465/Time: 9.5 seconds\n",
      "Epoch 78/Training loss: 0.33113155846223646/Validation loss: 0.3614287895105061/Time: 9.03 seconds\n",
      "Epoch 79/Training loss: 0.3309395461531551/Validation loss: 0.3614210770368919/Time: 8.55 seconds\n"
     ]
    },
    {
     "data": {
      "image/png": "[encoded data removed]",
      "text/plain": [
       "<Figure size 640x480 with 1 Axes>"
      ]
     },
     "metadata": {},
     "output_type": "display_data"
    },
    {
     "name": "stdout",
     "output_type": "stream",
     "text": [
      "Validation rmse 0.3363220889435754\n"
     ]
    }
   ],
   "source": [
    "# for pruned, epoch: 80, lr:0.01, reg:0.02, k=100\n",
    "# for 2plus, epoch: 80, lr:0.01, reg:0.02, k=100\n",
    "\n",
    "EPOCHS = 50\n",
    "\n",
    "random.seed(42)\n",
    "np.random.seed(42)\n",
    "\n",
    "# # Fit and predict with svd\n",
    "# svd_predictor = RatingSVD(\n",
    "#     train_data.get_num_users(), train_data.get_num_items(), 2, k=20, \n",
    "#     learning_rate=0.001, C=0.02)\n",
    "# svd_predictor.fit(train_data.get_matrix(), 100, validation_set=val, early_stop=False)\n",
    "svd_predictor = LogisticSVD(\n",
    "    train_data.get_num_users(), train_data.get_num_items(), 2, k=100, \n",
    "    learning_rate=0.01, C=0.04)\n",
    "svd_predictor.fit(train_data.get_matrix(), 80, validation_set=val, early_stop=False)\n",
    "\n",
    "# Plot error\n",
    "errors = svd_predictor.get_train_errors()\n",
    "val_errors = svd_predictor.get_val_errors()\n",
    "plt.plot(range(len(errors)), errors, label='Training loss')\n",
    "plt.plot(range(len(val_errors)), val_errors, label='Test loss')\n",
    "plt.xlabel('Epoch')\n",
    "plt.ylabel('Error')\n",
    "plt.title('Error vs Epoch')\n",
    "plt.legend()\n",
    "plt.show()\n",
    "\n",
    "# Compute rmse\n",
    "predictions = svd_predictor.predict_pairs([(user, item) for user, item, _ in val])\n",
    "predictions = [prediction + (val[i][2],) for i, prediction in enumerate(predictions)]\n",
    "metrics = Metrics()\n",
    "rmse = metrics.rmse(predictions)\n",
    "print(\"Validation rmse\", rmse)"
   ]
  },
  {
   "cell_type": "markdown",
   "id": "e93bee4f-c214-4263-a466-4947ed23a770",
   "metadata": {},
   "source": [
    "We can now continue to train if we believe the model is still underfitting."
   ]
  },
  {
   "cell_type": "code",
   "execution_count": 96,
   "id": "943c101b-d3af-4b57-93b9-869686587c0b",
   "metadata": {
    "tags": []
   },
   "outputs": [
    {
     "name": "stdout",
     "output_type": "stream",
     "text": [
      "Epoch 0/Training loss: 0.3310048729505605/Validation loss: 0.3668407408068704/Time: 6.42 seconds\n",
      "Epoch 1/Training loss: 0.3308785212570457/Validation loss: 0.36668613746672435/Time: 6.47 seconds\n",
      "Epoch 2/Training loss: 0.3307778518988458/Validation loss: 0.36682711561881687/Time: 6.44 seconds\n",
      "Epoch 3/Training loss: 0.33066106574172127/Validation loss: 0.3668262213547057/Time: 6.41 seconds\n",
      "Epoch 4/Training loss: 0.3305361367134747/Validation loss: 0.3668876285863532/Time: 6.47 seconds\n"
     ]
    }
   ],
   "source": [
    "svd_predictor.continue_fit(5, early_stop=False)"
   ]
  },
  {
   "cell_type": "code",
   "execution_count": 98,
   "id": "01ba5dcd-24cd-4b78-b882-62414ddc9266",
   "metadata": {},
   "outputs": [
    {
     "data": {
      "image/png": "[encoded data removed]",
      "text/plain": [
       "<Figure size 640x480 with 1 Axes>"
      ]
     },
     "metadata": {},
     "output_type": "display_data"
    },
    {
     "name": "stdout",
     "output_type": "stream",
     "text": [
      "Test rmse 0.3389991203215268\n"
     ]
    }
   ],
   "source": [
    "# Plot error\n",
    "errors = svd_predictor.get_train_errors()\n",
    "val_errors = svd_predictor.get_val_errors()\n",
    "plt.plot(range(len(errors)), errors, label='Training error')\n",
    "plt.plot(range(len(val_errors)), val_errors, label='Test error')\n",
    "plt.xlabel('Epoch')\n",
    "plt.ylabel('Error')\n",
    "plt.title('Error vs Epoch')\n",
    "plt.legend()\n",
    "plt.show()\n",
    "\n",
    "# Compute rmse\n",
    "predictions = svd_predictor.predict_pairs([(user, item) for user, item, _ in val])\n",
    "predictions = [prediction + (val[i][2],) for i, prediction in enumerate(predictions)]\n",
    "metrics = Metrics()\n",
    "rmse = metrics.rmse(predictions)\n",
    "print(\"Test rmse\", rmse)"
   ]
  },
  {
   "cell_type": "markdown",
   "id": "eab76d16-333f-47d2-9fe9-7c6ee891533f",
   "metadata": {},
   "source": [
    "We compute similarities for item-knn."
   ]
  },
  {
   "cell_type": "code",
   "execution_count": 143,
   "id": "357a8cf6-fd71-4ea3-b90a-f6dd3ff944a8",
   "metadata": {},
   "outputs": [
    {
     "name": "stdout",
     "output_type": "stream",
     "text": [
      "Computing similarities...\n",
      "Upto row 1 / 2215\n",
      "Upto row 201 / 2215\n",
      "Upto row 401 / 2215\n",
      "Upto row 601 / 2215\n",
      "Upto row 801 / 2215\n",
      "Upto row 1001 / 2215\n",
      "Upto row 1201 / 2215\n",
      "Upto row 1401 / 2215\n",
      "Upto row 1601 / 2215\n",
      "Upto row 1801 / 2215\n",
      "Upto row 2001 / 2215\n",
      "Upto row 2201 / 2215\n",
      "Done computing similarities in 459.26107907295227 seconds\n"
     ]
    }
   ],
   "source": [
    "svd_predictor.compute_sims()"
   ]
  },
  {
   "cell_type": "markdown",
   "id": "f7734567-9d7a-48be-96a6-90b0d0ab5ed2",
   "metadata": {},
   "source": [
    "## Preparing for Production"
   ]
  },
  {
   "cell_type": "code",
   "execution_count": 183,
   "id": "d04afbad-e0a1-4581-9b07-fede8f20af03",
   "metadata": {},
   "outputs": [],
   "source": [
    "svd_predictor.prep_for_item_knn()\n",
    "train_data.prep_for_item_knn()"
   ]
  },
  {
   "cell_type": "markdown",
   "id": "82e3cd3f-7857-4dfa-ab53-998eb6383fe4",
   "metadata": {},
   "source": [
    "## Saving the model"
   ]
  },
  {
   "cell_type": "code",
   "execution_count": 184,
   "id": "b664f8ce-2bcf-4bc2-8e25-51fee4d447fc",
   "metadata": {},
   "outputs": [
    {
     "name": "stdout",
     "output_type": "stream",
     "text": [
      "Saving model...\n",
      "Done saving model.\n"
     ]
    }
   ],
   "source": [
    "# Ensure file exists\n",
    "model_dir = model_dir = \"saved_models/{}-{}-{}-{}-{}-{}_{}\".format(\n",
    "    *(time.localtime()[:6] + (round(rmse, 4), ))).replace(\".\", \"-\") + \".pkl\" \n",
    "file = open(model_dir, 'a')\n",
    "file.close()\n",
    "\n",
    "# Save model\n",
    "print(\"Saving model...\")\n",
    "with open(model_dir, 'wb') as file:\n",
    "    pickle.dump([train_data, svd_predictor], file)\n",
    "print(\"Done saving model.\")"
   ]
  },
  {
   "cell_type": "markdown",
   "id": "c87713d2-dde8-4914-bbfa-4ecc35026e7d",
   "metadata": {},
   "source": [
    "## Tests"
   ]
  },
  {
   "cell_type": "code",
   "execution_count": 2,
   "id": "4a7b2b6c-8ffd-4ec7-8f4e-34e2b0b4b75d",
   "metadata": {},
   "outputs": [],
   "source": [
    "with open('saved_models/2023-7-8-12-15-13_0-37.pkl', 'rb') as file:\n",
    "    train_data, svd_predictor = pickle.load(file)"
   ]
  },
  {
   "cell_type": "markdown",
   "id": "0e48ab10-867a-46a3-9747-6ed959f69227",
   "metadata": {},
   "source": [
    "### Testing Rerank"
   ]
  },
  {
   "cell_type": "code",
   "execution_count": 10,
   "id": "2b4a3c0b-13ab-4d1c-86c8-31201d89f254",
   "metadata": {},
   "outputs": [],
   "source": [
    "# data.search_title('forza')"
   ]
  },
  {
   "cell_type": "code",
   "execution_count": 11,
   "id": "95e7e697-071d-4912-aa5a-11e180fe76dd",
   "metadata": {},
   "outputs": [],
   "source": [
    "# filtered = svd_predictor.items_top_n([(286, 1)])\n",
    "# app_ids = []\n",
    "# for item_index in filtered:\n",
    "#     app_ids.append(data.index_to_item_id(item_index))\n",
    "# df = pd.DataFrame({'app_id': app_ids})\n",
    "# predictions = ranker.predict(df)\n",
    "# df['relevance'] = predictions\n",
    "# df.head()\n",
    "# df = df.sort_values(by='relevance', ascending=False)\n",
    "# df.head()"
   ]
  },
  {
   "cell_type": "code",
   "execution_count": 12,
   "id": "d950c6e3-540c-466a-b484-6014326a2ad9",
   "metadata": {},
   "outputs": [],
   "source": [
    "# pprint([[data.index_to_title(data.item_id_to_index(i)) for _, i, _ in df.itertuples()]][0][:20])"
   ]
  },
  {
   "cell_type": "markdown",
   "id": "016d8055-1b91-413a-a7d4-bd887a37dfd1",
   "metadata": {},
   "source": [
    "### Testing Performance"
   ]
  },
  {
   "cell_type": "markdown",
   "id": "88dfe817-1562-40fd-937e-9af562edb283",
   "metadata": {},
   "source": [
    "Checking recall."
   ]
  },
  {
   "cell_type": "code",
   "execution_count": null,
   "id": "ee197e75-6462-463c-84fa-2293e9e865f3",
   "metadata": {},
   "outputs": [],
   "source": [
    "start_time = time.time()\n",
    "print(\"Computing recall...\")\n",
    "svd_predictor.compute_recall(val)\n",
    "print(\"Done computing recall in\", time.time() - start_time, \"seconds\")"
   ]
  },
  {
   "cell_type": "markdown",
   "id": "05865fa9-d901-49f5-87e0-537095f21d06",
   "metadata": {},
   "source": [
    "Checking item-based knn."
   ]
  },
  {
   "cell_type": "code",
   "execution_count": 181,
   "id": "e7d2169e-1031-4913-8aad-125cb1ebbe00",
   "metadata": {},
   "outputs": [
    {
     "data": {
      "text/plain": [
       "[('The Elder Scrolls III: Morrowind® Game of the Year Edition', 286)]"
      ]
     },
     "execution_count": 181,
     "metadata": {},
     "output_type": "execute_result"
    }
   ],
   "source": [
    "train_data.search_title('morrow')"
   ]
  },
  {
   "cell_type": "code",
   "execution_count": 182,
   "id": "a225937b-fc43-418b-bd28-efa4cf56b1b4",
   "metadata": {},
   "outputs": [
    {
     "name": "stdout",
     "output_type": "stream",
     "text": [
      "[(0.3909011480578025, 'SYNTHETIK: Legion Rising'),\n",
      " (0.3841846126585478, 'Project Zomboid'),\n",
      " (0.37059030387893616, 'Prey'),\n",
      " (0.358146951708476, 'Baba Is You'),\n",
      " (0.35381420271035313,\n",
      "  'The Elder Scrolls IV: Oblivion® Game of the Year Edition'),\n",
      " (0.3432573234220497, 'Noita'),\n",
      " (0.3386980475254265, 'Lakeview Cabin Collection'),\n",
      " (0.3266681055135028, 'Sphinx and the Cursed Mummy'),\n",
      " (0.3248535952606597, 'Star Wars: Battlefront 2 (Classic 2005)'),\n",
      " (0.3184148814972455, 'Roads of Rome')]\n"
     ]
    }
   ],
   "source": [
    "top = svd_predictor.items_knn([(286, 1)], n=10)\n",
    "pprint([(sim, train_data.index_to_title(index)) for sim, index in top])"
   ]
  },
  {
   "cell_type": "markdown",
   "id": "bb3e6fc7-58bb-4b49-b242-83d19b8af856",
   "metadata": {},
   "source": [
    "Checking collaborative filtering."
   ]
  },
  {
   "cell_type": "code",
   "execution_count": 167,
   "id": "6ab5770d-962b-47b1-9b82-74feac83f214",
   "metadata": {},
   "outputs": [
    {
     "name": "stdout",
     "output_type": "stream",
     "text": [
      "Predicted top n:\n",
      "851\n",
      "[(0.9968352281650713, 'Portal 2'),\n",
      " (0.9946677512593055, 'A Hat in Time'),\n",
      " (0.9908751027460545, 'Terraria'),\n",
      " (0.988362185522955, 'POSTAL 2'),\n",
      " (0.9852212159579746, 'Thief™ II: The Metal Age'),\n",
      " (0.9849846623480601, 'Mafia II (Classic)'),\n",
      " (0.9843172938505443, 'Lil Gator Game'),\n",
      " (0.9820391254008433, 'DOOM (1993)'),\n",
      " (0.980323903775534, 'Gunpoint'),\n",
      " (0.980298526943475, 'Glass Masquerade')]\n",
      "True top n:\n",
      "['Brotato',\n",
      " 'CarX Drift Racing Online',\n",
      " \"No Man's Sky\",\n",
      " 'Guild Wars 2',\n",
      " 'DARK SOULS™: REMASTERED',\n",
      " 'Halo: The Master Chief Collection',\n",
      " 'MONSTER HUNTER RISE',\n",
      " 'OUTRIDERS',\n",
      " 'Red Dead Online',\n",
      " 'Black Desert',\n",
      " 'Cookie Clicker',\n",
      " 'Squad',\n",
      " 'Muse Dash',\n",
      " 'STAR WARS™ Battlefront™ II',\n",
      " 'Lara Croft and the Guardian of Light',\n",
      " 'TrackMania² Stadium',\n",
      " 'Forsaken World: Gods and Demons',\n",
      " 'The Witcher® 3: Wild Hunt',\n",
      " 'Far Cry® 5',\n",
      " 'Call of Duty®: Modern Warfare® II',\n",
      " 'Hell Let Loose',\n",
      " 'PAYDAY 2',\n",
      " 'Call of Duty®: WWII',\n",
      " 'Ring of Elysium']\n"
     ]
    }
   ],
   "source": [
    "j = 0\n",
    "\n",
    "# Test top-n list for user j\n",
    "top_n = svd_predictor.top_n(j, 1000)\n",
    "print(\"Predicted top n:\")\n",
    "pprint([index for r, index in top_n][0])\n",
    "pprint([(r, train_data.index_to_title(index)) for r, index in top_n][0:10])\n",
    "\n",
    "# User j true top n list\n",
    "print(\"True top n:\")\n",
    "true_top = train_data.top_n(j, 5000)\n",
    "pprint([train_data.index_to_title(index) for _, index in true_top])"
   ]
  },
  {
   "cell_type": "markdown",
   "id": "f1f441c6-9268-4f33-8077-070561d94602",
   "metadata": {},
   "source": [
    "Testing partial fit below."
   ]
  },
  {
   "cell_type": "code",
   "execution_count": 46,
   "id": "4a9be427-4b26-4189-9eed-02e98e23056c",
   "metadata": {},
   "outputs": [
    {
     "data": {
      "text/plain": [
       "[('Gunpoint', 1066)]"
      ]
     },
     "execution_count": 46,
     "metadata": {},
     "output_type": "execute_result"
    }
   ],
   "source": [
    "train_data.search_title('GunPoint')"
   ]
  },
  {
   "cell_type": "code",
   "execution_count": 21,
   "id": "af7c7b3d-f089-454c-8892-52d633e70b9b",
   "metadata": {},
   "outputs": [
    {
     "name": "stdout",
     "output_type": "stream",
     "text": [
      "[(147, 'The Elder Scrolls V: Skyrim Special Edition', 1),\n",
      " (325, 'Slay the Spire', 1)]\n"
     ]
    }
   ],
   "source": [
    "prefs = [(147, 1), (325, 1)]\n",
    "# prefs = [(5, 1), (229, 1), (966, 0)]\n",
    "pprint([(index, train_data.index_to_title(index), pref) for index, pref in prefs])\n",
    "prefs = train_data.create_prefs(prefs)    "
   ]
  },
  {
   "cell_type": "code",
   "execution_count": 22,
   "id": "2b516899-5ff8-4cbc-abc0-fd9d7a78cb5d",
   "metadata": {},
   "outputs": [
    {
     "name": "stdout",
     "output_type": "stream",
     "text": [
      "Epoch 0/Time: 6.88 seconds\n",
      "Completed partial fit in 7.875029563903809 seconds\n"
     ]
    }
   ],
   "source": [
    "epochs = 1\n",
    "\n",
    "start_time = time.time()\n",
    "svd_predictor.partial_fit(prefs, epochs=epochs)\n",
    "print(\"Completed partial fit in\", time.time() - start_time, \"seconds\")"
   ]
  },
  {
   "cell_type": "code",
   "execution_count": 77,
   "id": "4e10eed0-deb4-440a-92e8-eb12c7a96b97",
   "metadata": {},
   "outputs": [
    {
     "name": "stdout",
     "output_type": "stream",
     "text": [
      "Predicted top n\n",
      "[(0.9982461964946436, 'Portal 2'),\n",
      " (0.9975848280674955, 'Lil Gator Game'),\n",
      " (0.9972566028210699, 'A Hat in Time'),\n",
      " (0.9970133024919003, 'Mafia II (Classic)'),\n",
      " (0.9965968665801356, 'Princess Maker 2 Refine'),\n",
      " (0.9960268078775195, 'Drox Operative'),\n",
      " (0.9959851745120898, 'Turing Complete'),\n",
      " (0.9957737377324469, 'The Case of the Golden Idol'),\n",
      " (0.9956506885362327, 'Thief™ II: The Metal Age'),\n",
      " (0.9952304365799456, 'Through the Ages')]\n"
     ]
    }
   ],
   "source": [
    "top_n = svd_predictor.top_n(svd_predictor._num_users - 1, 10)\n",
    "print(\"Predicted top n\")\n",
    "pprint([(r, train_data.index_to_title(index)) for r, index in top_n])"
   ]
  },
  {
   "cell_type": "code",
   "execution_count": null,
   "id": "3ed80d3c-1901-4404-a237-edea0ddc01a1",
   "metadata": {},
   "outputs": [],
   "source": []
  },
  {
   "cell_type": "code",
   "execution_count": null,
   "id": "41364ee8-1570-49b6-8810-ca327149bf40",
   "metadata": {},
   "outputs": [],
   "source": []
  }
 ],
 "metadata": {
  "kernelspec": {
   "display_name": "Python 3 (ipykernel)",
   "language": "python",
   "name": "python3"
  },
  "language_info": {
   "codemirror_mode": {
    "name": "ipython",
    "version": 3
   },
   "file_extension": ".py",
   "mimetype": "text/x-python",
   "name": "python",
   "nbconvert_exporter": "python",
   "pygments_lexer": "ipython3",
   "version": "3.11.4"
  }
 },
 "nbformat": 4,
 "nbformat_minor": 5
}
