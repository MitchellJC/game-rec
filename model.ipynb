{
 "cells": [
  {
   "cell_type": "markdown",
   "id": "a8554b74-824d-4dd9-9159-38c6fc305828",
   "metadata": {},
   "source": [
    "# Modelling"
   ]
  },
  {
   "cell_type": "code",
   "execution_count": 130,
   "id": "cfd28a59-588e-47cc-ab61-bb9e8674854a",
   "metadata": {},
   "outputs": [
    {
     "name": "stdin",
     "output_type": "stream",
     "text": [
      "Once deleted, variables cannot be recovered. Proceed (y/[n])?  y\n"
     ]
    }
   ],
   "source": [
    "%reset"
   ]
  },
  {
   "cell_type": "code",
   "execution_count": 1,
   "id": "2b35e932-407e-4160-878a-1547e900cce9",
   "metadata": {},
   "outputs": [],
   "source": [
    "import numpy as np\n",
    "from scipy.sparse import csr_array, lil_array\n",
    "import matplotlib.pyplot as plt\n",
    "import pandas as pd\n",
    "import math\n",
    "import pickle\n",
    "import time\n",
    "import datetime\n",
    "import random\n",
    "from pprint import pprint\n",
    "from lightgbm import LGBMRanker\n",
    "from sklearn.model_selection import train_test_split\n",
    "\n",
    "from SVD import Metrics, RatingSVD, LogisticSVD\n",
    "from RecData import RecData"
   ]
  },
  {
   "cell_type": "markdown",
   "id": "5e68c45e-13f9-4979-b916-34cec1db601d",
   "metadata": {},
   "source": [
    "## Data Preprocessing"
   ]
  },
  {
   "cell_type": "code",
   "execution_count": 2,
   "id": "86929969-e5de-468e-b024-80cf550c6e8f",
   "metadata": {},
   "outputs": [
    {
     "name": "stdout",
     "output_type": "stream",
     "text": [
      "Shape: (1482464, 3)\n"
     ]
    },
    {
     "data": {
      "text/html": [
       "<div>\n",
       "<style scoped>\n",
       "    .dataframe tbody tr th:only-of-type {\n",
       "        vertical-align: middle;\n",
       "    }\n",
       "\n",
       "    .dataframe tbody tr th {\n",
       "        vertical-align: top;\n",
       "    }\n",
       "\n",
       "    .dataframe thead th {\n",
       "        text-align: right;\n",
       "    }\n",
       "</style>\n",
       "<table border=\"1\" class=\"dataframe\">\n",
       "  <thead>\n",
       "    <tr style=\"text-align: right;\">\n",
       "      <th></th>\n",
       "      <th>app_id</th>\n",
       "      <th>is_recommended</th>\n",
       "      <th>user_id</th>\n",
       "    </tr>\n",
       "  </thead>\n",
       "  <tbody>\n",
       "    <tr>\n",
       "      <th>420790</th>\n",
       "      <td>12210</td>\n",
       "      <td>True</td>\n",
       "      <td>240</td>\n",
       "    </tr>\n",
       "    <tr>\n",
       "      <th>675882</th>\n",
       "      <td>22380</td>\n",
       "      <td>True</td>\n",
       "      <td>240</td>\n",
       "    </tr>\n",
       "    <tr>\n",
       "      <th>246231</th>\n",
       "      <td>239140</td>\n",
       "      <td>True</td>\n",
       "      <td>240</td>\n",
       "    </tr>\n",
       "    <tr>\n",
       "      <th>539676</th>\n",
       "      <td>251570</td>\n",
       "      <td>True</td>\n",
       "      <td>240</td>\n",
       "    </tr>\n",
       "    <tr>\n",
       "      <th>521289</th>\n",
       "      <td>270880</td>\n",
       "      <td>True</td>\n",
       "      <td>240</td>\n",
       "    </tr>\n",
       "  </tbody>\n",
       "</table>\n",
       "</div>"
      ],
      "text/plain": [
       "        app_id  is_recommended  user_id\n",
       "420790   12210            True      240\n",
       "675882   22380            True      240\n",
       "246231  239140            True      240\n",
       "539676  251570            True      240\n",
       "521289  270880            True      240"
      ]
     },
     "execution_count": 2,
     "metadata": {},
     "output_type": "execute_result"
    }
   ],
   "source": [
    "# recs = pd.read_csv('data/recommendations.csv')\n",
    "# recs = pd.read_csv('data/pruned.csv')\n",
    "# recs = pd.read_csv('data/2plus.csv')\n",
    "recs = pd.read_csv('data/full_pruned.csv')\n",
    "\n",
    "USED_COLS = ['app_id', 'is_recommended', 'user_id']\n",
    "recs = recs[USED_COLS]\n",
    "\n",
    "item_data = pd.read_csv('data/games.csv')\n",
    "titles = item_data[['app_id', 'title']]\n",
    "\n",
    "print(\"Shape:\", recs.shape)\n",
    "recs.sort_values(by=['user_id', 'app_id']).head()"
   ]
  },
  {
   "cell_type": "code",
   "execution_count": 3,
   "id": "78f0adeb-df3b-4750-b1f5-91c115d6238e",
   "metadata": {},
   "outputs": [],
   "source": [
    "# random.seed(42)\n",
    "# np.random.seed(42)\n",
    "\n",
    "# rec_data = RecData()\n",
    "# rec_data.create_from_dataframe(recs)\n",
    "# rec_data.set_titles(titles)\n",
    "\n",
    "# # del recs\n",
    "\n",
    "# start_time = time.time()\n",
    "# print(\"Creating splits...\")\n",
    "# train_data, test = rec_data.train_test_split(test_size=0.2)\n",
    "# print(\"First split done.\")\n",
    "# train_data, val = train_data.train_test_split(test_size=0.2)\n",
    "# print(\"Done creating splits in\", time.time() - start_time, \"seconds\")"
   ]
  },
  {
   "cell_type": "code",
   "execution_count": 4,
   "id": "41d0fdf6-2dff-4196-b2ad-a7f4c4de981c",
   "metadata": {
    "tags": []
   },
   "outputs": [
    {
     "name": "stdout",
     "output_type": "stream",
     "text": [
      "Creating utility matrix...\n",
      "Done utility matrix.\n",
      "Creating splits...\n",
      "Done user 1 / 63175\n",
      "Done user 10001 / 63175\n",
      "Done user 20001 / 63175\n",
      "Done user 30001 / 63175\n",
      "Done user 40001 / 63175\n",
      "Done user 50001 / 63175\n",
      "Done user 60001 / 63175\n",
      "Done creating splits.\n"
     ]
    }
   ],
   "source": [
    "random.seed(42)\n",
    "np.random.seed(42)\n",
    "rec_data = RecData()\n",
    "rec_data.create_from_dataframe(recs)\n",
    "rec_data.set_titles(titles)\n",
    "\n",
    "# del recs\n",
    "\n",
    "print(\"Creating splits...\")\n",
    "train_data, val = rec_data.leave_k_out_split(k=1, create_val=False)\n",
    "print(\"Done creating splits.\")"
   ]
  },
  {
   "cell_type": "code",
   "execution_count": 5,
   "id": "55f5d9d9-039c-485f-abf7-e8cc5448cedb",
   "metadata": {},
   "outputs": [],
   "source": [
    "del rec_data\n",
    "del item_data\n",
    "del titles"
   ]
  },
  {
   "cell_type": "markdown",
   "id": "6210ec68-3810-4694-9a42-956ba7be0b73",
   "metadata": {},
   "source": [
    "## Ranker"
   ]
  },
  {
   "cell_type": "markdown",
   "id": "ac596ab5-0048-4b3f-8d50-e3405644f8f8",
   "metadata": {},
   "source": [
    "This was used as a postprocessing step after using item-knn for candidate generation. Was not able to get good results."
   ]
  },
  {
   "cell_type": "code",
   "execution_count": 6,
   "id": "272d92ab-e737-4b6b-b27c-65ec71047b29",
   "metadata": {},
   "outputs": [],
   "source": [
    "# train = train_data.generate_dataframe()\n",
    "# X_train = train[['app_id', 'user_id']]\n",
    "# y_train = train['is_recommended'].to_numpy()\n",
    "\n",
    "# X_train = X_train.sort_values(by='user_id')\n",
    "# counts = X_train['user_id'].value_counts(sort=False)\n",
    "# X_train = X_train[['app_id']]"
   ]
  },
  {
   "cell_type": "code",
   "execution_count": 7,
   "id": "f460d47b-e26d-4fe3-80e3-38af037c4c1d",
   "metadata": {},
   "outputs": [],
   "source": [
    "# ranker = LGBMRanker(n_estimators=300, random_state=42, objective='lambdarank')\n",
    "# ranker = ranker.fit(X_train, y_train, group = counts.values, categorical_feature=['app_id'],\n",
    "#                     eval_set=[(X_train, y_train)], eval_group=[counts.values], \n",
    "#                     eval_at=20)"
   ]
  },
  {
   "cell_type": "markdown",
   "id": "19eabdaf-e7ae-406f-adfa-73217bd74e25",
   "metadata": {},
   "source": [
    "## Training SVD"
   ]
  },
  {
   "cell_type": "code",
   "execution_count": null,
   "id": "5cb4b4a6-76ca-4200-8e02-53c6bf30ab6e",
   "metadata": {},
   "outputs": [
    {
     "name": "stdout",
     "output_type": "stream",
     "text": [
      "Epoch 0/Training loss: 0.37502660502019985/Validation loss: 0.3737263249625181/Time: 6.17 seconds\n",
      "Epoch 1/Training loss: 0.371285541815378/Validation loss: 0.37074977533228437/Time: 6.26 seconds\n",
      "Epoch 2/Training loss: 0.3687323211853964/Validation loss: 0.36884130254700154/Time: 6.29 seconds\n",
      "Epoch 3/Training loss: 0.3665419160447822/Validation loss: 0.36721442551731504/Time: 6.19 seconds\n",
      "Epoch 4/Training loss: 0.3646750854003191/Validation loss: 0.36581298409220914/Time: 6.22 seconds\n",
      "Epoch 5/Training loss: 0.36294131413045105/Validation loss: 0.3645347609667225/Time: 6.14 seconds\n",
      "Epoch 6/Training loss: 0.36138215633801/Validation loss: 0.3633715820160277/Time: 6.28 seconds\n",
      "Epoch 7/Training loss: 0.35992540691668823/Validation loss: 0.3622900462467021/Time: 6.29 seconds\n",
      "Epoch 8/Training loss: 0.35852807558885774/Validation loss: 0.36125042460282775/Time: 6.55 seconds\n",
      "Epoch 9/Training loss: 0.35727650507121683/Validation loss: 0.3602729578491691/Time: 6.23 seconds\n",
      "Epoch 10/Training loss: 0.3560654145852765/Validation loss: 0.3593373020052392/Time: 6.22 seconds\n",
      "Epoch 11/Training loss: 0.35496100859734714/Validation loss: 0.35851331976002326/Time: 6.33 seconds\n",
      "Epoch 12/Training loss: 0.35390305048829046/Validation loss: 0.3576963703520664/Time: 6.4 seconds\n",
      "Epoch 13/Training loss: 0.35291737732877365/Validation loss: 0.3569344214151269/Time: 6.18 seconds\n",
      "Epoch 14/Training loss: 0.35193655708866006/Validation loss: 0.356204135258565/Time: 6.08 seconds\n",
      "Epoch 15/Training loss: 0.35108069207470216/Validation loss: 0.35554584063951356/Time: 6.14 seconds\n",
      "Epoch 16/Training loss: 0.35018241402412315/Validation loss: 0.3548515931500591/Time: 6.22 seconds\n",
      "Epoch 17/Training loss: 0.34938067933358546/Validation loss: 0.35422559754820426/Time: 6.28 seconds\n",
      "Epoch 18/Training loss: 0.348610973779169/Validation loss: 0.3535820067979165/Time: 6.26 seconds\n",
      "Epoch 19/Training loss: 0.3478952469322051/Validation loss: 0.35303465443916715/Time: 6.16 seconds\n",
      "Epoch 20/Training loss: 0.34717924260331673/Validation loss: 0.35241478743676674/Time: 6.08 seconds\n",
      "Epoch 21/Training loss: 0.3465101037572711/Validation loss: 0.3519906119763045/Time: 6.15 seconds\n",
      "Epoch 22/Training loss: 0.3458908024981994/Validation loss: 0.3514857635586845/Time: 6.28 seconds\n",
      "Epoch 23/Training loss: 0.34522882677821787/Validation loss: 0.3509877436470025/Time: 6.28 seconds\n",
      "Epoch 24/Training loss: 0.3446979704981797/Validation loss: 0.3505678660078275/Time: 6.49 seconds\n",
      "Epoch 25/Training loss: 0.3441334307678488/Validation loss: 0.3501163326307839/Time: 6.37 seconds\n",
      "Epoch 26/Training loss: 0.3436149800864024/Validation loss: 0.3497494618542301/Time: 6.37 seconds\n",
      "Epoch 27/Training loss: 0.3430730268501075/Validation loss: 0.3492758201368331/Time: 6.19 seconds\n",
      "Epoch 28/Training loss: 0.3425976444292021/Validation loss: 0.34894255377179945/Time: 6.84 seconds\n",
      "Epoch 29/Training loss: 0.3421654565157661/Validation loss: 0.34865308937361045/Time: 6.41 seconds\n",
      "Epoch 30/Training loss: 0.34169004404286407/Validation loss: 0.34826326646813877/Time: 6.29 seconds\n",
      "Epoch 31/Training loss: 0.34128469039214243/Validation loss: 0.34789949067427095/Time: 6.25 seconds\n",
      "Epoch 32/Training loss: 0.3408718209734259/Validation loss: 0.3476203556907045/Time: 6.51 seconds\n",
      "Epoch 33/Training loss: 0.3404908430509101/Validation loss: 0.3473645550861366/Time: 6.42 seconds\n",
      "Epoch 34/Training loss: 0.34012349846658396/Validation loss: 0.34704975959338985/Time: 6.35 seconds\n",
      "Epoch 35/Training loss: 0.3397573781165746/Validation loss: 0.3467971141183852/Time: 6.18 seconds\n",
      "Epoch 36/Training loss: 0.3393969848788137/Validation loss: 0.34650320392231393/Time: 6.29 seconds\n",
      "Epoch 37/Training loss: 0.3390524433061394/Validation loss: 0.3462176067168666/Time: 6.6 seconds\n",
      "Epoch 38/Training loss: 0.33874558968740154/Validation loss: 0.3459906499049648/Time: 6.3 seconds\n",
      "Epoch 39/Training loss: 0.3384258377157764/Validation loss: 0.3457309881168227/Time: 6.46 seconds\n",
      "Epoch 40/Training loss: 0.3381433398316281/Validation loss: 0.34555084696057714/Time: 6.3 seconds\n",
      "Epoch 41/Training loss: 0.33785613240590584/Validation loss: 0.34531628605956116/Time: 6.16 seconds\n",
      "Epoch 42/Training loss: 0.33756403075654023/Validation loss: 0.3451358415480593/Time: 6.16 seconds\n",
      "Epoch 43/Training loss: 0.337305580492649/Validation loss: 0.34493755618482075/Time: 6.28 seconds\n",
      "Epoch 44/Training loss: 0.3370752989095777/Validation loss: 0.3447407792229501/Time: 6.25 seconds\n",
      "Epoch 45/Training loss: 0.33681255548898514/Validation loss: 0.34460693698358386/Time: 6.25 seconds\n",
      "Epoch 46/Training loss: 0.33661925522304104/Validation loss: 0.3444450311243543/Time: 6.07 seconds\n",
      "Epoch 47/Training loss: 0.3363883313538357/Validation loss: 0.3442531853551389/Time: 6.15 seconds\n",
      "Epoch 48/Training loss: 0.3361448918733522/Validation loss: 0.34414370422682933/Time: 6.16 seconds\n",
      "Epoch 49/Training loss: 0.33591831869952776/Validation loss: 0.3439362251820172/Time: 6.1 seconds\n",
      "Epoch 50/Training loss: 0.33568714685488577/Validation loss: 0.34371993524046196/Time: 6.04 seconds\n",
      "Epoch 51/Training loss: 0.33555436484563195/Validation loss: 0.34365604951553913/Time: 6.11 seconds\n",
      "Epoch 52/Training loss: 0.3353550857216966/Validation loss: 0.34355019281529825/Time: 6.04 seconds\n",
      "Epoch 53/Training loss: 0.3351731603560521/Validation loss: 0.34343033780453397/Time: 7.37 seconds\n",
      "Epoch 54/Training loss: 0.3350099953294864/Validation loss: 0.3432770036603455/Time: 6.65 seconds\n",
      "Epoch 55/Training loss: 0.3347990289333297/Validation loss: 0.34314823537947214/Time: 6.17 seconds\n",
      "Epoch 56/Training loss: 0.3346648410072401/Validation loss: 0.34302650629866843/Time: 6.18 seconds\n"
     ]
    }
   ],
   "source": [
    "# for pruned, epoch: 80, lr:0.01, reg:0.02, k=100\n",
    "# for 2plus, epoch: 80, lr:0.01, reg:0.02, k=100\n",
    "\n",
    "random.seed(42)\n",
    "np.random.seed(42)\n",
    "\n",
    "# Fit and predict with svd\n",
    "svd_predictor = RatingSVD(\n",
    "    train_data.get_num_users(), train_data.get_num_items(), 2, k=10, \n",
    "    learning_rate=0.001, C=0.2)\n",
    "svd_predictor.fit(train_data.get_matrix(), 100, validation_set=val, early_stop=False)\n",
    "# svd_predictor = LogisticSVD(\n",
    "#     train_data.get_num_users(), train_data.get_num_items(), 2, k=100, \n",
    "#     learning_rate=0.01, C=0.04)\n",
    "# svd_predictor.fit(train_data.get_matrix(), 40, validation_set=val, early_stop=False)\n",
    "\n",
    "# Plot error\n",
    "errors = svd_predictor.get_train_errors()\n",
    "val_errors = svd_predictor.get_val_errors()\n",
    "plt.plot(range(len(errors)), errors, label='Training loss')\n",
    "plt.plot(range(len(val_errors)), val_errors, label='Test loss')\n",
    "plt.xlabel('Epoch')\n",
    "plt.ylabel('Error')\n",
    "plt.title('Error vs Epoch')\n",
    "plt.legend()\n",
    "plt.show()\n",
    "\n",
    "# Compute rmse\n",
    "predictions = svd_predictor.predict_pairs([(user, item) for user, item, _ in val])\n",
    "predictions = [prediction + (val[i][2],) for i, prediction in enumerate(predictions)]\n",
    "metrics = Metrics()\n",
    "rmse = metrics.rmse(predictions)\n",
    "print(\"Validation rmse\", rmse)"
   ]
  },
  {
   "cell_type": "markdown",
   "id": "e93bee4f-c214-4263-a466-4947ed23a770",
   "metadata": {},
   "source": [
    "We can now continue to train if we believe the model is still underfitting."
   ]
  },
  {
   "cell_type": "code",
   "execution_count": 60,
   "id": "943c101b-d3af-4b57-93b9-869686587c0b",
   "metadata": {
    "tags": []
   },
   "outputs": [
    {
     "name": "stdout",
     "output_type": "stream",
     "text": [
      "Epoch 0/Training loss: 0.32828594311114895/Validation loss: 0.3396715959337265/Time: 6.66 seconds\n",
      "Epoch 1/Training loss: 0.328244723120694/Validation loss: 0.33969223099285445/Time: 6.66 seconds\n",
      "Epoch 2/Training loss: 0.328211382592636/Validation loss: 0.3396554953091627/Time: 6.68 seconds\n",
      "Epoch 3/Training loss: 0.32817317781434/Validation loss: 0.33967215435384385/Time: 6.61 seconds\n",
      "Epoch 4/Training loss: 0.32813444207788917/Validation loss: 0.33967858608151985/Time: 6.6 seconds\n"
     ]
    }
   ],
   "source": [
    "svd_predictor.continue_fit(5, early_stop=False)"
   ]
  },
  {
   "cell_type": "code",
   "execution_count": 62,
   "id": "01ba5dcd-24cd-4b78-b882-62414ddc9266",
   "metadata": {},
   "outputs": [
    {
     "data": {
      "image/png": "[encoded data removed]",
      "text/plain": [
       "<Figure size 640x480 with 1 Axes>"
      ]
     },
     "metadata": {},
     "output_type": "display_data"
    },
    {
     "name": "stdout",
     "output_type": "stream",
     "text": [
      "Test rmse 0.33967858608151985\n"
     ]
    }
   ],
   "source": [
    "# Plot error\n",
    "errors = svd_predictor.get_train_errors()\n",
    "val_errors = svd_predictor.get_val_errors()\n",
    "plt.plot(range(len(errors)), errors, label='Training error')\n",
    "plt.plot(range(len(val_errors)), val_errors, label='Test error')\n",
    "plt.xlabel('Epoch')\n",
    "plt.ylabel('Error')\n",
    "plt.title('Error vs Epoch')\n",
    "plt.legend()\n",
    "plt.show()\n",
    "\n",
    "# Compute rmse\n",
    "predictions = svd_predictor.predict_pairs([(user, item) for user, item, _ in val])\n",
    "predictions = [prediction + (val[i][2],) for i, prediction in enumerate(predictions)]\n",
    "metrics = Metrics()\n",
    "rmse = metrics.rmse(predictions)\n",
    "print(\"Test rmse\", rmse)"
   ]
  },
  {
   "cell_type": "code",
   "execution_count": 13,
   "id": "c8ec1dce-b07d-4ec0-bbdb-545031391362",
   "metadata": {},
   "outputs": [
    {
     "data": {
      "image/png": "[encoded data removed]",
      "text/plain": [
       "<Figure size 640x480 with 1 Axes>"
      ]
     },
     "metadata": {},
     "output_type": "display_data"
    },
    {
     "data": {
      "image/png": "[encoded data removed]",
      "text/plain": [
       "<Figure size 640x480 with 1 Axes>"
      ]
     },
     "metadata": {},
     "output_type": "display_data"
    },
    {
     "data": {
      "image/png": "[encoded data removed]",
      "text/plain": [
       "<Figure size 640x480 with 1 Axes>"
      ]
     },
     "metadata": {},
     "output_type": "display_data"
    },
    {
     "data": {
      "image/png": "[encoded data removed]",
      "text/plain": [
       "<Figure size 640x480 with 1 Axes>"
      ]
     },
     "metadata": {},
     "output_type": "display_data"
    }
   ],
   "source": [
    "values, edges = np.histogram(svd_predictor._user_features)\n",
    "plt.stairs(values, edges)\n",
    "plt.show()\n",
    "\n",
    "values, edges = np.histogram(svd_predictor._item_features)\n",
    "plt.stairs(values, edges)\n",
    "plt.show()\n",
    "\n",
    "values, edges = np.histogram(svd_predictor._user_biases)\n",
    "plt.stairs(values, edges)\n",
    "plt.show()\n",
    "\n",
    "values, edges = np.histogram(svd_predictor._item_biases)\n",
    "plt.stairs(values, edges)\n",
    "plt.show()"
   ]
  },
  {
   "cell_type": "code",
   "execution_count": 19,
   "id": "293c4601-37de-4c7a-953d-5edb71ea3bdb",
   "metadata": {},
   "outputs": [
    {
     "data": {
      "text/plain": [
       "array([0.2266501])"
      ]
     },
     "execution_count": 19,
     "metadata": {},
     "output_type": "execute_result"
    }
   ],
   "source": [
    "svd_predictor._item_biases[1539]"
   ]
  },
  {
   "cell_type": "code",
   "execution_count": 18,
   "id": "ac8709f0-870e-414d-a58c-2bf1f7ca679a",
   "metadata": {},
   "outputs": [
    {
     "data": {
      "text/plain": [
       "array([ 0.00952613,  0.01864404, -0.01346813,  0.00450906, -0.00616643,\n",
       "       -0.00447825, -0.00522089, -0.00890432,  0.00052135, -0.00841495,\n",
       "        0.00300656, -0.0001783 , -0.00246038, -0.0086499 , -0.00564713,\n",
       "        0.00816195,  0.0048527 , -0.00946546,  0.0004621 ,  0.00807172,\n",
       "       -0.01594918,  0.00550636, -0.00610157,  0.00579452, -0.00686351,\n",
       "       -0.01740858, -0.01576945,  0.00032434,  0.00182752, -0.00924067,\n",
       "        0.00556033, -0.01720652, -0.00022305, -0.0114425 , -0.00665847,\n",
       "        0.00093457, -0.0078923 , -0.00324512,  0.00987312, -0.00552721,\n",
       "        0.0084424 , -0.01078904,  0.00557768,  0.01216085, -0.02358646,\n",
       "       -0.00761   ,  0.00506585, -0.00236688,  0.00390922, -0.00609607,\n",
       "        0.00192263, -0.00172764,  0.01129835,  0.00260308,  0.0034957 ,\n",
       "       -0.00394494, -0.00374314, -0.00367062,  0.00479199, -0.00336754,\n",
       "        0.00307423,  0.02006317,  0.00876805, -0.00334132,  0.01140959,\n",
       "       -0.00391327, -0.019327  , -0.00885831, -0.01750494, -0.00422257,\n",
       "        0.00048074,  0.01692285,  0.00330695, -0.00331616,  0.00739486,\n",
       "       -0.02145871,  0.00156973,  0.00799067, -0.0133662 ,  0.01058875,\n",
       "        0.00329577, -0.00424912,  0.00610998,  0.02224361,  0.00162606,\n",
       "        0.00178015, -0.00430257, -0.0072321 ,  0.00823245, -0.00823875,\n",
       "        0.0005563 , -0.00428498,  0.00405491,  0.00318885,  0.01021042,\n",
       "       -0.00476103, -0.00311453, -0.01029297, -0.0040038 ,  0.00348998])"
      ]
     },
     "execution_count": 18,
     "metadata": {},
     "output_type": "execute_result"
    }
   ],
   "source": [
    "svd_predictor._user_features[5]"
   ]
  },
  {
   "cell_type": "markdown",
   "id": "eab76d16-333f-47d2-9fe9-7c6ee891533f",
   "metadata": {},
   "source": [
    "We compute similarities for item-knn."
   ]
  },
  {
   "cell_type": "code",
   "execution_count": 71,
   "id": "357a8cf6-fd71-4ea3-b90a-f6dd3ff944a8",
   "metadata": {},
   "outputs": [
    {
     "name": "stdout",
     "output_type": "stream",
     "text": [
      "Computing similarities...\n",
      "Upto row 1 / 2215\n",
      "Upto row 201 / 2215\n",
      "Upto row 401 / 2215\n",
      "Upto row 601 / 2215\n",
      "Upto row 801 / 2215\n",
      "Upto row 1001 / 2215\n",
      "Upto row 1201 / 2215\n",
      "Upto row 1401 / 2215\n",
      "Upto row 1601 / 2215\n",
      "Upto row 1801 / 2215\n",
      "Upto row 2001 / 2215\n",
      "Upto row 2201 / 2215\n",
      "Done computing similarities in 433.3377513885498 seconds\n"
     ]
    }
   ],
   "source": [
    "svd_predictor.compute_sims()"
   ]
  },
  {
   "cell_type": "markdown",
   "id": "f7734567-9d7a-48be-96a6-90b0d0ab5ed2",
   "metadata": {},
   "source": [
    "## Preparing for Production"
   ]
  },
  {
   "cell_type": "code",
   "execution_count": 81,
   "id": "d04afbad-e0a1-4581-9b07-fede8f20af03",
   "metadata": {},
   "outputs": [],
   "source": [
    "svd_predictor.prep_for_item_knn()\n",
    "train_data.prep_for_item_knn()"
   ]
  },
  {
   "cell_type": "markdown",
   "id": "82e3cd3f-7857-4dfa-ab53-998eb6383fe4",
   "metadata": {},
   "source": [
    "## Saving the model"
   ]
  },
  {
   "cell_type": "code",
   "execution_count": 82,
   "id": "b664f8ce-2bcf-4bc2-8e25-51fee4d447fc",
   "metadata": {},
   "outputs": [
    {
     "name": "stdout",
     "output_type": "stream",
     "text": [
      "Saving model...\n",
      "Done saving model.\n"
     ]
    }
   ],
   "source": [
    "# Ensure file exists\n",
    "model_dir = model_dir = \"saved_models/{}-{}-{}-{}-{}-{}_{}\".format(\n",
    "    *(time.localtime()[:6] + (round(rmse, 4), ))).replace(\".\", \"-\") + \".pkl\" \n",
    "file = open(model_dir, 'a')\n",
    "file.close()\n",
    "\n",
    "# Save model\n",
    "print(\"Saving model...\")\n",
    "with open(model_dir, 'wb') as file:\n",
    "    pickle.dump([train_data, svd_predictor], file)\n",
    "print(\"Done saving model.\")"
   ]
  },
  {
   "cell_type": "markdown",
   "id": "c87713d2-dde8-4914-bbfa-4ecc35026e7d",
   "metadata": {},
   "source": [
    "## Tests"
   ]
  },
  {
   "cell_type": "code",
   "execution_count": 2,
   "id": "4a7b2b6c-8ffd-4ec7-8f4e-34e2b0b4b75d",
   "metadata": {},
   "outputs": [],
   "source": [
    "with open('saved_models/2023-7-8-12-15-13_0-37.pkl', 'rb') as file:\n",
    "    train_data, svd_predictor = pickle.load(file)"
   ]
  },
  {
   "cell_type": "markdown",
   "id": "0e48ab10-867a-46a3-9747-6ed959f69227",
   "metadata": {},
   "source": [
    "### Testing Rerank"
   ]
  },
  {
   "cell_type": "code",
   "execution_count": 10,
   "id": "2b4a3c0b-13ab-4d1c-86c8-31201d89f254",
   "metadata": {},
   "outputs": [],
   "source": [
    "# data.search_title('forza')"
   ]
  },
  {
   "cell_type": "code",
   "execution_count": 11,
   "id": "95e7e697-071d-4912-aa5a-11e180fe76dd",
   "metadata": {},
   "outputs": [],
   "source": [
    "# filtered = svd_predictor.items_top_n([(286, 1)])\n",
    "# app_ids = []\n",
    "# for item_index in filtered:\n",
    "#     app_ids.append(data.index_to_item_id(item_index))\n",
    "# df = pd.DataFrame({'app_id': app_ids})\n",
    "# predictions = ranker.predict(df)\n",
    "# df['relevance'] = predictions\n",
    "# df.head()\n",
    "# df = df.sort_values(by='relevance', ascending=False)\n",
    "# df.head()"
   ]
  },
  {
   "cell_type": "code",
   "execution_count": 12,
   "id": "d950c6e3-540c-466a-b484-6014326a2ad9",
   "metadata": {},
   "outputs": [],
   "source": [
    "# pprint([[data.index_to_title(data.item_id_to_index(i)) for _, i, _ in df.itertuples()]][0][:20])"
   ]
  },
  {
   "cell_type": "markdown",
   "id": "016d8055-1b91-413a-a7d4-bd887a37dfd1",
   "metadata": {},
   "source": [
    "### Testing Performance"
   ]
  },
  {
   "cell_type": "markdown",
   "id": "88dfe817-1562-40fd-937e-9af562edb283",
   "metadata": {},
   "source": [
    "Checking recall."
   ]
  },
  {
   "cell_type": "code",
   "execution_count": null,
   "id": "ee197e75-6462-463c-84fa-2293e9e865f3",
   "metadata": {},
   "outputs": [],
   "source": [
    "start_time = time.time()\n",
    "print(\"Computing recall...\")\n",
    "svd_predictor.compute_recall(val)\n",
    "print(\"Done computing recall in\", time.time() - start_time, \"seconds\")"
   ]
  },
  {
   "cell_type": "markdown",
   "id": "05865fa9-d901-49f5-87e0-537095f21d06",
   "metadata": {},
   "source": [
    "Checking item-based knn."
   ]
  },
  {
   "cell_type": "code",
   "execution_count": 15,
   "id": "e7d2169e-1031-4913-8aad-125cb1ebbe00",
   "metadata": {},
   "outputs": [
    {
     "data": {
      "text/plain": [
       "[('The Golf Club™ 2019 featuring PGA TOUR', 1833), ('Turing Complete', 1539)]"
      ]
     },
     "execution_count": 15,
     "metadata": {},
     "output_type": "execute_result"
    }
   ],
   "source": [
    "train_data.search_title('turing')"
   ]
  },
  {
   "cell_type": "code",
   "execution_count": 69,
   "id": "a225937b-fc43-418b-bd28-efa4cf56b1b4",
   "metadata": {},
   "outputs": [
    {
     "ename": "AttributeError",
     "evalue": "'RatingSVD' object has no attribute '_sims'",
     "output_type": "error",
     "traceback": [
      "\u001b[1;31m---------------------------------------------------------------------------\u001b[0m",
      "\u001b[1;31mAttributeError\u001b[0m                            Traceback (most recent call last)",
      "Cell \u001b[1;32mIn[69], line 1\u001b[0m\n\u001b[1;32m----> 1\u001b[0m top \u001b[38;5;241m=\u001b[39m svd_predictor\u001b[38;5;241m.\u001b[39mitems_knn([(\u001b[38;5;241m0\u001b[39m, \u001b[38;5;241m1\u001b[39m)], n\u001b[38;5;241m=\u001b[39m\u001b[38;5;241m10\u001b[39m)\n\u001b[0;32m      2\u001b[0m pprint([(sim, train_data\u001b[38;5;241m.\u001b[39mindex_to_title(index)) \u001b[38;5;28;01mfor\u001b[39;00m sim, index \u001b[38;5;129;01min\u001b[39;00m top])\n",
      "File \u001b[1;32m~\\Files\\GitHub\\game-rec\\SVD.py:225\u001b[0m, in \u001b[0;36mSVDBase.items_knn\u001b[1;34m(self, subjects, n)\u001b[0m\n\u001b[0;32m    222\u001b[0m \u001b[38;5;28;01mif\u001b[39;00m pref \u001b[38;5;241m==\u001b[39m \u001b[38;5;241m0\u001b[39m:\n\u001b[0;32m    223\u001b[0m     \u001b[38;5;28;01mcontinue\u001b[39;00m\n\u001b[1;32m--> 225\u001b[0m \u001b[38;5;28;01mfor\u001b[39;00m j \u001b[38;5;129;01min\u001b[39;00m \u001b[38;5;28mrange\u001b[39m(\u001b[38;5;28mself\u001b[39m\u001b[38;5;241m.\u001b[39m_sims\u001b[38;5;241m.\u001b[39mshape[\u001b[38;5;241m0\u001b[39m]):\n\u001b[0;32m    226\u001b[0m     \u001b[38;5;28;01mif\u001b[39;00m i \u001b[38;5;241m==\u001b[39m j \u001b[38;5;129;01mor\u001b[39;00m j \u001b[38;5;129;01min\u001b[39;00m seen:\n\u001b[0;32m    227\u001b[0m         \u001b[38;5;28;01mcontinue\u001b[39;00m\n",
      "\u001b[1;31mAttributeError\u001b[0m: 'RatingSVD' object has no attribute '_sims'"
     ]
    }
   ],
   "source": [
    "top = svd_predictor.items_knn([(0, 1)], n=10)\n",
    "pprint([(sim, train_data.index_to_title(index)) for sim, index in top])"
   ]
  },
  {
   "cell_type": "markdown",
   "id": "bb3e6fc7-58bb-4b49-b242-83d19b8af856",
   "metadata": {},
   "source": [
    "Checking collaborative filtering."
   ]
  },
  {
   "cell_type": "code",
   "execution_count": 79,
   "id": "94608c30-3d42-4734-86a0-556d074549c7",
   "metadata": {},
   "outputs": [
    {
     "data": {
      "text/plain": [
       "0.8093770895145387"
      ]
     },
     "execution_count": 79,
     "metadata": {},
     "output_type": "execute_result"
    }
   ],
   "source": [
    "svd_predictor._mu"
   ]
  },
  {
   "cell_type": "code",
   "execution_count": 68,
   "id": "6ab5770d-962b-47b1-9b82-74feac83f214",
   "metadata": {},
   "outputs": [
    {
     "name": "stdout",
     "output_type": "stream",
     "text": [
      "Predicted top n:\n",
      "1539\n",
      "[(0.7347961201584301, 'de Blob 2'),\n",
      " (0.7346595182208362, 'Quest for Glory 1-5'),\n",
      " (0.7343444902803863, 'SEUM: Speedrunners from Hell'),\n",
      " (0.7343366193393164, 'Crypt of the NecroDancer'),\n",
      " (0.7340534394459707, 'Return to Monkey Island'),\n",
      " (0.7340135629467421, 'Odd Realm'),\n",
      " (0.7337245471891076, 'Heat Signature'),\n",
      " (0.7336960346872813, 'Jet Island'),\n",
      " (0.733655203610744, 'Star Wars: Battlefront 2 (Classic 2005)'),\n",
      " (0.7336227500789434, 'Sam & Max: Beyond Time and Space')]\n",
      "True top n:\n",
      "['Stray',\n",
      " 'Detroit: Become Human',\n",
      " 'Do Not Feed the Monkeys',\n",
      " 'Max Payne 3',\n",
      " 'Call of Juarez: Gunslinger',\n",
      " 'Papers Please',\n",
      " 'Dishonored 2',\n",
      " 'Remember Me',\n",
      " 'Keep Talking and Nobody Explodes',\n",
      " 'Yakuza Kiwami',\n",
      " 'Spec Ops: The Line',\n",
      " 'Cyberpunk 2077',\n",
      " 'Horizon Zero Dawn™ Complete Edition',\n",
      " 'METAL GEAR RISING: REVENGEANCE',\n",
      " 'Shadow of the Tomb Raider: Definitive Edition',\n",
      " 'Dying Light',\n",
      " 'Call of Duty®: Black Ops II',\n",
      " 'Arma II: DayZ Mod']\n"
     ]
    }
   ],
   "source": [
    "j = 67\n",
    "\n",
    "# Test top-n list for user j\n",
    "top_n = svd_predictor.top_n(j, 1000, remove_bias=False)\n",
    "print(\"Predicted top n:\")\n",
    "pprint([index for r, index in top_n][0])\n",
    "pprint([(r, train_data.index_to_title(index)) for r, index in top_n][200:210])\n",
    "\n",
    "# User j true top n list\n",
    "print(\"True top n:\")\n",
    "true_top = train_data.top_n(j, 5000)\n",
    "pprint([train_data.index_to_title(index) for _, index in true_top])"
   ]
  },
  {
   "cell_type": "code",
   "execution_count": null,
   "id": "63925360-7785-4740-9558-981b64ce8931",
   "metadata": {},
   "outputs": [],
   "source": []
  }
 ],
 "metadata": {
  "kernelspec": {
   "display_name": "Python 3 (ipykernel)",
   "language": "python",
   "name": "python3"
  },
  "language_info": {
   "codemirror_mode": {
    "name": "ipython",
    "version": 3
   },
   "file_extension": ".py",
   "mimetype": "text/x-python",
   "name": "python",
   "nbconvert_exporter": "python",
   "pygments_lexer": "ipython3",
   "version": "3.11.4"
  }
 },
 "nbformat": 4,
 "nbformat_minor": 5
}
