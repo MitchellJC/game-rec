{
 "cells": [
  {
   "cell_type": "markdown",
   "id": "a8554b74-824d-4dd9-9159-38c6fc305828",
   "metadata": {},
   "source": [
    "# Modelling"
   ]
  },
  {
   "cell_type": "code",
   "execution_count": 130,
   "id": "cfd28a59-588e-47cc-ab61-bb9e8674854a",
   "metadata": {},
   "outputs": [
    {
     "name": "stdin",
     "output_type": "stream",
     "text": [
      "Once deleted, variables cannot be recovered. Proceed (y/[n])?  y\n"
     ]
    }
   ],
   "source": [
    "%reset"
   ]
  },
  {
   "cell_type": "code",
   "execution_count": 1,
   "id": "2b35e932-407e-4160-878a-1547e900cce9",
   "metadata": {},
   "outputs": [],
   "source": [
    "import numpy as np\n",
    "from scipy.sparse import csr_array, lil_array\n",
    "import matplotlib.pyplot as plt\n",
    "import pandas as pd\n",
    "import math\n",
    "import pickle\n",
    "import time\n",
    "import datetime\n",
    "import random\n",
    "from pprint import pprint\n",
    "from lightgbm import LGBMRanker\n",
    "from sklearn.model_selection import train_test_split\n",
    "\n",
    "from SVD import Metrics, RatingSVD, LogisticSVD\n",
    "from RecData import RecData"
   ]
  },
  {
   "cell_type": "markdown",
   "id": "5e68c45e-13f9-4979-b916-34cec1db601d",
   "metadata": {},
   "source": [
    "## Data Preprocessing"
   ]
  },
  {
   "cell_type": "code",
   "execution_count": 2,
   "id": "86929969-e5de-468e-b024-80cf550c6e8f",
   "metadata": {},
   "outputs": [
    {
     "name": "stdout",
     "output_type": "stream",
     "text": [
      "Shape: (1482464, 3)\n"
     ]
    },
    {
     "data": {
      "text/html": [
       "<div>\n",
       "<style scoped>\n",
       "    .dataframe tbody tr th:only-of-type {\n",
       "        vertical-align: middle;\n",
       "    }\n",
       "\n",
       "    .dataframe tbody tr th {\n",
       "        vertical-align: top;\n",
       "    }\n",
       "\n",
       "    .dataframe thead th {\n",
       "        text-align: right;\n",
       "    }\n",
       "</style>\n",
       "<table border=\"1\" class=\"dataframe\">\n",
       "  <thead>\n",
       "    <tr style=\"text-align: right;\">\n",
       "      <th></th>\n",
       "      <th>app_id</th>\n",
       "      <th>is_recommended</th>\n",
       "      <th>user_id</th>\n",
       "    </tr>\n",
       "  </thead>\n",
       "  <tbody>\n",
       "    <tr>\n",
       "      <th>420790</th>\n",
       "      <td>12210</td>\n",
       "      <td>True</td>\n",
       "      <td>240</td>\n",
       "    </tr>\n",
       "    <tr>\n",
       "      <th>675882</th>\n",
       "      <td>22380</td>\n",
       "      <td>True</td>\n",
       "      <td>240</td>\n",
       "    </tr>\n",
       "    <tr>\n",
       "      <th>246231</th>\n",
       "      <td>239140</td>\n",
       "      <td>True</td>\n",
       "      <td>240</td>\n",
       "    </tr>\n",
       "    <tr>\n",
       "      <th>539676</th>\n",
       "      <td>251570</td>\n",
       "      <td>True</td>\n",
       "      <td>240</td>\n",
       "    </tr>\n",
       "    <tr>\n",
       "      <th>521289</th>\n",
       "      <td>270880</td>\n",
       "      <td>True</td>\n",
       "      <td>240</td>\n",
       "    </tr>\n",
       "  </tbody>\n",
       "</table>\n",
       "</div>"
      ],
      "text/plain": [
       "        app_id  is_recommended  user_id\n",
       "420790   12210            True      240\n",
       "675882   22380            True      240\n",
       "246231  239140            True      240\n",
       "539676  251570            True      240\n",
       "521289  270880            True      240"
      ]
     },
     "execution_count": 2,
     "metadata": {},
     "output_type": "execute_result"
    }
   ],
   "source": [
    "# recs = pd.read_csv('data/recommendations.csv')\n",
    "# recs = pd.read_csv('data/pruned.csv')\n",
    "# recs = pd.read_csv('data/2plus.csv')\n",
    "recs = pd.read_csv('data/full_pruned.csv')\n",
    "\n",
    "USED_COLS = ['app_id', 'is_recommended', 'user_id']\n",
    "recs = recs[USED_COLS]\n",
    "\n",
    "item_data = pd.read_csv('data/games.csv')\n",
    "titles = item_data[['app_id', 'title']]\n",
    "\n",
    "print(\"Shape:\", recs.shape)\n",
    "recs.sort_values(by=['user_id', 'app_id']).head()"
   ]
  },
  {
   "cell_type": "code",
   "execution_count": 3,
   "id": "78f0adeb-df3b-4750-b1f5-91c115d6238e",
   "metadata": {},
   "outputs": [],
   "source": [
    "# random.seed(42)\n",
    "# np.random.seed(42)\n",
    "\n",
    "# rec_data = RecData()\n",
    "# rec_data.create_from_dataframe(recs)\n",
    "# rec_data.set_titles(titles)\n",
    "\n",
    "# # del recs\n",
    "\n",
    "# start_time = time.time()\n",
    "# print(\"Creating splits...\")\n",
    "# train_data, test = rec_data.train_test_split(test_size=0.2)\n",
    "# print(\"First split done.\")\n",
    "# train_data, val = train_data.train_test_split(test_size=0.2)\n",
    "# print(\"Done creating splits in\", time.time() - start_time, \"seconds\")"
   ]
  },
  {
   "cell_type": "code",
   "execution_count": 4,
   "id": "41d0fdf6-2dff-4196-b2ad-a7f4c4de981c",
   "metadata": {
    "tags": []
   },
   "outputs": [
    {
     "name": "stdout",
     "output_type": "stream",
     "text": [
      "Creating utility matrix...\n",
      "Done utility matrix.\n",
      "Creating splits...\n",
      "Done user 1 / 63175\n",
      "Done user 10001 / 63175\n",
      "Done user 20001 / 63175\n",
      "Done user 30001 / 63175\n",
      "Done user 40001 / 63175\n",
      "Done user 50001 / 63175\n",
      "Done user 60001 / 63175\n",
      "Done creating splits.\n"
     ]
    }
   ],
   "source": [
    "random.seed(42)\n",
    "np.random.seed(42)\n",
    "rec_data = RecData()\n",
    "rec_data.create_from_dataframe(recs)\n",
    "rec_data.set_titles(titles)\n",
    "\n",
    "# del recs\n",
    "\n",
    "print(\"Creating splits...\")\n",
    "train_data, val = rec_data.leave_k_out_split(k=1, create_val=False)\n",
    "print(\"Done creating splits.\")"
   ]
  },
  {
   "cell_type": "code",
   "execution_count": 5,
   "id": "55f5d9d9-039c-485f-abf7-e8cc5448cedb",
   "metadata": {},
   "outputs": [],
   "source": [
    "del rec_data\n",
    "del item_data\n",
    "del titles"
   ]
  },
  {
   "cell_type": "markdown",
   "id": "6210ec68-3810-4694-9a42-956ba7be0b73",
   "metadata": {},
   "source": [
    "## Ranker"
   ]
  },
  {
   "cell_type": "markdown",
   "id": "ac596ab5-0048-4b3f-8d50-e3405644f8f8",
   "metadata": {},
   "source": [
    "This was used as a postprocessing step after using item-knn for candidate generation. Was not able to get good results."
   ]
  },
  {
   "cell_type": "code",
   "execution_count": 6,
   "id": "272d92ab-e737-4b6b-b27c-65ec71047b29",
   "metadata": {},
   "outputs": [],
   "source": [
    "# train = train_data.generate_dataframe()\n",
    "# X_train = train[['app_id', 'user_id']]\n",
    "# y_train = train['is_recommended'].to_numpy()\n",
    "\n",
    "# X_train = X_train.sort_values(by='user_id')\n",
    "# counts = X_train['user_id'].value_counts(sort=False)\n",
    "# X_train = X_train[['app_id']]"
   ]
  },
  {
   "cell_type": "code",
   "execution_count": 7,
   "id": "f460d47b-e26d-4fe3-80e3-38af037c4c1d",
   "metadata": {},
   "outputs": [],
   "source": [
    "# ranker = LGBMRanker(n_estimators=300, random_state=42, objective='lambdarank')\n",
    "# ranker = ranker.fit(X_train, y_train, group = counts.values, categorical_feature=['app_id'],\n",
    "#                     eval_set=[(X_train, y_train)], eval_group=[counts.values], \n",
    "#                     eval_at=20)"
   ]
  },
  {
   "cell_type": "markdown",
   "id": "19eabdaf-e7ae-406f-adfa-73217bd74e25",
   "metadata": {},
   "source": [
    "## Training SVD"
   ]
  },
  {
   "cell_type": "code",
   "execution_count": null,
   "id": "5cb4b4a6-76ca-4200-8e02-53c6bf30ab6e",
   "metadata": {},
   "outputs": [],
   "source": [
    "# for pruned, epoch: 80, lr:0.01, reg:0.02, k=100\n",
    "# for 2plus, epoch: 80, lr:0.01, reg:0.02, k=100\n",
    "\n",
    "random.seed(42)\n",
    "np.random.seed(42)\n",
    "\n",
    "# Fit and predict with svd\n",
    "svd_predictor = RatingSVD(\n",
    "    train_data.get_num_users(), train_data.get_num_items(), 2, k=100, \n",
    "    learning_rate=0.001, C=0.02)\n",
    "svd_predictor.fit(train_data.get_matrix(), 60, validation_set=val, early_stop=False)\n",
    "# svd_predictor = LogisticSVD(\n",
    "#     train_data.get_num_users(), train_data.get_num_items(), 2, k=100, \n",
    "#     learning_rate=0.01, C=0.04)\n",
    "# svd_predictor.fit(train_data.get_matrix(), 40, validation_set=val, early_stop=False)\n",
    "\n",
    "# Plot error\n",
    "errors = svd_predictor.get_train_errors()\n",
    "val_errors = svd_predictor.get_val_errors()\n",
    "plt.plot(range(len(errors)), errors, label='Training loss')\n",
    "plt.plot(range(len(val_errors)), val_errors, label='Test loss')\n",
    "plt.xlabel('Epoch')\n",
    "plt.ylabel('Error')\n",
    "plt.title('Error vs Epoch')\n",
    "plt.legend()\n",
    "plt.show()\n",
    "\n",
    "# Compute rmse\n",
    "predictions = svd_predictor.predict_pairs([(user, item) for user, item, _ in val])\n",
    "predictions = [prediction + (val[i][2],) for i, prediction in enumerate(predictions)]\n",
    "metrics = Metrics()\n",
    "rmse = metrics.rmse(predictions)\n",
    "print(\"Validation rmse\", rmse)"
   ]
  },
  {
   "cell_type": "markdown",
   "id": "e93bee4f-c214-4263-a466-4947ed23a770",
   "metadata": {},
   "source": [
    "We can now continue to train if we believe the model is still underfitting."
   ]
  },
  {
   "cell_type": "code",
   "execution_count": 36,
   "id": "943c101b-d3af-4b57-93b9-869686587c0b",
   "metadata": {
    "tags": []
   },
   "outputs": [
    {
     "name": "stdout",
     "output_type": "stream",
     "text": [
      "Epoch 0/Training loss: 0.3339409379564407/Validation loss: 0.343504477147107/Time: 6.69 seconds\n",
      "Epoch 1/Training loss: 0.33373533035312236/Validation loss: 0.34331828314924634/Time: 6.73 seconds\n",
      "Epoch 2/Training loss: 0.33353720127707137/Validation loss: 0.3431832637213648/Time: 6.62 seconds\n",
      "Epoch 3/Training loss: 0.33333869292253293/Validation loss: 0.34306799699111024/Time: 6.68 seconds\n",
      "Epoch 4/Training loss: 0.333156469040551/Validation loss: 0.34295658430180254/Time: 6.66 seconds\n"
     ]
    }
   ],
   "source": [
    "svd_predictor.continue_fit(5, early_stop=False)"
   ]
  },
  {
   "cell_type": "code",
   "execution_count": 37,
   "id": "01ba5dcd-24cd-4b78-b882-62414ddc9266",
   "metadata": {},
   "outputs": [
    {
     "data": {
      "image/png": "[encoded data removed]",
      "text/plain": [
       "<Figure size 640x480 with 1 Axes>"
      ]
     },
     "metadata": {},
     "output_type": "display_data"
    },
    {
     "name": "stdout",
     "output_type": "stream",
     "text": [
      "Test rmse 0.34295658430180254\n"
     ]
    }
   ],
   "source": [
    "# Plot error\n",
    "errors = svd_predictor.get_train_errors()\n",
    "val_errors = svd_predictor.get_val_errors()\n",
    "plt.plot(range(len(errors)), errors, label='Training error')\n",
    "plt.plot(range(len(val_errors)), val_errors, label='Test error')\n",
    "plt.xlabel('Epoch')\n",
    "plt.ylabel('Error')\n",
    "plt.title('Error vs Epoch')\n",
    "plt.legend()\n",
    "plt.show()\n",
    "\n",
    "# Compute rmse\n",
    "predictions = svd_predictor.predict_pairs([(user, item) for user, item, _ in val])\n",
    "predictions = [prediction + (val[i][2],) for i, prediction in enumerate(predictions)]\n",
    "metrics = Metrics()\n",
    "rmse = metrics.rmse(predictions)\n",
    "print(\"Test rmse\", rmse)"
   ]
  },
  {
   "cell_type": "markdown",
   "id": "eab76d16-333f-47d2-9fe9-7c6ee891533f",
   "metadata": {},
   "source": [
    "We compute similarities for item-knn."
   ]
  },
  {
   "cell_type": "code",
   "execution_count": 57,
   "id": "357a8cf6-fd71-4ea3-b90a-f6dd3ff944a8",
   "metadata": {},
   "outputs": [
    {
     "name": "stdout",
     "output_type": "stream",
     "text": [
      "Computing similarities...\n",
      "Upto row 1 / 2215\n",
      "Upto row 201 / 2215\n",
      "Upto row 401 / 2215\n",
      "Upto row 601 / 2215\n",
      "Upto row 801 / 2215\n",
      "Upto row 1001 / 2215\n",
      "Upto row 1201 / 2215\n",
      "Upto row 1401 / 2215\n",
      "Upto row 1601 / 2215\n",
      "Upto row 1801 / 2215\n",
      "Upto row 2001 / 2215\n",
      "Upto row 2201 / 2215\n",
      "Done computing similarities in 454.7012801170349 seconds\n"
     ]
    }
   ],
   "source": [
    "svd_predictor.compute_sims()"
   ]
  },
  {
   "cell_type": "markdown",
   "id": "f7734567-9d7a-48be-96a6-90b0d0ab5ed2",
   "metadata": {},
   "source": [
    "## Preparing for Production"
   ]
  },
  {
   "cell_type": "code",
   "execution_count": 183,
   "id": "d04afbad-e0a1-4581-9b07-fede8f20af03",
   "metadata": {},
   "outputs": [],
   "source": [
    "svd_predictor.prep_for_item_knn()\n",
    "train_data.prep_for_item_knn()"
   ]
  },
  {
   "cell_type": "markdown",
   "id": "82e3cd3f-7857-4dfa-ab53-998eb6383fe4",
   "metadata": {},
   "source": [
    "## Saving the model"
   ]
  },
  {
   "cell_type": "code",
   "execution_count": 184,
   "id": "b664f8ce-2bcf-4bc2-8e25-51fee4d447fc",
   "metadata": {},
   "outputs": [
    {
     "name": "stdout",
     "output_type": "stream",
     "text": [
      "Saving model...\n",
      "Done saving model.\n"
     ]
    }
   ],
   "source": [
    "# Ensure file exists\n",
    "model_dir = model_dir = \"saved_models/{}-{}-{}-{}-{}-{}_{}\".format(\n",
    "    *(time.localtime()[:6] + (round(rmse, 4), ))).replace(\".\", \"-\") + \".pkl\" \n",
    "file = open(model_dir, 'a')\n",
    "file.close()\n",
    "\n",
    "# Save model\n",
    "print(\"Saving model...\")\n",
    "with open(model_dir, 'wb') as file:\n",
    "    pickle.dump([train_data, svd_predictor], file)\n",
    "print(\"Done saving model.\")"
   ]
  },
  {
   "cell_type": "markdown",
   "id": "c87713d2-dde8-4914-bbfa-4ecc35026e7d",
   "metadata": {},
   "source": [
    "## Tests"
   ]
  },
  {
   "cell_type": "code",
   "execution_count": 2,
   "id": "4a7b2b6c-8ffd-4ec7-8f4e-34e2b0b4b75d",
   "metadata": {},
   "outputs": [],
   "source": [
    "with open('saved_models/2023-7-8-12-15-13_0-37.pkl', 'rb') as file:\n",
    "    train_data, svd_predictor = pickle.load(file)"
   ]
  },
  {
   "cell_type": "markdown",
   "id": "0e48ab10-867a-46a3-9747-6ed959f69227",
   "metadata": {},
   "source": [
    "### Testing Rerank"
   ]
  },
  {
   "cell_type": "code",
   "execution_count": 10,
   "id": "2b4a3c0b-13ab-4d1c-86c8-31201d89f254",
   "metadata": {},
   "outputs": [],
   "source": [
    "# data.search_title('forza')"
   ]
  },
  {
   "cell_type": "code",
   "execution_count": 11,
   "id": "95e7e697-071d-4912-aa5a-11e180fe76dd",
   "metadata": {},
   "outputs": [],
   "source": [
    "# filtered = svd_predictor.items_top_n([(286, 1)])\n",
    "# app_ids = []\n",
    "# for item_index in filtered:\n",
    "#     app_ids.append(data.index_to_item_id(item_index))\n",
    "# df = pd.DataFrame({'app_id': app_ids})\n",
    "# predictions = ranker.predict(df)\n",
    "# df['relevance'] = predictions\n",
    "# df.head()\n",
    "# df = df.sort_values(by='relevance', ascending=False)\n",
    "# df.head()"
   ]
  },
  {
   "cell_type": "code",
   "execution_count": 12,
   "id": "d950c6e3-540c-466a-b484-6014326a2ad9",
   "metadata": {},
   "outputs": [],
   "source": [
    "# pprint([[data.index_to_title(data.item_id_to_index(i)) for _, i, _ in df.itertuples()]][0][:20])"
   ]
  },
  {
   "cell_type": "markdown",
   "id": "016d8055-1b91-413a-a7d4-bd887a37dfd1",
   "metadata": {},
   "source": [
    "### Testing Performance"
   ]
  },
  {
   "cell_type": "markdown",
   "id": "88dfe817-1562-40fd-937e-9af562edb283",
   "metadata": {},
   "source": [
    "Checking recall."
   ]
  },
  {
   "cell_type": "code",
   "execution_count": null,
   "id": "ee197e75-6462-463c-84fa-2293e9e865f3",
   "metadata": {},
   "outputs": [],
   "source": [
    "start_time = time.time()\n",
    "print(\"Computing recall...\")\n",
    "svd_predictor.compute_recall(val)\n",
    "print(\"Done computing recall in\", time.time() - start_time, \"seconds\")"
   ]
  },
  {
   "cell_type": "markdown",
   "id": "05865fa9-d901-49f5-87e0-537095f21d06",
   "metadata": {},
   "source": [
    "Checking item-based knn."
   ]
  },
  {
   "cell_type": "code",
   "execution_count": 74,
   "id": "e7d2169e-1031-4913-8aad-125cb1ebbe00",
   "metadata": {},
   "outputs": [
    {
     "data": {
      "text/plain": [
       "[('Forza Horizon 4', 257), ('Forza Horizon 5', 346)]"
      ]
     },
     "execution_count": 74,
     "metadata": {},
     "output_type": "execute_result"
    }
   ],
   "source": [
    "train_data.search_title('forza')"
   ]
  },
  {
   "cell_type": "code",
   "execution_count": 76,
   "id": "a225937b-fc43-418b-bd28-efa4cf56b1b4",
   "metadata": {},
   "outputs": [
    {
     "name": "stdout",
     "output_type": "stream",
     "text": [
      "[(0.3672856684542457, 'The Settlers® : Heritage of Kings - History Edition'),\n",
      " (0.33171227890291777, 'Soulstone Survivors'),\n",
      " (0.31874243965173144, 'Chasm'),\n",
      " (0.3018034662773733, 'NOT A HERO'),\n",
      " (0.289613271883294,\n",
      "  'Atelier Firis: The Alchemist and the Mysterious Journey DX'),\n",
      " (0.28380988787082573, 'Iron Marines'),\n",
      " (0.28235794044914225, 'FINAL FANTASY'),\n",
      " (0.2631693211986328, 'Sakura Succubus'),\n",
      " (0.26132545299057774, 'SpeedRunners'),\n",
      " (0.2551811768509239, 'Resident Evil 2')]\n"
     ]
    }
   ],
   "source": [
    "top = svd_predictor.items_knn([(346, 1)], n=10)\n",
    "pprint([(sim, train_data.index_to_title(index)) for sim, index in top])"
   ]
  },
  {
   "cell_type": "markdown",
   "id": "bb3e6fc7-58bb-4b49-b242-83d19b8af856",
   "metadata": {},
   "source": [
    "Checking collaborative filtering."
   ]
  },
  {
   "cell_type": "code",
   "execution_count": 56,
   "id": "6ab5770d-962b-47b1-9b82-74feac83f214",
   "metadata": {},
   "outputs": [
    {
     "name": "stdout",
     "output_type": "stream",
     "text": [
      "Predicted top n:\n",
      "2059\n",
      "[(0.9386308393345832, 'Choice of Robots'),\n",
      " (0.9290002521346014, 'Gunpoint'),\n",
      " (0.9282429189210235, 'Dungeon Warfare 2'),\n",
      " (0.9281303988132804, 'Thief™ II: The Metal Age'),\n",
      " (0.9262279655632072, 'The Case of the Golden Idol'),\n",
      " (0.92597380742699, 'Glass Masquerade'),\n",
      " (0.9242169033941546, 'Lil Gator Game'),\n",
      " (0.9234030765765379, 'A Hat in Time'),\n",
      " (0.9215685784581443, 'Hexcells Infinite'),\n",
      " (0.9186841493894815, 'Monolith'),\n",
      " (0.9176506432826141, 'Later Alligator'),\n",
      " (0.9146334864163106, 'Vampire: The Masquerade - Bloodlines'),\n",
      " (0.9146097717899037, 'Hell Pie'),\n",
      " (0.9113625024966999, 'Aviary Attorney'),\n",
      " (0.9112049376609791, 'Neon White'),\n",
      " (0.9093204855555509, 'COMPOUND'),\n",
      " (0.9089505322195373, 'Outer Wilds'),\n",
      " (0.908072800214881, 'Controller Companion'),\n",
      " (0.906945778837953, 'Slap City'),\n",
      " (0.9066328041794033, 'Walkabout Mini Golf VR'),\n",
      " (0.9064267623023476, 'Baba Is You'),\n",
      " (0.9062149354231166, 'DAVE THE DIVER'),\n",
      " (0.9061395645557213, 'DUSK'),\n",
      " (0.9060460929034044, 'Psychonauts 2'),\n",
      " (0.9052919592350028, 'Factorio'),\n",
      " (0.9049942658625434, 'Cosmoteer: Starship Architect & Commander'),\n",
      " (0.9044742059045626, 'One Finger Death Punch 2'),\n",
      " (0.904151412224518, 'Bastion'),\n",
      " (0.9037289698139688, 'POSTAL 2'),\n",
      " (0.9033622549524412, 'ULTRAKILL'),\n",
      " (0.9033455222738084, 'Touhou Tenkuushou ~ Hidden Star in Four Seasons.'),\n",
      " (0.9032430931633649, 'Keep Talking and Nobody Explodes'),\n",
      " (0.9031698199172478, 'Portal 2'),\n",
      " (0.9017244939344339, 'Against the Storm'),\n",
      " (0.9015010820799437, 'Bugsnax'),\n",
      " (0.9011382256666183, 'DOOM (1993)'),\n",
      " (0.9007327298910693, 'Vampire Survivors'),\n",
      " (0.9003259915115314, \"Sid Meier's Civilization® V\"),\n",
      " (0.9003135143037021, 'Terraria'),\n",
      " (0.8999251872505489, 'Half-Life: Alyx'),\n",
      " (0.899807632591638, \"Don't Escape: 4 Days to Survive\"),\n",
      " (0.8992634914350807, \"Dragon's Dogma: Dark Arisen\"),\n",
      " (0.8986632847781142, '5D Chess With Multiverse Time Travel'),\n",
      " (0.8985166340175784, 'OMORI'),\n",
      " (0.8984916926927782, 'Downwell'),\n",
      " (0.8984512262710277, 'Persona 5 Royal'),\n",
      " (0.8980640846920952, 'Enigmatis 2: The Mists of Ravenwood'),\n",
      " (0.8980302350916186, 'Parkitect'),\n",
      " (0.8979292416907141, 'Infested Planet'),\n",
      " (0.8979156358561226, 'Total Annihilation'),\n",
      " (0.8977209786221898, 'Cruelty Squad'),\n",
      " (0.8975572556282385, 'POSTAL: Brain Damaged'),\n",
      " (0.8968927763703742, 'Unavowed'),\n",
      " (0.896463026954598, 'Ori and the Will of the Wisps'),\n",
      " (0.8960442171013651, 'Symphony of War: The Nephilim Saga'),\n",
      " (0.8959799901922871, 'Slay the Spire'),\n",
      " (0.8959638577740675, 'PlateUp!'),\n",
      " (0.8958736198399625, 'West of Loathing'),\n",
      " (0.8958612740890196, 'Detention'),\n",
      " (0.8957051765793398, 'Guns Gore and Cannoli 2'),\n",
      " (0.895679344372485, 'Mindustry'),\n",
      " (0.895669782286288, 'Portal'),\n",
      " (0.8952179564175066, 'EARTH DEFENSE FORCE 5'),\n",
      " (0.895057735635362, 'FINAL FANTASY X/X-2 HD Remaster'),\n",
      " (0.8949277729041927, 'Incredibox'),\n",
      " (0.8943662884895562, 'Lost Judgment'),\n",
      " (0.8940171510924805, 'Rift Wizard'),\n",
      " (0.8939820224102062, 'Yakuza Kiwami 2'),\n",
      " (0.8939108499994362, \"Yoku's Island Express\"),\n",
      " (0.893659155991841, 'Dyson Sphere Program'),\n",
      " (0.8930785704790997, 'AMID EVIL'),\n",
      " (0.8928213455613896, 'Phoenix Wright: Ace Attorney Trilogy'),\n",
      " (0.8927281910010922, 'Caves of Qud'),\n",
      " (0.8915321463335587, 'Streets of Rogue'),\n",
      " (0.8909780016052197, 'Necesse'),\n",
      " (0.8908477302017845, 'Arma II: DayZ Mod'),\n",
      " (0.8908027990329627, 'Mafia II (Classic)'),\n",
      " (0.8904678080780228, 'Return of the Obra Dinn'),\n",
      " (0.8903567478609127, 'FINAL FANTASY'),\n",
      " (0.889702837989242, 'The Wolf Among Us'),\n",
      " (0.8879134720947421, 'It Takes Two'),\n",
      " (0.8877884280434316, \"Teenage Mutant Ninja Turtles: Shredder's Revenge\"),\n",
      " (0.8877867576814072, 'Milk outside a bag of milk outside a bag of milk'),\n",
      " (0.8877457341040782, 'Total War: SHOGUN 2'),\n",
      " (0.8876192888542814, 'Ultimate Chicken Horse'),\n",
      " (0.8875957932877813, 'Neighbours from Hell Compilation'),\n",
      " (0.8874887644431906, 'Dishonored'),\n",
      " (0.8874188631083874, 'Trombone Champ'),\n",
      " (0.8873835898862545, 'Half-Life 2'),\n",
      " (0.886449568253029, \"Luna's Fishing Garden\"),\n",
      " (0.8862199671058518, 'HROT'),\n",
      " (0.8860934169027119, 'Judgment'),\n",
      " (0.8860772853107263, 'The Great Ace Attorney Chronicles'),\n",
      " (0.8860475655866649, \"DEMON'S TILT\"),\n",
      " (0.885829050511051, 'People Playground'),\n",
      " (0.8856460232458093, 'The Jackbox Party Pack 7'),\n",
      " (0.8852588208994326, 'Left 4 Dead 2'),\n",
      " (0.8851953722490066, 'Shadows Over Loathing'),\n",
      " (0.8851155553618293, 'Northern Journey'),\n",
      " (0.8850561201427908, 'RimWorld')]\n",
      "True top n:\n",
      "['Brotato',\n",
      " 'CarX Drift Racing Online',\n",
      " \"No Man's Sky\",\n",
      " 'Guild Wars 2',\n",
      " 'DARK SOULS™: REMASTERED',\n",
      " 'Halo: The Master Chief Collection',\n",
      " 'MONSTER HUNTER RISE',\n",
      " 'OUTRIDERS',\n",
      " 'Red Dead Online',\n",
      " 'Black Desert',\n",
      " 'Cookie Clicker',\n",
      " 'Squad',\n",
      " 'Muse Dash',\n",
      " 'STAR WARS™ Battlefront™ II',\n",
      " 'Lara Croft and the Guardian of Light',\n",
      " 'TrackMania² Stadium',\n",
      " 'Forsaken World: Gods and Demons',\n",
      " 'The Witcher® 3: Wild Hunt',\n",
      " 'Far Cry® 5',\n",
      " 'Call of Duty®: Modern Warfare® II',\n",
      " 'Hell Let Loose',\n",
      " 'PAYDAY 2',\n",
      " 'Call of Duty®: WWII',\n",
      " 'Ring of Elysium']\n"
     ]
    }
   ],
   "source": [
    "j = 0\n",
    "\n",
    "# Test top-n list for user j\n",
    "top_n = svd_predictor.top_n(j, 1000)\n",
    "print(\"Predicted top n:\")\n",
    "pprint([index for r, index in top_n][0])\n",
    "pprint([(r, train_data.index_to_title(index)) for r, index in top_n][0:100])\n",
    "\n",
    "# User j true top n list\n",
    "print(\"True top n:\")\n",
    "true_top = train_data.top_n(j, 5000)\n",
    "pprint([train_data.index_to_title(index) for _, index in true_top])"
   ]
  },
  {
   "cell_type": "code",
   "execution_count": null,
   "id": "63925360-7785-4740-9558-981b64ce8931",
   "metadata": {},
   "outputs": [],
   "source": []
  }
 ],
 "metadata": {
  "kernelspec": {
   "display_name": "Python 3 (ipykernel)",
   "language": "python",
   "name": "python3"
  },
  "language_info": {
   "codemirror_mode": {
    "name": "ipython",
    "version": 3
   },
   "file_extension": ".py",
   "mimetype": "text/x-python",
   "name": "python",
   "nbconvert_exporter": "python",
   "pygments_lexer": "ipython3",
   "version": "3.11.4"
  }
 },
 "nbformat": 4,
 "nbformat_minor": 5
}
