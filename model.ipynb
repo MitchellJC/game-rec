{
 "cells": [
  {
   "cell_type": "markdown",
   "id": "e583c5e1-2e3b-4558-b34e-7f5b2b467724",
   "metadata": {},
   "source": [
    "# Model"
   ]
  },
  {
   "cell_type": "code",
   "execution_count": 33,
   "id": "97439d14-bd86-4505-8968-fe7d286f2f03",
   "metadata": {},
   "outputs": [
    {
     "name": "stdin",
     "output_type": "stream",
     "text": [
      "Once deleted, variables cannot be recovered. Proceed (y/[n])?  y\n"
     ]
    }
   ],
   "source": [
    "%reset"
   ]
  },
  {
   "cell_type": "code",
   "execution_count": 153,
   "id": "ed3e0a64-0c57-41f9-8141-2624c74aaf0e",
   "metadata": {},
   "outputs": [],
   "source": [
    "import numpy as np\n",
    "from scipy.sparse import csr_matrix\n",
    "from scipy.sparse import lil_matrix\n",
    "import matplotlib.pyplot as plt\n",
    "import pandas as pd\n",
    "import math\n",
    "import pickle\n",
    "import time\n",
    "import datetime\n",
    "import random"
   ]
  },
  {
   "cell_type": "code",
   "execution_count": 154,
   "id": "a32949cc-05ec-434c-942b-4bc370f9faf2",
   "metadata": {},
   "outputs": [],
   "source": [
    "random.seed(42)\n",
    "np.random.seed(42)"
   ]
  },
  {
   "cell_type": "markdown",
   "id": "dd546f85-23a8-41c1-a0f4-5b3718d42dde",
   "metadata": {},
   "source": [
    "## Data Preprocessing"
   ]
  },
  {
   "cell_type": "code",
   "execution_count": 155,
   "id": "34f58a11-b2f4-4520-b664-0a2bc14ec749",
   "metadata": {},
   "outputs": [],
   "source": [
    "recs = pd.read_csv('data/pruned.csv')"
   ]
  },
  {
   "cell_type": "code",
   "execution_count": 156,
   "id": "b690ac29-ad5d-4465-9384-875d91432446",
   "metadata": {},
   "outputs": [
    {
     "data": {
      "text/html": [
       "<div>\n",
       "<style scoped>\n",
       "    .dataframe tbody tr th:only-of-type {\n",
       "        vertical-align: middle;\n",
       "    }\n",
       "\n",
       "    .dataframe tbody tr th {\n",
       "        vertical-align: top;\n",
       "    }\n",
       "\n",
       "    .dataframe thead th {\n",
       "        text-align: right;\n",
       "    }\n",
       "</style>\n",
       "<table border=\"1\" class=\"dataframe\">\n",
       "  <thead>\n",
       "    <tr style=\"text-align: right;\">\n",
       "      <th></th>\n",
       "      <th>app_id</th>\n",
       "      <th>helpful</th>\n",
       "      <th>funny</th>\n",
       "      <th>date</th>\n",
       "      <th>is_recommended</th>\n",
       "      <th>hours</th>\n",
       "      <th>user_id</th>\n",
       "      <th>review_id</th>\n",
       "    </tr>\n",
       "  </thead>\n",
       "  <tbody>\n",
       "    <tr>\n",
       "      <th>0</th>\n",
       "      <td>534380</td>\n",
       "      <td>0</td>\n",
       "      <td>0</td>\n",
       "      <td>2022-10-08</td>\n",
       "      <td>True</td>\n",
       "      <td>40.6</td>\n",
       "      <td>10531</td>\n",
       "      <td>22</td>\n",
       "    </tr>\n",
       "    <tr>\n",
       "      <th>1</th>\n",
       "      <td>42700</td>\n",
       "      <td>6</td>\n",
       "      <td>2</td>\n",
       "      <td>2019-10-19</td>\n",
       "      <td>False</td>\n",
       "      <td>5.9</td>\n",
       "      <td>185293</td>\n",
       "      <td>27</td>\n",
       "    </tr>\n",
       "    <tr>\n",
       "      <th>2</th>\n",
       "      <td>602960</td>\n",
       "      <td>0</td>\n",
       "      <td>0</td>\n",
       "      <td>2022-01-05</td>\n",
       "      <td>True</td>\n",
       "      <td>41.9</td>\n",
       "      <td>319249</td>\n",
       "      <td>58</td>\n",
       "    </tr>\n",
       "    <tr>\n",
       "      <th>3</th>\n",
       "      <td>976730</td>\n",
       "      <td>0</td>\n",
       "      <td>0</td>\n",
       "      <td>2021-11-25</td>\n",
       "      <td>False</td>\n",
       "      <td>21.1</td>\n",
       "      <td>747545</td>\n",
       "      <td>67</td>\n",
       "    </tr>\n",
       "    <tr>\n",
       "      <th>4</th>\n",
       "      <td>1091500</td>\n",
       "      <td>2</td>\n",
       "      <td>0</td>\n",
       "      <td>2022-10-30</td>\n",
       "      <td>True</td>\n",
       "      <td>18.1</td>\n",
       "      <td>2113544</td>\n",
       "      <td>127</td>\n",
       "    </tr>\n",
       "  </tbody>\n",
       "</table>\n",
       "</div>"
      ],
      "text/plain": [
       "    app_id  helpful  funny        date  is_recommended  hours  user_id  \\\n",
       "0   534380        0      0  2022-10-08            True   40.6    10531   \n",
       "1    42700        6      2  2019-10-19           False    5.9   185293   \n",
       "2   602960        0      0  2022-01-05            True   41.9   319249   \n",
       "3   976730        0      0  2021-11-25           False   21.1   747545   \n",
       "4  1091500        2      0  2022-10-30            True   18.1  2113544   \n",
       "\n",
       "   review_id  \n",
       "0         22  \n",
       "1         27  \n",
       "2         58  \n",
       "3         67  \n",
       "4        127  "
      ]
     },
     "execution_count": 156,
     "metadata": {},
     "output_type": "execute_result"
    }
   ],
   "source": [
    "recs.head()"
   ]
  },
  {
   "cell_type": "code",
   "execution_count": 157,
   "id": "5f8d14a4-3d9f-4fed-aa85-924fe34449f0",
   "metadata": {},
   "outputs": [
    {
     "data": {
      "text/html": [
       "<div>\n",
       "<style scoped>\n",
       "    .dataframe tbody tr th:only-of-type {\n",
       "        vertical-align: middle;\n",
       "    }\n",
       "\n",
       "    .dataframe tbody tr th {\n",
       "        vertical-align: top;\n",
       "    }\n",
       "\n",
       "    .dataframe thead th {\n",
       "        text-align: right;\n",
       "    }\n",
       "</style>\n",
       "<table border=\"1\" class=\"dataframe\">\n",
       "  <thead>\n",
       "    <tr style=\"text-align: right;\">\n",
       "      <th></th>\n",
       "      <th>app_id</th>\n",
       "      <th>is_recommended</th>\n",
       "      <th>user_id</th>\n",
       "    </tr>\n",
       "  </thead>\n",
       "  <tbody>\n",
       "    <tr>\n",
       "      <th>0</th>\n",
       "      <td>534380</td>\n",
       "      <td>True</td>\n",
       "      <td>10531</td>\n",
       "    </tr>\n",
       "    <tr>\n",
       "      <th>1</th>\n",
       "      <td>42700</td>\n",
       "      <td>False</td>\n",
       "      <td>185293</td>\n",
       "    </tr>\n",
       "    <tr>\n",
       "      <th>2</th>\n",
       "      <td>602960</td>\n",
       "      <td>True</td>\n",
       "      <td>319249</td>\n",
       "    </tr>\n",
       "    <tr>\n",
       "      <th>3</th>\n",
       "      <td>976730</td>\n",
       "      <td>False</td>\n",
       "      <td>747545</td>\n",
       "    </tr>\n",
       "    <tr>\n",
       "      <th>4</th>\n",
       "      <td>1091500</td>\n",
       "      <td>True</td>\n",
       "      <td>2113544</td>\n",
       "    </tr>\n",
       "  </tbody>\n",
       "</table>\n",
       "</div>"
      ],
      "text/plain": [
       "    app_id  is_recommended  user_id\n",
       "0   534380            True    10531\n",
       "1    42700           False   185293\n",
       "2   602960            True   319249\n",
       "3   976730           False   747545\n",
       "4  1091500            True  2113544"
      ]
     },
     "execution_count": 157,
     "metadata": {},
     "output_type": "execute_result"
    }
   ],
   "source": [
    "USED_COLS = ['app_id', 'is_recommended', 'user_id']\n",
    "\n",
    "recs = recs[USED_COLS]\n",
    "recs.head()"
   ]
  },
  {
   "cell_type": "code",
   "execution_count": 158,
   "id": "3f171f80-7c03-4116-8eee-964b788576d4",
   "metadata": {},
   "outputs": [
    {
     "data": {
      "text/html": [
       "<div>\n",
       "<style scoped>\n",
       "    .dataframe tbody tr th:only-of-type {\n",
       "        vertical-align: middle;\n",
       "    }\n",
       "\n",
       "    .dataframe tbody tr th {\n",
       "        vertical-align: top;\n",
       "    }\n",
       "\n",
       "    .dataframe thead th {\n",
       "        text-align: right;\n",
       "    }\n",
       "</style>\n",
       "<table border=\"1\" class=\"dataframe\">\n",
       "  <thead>\n",
       "    <tr style=\"text-align: right;\">\n",
       "      <th></th>\n",
       "      <th>app_id</th>\n",
       "      <th>title</th>\n",
       "      <th>date_release</th>\n",
       "      <th>win</th>\n",
       "      <th>mac</th>\n",
       "      <th>linux</th>\n",
       "      <th>rating</th>\n",
       "      <th>positive_ratio</th>\n",
       "      <th>user_reviews</th>\n",
       "      <th>price_final</th>\n",
       "      <th>price_original</th>\n",
       "      <th>discount</th>\n",
       "      <th>steam_deck</th>\n",
       "    </tr>\n",
       "  </thead>\n",
       "  <tbody>\n",
       "    <tr>\n",
       "      <th>0</th>\n",
       "      <td>10090</td>\n",
       "      <td>Call of Duty: World at War</td>\n",
       "      <td>2008-11-18</td>\n",
       "      <td>True</td>\n",
       "      <td>False</td>\n",
       "      <td>False</td>\n",
       "      <td>Very Positive</td>\n",
       "      <td>92</td>\n",
       "      <td>37039</td>\n",
       "      <td>19.99</td>\n",
       "      <td>19.99</td>\n",
       "      <td>0.0</td>\n",
       "      <td>True</td>\n",
       "    </tr>\n",
       "    <tr>\n",
       "      <th>1</th>\n",
       "      <td>13500</td>\n",
       "      <td>Prince of Persia: Warrior Within™</td>\n",
       "      <td>2008-11-21</td>\n",
       "      <td>True</td>\n",
       "      <td>False</td>\n",
       "      <td>False</td>\n",
       "      <td>Very Positive</td>\n",
       "      <td>84</td>\n",
       "      <td>2199</td>\n",
       "      <td>9.99</td>\n",
       "      <td>9.99</td>\n",
       "      <td>0.0</td>\n",
       "      <td>True</td>\n",
       "    </tr>\n",
       "    <tr>\n",
       "      <th>2</th>\n",
       "      <td>22364</td>\n",
       "      <td>BRINK: Agents of Change</td>\n",
       "      <td>2011-08-03</td>\n",
       "      <td>True</td>\n",
       "      <td>False</td>\n",
       "      <td>False</td>\n",
       "      <td>Positive</td>\n",
       "      <td>85</td>\n",
       "      <td>21</td>\n",
       "      <td>2.99</td>\n",
       "      <td>2.99</td>\n",
       "      <td>0.0</td>\n",
       "      <td>True</td>\n",
       "    </tr>\n",
       "    <tr>\n",
       "      <th>3</th>\n",
       "      <td>113020</td>\n",
       "      <td>Monaco: What's Yours Is Mine</td>\n",
       "      <td>2013-04-24</td>\n",
       "      <td>True</td>\n",
       "      <td>True</td>\n",
       "      <td>True</td>\n",
       "      <td>Very Positive</td>\n",
       "      <td>92</td>\n",
       "      <td>3722</td>\n",
       "      <td>14.99</td>\n",
       "      <td>14.99</td>\n",
       "      <td>0.0</td>\n",
       "      <td>True</td>\n",
       "    </tr>\n",
       "    <tr>\n",
       "      <th>4</th>\n",
       "      <td>226560</td>\n",
       "      <td>Escape Dead Island</td>\n",
       "      <td>2014-11-18</td>\n",
       "      <td>True</td>\n",
       "      <td>False</td>\n",
       "      <td>False</td>\n",
       "      <td>Mixed</td>\n",
       "      <td>61</td>\n",
       "      <td>873</td>\n",
       "      <td>14.99</td>\n",
       "      <td>14.99</td>\n",
       "      <td>0.0</td>\n",
       "      <td>True</td>\n",
       "    </tr>\n",
       "  </tbody>\n",
       "</table>\n",
       "</div>"
      ],
      "text/plain": [
       "   app_id                              title date_release   win    mac  linux  \\\n",
       "0   10090         Call of Duty: World at War   2008-11-18  True  False  False   \n",
       "1   13500  Prince of Persia: Warrior Within™   2008-11-21  True  False  False   \n",
       "2   22364            BRINK: Agents of Change   2011-08-03  True  False  False   \n",
       "3  113020       Monaco: What's Yours Is Mine   2013-04-24  True   True   True   \n",
       "4  226560                 Escape Dead Island   2014-11-18  True  False  False   \n",
       "\n",
       "          rating  positive_ratio  user_reviews  price_final  price_original  \\\n",
       "0  Very Positive              92         37039        19.99           19.99   \n",
       "1  Very Positive              84          2199         9.99            9.99   \n",
       "2       Positive              85            21         2.99            2.99   \n",
       "3  Very Positive              92          3722        14.99           14.99   \n",
       "4          Mixed              61           873        14.99           14.99   \n",
       "\n",
       "   discount  steam_deck  \n",
       "0       0.0        True  \n",
       "1       0.0        True  \n",
       "2       0.0        True  \n",
       "3       0.0        True  \n",
       "4       0.0        True  "
      ]
     },
     "execution_count": 158,
     "metadata": {},
     "output_type": "execute_result"
    }
   ],
   "source": [
    "item_data = pd.read_csv('data/games.csv')\n",
    "item_data.head()"
   ]
  },
  {
   "cell_type": "code",
   "execution_count": 159,
   "id": "67a849a5-d101-4f01-b4bd-aaa79a228cfb",
   "metadata": {},
   "outputs": [],
   "source": [
    "titles = item_data[['app_id', 'title']]"
   ]
  },
  {
   "cell_type": "markdown",
   "id": "400e18cd-593a-4448-b49d-dddaebf35f4f",
   "metadata": {},
   "source": [
    "## Data Class"
   ]
  },
  {
   "cell_type": "code",
   "execution_count": 160,
   "id": "9395652a-3772-4ddb-a11e-6856cf2ced9a",
   "metadata": {},
   "outputs": [],
   "source": [
    "from RecData import RecData"
   ]
  },
  {
   "cell_type": "code",
   "execution_count": 161,
   "id": "ed0cacde-6c23-476d-ab34-2b1d9af564ce",
   "metadata": {},
   "outputs": [],
   "source": [
    "class Metrics:\n",
    "    def rmse(self, predictions):\n",
    "        return math.sqrt(sum((prediction - true_rating)**2 for _, _, prediction, true_rating in predictions)/len(predictions))"
   ]
  },
  {
   "cell_type": "code",
   "execution_count": 162,
   "id": "6d9e4fc3-22f1-43cc-b190-0ff57ff1d53b",
   "metadata": {},
   "outputs": [],
   "source": [
    "rec_data = RecData()\n",
    "rec_data.create_from_dataframe(recs)\n",
    "rec_data.set_titles(titles)"
   ]
  },
  {
   "cell_type": "code",
   "execution_count": 163,
   "id": "ce114c94-de54-4f3f-81f4-4d03a001050e",
   "metadata": {},
   "outputs": [],
   "source": [
    "train_data, test = rec_data.leave_k_out_split()\n",
    "train_data, val = train_data.leave_k_out_split()"
   ]
  },
  {
   "cell_type": "markdown",
   "id": "a2bd22fc-0d88-4b72-a081-b07d4093c234",
   "metadata": {},
   "source": [
    "## Simple Model"
   ]
  },
  {
   "cell_type": "code",
   "execution_count": 164,
   "id": "97b19e96-db33-471f-8368-78842723265b",
   "metadata": {},
   "outputs": [],
   "source": [
    "def item_averages(M):\n",
    "    # Division by 0 -> no data for item -> predict average of all items\n",
    "    with np.errstate(invalid='ignore'):\n",
    "        # Take item averages\n",
    "        averages = (np.sum(M.toarray(), axis=0)/np.count_nonzero(M.toarray(), axis=0))\n",
    "\n",
    "        # Fill na with averages over all items\n",
    "        averages = np.nan_to_num(averages, nan=np.nanmean(averages))\n",
    "    return averages"
   ]
  },
  {
   "cell_type": "code",
   "execution_count": 165,
   "id": "52fb74f5-c587-4f7c-8f47-923ae154cb12",
   "metadata": {},
   "outputs": [],
   "source": [
    "class AveragePredictor:\n",
    "    \"\"\"Simple model which always predicts the average value of an item.\"\"\"\n",
    "    def fit(self, M):\n",
    "        self._averages = item_averages(M)\n",
    "        \n",
    "    def predict(self, pairs):\n",
    "        \"\"\"Parameters:\n",
    "        pairs - user-item pairs to predict\"\"\"\n",
    "        predictions = []\n",
    "        for user, item in pairs:\n",
    "            predictions.append((user, item, self._averages[item]))\n",
    "\n",
    "        return predictions"
   ]
  },
  {
   "cell_type": "code",
   "execution_count": 166,
   "id": "2fb10fdc-6a82-4973-9881-cee456e5fa73",
   "metadata": {},
   "outputs": [],
   "source": [
    "predictor = AveragePredictor()\n",
    "predictor.fit(train_data.get_matrix())"
   ]
  },
  {
   "cell_type": "code",
   "execution_count": 167,
   "id": "5e4f3c4f-05d4-44b2-83d2-ca797eaa01f4",
   "metadata": {},
   "outputs": [
    {
     "data": {
      "text/plain": [
       "0.4035456108732124"
      ]
     },
     "execution_count": 167,
     "metadata": {},
     "output_type": "execute_result"
    }
   ],
   "source": [
    "predictions = predictor.predict([(user, item) for user, item, _ in val])\n",
    "predictions = [prediction + (test[i][2],) for i, prediction in enumerate(predictions)]\n",
    "metrics = Metrics()\n",
    "metrics.rmse(predictions)"
   ]
  },
  {
   "cell_type": "markdown",
   "id": "1a97d60d-a9b9-4e98-b5c9-bddcb631d7de",
   "metadata": {},
   "source": [
    "## SVD"
   ]
  },
  {
   "cell_type": "code",
   "execution_count": 196,
   "id": "b30c730b-3673-4dc4-8853-e7dfe01caf42",
   "metadata": {},
   "outputs": [],
   "source": [
    "from SVD import SVDPredictor"
   ]
  },
  {
   "cell_type": "markdown",
   "id": "ad8d78d9-68cb-4ff9-b974-b794ce8580f3",
   "metadata": {},
   "source": [
    "Below is testings a fit on all data"
   ]
  },
  {
   "cell_type": "code",
   "execution_count": 197,
   "id": "9dfac856-435d-443b-807b-daadf187e9b9",
   "metadata": {},
   "outputs": [
    {
     "name": "stdout",
     "output_type": "stream",
     "text": [
      "Epoch 0/Training error: 1.8456070071013584/Validation error: 1.852211998953922/Time: 38.65 seconds\n",
      "Epoch 1/Training error: 0.852764552721043/Validation error: 0.8696366767290956/Time: 38.72 seconds\n",
      "Epoch 2/Training error: 0.5139281096964413/Validation error: 0.5157755909137542/Time: 37.13 seconds\n",
      "Epoch 3/Training error: 0.42743878892232434/Validation error: 0.4317819718047689/Time: 37.05 seconds\n",
      "Epoch 4/Training error: 0.3919355129887587/Validation error: 0.39885828682706814/Time: 37.2 seconds\n",
      "Epoch 5/Training error: 0.3732579383539253/Validation error: 0.38191658811009366/Time: 37.28 seconds\n",
      "Epoch 6/Training error: 0.3616549514734005/Validation error: 0.37189834006355027/Time: 41.65 seconds\n",
      "Epoch 7/Training error: 0.3532857124939885/Validation error: 0.3651969973825731/Time: 37.87 seconds\n",
      "Epoch 8/Training error: 0.346431266895533/Validation error: 0.36051183789983865/Time: 38.41 seconds\n",
      "Epoch 9/Training error: 0.3399378658105228/Validation error: 0.35703690993315723/Time: 37.74 seconds\n",
      "Epoch 10/Training error: 0.33349410675429236/Validation error: 0.35450286367515793/Time: 37.23 seconds\n",
      "Epoch 11/Training error: 0.3272714563379854/Validation error: 0.3526821869556936/Time: 37.19 seconds\n",
      "Epoch 12/Training error: 0.3210900822242852/Validation error: 0.35074046791289254/Time: 37.24 seconds\n",
      "Epoch 13/Training error: 0.31480445720250994/Validation error: 0.3501174220031433/Time: 37.07 seconds\n",
      "Epoch 14/Training error: 0.30832838790041733/Validation error: 0.34951497819791627/Time: 38.9 seconds\n"
     ]
    },
    {
     "data": {
      "image/png": "[encoded data removed]",
      "text/plain": [
       "<Figure size 640x480 with 1 Axes>"
      ]
     },
     "metadata": {},
     "output_type": "display_data"
    },
    {
     "name": "stdout",
     "output_type": "stream",
     "text": [
      "Test rmse 0.34951497819791627\n",
      "Saving model...\n",
      "Done saving model.\n"
     ]
    }
   ],
   "source": [
    "EPOCHS = 15\n",
    "\n",
    "random.seed(42)\n",
    "np.random.seed(42)\n",
    "\n",
    "# Fit and predict with svd\n",
    "svd_predictor = SVDPredictor(train_data.get_num_users(), train_data.get_num_items(), k=25, epochs=EPOCHS, learning_rate=0.01, C=0.005)\n",
    "svd_predictor.fit(train_data.get_matrix(), validation_set=val)\n",
    "\n",
    "# Plot error\n",
    "errors = svd_predictor.get_train_errors()\n",
    "val_errors = svd_predictor.get_val_errors()\n",
    "plt.plot(range(EPOCHS), errors, label='Training error')\n",
    "plt.plot(range(EPOCHS), val_errors, label='Test error')\n",
    "plt.xlabel('Epoch')\n",
    "plt.ylabel('Error')\n",
    "plt.title('Error vs Epoch')\n",
    "plt.legend()\n",
    "plt.show()\n",
    "\n",
    "# Compute rmse\n",
    "predictions = svd_predictor.predict([(user, item) for user, item, _ in val])\n",
    "predictions = [prediction + (val[i][2],) for i, prediction in enumerate(predictions)]\n",
    "metrics = Metrics()\n",
    "rmse = metrics.rmse(predictions)\n",
    "print(\"Test rmse\", rmse)\n",
    "\n",
    "model_dir = model_dir = \"saved_models/{}-{}-{}-{}-{}-{}_{}\".format(*(time.localtime()[:6] + (round(rmse, 4), ))).replace(\".\", \"-\") + \".pkl\" \n",
    "\n",
    "# Ensure file exists\n",
    "file = open(model_dir, 'a')\n",
    "file.close()\n",
    "\n",
    "print(\"Saving model...\")\n",
    "with open(model_dir, 'wb') as file:\n",
    "    pickle.dump([svd_predictor, rec_data, train_data, val, test], file)\n",
    "print(\"Done saving model.\")"
   ]
  },
  {
   "cell_type": "code",
   "execution_count": 198,
   "id": "0371cdce-7be1-49c1-9a87-6aab008abfe0",
   "metadata": {},
   "outputs": [
    {
     "name": "stdout",
     "output_type": "stream",
     "text": [
      "[(2.1819324946173424, 1031), (2.175950239401213, 456), (2.1597915922401136, 168), (2.1587838625232516, 384), (2.1540966984197594, 511), (2.152019688930803, 1901), (2.1505927591827234, 544), (2.150259429118729, 1771), (2.149153270143035, 2057), (2.1491011424275293, 761)]\n",
      "['Dungeon Warfare 2', 'Choice of Robots', 'Thief™ II: The Metal Age', 'Hexcells Infinite', 'Controller Companion', 'Symphony of War: The Nephilim Saga', 'Aviary Attorney', 'Against the Storm', 'The Case of the Golden Idol', 'Glass Masquerade']\n"
     ]
    }
   ],
   "source": [
    "# Test top-n list for user 0\n",
    "top_n = svd_predictor.top_n(0)\n",
    "print(top_n)\n",
    "print([train_data.index_to_title(index) for _, index in top_n])"
   ]
  },
  {
   "cell_type": "code",
   "execution_count": 199,
   "id": "40d09e89-0a94-4b83-b02d-e4aebe66a2d0",
   "metadata": {},
   "outputs": [
    {
     "name": "stdout",
     "output_type": "stream",
     "text": [
      "['Grand Theft Auto IV: The Complete Edition', 'Fallout: New Vegas', 'Dying Light', '7 Days to Die', 'American Truck Simulator', 'RimWorld', 'DARK SOULS™ II: Scholar of the First Sin', 'Dead Island Definitive Edition', 'DRAGON BALL XENOVERSE 2', 'Satisfactory', 'Dying Light 2 Stay Human', \"Assassin's Creed® Origins\", 'Phasmophobia', 'Halo: The Master Chief Collection', 'Timberborn', 'Orcs Must Die! 3']\n"
     ]
    }
   ],
   "source": [
    "# User 0 true top n list\n",
    "true_top = rec_data.top_n(0, 100)\n",
    "print([rec_data.index_to_title(index) for _, index in true_top])"
   ]
  },
  {
   "cell_type": "markdown",
   "id": "aee49f9e-5804-48db-ae38-565f71386a34",
   "metadata": {},
   "source": [
    "Testing loading the model below"
   ]
  },
  {
   "cell_type": "code",
   "execution_count": 200,
   "id": "76ca0a40-fa44-4d40-96c0-bdd39fb0bf7f",
   "metadata": {},
   "outputs": [
    {
     "data": {
      "text/plain": [
       "[]"
      ]
     },
     "execution_count": 200,
     "metadata": {},
     "output_type": "execute_result"
    }
   ],
   "source": [
    "rec_data.search_title('1330')"
   ]
  },
  {
   "cell_type": "code",
   "execution_count": 201,
   "id": "b7255659-9117-4b1b-9ca1-fe581e33405c",
   "metadata": {},
   "outputs": [
    {
     "name": "stdout",
     "output_type": "stream",
     "text": [
      "[(606, 'Stardew Valley', 1), (1628, 'The Sims™ 4', 1), (391, 'Mortal Kombat X', 0), (1330, 'Mortal Kombat\\xa011', 0), (500, 'Total War: WARHAMMER', 0), (709, 'UNO', 1), (840, 'MONOPOLY® PLUS', 0), (58, 'SPORE™', 1), (456, 'Choice of Robots', 1), (153, 'Infested Planet', 0), (158, 'Gunpoint', 0), (1160, 'Cosmoteer: Starship Architect & Commander', 0), (761, 'Glass Masquerade', 0), (1771, 'Against the Storm', 0), (544, 'Aviary Attorney', 0), (312, 'Grand Theft Auto V', 0), (277, 'Rust', 0)]\n"
     ]
    }
   ],
   "source": [
    "prefs = [(606, 1), (1628, 1), (391, 0), (1330, 0), (500, 0), (709, 1), (840, 0), (58, 1), (456, 1), (153, 0), (158, 0), (1160, 0), (761, 0),\n",
    "                              (1771, 0), (544, 0), (312, 0), (277, 0)]\n",
    "print([(index, rec_data.index_to_title(index), pref) for index, pref in prefs])\n",
    "prefs = rec_data.create_prefs(prefs)    "
   ]
  },
  {
   "cell_type": "code",
   "execution_count": 202,
   "id": "4ee1d017-4df8-4fd4-a0e3-cdd8aa2fdc1e",
   "metadata": {},
   "outputs": [
    {
     "name": "stdout",
     "output_type": "stream",
     "text": [
      "Epoch 0/Training error: 0.3083331703218864/Time: 1.39 seconds\n",
      "Epoch 1/Training error: 0.3083328926339789/Time: 1.38 seconds\n",
      "Epoch 2/Training error: 0.30833282414094726/Time: 1.27 seconds\n",
      "Epoch 3/Training error: 0.3083328050624232/Time: 1.41 seconds\n",
      "Epoch 4/Training error: 0.3083327843542073/Time: 1.37 seconds\n",
      "Epoch 5/Training error: 0.3083327693992622/Time: 1.4 seconds\n",
      "Epoch 6/Training error: 0.3083328307163822/Time: 1.36 seconds\n",
      "Epoch 7/Training error: 0.30833273293506774/Time: 1.41 seconds\n",
      "Epoch 8/Training error: 0.30833276879885846/Time: 1.45 seconds\n",
      "Epoch 9/Training error: 0.30833269941733893/Time: 1.56 seconds\n",
      "Epoch 10/Training error: 0.30833268922486395/Time: 1.46 seconds\n",
      "Epoch 11/Training error: 0.30833267354297084/Time: 1.36 seconds\n",
      "Epoch 12/Training error: 0.30833267959416827/Time: 1.46 seconds\n",
      "Epoch 13/Training error: 0.3083327658660967/Time: 1.5 seconds\n",
      "Epoch 14/Training error: 0.3083326704275515/Time: 1.35 seconds\n",
      "Completed partial fit in 21.16813373565674 seconds\n",
      "[(1.4815167150095383, 'Borderlands 2'), (1.4295458708508129, 'NieR:Automata™'), (1.3683865839483083, 'METAL GEAR RISING: REVENGEANCE'), (1.3627239573821854, 'Hexcells Infinite'), (1.3614964112705352, 'Dungeon Warfare 2'), (1.3586996087087448, 'Thief™ II: The Metal Age'), (1.3525568845083642, 'Controller Companion'), (1.34843193817246, 'A Hat in Time'), (1.3475621886183393, 'Portal'), (1.3464441002123317, 'Monolith')]\n"
     ]
    }
   ],
   "source": [
    "svd_predictor._partial_batch_size = 0\n",
    "start_time = time.time()\n",
    "svd_predictor.partial_fit(prefs)\n",
    "print(\"Completed partial fit in\", time.time() - start_time, \"seconds\")\n",
    "\n",
    "top_n = svd_predictor.top_n(train_data.get_matrix().shape[0])\n",
    "print([(r, train_data.index_to_title(index)) for r, index in top_n])"
   ]
  },
  {
   "cell_type": "code",
   "execution_count": 149,
   "id": "d2700474-b1f3-4172-a0a5-6a1ccd1a69a2",
   "metadata": {},
   "outputs": [],
   "source": [
    "MODEL_DIR = 'saved_models/2023-6-19-14-39-44_0-3619.pkl'\n",
    "\n",
    "saved = None\n",
    "with open(MODEL_DIR, 'rb') as file:\n",
    "    saved = pickle.load(file)\n",
    "    \n",
    "svd_predictor, rec_data, train_data, val, test = saved"
   ]
  },
  {
   "cell_type": "code",
   "execution_count": null,
   "id": "c1953a0a-6d03-45ad-8fe4-6674e01ba78e",
   "metadata": {},
   "outputs": [],
   "source": []
  }
 ],
 "metadata": {
  "kernelspec": {
   "display_name": "Python 3 (ipykernel)",
   "language": "python",
   "name": "python3"
  },
  "language_info": {
   "codemirror_mode": {
    "name": "ipython",
    "version": 3
   },
   "file_extension": ".py",
   "mimetype": "text/x-python",
   "name": "python",
   "nbconvert_exporter": "python",
   "pygments_lexer": "ipython3",
   "version": "3.9.16"
  }
 },
 "nbformat": 4,
 "nbformat_minor": 5
}
