{
 "cells": [
  {
   "cell_type": "code",
   "execution_count": 19,
   "id": "cfd28a59-588e-47cc-ab61-bb9e8674854a",
   "metadata": {},
   "outputs": [
    {
     "name": "stdin",
     "output_type": "stream",
     "text": [
      "Once deleted, variables cannot be recovered. Proceed (y/[n])?  y\n"
     ]
    }
   ],
   "source": [
    "%reset"
   ]
  },
  {
   "cell_type": "code",
   "execution_count": 1,
   "id": "2b35e932-407e-4160-878a-1547e900cce9",
   "metadata": {},
   "outputs": [],
   "source": [
    "import numpy as np\n",
    "from scipy.sparse import csr_array, lil_array\n",
    "import matplotlib.pyplot as plt\n",
    "import pandas as pd\n",
    "import math\n",
    "import pickle\n",
    "import time\n",
    "import datetime\n",
    "import random\n",
    "from pprint import pprint\n",
    "from lightgbm import LGBMRanker\n",
    "from sklearn.model_selection import train_test_split\n",
    "\n",
    "from SVD import Metrics, SVDPredictor, FastLogisticSVD\n",
    "from RecData import RecData"
   ]
  },
  {
   "cell_type": "code",
   "execution_count": 2,
   "id": "86929969-e5de-468e-b024-80cf550c6e8f",
   "metadata": {},
   "outputs": [
    {
     "name": "stdout",
     "output_type": "stream",
     "text": [
      "Shape: (1482532, 3)\n"
     ]
    },
    {
     "data": {
      "text/html": [
       "<div>\n",
       "<style scoped>\n",
       "    .dataframe tbody tr th:only-of-type {\n",
       "        vertical-align: middle;\n",
       "    }\n",
       "\n",
       "    .dataframe tbody tr th {\n",
       "        vertical-align: top;\n",
       "    }\n",
       "\n",
       "    .dataframe thead th {\n",
       "        text-align: right;\n",
       "    }\n",
       "</style>\n",
       "<table border=\"1\" class=\"dataframe\">\n",
       "  <thead>\n",
       "    <tr style=\"text-align: right;\">\n",
       "      <th></th>\n",
       "      <th>app_id</th>\n",
       "      <th>is_recommended</th>\n",
       "      <th>user_id</th>\n",
       "    </tr>\n",
       "  </thead>\n",
       "  <tbody>\n",
       "    <tr>\n",
       "      <th>629351</th>\n",
       "      <td>12210</td>\n",
       "      <td>True</td>\n",
       "      <td>240</td>\n",
       "    </tr>\n",
       "    <tr>\n",
       "      <th>116928</th>\n",
       "      <td>22380</td>\n",
       "      <td>True</td>\n",
       "      <td>240</td>\n",
       "    </tr>\n",
       "    <tr>\n",
       "      <th>1418125</th>\n",
       "      <td>239140</td>\n",
       "      <td>True</td>\n",
       "      <td>240</td>\n",
       "    </tr>\n",
       "    <tr>\n",
       "      <th>236273</th>\n",
       "      <td>251570</td>\n",
       "      <td>True</td>\n",
       "      <td>240</td>\n",
       "    </tr>\n",
       "    <tr>\n",
       "      <th>87206</th>\n",
       "      <td>270880</td>\n",
       "      <td>True</td>\n",
       "      <td>240</td>\n",
       "    </tr>\n",
       "  </tbody>\n",
       "</table>\n",
       "</div>"
      ],
      "text/plain": [
       "         app_id  is_recommended  user_id\n",
       "629351    12210            True      240\n",
       "116928    22380            True      240\n",
       "1418125  239140            True      240\n",
       "236273   251570            True      240\n",
       "87206    270880            True      240"
      ]
     },
     "execution_count": 2,
     "metadata": {},
     "output_type": "execute_result"
    }
   ],
   "source": [
    "# recs = pd.read_csv('data/recommendations.csv')\n",
    "recs = pd.read_csv('data/pruned.csv')\n",
    "# recs = pd.read_csv('data/2plus.csv')\n",
    "\n",
    "# Remove old ratings\n",
    "recs = recs.sort_values(by=['date'], ascending=False)\n",
    "recs.drop_duplicates(subset= ['app_id', 'user_id'], inplace=True) \n",
    "\n",
    "USED_COLS = ['app_id', 'is_recommended', 'user_id']\n",
    "recs = recs[USED_COLS]\n",
    "\n",
    "item_data = pd.read_csv('data/games.csv')\n",
    "titles = item_data[['app_id', 'title']]\n",
    "\n",
    "print(\"Shape:\", recs.shape)\n",
    "recs.sort_values(by=['user_id', 'app_id']).head()"
   ]
  },
  {
   "cell_type": "code",
   "execution_count": 3,
   "id": "78f0adeb-df3b-4750-b1f5-91c115d6238e",
   "metadata": {},
   "outputs": [
    {
     "name": "stdout",
     "output_type": "stream",
     "text": [
      "Creating utility matrix...\n",
      "Done utility matrix.\n",
      "Creating splits...\n",
      "First split done.\n",
      "Done creating splits in 4.857414245605469 seconds\n"
     ]
    }
   ],
   "source": [
    "random.seed(42)\n",
    "np.random.seed(42)\n",
    "\n",
    "rec_data = RecData()\n",
    "rec_data.create_from_dataframe(recs)\n",
    "rec_data.set_titles(titles)\n",
    "\n",
    "# del recs\n",
    "\n",
    "start_time = time.time()\n",
    "print(\"Creating splits...\")\n",
    "train_data, test = rec_data.train_test_split(test_size=0.2)\n",
    "print(\"First split done.\")\n",
    "train_data, val = train_data.train_test_split(test_size=0.2)\n",
    "print(\"Done creating splits in\", time.time() - start_time, \"seconds\")"
   ]
  },
  {
   "cell_type": "code",
   "execution_count": 4,
   "id": "55f5d9d9-039c-485f-abf7-e8cc5448cedb",
   "metadata": {},
   "outputs": [],
   "source": [
    "del rec_data\n",
    "del item_data\n",
    "del titles"
   ]
  },
  {
   "cell_type": "markdown",
   "id": "6210ec68-3810-4694-9a42-956ba7be0b73",
   "metadata": {},
   "source": [
    "## Ranker"
   ]
  },
  {
   "cell_type": "code",
   "execution_count": 93,
   "id": "272d92ab-e737-4b6b-b27c-65ec71047b29",
   "metadata": {},
   "outputs": [],
   "source": [
    "# train = train_data.generate_dataframe()\n",
    "# X_train = train[['app_id', 'user_id']]\n",
    "# y_train = train['is_recommended'].to_numpy()\n",
    "\n",
    "# X_train = X_train.sort_values(by='user_id')\n",
    "# counts = X_train['user_id'].value_counts(sort=False)\n",
    "# X_train = X_train[['app_id']]"
   ]
  },
  {
   "cell_type": "code",
   "execution_count": null,
   "id": "f460d47b-e26d-4fe3-80e3-38af037c4c1d",
   "metadata": {},
   "outputs": [],
   "source": [
    "# ranker = LGBMRanker(n_estimators=300, random_state=42, objective='lambdarank')\n",
    "# ranker = ranker.fit(X_train, y_train, group = counts.values, categorical_feature=['app_id'],\n",
    "#                     eval_set=[(X_train, y_train)], eval_group=[counts.values], \n",
    "#                     eval_at=20)"
   ]
  },
  {
   "cell_type": "markdown",
   "id": "19eabdaf-e7ae-406f-adfa-73217bd74e25",
   "metadata": {},
   "source": [
    "## Training SVD"
   ]
  },
  {
   "cell_type": "code",
   "execution_count": null,
   "id": "5cb4b4a6-76ca-4200-8e02-53c6bf30ab6e",
   "metadata": {},
   "outputs": [],
   "source": [
    "# for pruned, epoch: 30, lr:0.01, reg:0.02\n",
    "\n",
    "EPOCHS = 5\n",
    "\n",
    "random.seed(42)\n",
    "np.random.seed(42)\n",
    "\n",
    "# Fit and predict with svd\n",
    "svd_predictor = FastLogisticSVD(\n",
    "    train_data.get_num_users(), train_data.get_num_items(), 2, k=50, \n",
    "    learning_rate=0.01, C=0.02)\n",
    "svd_predictor.fit(train_data.get_matrix(), EPOCHS, validation_set=val, early_stop=False)\n",
    "\n",
    "# Plot error\n",
    "errors = svd_predictor.get_train_errors()\n",
    "val_errors = svd_predictor.get_val_errors()\n",
    "plt.plot(range(len(errors)), errors, label='Training error')\n",
    "plt.plot(range(len(val_errors)), val_errors, label='Test error')\n",
    "plt.xlabel('Epoch')\n",
    "plt.ylabel('Error')\n",
    "plt.title('Error vs Epoch')\n",
    "plt.legend()\n",
    "plt.show()\n",
    "\n",
    "# Compute rmse\n",
    "predictions = svd_predictor.predict_pairs([(user, item) for user, item, _ in val])\n",
    "predictions = [prediction + (val[i][2],) for i, prediction in enumerate(predictions)]\n",
    "metrics = Metrics()\n",
    "rmse = metrics.rmse(predictions)\n",
    "print(\"Test rmse\", rmse)"
   ]
  },
  {
   "cell_type": "markdown",
   "id": "e93bee4f-c214-4263-a466-4947ed23a770",
   "metadata": {},
   "source": [
    "We can now continue to train if we believe the model is still underfitting."
   ]
  },
  {
   "cell_type": "code",
   "execution_count": 8,
   "id": "943c101b-d3af-4b57-93b9-869686587c0b",
   "metadata": {},
   "outputs": [
    {
     "name": "stdout",
     "output_type": "stream",
     "text": [
      "Epoch 0/Training error: 0.6930102452598897/Validation error: 0.6930945318184782/Time: 4.39 seconds\n",
      "Epoch 1/Training error: 0.692898616996707/Validation error: 0.6930088621371068/Time: 4.19 seconds\n",
      "Epoch 2/Training error: 0.6926267810549781/Validation error: 0.6927837752867191/Time: 4.13 seconds\n",
      "Epoch 3/Training error: 0.6919370967258679/Validation error: 0.6921928575752796/Time: 3.75 seconds\n",
      "Epoch 4/Training error: 0.6901699212404643/Validation error: 0.6906548063883613/Time: 4.01 seconds\n",
      "Epoch 5/Training error: 0.6857001572950331/Validation error: 0.6867359882218793/Time: 4.43 seconds\n",
      "Epoch 6/Training error: 0.6750113576636373/Validation error: 0.6773226757709148/Time: 3.84 seconds\n",
      "Epoch 7/Training error: 0.6525125358901246/Validation error: 0.6574356553905889/Time: 3.95 seconds\n",
      "Epoch 8/Training error: 0.6149693400532812/Validation error: 0.6240607312677785/Time: 4.37 seconds\n",
      "Epoch 9/Training error: 0.5686501155222404/Validation error: 0.5825511378874069/Time: 4.13 seconds\n"
     ]
    }
   ],
   "source": [
    "svd_predictor.continue_fit(10, early_stop=False)"
   ]
  },
  {
   "cell_type": "code",
   "execution_count": 9,
   "id": "01ba5dcd-24cd-4b78-b882-62414ddc9266",
   "metadata": {},
   "outputs": [
    {
     "data": {
      "image/png": "[encoded data removed]",
      "text/plain": [
       "<Figure size 640x480 with 1 Axes>"
      ]
     },
     "metadata": {},
     "output_type": "display_data"
    },
    {
     "name": "stdout",
     "output_type": "stream",
     "text": [
      "Test rmse 0.4433404177932787\n"
     ]
    }
   ],
   "source": [
    "# Plot error\n",
    "errors = svd_predictor.get_train_errors()\n",
    "val_errors = svd_predictor.get_val_errors()\n",
    "plt.plot(range(len(errors)), errors, label='Training error')\n",
    "plt.plot(range(len(val_errors)), val_errors, label='Test error')\n",
    "plt.xlabel('Epoch')\n",
    "plt.ylabel('Error')\n",
    "plt.title('Error vs Epoch')\n",
    "plt.legend()\n",
    "plt.show()\n",
    "\n",
    "# Compute rmse\n",
    "predictions = svd_predictor.predict_pairs([(user, item) for user, item, _ in val])\n",
    "predictions = [prediction + (val[i][2],) for i, prediction in enumerate(predictions)]\n",
    "metrics = Metrics()\n",
    "rmse = metrics.rmse(predictions)\n",
    "print(\"Test rmse\", rmse)"
   ]
  },
  {
   "cell_type": "markdown",
   "id": "eab76d16-333f-47d2-9fe9-7c6ee891533f",
   "metadata": {},
   "source": [
    "We compute similarities for item-knn."
   ]
  },
  {
   "cell_type": "code",
   "execution_count": null,
   "id": "357a8cf6-fd71-4ea3-b90a-f6dd3ff944a8",
   "metadata": {},
   "outputs": [],
   "source": [
    "svd_predictor.compute_sims()"
   ]
  },
  {
   "cell_type": "code",
   "execution_count": 17,
   "id": "b664f8ce-2bcf-4bc2-8e25-51fee4d447fc",
   "metadata": {},
   "outputs": [
    {
     "name": "stdout",
     "output_type": "stream",
     "text": [
      "Saving model...\n",
      "Done saving model.\n"
     ]
    }
   ],
   "source": [
    "# Ensure file exists\n",
    "model_dir = model_dir = \"saved_models/{}-{}-{}-{}-{}-{}_{}\".format(\n",
    "    *(time.localtime()[:6] + (round(rmse, 4), ))).replace(\".\", \"-\") + \".pkl\" \n",
    "file = open(model_dir, 'a')\n",
    "file.close()\n",
    "\n",
    "# Save model\n",
    "print(\"Saving model...\")\n",
    "with open(model_dir, 'wb') as file:\n",
    "    pickle.dump([train_data, svd_predictor], file)\n",
    "print(\"Done saving model.\")"
   ]
  },
  {
   "cell_type": "markdown",
   "id": "c87713d2-dde8-4914-bbfa-4ecc35026e7d",
   "metadata": {},
   "source": [
    "## Tests"
   ]
  },
  {
   "cell_type": "code",
   "execution_count": 6,
   "id": "4a7b2b6c-8ffd-4ec7-8f4e-34e2b0b4b75d",
   "metadata": {},
   "outputs": [],
   "source": [
    "with open('model.pkl', 'rb') as file:\n",
    "    data, svd_predictor = pickle.load(file)"
   ]
  },
  {
   "cell_type": "markdown",
   "id": "0e48ab10-867a-46a3-9747-6ed959f69227",
   "metadata": {},
   "source": [
    "### Testing Rerank"
   ]
  },
  {
   "cell_type": "code",
   "execution_count": 87,
   "id": "2b4a3c0b-13ab-4d1c-86c8-31201d89f254",
   "metadata": {},
   "outputs": [
    {
     "data": {
      "text/plain": [
       "[('Forza Horizon 4', 341), ('Forza Horizon 5', 286)]"
      ]
     },
     "execution_count": 87,
     "metadata": {},
     "output_type": "execute_result"
    }
   ],
   "source": [
    "data.search_title('forza')"
   ]
  },
  {
   "cell_type": "code",
   "execution_count": 88,
   "id": "95e7e697-071d-4912-aa5a-11e180fe76dd",
   "metadata": {},
   "outputs": [
    {
     "data": {
      "text/html": [
       "<div>\n",
       "<style scoped>\n",
       "    .dataframe tbody tr th:only-of-type {\n",
       "        vertical-align: middle;\n",
       "    }\n",
       "\n",
       "    .dataframe tbody tr th {\n",
       "        vertical-align: top;\n",
       "    }\n",
       "\n",
       "    .dataframe thead th {\n",
       "        text-align: right;\n",
       "    }\n",
       "</style>\n",
       "<table border=\"1\" class=\"dataframe\">\n",
       "  <thead>\n",
       "    <tr style=\"text-align: right;\">\n",
       "      <th></th>\n",
       "      <th>app_id</th>\n",
       "      <th>relevance</th>\n",
       "    </tr>\n",
       "  </thead>\n",
       "  <tbody>\n",
       "    <tr>\n",
       "      <th>52</th>\n",
       "      <td>1211630</td>\n",
       "      <td>0.682690</td>\n",
       "    </tr>\n",
       "    <tr>\n",
       "      <th>81</th>\n",
       "      <td>1481400</td>\n",
       "      <td>0.542448</td>\n",
       "    </tr>\n",
       "    <tr>\n",
       "      <th>110</th>\n",
       "      <td>1338770</td>\n",
       "      <td>0.528160</td>\n",
       "    </tr>\n",
       "    <tr>\n",
       "      <th>70</th>\n",
       "      <td>56400</td>\n",
       "      <td>0.504957</td>\n",
       "    </tr>\n",
       "    <tr>\n",
       "      <th>96</th>\n",
       "      <td>598980</td>\n",
       "      <td>0.499024</td>\n",
       "    </tr>\n",
       "  </tbody>\n",
       "</table>\n",
       "</div>"
      ],
      "text/plain": [
       "      app_id  relevance\n",
       "52   1211630   0.682690\n",
       "81   1481400   0.542448\n",
       "110  1338770   0.528160\n",
       "70     56400   0.504957\n",
       "96    598980   0.499024"
      ]
     },
     "execution_count": 88,
     "metadata": {},
     "output_type": "execute_result"
    }
   ],
   "source": [
    "filtered = svd_predictor.items_top_n([(286, 1)])\n",
    "app_ids = []\n",
    "for item_index in filtered:\n",
    "    app_ids.append(data.index_to_item_id(item_index))\n",
    "df = pd.DataFrame({'app_id': app_ids})\n",
    "predictions = ranker.predict(df)\n",
    "df['relevance'] = predictions\n",
    "df.head()\n",
    "df = df.sort_values(by='relevance', ascending=False)\n",
    "df.head()"
   ]
  },
  {
   "cell_type": "code",
   "execution_count": 89,
   "id": "d950c6e3-540c-466a-b484-6014326a2ad9",
   "metadata": {},
   "outputs": [
    {
     "name": "stdout",
     "output_type": "stream",
     "text": [
      "['The Jackbox Party Pack 7',\n",
      " 'Dagon: by H. P. Lovecraft',\n",
      " 'Sniper Ghost Warrior Contracts 2',\n",
      " 'Warhammer 40000: Dawn of War II: Retribution',\n",
      " 'The Coin Game',\n",
      " 'Total War: SHOGUN 2',\n",
      " '60 Seconds! Reatomized',\n",
      " 'Car Mechanic Simulator 2018',\n",
      " 'Old School RuneScape',\n",
      " 'Unturned',\n",
      " 'SpaceEngine',\n",
      " 'Iron Lung',\n",
      " 'The Jackbox Party Pack 6',\n",
      " 'Door Kickers',\n",
      " 'Attack on Titan 2 - A.O.T.2',\n",
      " 'SnowRunner',\n",
      " 'War of Rights',\n",
      " 'Panzer Corps 2',\n",
      " 'Ultimate Chicken Horse',\n",
      " 'Garfield Kart - Furious Racing']\n"
     ]
    }
   ],
   "source": [
    "pprint([[data.index_to_title(data.item_id_to_index(i)) for _, i, _ in df.itertuples()]][0][:20])"
   ]
  },
  {
   "cell_type": "markdown",
   "id": "016d8055-1b91-413a-a7d4-bd887a37dfd1",
   "metadata": {},
   "source": [
    "### Testing Performance"
   ]
  },
  {
   "cell_type": "code",
   "execution_count": null,
   "id": "ee197e75-6462-463c-84fa-2293e9e865f3",
   "metadata": {},
   "outputs": [],
   "source": [
    "start_time = time.time()\n",
    "print(\"Computing recall...\")\n",
    "svd_predictor.compute_recall(val)\n",
    "print(\"Done computing recall in\", time.time() - start_time, \"seconds\")"
   ]
  },
  {
   "cell_type": "code",
   "execution_count": 44,
   "id": "a225937b-fc43-418b-bd28-efa4cf56b1b4",
   "metadata": {},
   "outputs": [
    {
     "name": "stdout",
     "output_type": "stream",
     "text": [
      "[(0.9934836598178022, 'Left 4 Dead 2'),\n",
      " (0.9932750433266724, 'Papers Please'),\n",
      " (0.9930878320501089, 'Counter-Strike: Source'),\n",
      " (0.9930248652087343, 'Call of Duty®: Modern Warfare® 2 (2009)'),\n",
      " (0.992819952562889, 'Wallpaper Engine'),\n",
      " (0.992537910651242, 'Terraria'),\n",
      " (0.9925366695440154, 'Portal 2'),\n",
      " (0.9925135890009634, 'Portal'),\n",
      " (0.9923979768022965, 'Euro Truck Simulator 2'),\n",
      " (0.9922682975023462, \"Garry's Mod\")]\n"
     ]
    }
   ],
   "source": [
    "top = svd_predictor.items_knn([(293, 1)])\n",
    "pprint([(sim, train_data.index_to_title(index)) for sim, index in top])"
   ]
  },
  {
   "cell_type": "code",
   "execution_count": 35,
   "id": "6ab5770d-962b-47b1-9b82-74feac83f214",
   "metadata": {},
   "outputs": [
    {
     "name": "stdout",
     "output_type": "stream",
     "text": [
      "Predicted top n:\n",
      "[(0.9206996135928255, 'Terraria'),\n",
      " (0.9184847026535525, 'Wallpaper Engine'),\n",
      " (0.9184279431494676, 'Wobbly Life'),\n",
      " (0.9181253755759784, 'BeamNG.drive'),\n",
      " (0.917575966622757, 'PowerWash Simulator'),\n",
      " (0.9174844142901013, 'CarX Drift Racing Online'),\n",
      " (0.9173332188422043, \"Garry's Mod\"),\n",
      " (0.9172366163661728, 'American Truck Simulator'),\n",
      " (0.9171008246042601, 'MX Bikes'),\n",
      " (0.9169435575423818, 'OMORI'),\n",
      " (0.9167840714944547, 'Clone Drone in the Danger Zone'),\n",
      " (0.916729938216813, 'ULTRAKILL'),\n",
      " (0.91655451691545, 'Bloons TD 6'),\n",
      " (0.9163327476250769, 'The Test'),\n",
      " (0.9161519525318034, 'Stray'),\n",
      " (0.9159680183399378, 'The Binding of Isaac: Rebirth'),\n",
      " (0.9159476161516685, 'PlateUp!'),\n",
      " (0.9159294076641218, 'Slay the Spire'),\n",
      " (0.9158426163539647, 'Walkabout Mini Golf VR'),\n",
      " (0.9157920999863275, 'Portal 2')]\n",
      "True top n:\n",
      "['Detroit: Become Human', 'Vampire Survivors', 'Borderlands 3', 'Left 4 Dead 2']\n"
     ]
    }
   ],
   "source": [
    "j = 1\n",
    "\n",
    "# Test top-n list for user j\n",
    "top_n = svd_predictor.top_n(j, 20)\n",
    "print(\"Predicted top n:\")\n",
    "pprint([(r, train_data.index_to_title(index)) for r, index in top_n])\n",
    "\n",
    "# User j true top n list\n",
    "print(\"True top n:\")\n",
    "true_top = train_data.top_n(j, 5000)\n",
    "pprint([train_data.index_to_title(index) for _, index in true_top])"
   ]
  },
  {
   "cell_type": "code",
   "execution_count": null,
   "id": "8f39bc02-a788-46a0-8f11-156cade2be99",
   "metadata": {},
   "outputs": [],
   "source": [
    "# values, bins = np.histogram(svd_predictor._user_features[0, :])\n",
    "# plt.stairs(values, bins)\n",
    "# plt.show()"
   ]
  },
  {
   "cell_type": "code",
   "execution_count": 9,
   "id": "4a9be427-4b26-4189-9eed-02e98e23056c",
   "metadata": {},
   "outputs": [
    {
     "data": {
      "text/plain": [
       "[('Forza Horizon 4', 341), ('Forza Horizon 5', 286)]"
      ]
     },
     "execution_count": 9,
     "metadata": {},
     "output_type": "execute_result"
    }
   ],
   "source": [
    "train_data.search_title('forza')"
   ]
  },
  {
   "cell_type": "code",
   "execution_count": 87,
   "id": "af7c7b3d-f089-454c-8892-52d633e70b9b",
   "metadata": {},
   "outputs": [
    {
     "name": "stdout",
     "output_type": "stream",
     "text": [
      "[(196, 'Mortal Kombat X', 0),\n",
      " (740, 'The Sims™ 3', 1),\n",
      " (174, 'The Sims™ 4', 1),\n",
      " (819, 'A Hat in Time', 1)]\n"
     ]
    }
   ],
   "source": [
    "prefs = [(196, 0), (740, 1), (174, 1), (819, 1)]\n",
    "# prefs = [(5, 1), (229, 1), (966, 0)]\n",
    "pprint([(index, train_data.index_to_title(index), pref) for index, pref in prefs])\n",
    "prefs = train_data.create_prefs(prefs)    "
   ]
  },
  {
   "cell_type": "code",
   "execution_count": null,
   "id": "2b516899-5ff8-4cbc-abc0-fd9d7a78cb5d",
   "metadata": {},
   "outputs": [],
   "source": [
    "start_time = time.time()\n",
    "svd_predictor.partial_fit(prefs, epochs=EPOCHS)\n",
    "print(\"Completed partial fit in\", time.time() - start_time, \"seconds\")"
   ]
  },
  {
   "cell_type": "code",
   "execution_count": null,
   "id": "4e10eed0-deb4-440a-92e8-eb12c7a96b97",
   "metadata": {},
   "outputs": [],
   "source": [
    "top_n = svd_predictor.top_n(svd_predictor._num_users - 1, 20)\n",
    "print(\"Predicted top n\")\n",
    "pprint([(r, train_data.index_to_title(index)) for r, index in top_n])"
   ]
  },
  {
   "cell_type": "code",
   "execution_count": null,
   "id": "3ed80d3c-1901-4404-a237-edea0ddc01a1",
   "metadata": {},
   "outputs": [],
   "source": []
  }
 ],
 "metadata": {
  "kernelspec": {
   "display_name": "Python 3 (ipykernel)",
   "language": "python",
   "name": "python3"
  },
  "language_info": {
   "codemirror_mode": {
    "name": "ipython",
    "version": 3
   },
   "file_extension": ".py",
   "mimetype": "text/x-python",
   "name": "python",
   "nbconvert_exporter": "python",
   "pygments_lexer": "ipython3",
   "version": "3.9.16"
  }
 },
 "nbformat": 4,
 "nbformat_minor": 5
}
