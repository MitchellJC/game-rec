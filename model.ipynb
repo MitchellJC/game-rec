{
 "cells": [
  {
   "cell_type": "markdown",
   "id": "a8554b74-824d-4dd9-9159-38c6fc305828",
   "metadata": {},
   "source": [
    "# Modelling"
   ]
  },
  {
   "cell_type": "code",
   "execution_count": 19,
   "id": "cfd28a59-588e-47cc-ab61-bb9e8674854a",
   "metadata": {},
   "outputs": [
    {
     "name": "stdin",
     "output_type": "stream",
     "text": [
      "Once deleted, variables cannot be recovered. Proceed (y/[n])?  y\n"
     ]
    }
   ],
   "source": [
    "%reset"
   ]
  },
  {
   "cell_type": "code",
   "execution_count": 3,
   "id": "2b35e932-407e-4160-878a-1547e900cce9",
   "metadata": {},
   "outputs": [],
   "source": [
    "import numpy as np\n",
    "from scipy.sparse import csr_array, lil_array\n",
    "import matplotlib.pyplot as plt\n",
    "import pandas as pd\n",
    "import math\n",
    "import pickle\n",
    "import time\n",
    "import datetime\n",
    "import random\n",
    "from pprint import pprint\n",
    "from lightgbm import LGBMRanker\n",
    "from sklearn.model_selection import train_test_split\n",
    "\n",
    "from SVD import Metrics, SVDPredictor, FastLogisticSVD\n",
    "from RecData import RecData"
   ]
  },
  {
   "cell_type": "markdown",
   "id": "5e68c45e-13f9-4979-b916-34cec1db601d",
   "metadata": {},
   "source": [
    "## Data Preprocessing"
   ]
  },
  {
   "cell_type": "code",
   "execution_count": 2,
   "id": "86929969-e5de-468e-b024-80cf550c6e8f",
   "metadata": {},
   "outputs": [
    {
     "name": "stdout",
     "output_type": "stream",
     "text": [
      "Shape: (1482532, 3)\n"
     ]
    },
    {
     "data": {
      "text/html": [
       "<div>\n",
       "<style scoped>\n",
       "    .dataframe tbody tr th:only-of-type {\n",
       "        vertical-align: middle;\n",
       "    }\n",
       "\n",
       "    .dataframe tbody tr th {\n",
       "        vertical-align: top;\n",
       "    }\n",
       "\n",
       "    .dataframe thead th {\n",
       "        text-align: right;\n",
       "    }\n",
       "</style>\n",
       "<table border=\"1\" class=\"dataframe\">\n",
       "  <thead>\n",
       "    <tr style=\"text-align: right;\">\n",
       "      <th></th>\n",
       "      <th>app_id</th>\n",
       "      <th>is_recommended</th>\n",
       "      <th>user_id</th>\n",
       "    </tr>\n",
       "  </thead>\n",
       "  <tbody>\n",
       "    <tr>\n",
       "      <th>629351</th>\n",
       "      <td>12210</td>\n",
       "      <td>True</td>\n",
       "      <td>240</td>\n",
       "    </tr>\n",
       "    <tr>\n",
       "      <th>116928</th>\n",
       "      <td>22380</td>\n",
       "      <td>True</td>\n",
       "      <td>240</td>\n",
       "    </tr>\n",
       "    <tr>\n",
       "      <th>1418125</th>\n",
       "      <td>239140</td>\n",
       "      <td>True</td>\n",
       "      <td>240</td>\n",
       "    </tr>\n",
       "    <tr>\n",
       "      <th>236273</th>\n",
       "      <td>251570</td>\n",
       "      <td>True</td>\n",
       "      <td>240</td>\n",
       "    </tr>\n",
       "    <tr>\n",
       "      <th>87206</th>\n",
       "      <td>270880</td>\n",
       "      <td>True</td>\n",
       "      <td>240</td>\n",
       "    </tr>\n",
       "  </tbody>\n",
       "</table>\n",
       "</div>"
      ],
      "text/plain": [
       "         app_id  is_recommended  user_id\n",
       "629351    12210            True      240\n",
       "116928    22380            True      240\n",
       "1418125  239140            True      240\n",
       "236273   251570            True      240\n",
       "87206    270880            True      240"
      ]
     },
     "execution_count": 2,
     "metadata": {},
     "output_type": "execute_result"
    }
   ],
   "source": [
    "# recs = pd.read_csv('data/recommendations.csv')\n",
    "recs = pd.read_csv('data/pruned.csv')\n",
    "# recs = pd.read_csv('data/2plus.csv')\n",
    "\n",
    "# Remove old ratings\n",
    "recs = recs.sort_values(by=['date'], ascending=False)\n",
    "recs.drop_duplicates(subset= ['app_id', 'user_id'], inplace=True) \n",
    "\n",
    "USED_COLS = ['app_id', 'is_recommended', 'user_id']\n",
    "recs = recs[USED_COLS]\n",
    "\n",
    "item_data = pd.read_csv('data/games.csv')\n",
    "titles = item_data[['app_id', 'title']]\n",
    "\n",
    "print(\"Shape:\", recs.shape)\n",
    "recs.sort_values(by=['user_id', 'app_id']).head()"
   ]
  },
  {
   "cell_type": "code",
   "execution_count": 3,
   "id": "78f0adeb-df3b-4750-b1f5-91c115d6238e",
   "metadata": {},
   "outputs": [],
   "source": [
    "# random.seed(42)\n",
    "# np.random.seed(42)\n",
    "\n",
    "# rec_data = RecData()\n",
    "# rec_data.create_from_dataframe(recs)\n",
    "# rec_data.set_titles(titles)\n",
    "\n",
    "# # del recs\n",
    "\n",
    "# start_time = time.time()\n",
    "# print(\"Creating splits...\")\n",
    "# train_data, test = rec_data.train_test_split(test_size=0.2)\n",
    "# print(\"First split done.\")\n",
    "# train_data, val = train_data.train_test_split(test_size=0.2)\n",
    "# print(\"Done creating splits in\", time.time() - start_time, \"seconds\")"
   ]
  },
  {
   "cell_type": "code",
   "execution_count": 4,
   "id": "41d0fdf6-2dff-4196-b2ad-a7f4c4de981c",
   "metadata": {},
   "outputs": [
    {
     "name": "stdout",
     "output_type": "stream",
     "text": [
      "Creating utility matrix...\n",
      "Done utility matrix.\n",
      "Creating splits...\n",
      "Done user 0\n",
      "Done creating splits.\n"
     ]
    }
   ],
   "source": [
    "random.seed(42)\n",
    "np.random.seed(42)\n",
    "rec_data = RecData()\n",
    "rec_data.create_from_dataframe(recs)\n",
    "rec_data.set_titles(titles)\n",
    "\n",
    "# del recs\n",
    "    \n",
    "print(\"Creating splits...\")\n",
    "train_data, val, test = rec_data.leave_k_out_split(k=1)\n",
    "print(\"Done creating splits.\")"
   ]
  },
  {
   "cell_type": "code",
   "execution_count": 5,
   "id": "55f5d9d9-039c-485f-abf7-e8cc5448cedb",
   "metadata": {},
   "outputs": [],
   "source": [
    "del rec_data\n",
    "del item_data\n",
    "del titles"
   ]
  },
  {
   "cell_type": "markdown",
   "id": "6210ec68-3810-4694-9a42-956ba7be0b73",
   "metadata": {},
   "source": [
    "## Ranker"
   ]
  },
  {
   "cell_type": "markdown",
   "id": "ac596ab5-0048-4b3f-8d50-e3405644f8f8",
   "metadata": {},
   "source": [
    "This was used as a postprocessing step after using item-knn for candidate generation. Was not able to get good results."
   ]
  },
  {
   "cell_type": "code",
   "execution_count": 6,
   "id": "272d92ab-e737-4b6b-b27c-65ec71047b29",
   "metadata": {},
   "outputs": [],
   "source": [
    "# train = train_data.generate_dataframe()\n",
    "# X_train = train[['app_id', 'user_id']]\n",
    "# y_train = train['is_recommended'].to_numpy()\n",
    "\n",
    "# X_train = X_train.sort_values(by='user_id')\n",
    "# counts = X_train['user_id'].value_counts(sort=False)\n",
    "# X_train = X_train[['app_id']]"
   ]
  },
  {
   "cell_type": "code",
   "execution_count": 7,
   "id": "f460d47b-e26d-4fe3-80e3-38af037c4c1d",
   "metadata": {},
   "outputs": [],
   "source": [
    "# ranker = LGBMRanker(n_estimators=300, random_state=42, objective='lambdarank')\n",
    "# ranker = ranker.fit(X_train, y_train, group = counts.values, categorical_feature=['app_id'],\n",
    "#                     eval_set=[(X_train, y_train)], eval_group=[counts.values], \n",
    "#                     eval_at=20)"
   ]
  },
  {
   "cell_type": "markdown",
   "id": "19eabdaf-e7ae-406f-adfa-73217bd74e25",
   "metadata": {},
   "source": [
    "## Training SVD"
   ]
  },
  {
   "cell_type": "code",
   "execution_count": 8,
   "id": "5cb4b4a6-76ca-4200-8e02-53c6bf30ab6e",
   "metadata": {},
   "outputs": [
    {
     "name": "stdout",
     "output_type": "stream",
     "text": [
      "Epoch 0/Training error: 0.4501800428743795/Validation error: 0.44851722077667716/Time: 10.55 seconds\n",
      "Epoch 1/Training error: 0.43297705055879115/Validation error: 0.43391371982559945/Time: 7.33 seconds\n",
      "Epoch 2/Training error: 0.4230348249332996/Validation error: 0.42613175949096516/Time: 7.54 seconds\n",
      "Epoch 3/Training error: 0.4155286349584029/Validation error: 0.4203710742339434/Time: 7.26 seconds\n",
      "Epoch 4/Training error: 0.40927389061942926/Validation error: 0.4154554539913261/Time: 7.58 seconds\n",
      "Epoch 5/Training error: 0.4038622027733717/Validation error: 0.41146643307584907/Time: 7.77 seconds\n",
      "Epoch 6/Training error: 0.39903084081263546/Validation error: 0.4076393778083332/Time: 7.64 seconds\n",
      "Epoch 7/Training error: 0.3947531127557591/Validation error: 0.4045028177508419/Time: 7.48 seconds\n",
      "Epoch 8/Training error: 0.3908362825110755/Validation error: 0.40146682666734085/Time: 7.37 seconds\n",
      "Epoch 9/Training error: 0.3872731829958809/Validation error: 0.39872863560256233/Time: 7.2 seconds\n",
      "Epoch 10/Training error: 0.3840210355871382/Validation error: 0.39621763121262465/Time: 7.91 seconds\n",
      "Epoch 11/Training error: 0.3810015483958143/Validation error: 0.39392265436529245/Time: 8.14 seconds\n",
      "Epoch 12/Training error: 0.3782127949120791/Validation error: 0.39178919007566215/Time: 7.44 seconds\n",
      "Epoch 13/Training error: 0.3756458473620457/Validation error: 0.3899056481960564/Time: 7.55 seconds\n",
      "Epoch 14/Training error: 0.37327377103948167/Validation error: 0.38810387443495015/Time: 7.67 seconds\n",
      "Epoch 15/Training error: 0.371022604441939/Validation error: 0.38640159308874306/Time: 7.47 seconds\n",
      "Epoch 16/Training error: 0.3689463082565969/Validation error: 0.3847958800965303/Time: 7.43 seconds\n",
      "Epoch 17/Training error: 0.36698675419510374/Validation error: 0.3833227100358706/Time: 7.85 seconds\n",
      "Epoch 18/Training error: 0.3651998539576026/Validation error: 0.3820390286788914/Time: 7.25 seconds\n",
      "Epoch 19/Training error: 0.3634494627103431/Validation error: 0.3807723615654915/Time: 7.34 seconds\n",
      "Epoch 20/Training error: 0.3618585620469575/Validation error: 0.3796565840398376/Time: 7.41 seconds\n",
      "Epoch 21/Training error: 0.36033634841371004/Validation error: 0.3784420447918691/Time: 7.51 seconds\n",
      "Epoch 22/Training error: 0.3589119812882024/Validation error: 0.37740817104401075/Time: 8.03 seconds\n",
      "Epoch 23/Training error: 0.3575574223124237/Validation error: 0.37649872011791574/Time: 7.09 seconds\n",
      "Epoch 24/Training error: 0.3562339145672506/Validation error: 0.37565946411746826/Time: 7.14 seconds\n",
      "Epoch 25/Training error: 0.35499174125844074/Validation error: 0.37479906955434594/Time: 7.26 seconds\n",
      "Epoch 26/Training error: 0.3538302499208273/Validation error: 0.37408288922937133/Time: 8.14 seconds\n",
      "Epoch 27/Training error: 0.3527537649485156/Validation error: 0.37337323753813556/Time: 8.07 seconds\n",
      "Epoch 28/Training error: 0.3516801801569213/Validation error: 0.372628557880884/Time: 8.3 seconds\n",
      "Epoch 29/Training error: 0.35065624573667437/Validation error: 0.3719850522879573/Time: 7.4 seconds\n",
      "Epoch 30/Training error: 0.3496720376466673/Validation error: 0.37139418076725905/Time: 7.81 seconds\n",
      "Epoch 31/Training error: 0.34869814761743995/Validation error: 0.3708556930777867/Time: 7.41 seconds\n",
      "Epoch 32/Training error: 0.34778355909862024/Validation error: 0.3703764968395484/Time: 7.61 seconds\n",
      "Epoch 33/Training error: 0.34690240033189335/Validation error: 0.36983983582853697/Time: 7.78 seconds\n",
      "Epoch 34/Training error: 0.34602125643014475/Validation error: 0.3693762429078197/Time: 8.18 seconds\n",
      "Epoch 35/Training error: 0.34516070729113835/Validation error: 0.36892363544137335/Time: 7.77 seconds\n",
      "Epoch 36/Training error: 0.344334146545239/Validation error: 0.36847987973144175/Time: 7.55 seconds\n",
      "Epoch 37/Training error: 0.3434782641474543/Validation error: 0.36800462669755984/Time: 7.39 seconds\n",
      "Epoch 38/Training error: 0.34265498611532474/Validation error: 0.3678622323896634/Time: 7.68 seconds\n",
      "Epoch 39/Training error: 0.34182882994818725/Validation error: 0.3673587559728139/Time: 7.4 seconds\n",
      "Epoch 40/Training error: 0.341010493568552/Validation error: 0.36718093955891284/Time: 7.52 seconds\n",
      "Epoch 41/Training error: 0.340184325896508/Validation error: 0.3667566708831465/Time: 7.76 seconds\n",
      "Epoch 42/Training error: 0.3393007268159343/Validation error: 0.36652256782320175/Time: 7.26 seconds\n",
      "Epoch 43/Training error: 0.3384608128793985/Validation error: 0.3663076975810712/Time: 7.42 seconds\n",
      "Epoch 44/Training error: 0.33754054285163676/Validation error: 0.36595779329822264/Time: 7.4 seconds\n",
      "Epoch 45/Training error: 0.3365832535575939/Validation error: 0.36571617897024045/Time: 7.93 seconds\n",
      "Epoch 46/Training error: 0.3356123790249577/Validation error: 0.36554712836760006/Time: 8.01 seconds\n",
      "Epoch 47/Training error: 0.334615321073009/Validation error: 0.3653700784428605/Time: 7.85 seconds\n",
      "Epoch 48/Training error: 0.33353598225182063/Validation error: 0.3652372933706979/Time: 7.46 seconds\n",
      "Epoch 49/Training error: 0.33242856114945374/Validation error: 0.3649693162522572/Time: 7.62 seconds\n",
      "Epoch 50/Training error: 0.3312126510167422/Validation error: 0.3647663563069982/Time: 7.76 seconds\n",
      "Epoch 51/Training error: 0.32997870075148006/Validation error: 0.3647467875139268/Time: 7.65 seconds\n",
      "Epoch 52/Training error: 0.32862730813575874/Validation error: 0.3645450391698773/Time: 7.65 seconds\n",
      "Epoch 53/Training error: 0.3272256846362481/Validation error: 0.36438982945512155/Time: 7.72 seconds\n",
      "Epoch 54/Training error: 0.32573030216277293/Validation error: 0.36422891915816585/Time: 7.36 seconds\n",
      "Epoch 55/Training error: 0.3241307330502228/Validation error: 0.36409559828478355/Time: 8.04 seconds\n",
      "Epoch 56/Training error: 0.3224026902701975/Validation error: 0.36381136482393933/Time: 8.21 seconds\n",
      "Epoch 57/Training error: 0.3206460974194011/Validation error: 0.36380965520564107/Time: 8.13 seconds\n",
      "Epoch 58/Training error: 0.3187279988640518/Validation error: 0.363693315588953/Time: 8.55 seconds\n",
      "Epoch 59/Training error: 0.3167504168764416/Validation error: 0.3635622311576738/Time: 8.29 seconds\n",
      "Epoch 60/Training error: 0.31465191141644067/Validation error: 0.36345140026927325/Time: 8.13 seconds\n",
      "Epoch 61/Training error: 0.31251903626445704/Validation error: 0.36343286769407707/Time: 8.32 seconds\n",
      "Epoch 62/Training error: 0.3102057556911045/Validation error: 0.3632023203999584/Time: 8.08 seconds\n",
      "Epoch 63/Training error: 0.3078391331145167/Validation error: 0.3630909382251115/Time: 8.3 seconds\n",
      "Epoch 64/Training error: 0.3054232329110027/Validation error: 0.36322596212088837/Time: 8.36 seconds\n",
      "Epoch 65/Training error: 0.30288683404477074/Validation error: 0.3630300792143626/Time: 8.19 seconds\n",
      "Epoch 66/Training error: 0.3003451548601239/Validation error: 0.36298943530686156/Time: 8.42 seconds\n",
      "Epoch 67/Training error: 0.2976718008852736/Validation error: 0.3629848805390949/Time: 8.07 seconds\n",
      "Epoch 68/Training error: 0.2949715609751265/Validation error: 0.36278967855383065/Time: 7.57 seconds\n",
      "Epoch 69/Training error: 0.29221667243755384/Validation error: 0.36285130117485564/Time: 8.16 seconds\n",
      "Epoch 70/Training error: 0.28940589883786033/Validation error: 0.36278969377617043/Time: 8.72 seconds\n",
      "Epoch 71/Training error: 0.28656677378825757/Validation error: 0.362735602956854/Time: 8.31 seconds\n",
      "Epoch 72/Training error: 0.2837291304077278/Validation error: 0.3627724391663706/Time: 7.55 seconds\n",
      "Epoch 73/Training error: 0.2808622148743648/Validation error: 0.362776824679411/Time: 7.69 seconds\n",
      "Epoch 74/Training error: 0.2779163248306831/Validation error: 0.36263885053428396/Time: 7.36 seconds\n",
      "Epoch 75/Training error: 0.2750078207449899/Validation error: 0.3628058558156226/Time: 8.09 seconds\n",
      "Epoch 76/Training error: 0.2721210867078582/Validation error: 0.3628068037493625/Time: 7.45 seconds\n",
      "Epoch 77/Training error: 0.26913009904035035/Validation error: 0.362796712945128/Time: 7.4 seconds\n",
      "Epoch 78/Training error: 0.2662199138621413/Validation error: 0.3628914091208845/Time: 7.31 seconds\n",
      "Epoch 79/Training error: 0.26329389542938036/Validation error: 0.36285908608231054/Time: 7.08 seconds\n",
      "Epoch 80/Training error: 0.2603353883312337/Validation error: 0.3627778195469856/Time: 6.94 seconds\n",
      "Epoch 81/Training error: 0.2574149578545635/Validation error: 0.3629479784594645/Time: 7.16 seconds\n",
      "Epoch 82/Training error: 0.25453885758877975/Validation error: 0.3630084419431535/Time: 7.22 seconds\n",
      "Epoch 83/Training error: 0.25162532907422347/Validation error: 0.3630142085105225/Time: 7.34 seconds\n",
      "Epoch 84/Training error: 0.24876418365240627/Validation error: 0.36319036050944803/Time: 7.48 seconds\n",
      "Epoch 85/Training error: 0.2458639395663096/Validation error: 0.36326691929265814/Time: 7.19 seconds\n",
      "Epoch 86/Training error: 0.24305151881545944/Validation error: 0.36332260523945104/Time: 7.28 seconds\n",
      "Epoch 87/Training error: 0.24019890708296138/Validation error: 0.36344291847075194/Time: 7.13 seconds\n",
      "Epoch 88/Training error: 0.23736628779239174/Validation error: 0.3634830303590752/Time: 6.78 seconds\n",
      "Epoch 89/Training error: 0.23461550146644353/Validation error: 0.3637214588700852/Time: 6.9 seconds\n",
      "Epoch 90/Training error: 0.23187475709224842/Validation error: 0.3637790921887059/Time: 6.69 seconds\n",
      "Epoch 91/Training error: 0.22915492789937075/Validation error: 0.36388132151199215/Time: 6.82 seconds\n",
      "Epoch 92/Training error: 0.22647461544244363/Validation error: 0.364091503031912/Time: 6.74 seconds\n",
      "Epoch 93/Training error: 0.22383926606076263/Validation error: 0.36421579364161055/Time: 6.96 seconds\n",
      "Epoch 94/Training error: 0.22123664534084472/Validation error: 0.36434885826689023/Time: 6.67 seconds\n",
      "Epoch 95/Training error: 0.21860404897774496/Validation error: 0.3645939750324312/Time: 6.73 seconds\n",
      "Epoch 96/Training error: 0.2160592226009636/Validation error: 0.364596047234787/Time: 6.78 seconds\n",
      "Epoch 97/Training error: 0.21353050168659457/Validation error: 0.3648193231852472/Time: 6.82 seconds\n",
      "Epoch 98/Training error: 0.21101377591465145/Validation error: 0.3651014654157878/Time: 7.07 seconds\n",
      "Epoch 99/Training error: 0.2085675197288384/Validation error: 0.3652003480770531/Time: 6.97 seconds\n",
      "Epoch 100/Training error: 0.206207776024137/Validation error: 0.3654057079917023/Time: 7.09 seconds\n",
      "Epoch 101/Training error: 0.20380182167777375/Validation error: 0.36555197762140923/Time: 6.85 seconds\n",
      "Epoch 102/Training error: 0.20141965137763412/Validation error: 0.3657372052386523/Time: 6.83 seconds\n",
      "Epoch 103/Training error: 0.19916612079663973/Validation error: 0.36594523273286345/Time: 6.64 seconds\n",
      "Epoch 104/Training error: 0.19687256669478628/Validation error: 0.36612982625021134/Time: 6.93 seconds\n",
      "Epoch 105/Training error: 0.19466236024811973/Validation error: 0.3663132192022785/Time: 6.63 seconds\n",
      "Epoch 106/Training error: 0.19244948728375771/Validation error: 0.3666043604489843/Time: 6.79 seconds\n",
      "Epoch 107/Training error: 0.19035368375151684/Validation error: 0.3668305339195346/Time: 6.84 seconds\n",
      "Epoch 108/Training error: 0.1882082852116896/Validation error: 0.3670027452630662/Time: 6.5 seconds\n",
      "Epoch 109/Training error: 0.18611087779649155/Validation error: 0.36723204814792115/Time: 6.85 seconds\n",
      "Epoch 110/Training error: 0.18411100046840997/Validation error: 0.36741874490051535/Time: 7.38 seconds\n",
      "Epoch 111/Training error: 0.18207240728705498/Validation error: 0.3677006663137402/Time: 7.19 seconds\n",
      "Epoch 112/Training error: 0.18006266708700594/Validation error: 0.3678603581012424/Time: 6.97 seconds\n",
      "Epoch 113/Training error: 0.17813129083508528/Validation error: 0.3682197100799199/Time: 6.6 seconds\n",
      "Epoch 114/Training error: 0.17628834451744393/Validation error: 0.36830830049996777/Time: 6.75 seconds\n",
      "Epoch 115/Training error: 0.17443836199351312/Validation error: 0.3685525329303976/Time: 7.09 seconds\n",
      "Epoch 116/Training error: 0.1726349314817005/Validation error: 0.3688780758861362/Time: 6.95 seconds\n",
      "Epoch 117/Training error: 0.17083053403489865/Validation error: 0.3690284401921307/Time: 6.84 seconds\n",
      "Epoch 118/Training error: 0.1690928215890974/Validation error: 0.3692926348877249/Time: 6.71 seconds\n",
      "Epoch 119/Training error: 0.1673487717430762/Validation error: 0.36950712352659254/Time: 6.5 seconds\n"
     ]
    },
    {
     "data": {
      "image/png": "[encoded data removed]",
      "text/plain": [
       "<Figure size 640x480 with 1 Axes>"
      ]
     },
     "metadata": {},
     "output_type": "display_data"
    },
    {
     "name": "stdout",
     "output_type": "stream",
     "text": [
      "Test rmse 0.34022703167586205\n"
     ]
    }
   ],
   "source": [
    "# for pruned, epoch: 30, lr:0.01, reg:0.02, k=50\n",
    "\n",
    "EPOCHS = 120\n",
    "\n",
    "random.seed(42)\n",
    "np.random.seed(42)\n",
    "\n",
    "# Fit and predict with svd\n",
    "svd_predictor = FastLogisticSVD(\n",
    "    train_data.get_num_users(), train_data.get_num_items(), 2, k=80, \n",
    "    learning_rate=0.01, C=0.02)\n",
    "svd_predictor.fit(train_data.get_matrix(), EPOCHS, validation_set=val, early_stop=False)\n",
    "\n",
    "# Plot error\n",
    "errors = svd_predictor.get_train_errors()\n",
    "val_errors = svd_predictor.get_val_errors()\n",
    "plt.plot(range(len(errors)), errors, label='Training error')\n",
    "plt.plot(range(len(val_errors)), val_errors, label='Test error')\n",
    "plt.xlabel('Epoch')\n",
    "plt.ylabel('Error')\n",
    "plt.title('Error vs Epoch')\n",
    "plt.legend()\n",
    "plt.show()\n",
    "\n",
    "# Compute rmse\n",
    "predictions = svd_predictor.predict_pairs([(user, item) for user, item, _ in val])\n",
    "predictions = [prediction + (val[i][2],) for i, prediction in enumerate(predictions)]\n",
    "metrics = Metrics()\n",
    "rmse = metrics.rmse(predictions)\n",
    "print(\"Test rmse\", rmse)"
   ]
  },
  {
   "cell_type": "markdown",
   "id": "e93bee4f-c214-4263-a466-4947ed23a770",
   "metadata": {},
   "source": [
    "We can now continue to train if we believe the model is still underfitting."
   ]
  },
  {
   "cell_type": "code",
   "execution_count": 39,
   "id": "943c101b-d3af-4b57-93b9-869686587c0b",
   "metadata": {},
   "outputs": [
    {
     "name": "stdout",
     "output_type": "stream",
     "text": [
      "Epoch 0/Training error: 0.19053590656505803/Validation error: 0.37349245980175527/Time: 5.04 seconds\n",
      "Epoch 1/Training error: 0.18825316930678915/Validation error: 0.3736884722884243/Time: 5.21 seconds\n",
      "Epoch 2/Training error: 0.18598803402106873/Validation error: 0.37389827069872345/Time: 6.0 seconds\n",
      "Epoch 3/Training error: 0.1838064664534095/Validation error: 0.3741446984797393/Time: 5.4 seconds\n",
      "Epoch 4/Training error: 0.18163851772263095/Validation error: 0.37435329022300556/Time: 5.28 seconds\n",
      "Epoch 5/Training error: 0.179443643887193/Validation error: 0.37458203290752035/Time: 4.98 seconds\n",
      "Epoch 6/Training error: 0.1773410008503614/Validation error: 0.3747880386474543/Time: 5.47 seconds\n",
      "Epoch 7/Training error: 0.17528116614041456/Validation error: 0.3749259008829289/Time: 5.31 seconds\n",
      "Epoch 8/Training error: 0.17323795068445305/Validation error: 0.3752120742708525/Time: 5.36 seconds\n",
      "Epoch 9/Training error: 0.1712096419295989/Validation error: 0.3754584724717603/Time: 5.23 seconds\n",
      "Epoch 10/Training error: 0.16922720613749145/Validation error: 0.3756520635024102/Time: 5.47 seconds\n",
      "Epoch 11/Training error: 0.16731313830023248/Validation error: 0.37587810899504714/Time: 5.06 seconds\n",
      "Epoch 12/Training error: 0.16538227171853195/Validation error: 0.3761405561905295/Time: 5.13 seconds\n",
      "Epoch 13/Training error: 0.16356972892672092/Validation error: 0.37640157611200575/Time: 5.26 seconds\n",
      "Epoch 14/Training error: 0.16172061169866553/Validation error: 0.3765777881258153/Time: 5.21 seconds\n",
      "Epoch 15/Training error: 0.15991726665097952/Validation error: 0.3768541271870015/Time: 5.2 seconds\n",
      "Epoch 16/Training error: 0.1581721278772229/Validation error: 0.37713301500886814/Time: 5.2 seconds\n",
      "Epoch 17/Training error: 0.15639626878178894/Validation error: 0.377246995502448/Time: 5.14 seconds\n",
      "Epoch 18/Training error: 0.1546773122381475/Validation error: 0.37751399668471153/Time: 5.31 seconds\n",
      "Epoch 19/Training error: 0.15305161643869397/Validation error: 0.3777779571862653/Time: 5.14 seconds\n"
     ]
    }
   ],
   "source": [
    "svd_predictor.continue_fit(20, early_stop=False)"
   ]
  },
  {
   "cell_type": "code",
   "execution_count": 40,
   "id": "01ba5dcd-24cd-4b78-b882-62414ddc9266",
   "metadata": {},
   "outputs": [
    {
     "data": {
      "image/png": "[encoded data removed]",
      "text/plain": [
       "<Figure size 640x480 with 1 Axes>"
      ]
     },
     "metadata": {},
     "output_type": "display_data"
    },
    {
     "name": "stdout",
     "output_type": "stream",
     "text": [
      "Test rmse 0.3437800582826854\n"
     ]
    }
   ],
   "source": [
    "# Plot error\n",
    "errors = svd_predictor.get_train_errors()\n",
    "val_errors = svd_predictor.get_val_errors()\n",
    "plt.plot(range(len(errors)), errors, label='Training error')\n",
    "plt.plot(range(len(val_errors)), val_errors, label='Test error')\n",
    "plt.xlabel('Epoch')\n",
    "plt.ylabel('Error')\n",
    "plt.title('Error vs Epoch')\n",
    "plt.legend()\n",
    "plt.show()\n",
    "\n",
    "# Compute rmse\n",
    "predictions = svd_predictor.predict_pairs([(user, item) for user, item, _ in val])\n",
    "predictions = [prediction + (val[i][2],) for i, prediction in enumerate(predictions)]\n",
    "metrics = Metrics()\n",
    "rmse = metrics.rmse(predictions)\n",
    "print(\"Test rmse\", rmse)"
   ]
  },
  {
   "cell_type": "markdown",
   "id": "eab76d16-333f-47d2-9fe9-7c6ee891533f",
   "metadata": {},
   "source": [
    "We compute similarities for item-knn."
   ]
  },
  {
   "cell_type": "code",
   "execution_count": 9,
   "id": "357a8cf6-fd71-4ea3-b90a-f6dd3ff944a8",
   "metadata": {},
   "outputs": [
    {
     "name": "stdout",
     "output_type": "stream",
     "text": [
      "Computing similarities...\n",
      "Upto row 0\n",
      "Upto row 200\n",
      "Upto row 400\n",
      "Upto row 600\n",
      "Upto row 800\n",
      "Upto row 1000\n",
      "Upto row 1200\n",
      "Upto row 1400\n",
      "Upto row 1600\n",
      "Upto row 1800\n",
      "Upto row 2000\n",
      "Upto row 2200\n",
      "Done computing similarities in 440.3786623477936 seconds\n"
     ]
    }
   ],
   "source": [
    "svd_predictor.compute_sims()"
   ]
  },
  {
   "cell_type": "markdown",
   "id": "82e3cd3f-7857-4dfa-ab53-998eb6383fe4",
   "metadata": {},
   "source": [
    "## Saving the model"
   ]
  },
  {
   "cell_type": "code",
   "execution_count": 51,
   "id": "b664f8ce-2bcf-4bc2-8e25-51fee4d447fc",
   "metadata": {},
   "outputs": [
    {
     "name": "stdout",
     "output_type": "stream",
     "text": [
      "Saving model...\n",
      "Done saving model.\n"
     ]
    }
   ],
   "source": [
    "# Ensure file exists\n",
    "model_dir = model_dir = \"saved_models/{}-{}-{}-{}-{}-{}_{}\".format(\n",
    "    *(time.localtime()[:6] + (round(rmse, 4), ))).replace(\".\", \"-\") + \".pkl\" \n",
    "file = open(model_dir, 'a')\n",
    "file.close()\n",
    "\n",
    "# Save model\n",
    "print(\"Saving model...\")\n",
    "with open(model_dir, 'wb') as file:\n",
    "    pickle.dump([train_data, svd_predictor], file)\n",
    "print(\"Done saving model.\")"
   ]
  },
  {
   "cell_type": "markdown",
   "id": "c87713d2-dde8-4914-bbfa-4ecc35026e7d",
   "metadata": {},
   "source": [
    "## Tests"
   ]
  },
  {
   "cell_type": "code",
   "execution_count": 4,
   "id": "4a7b2b6c-8ffd-4ec7-8f4e-34e2b0b4b75d",
   "metadata": {},
   "outputs": [],
   "source": [
    "with open('saved_models/2023-7-7-14-7-26_0-3402.pkl', 'rb') as file:\n",
    "    train_data, svd_predictor = pickle.load(file)"
   ]
  },
  {
   "cell_type": "markdown",
   "id": "0e48ab10-867a-46a3-9747-6ed959f69227",
   "metadata": {},
   "source": [
    "### Testing Rerank"
   ]
  },
  {
   "cell_type": "code",
   "execution_count": 10,
   "id": "2b4a3c0b-13ab-4d1c-86c8-31201d89f254",
   "metadata": {},
   "outputs": [],
   "source": [
    "# data.search_title('forza')"
   ]
  },
  {
   "cell_type": "code",
   "execution_count": 11,
   "id": "95e7e697-071d-4912-aa5a-11e180fe76dd",
   "metadata": {},
   "outputs": [],
   "source": [
    "# filtered = svd_predictor.items_top_n([(286, 1)])\n",
    "# app_ids = []\n",
    "# for item_index in filtered:\n",
    "#     app_ids.append(data.index_to_item_id(item_index))\n",
    "# df = pd.DataFrame({'app_id': app_ids})\n",
    "# predictions = ranker.predict(df)\n",
    "# df['relevance'] = predictions\n",
    "# df.head()\n",
    "# df = df.sort_values(by='relevance', ascending=False)\n",
    "# df.head()"
   ]
  },
  {
   "cell_type": "code",
   "execution_count": 12,
   "id": "d950c6e3-540c-466a-b484-6014326a2ad9",
   "metadata": {},
   "outputs": [],
   "source": [
    "# pprint([[data.index_to_title(data.item_id_to_index(i)) for _, i, _ in df.itertuples()]][0][:20])"
   ]
  },
  {
   "cell_type": "markdown",
   "id": "016d8055-1b91-413a-a7d4-bd887a37dfd1",
   "metadata": {},
   "source": [
    "### Testing Performance"
   ]
  },
  {
   "cell_type": "code",
   "execution_count": null,
   "id": "ee197e75-6462-463c-84fa-2293e9e865f3",
   "metadata": {},
   "outputs": [],
   "source": [
    "start_time = time.time()\n",
    "print(\"Computing recall...\")\n",
    "svd_predictor.compute_recall(val)\n",
    "print(\"Done computing recall in\", time.time() - start_time, \"seconds\")"
   ]
  },
  {
   "cell_type": "code",
   "execution_count": 19,
   "id": "e7d2169e-1031-4913-8aad-125cb1ebbe00",
   "metadata": {},
   "outputs": [
    {
     "data": {
      "text/plain": [
       "[('Stardew Valley', 500)]"
      ]
     },
     "execution_count": 19,
     "metadata": {},
     "output_type": "execute_result"
    }
   ],
   "source": [
    "train_data.search_title('stardew')"
   ]
  },
  {
   "cell_type": "code",
   "execution_count": 20,
   "id": "a225937b-fc43-418b-bd28-efa4cf56b1b4",
   "metadata": {},
   "outputs": [
    {
     "name": "stdout",
     "output_type": "stream",
     "text": [
      "[(0.5324245057124044, 'Arcanum: Of Steamworks and Magick Obscura'),\n",
      " (0.5225535508934316, 'Touhou Kikeijuu ~ Wily Beast and Weakest Creature.'),\n",
      " (0.5220047634637819, 'Heavenly Bodies'),\n",
      " (0.5130406512769492, 'Battle Chef Brigade Deluxe'),\n",
      " (0.4984954658015166,\n",
      "  'Warhammer® 40000: Dawn of War® - Game of the Year Edition'),\n",
      " (0.4955127274505614, 'Grim Dawn'),\n",
      " (0.4616421396845921, 'Outer Wilds'),\n",
      " (0.4418063087928962, 'Noita'),\n",
      " (0.4400092455558826, 'Crypt of the NecroDancer'),\n",
      " (0.43789965452607804, \"Shantae and the Pirate's Curse\")]\n"
     ]
    }
   ],
   "source": [
    "top = svd_predictor.items_knn([(500, 1)])\n",
    "pprint([(sim, train_data.index_to_title(index)) for sim, index in top])"
   ]
  },
  {
   "cell_type": "code",
   "execution_count": 27,
   "id": "6ab5770d-962b-47b1-9b82-74feac83f214",
   "metadata": {},
   "outputs": [
    {
     "name": "stdout",
     "output_type": "stream",
     "text": [
      "Predicted top n:\n",
      "[(0.9997948729754049, 'Portal 2'),\n",
      " (0.9994947280714304, 'A Hat in Time'),\n",
      " (0.9991954977913857, 'Terraria'),\n",
      " (0.9989783119523625, 'Lil Gator Game'),\n",
      " (0.9989565316835067, 'Thief™ II: The Metal Age'),\n",
      " (0.9989485174277536, 'Mafia II (Classic)'),\n",
      " (0.9989190875000672, 'POSTAL 2'),\n",
      " (0.9985166156566097, 'Monolith'),\n",
      " (0.9984535006612517, 'Bastion'),\n",
      " (0.9984090162137182, 'Choice of Robots')]\n",
      "True top n:\n",
      "['Grand Theft Auto V',\n",
      " 'Portal',\n",
      " 'Blackwake',\n",
      " 'Rust',\n",
      " \"Don't Starve\",\n",
      " 'SPORE™',\n",
      " 'Project Zomboid',\n",
      " 'Satisfactory',\n",
      " 'Metal: Hellsinger',\n",
      " 'ICARUS',\n",
      " 'Cities: Skylines',\n",
      " 'Wallpaper Engine',\n",
      " 'The Henry Stickmin Collection',\n",
      " 'Ravenfield',\n",
      " 'Forager',\n",
      " 'SpeedRunners',\n",
      " 'Halo: The Master Chief Collection',\n",
      " 'Viscera Cleanup Detail',\n",
      " 'Metro Exodus',\n",
      " 'Sid Meier’s Civilization® VI',\n",
      " 'Golf With Your Friends',\n",
      " 'ShellShock Live',\n",
      " 'The Elder Scrolls IV: Oblivion® Game of the Year Edition',\n",
      " 'Friday the 13th: The Game',\n",
      " 'Kerbal Space Program',\n",
      " 'Factorio',\n",
      " 'UNO']\n"
     ]
    }
   ],
   "source": [
    "j = 16\n",
    "\n",
    "# Test top-n list for user j\n",
    "top_n = svd_predictor.top_n(j, 10)\n",
    "print(\"Predicted top n:\")\n",
    "pprint([(r, train_data.index_to_title(index)) for r, index in top_n])\n",
    "\n",
    "# User j true top n list\n",
    "print(\"True top n:\")\n",
    "true_top = train_data.top_n(j, 5000)\n",
    "pprint([train_data.index_to_title(index) for _, index in true_top])"
   ]
  },
  {
   "cell_type": "code",
   "execution_count": null,
   "id": "8f39bc02-a788-46a0-8f11-156cade2be99",
   "metadata": {},
   "outputs": [],
   "source": [
    "# values, bins = np.histogram(svd_predictor._user_features[0, :])\n",
    "# plt.stairs(values, bins)\n",
    "# plt.show()"
   ]
  },
  {
   "cell_type": "code",
   "execution_count": 13,
   "id": "4a9be427-4b26-4189-9eed-02e98e23056c",
   "metadata": {},
   "outputs": [
    {
     "data": {
      "text/plain": [
       "[('Demon Slayer -Kimetsu no Yaiba- The Hinokami Chronicles', 397),\n",
       " ('Slay the Spire', 325),\n",
       " ('Skul: The Hero Slayer', 1790)]"
      ]
     },
     "execution_count": 13,
     "metadata": {},
     "output_type": "execute_result"
    }
   ],
   "source": [
    "train_data.search_title('slay')"
   ]
  },
  {
   "cell_type": "code",
   "execution_count": 21,
   "id": "af7c7b3d-f089-454c-8892-52d633e70b9b",
   "metadata": {},
   "outputs": [
    {
     "name": "stdout",
     "output_type": "stream",
     "text": [
      "[(147, 'The Elder Scrolls V: Skyrim Special Edition', 1),\n",
      " (325, 'Slay the Spire', 1)]\n"
     ]
    }
   ],
   "source": [
    "prefs = [(147, 1), (325, 1)]\n",
    "# prefs = [(5, 1), (229, 1), (966, 0)]\n",
    "pprint([(index, train_data.index_to_title(index), pref) for index, pref in prefs])\n",
    "prefs = train_data.create_prefs(prefs)    "
   ]
  },
  {
   "cell_type": "code",
   "execution_count": 22,
   "id": "2b516899-5ff8-4cbc-abc0-fd9d7a78cb5d",
   "metadata": {},
   "outputs": [
    {
     "name": "stdout",
     "output_type": "stream",
     "text": [
      "Epoch 0/Time: 6.88 seconds\n",
      "Completed partial fit in 7.875029563903809 seconds\n"
     ]
    }
   ],
   "source": [
    "epochs = 1\n",
    "\n",
    "start_time = time.time()\n",
    "svd_predictor.partial_fit(prefs, epochs=epochs)\n",
    "print(\"Completed partial fit in\", time.time() - start_time, \"seconds\")"
   ]
  },
  {
   "cell_type": "code",
   "execution_count": 28,
   "id": "4e10eed0-deb4-440a-92e8-eb12c7a96b97",
   "metadata": {},
   "outputs": [
    {
     "name": "stdout",
     "output_type": "stream",
     "text": [
      "Predicted top n\n",
      "[(0.9987608146858127, 'Portal 2'),\n",
      " (0.9969967969293526, 'A Hat in Time'),\n",
      " (0.9952055750129399, 'Terraria'),\n",
      " (0.9939231456186107, 'Thief™ II: The Metal Age'),\n",
      " (0.9938464256065681, 'Lil Gator Game'),\n",
      " (0.9936272229187082, 'Mafia II (Classic)'),\n",
      " (0.9934598331074666, 'POSTAL 2'),\n",
      " (0.9909451404418662, 'Monolith'),\n",
      " (0.9907963903985133, 'Choice of Robots'),\n",
      " (0.9907266718244505, 'Bastion')]\n"
     ]
    }
   ],
   "source": [
    "top_n = svd_predictor.top_n(svd_predictor._num_users - 1, 10)\n",
    "print(\"Predicted top n\")\n",
    "pprint([(r, train_data.index_to_title(index)) for r, index in top_n])"
   ]
  },
  {
   "cell_type": "code",
   "execution_count": null,
   "id": "3ed80d3c-1901-4404-a237-edea0ddc01a1",
   "metadata": {},
   "outputs": [],
   "source": []
  },
  {
   "cell_type": "code",
   "execution_count": null,
   "id": "41364ee8-1570-49b6-8810-ca327149bf40",
   "metadata": {},
   "outputs": [],
   "source": []
  }
 ],
 "metadata": {
  "kernelspec": {
   "display_name": "Python 3 (ipykernel)",
   "language": "python",
   "name": "python3"
  },
  "language_info": {
   "codemirror_mode": {
    "name": "ipython",
    "version": 3
   },
   "file_extension": ".py",
   "mimetype": "text/x-python",
   "name": "python",
   "nbconvert_exporter": "python",
   "pygments_lexer": "ipython3",
   "version": "3.9.16"
  }
 },
 "nbformat": 4,
 "nbformat_minor": 5
}
