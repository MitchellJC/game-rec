{
 "cells": [
  {
   "cell_type": "markdown",
   "id": "a8554b74-824d-4dd9-9159-38c6fc305828",
   "metadata": {},
   "source": [
    "# Modelling"
   ]
  },
  {
   "cell_type": "code",
   "execution_count": 19,
   "id": "cfd28a59-588e-47cc-ab61-bb9e8674854a",
   "metadata": {},
   "outputs": [
    {
     "name": "stdin",
     "output_type": "stream",
     "text": [
      "Once deleted, variables cannot be recovered. Proceed (y/[n])?  y\n"
     ]
    }
   ],
   "source": [
    "%reset"
   ]
  },
  {
   "cell_type": "code",
   "execution_count": 2,
   "id": "2b35e932-407e-4160-878a-1547e900cce9",
   "metadata": {},
   "outputs": [],
   "source": [
    "import numpy as np\n",
    "from scipy.sparse import csr_array, lil_array\n",
    "import matplotlib.pyplot as plt\n",
    "import pandas as pd\n",
    "import math\n",
    "import pickle\n",
    "import time\n",
    "import datetime\n",
    "import random\n",
    "from pprint import pprint\n",
    "from lightgbm import LGBMRanker\n",
    "from sklearn.model_selection import train_test_split\n",
    "\n",
    "from SVD import Metrics, RatingSVD, LogisticSVD\n",
    "from RecData import RecData"
   ]
  },
  {
   "cell_type": "markdown",
   "id": "5e68c45e-13f9-4979-b916-34cec1db601d",
   "metadata": {},
   "source": [
    "## Data Preprocessing"
   ]
  },
  {
   "cell_type": "code",
   "execution_count": 3,
   "id": "86929969-e5de-468e-b024-80cf550c6e8f",
   "metadata": {},
   "outputs": [
    {
     "name": "stdout",
     "output_type": "stream",
     "text": [
      "Shape: (10267907, 3)\n"
     ]
    },
    {
     "data": {
      "text/html": [
       "<div>\n",
       "<style scoped>\n",
       "    .dataframe tbody tr th:only-of-type {\n",
       "        vertical-align: middle;\n",
       "    }\n",
       "\n",
       "    .dataframe tbody tr th {\n",
       "        vertical-align: top;\n",
       "    }\n",
       "\n",
       "    .dataframe thead th {\n",
       "        text-align: right;\n",
       "    }\n",
       "</style>\n",
       "<table border=\"1\" class=\"dataframe\">\n",
       "  <thead>\n",
       "    <tr style=\"text-align: right;\">\n",
       "      <th></th>\n",
       "      <th>app_id</th>\n",
       "      <th>is_recommended</th>\n",
       "      <th>user_id</th>\n",
       "    </tr>\n",
       "  </thead>\n",
       "  <tbody>\n",
       "    <tr>\n",
       "      <th>68896</th>\n",
       "      <td>291550</td>\n",
       "      <td>True</td>\n",
       "      <td>0</td>\n",
       "    </tr>\n",
       "    <tr>\n",
       "      <th>3122844</th>\n",
       "      <td>493520</td>\n",
       "      <td>True</td>\n",
       "      <td>0</td>\n",
       "    </tr>\n",
       "    <tr>\n",
       "      <th>9243712</th>\n",
       "      <td>552990</td>\n",
       "      <td>True</td>\n",
       "      <td>1</td>\n",
       "    </tr>\n",
       "    <tr>\n",
       "      <th>8542315</th>\n",
       "      <td>1407200</td>\n",
       "      <td>True</td>\n",
       "      <td>1</td>\n",
       "    </tr>\n",
       "    <tr>\n",
       "      <th>201969</th>\n",
       "      <td>394360</td>\n",
       "      <td>True</td>\n",
       "      <td>5</td>\n",
       "    </tr>\n",
       "  </tbody>\n",
       "</table>\n",
       "</div>"
      ],
      "text/plain": [
       "          app_id  is_recommended  user_id\n",
       "68896     291550            True        0\n",
       "3122844   493520            True        0\n",
       "9243712   552990            True        1\n",
       "8542315  1407200            True        1\n",
       "201969    394360            True        5"
      ]
     },
     "execution_count": 3,
     "metadata": {},
     "output_type": "execute_result"
    }
   ],
   "source": [
    "# recs = pd.read_csv('data/recommendations.csv')\n",
    "# recs = pd.read_csv('data/pruned.csv')\n",
    "recs = pd.read_csv('data/2plus.csv')\n",
    "\n",
    "# Remove old ratings\n",
    "recs = recs.sort_values(by=['date'], ascending=False)\n",
    "recs.drop_duplicates(subset= ['app_id', 'user_id'], inplace=True) \n",
    "\n",
    "USED_COLS = ['app_id', 'is_recommended', 'user_id']\n",
    "recs = recs[USED_COLS]\n",
    "\n",
    "item_data = pd.read_csv('data/games.csv')\n",
    "titles = item_data[['app_id', 'title']]\n",
    "\n",
    "print(\"Shape:\", recs.shape)\n",
    "recs.sort_values(by=['user_id', 'app_id']).head()"
   ]
  },
  {
   "cell_type": "code",
   "execution_count": 4,
   "id": "78f0adeb-df3b-4750-b1f5-91c115d6238e",
   "metadata": {},
   "outputs": [],
   "source": [
    "# random.seed(42)\n",
    "# np.random.seed(42)\n",
    "\n",
    "# rec_data = RecData()\n",
    "# rec_data.create_from_dataframe(recs)\n",
    "# rec_data.set_titles(titles)\n",
    "\n",
    "# # del recs\n",
    "\n",
    "# start_time = time.time()\n",
    "# print(\"Creating splits...\")\n",
    "# train_data, test = rec_data.train_test_split(test_size=0.2)\n",
    "# print(\"First split done.\")\n",
    "# train_data, val = train_data.train_test_split(test_size=0.2)\n",
    "# print(\"Done creating splits in\", time.time() - start_time, \"seconds\")"
   ]
  },
  {
   "cell_type": "code",
   "execution_count": 5,
   "id": "41d0fdf6-2dff-4196-b2ad-a7f4c4de981c",
   "metadata": {},
   "outputs": [
    {
     "name": "stdout",
     "output_type": "stream",
     "text": [
      "Creating utility matrix...\n",
      "Done utility matrix.\n",
      "Creating splits...\n",
      "Done user 1 / 2586404\n",
      "Done user 10001 / 2586404\n",
      "Done user 20001 / 2586404\n",
      "Done user 30001 / 2586404\n",
      "Done user 40001 / 2586404\n",
      "Done user 50001 / 2586404\n",
      "Done user 60001 / 2586404\n",
      "Done user 70001 / 2586404\n",
      "Done user 80001 / 2586404\n",
      "Done user 90001 / 2586404\n",
      "Done user 100001 / 2586404\n",
      "Done user 110001 / 2586404\n",
      "Done user 120001 / 2586404\n",
      "Done user 130001 / 2586404\n",
      "Done user 140001 / 2586404\n",
      "Done user 150001 / 2586404\n",
      "Done user 160001 / 2586404\n",
      "Done user 170001 / 2586404\n",
      "Done user 180001 / 2586404\n",
      "Done user 190001 / 2586404\n",
      "Done user 200001 / 2586404\n",
      "Done user 210001 / 2586404\n",
      "Done user 220001 / 2586404\n",
      "Done user 230001 / 2586404\n",
      "Done user 240001 / 2586404\n",
      "Done user 250001 / 2586404\n",
      "Done user 260001 / 2586404\n",
      "Done user 270001 / 2586404\n",
      "Done user 280001 / 2586404\n",
      "Done user 290001 / 2586404\n",
      "Done user 300001 / 2586404\n",
      "Done user 310001 / 2586404\n",
      "Done user 320001 / 2586404\n",
      "Done user 330001 / 2586404\n",
      "Done user 340001 / 2586404\n",
      "Done user 350001 / 2586404\n",
      "Done user 360001 / 2586404\n",
      "Done user 370001 / 2586404\n",
      "Done user 380001 / 2586404\n",
      "Done user 390001 / 2586404\n",
      "Done user 400001 / 2586404\n",
      "Done user 410001 / 2586404\n",
      "Done user 420001 / 2586404\n",
      "Done user 430001 / 2586404\n",
      "Done user 440001 / 2586404\n",
      "Done user 450001 / 2586404\n",
      "Done user 460001 / 2586404\n",
      "Done user 470001 / 2586404\n",
      "Done user 480001 / 2586404\n",
      "Done user 490001 / 2586404\n",
      "Done user 500001 / 2586404\n",
      "Done user 510001 / 2586404\n",
      "Done user 520001 / 2586404\n",
      "Done user 530001 / 2586404\n",
      "Done user 540001 / 2586404\n",
      "Done user 550001 / 2586404\n",
      "Done user 560001 / 2586404\n",
      "Done user 570001 / 2586404\n",
      "Done user 580001 / 2586404\n",
      "Done user 590001 / 2586404\n",
      "Done user 600001 / 2586404\n",
      "Done user 610001 / 2586404\n",
      "Done user 620001 / 2586404\n",
      "Done user 630001 / 2586404\n",
      "Done user 640001 / 2586404\n",
      "Done user 650001 / 2586404\n",
      "Done user 660001 / 2586404\n",
      "Done user 670001 / 2586404\n",
      "Done user 680001 / 2586404\n",
      "Done user 690001 / 2586404\n",
      "Done user 700001 / 2586404\n",
      "Done user 710001 / 2586404\n",
      "Done user 720001 / 2586404\n",
      "Done user 730001 / 2586404\n",
      "Done user 740001 / 2586404\n",
      "Done user 750001 / 2586404\n",
      "Done user 760001 / 2586404\n",
      "Done user 770001 / 2586404\n",
      "Done user 780001 / 2586404\n",
      "Done user 790001 / 2586404\n",
      "Done user 800001 / 2586404\n",
      "Done user 810001 / 2586404\n",
      "Done user 820001 / 2586404\n",
      "Done user 830001 / 2586404\n",
      "Done user 840001 / 2586404\n",
      "Done user 850001 / 2586404\n",
      "Done user 860001 / 2586404\n",
      "Done user 870001 / 2586404\n",
      "Done user 880001 / 2586404\n",
      "Done user 890001 / 2586404\n",
      "Done user 900001 / 2586404\n",
      "Done user 910001 / 2586404\n",
      "Done user 920001 / 2586404\n",
      "Done user 930001 / 2586404\n",
      "Done user 940001 / 2586404\n",
      "Done user 950001 / 2586404\n",
      "Done user 960001 / 2586404\n",
      "Done user 970001 / 2586404\n",
      "Done user 980001 / 2586404\n",
      "Done user 990001 / 2586404\n",
      "Done user 1000001 / 2586404\n",
      "Done user 1010001 / 2586404\n",
      "Done user 1020001 / 2586404\n",
      "Done user 1030001 / 2586404\n",
      "Done user 1040001 / 2586404\n",
      "Done user 1050001 / 2586404\n",
      "Done user 1060001 / 2586404\n",
      "Done user 1070001 / 2586404\n",
      "Done user 1080001 / 2586404\n",
      "Done user 1090001 / 2586404\n",
      "Done user 1100001 / 2586404\n",
      "Done user 1110001 / 2586404\n",
      "Done user 1120001 / 2586404\n",
      "Done user 1130001 / 2586404\n",
      "Done user 1140001 / 2586404\n",
      "Done user 1150001 / 2586404\n",
      "Done user 1160001 / 2586404\n",
      "Done user 1170001 / 2586404\n",
      "Done user 1180001 / 2586404\n",
      "Done user 1190001 / 2586404\n",
      "Done user 1200001 / 2586404\n",
      "Done user 1210001 / 2586404\n",
      "Done user 1220001 / 2586404\n",
      "Done user 1230001 / 2586404\n",
      "Done user 1240001 / 2586404\n",
      "Done user 1250001 / 2586404\n",
      "Done user 1260001 / 2586404\n",
      "Done user 1270001 / 2586404\n",
      "Done user 1280001 / 2586404\n",
      "Done user 1290001 / 2586404\n",
      "Done user 1300001 / 2586404\n",
      "Done user 1310001 / 2586404\n",
      "Done user 1320001 / 2586404\n",
      "Done user 1330001 / 2586404\n",
      "Done user 1340001 / 2586404\n",
      "Done user 1350001 / 2586404\n",
      "Done user 1360001 / 2586404\n",
      "Done user 1370001 / 2586404\n",
      "Done user 1380001 / 2586404\n",
      "Done user 1390001 / 2586404\n",
      "Done user 1400001 / 2586404\n",
      "Done user 1410001 / 2586404\n",
      "Done user 1420001 / 2586404\n",
      "Done user 1430001 / 2586404\n",
      "Done user 1440001 / 2586404\n",
      "Done user 1450001 / 2586404\n",
      "Done user 1460001 / 2586404\n",
      "Done user 1470001 / 2586404\n",
      "Done user 1480001 / 2586404\n",
      "Done user 1490001 / 2586404\n",
      "Done user 1500001 / 2586404\n",
      "Done user 1510001 / 2586404\n",
      "Done user 1520001 / 2586404\n",
      "Done user 1530001 / 2586404\n",
      "Done user 1540001 / 2586404\n",
      "Done user 1550001 / 2586404\n",
      "Done user 1560001 / 2586404\n",
      "Done user 1570001 / 2586404\n",
      "Done user 1580001 / 2586404\n",
      "Done user 1590001 / 2586404\n",
      "Done user 1600001 / 2586404\n",
      "Done user 1610001 / 2586404\n",
      "Done user 1620001 / 2586404\n",
      "Done user 1630001 / 2586404\n",
      "Done user 1640001 / 2586404\n",
      "Done user 1650001 / 2586404\n",
      "Done user 1660001 / 2586404\n",
      "Done user 1670001 / 2586404\n",
      "Done user 1680001 / 2586404\n",
      "Done user 1690001 / 2586404\n",
      "Done user 1700001 / 2586404\n",
      "Done user 1710001 / 2586404\n",
      "Done user 1720001 / 2586404\n",
      "Done user 1730001 / 2586404\n",
      "Done user 1740001 / 2586404\n",
      "Done user 1750001 / 2586404\n",
      "Done user 1760001 / 2586404\n",
      "Done user 1770001 / 2586404\n",
      "Done user 1780001 / 2586404\n",
      "Done user 1790001 / 2586404\n",
      "Done user 1800001 / 2586404\n",
      "Done user 1810001 / 2586404\n",
      "Done user 1820001 / 2586404\n",
      "Done user 1830001 / 2586404\n",
      "Done user 1840001 / 2586404\n",
      "Done user 1850001 / 2586404\n",
      "Done user 1860001 / 2586404\n",
      "Done user 1870001 / 2586404\n",
      "Done user 1880001 / 2586404\n",
      "Done user 1890001 / 2586404\n",
      "Done user 1900001 / 2586404\n",
      "Done user 1910001 / 2586404\n",
      "Done user 1920001 / 2586404\n",
      "Done user 1930001 / 2586404\n",
      "Done user 1940001 / 2586404\n",
      "Done user 1950001 / 2586404\n",
      "Done user 1960001 / 2586404\n",
      "Done user 1970001 / 2586404\n",
      "Done user 1980001 / 2586404\n",
      "Done user 1990001 / 2586404\n",
      "Done user 2000001 / 2586404\n",
      "Done user 2010001 / 2586404\n",
      "Done user 2020001 / 2586404\n",
      "Done user 2030001 / 2586404\n",
      "Done user 2040001 / 2586404\n",
      "Done user 2050001 / 2586404\n",
      "Done user 2060001 / 2586404\n",
      "Done user 2070001 / 2586404\n",
      "Done user 2080001 / 2586404\n",
      "Done user 2090001 / 2586404\n",
      "Done user 2100001 / 2586404\n",
      "Done user 2110001 / 2586404\n",
      "Done user 2120001 / 2586404\n",
      "Done user 2130001 / 2586404\n",
      "Done user 2140001 / 2586404\n",
      "Done user 2150001 / 2586404\n",
      "Done user 2160001 / 2586404\n",
      "Done user 2170001 / 2586404\n",
      "Done user 2180001 / 2586404\n",
      "Done user 2190001 / 2586404\n",
      "Done user 2200001 / 2586404\n",
      "Done user 2210001 / 2586404\n",
      "Done user 2220001 / 2586404\n",
      "Done user 2230001 / 2586404\n",
      "Done user 2240001 / 2586404\n",
      "Done user 2250001 / 2586404\n",
      "Done user 2260001 / 2586404\n",
      "Done user 2270001 / 2586404\n",
      "Done user 2280001 / 2586404\n",
      "Done user 2290001 / 2586404\n",
      "Done user 2300001 / 2586404\n",
      "Done user 2310001 / 2586404\n",
      "Done user 2320001 / 2586404\n",
      "Done user 2330001 / 2586404\n",
      "Done user 2340001 / 2586404\n",
      "Done user 2350001 / 2586404\n",
      "Done user 2360001 / 2586404\n",
      "Done user 2370001 / 2586404\n",
      "Done user 2380001 / 2586404\n",
      "Done user 2390001 / 2586404\n",
      "Done user 2400001 / 2586404\n",
      "Done user 2410001 / 2586404\n",
      "Done user 2420001 / 2586404\n",
      "Done user 2430001 / 2586404\n",
      "Done user 2440001 / 2586404\n",
      "Done user 2450001 / 2586404\n",
      "Done user 2460001 / 2586404\n",
      "Done user 2470001 / 2586404\n",
      "Done user 2480001 / 2586404\n",
      "Done user 2490001 / 2586404\n",
      "Done user 2500001 / 2586404\n",
      "Done user 2510001 / 2586404\n",
      "Done user 2520001 / 2586404\n",
      "Done user 2530001 / 2586404\n",
      "Done user 2540001 / 2586404\n",
      "Done user 2550001 / 2586404\n",
      "Done user 2560001 / 2586404\n",
      "Done user 2570001 / 2586404\n",
      "Done user 2580001 / 2586404\n",
      "Done creating splits.\n"
     ]
    }
   ],
   "source": [
    "random.seed(42)\n",
    "np.random.seed(42)\n",
    "rec_data = RecData()\n",
    "rec_data.create_from_dataframe(recs)\n",
    "rec_data.set_titles(titles)\n",
    "\n",
    "# del recs\n",
    "\n",
    "print(\"Creating splits...\")\n",
    "train_data, val = rec_data.leave_k_out_split(k=1, create_val=False)\n",
    "print(\"Done creating splits.\")"
   ]
  },
  {
   "cell_type": "code",
   "execution_count": 6,
   "id": "55f5d9d9-039c-485f-abf7-e8cc5448cedb",
   "metadata": {},
   "outputs": [],
   "source": [
    "del rec_data\n",
    "del item_data\n",
    "del titles"
   ]
  },
  {
   "cell_type": "markdown",
   "id": "6210ec68-3810-4694-9a42-956ba7be0b73",
   "metadata": {},
   "source": [
    "## Ranker"
   ]
  },
  {
   "cell_type": "markdown",
   "id": "ac596ab5-0048-4b3f-8d50-e3405644f8f8",
   "metadata": {},
   "source": [
    "This was used as a postprocessing step after using item-knn for candidate generation. Was not able to get good results."
   ]
  },
  {
   "cell_type": "code",
   "execution_count": 7,
   "id": "272d92ab-e737-4b6b-b27c-65ec71047b29",
   "metadata": {},
   "outputs": [],
   "source": [
    "# train = train_data.generate_dataframe()\n",
    "# X_train = train[['app_id', 'user_id']]\n",
    "# y_train = train['is_recommended'].to_numpy()\n",
    "\n",
    "# X_train = X_train.sort_values(by='user_id')\n",
    "# counts = X_train['user_id'].value_counts(sort=False)\n",
    "# X_train = X_train[['app_id']]"
   ]
  },
  {
   "cell_type": "code",
   "execution_count": 8,
   "id": "f460d47b-e26d-4fe3-80e3-38af037c4c1d",
   "metadata": {},
   "outputs": [],
   "source": [
    "# ranker = LGBMRanker(n_estimators=300, random_state=42, objective='lambdarank')\n",
    "# ranker = ranker.fit(X_train, y_train, group = counts.values, categorical_feature=['app_id'],\n",
    "#                     eval_set=[(X_train, y_train)], eval_group=[counts.values], \n",
    "#                     eval_at=20)"
   ]
  },
  {
   "cell_type": "markdown",
   "id": "19eabdaf-e7ae-406f-adfa-73217bd74e25",
   "metadata": {},
   "source": [
    "## Training SVD"
   ]
  },
  {
   "cell_type": "code",
   "execution_count": 9,
   "id": "5cb4b4a6-76ca-4200-8e02-53c6bf30ab6e",
   "metadata": {},
   "outputs": [
    {
     "name": "stdout",
     "output_type": "stream",
     "text": [
      "Epoch 0/Training loss: 0.3849008052116189/Validation loss: 0.3604221025715285/Time: 44.76 seconds\n",
      "Epoch 1/Training loss: 0.3797320456289584/Validation loss: 0.3571666761641172/Time: 40.95 seconds\n",
      "Epoch 2/Training loss: 0.3761635482283195/Validation loss: 0.35594422637642237/Time: 41.15 seconds\n",
      "Epoch 3/Training loss: 0.37311058196721475/Validation loss: 0.35495172299452/Time: 41.15 seconds\n",
      "Epoch 4/Training loss: 0.3703595660580059/Validation loss: 0.35398852253806845/Time: 40.88 seconds\n",
      "Epoch 5/Training loss: 0.3678390878936521/Validation loss: 0.3533061619242304/Time: 40.91 seconds\n",
      "Epoch 6/Training loss: 0.36536800297881367/Validation loss: 0.35254271500044226/Time: 42.65 seconds\n",
      "Epoch 7/Training loss: 0.3631282145521661/Validation loss: 0.3519279643449978/Time: 41.35 seconds\n",
      "Epoch 8/Training loss: 0.36090462390284983/Validation loss: 0.3513142132427469/Time: 41.14 seconds\n",
      "Epoch 9/Training loss: 0.35878805117680423/Validation loss: 0.350777938247923/Time: 41.41 seconds\n",
      "Epoch 10/Training loss: 0.35681766833188283/Validation loss: 0.3502078207831078/Time: 40.78 seconds\n",
      "Epoch 11/Training loss: 0.3548628828033978/Validation loss: 0.349501686484099/Time: 40.87 seconds\n",
      "Epoch 12/Training loss: 0.352951916435115/Validation loss: 0.348987792458245/Time: 40.9 seconds\n",
      "Epoch 13/Training loss: 0.35116426548474255/Validation loss: 0.3484929619916566/Time: 41.14 seconds\n",
      "Epoch 14/Training loss: 0.3494313372663273/Validation loss: 0.34785415765037425/Time: 40.89 seconds\n"
     ]
    },
    {
     "data": {
      "image/png": "[encoded data removed]",
      "text/plain": [
       "<Figure size 640x480 with 1 Axes>"
      ]
     },
     "metadata": {},
     "output_type": "display_data"
    },
    {
     "name": "stdout",
     "output_type": "stream",
     "text": [
      "Validation rmse 0.3239615889166525\n"
     ]
    }
   ],
   "source": [
    "# for pruned, epoch: 30, lr:0.01, reg:0.02, k=50\n",
    "# for pruned, epoch: 60, lr:0.01, reg:0.02, k=80\n",
    "\n",
    "EPOCHS = 80\n",
    "\n",
    "random.seed(42)\n",
    "np.random.seed(42)\n",
    "\n",
    "# # Fit and predict with svd\n",
    "# svd_predictor = RatingSVD(\n",
    "#     train_data.get_num_users(), train_data.get_num_items(), 2, k=10, \n",
    "#     learning_rate=0.001, C=0.02)\n",
    "# svd_predictor.fit(train_data.get_matrix(), EPOCHS, validation_set=val, early_stop=False)\n",
    "svd_predictor = LogisticSVD(\n",
    "    train_data.get_num_users(), train_data.get_num_items(), 2, k=100, \n",
    "    learning_rate=0.01, C=0.02)\n",
    "svd_predictor.fit(train_data.get_matrix(), EPOCHS, validation_set=val, early_stop=False)\n",
    "\n",
    "# Plot error\n",
    "errors = svd_predictor.get_train_errors()\n",
    "val_errors = svd_predictor.get_val_errors()\n",
    "plt.plot(range(len(errors)), errors, label='Training loss')\n",
    "plt.plot(range(len(val_errors)), val_errors, label='Test loss')\n",
    "plt.xlabel('Epoch')\n",
    "plt.ylabel('Error')\n",
    "plt.title('Error vs Epoch')\n",
    "plt.legend()\n",
    "plt.show()\n",
    "\n",
    "# Compute rmse\n",
    "predictions = svd_predictor.predict_pairs([(user, item) for user, item, _ in val])\n",
    "predictions = [prediction + (val[i][2],) for i, prediction in enumerate(predictions)]\n",
    "metrics = Metrics()\n",
    "rmse = metrics.rmse(predictions)\n",
    "print(\"Validation rmse\", rmse)"
   ]
  },
  {
   "cell_type": "markdown",
   "id": "e93bee4f-c214-4263-a466-4947ed23a770",
   "metadata": {},
   "source": [
    "We can now continue to train if we believe the model is still underfitting."
   ]
  },
  {
   "cell_type": "code",
   "execution_count": 22,
   "id": "943c101b-d3af-4b57-93b9-869686587c0b",
   "metadata": {
    "tags": []
   },
   "outputs": [
    {
     "name": "stdout",
     "output_type": "stream",
     "text": [
      "Epoch 0/Training loss: 0.26055184857243413/Validation loss: 0.33215441910028165/Time: 44.19 seconds\n",
      "Epoch 1/Training loss: 0.2581570649997859/Validation loss: 0.33202368043776737/Time: 42.78 seconds\n",
      "Epoch 2/Training loss: 0.2557909336251658/Validation loss: 0.33196996961358505/Time: 42.38 seconds\n",
      "Epoch 3/Training loss: 0.2533850241725807/Validation loss: 0.33177209013049774/Time: 42.48 seconds\n",
      "Epoch 4/Training loss: 0.25096388039230744/Validation loss: 0.3316669577551104/Time: 42.41 seconds\n",
      "Epoch 5/Training loss: 0.2485737576702542/Validation loss: 0.331544816333337/Time: 42.42 seconds\n",
      "Epoch 6/Training loss: 0.24619801961460253/Validation loss: 0.3314634192147364/Time: 43.48 seconds\n",
      "Epoch 7/Training loss: 0.24378503357788725/Validation loss: 0.33133048452665775/Time: 42.88 seconds\n",
      "Epoch 8/Training loss: 0.24137541072430388/Validation loss: 0.33119491046044364/Time: 47.26 seconds\n",
      "Epoch 9/Training loss: 0.23907285892763863/Validation loss: 0.33121503068976077/Time: 57.65 seconds\n"
     ]
    }
   ],
   "source": [
    "svd_predictor.continue_fit(10, early_stop=False)"
   ]
  },
  {
   "cell_type": "code",
   "execution_count": 23,
   "id": "01ba5dcd-24cd-4b78-b882-62414ddc9266",
   "metadata": {},
   "outputs": [
    {
     "data": {
      "image/png": "[encoded data removed]",
      "text/plain": [
       "<Figure size 640x480 with 1 Axes>"
      ]
     },
     "metadata": {},
     "output_type": "display_data"
    },
    {
     "name": "stdout",
     "output_type": "stream",
     "text": [
      "Test rmse 0.31582896856524795\n"
     ]
    }
   ],
   "source": [
    "# Plot error\n",
    "errors = svd_predictor.get_train_errors()\n",
    "val_errors = svd_predictor.get_val_errors()\n",
    "plt.plot(range(len(errors)), errors, label='Training error')\n",
    "plt.plot(range(len(val_errors)), val_errors, label='Test error')\n",
    "plt.xlabel('Epoch')\n",
    "plt.ylabel('Error')\n",
    "plt.title('Error vs Epoch')\n",
    "plt.legend()\n",
    "plt.show()\n",
    "\n",
    "# Compute rmse\n",
    "predictions = svd_predictor.predict_pairs([(user, item) for user, item, _ in val])\n",
    "predictions = [prediction + (val[i][2],) for i, prediction in enumerate(predictions)]\n",
    "metrics = Metrics()\n",
    "rmse = metrics.rmse(predictions)\n",
    "print(\"Test rmse\", rmse)"
   ]
  },
  {
   "cell_type": "markdown",
   "id": "eab76d16-333f-47d2-9fe9-7c6ee891533f",
   "metadata": {},
   "source": [
    "We compute similarities for item-knn."
   ]
  },
  {
   "cell_type": "code",
   "execution_count": null,
   "id": "357a8cf6-fd71-4ea3-b90a-f6dd3ff944a8",
   "metadata": {},
   "outputs": [
    {
     "name": "stdout",
     "output_type": "stream",
     "text": [
      "Computing similarities...\n",
      "Upto row 0\n"
     ]
    }
   ],
   "source": [
    "svd_predictor.compute_sims()"
   ]
  },
  {
   "cell_type": "markdown",
   "id": "f7734567-9d7a-48be-96a6-90b0d0ab5ed2",
   "metadata": {},
   "source": [
    "## Preparing for Production"
   ]
  },
  {
   "cell_type": "code",
   "execution_count": null,
   "id": "d04afbad-e0a1-4581-9b07-fede8f20af03",
   "metadata": {},
   "outputs": [],
   "source": [
    "svd_predictor.prep_for_item_knn()\n"
   ]
  },
  {
   "cell_type": "markdown",
   "id": "82e3cd3f-7857-4dfa-ab53-998eb6383fe4",
   "metadata": {},
   "source": [
    "## Saving the model"
   ]
  },
  {
   "cell_type": "code",
   "execution_count": 24,
   "id": "b664f8ce-2bcf-4bc2-8e25-51fee4d447fc",
   "metadata": {},
   "outputs": [
    {
     "name": "stdout",
     "output_type": "stream",
     "text": [
      "Saving model...\n",
      "Done saving model.\n"
     ]
    }
   ],
   "source": [
    "# Ensure file exists\n",
    "model_dir = model_dir = \"saved_models/{}-{}-{}-{}-{}-{}_{}\".format(\n",
    "    *(time.localtime()[:6] + (round(rmse, 4), ))).replace(\".\", \"-\") + \".pkl\" \n",
    "file = open(model_dir, 'a')\n",
    "file.close()\n",
    "\n",
    "# Save model\n",
    "print(\"Saving model...\")\n",
    "with open(model_dir, 'wb') as file:\n",
    "    pickle.dump([train_data, svd_predictor], file)\n",
    "print(\"Done saving model.\")"
   ]
  },
  {
   "cell_type": "markdown",
   "id": "c87713d2-dde8-4914-bbfa-4ecc35026e7d",
   "metadata": {},
   "source": [
    "## Tests"
   ]
  },
  {
   "cell_type": "code",
   "execution_count": 2,
   "id": "4a7b2b6c-8ffd-4ec7-8f4e-34e2b0b4b75d",
   "metadata": {},
   "outputs": [],
   "source": [
    "with open('saved_models/2023-7-8-12-15-13_0-37.pkl', 'rb') as file:\n",
    "    train_data, svd_predictor = pickle.load(file)"
   ]
  },
  {
   "cell_type": "markdown",
   "id": "0e48ab10-867a-46a3-9747-6ed959f69227",
   "metadata": {},
   "source": [
    "### Testing Rerank"
   ]
  },
  {
   "cell_type": "code",
   "execution_count": 10,
   "id": "2b4a3c0b-13ab-4d1c-86c8-31201d89f254",
   "metadata": {},
   "outputs": [],
   "source": [
    "# data.search_title('forza')"
   ]
  },
  {
   "cell_type": "code",
   "execution_count": 11,
   "id": "95e7e697-071d-4912-aa5a-11e180fe76dd",
   "metadata": {},
   "outputs": [],
   "source": [
    "# filtered = svd_predictor.items_top_n([(286, 1)])\n",
    "# app_ids = []\n",
    "# for item_index in filtered:\n",
    "#     app_ids.append(data.index_to_item_id(item_index))\n",
    "# df = pd.DataFrame({'app_id': app_ids})\n",
    "# predictions = ranker.predict(df)\n",
    "# df['relevance'] = predictions\n",
    "# df.head()\n",
    "# df = df.sort_values(by='relevance', ascending=False)\n",
    "# df.head()"
   ]
  },
  {
   "cell_type": "code",
   "execution_count": 12,
   "id": "d950c6e3-540c-466a-b484-6014326a2ad9",
   "metadata": {},
   "outputs": [],
   "source": [
    "# pprint([[data.index_to_title(data.item_id_to_index(i)) for _, i, _ in df.itertuples()]][0][:20])"
   ]
  },
  {
   "cell_type": "markdown",
   "id": "016d8055-1b91-413a-a7d4-bd887a37dfd1",
   "metadata": {},
   "source": [
    "### Testing Performance"
   ]
  },
  {
   "cell_type": "code",
   "execution_count": null,
   "id": "ee197e75-6462-463c-84fa-2293e9e865f3",
   "metadata": {},
   "outputs": [],
   "source": [
    "start_time = time.time()\n",
    "print(\"Computing recall...\")\n",
    "svd_predictor.compute_recall(val)\n",
    "print(\"Done computing recall in\", time.time() - start_time, \"seconds\")"
   ]
  },
  {
   "cell_type": "code",
   "execution_count": 11,
   "id": "e7d2169e-1031-4913-8aad-125cb1ebbe00",
   "metadata": {},
   "outputs": [
    {
     "data": {
      "text/plain": [
       "[('Call of Duty: World at War', 612),\n",
       " (\"Forest Legends: The Call of Love Collector's Edition\", 1377),\n",
       " ('Call of Duty® 4: Modern Warfare®', 530),\n",
       " ('Call of Duty®: Modern Warfare® 2 (2009)', 649),\n",
       " ('Call of Duty®: WWII', 867),\n",
       " ('theHunter: Call of the Wild™', 69),\n",
       " ('Call of Duty®: Black Ops III', 235),\n",
       " ('Call of Duty®: Black Ops', 517),\n",
       " ('S.T.A.L.K.E.R.: Call of Pripyat', 719),\n",
       " ('The Callisto Protocol™', 118),\n",
       " ('Call of Duty®: Infinite Warfare', 778),\n",
       " ('Call of Duty®: Black Ops II', 848),\n",
       " ('Call to Arms - Gates of Hell: Ostfront', 1085),\n",
       " ('Call to Arms', 1055),\n",
       " ('Call of Juarez: Gunslinger', 510),\n",
       " ('Call of Duty®: Modern Warfare® II', 28),\n",
       " ('Call of the Wild: The Angler™', 605),\n",
       " ('Call of Duty®: Modern Warfare® 3', 573),\n",
       " ('Call of Duty®: Advanced Warfare - Gold Edition', 1120)]"
      ]
     },
     "execution_count": 11,
     "metadata": {},
     "output_type": "execute_result"
    }
   ],
   "source": [
    "train_data.search_title('call')"
   ]
  },
  {
   "cell_type": "code",
   "execution_count": 14,
   "id": "a225937b-fc43-418b-bd28-efa4cf56b1b4",
   "metadata": {},
   "outputs": [
    {
     "name": "stdout",
     "output_type": "stream",
     "text": [
      "[(0.31919805788322353, 'Disney Princess: My Fairytale Adventure'),\n",
      " (0.31482037342062313, 'The Last Wizard'),\n",
      " (0.3146955018206333, 'RuneScape ®'),\n",
      " (0.30499141758494425, 'Get In The Car Loser!'),\n",
      " (0.3028254144699418, 'Kingdom Two Crowns'),\n",
      " (0.29852658924847986, 'PokerStars VR'),\n",
      " (0.2977899220999424, 'Sable'),\n",
      " (0.2946157731845478, 'Rust'),\n",
      " (0.29185394044662594, 'OVR Toolkit'),\n",
      " (0.288641998677187, 'Lil Gator Game')]\n"
     ]
    }
   ],
   "source": [
    "top = svd_predictor.items_knn([(573, 1)], n=1)\n",
    "pprint([(sim, train_data.index_to_title(index)) for sim, index in top])"
   ]
  },
  {
   "cell_type": "code",
   "execution_count": 13,
   "id": "177ca5e8-65a4-4e7f-a014-47762b969736",
   "metadata": {},
   "outputs": [
    {
     "data": {
      "text/plain": [
       "0.9472438167803995"
      ]
     },
     "execution_count": 13,
     "metadata": {},
     "output_type": "execute_result"
    }
   ],
   "source": [
    "svd_predictor._user_features[0, :]\n",
    "svd_predictor._item_features[1066, :]\n",
    "np.max(svd_predictor._user_biases)\n",
    "np.max(svd_predictor._item_biases)\n",
    "# np.max(svd_predictor._item_features)"
   ]
  },
  {
   "cell_type": "code",
   "execution_count": 26,
   "id": "6ab5770d-962b-47b1-9b82-74feac83f214",
   "metadata": {},
   "outputs": [
    {
     "name": "stdout",
     "output_type": "stream",
     "text": [
      "Predicted top n:\n",
      "[402, 819, 1008, 369, 2013, 1820, 1566, 901, 437, 1665]\n",
      "[(0.9983270563864977, 'Portal 2'),\n",
      " (0.9973533935754233, 'A Hat in Time'),\n",
      " (0.9970579636288595, 'Lil Gator Game'),\n",
      " (0.9966652461261196, 'Terraria'),\n",
      " (0.9966148110408145, 'Thief™ II: The Metal Age'),\n",
      " (0.9964096640258538, 'Dogs Organized Neatly'),\n",
      " (0.9954031355165291, 'DOOM (1993)'),\n",
      " (0.9949438052100903, 'Sizeable'),\n",
      " (0.9945179877727448, 'OMORI'),\n",
      " (0.9945048413637746, 'Mafia II (Classic)')]\n",
      "True top n:\n",
      "['Vampire Survivors',\n",
      " 'Call of Duty®: Modern Warfare® II',\n",
      " 'Borderlands 3',\n",
      " 'Left 4 Dead 2']\n"
     ]
    }
   ],
   "source": [
    "j = 1\n",
    "\n",
    "# Test top-n list for user j\n",
    "top_n = svd_predictor.top_n(j, 10)\n",
    "print(\"Predicted top n:\")\n",
    "pprint([index for r, index in top_n])\n",
    "pprint([(r, train_data.index_to_title(index)) for r, index in top_n])\n",
    "\n",
    "# User j true top n list\n",
    "print(\"True top n:\")\n",
    "true_top = train_data.top_n(j, 5000)\n",
    "pprint([train_data.index_to_title(index) for _, index in true_top])"
   ]
  },
  {
   "cell_type": "code",
   "execution_count": null,
   "id": "8f39bc02-a788-46a0-8f11-156cade2be99",
   "metadata": {},
   "outputs": [],
   "source": [
    "# values, bins = np.histogram(svd_predictor._user_features[0, :])\n",
    "# plt.stairs(values, bins)\n",
    "# plt.show()"
   ]
  },
  {
   "cell_type": "code",
   "execution_count": 46,
   "id": "4a9be427-4b26-4189-9eed-02e98e23056c",
   "metadata": {},
   "outputs": [
    {
     "data": {
      "text/plain": [
       "[('Gunpoint', 1066)]"
      ]
     },
     "execution_count": 46,
     "metadata": {},
     "output_type": "execute_result"
    }
   ],
   "source": [
    "train_data.search_title('GunPoint')"
   ]
  },
  {
   "cell_type": "code",
   "execution_count": 21,
   "id": "af7c7b3d-f089-454c-8892-52d633e70b9b",
   "metadata": {},
   "outputs": [
    {
     "name": "stdout",
     "output_type": "stream",
     "text": [
      "[(147, 'The Elder Scrolls V: Skyrim Special Edition', 1),\n",
      " (325, 'Slay the Spire', 1)]\n"
     ]
    }
   ],
   "source": [
    "prefs = [(147, 1), (325, 1)]\n",
    "# prefs = [(5, 1), (229, 1), (966, 0)]\n",
    "pprint([(index, train_data.index_to_title(index), pref) for index, pref in prefs])\n",
    "prefs = train_data.create_prefs(prefs)    "
   ]
  },
  {
   "cell_type": "code",
   "execution_count": 22,
   "id": "2b516899-5ff8-4cbc-abc0-fd9d7a78cb5d",
   "metadata": {},
   "outputs": [
    {
     "name": "stdout",
     "output_type": "stream",
     "text": [
      "Epoch 0/Time: 6.88 seconds\n",
      "Completed partial fit in 7.875029563903809 seconds\n"
     ]
    }
   ],
   "source": [
    "epochs = 1\n",
    "\n",
    "start_time = time.time()\n",
    "svd_predictor.partial_fit(prefs, epochs=epochs)\n",
    "print(\"Completed partial fit in\", time.time() - start_time, \"seconds\")"
   ]
  },
  {
   "cell_type": "code",
   "execution_count": 28,
   "id": "4e10eed0-deb4-440a-92e8-eb12c7a96b97",
   "metadata": {},
   "outputs": [
    {
     "name": "stdout",
     "output_type": "stream",
     "text": [
      "Predicted top n\n",
      "[(0.9987608146858127, 'Portal 2'),\n",
      " (0.9969967969293526, 'A Hat in Time'),\n",
      " (0.9952055750129399, 'Terraria'),\n",
      " (0.9939231456186107, 'Thief™ II: The Metal Age'),\n",
      " (0.9938464256065681, 'Lil Gator Game'),\n",
      " (0.9936272229187082, 'Mafia II (Classic)'),\n",
      " (0.9934598331074666, 'POSTAL 2'),\n",
      " (0.9909451404418662, 'Monolith'),\n",
      " (0.9907963903985133, 'Choice of Robots'),\n",
      " (0.9907266718244505, 'Bastion')]\n"
     ]
    }
   ],
   "source": [
    "top_n = svd_predictor.top_n(svd_predictor._num_users - 1, 10)\n",
    "print(\"Predicted top n\")\n",
    "pprint([(r, train_data.index_to_title(index)) for r, index in top_n])"
   ]
  },
  {
   "cell_type": "code",
   "execution_count": null,
   "id": "3ed80d3c-1901-4404-a237-edea0ddc01a1",
   "metadata": {},
   "outputs": [],
   "source": []
  },
  {
   "cell_type": "code",
   "execution_count": null,
   "id": "41364ee8-1570-49b6-8810-ca327149bf40",
   "metadata": {},
   "outputs": [],
   "source": []
  }
 ],
 "metadata": {
  "kernelspec": {
   "display_name": "Python 3 (ipykernel)",
   "language": "python",
   "name": "python3"
  },
  "language_info": {
   "codemirror_mode": {
    "name": "ipython",
    "version": 3
   },
   "file_extension": ".py",
   "mimetype": "text/x-python",
   "name": "python",
   "nbconvert_exporter": "python",
   "pygments_lexer": "ipython3",
   "version": "3.9.16"
  }
 },
 "nbformat": 4,
 "nbformat_minor": 5
}
