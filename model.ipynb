{
 "cells": [
  {
   "cell_type": "markdown",
   "id": "a8554b74-824d-4dd9-9159-38c6fc305828",
   "metadata": {},
   "source": [
    "# Modelling"
   ]
  },
  {
   "cell_type": "code",
   "execution_count": null,
   "id": "cfd28a59-588e-47cc-ab61-bb9e8674854a",
   "metadata": {},
   "outputs": [],
   "source": [
    "%reset"
   ]
  },
  {
   "cell_type": "code",
   "execution_count": 1,
   "id": "2b35e932-407e-4160-878a-1547e900cce9",
   "metadata": {},
   "outputs": [],
   "source": [
    "import numpy as np\n",
    "from scipy.sparse import csr_array, lil_array\n",
    "import matplotlib.pyplot as plt\n",
    "import pandas as pd\n",
    "import math\n",
    "import pickle\n",
    "import time\n",
    "import datetime\n",
    "import random\n",
    "from pprint import pprint\n",
    "from lightgbm import LGBMRanker\n",
    "from sklearn.model_selection import train_test_split\n",
    "\n",
    "from SVD import Metrics, RatingSVD, LogisticSVD\n",
    "from RecData import RecData"
   ]
  },
  {
   "cell_type": "markdown",
   "id": "5e68c45e-13f9-4979-b916-34cec1db601d",
   "metadata": {},
   "source": [
    "## Data Preprocessing"
   ]
  },
  {
   "cell_type": "code",
   "execution_count": 2,
   "id": "86929969-e5de-468e-b024-80cf550c6e8f",
   "metadata": {},
   "outputs": [
    {
     "name": "stdout",
     "output_type": "stream",
     "text": [
      "Shape: (1482464, 3)\n"
     ]
    },
    {
     "data": {
      "text/html": [
       "<div>\n",
       "<style scoped>\n",
       "    .dataframe tbody tr th:only-of-type {\n",
       "        vertical-align: middle;\n",
       "    }\n",
       "\n",
       "    .dataframe tbody tr th {\n",
       "        vertical-align: top;\n",
       "    }\n",
       "\n",
       "    .dataframe thead th {\n",
       "        text-align: right;\n",
       "    }\n",
       "</style>\n",
       "<table border=\"1\" class=\"dataframe\">\n",
       "  <thead>\n",
       "    <tr style=\"text-align: right;\">\n",
       "      <th></th>\n",
       "      <th>app_id</th>\n",
       "      <th>is_recommended</th>\n",
       "      <th>user_id</th>\n",
       "    </tr>\n",
       "  </thead>\n",
       "  <tbody>\n",
       "    <tr>\n",
       "      <th>420790</th>\n",
       "      <td>12210</td>\n",
       "      <td>True</td>\n",
       "      <td>240</td>\n",
       "    </tr>\n",
       "    <tr>\n",
       "      <th>675882</th>\n",
       "      <td>22380</td>\n",
       "      <td>True</td>\n",
       "      <td>240</td>\n",
       "    </tr>\n",
       "    <tr>\n",
       "      <th>246231</th>\n",
       "      <td>239140</td>\n",
       "      <td>True</td>\n",
       "      <td>240</td>\n",
       "    </tr>\n",
       "    <tr>\n",
       "      <th>539676</th>\n",
       "      <td>251570</td>\n",
       "      <td>True</td>\n",
       "      <td>240</td>\n",
       "    </tr>\n",
       "    <tr>\n",
       "      <th>521289</th>\n",
       "      <td>270880</td>\n",
       "      <td>True</td>\n",
       "      <td>240</td>\n",
       "    </tr>\n",
       "  </tbody>\n",
       "</table>\n",
       "</div>"
      ],
      "text/plain": [
       "        app_id  is_recommended  user_id\n",
       "420790   12210            True      240\n",
       "675882   22380            True      240\n",
       "246231  239140            True      240\n",
       "539676  251570            True      240\n",
       "521289  270880            True      240"
      ]
     },
     "execution_count": 2,
     "metadata": {},
     "output_type": "execute_result"
    }
   ],
   "source": [
    "# recs = pd.read_csv('data/recommendations.csv')\n",
    "# recs = pd.read_csv('data/pruned.csv')\n",
    "# recs = pd.read_csv('data/2plus.csv')\n",
    "recs = pd.read_csv('data/full_pruned.csv')\n",
    "\n",
    "# recs = recs[:5]\n",
    "\n",
    "\n",
    "recs = recs.sort_values(by='timestamp')\n",
    "recs = recs.drop_duplicates(subset=['user_id', 'app_id'], keep='last')\n",
    "\n",
    "USED_COLS = ['app_id', 'is_recommended', 'user_id']\n",
    "recs = recs[USED_COLS]\n",
    "\n",
    "item_data = pd.read_csv('data/games.csv')\n",
    "titles = item_data[['app_id', 'title']]\n",
    "\n",
    "print(\"Shape:\", recs.shape)\n",
    "recs.sort_values(by=['user_id', 'app_id']).head()\n"
   ]
  },
  {
   "cell_type": "code",
   "execution_count": 3,
   "id": "78f0adeb-df3b-4750-b1f5-91c115d6238e",
   "metadata": {},
   "outputs": [],
   "source": [
    "# random.seed(42)\n",
    "# np.random.seed(42)\n",
    "\n",
    "# rec_data = RecData()\n",
    "# rec_data.create_from_dataframe(recs)\n",
    "# rec_data.set_titles(titles)\n",
    "\n",
    "# # del recs\n",
    "\n",
    "# start_time = time.time()\n",
    "# print(\"Creating splits...\")\n",
    "# train_data, test = rec_data.train_test_split(test_size=0.2)\n",
    "# print(\"First split done.\")\n",
    "# train_data, val = train_data.train_test_split(test_size=0.2)\n",
    "# print(\"Done creating splits in\", time.time() - start_time, \"seconds\")"
   ]
  },
  {
   "cell_type": "code",
   "execution_count": 4,
   "id": "41d0fdf6-2dff-4196-b2ad-a7f4c4de981c",
   "metadata": {
    "tags": []
   },
   "outputs": [
    {
     "name": "stdout",
     "output_type": "stream",
     "text": [
      "Creating utility matrix...\n",
      "Done utility matrix.\n",
      "Creating splits...\n",
      "Done user 1 / 63175\n",
      "Done user 10001 / 63175\n",
      "Done user 20001 / 63175\n"
     ]
    },
    {
     "ename": "KeyboardInterrupt",
     "evalue": "",
     "output_type": "error",
     "traceback": [
      "\u001b[1;31m---------------------------------------------------------------------------\u001b[0m",
      "\u001b[1;31mKeyboardInterrupt\u001b[0m                         Traceback (most recent call last)",
      "Cell \u001b[1;32mIn[4], line 10\u001b[0m\n\u001b[0;32m      7\u001b[0m \u001b[39m# del recs\u001b[39;00m\n\u001b[0;32m      9\u001b[0m \u001b[39mprint\u001b[39m(\u001b[39m\"\u001b[39m\u001b[39mCreating splits...\u001b[39m\u001b[39m\"\u001b[39m)\n\u001b[1;32m---> 10\u001b[0m train_data, val \u001b[39m=\u001b[39m rec_data\u001b[39m.\u001b[39mleave_k_out_split(k\u001b[39m=\u001b[39m\u001b[39m1\u001b[39m, create_val\u001b[39m=\u001b[39m\u001b[39mFalse\u001b[39;00m)\n\u001b[0;32m     11\u001b[0m \u001b[39mprint\u001b[39m(\u001b[39m\"\u001b[39m\u001b[39mDone creating splits.\u001b[39m\u001b[39m\"\u001b[39m)\n",
      "File \u001b[1;32mc:\\Users\\mitch\\Files\\GitHub\\game-rec\\RecData.py:73\u001b[0m, in \u001b[0;36mRecData.leave_k_out_split\u001b[1;34m(self, k, create_val)\u001b[0m\n\u001b[0;32m     71\u001b[0m possible_indices \u001b[39m=\u001b[39m \u001b[39mself\u001b[39m\u001b[39m.\u001b[39m_M[[user], :]\u001b[39m.\u001b[39mnonzero()[\u001b[39m1\u001b[39m]\n\u001b[0;32m     72\u001b[0m \u001b[39mif\u001b[39;00m \u001b[39mlen\u001b[39m(possible_indices) \u001b[39m>\u001b[39m k:\n\u001b[1;32m---> 73\u001b[0m     left_out \u001b[39m=\u001b[39m np\u001b[39m.\u001b[39mrandom\u001b[39m.\u001b[39mchoice(possible_indices, k, replace\u001b[39m=\u001b[39m\u001b[39mFalse\u001b[39;00m)\n\u001b[0;32m     74\u001b[0m     \u001b[39mfor\u001b[39;00m item \u001b[39min\u001b[39;00m left_out:\n\u001b[0;32m     75\u001b[0m         M_prime[user, item] \u001b[39m=\u001b[39m \u001b[39m0\u001b[39m\n",
      "\u001b[1;31mKeyboardInterrupt\u001b[0m: "
     ]
    }
   ],
   "source": [
    "random.seed(42)\n",
    "np.random.seed(42)\n",
    "rec_data = RecData()\n",
    "rec_data.create_from_dataframe(recs)\n",
    "rec_data.set_titles(titles)\n",
    "\n",
    "# del recs\n",
    "\n",
    "print(\"Creating splits...\")\n",
    "train_data, val = rec_data.leave_k_out_split(k=1, create_val=False)\n",
    "print(\"Done creating splits.\")"
   ]
  },
  {
   "cell_type": "code",
   "execution_count": null,
   "id": "55f5d9d9-039c-485f-abf7-e8cc5448cedb",
   "metadata": {},
   "outputs": [],
   "source": [
    "del rec_data\n",
    "del item_data\n",
    "del titles"
   ]
  },
  {
   "cell_type": "markdown",
   "id": "6210ec68-3810-4694-9a42-956ba7be0b73",
   "metadata": {},
   "source": [
    "## Ranker"
   ]
  },
  {
   "cell_type": "markdown",
   "id": "ac596ab5-0048-4b3f-8d50-e3405644f8f8",
   "metadata": {},
   "source": [
    "This was used as a postprocessing step after using item-knn for candidate generation. Was not able to get good results."
   ]
  },
  {
   "cell_type": "code",
   "execution_count": null,
   "id": "272d92ab-e737-4b6b-b27c-65ec71047b29",
   "metadata": {},
   "outputs": [],
   "source": [
    "# train = train_data.generate_dataframe()\n",
    "# X_train = train[['app_id', 'user_id']]\n",
    "# y_train = train['is_recommended'].to_numpy()\n",
    "\n",
    "# X_train = X_train.sort_values(by='user_id')\n",
    "# counts = X_train['user_id'].value_counts(sort=False)\n",
    "# X_train = X_train[['app_id']]"
   ]
  },
  {
   "cell_type": "code",
   "execution_count": null,
   "id": "f460d47b-e26d-4fe3-80e3-38af037c4c1d",
   "metadata": {},
   "outputs": [],
   "source": [
    "# ranker = LGBMRanker(n_estimators=300, random_state=42, objective='lambdarank')\n",
    "# ranker = ranker.fit(X_train, y_train, group = counts.values, categorical_feature=['app_id'],\n",
    "#                     eval_set=[(X_train, y_train)], eval_group=[counts.values], \n",
    "#                     eval_at=20)"
   ]
  },
  {
   "cell_type": "markdown",
   "id": "19eabdaf-e7ae-406f-adfa-73217bd74e25",
   "metadata": {},
   "source": [
    "## Training SVD"
   ]
  },
  {
   "cell_type": "code",
   "execution_count": null,
   "id": "5cb4b4a6-76ca-4200-8e02-53c6bf30ab6e",
   "metadata": {},
   "outputs": [],
   "source": [
    "# for pruned, epoch: 80, lr:0.01, reg:0.02, k=100\n",
    "# for 2plus, epoch: 80, lr:0.01, reg:0.02, k=100\n",
    "\n",
    "random.seed(42)\n",
    "np.random.seed(42)\n",
    "\n",
    "# Fit and predict with svd\n",
    "svd_predictor = RatingSVD(\n",
    "    train_data.get_num_users(), train_data.get_num_items(), 2, k=100, \n",
    "    learning_rate=0.001, C=0.02)\n",
    "svd_predictor.fit(train_data.get_matrix(), 50, validation_set=val, early_stop=False)\n",
    "# svd_predictor = LogisticSVD(\n",
    "#     train_data.get_num_users(), train_data.get_num_items(), 2, k=100, \n",
    "#     learning_rate=0.01, C=0.04)\n",
    "# svd_predictor.fit(train_data.get_matrix(), 40, validation_set=val, early_stop=False)\n",
    "\n",
    "# Plot error\n",
    "errors = svd_predictor.get_train_errors()\n",
    "val_errors = svd_predictor.get_val_errors()\n",
    "plt.plot(range(len(errors)), errors, label='Training loss')\n",
    "plt.plot(range(len(val_errors)), val_errors, label='Test loss')\n",
    "plt.xlabel('Epoch')\n",
    "plt.ylabel('Error')\n",
    "plt.title('Error vs Epoch')\n",
    "plt.legend()\n",
    "plt.show()\n",
    "\n",
    "# Compute rmse\n",
    "predictions = svd_predictor.predict_pairs([(user, item) for user, item, _ in val])\n",
    "predictions = [prediction + (val[i][2],) for i, prediction in enumerate(predictions)]\n",
    "metrics = Metrics()\n",
    "rmse = metrics.rmse(predictions)\n",
    "print(\"Validation rmse\", rmse)"
   ]
  },
  {
   "cell_type": "markdown",
   "id": "e93bee4f-c214-4263-a466-4947ed23a770",
   "metadata": {},
   "source": [
    "We can now continue to train if we believe the model is still underfitting."
   ]
  },
  {
   "cell_type": "code",
   "execution_count": null,
   "id": "943c101b-d3af-4b57-93b9-869686587c0b",
   "metadata": {
    "tags": []
   },
   "outputs": [],
   "source": [
    "svd_predictor.continue_fit(5, early_stop=False)"
   ]
  },
  {
   "cell_type": "code",
   "execution_count": null,
   "id": "01ba5dcd-24cd-4b78-b882-62414ddc9266",
   "metadata": {},
   "outputs": [],
   "source": [
    "# Plot error\n",
    "errors = svd_predictor.get_train_errors()\n",
    "val_errors = svd_predictor.get_val_errors()\n",
    "plt.plot(range(len(errors)), errors, label='Training error')\n",
    "plt.plot(range(len(val_errors)), val_errors, label='Test error')\n",
    "plt.xlabel('Epoch')\n",
    "plt.ylabel('Error')\n",
    "plt.title('Error vs Epoch')\n",
    "plt.legend()\n",
    "plt.show()\n",
    "\n",
    "# Compute rmse\n",
    "predictions = svd_predictor.predict_pairs([(user, item) for user, item, _ in val])\n",
    "predictions = [prediction + (val[i][2],) for i, prediction in enumerate(predictions)]\n",
    "metrics = Metrics()\n",
    "rmse = metrics.rmse(predictions)\n",
    "print(\"Test rmse\", rmse)"
   ]
  },
  {
   "cell_type": "code",
   "execution_count": null,
   "id": "c8ec1dce-b07d-4ec0-bbdb-545031391362",
   "metadata": {},
   "outputs": [],
   "source": [
    "values, edges = np.histogram(svd_predictor._user_features)\n",
    "plt.stairs(values, edges)\n",
    "plt.show()\n",
    "\n",
    "values, edges = np.histogram(svd_predictor._item_features)\n",
    "plt.stairs(values, edges)\n",
    "plt.show()\n",
    "\n",
    "values, edges = np.histogram(svd_predictor._user_biases)\n",
    "plt.stairs(values, edges)\n",
    "plt.show()\n",
    "\n",
    "values, edges = np.histogram(svd_predictor._item_biases)\n",
    "plt.stairs(values, edges)\n",
    "plt.show()"
   ]
  },
  {
   "cell_type": "code",
   "execution_count": null,
   "id": "293c4601-37de-4c7a-953d-5edb71ea3bdb",
   "metadata": {},
   "outputs": [],
   "source": [
    "svd_predictor._item_biases[1539]"
   ]
  },
  {
   "cell_type": "code",
   "execution_count": null,
   "id": "ac8709f0-870e-414d-a58c-2bf1f7ca679a",
   "metadata": {},
   "outputs": [],
   "source": [
    "svd_predictor._user_features[5]"
   ]
  },
  {
   "cell_type": "markdown",
   "id": "eab76d16-333f-47d2-9fe9-7c6ee891533f",
   "metadata": {},
   "source": [
    "We compute similarities for item-knn."
   ]
  },
  {
   "cell_type": "code",
   "execution_count": null,
   "id": "357a8cf6-fd71-4ea3-b90a-f6dd3ff944a8",
   "metadata": {},
   "outputs": [],
   "source": [
    "svd_predictor.compute_sims()"
   ]
  },
  {
   "cell_type": "markdown",
   "id": "f7734567-9d7a-48be-96a6-90b0d0ab5ed2",
   "metadata": {},
   "source": [
    "## Preparing for Production"
   ]
  },
  {
   "cell_type": "code",
   "execution_count": null,
   "id": "d04afbad-e0a1-4581-9b07-fede8f20af03",
   "metadata": {},
   "outputs": [],
   "source": [
    "svd_predictor.prep_for_item_knn()\n",
    "train_data.prep_for_item_knn()"
   ]
  },
  {
   "cell_type": "markdown",
   "id": "82e3cd3f-7857-4dfa-ab53-998eb6383fe4",
   "metadata": {},
   "source": [
    "## Saving the model"
   ]
  },
  {
   "cell_type": "code",
   "execution_count": null,
   "id": "b664f8ce-2bcf-4bc2-8e25-51fee4d447fc",
   "metadata": {},
   "outputs": [],
   "source": [
    "# Ensure file exists\n",
    "model_dir = model_dir = \"saved_models/{}-{}-{}-{}-{}-{}_{}\".format(\n",
    "    *(time.localtime()[:6] + (round(rmse, 4), ))).replace(\".\", \"-\") + \".pkl\" \n",
    "file = open(model_dir, 'a')\n",
    "file.close()\n",
    "\n",
    "# Save model\n",
    "print(\"Saving model...\")\n",
    "with open(model_dir, 'wb') as file:\n",
    "    pickle.dump([train_data, svd_predictor], file)\n",
    "print(\"Done saving model.\")"
   ]
  },
  {
   "cell_type": "markdown",
   "id": "c87713d2-dde8-4914-bbfa-4ecc35026e7d",
   "metadata": {},
   "source": [
    "## Tests"
   ]
  },
  {
   "cell_type": "code",
   "execution_count": null,
   "id": "4a7b2b6c-8ffd-4ec7-8f4e-34e2b0b4b75d",
   "metadata": {},
   "outputs": [],
   "source": [
    "with open('saved_models/2023-7-8-12-15-13_0-37.pkl', 'rb') as file:\n",
    "    train_data, svd_predictor = pickle.load(file)"
   ]
  },
  {
   "cell_type": "markdown",
   "id": "0e48ab10-867a-46a3-9747-6ed959f69227",
   "metadata": {},
   "source": [
    "### Testing Rerank"
   ]
  },
  {
   "cell_type": "code",
   "execution_count": null,
   "id": "2b4a3c0b-13ab-4d1c-86c8-31201d89f254",
   "metadata": {},
   "outputs": [],
   "source": [
    "# data.search_title('forza')"
   ]
  },
  {
   "cell_type": "code",
   "execution_count": null,
   "id": "95e7e697-071d-4912-aa5a-11e180fe76dd",
   "metadata": {},
   "outputs": [],
   "source": [
    "# filtered = svd_predictor.items_top_n([(286, 1)])\n",
    "# app_ids = []\n",
    "# for item_index in filtered:\n",
    "#     app_ids.append(data.index_to_item_id(item_index))\n",
    "# df = pd.DataFrame({'app_id': app_ids})\n",
    "# predictions = ranker.predict(df)\n",
    "# df['relevance'] = predictions\n",
    "# df.head()\n",
    "# df = df.sort_values(by='relevance', ascending=False)\n",
    "# df.head()"
   ]
  },
  {
   "cell_type": "code",
   "execution_count": null,
   "id": "d950c6e3-540c-466a-b484-6014326a2ad9",
   "metadata": {},
   "outputs": [],
   "source": [
    "# pprint([[data.index_to_title(data.item_id_to_index(i)) for _, i, _ in df.itertuples()]][0][:20])"
   ]
  },
  {
   "cell_type": "markdown",
   "id": "016d8055-1b91-413a-a7d4-bd887a37dfd1",
   "metadata": {},
   "source": [
    "### Testing Performance"
   ]
  },
  {
   "cell_type": "markdown",
   "id": "88dfe817-1562-40fd-937e-9af562edb283",
   "metadata": {},
   "source": [
    "Checking recall."
   ]
  },
  {
   "cell_type": "code",
   "execution_count": null,
   "id": "ee197e75-6462-463c-84fa-2293e9e865f3",
   "metadata": {},
   "outputs": [],
   "source": [
    "start_time = time.time()\n",
    "print(\"Computing recall...\")\n",
    "svd_predictor.compute_recall(val)\n",
    "print(\"Done computing recall in\", time.time() - start_time, \"seconds\")"
   ]
  },
  {
   "cell_type": "markdown",
   "id": "05865fa9-d901-49f5-87e0-537095f21d06",
   "metadata": {},
   "source": [
    "Checking item-based knn."
   ]
  },
  {
   "cell_type": "code",
   "execution_count": null,
   "id": "e7d2169e-1031-4913-8aad-125cb1ebbe00",
   "metadata": {},
   "outputs": [],
   "source": [
    "train_data.search_title('turing')"
   ]
  },
  {
   "cell_type": "code",
   "execution_count": null,
   "id": "a225937b-fc43-418b-bd28-efa4cf56b1b4",
   "metadata": {},
   "outputs": [],
   "source": [
    "top = svd_predictor.items_knn([(0, 1)], n=10)\n",
    "pprint([(sim, train_data.index_to_title(index)) for sim, index in top])"
   ]
  },
  {
   "cell_type": "markdown",
   "id": "bb3e6fc7-58bb-4b49-b242-83d19b8af856",
   "metadata": {},
   "source": [
    "Checking collaborative filtering."
   ]
  },
  {
   "cell_type": "code",
   "execution_count": null,
   "id": "94608c30-3d42-4734-86a0-556d074549c7",
   "metadata": {},
   "outputs": [],
   "source": [
    "svd_predictor._mu"
   ]
  },
  {
   "cell_type": "code",
   "execution_count": null,
   "id": "6ab5770d-962b-47b1-9b82-74feac83f214",
   "metadata": {},
   "outputs": [],
   "source": [
    "j = 400\n",
    "\n",
    "# Test top-n list for user j\n",
    "top_n = svd_predictor.top_n(j, 1000, remove_bias=False)\n",
    "print(\"Predicted top n:\")\n",
    "print(top_n[:10])\n",
    "pprint([index for r, index in top_n][0])\n",
    "pprint([(r, train_data.index_to_title(index)) for r, index in top_n][:10])\n",
    "\n",
    "# User j true top n list\n",
    "print(\"True top n:\")\n",
    "true_top = train_data.top_n(j, 5000)\n",
    "pprint([train_data.index_to_title(index) for _, index in true_top])"
   ]
  },
  {
   "cell_type": "markdown",
   "id": "88625dc2-2bda-4eff-872a-63523bcba4d0",
   "metadata": {},
   "source": [
    "## Item KNN"
   ]
  },
  {
   "cell_type": "code",
   "execution_count": 8,
   "id": "a2ebf0ff-fb25-4e8a-9441-d75c2aefa1f1",
   "metadata": {},
   "outputs": [],
   "source": [
    "from KNN import ItemKNN"
   ]
  },
  {
   "cell_type": "code",
   "execution_count": null,
   "id": "2fd61a1a-8b16-4060-91fd-9bcbbf9dcbee",
   "metadata": {},
   "outputs": [],
   "source": [
    "knn = ItemKNN(k=40, mean_centered=True)\n",
    "knn.fit(train_data.get_matrix())"
   ]
  },
  {
   "cell_type": "code",
   "execution_count": 17,
   "id": "09c5f4a2",
   "metadata": {},
   "outputs": [
    {
     "data": {
      "text/plain": [
       "[('Pixel Puzzles 2: Space', 272),\n",
       " ('Pixel Survivors : Roguelike', 818),\n",
       " ('McPixel 3', 668)]"
      ]
     },
     "execution_count": 17,
     "metadata": {},
     "output_type": "execute_result"
    }
   ],
   "source": [
    "train_data.search_title('pixel')"
   ]
  },
  {
   "cell_type": "code",
   "execution_count": 18,
   "id": "6e482b1c-e5ac-4f10-b1d1-7c1508c82829",
   "metadata": {},
   "outputs": [
    {
     "name": "stdout",
     "output_type": "stream",
     "text": [
      "[(1.0, 18),\n",
      " (1.0, 138),\n",
      " (1.0, 203),\n",
      " (1.0, 213),\n",
      " (1.0, 230),\n",
      " (1.0, 256),\n",
      " (1.0, 265),\n",
      " (1.0, 333),\n",
      " (1.0, 362),\n",
      " (1.0, 388)]\n",
      "['Coral Island',\n",
      " 'STALCRAFT',\n",
      " 'BONELAB',\n",
      " 'Made in Abyss: Binary Star Falling into Darkness',\n",
      " 'Forts',\n",
      " 'BLUE REFLECTION: Second Light',\n",
      " 'SIGNALIS',\n",
      " 'MELTY BLOOD: TYPE LUMINA',\n",
      " 'Tower of Fantasy',\n",
      " 'Sphinx and the Cursed Mummy']\n"
     ]
    }
   ],
   "source": [
    "prefs = train_data.create_prefs([(278, 1), (0, 0), (577, 1), (272, 0)])\n",
    "top = knn.top_n(13, 10, prefs=prefs)\n",
    "pprint(top)\n",
    "pprint([train_data.index_to_title(i) for r, i in top])"
   ]
  },
  {
   "cell_type": "code",
   "execution_count": 32,
   "id": "52ac05be",
   "metadata": {},
   "outputs": [
    {
     "data": {
      "text/plain": [
       "1.614065180102916"
      ]
     },
     "execution_count": 32,
     "metadata": {},
     "output_type": "execute_result"
    }
   ],
   "source": [
    "knn._item_means[800]"
   ]
  },
  {
   "cell_type": "code",
   "execution_count": 35,
   "id": "8960ccfb",
   "metadata": {},
   "outputs": [
    {
     "name": "stdout",
     "output_type": "stream",
     "text": [
      "Saving model...\n",
      "Done saving model.\n"
     ]
    }
   ],
   "source": [
    "# Ensure file exists\n",
    "model_dir = \"saved_models/knn/sim1.pkl\" \n",
    "file = open(model_dir, 'a')\n",
    "file.close()\n",
    "\n",
    "# Save model\n",
    "print(\"Saving model...\")\n",
    "with open(model_dir, 'wb') as file:\n",
    "    pickle.dump([train_data, knn._sims, dict(knn._item_means)], file)\n",
    "print(\"Done saving model.\")"
   ]
  },
  {
   "cell_type": "code",
   "execution_count": 9,
   "id": "de699086",
   "metadata": {},
   "outputs": [
    {
     "name": "stderr",
     "output_type": "stream",
     "text": [
      "C:\\Users\\mitch\\AppData\\Local\\Temp\\ipykernel_24508\\2972409351.py:6: NumbaDeprecationWarning: \u001b[1mThe 'nopython' keyword argument was not supplied to the 'numba.jit' decorator. The implicit default value for this argument is currently False, but it will be changed to True in Numba 0.59.0. See https://numba.readthedocs.io/en/stable/reference/deprecation.html#deprecation-of-object-mode-fall-back-behaviour-when-using-jit for details.\u001b[0m\n",
      "  @jit\n",
      "c:\\Users\\mitch\\anaconda3\\envs\\game-rec\\Lib\\site-packages\\numba\\core\\object_mode_passes.py:151: NumbaWarning: \u001b[1mFunction \"make_dict\" was compiled in object mode without forceobj=True.\n",
      "\u001b[1m\n",
      "File \"..\\..\\..\\AppData\\Local\\Temp\\ipykernel_24508\\2972409351.py\", line 6:\u001b[0m\n",
      "\u001b[1m<source missing, REPL/exec in use?>\u001b[0m\n",
      "\u001b[0m\n",
      "  warnings.warn(errors.NumbaWarning(warn_msg,\n",
      "c:\\Users\\mitch\\anaconda3\\envs\\game-rec\\Lib\\site-packages\\numba\\core\\object_mode_passes.py:161: NumbaDeprecationWarning: \u001b[1m\n",
      "Fall-back from the nopython compilation path to the object mode compilation path has been detected. This is deprecated behaviour that will be removed in Numba 0.59.0.\n",
      "\n",
      "For more information visit https://numba.readthedocs.io/en/stable/reference/deprecation.html#deprecation-of-object-mode-fall-back-behaviour-when-using-jit\n",
      "\u001b[1m\n",
      "File \"..\\..\\..\\AppData\\Local\\Temp\\ipykernel_24508\\2972409351.py\", line 6:\u001b[0m\n",
      "\u001b[1m<source missing, REPL/exec in use?>\u001b[0m\n",
      "\u001b[0m\n",
      "  warnings.warn(errors.NumbaDeprecationWarning(msg,\n"
     ]
    }
   ],
   "source": [
    "import numba as nb\n",
    "from numba import jit\n",
    "from KNN import ItemKNN\n",
    "\n",
    "model_dir = \"saved_models/knn/sim1.pkl\" \n",
    "\n",
    "with open(model_dir, 'rb') as file:\n",
    "    train_data, sims, means = pickle.load(file)\n",
    "\n",
    "@jit\n",
    "def make_dict(items):\n",
    "    return {k: v for k,v in items}\n",
    "\n",
    "means_prime = make_dict(tuple(means.items()))\n",
    "knn = ItemKNN(k=40, mean_centered=True)\n",
    "knn._sims = sims\n",
    "knn._item_means = means_prime\n",
    "knn._M = train_data.get_matrix()\n",
    "knn._num_users, knn._num_items = train_data.get_matrix().shape\n"
   ]
  },
  {
   "cell_type": "code",
   "execution_count": null,
   "id": "55a93ded",
   "metadata": {},
   "outputs": [],
   "source": []
  }
 ],
 "metadata": {
  "kernelspec": {
   "display_name": "Python 3 (ipykernel)",
   "language": "python",
   "name": "python3"
  },
  "language_info": {
   "codemirror_mode": {
    "name": "ipython",
    "version": 3
   },
   "file_extension": ".py",
   "mimetype": "text/x-python",
   "name": "python",
   "nbconvert_exporter": "python",
   "pygments_lexer": "ipython3",
   "version": "3.11.4"
  }
 },
 "nbformat": 4,
 "nbformat_minor": 5
}
