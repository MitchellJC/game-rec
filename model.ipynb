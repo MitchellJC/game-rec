{
 "cells": [
  {
   "cell_type": "markdown",
   "id": "e583c5e1-2e3b-4558-b34e-7f5b2b467724",
   "metadata": {},
   "source": [
    "# Model"
   ]
  },
  {
   "cell_type": "code",
   "execution_count": 33,
   "id": "97439d14-bd86-4505-8968-fe7d286f2f03",
   "metadata": {},
   "outputs": [
    {
     "name": "stdin",
     "output_type": "stream",
     "text": [
      "Once deleted, variables cannot be recovered. Proceed (y/[n])?  y\n"
     ]
    }
   ],
   "source": [
    "%reset"
   ]
  },
  {
   "cell_type": "code",
   "execution_count": 1,
   "id": "ed3e0a64-0c57-41f9-8141-2624c74aaf0e",
   "metadata": {},
   "outputs": [],
   "source": [
    "import numpy as np\n",
    "from scipy.sparse import csr_matrix\n",
    "from scipy.sparse import lil_matrix\n",
    "import matplotlib.pyplot as plt\n",
    "import pandas as pd\n",
    "import math"
   ]
  },
  {
   "cell_type": "markdown",
   "id": "dd546f85-23a8-41c1-a0f4-5b3718d42dde",
   "metadata": {},
   "source": [
    "## Data Preprocessing"
   ]
  },
  {
   "cell_type": "code",
   "execution_count": 2,
   "id": "34f58a11-b2f4-4520-b664-0a2bc14ec749",
   "metadata": {},
   "outputs": [],
   "source": [
    "recs = pd.read_csv('data/pruned.csv')"
   ]
  },
  {
   "cell_type": "code",
   "execution_count": 3,
   "id": "b690ac29-ad5d-4465-9384-875d91432446",
   "metadata": {},
   "outputs": [
    {
     "data": {
      "text/html": [
       "<div>\n",
       "<style scoped>\n",
       "    .dataframe tbody tr th:only-of-type {\n",
       "        vertical-align: middle;\n",
       "    }\n",
       "\n",
       "    .dataframe tbody tr th {\n",
       "        vertical-align: top;\n",
       "    }\n",
       "\n",
       "    .dataframe thead th {\n",
       "        text-align: right;\n",
       "    }\n",
       "</style>\n",
       "<table border=\"1\" class=\"dataframe\">\n",
       "  <thead>\n",
       "    <tr style=\"text-align: right;\">\n",
       "      <th></th>\n",
       "      <th>app_id</th>\n",
       "      <th>helpful</th>\n",
       "      <th>funny</th>\n",
       "      <th>date</th>\n",
       "      <th>is_recommended</th>\n",
       "      <th>hours</th>\n",
       "      <th>user_id</th>\n",
       "      <th>review_id</th>\n",
       "    </tr>\n",
       "  </thead>\n",
       "  <tbody>\n",
       "    <tr>\n",
       "      <th>0</th>\n",
       "      <td>534380</td>\n",
       "      <td>0</td>\n",
       "      <td>0</td>\n",
       "      <td>2022-10-08</td>\n",
       "      <td>True</td>\n",
       "      <td>40.6</td>\n",
       "      <td>10531</td>\n",
       "      <td>22</td>\n",
       "    </tr>\n",
       "    <tr>\n",
       "      <th>1</th>\n",
       "      <td>42700</td>\n",
       "      <td>6</td>\n",
       "      <td>2</td>\n",
       "      <td>2019-10-19</td>\n",
       "      <td>False</td>\n",
       "      <td>5.9</td>\n",
       "      <td>185293</td>\n",
       "      <td>27</td>\n",
       "    </tr>\n",
       "    <tr>\n",
       "      <th>2</th>\n",
       "      <td>602960</td>\n",
       "      <td>0</td>\n",
       "      <td>0</td>\n",
       "      <td>2022-01-05</td>\n",
       "      <td>True</td>\n",
       "      <td>41.9</td>\n",
       "      <td>319249</td>\n",
       "      <td>58</td>\n",
       "    </tr>\n",
       "    <tr>\n",
       "      <th>3</th>\n",
       "      <td>976730</td>\n",
       "      <td>0</td>\n",
       "      <td>0</td>\n",
       "      <td>2021-11-25</td>\n",
       "      <td>False</td>\n",
       "      <td>21.1</td>\n",
       "      <td>747545</td>\n",
       "      <td>67</td>\n",
       "    </tr>\n",
       "    <tr>\n",
       "      <th>4</th>\n",
       "      <td>1091500</td>\n",
       "      <td>2</td>\n",
       "      <td>0</td>\n",
       "      <td>2022-10-30</td>\n",
       "      <td>True</td>\n",
       "      <td>18.1</td>\n",
       "      <td>2113544</td>\n",
       "      <td>127</td>\n",
       "    </tr>\n",
       "  </tbody>\n",
       "</table>\n",
       "</div>"
      ],
      "text/plain": [
       "    app_id  helpful  funny        date  is_recommended  hours  user_id  \\\n",
       "0   534380        0      0  2022-10-08            True   40.6    10531   \n",
       "1    42700        6      2  2019-10-19           False    5.9   185293   \n",
       "2   602960        0      0  2022-01-05            True   41.9   319249   \n",
       "3   976730        0      0  2021-11-25           False   21.1   747545   \n",
       "4  1091500        2      0  2022-10-30            True   18.1  2113544   \n",
       "\n",
       "   review_id  \n",
       "0         22  \n",
       "1         27  \n",
       "2         58  \n",
       "3         67  \n",
       "4        127  "
      ]
     },
     "execution_count": 3,
     "metadata": {},
     "output_type": "execute_result"
    }
   ],
   "source": [
    "recs.head()"
   ]
  },
  {
   "cell_type": "code",
   "execution_count": 4,
   "id": "5f8d14a4-3d9f-4fed-aa85-924fe34449f0",
   "metadata": {},
   "outputs": [
    {
     "data": {
      "text/html": [
       "<div>\n",
       "<style scoped>\n",
       "    .dataframe tbody tr th:only-of-type {\n",
       "        vertical-align: middle;\n",
       "    }\n",
       "\n",
       "    .dataframe tbody tr th {\n",
       "        vertical-align: top;\n",
       "    }\n",
       "\n",
       "    .dataframe thead th {\n",
       "        text-align: right;\n",
       "    }\n",
       "</style>\n",
       "<table border=\"1\" class=\"dataframe\">\n",
       "  <thead>\n",
       "    <tr style=\"text-align: right;\">\n",
       "      <th></th>\n",
       "      <th>app_id</th>\n",
       "      <th>is_recommended</th>\n",
       "      <th>user_id</th>\n",
       "    </tr>\n",
       "  </thead>\n",
       "  <tbody>\n",
       "    <tr>\n",
       "      <th>0</th>\n",
       "      <td>534380</td>\n",
       "      <td>True</td>\n",
       "      <td>10531</td>\n",
       "    </tr>\n",
       "    <tr>\n",
       "      <th>1</th>\n",
       "      <td>42700</td>\n",
       "      <td>False</td>\n",
       "      <td>185293</td>\n",
       "    </tr>\n",
       "    <tr>\n",
       "      <th>2</th>\n",
       "      <td>602960</td>\n",
       "      <td>True</td>\n",
       "      <td>319249</td>\n",
       "    </tr>\n",
       "    <tr>\n",
       "      <th>3</th>\n",
       "      <td>976730</td>\n",
       "      <td>False</td>\n",
       "      <td>747545</td>\n",
       "    </tr>\n",
       "    <tr>\n",
       "      <th>4</th>\n",
       "      <td>1091500</td>\n",
       "      <td>True</td>\n",
       "      <td>2113544</td>\n",
       "    </tr>\n",
       "  </tbody>\n",
       "</table>\n",
       "</div>"
      ],
      "text/plain": [
       "    app_id  is_recommended  user_id\n",
       "0   534380            True    10531\n",
       "1    42700           False   185293\n",
       "2   602960            True   319249\n",
       "3   976730           False   747545\n",
       "4  1091500            True  2113544"
      ]
     },
     "execution_count": 4,
     "metadata": {},
     "output_type": "execute_result"
    }
   ],
   "source": [
    "USED_COLS = ['app_id', 'is_recommended', 'user_id']\n",
    "\n",
    "recs = recs[USED_COLS]\n",
    "recs.head()"
   ]
  },
  {
   "cell_type": "code",
   "execution_count": 5,
   "id": "3f171f80-7c03-4116-8eee-964b788576d4",
   "metadata": {},
   "outputs": [
    {
     "data": {
      "text/html": [
       "<div>\n",
       "<style scoped>\n",
       "    .dataframe tbody tr th:only-of-type {\n",
       "        vertical-align: middle;\n",
       "    }\n",
       "\n",
       "    .dataframe tbody tr th {\n",
       "        vertical-align: top;\n",
       "    }\n",
       "\n",
       "    .dataframe thead th {\n",
       "        text-align: right;\n",
       "    }\n",
       "</style>\n",
       "<table border=\"1\" class=\"dataframe\">\n",
       "  <thead>\n",
       "    <tr style=\"text-align: right;\">\n",
       "      <th></th>\n",
       "      <th>app_id</th>\n",
       "      <th>title</th>\n",
       "      <th>date_release</th>\n",
       "      <th>win</th>\n",
       "      <th>mac</th>\n",
       "      <th>linux</th>\n",
       "      <th>rating</th>\n",
       "      <th>positive_ratio</th>\n",
       "      <th>user_reviews</th>\n",
       "      <th>price_final</th>\n",
       "      <th>price_original</th>\n",
       "      <th>discount</th>\n",
       "      <th>steam_deck</th>\n",
       "    </tr>\n",
       "  </thead>\n",
       "  <tbody>\n",
       "    <tr>\n",
       "      <th>0</th>\n",
       "      <td>10090</td>\n",
       "      <td>Call of Duty: World at War</td>\n",
       "      <td>2008-11-18</td>\n",
       "      <td>True</td>\n",
       "      <td>False</td>\n",
       "      <td>False</td>\n",
       "      <td>Very Positive</td>\n",
       "      <td>92</td>\n",
       "      <td>37039</td>\n",
       "      <td>19.99</td>\n",
       "      <td>19.99</td>\n",
       "      <td>0.0</td>\n",
       "      <td>True</td>\n",
       "    </tr>\n",
       "    <tr>\n",
       "      <th>1</th>\n",
       "      <td>13500</td>\n",
       "      <td>Prince of Persia: Warrior Within™</td>\n",
       "      <td>2008-11-21</td>\n",
       "      <td>True</td>\n",
       "      <td>False</td>\n",
       "      <td>False</td>\n",
       "      <td>Very Positive</td>\n",
       "      <td>84</td>\n",
       "      <td>2199</td>\n",
       "      <td>9.99</td>\n",
       "      <td>9.99</td>\n",
       "      <td>0.0</td>\n",
       "      <td>True</td>\n",
       "    </tr>\n",
       "    <tr>\n",
       "      <th>2</th>\n",
       "      <td>22364</td>\n",
       "      <td>BRINK: Agents of Change</td>\n",
       "      <td>2011-08-03</td>\n",
       "      <td>True</td>\n",
       "      <td>False</td>\n",
       "      <td>False</td>\n",
       "      <td>Positive</td>\n",
       "      <td>85</td>\n",
       "      <td>21</td>\n",
       "      <td>2.99</td>\n",
       "      <td>2.99</td>\n",
       "      <td>0.0</td>\n",
       "      <td>True</td>\n",
       "    </tr>\n",
       "    <tr>\n",
       "      <th>3</th>\n",
       "      <td>113020</td>\n",
       "      <td>Monaco: What's Yours Is Mine</td>\n",
       "      <td>2013-04-24</td>\n",
       "      <td>True</td>\n",
       "      <td>True</td>\n",
       "      <td>True</td>\n",
       "      <td>Very Positive</td>\n",
       "      <td>92</td>\n",
       "      <td>3722</td>\n",
       "      <td>14.99</td>\n",
       "      <td>14.99</td>\n",
       "      <td>0.0</td>\n",
       "      <td>True</td>\n",
       "    </tr>\n",
       "    <tr>\n",
       "      <th>4</th>\n",
       "      <td>226560</td>\n",
       "      <td>Escape Dead Island</td>\n",
       "      <td>2014-11-18</td>\n",
       "      <td>True</td>\n",
       "      <td>False</td>\n",
       "      <td>False</td>\n",
       "      <td>Mixed</td>\n",
       "      <td>61</td>\n",
       "      <td>873</td>\n",
       "      <td>14.99</td>\n",
       "      <td>14.99</td>\n",
       "      <td>0.0</td>\n",
       "      <td>True</td>\n",
       "    </tr>\n",
       "  </tbody>\n",
       "</table>\n",
       "</div>"
      ],
      "text/plain": [
       "   app_id                              title date_release   win    mac  linux  \\\n",
       "0   10090         Call of Duty: World at War   2008-11-18  True  False  False   \n",
       "1   13500  Prince of Persia: Warrior Within™   2008-11-21  True  False  False   \n",
       "2   22364            BRINK: Agents of Change   2011-08-03  True  False  False   \n",
       "3  113020       Monaco: What's Yours Is Mine   2013-04-24  True   True   True   \n",
       "4  226560                 Escape Dead Island   2014-11-18  True  False  False   \n",
       "\n",
       "          rating  positive_ratio  user_reviews  price_final  price_original  \\\n",
       "0  Very Positive              92         37039        19.99           19.99   \n",
       "1  Very Positive              84          2199         9.99            9.99   \n",
       "2       Positive              85            21         2.99            2.99   \n",
       "3  Very Positive              92          3722        14.99           14.99   \n",
       "4          Mixed              61           873        14.99           14.99   \n",
       "\n",
       "   discount  steam_deck  \n",
       "0       0.0        True  \n",
       "1       0.0        True  \n",
       "2       0.0        True  \n",
       "3       0.0        True  \n",
       "4       0.0        True  "
      ]
     },
     "execution_count": 5,
     "metadata": {},
     "output_type": "execute_result"
    }
   ],
   "source": [
    "item_data = pd.read_csv('data/games.csv')\n",
    "item_data.head()"
   ]
  },
  {
   "cell_type": "code",
   "execution_count": 6,
   "id": "67a849a5-d101-4f01-b4bd-aaa79a228cfb",
   "metadata": {},
   "outputs": [],
   "source": [
    "titles = item_data[['app_id', 'title']]"
   ]
  },
  {
   "cell_type": "markdown",
   "id": "400e18cd-593a-4448-b49d-dddaebf35f4f",
   "metadata": {},
   "source": [
    "## Data Class"
   ]
  },
  {
   "cell_type": "code",
   "execution_count": 7,
   "id": "9395652a-3772-4ddb-a11e-6856cf2ced9a",
   "metadata": {},
   "outputs": [],
   "source": [
    "from RecData import RecData"
   ]
  },
  {
   "cell_type": "code",
   "execution_count": 8,
   "id": "ed0cacde-6c23-476d-ab34-2b1d9af564ce",
   "metadata": {},
   "outputs": [],
   "source": [
    "class Metrics:\n",
    "    def rmse(self, predictions):\n",
    "        return math.sqrt(sum((prediction - true_rating)**2 for _, _, prediction, true_rating in predictions)/len(predictions))"
   ]
  },
  {
   "cell_type": "code",
   "execution_count": 9,
   "id": "6d9e4fc3-22f1-43cc-b190-0ff57ff1d53b",
   "metadata": {},
   "outputs": [
    {
     "name": "stdout",
     "output_type": "stream",
     "text": [
      "0\n"
     ]
    }
   ],
   "source": [
    "rec_data = RecData()\n",
    "rec_data.create_from_dataframe(recs)\n",
    "rec_data.set_titles(titles)"
   ]
  },
  {
   "cell_type": "code",
   "execution_count": 10,
   "id": "ce114c94-de54-4f3f-81f4-4d03a001050e",
   "metadata": {},
   "outputs": [],
   "source": [
    "train_data, test = rec_data.leave_k_out_split()"
   ]
  },
  {
   "cell_type": "markdown",
   "id": "a2bd22fc-0d88-4b72-a081-b07d4093c234",
   "metadata": {},
   "source": [
    "## Simple Model"
   ]
  },
  {
   "cell_type": "code",
   "execution_count": 11,
   "id": "97b19e96-db33-471f-8368-78842723265b",
   "metadata": {},
   "outputs": [],
   "source": [
    "def item_averages(M):\n",
    "    # Division by 0 -> no data for item -> predict average of all items\n",
    "    with np.errstate(invalid='ignore'):\n",
    "        # Take item averages\n",
    "        averages = (np.sum(M.toarray(), axis=0)/np.count_nonzero(M.toarray(), axis=0))\n",
    "\n",
    "        # Fill na with averages over all items\n",
    "        averages = np.nan_to_num(averages, nan=np.nanmean(averages))\n",
    "    return averages"
   ]
  },
  {
   "cell_type": "code",
   "execution_count": 12,
   "id": "52fb74f5-c587-4f7c-8f47-923ae154cb12",
   "metadata": {},
   "outputs": [],
   "source": [
    "class AveragePredictor:\n",
    "    \"\"\"Simple model which always predicts the average value of an item.\"\"\"\n",
    "    def fit(self, M):\n",
    "        self._averages = item_averages(M)\n",
    "        \n",
    "    def predict(self, pairs):\n",
    "        \"\"\"Parameters:\n",
    "        pairs - user-item pairs to predict\"\"\"\n",
    "        predictions = []\n",
    "        for user, item in pairs:\n",
    "            predictions.append((user, item, self._averages[item]))\n",
    "\n",
    "        return predictions"
   ]
  },
  {
   "cell_type": "code",
   "execution_count": 13,
   "id": "2fb10fdc-6a82-4973-9881-cee456e5fa73",
   "metadata": {},
   "outputs": [],
   "source": [
    "predictor = AveragePredictor()\n",
    "predictor.fit(train_data.get_matrix())"
   ]
  },
  {
   "cell_type": "code",
   "execution_count": 14,
   "id": "5e4f3c4f-05d4-44b2-83d2-ca797eaa01f4",
   "metadata": {},
   "outputs": [
    {
     "data": {
      "text/plain": [
       "0.18585447065319666"
      ]
     },
     "execution_count": 14,
     "metadata": {},
     "output_type": "execute_result"
    }
   ],
   "source": [
    "predictions = predictor.predict([(user, item) for user, item, _ in test])\n",
    "predictions = [prediction + (test[i][2],) for i, prediction in enumerate(predictions)]\n",
    "metrics = Metrics()\n",
    "metrics.rmse(predictions)"
   ]
  },
  {
   "cell_type": "markdown",
   "id": "1a97d60d-a9b9-4e98-b5c9-bddcb631d7de",
   "metadata": {},
   "source": [
    "## SVD"
   ]
  },
  {
   "cell_type": "code",
   "execution_count": 15,
   "id": "b30c730b-3673-4dc4-8853-e7dfe01caf42",
   "metadata": {},
   "outputs": [],
   "source": [
    "from scipy.sparse.linalg import norm as sparse_norm\n",
    "from collections import defaultdict\n",
    "import time\n",
    "import random\n",
    "\n",
    "class SVDPredictor:\n",
    "    \"\"\"SVD for collaborative filtering\"\"\"\n",
    "    def __init__(self, num_users, num_items, k=100, learning_rate=0.01, epochs=5, C=0.02):\n",
    "        self._num_users = num_users\n",
    "        self._num_items = num_items\n",
    "        \n",
    "        self._k = k\n",
    "        self._learning_rate = learning_rate\n",
    "        self._epochs = epochs\n",
    "        self._C = C\n",
    "        \n",
    "        self._user_features = np.random.normal(size=(self._num_users, self._k), scale=0.01)\n",
    "        self._item_features = np.random.normal(size=(self._num_items, self._k), scale=0.01)\n",
    "        \n",
    "        self._M = None\n",
    "        self._train_errors = None\n",
    "        self._val_errors = None\n",
    "    \n",
    "    def fit(self, M, validation_set=None):\n",
    "        self._M = M\n",
    "        self._train_errors = []\n",
    "        if validation_set:\n",
    "            self._val_errors = []\n",
    "        \n",
    "        users, items = M.nonzero()\n",
    "        num_samples = len(users)\n",
    "        mask = (M != 0)\n",
    "        \n",
    "        for epoch in range(self._epochs):\n",
    "            start_time = time.time()\n",
    "            \n",
    "            for i in random.sample(range(num_samples), k=num_samples):\n",
    "                user = users[i]\n",
    "                item = items[i]\n",
    "                \n",
    "                diff = self._learning_rate*(M[user, item] - self._user_features[user, :] @ np.transpose(self._item_features[item, :]))\n",
    "                \n",
    "                # Compute user features update\n",
    "                new_user_features = self._user_features[user, :] + diff*self._item_features[item, :]\n",
    "                \n",
    "                # Compute item features update\n",
    "                self._item_features[item, :] += diff*self._user_features[user, :]\n",
    "                \n",
    "                self._user_features[user, :] = new_user_features\n",
    "                \n",
    "            big_diff = M - self._user_features @ np.transpose(self._item_features)\n",
    "            \n",
    "            # Mask to ignore error from missing reviews\n",
    "            error = sparse_norm(mask.multiply(big_diff)) / np.sqrt(num_samples)\n",
    "            self._train_errors.append(error)\n",
    "            \n",
    "            if validation_set:\n",
    "                predictions = self.predict([(user, item) for user, item, _ in validation_set])\n",
    "                predictions = [prediction + (validation_set[i][2],) for i, prediction in enumerate(predictions)]\n",
    "                metrics = Metrics()\n",
    "                val_error = metrics.rmse(predictions)\n",
    "                self._val_errors.append(val_error)\n",
    "            \n",
    "            print(\"Epoch\", epoch, end=\"/\")\n",
    "            print(\"Training error:\", error, end=\"/\")\n",
    "            if validation_set:\n",
    "                print(\"Validation error:\", val_error, end=\"/\")\n",
    "            print(\"Time:\", round(time.time() - start_time, 2), \"seconds\")\n",
    "            \n",
    "    def partial_fit(self, new_sample):\n",
    "        pass\n",
    "            \n",
    "    def top_n(self, user, n=10):\n",
    "        if self._M is None:\n",
    "            raise RuntimeError(\"Please ensure to call fit before generating top n\")\n",
    "        users, items = self._M.nonzero()\n",
    "        \n",
    "        users_rated = []\n",
    "        for i in range(len(users)):\n",
    "            if users[i] == user:\n",
    "                users_rated.append(items[i])\n",
    "        \n",
    "        top = []\n",
    "        for item in range(self._num_items):\n",
    "            # Do not add items for which rating already exists\n",
    "            if item in users_rated:\n",
    "                continue\n",
    "            predicted_rating = self._user_features[user, :] @ np.transpose(self._item_features)[:, item]\n",
    "            \n",
    "            top.append((predicted_rating, item))\n",
    "            top.sort(key=lambda x: x[0], reverse=True)\n",
    "            top = top[:min(n, len(top))]\n",
    "        \n",
    "        return top\n",
    "        \n",
    "    def predict(self, pairs):\n",
    "        predictions = []\n",
    "        for user, item in pairs:\n",
    "            prediction = (self._user_features[user, :] @ np.transpose(self._item_features)[:, item])\n",
    "            predictions.append((user, item, prediction))\n",
    "        \n",
    "        return predictions\n",
    "    \n",
    "    def get_train_errors(self):\n",
    "        return self._train_errors\n",
    "    \n",
    "    def get_val_errors(self):\n",
    "        return self._val_errors"
   ]
  },
  {
   "cell_type": "code",
   "execution_count": 18,
   "id": "9dfac856-435d-443b-807b-daadf187e9b9",
   "metadata": {},
   "outputs": [
    {
     "name": "stdout",
     "output_type": "stream",
     "text": [
      "Epoch 0/Training error: 0.9257250557630107/Validation error: 0.9268782142932812/Time: 33.57 seconds\n",
      "Epoch 1/Training error: 0.923730467414962/Validation error: 0.9252695786904903/Time: 33.98 seconds\n",
      "Epoch 2/Training error: 0.7622326932364593/Validation error: 0.7818775033169088/Time: 34.67 seconds\n",
      "Epoch 3/Training error: 0.4198404629251336/Validation error: 0.42731981716305073/Time: 34.54 seconds\n",
      "Epoch 4/Training error: 0.30302741405038053/Validation error: 0.30628177167120624/Time: 34.83 seconds\n",
      "Epoch 5/Training error: 0.2526809813344348/Validation error: 0.2561634656406779/Time: 34.34 seconds\n",
      "Epoch 6/Training error: 0.22626719742806925/Validation error: 0.23060844415766077/Time: 34.09 seconds\n",
      "Epoch 7/Training error: 0.2105734940422423/Validation error: 0.21563213449785762/Time: 35.26 seconds\n",
      "Epoch 8/Training error: 0.20042464620398998/Validation error: 0.20609424672000742/Time: 34.66 seconds\n",
      "Epoch 9/Training error: 0.1933986772260978/Validation error: 0.19966531434218973/Time: 34.06 seconds\n"
     ]
    },
    {
     "data": {
      "image/png": "[encoded data removed]",
      "text/plain": [
       "<Figure size 640x480 with 1 Axes>"
      ]
     },
     "metadata": {},
     "output_type": "display_data"
    },
    {
     "name": "stdout",
     "output_type": "stream",
     "text": [
      "Test rmse 0.19966531434218973\n",
      "[(1.051046531441257, 158), (1.0506628485274714, 1510), (1.0493107576848582, 280), (1.047370222471623, 1096), (1.0467533854046156, 1828), (1.0457729956055144, 919), (1.0455827016369263, 1364), (1.0454119885197988, 1947), (1.0444138570342738, 776), (1.043954970718199, 1800)]\n",
      "['Gunpoint', 'Mindustry', 'A Hat in Time', 'Outer Wilds', 'Cruelty Squad', 'Psychonauts 2', 'EARTH DEFENSE FORCE 5', 'Neon White', 'DUSK', 'Dyson Sphere Program']\n"
     ]
    }
   ],
   "source": [
    "EPOCHS = 10\n",
    "\n",
    "# Fit and predict with svd\n",
    "svd_predictor = SVDPredictor(train_data.get_num_users(), train_data.get_num_items(), k=10, epochs=EPOCHS, learning_rate=0.01, C=0)\n",
    "svd_predictor.fit(train_data.get_matrix(), validation_set=test)\n",
    "\n",
    "# Plot error\n",
    "errors = svd_predictor.get_train_errors()\n",
    "val_errors = svd_predictor.get_val_errors()\n",
    "plt.plot(range(EPOCHS), errors, label='Training error')\n",
    "plt.plot(range(EPOCHS), val_errors, label='Test error')\n",
    "plt.xlabel('Epoch')\n",
    "plt.ylabel('Error')\n",
    "plt.title('Error vs Epoch')\n",
    "plt.legend()\n",
    "plt.show()\n",
    "\n",
    "# Compute rmse\n",
    "predictions = svd_predictor.predict([(user, item) for user, item, _ in test])\n",
    "predictions = [prediction + (test[i][2],) for i, prediction in enumerate(predictions)]\n",
    "metrics = Metrics()\n",
    "print(\"Test rmse\", metrics.rmse(predictions))\n",
    "\n",
    "# Test top-n list\n",
    "top_n = svd_predictor.top_n(0)\n",
    "print(top_n)\n",
    "print([train_data.index_to_title(index) for _, index in top_n])"
   ]
  },
  {
   "cell_type": "code",
   "execution_count": 19,
   "id": "40d09e89-0a94-4b83-b02d-e4aebe66a2d0",
   "metadata": {},
   "outputs": [
    {
     "name": "stdout",
     "output_type": "stream",
     "text": [
      "['Grand Theft Auto IV: The Complete Edition', 'Fallout: New Vegas', 'Dying Light', '7 Days to Die', 'American Truck Simulator', 'RimWorld', 'DARK SOULS™ II: Scholar of the First Sin', 'Dead Island Definitive Edition', 'DRAGON BALL XENOVERSE 2', 'Satisfactory']\n"
     ]
    }
   ],
   "source": [
    "true_top = rec_data.top_n(0)\n",
    "print([rec_data.index_to_title(index) for _, index in true_top])"
   ]
  },
  {
   "cell_type": "code",
   "execution_count": null,
   "id": "0a863805-233d-420b-9e62-7f991ddcb4da",
   "metadata": {},
   "outputs": [],
   "source": []
  }
 ],
 "metadata": {
  "kernelspec": {
   "display_name": "Python 3 (ipykernel)",
   "language": "python",
   "name": "python3"
  },
  "language_info": {
   "codemirror_mode": {
    "name": "ipython",
    "version": 3
   },
   "file_extension": ".py",
   "mimetype": "text/x-python",
   "name": "python",
   "nbconvert_exporter": "python",
   "pygments_lexer": "ipython3",
   "version": "3.9.16"
  }
 },
 "nbformat": 4,
 "nbformat_minor": 5
}
