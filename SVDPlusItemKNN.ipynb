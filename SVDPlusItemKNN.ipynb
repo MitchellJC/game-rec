{
 "cells": [
  {
   "cell_type": "code",
   "execution_count": 129,
   "id": "ea78ca6c-2c2c-409e-bcb9-7aadb0a5ea75",
   "metadata": {},
   "outputs": [
    {
     "name": "stdin",
     "output_type": "stream",
     "text": [
      "Once deleted, variables cannot be recovered. Proceed (y/[n])?  y\n"
     ]
    }
   ],
   "source": [
    "%reset"
   ]
  },
  {
   "cell_type": "code",
   "execution_count": 130,
   "id": "625dca9d-b4d9-422f-b8f0-780b9d856a8e",
   "metadata": {},
   "outputs": [],
   "source": [
    "import pickle\n",
    "from pprint import pprint\n",
    "from RecData import RecData\n",
    "from SVD import FastLogisticSVD\n",
    "from scipy.sparse import lil_array\n",
    "from sklearn.metrics.pairwise import cosine_similarity\n",
    "import time"
   ]
  },
  {
   "cell_type": "code",
   "execution_count": 132,
   "id": "20a245c3-ca95-452e-aed5-f15c58b86ad7",
   "metadata": {},
   "outputs": [],
   "source": [
    "with open('saved_models/2023-6-29-11-36-31_0-3559.pkl', 'rb') as file:\n",
    "    train_data, svd = pickle.load(file)"
   ]
  },
  {
   "cell_type": "code",
   "execution_count": null,
   "id": "a179d03d-d71a-428a-83d4-19ae0eea2c74",
   "metadata": {},
   "outputs": [],
   "source": [
    "j = 0\n",
    "# Test top-n list for user j\n",
    "top_n = svd.top_n(j, 20)\n",
    "print(\"Predicted top n:\")\n",
    "pprint([(r, train_data.index_to_title(index)) for r, index in top_n])\n",
    "\n",
    "# User j true top n list\n",
    "print(\"True top n:\")\n",
    "true_top = train_data.top_n(j, 5000)\n",
    "pprint([train_data.index_to_title(index) for _, index in true_top])"
   ]
  },
  {
   "cell_type": "code",
   "execution_count": 25,
   "id": "298521df-1830-478f-b6c7-60eb8ed27d55",
   "metadata": {},
   "outputs": [],
   "source": [
    "q = svd._item_features\n",
    "distances = lil_array((q.shape[0], q.shape[0]))"
   ]
  },
  {
   "cell_type": "code",
   "execution_count": 133,
   "id": "8510bce7-6399-4742-a1eb-55472d03efc2",
   "metadata": {},
   "outputs": [
    {
     "ename": "AttributeError",
     "evalue": "'FastLogisticSVD' object has no attribute 'compute_sims'",
     "output_type": "error",
     "traceback": [
      "\u001b[1;31m---------------------------------------------------------------------------\u001b[0m",
      "\u001b[1;31mAttributeError\u001b[0m                            Traceback (most recent call last)",
      "Cell \u001b[1;32mIn[133], line 1\u001b[0m\n\u001b[1;32m----> 1\u001b[0m \u001b[43msvd\u001b[49m\u001b[38;5;241;43m.\u001b[39;49m\u001b[43mcompute_sims\u001b[49m()\n",
      "\u001b[1;31mAttributeError\u001b[0m: 'FastLogisticSVD' object has no attribute 'compute_sims'"
     ]
    }
   ],
   "source": [
    "svd.compute_sims()"
   ]
  },
  {
   "cell_type": "code",
   "execution_count": 37,
   "id": "395b6ca4-3535-443f-a45d-4d7112e363d9",
   "metadata": {},
   "outputs": [
    {
     "name": "stdout",
     "output_type": "stream",
     "text": [
      "Computing similarities...\n",
      "Upto row 0\n",
      "Upto row 200\n",
      "Upto row 400\n",
      "Upto row 600\n",
      "Upto row 800\n",
      "Upto row 1000\n",
      "Upto row 1200\n",
      "Upto row 1400\n",
      "Upto row 1600\n",
      "Upto row 1800\n",
      "Upto row 2000\n",
      "Upto row 2200\n",
      "Done computing similarities in 397.02253437042236 seconds\n"
     ]
    }
   ],
   "source": [
    "start_t = time.time()\n",
    "print(\"Computing similarities...\")\n",
    "for i in range(q.shape[0]):\n",
    "    if i % 200 == 0:\n",
    "        print(\"Upto row\", i)\n",
    "    for j in range(i, q.shape[0]):\n",
    "        distances[i, j] = cosine_similarity(q[[i], :], q[[j], :])\n",
    "print(\"Done computing similarities in\", time.time() - start_t, \"seconds\")"
   ]
  },
  {
   "cell_type": "code",
   "execution_count": 87,
   "id": "2fd47728-299c-468d-ae1c-f0c8fe52e28c",
   "metadata": {},
   "outputs": [],
   "source": [
    "def knn(sims, i, n=10):\n",
    "    top = []\n",
    "    for j in range(sims.shape[0]):\n",
    "        if j == i:\n",
    "            continue     \n",
    "        elif j < i:\n",
    "            sim = sims[j, i]\n",
    "        elif j > i:\n",
    "            sim = sims[i, j]\n",
    "        \n",
    "        top.append((sim, j))\n",
    "        top.sort(reverse=True)\n",
    "        top = top[:n]\n",
    "    return top\n",
    "\n",
    "def many_knn(sims, subjects, n=10):\n",
    "    top = []\n",
    "    for j in range(sims.shape[0]):\n",
    "        total = 0\n",
    "        for i, pref in subjects:\n",
    "            if j == i:\n",
    "                continue     \n",
    "            elif j < i:\n",
    "                sim = sims[j, i]\n",
    "            elif j > i:\n",
    "                sim = sims[i, j]\n",
    "                \n",
    "            if pref == 0:\n",
    "                sim = 1 - sim\n",
    "            \n",
    "            total += sim\n",
    "        \n",
    "        avg = total/len(subjects)\n",
    "        top.append((avg, j))\n",
    "        top.sort(reverse=True)\n",
    "        top = top[:n]\n",
    "    return top\n",
    "    "
   ]
  },
  {
   "cell_type": "code",
   "execution_count": 120,
   "id": "3a5cf7bb-2216-4e74-9e97-415b22352a90",
   "metadata": {},
   "outputs": [
    {
     "data": {
      "text/plain": [
       "[(\"Garry's Mod\", 518)]"
      ]
     },
     "execution_count": 120,
     "metadata": {},
     "output_type": "execute_result"
    }
   ],
   "source": [
    "train_data.search_title('garry')"
   ]
  },
  {
   "cell_type": "code",
   "execution_count": 82,
   "id": "b9f8761a-3c52-4528-bc70-6cd3af6b30fc",
   "metadata": {},
   "outputs": [
    {
     "name": "stdout",
     "output_type": "stream",
     "text": [
      "Forza Horizon 5\n"
     ]
    }
   ],
   "source": [
    "subject = 286\n",
    "print(train_data.index_to_title(subject))\n",
    "top = knn(distances, subject)"
   ]
  },
  {
   "cell_type": "code",
   "execution_count": 83,
   "id": "006b81ac-604a-4911-bfa8-886ae776c045",
   "metadata": {},
   "outputs": [
    {
     "name": "stdout",
     "output_type": "stream",
     "text": [
      "[(0.9394804654801193, 'First Class Trouble'),\n",
      " (0.9390738257725284, 'Construction Simulator'),\n",
      " (0.9388757138886102, 'ONE PIECE World Seeker'),\n",
      " (0.9387790677492647, 'Injustice™ 2'),\n",
      " (0.9381126565121917, 'CarX Drift Racing Online'),\n",
      " (0.9379971983512589, 'Sniper Elite 5'),\n",
      " (0.9376536716630474, 'Dreamfall Chapters'),\n",
      " (0.937325927337768, 'GROUND BRANCH'),\n",
      " (0.937098638443306, 'We Were Here Forever'),\n",
      " (0.9369496971470657, 'WorldBox - God Simulator')]\n"
     ]
    }
   ],
   "source": [
    "pprint([(sim, train_data.index_to_title(index)) for sim, index in top])"
   ]
  },
  {
   "cell_type": "code",
   "execution_count": 96,
   "id": "76c7a6e2-589d-4d56-af50-bd37a06fdc70",
   "metadata": {},
   "outputs": [
    {
     "name": "stdout",
     "output_type": "stream",
     "text": [
      "[(0.7588686574088879, 'Into the Radius VR'),\n",
      " (0.7586831056619872, 'Incredibox'),\n",
      " (0.7574628412318944, 'Raw Data'),\n",
      " (0.7566262426901261, 'Unrailed!'),\n",
      " (0.7563903594939038, 'Ancient Dungeon'),\n",
      " (0.7557003869512007, 'VTOL VR'),\n",
      " (0.7556890685926823, 'Stellaris'),\n",
      " (0.755667119731426, 'SpaceEngine'),\n",
      " (0.7556102022104467, 'ShellShock Live'),\n",
      " (0.7554897018783995, 'Ultimate Chicken Horse')]\n"
     ]
    }
   ],
   "source": [
    "top = many_knn(distances, [(59, 1), (342, 1), (500, 1), (1045, 0), (369, 1)])\n",
    "pprint([(sim, train_data.index_to_title(index)) for sim, index in top])"
   ]
  },
  {
   "cell_type": "code",
   "execution_count": 121,
   "id": "bd5402c2-dff0-40e2-ae06-db268d9f5de9",
   "metadata": {},
   "outputs": [
    {
     "name": "stdout",
     "output_type": "stream",
     "text": [
      "[(0.9573679391179264, 'Portal 2'),\n",
      " (0.9553338852238082, 'Counter-Strike: Source'),\n",
      " (0.9519024146599377, 'Left 4 Dead'),\n",
      " (0.9510782352816002, 'Terraria'),\n",
      " (0.9492291504247882, 'POSTAL 2'),\n",
      " (0.9487868317567478, 'Left 4 Dead 2'),\n",
      " (0.948460726972419, 'Soundpad'),\n",
      " (0.94801523483025, 'Bloons TD 6'),\n",
      " (0.9476275792463073, 'Ninja Kiwi Archive'),\n",
      " (0.9474181740980063, 'Day of Defeat')]\n"
     ]
    }
   ],
   "source": [
    "top = many_knn(distances, [(518, 1)])\n",
    "pprint([(sim, train_data.index_to_title(index)) for sim, index in top])"
   ]
  },
  {
   "cell_type": "code",
   "execution_count": null,
   "id": "37d7eb8e-d0fc-402f-82ae-d745aebce081",
   "metadata": {},
   "outputs": [],
   "source": []
  },
  {
   "cell_type": "code",
   "execution_count": null,
   "id": "29a62262-11a6-4200-a736-bfa0124610c0",
   "metadata": {},
   "outputs": [],
   "source": []
  }
 ],
 "metadata": {
  "kernelspec": {
   "display_name": "Python 3 (ipykernel)",
   "language": "python",
   "name": "python3"
  },
  "language_info": {
   "codemirror_mode": {
    "name": "ipython",
    "version": 3
   },
   "file_extension": ".py",
   "mimetype": "text/x-python",
   "name": "python",
   "nbconvert_exporter": "python",
   "pygments_lexer": "ipython3",
   "version": "3.9.16"
  }
 },
 "nbformat": 4,
 "nbformat_minor": 5
}
